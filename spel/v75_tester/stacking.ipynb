{
 "cells": [
  {
   "cell_type": "markdown",
   "source": [
    "# Try stacking for V75"
   ],
   "metadata": {}
  },
  {
   "cell_type": "code",
   "execution_count": 89,
   "source": [
    "import pandas as pd \r\n",
    "import numpy as np \r\n",
    "from IPython.display import display \r\n",
    "\r\n",
    "from catboost import CatBoostClassifier,Pool, cv, utils \r\n",
    "from sklearn.neighbors import KNeighborsClassifier\r\n",
    "from sklearn.ensemble import RandomForestClassifier,ExtraTreesClassifier\r\n",
    "from sklearn.tree   import DecisionTreeClassifier\r\n"
   ],
   "outputs": [],
   "metadata": {}
  },
  {
   "cell_type": "code",
   "execution_count": 90,
   "source": [
    "\r\n",
    "from sklearn.base import BaseEstimator, TransformerMixin\r\n",
    "from sklearn.pipeline import Pipeline, FeatureUnion, make_pipeline, Pipeline\r\n",
    "from sklearn.impute import SimpleImputer\r\n",
    "\r\n",
    "from sklearn.preprocessing import FunctionTransformer\r\n",
    "from sklearn.preprocessing import OneHotEncoder, MinMaxScaler\r\n",
    "from sklearn.impute import SimpleImputer\r\n",
    "from sklearn.compose import ColumnTransformer, make_column_transformer"
   ],
   "outputs": [],
   "metadata": {}
  },
  {
   "cell_type": "markdown",
   "source": [
    "### ***What to do***:\r\n",
    "- Kör en enkel modell utan 'streck'  \r\n",
    "- kolla om ekipage-nr gör någon skillnad  optimera m\r\n",
    "- kolla om 'avd' göt någon skillnad \r\n",
    "- skapa en flaml-ensemble utan streck\r\n",
    "- Se hu bra denna ensemble är jämfört med 'streck' inkluderat\r\n",
    "- Blir den lika bra som min pipe?\r\n",
    "- Kan  med och utan 'streck' användas tillsammans ?\r\n",
    "  - Man kan ha som innan på den första och proba-order eller f/insats som kriterium för den andra som ju bara skall hitta överraskningar\r\n"
   ],
   "metadata": {}
  },
  {
   "cell_type": "code",
   "execution_count": 91,
   "source": [
    "## byt ut alla NaN till text för cat_features\r\n",
    "def replace_NaN(X_train,X_test=None, cat_features=[]):\r\n",
    "    # print('cat_features',cat_features)\r\n",
    "    X_train[cat_features]=X_train[cat_features].fillna('missing')\r\n",
    "    if X_test is not None:  ## om X_test är med\r\n",
    "        X_test[cat_features]=X_test[cat_features].fillnal('missing')    ### byt ut None-värden till texten 'None\r\n",
    "\r\n",
    "    return X_train,X_test"
   ],
   "outputs": [],
   "metadata": {}
  },
  {
   "cell_type": "code",
   "execution_count": 92,
   "source": [
    "### läs in data och returnera df, alla datum samt index till split-punkt\r\n",
    "def basic_data(df, NaN=True, frac=0.25):\r\n",
    "    X_train,X_test,y_train,y_test = None,None,None,None\r\n",
    "    dfnew = remove_features(df.copy())\r\n",
    "    dfnew['plac'] = (dfnew.plac==1) * 1\r\n",
    "    cat_features = list(dfnew.loc[:,df.dtypes=='O'].columns)\r\n",
    "    if NaN:\r\n",
    "        dfnew,_ = replace_NaN(dfnew.copy(), cat_features=cat_features)    \r\n",
    "    \r\n",
    "    alla_datum = df.datum.unique()\r\n",
    "    split_dat = alla_datum[int(len(alla_datum)* (1 - 0.25))]     # större än split_dat är test\r\n",
    "\r\n",
    "    X_train = dfnew.loc[dfnew.datum <= split_dat].copy()\r\n",
    "    y_train=X_train.plac\r\n",
    "    X_train.drop('plac',axis=1,inplace=True)\r\n",
    "    \r\n",
    "    X_test = dfnew.loc[dfnew.datum > split_dat].copy()\r\n",
    "    y_test=X_test.plac\r\n",
    "    X_test.drop('plac',axis=1,inplace=True)\r\n",
    "    \r\n",
    "    return X_train,X_test, y_train,y_test"
   ],
   "outputs": [],
   "metadata": {}
  },
  {
   "cell_type": "code",
   "execution_count": 93,
   "source": [
    "# df skall innehålla datum,avd,vodds\r\n",
    "def proba_order_score(df_, y,proba):\r\n",
    "    kassa=1000\r\n",
    "    df = df_.copy()\r\n",
    "    df['proba'] = proba[:,1]\r\n",
    "    df['f'] = (df.proba*df.vodds - 1) / (df.vodds-1)  # kelly formel\r\n",
    "    df['spela'] = df.f >0\r\n",
    "    df['insats'] = df.spela * df.f * kassa\r\n",
    "\r\n",
    "    df.sort_values(['datum','avd','proba'],ascending=[True,True,False],inplace=True)\r\n",
    "    proba_order=df.groupby(['datum','avd']).proba.cumcount()\r\n",
    "\r\n",
    "    df['prob_order']=proba_order+1\r\n",
    "    df['y'] = y\r\n",
    "    \r\n",
    "    return df, df.loc[df.y==1].prob_order.mean()   # mean prob_order för vinnarhäst"
   ],
   "outputs": [],
   "metadata": {}
  },
  {
   "cell_type": "code",
   "execution_count": 94,
   "source": [
    "### Features som inte används vid träning\r\n",
    "def remove_features(df,remove_mer=[]):\r\n",
    "    #remove_mer=['h5_perf','h5_auto','h4_perf','h4_auto', 'h3_perf', 'h2_perf']\r\n",
    "    df.drop(['avd','startnr','vodds','podds','bins','h1_dat','h2_dat','h3_dat','h4_dat','h5_dat'],axis=1,inplace=True) #\r\n",
    "    if remove_mer:\r\n",
    "        df.drop(remove_mer,axis=1,inplace=True)\r\n",
    "    \r\n",
    "    # df=check_unique(df.copy())\r\n",
    "    # df=check_corr(df.copy())\r\n",
    "    return df"
   ],
   "outputs": [],
   "metadata": {}
  },
  {
   "cell_type": "markdown",
   "source": [
    "## Bygg min första riktiga Pipeline"
   ],
   "metadata": {}
  },
  {
   "cell_type": "code",
   "execution_count": 95,
   "source": [
    "# Set a smooth mean value to the features in X_train  ##\r\n",
    "def calc_smooth_mean(X, y, by, m=100, tot_mean=None):\r\n",
    "    Xcopy = X.copy()\r\n",
    "    Xcopy[by] = Xcopy[by].str.lower()\r\n",
    "    Xcopy['plac'] = y\r\n",
    "\r\n",
    "    # Compute the number of values and the mean of each group\r\n",
    "    agg = Xcopy.groupby(by)['plac'].agg(['count', 'mean'])\r\n",
    "    counts = agg['count']\r\n",
    "    means = agg['mean']\r\n",
    "\r\n",
    "    # Compute the \"smoothed\" means\r\n",
    "    smooth = (counts * means + m * tot_mean) / (counts + m)\r\n",
    "    \r\n",
    "    return smooth.to_dict()\r\n",
    "\r\n",
    "\r\n",
    "# transform model to stacking estimator\r\n",
    "class ModelTransformer(TransformerMixin):\r\n",
    "    \r\n",
    "    def __init__(self, model):\r\n",
    "        self.model = model\r\n",
    "\r\n",
    "    def fit(self, *args, **kwargs):\r\n",
    "        self.model.fit(*args, **kwargs)\r\n",
    "        return self\r\n",
    "\r\n",
    "    def transform(self, X, **transform_params):\r\n",
    "        return pd.DataFrame(self.model.predict_proba(X))\r\n",
    "    \r\n",
    "def create_ekipage(df):\r\n",
    "    prefix = ['','h1_','h2_','h3_','h4_','h5_',]\r\n",
    "    ekipage=[]\r\n",
    "    for pref in prefix:\r\n",
    "        df[pref+'ekipage'] = df[pref+'kusk'].str.cat(df['häst'], sep =\", \")  # concatenate 'häst' and 'kusk' into one column\r\n",
    "        ekipage.append(pref+'ekipage')\r\n",
    "        df.drop([pref+'kusk'],axis=1,inplace=True)\r\n",
    "        \r\n",
    "    df.drop(['häst'],axis=1,inplace=True )   \r\n",
    "        \r\n",
    "    return df, ekipage   \r\n",
    "    \r\n",
    "# Handle ekipage (häst and kusk)\r\n",
    "class CustomSmoothMean(BaseEstimator, TransformerMixin):\r\n",
    "    def __init__(self,cols,plac='plac', m=100):\r\n",
    "        super().__init__()\r\n",
    "        self.map = {}\r\n",
    "        self.total_mean=None\r\n",
    "        self.cols = cols    \r\n",
    "        self.plac=plac\r\n",
    "        self.m=m\r\n",
    "\r\n",
    "    def fit(self, X, y=None):\r\n",
    "        # print('CustSmooth fit start')\r\n",
    "        self.total_mean=y.mean()\r\n",
    "        self.map = calc_smooth_mean(X, y, by='ekipage', m=self.m, tot_mean=self.total_mean)\r\n",
    "        self.map['missing'] = 0\r\n",
    "\r\n",
    "        display(f'using m={self.m}')\r\n",
    "        # print('CustSmooth fit end')\r\n",
    "        return self\r\n",
    "\r\n",
    "    def transform(self, X, y=None):\r\n",
    "        # print('CustSmooth transform start')   \r\n",
    "        for col in self.cols:\r\n",
    "            X[col] = X[col].str.lower()\r\n",
    "            X[col] = X[col].map(self.map)\r\n",
    "            X[col].fillna(0,inplace=True)\r\n",
    "            \r\n",
    "        # display(X.isna().sum())    \r\n",
    "        # print('CustSmooth transform end')    \r\n",
    "        return X\r\n",
    "    \r\n",
    "    def get_feature_names(self):\r\n",
    "        return self.cols, self.plac, self.m, self.total_mean,self.map    \r\n",
    "####\r\n",
    "\r\n",
    "def set_lower(dfo):\r\n",
    "    # print('set_lower start')\r\n",
    "    df=dfo.copy()\r\n",
    "    for c in df.columns:\r\n",
    "        df[c] = df[c].str.lower()\r\n",
    "    # print('set_lower end')    \r\n",
    "    return df\r\n",
    "\r\n",
    "lower =  FunctionTransformer(set_lower)\r\n",
    "\r\n",
    "def datum_to_num(df):\r\n",
    "    dfc=df.copy()\r\n",
    "    dfc['datum'] = pd.to_datetime(df.datum).view(float)*10e210\r\n",
    "    return dfc\r\n",
    "\r\n",
    "# Handle ekipage (häst and kusk)\r\n",
    "class transf_bana(BaseEstimator, TransformerMixin):\r\n",
    "    def __init__(self,banor):\r\n",
    "        super().__init__()\r\n",
    "        self.map = {}\r\n",
    "        self.banor = banor\r\n",
    "\r\n",
    "    def fit(self, X, y=None):\r\n",
    "        # print('fit bana start')\r\n",
    "        huvud_bana=self.banor[0]\r\n",
    "        \r\n",
    "        self.map = X[huvud_bana].str.lower().value_counts() \r\n",
    "        self.map[None] = 0\r\n",
    "        self.map['missing'] = 0\r\n",
    "        # print('fit bana end')\r\n",
    "        return self\r\n",
    "\r\n",
    "    def transform(self, X, y=None):\r\n",
    "        # print('transform bana',X.shape)\r\n",
    "        for bana in self.banor:\r\n",
    "            X[bana] = X[bana].fillna('missing-1')\r\n",
    "            X[bana] = X[bana].str.lower()\r\n",
    "            X[bana] = [item[0] for item in X[bana].str.split('-')]  # remove '-10' from 'solvalla-10' etc\r\n",
    "            # print('transform bana effter split',bana)\r\n",
    "            # print(X[bana][:10])\r\n",
    "            X[bana] = X[bana].map(self.map)\r\n",
    "            X[bana] = X[bana].fillna(0)\r\n",
    "            # print('transform bana innan return')\r\n",
    "        return X\r\n",
    "    \r\n",
    "    def get_feature_names(self):\r\n",
    "        return self.map, self.banor\r\n",
    "    \r\n",
    "####\r\n"
   ],
   "outputs": [],
   "metadata": {}
  },
  {
   "cell_type": "markdown",
   "source": [
    "### Själva pipen"
   ],
   "metadata": {}
  },
  {
   "cell_type": "code",
   "execution_count": 99,
   "source": [
    "dforg = pd.read_csv('..\\\\all_data.csv')     \r\n",
    "dforg,ekipage = create_ekipage(dforg.copy())      # alla ekipage, h1_ekipage-h5_ekipage\r\n",
    "X_train,X_test,y_train,y_test = basic_data(dforg.copy())\r\n",
    "cat_features = list(X_train.loc[:,X_train.dtypes=='O'].columns)\r\n",
    "\r\n",
    "\r\n",
    "streck=True\r\n",
    "if not streck:\r\n",
    "    X_train.drop('streck',axis=1,inplace=True)\r\n",
    "    X_test.drop('streck',axis=1,inplace=True)\r\n",
    "\r\n",
    "könen=['kön1','kön2','kön3']\r\n",
    "banor = ['bana','h1_bana','h2_bana','h3_bana','h4_bana','h5_bana',]\r\n",
    "all_nums = list(X_train.select_dtypes('number').columns)\r\n",
    "\r\n",
    "lower_and_ohe = Pipeline([\r\n",
    "        ('lower', lower),\r\n",
    "        ('encode', OneHotEncoder(sparse=False, handle_unknown='ignore'))\r\n",
    "    ])\r\n",
    "\r\n",
    "############ Parms ###############################\r\n",
    "rf_parms={ 'n_jobs': 5,'class_weight': 'balanced'}\r\n",
    "etr_parms={'n_jobs': 5,'class_weight': 'balanced'}\r\n",
    "cb_parms={'iterations': 200,'early_stopping_rounds': 50,'auto_class_weights': 'Balanced','verbose': False}\r\n",
    "final_parms={'n_jobs': 5,'class_weight': 'balanced'}\r\n",
    "################################################### \r\n",
    "\r\n",
    "col_pipe = make_column_transformer(\r\n",
    "                        (transf_bana(banor), banor),\r\n",
    "                        (FunctionTransformer(datum_to_num), ['datum']),\r\n",
    "                        (lower_and_ohe, ['kön']), \r\n",
    "                        (CustomSmoothMean(ekipage,m=100), ekipage),\r\n",
    "                        (SimpleImputer(strategy='constant', fill_value=-1),all_nums  ),\r\n",
    "                        remainder='passthrough',\r\n",
    "                        )\r\n",
    "\r\n",
    "pipe = Pipeline(steps=[\r\n",
    "    ('transformers', col_pipe ),\r\n",
    "    \r\n",
    "    ('estimators', FeatureUnion([\r\n",
    "        ('knn', ModelTransformer(KNeighborsClassifier(n_neighbors=5, n_jobs=4))),\r\n",
    "        ('cat', ModelTransformer(CatBoostClassifier(**cb_parms))),\r\n",
    "        ('dtr', ModelTransformer(DecisionTreeClassifier(class_weight='balanced'))),\r\n",
    "        ('etr', ModelTransformer(ExtraTreesClassifier(**etr_parms))),\r\n",
    "        ('rf', ModelTransformer(RandomForestClassifier(**rf_parms))),  \r\n",
    "    ])),\r\n",
    "    ('estimator', RandomForestClassifier(**final_parms)),\r\n",
    "])\r\n",
    "\r\n",
    "\r\n",
    "with_streck = pipe.fit(X_train,y=y_train)\r\n",
    "# no_streck = pipe.fit(X_train_nostr,y=y_train)\r\n",
    "# the_stack = pipe.fit(X_train,y_train)\r\n"
   ],
   "outputs": [
    {
     "output_type": "display_data",
     "data": {
      "text/plain": [
       "'using m=100'"
      ]
     },
     "metadata": {}
    }
   ],
   "metadata": {}
  },
  {
   "cell_type": "markdown",
   "source": [
    "## Jämför olika modellers score (med och utan 'streck')"
   ],
   "metadata": {}
  },
  {
   "cell_type": "code",
   "execution_count": 100,
   "source": [
    "from sklearn.metrics import roc_auc_score,mean_absolute_error,accuracy_score,matthews_corrcoef,f1_score\r\n",
    "X_train,X_test,y_train,y_test = basic_data(dforg)\r\n",
    "\r\n",
    "if not streck:\r\n",
    "    print(\"utan 'streck'\")\r\n",
    "train_pred= pipe.predict_proba(X_train)\r\n",
    "print('auc train',roc_auc_score(y_train, train_pred[:,1]))\r\n",
    "test_pred = pipe.predict_proba(X_test)\r\n",
    "print('auc test', roc_auc_score(y_test,test_pred[:,1]))\r\n",
    "# print('mae test', mean_absolute_error(y_test,test_pred[:,1]))\r\n",
    "# po=proba_ordning(X_test.copy(),y_test,df.copy(),test_pred )[['datum','avd','proba','prob_order','vann']]\r\n",
    "# print('mean proba-order för vunna',po.loc[po.vann==1].prob_order.mean())\r\n",
    "\r\n",
    "X_test[['datum','avd','vodds']] = dforg[['datum','avd','vodds']]\r\n",
    "_,prob_score = proba_order_score(X_test,y_test,test_pred)\r\n",
    "print('prob_score test',prob_score,roc_auc_score(y_test,test_pred[:,1]))\r\n",
    "X_train[['datum','avd','vodds']] = dforg[['datum','avd','vodds']]\r\n",
    "_,prob_score = proba_order_score(X_train,y_train,train_pred)\r\n",
    "print('prob_score train',prob_score,roc_auc_score(y_train,train_pred[:,1]))\r\n",
    "print()"
   ],
   "outputs": [
    {
     "output_type": "stream",
     "name": "stdout",
     "text": [
      "auc train 1.0\n",
      "auc test 0.5184634774239365\n",
      "prob_score test 6.272321428571429 0.5184634774239365\n",
      "prob_score train 1.0022066936373666 1.0\n",
      "\n"
     ]
    }
   ],
   "metadata": {}
  },
  {
   "cell_type": "markdown",
   "source": [
    "### Klart överinlärd - prova en gridsearch om det går att nå estimators parametrar"
   ],
   "metadata": {}
  },
  {
   "cell_type": "markdown",
   "source": [
    "### jämför med CatBoost"
   ],
   "metadata": {}
  },
  {
   "cell_type": "code",
   "execution_count": 107,
   "source": [
    "#Jämfr CatBoost\r\n",
    "\r\n",
    "X_train,X_test,y_train,y_test = basic_data(dforg)\r\n",
    "\r\n",
    "cb = CatBoostClassifier(iterations=500,  early_stopping_rounds=100,auto_class_weights='Balanced',verbose=100)\r\n",
    "cb_pipe = make_pipeline(col_pipe, cb)\r\n",
    "cb_pipe.fit(X_train,y_train)\r\n",
    "cb_train_pred= cb_pipe.predict_proba(X_train)\r\n",
    "cb_test_pred =cb_pipe.predict_proba(X_test)\r\n",
    "\r\n",
    "if not streck:\r\n",
    "    print(\"utan 'streck'\")\r\n",
    "# print('auc', roc_auc_score(y_test,cb_test_pred[:,1]))\r\n",
    "print('mae', mean_absolute_error(y_test,cb_test_pred[:,1]))\r\n",
    "# po=proba_ordning(X_test.copy(),y_test,df.copy(),cb_test_pred )[['datum','avd','proba','prob_order','vann']]\r\n",
    "# print('cb mean vann ',po.loc[po.vann==1].prob_order.mean())\r\n",
    "\r\n",
    "X_test[['datum','avd','vodds']] = dforg[['datum','avd','vodds']]\r\n",
    "_,prob_score = proba_order_score(X_test,y_test,cb_test_pred)\r\n",
    "\r\n",
    "print('prob_score',prob_score,roc_auc_score(y_test,test_pred[:,1]))"
   ],
   "outputs": [
    {
     "output_type": "display_data",
     "data": {
      "text/plain": [
       "'using m=100'"
      ]
     },
     "metadata": {}
    },
    {
     "output_type": "stream",
     "name": "stdout",
     "text": [
      "Learning rate set to 0.084837\n",
      "0:\tlearn: 0.5977540\ttotal: 14.9ms\tremaining: 7.42s\n",
      "100:\tlearn: 0.2203682\ttotal: 1.61s\tremaining: 6.36s\n",
      "200:\tlearn: 0.1781405\ttotal: 3.19s\tremaining: 4.74s\n",
      "300:\tlearn: 0.1464653\ttotal: 4.67s\tremaining: 3.09s\n",
      "400:\tlearn: 0.1228111\ttotal: 5.92s\tremaining: 1.46s\n",
      "499:\tlearn: 0.1037990\ttotal: 7.14s\tremaining: 0us\n",
      "mae 0.11940676036559213\n",
      "prob_score 4.234375 0.5184634774239365\n"
     ]
    }
   ],
   "metadata": {}
  },
  {
   "cell_type": "markdown",
   "source": [
    "### FLAML"
   ],
   "metadata": {}
  },
  {
   "cell_type": "code",
   "execution_count": 108,
   "source": [
    "# FLAML med samma transformers som alla andra och helt utan transformers (raw)\r\n",
    "temp_pipe = make_column_transformer(\r\n",
    "                        (transf_bana(banor), banor),\r\n",
    "                        (FunctionTransformer(datum_to_num), ['datum']),\r\n",
    "                        (lower_and_ohe, ['kön']), \r\n",
    "                        # (CustomSmCustomSmoothMean(ekipage,m=100), ekipage),\r\n",
    "                        (SimpleImputer(strategy='constant', fill_value=-1),all_nums  ),\r\n",
    "                        remainder='passthrough',\r\n",
    "                        )\r\n",
    "\r\n",
    "from flaml import AutoML \r\n",
    "automl, automl_raw = None, None\r\n",
    "X_train,X_test,y_train,y_test = basic_data(dforg.copy())\r\n",
    "# # X_train.drop('streck',axis=1,inplace=True)\r\n",
    "# # X_test.drop('streck',axis=1,inplace=True)\r\n",
    "# # X_train.drop(['avd'],axis=1,inplace=True)\r\n",
    "# # X_test.drop(['avd'],axis=1,inplace=True)\r\n",
    "# cat_features = list(X_train.loc[:,X_train.dtypes=='O'].columns)\r\n",
    "\r\n",
    "flml_parms= {'automl__task': 'classification',  'automl__verbose': False, #'automl__X_val': X_test, 'automl__y_val':y_test,\r\n",
    "             'automl__split_type':'time', 'automl__metric': 'roc_auc', 'automl__time_budget':320, \r\n",
    "             'automl__max_iter':20000000, 'automl__n_jobs':5,'automl__seed':2021, 'automl__early_stop':True, 'automl__ensemble':True}\r\n",
    "\r\n",
    "automl = AutoML( )\r\n",
    "flm_pipe = make_pipeline(temp_pipe, automl)\r\n",
    "flm=flm_pipe.fit(X_train,y_train, **flml_parms)\r\n",
    "\r\n",
    "if True: # raw - utan transformed data\r\n",
    "    flml_raw_parms={'task': 'classification','split_type':None, 'verbose': 1, 'metric':'roc_auc', 'verbose':False,\r\n",
    "            'time_budget':500, 'max_iter':20000000,'n_jobs':5, 'X_val': X_test, 'y_val':y_test,'early_stop':True, 'ensemble':True}\r\n",
    "\r\n",
    "    automl_raw = AutoML()\r\n",
    "    automl_raw.fit(X_train,y_train, **flml_raw_parms)"
   ],
   "outputs": [
    {
     "output_type": "stream",
     "name": "stderr",
     "text": [
      "No low-cost partial config given to the search algorithm. For cost-frugal search, consider providing low-cost values for cost-related hps via 'low_cost_partial_config'.\n",
      "C:\\Users\\peter\\AppData\\Roaming\\Python\\Python38\\site-packages\\sklearn\\linear_model\\_sag.py:328: ConvergenceWarning: The max_iter was reached which means the coef_ did not converge\n",
      "  warnings.warn(\"The max_iter was reached which means \"\n",
      "[flaml.automl: 09-25 01:53:46] {1541} WARNING - Time taken to find the best model is 71% of the provided time budget and not all estimators' hyperparameter search converged. Consider increasing the time budget.\n"
     ]
    }
   ],
   "metadata": {}
  },
  {
   "cell_type": "code",
   "execution_count": 109,
   "source": [
    "# print('indata flm',  len(banor+['datum']+könen+ekipage+all_nums))\r\n",
    "\r\n",
    "if not streck:\r\n",
    "    print(\"utan 'streck'\")\r\n",
    "X_train,X_test,y_train,y_test = basic_data(dforg.copy())\r\n",
    "\r\n",
    "if True :   # raw - ej transformed data\r\n",
    "    flm_raw_train_pred= automl_raw.predict_proba(X_train)\r\n",
    "    flm_raw_test_pred = automl_raw.predict_proba(X_test)\r\n",
    "    \r\n",
    "    X_test_raw = X_test.copy()\r\n",
    "    X_test_raw[['datum','avd','vodds']] = dforg[['datum','avd','vodds']]\r\n",
    "    _,prob_score = proba_order_score(X_test_raw,y_test, flm_raw_test_pred)\r\n",
    "\r\n",
    "    print('raw prob_score och auc', prob_score,roc_auc_score(y_test,flm_raw_test_pred[:,1]))\r\n",
    "    \r\n",
    "if True:  # med transformde data\r\n",
    "    flm_train_pred= flm_pipe.predict_proba(X_train)\r\n",
    "    flm_test_pred = flm_pipe.predict_proba(X_test)\r\n",
    "    # print('flm test auc',roc_auc_score(y_test, flm_test_pred[:,1]))\r\n",
    "    # print('flm train',roc_auc_score(y_train, flm_train_pred[:,1]))\r\n",
    "    # po=proba_ordning(X_test.copy(),y_test,df.copy(),flm_test_pred )[['datum','avd','proba','prob_order','vann']]\r\n",
    "    # print('flm test mean vann',po.loc[po.vann==1].prob_order.mean())\r\n",
    "    \r\n",
    "    X_test[['datum','avd','vodds']] = dforg[['datum','avd','vodds']]\r\n",
    "    _,prob_score = proba_order_score(X_test,y_test, flm_test_pred)\r\n",
    "\r\n",
    "    print('flm prob_score och auc',prob_score,roc_auc_score(y_test,flm_test_pred[:,1]))\r\n",
    "    "
   ],
   "outputs": [
    {
     "output_type": "stream",
     "name": "stdout",
     "text": [
      "raw prob_score och auc 3.2020089285714284 0.8131355942102115\n",
      "flm prob_score och auc 3.1328125 0.8166181926067131\n"
     ]
    }
   ],
   "metadata": {}
  },
  {
   "cell_type": "code",
   "execution_count": 66,
   "source": [
    "# flm_pipe['columntransformer'].fit_transform(X_train,y_train)[0]\r\n",
    "temp_pipe = make_column_transformer(\r\n",
    "                        # (transf_bana(banor), banor),\r\n",
    "                        # (FunctionTransformer(datum_to_num), ['datum']),\r\n",
    "                        # (lower_and_ohe, ['kön']), \r\n",
    "                        (CustomSmoothMean(ekipage,m=100), ekipage),\r\n",
    "                        # (SimpleImputer(strategy='constant', fill_value=-1),all_nums  ),\r\n",
    "                        remainder='passthrough',\r\n",
    "                        )\r\n",
    "temp_pipe.fit_transform(X_train,y_train)[0]"
   ],
   "outputs": [
    {
     "output_type": "display_data",
     "data": {
      "text/plain": [
       "'using m=100'"
      ]
     },
     "metadata": {}
    },
    {
     "output_type": "execute_result",
     "data": {
      "text/plain": [
       "array([0.08554158456740465, 0.08554158456740465, 0.08554158456740465,\n",
       "       0.08554158456740465, 0.08554158456740465, 0.0, '2014-12-28',\n",
       "       'ÖREBRO', 5.0, 21018.0, 6.0, 2100.0, 2100.0, 0, 6, 'v', 125000.0,\n",
       "       'Eskilstuna', 3.0, 2.0, 35.0, 3.92, 16.8, 'Eskilstuna', 3.0, 1.0,\n",
       "       30.0, 3.7, 14.9, 'Eskilstuna', 3.0, 15.0, 125.0, 52.42, 14.3,\n",
       "       'Solvalla', 3.0, 15.0, 70.0, 5.2, 13.9, 'Örebro', 3.0, 15.0, 25.0,\n",
       "       2.2, 12.3, 2140.0, 2140.0, 2640.0, 2140.0, 1609.0, 1, 1, 1, 1, 1,\n",
       "       3935.030968151612, 6006.507181794034, 11.180339887498944,\n",
       "       8.366600265340756, 5.0, 21.0, 19.0, 17.0, 10.0, 18.0], dtype=object)"
      ]
     },
     "metadata": {},
     "execution_count": 66
    }
   ],
   "metadata": {}
  }
 ],
 "metadata": {
  "interpreter": {
   "hash": "5eb2e0c23f8e38f19a3cfe8ad2d7bbb895a86b1e106b247f2b169180d03d2047"
  },
  "kernelspec": {
   "name": "python3",
   "display_name": "Python 3.8.11 64-bit ('base': conda)"
  },
  "language_info": {
   "name": "python",
   "version": "3.8.11",
   "mimetype": "text/x-python",
   "codemirror_mode": {
    "name": "ipython",
    "version": 3
   },
   "pygments_lexer": "ipython3",
   "nbconvert_exporter": "python",
   "file_extension": ".py"
  },
  "orig_nbformat": 2
 },
 "nbformat": 4,
 "nbformat_minor": 2
}