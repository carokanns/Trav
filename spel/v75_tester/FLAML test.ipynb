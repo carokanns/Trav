{
 "cells": [
  {
   "cell_type": "markdown",
   "source": [
    "# *FLAML test*\r\n",
    "Testa FLAML på travet"
   ],
   "metadata": {}
  },
  {
   "cell_type": "code",
   "execution_count": null,
   "source": [
    "import pandas as pd \r\n",
    "import numpy as np \r\n",
    "from IPython.display import display \r\n",
    "\r\n",
    "df = pd.read_csv('..\\\\all_data.csv')   "
   ],
   "outputs": [],
   "metadata": {}
  },
  {
   "cell_type": "code",
   "execution_count": null,
   "source": [
    "# prepare\r\n",
    "PLAC_MEAN=df.plac.mean()\r\n",
    "# Set a smooth mean value to  features in df\r\n",
    "def calc_smooth_mean(df, by, y, m=300, tot_mean=PLAC_MEAN):\r\n",
    "    # print(by, y, m)\r\n",
    "    # Compute the number of values and the mean of each group\r\n",
    "    agg = df.groupby(by)[y].agg(['count', 'mean'])\r\n",
    "    counts = agg['count']\r\n",
    "    means = agg['mean']\r\n",
    "\r\n",
    "    # Compute the \"smoothed\" means\r\n",
    "    smooth = (counts * means + (m * tot_mean)) / (counts + m)\r\n",
    "    # print('used m = ',m)\r\n",
    "    return smooth.to_dict()\r\n",
    "\r\n",
    "def transf_kusk_häst(df,pref='',m=300,the_map=None):\r\n",
    "    \r\n",
    "    df[pref+'ekipage'] = df[pref+ 'kusk'].str.cat(df['häst'], sep =\", \")  # concatenate 'häst' and 'kusk' into one column\r\n",
    "    # print('skapade ekipage', df[pref+'ekipage'].shape)\r\n",
    "    \r\n",
    "    if not the_map:\r\n",
    "        the_map = calc_smooth_mean(df, by=pref+'ekipage', y='plac',m=50) # make numeric with Target encoding with smooth mean\r\n",
    "        \r\n",
    "    df['ekipage'].map(the_map) \r\n",
    "    # print('ekipage klart')\r\n",
    "        \r\n",
    "    df.drop([pref+'kusk'],axis=1,inplace=True)\r\n",
    "    return the_map, df\r\n",
    "\r\n",
    "the_map,df = transf_kusk_häst(df,pref='', m=300)\r\n",
    "_,df = transf_kusk_häst(df,pref='h1_', m=300, the_map=the_map)\r\n",
    "_,df = transf_kusk_häst(df,pref='h2_', m=300, the_map=the_map)\r\n",
    "_,df = transf_kusk_häst(df,pref='h3_', m=300, the_map=the_map)\r\n",
    "_,df = transf_kusk_häst(df,pref='h4_', m=300, the_map=the_map)\r\n",
    "_,df = transf_kusk_häst(df,pref='h5_', m=300, the_map=the_map)\r\n",
    "\r\n",
    "df.columns"
   ],
   "outputs": [],
   "metadata": {}
  },
  {
   "cell_type": "code",
   "execution_count": null,
   "source": [
    "proc=0.75\r\n",
    "alla_datum = list(df.datum.unique())\r\n",
    "split_ix = int(len(alla_datum)*proc)\r\n",
    "y_train=df[split_ix:]['plac']\r\n",
    "y_test =df[:split_ix]['plac']\r\n",
    "y_train = (y_train==1)*1\r\n",
    "y_test  = (y_test==1)*1\r\n",
    "X_train = df[split_ix:].copy()\r\n",
    "X_test  = df[:split_ix].copy()\r\n",
    "X_train.drop(['avd','startnr','h1_dat','h2_dat','h3_dat','h4_dat','h5_dat', 'vodds','podds','dist','bins'   ,'plac'],axis=1,inplace=True)\r\n",
    "X_test.drop (['avd','startnr','h1_dat','h2_dat','h3_dat','h4_dat','h5_dat', 'vodds','podds','dist','bins'   ,'plac'],axis=1,inplace=True)\r\n",
    "X_train\r\n",
    "\r\n",
    "X_train.shape,X_test.shape,y_train.shape,y_test.shape"
   ],
   "outputs": [],
   "metadata": {}
  },
  {
   "cell_type": "code",
   "execution_count": null,
   "source": [
    "# FLAML test\r\n",
    "from flaml import AutoML \r\n",
    "automl = AutoML()\r\n",
    "automl.fit(X_train, y_train,task = 'classification',split_type=None, time_budget=3000, n_jobs=5, early_stop=True, ensemble=True)"
   ],
   "outputs": [],
   "metadata": {}
  },
  {
   "cell_type": "code",
   "execution_count": null,
   "source": [
    "display(automl.model.get_params())\r\n",
    "display(automl.model)\r\n",
    "display(automl.best_estimator)\r\n",
    "\r\n",
    "train_pred = automl.predict_proba(X_train)\r\n",
    "test_pred = automl.predict_proba(X_test)\r\n",
    "from sklearn.metrics import log_loss, roc_auc_score\r\n",
    "from sklearn.metrics import plot_confusion_matrix, confusion_matrix\r\n"
   ],
   "outputs": [],
   "metadata": {}
  },
  {
   "cell_type": "code",
   "execution_count": null,
   "source": [
    "print('train auc',roc_auc_score(y_train, train_pred[:,1]))\r\n",
    "print('test auc',roc_auc_score(y_test, test_pred[:,1]))\r\n",
    "res_train = pd.DataFrame()\r\n",
    "res_test  = pd.DataFrame()\r\n",
    "res_train['y_train'] = y_train\r\n",
    "res_train['pred_train'] = train_pred[:,1]\r\n",
    "res_test['y_test'] = y_test\r\n",
    "res_test['pred_test'] = test_pred[:,1]\r\n",
    "\r\n",
    "display(f'mean for train=1 {res_train.loc[res_train.y_train==1].pred_train.mean()}')\r\n",
    "display(f'mean for train=0 {res_train.loc[res_train.y_train==0].pred_train.mean()}')\r\n",
    "display(f'mean for test==1 {res_test.loc[res_test.y_test==1].pred_test.mean()}')\r\n",
    "display(f'mean for test==0 {res_test.loc[res_test.y_test==0].pred_test.mean()}')\r\n",
    "\r\n",
    "mätningar = pd.DataFrame()\r\n",
    "mätningar['batch'] = [5,4,3,2,1]\r\n",
    "mätningar['train_AUC'] = [0.8345, 0.8352,0.8290, 0.8291, 0.8311]\r\n",
    "mätningar['test_AUC'] = [0.8418,0.8380,0.8368, 0.8356, 0.8360]\r\n",
    "mätningar['avg train win'] =[0.2342,0.2381,0.2267, 0.2241, 0.2258]\r\n",
    "mätningar['avg test win'] =[0.2472,0.2377,0.2394, 0.2365, 0.2364]\r\n",
    "\r\n",
    "mätningar\r\n"
   ],
   "outputs": [],
   "metadata": {}
  },
  {
   "cell_type": "code",
   "execution_count": null,
   "source": [
    "# automl.model.model.get_feature_importance(prettified=True)\r\n",
    "automl.model.model.estimators[0][1].model.get_feature_importance(prettified=True)\r\n"
   ],
   "outputs": [],
   "metadata": {}
  },
  {
   "cell_type": "code",
   "execution_count": null,
   "source": [
    "import pickle\r\n",
    "filename = 'FLAML_model.sav'\r\n",
    "pickle.dump(automl.model, open(filename, 'wb'))\r\n"
   ],
   "outputs": [],
   "metadata": {}
  }
 ],
 "metadata": {
  "orig_nbformat": 4,
  "language_info": {
   "name": "python",
   "version": "3.8.11",
   "mimetype": "text/x-python",
   "codemirror_mode": {
    "name": "ipython",
    "version": 3
   },
   "pygments_lexer": "ipython3",
   "nbconvert_exporter": "python",
   "file_extension": ".py"
  },
  "kernelspec": {
   "name": "python3",
   "display_name": "Python 3.8.11 64-bit ('base': conda)"
  },
  "interpreter": {
   "hash": "5eb2e0c23f8e38f19a3cfe8ad2d7bbb895a86b1e106b247f2b169180d03d2047"
  }
 },
 "nbformat": 4,
 "nbformat_minor": 2
}