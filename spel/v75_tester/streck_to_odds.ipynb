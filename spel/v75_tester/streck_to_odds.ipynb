{
 "cells": [
  {
   "cell_type": "markdown",
   "metadata": {},
   "source": [
    "# Testa ut en modell för att transformera streck till odds.  \n",
    "Används för min specialvariant av Kelly "
   ]
  },
  {
   "cell_type": "code",
   "execution_count": 2,
   "metadata": {},
   "outputs": [],
   "source": [
    "import pandas as pd\n",
    "import numpy as np\n",
    "from catboost import CatBoostClassifier, Pool, cv\n",
    "from IPython.display import display\n",
    "pd.set_option('display.width', 100)"
   ]
  },
  {
   "cell_type": "code",
   "execution_count": 3,
   "metadata": {},
   "outputs": [],
   "source": [
    "df = pd.read_csv('..\\\\all_data.csv')\n",
    "# Följande datum saknar avd==5 och kan inte användas\n",
    "saknas = ['2015-08-15', '2016-08-13', '2017-08-12']\n",
    "df = df[~df.datum.isin(saknas)]\n",
    "X = df.copy()\n",
    "X.drop('plac', axis=1, inplace=True)\n",
    "# X = ordinal_enc(X, 'häst')\n",
    "y = (df.plac == 1)*1   # plac 1 eller 0"
   ]
  },
  {
   "cell_type": "code",
   "execution_count": 4,
   "metadata": {},
   "outputs": [
    {
     "name": "stdout",
     "output_type": "stream",
     "text": [
      "Coefficients: [-0.52621488]\n",
      "LR Mean absolute error: 6.08\n",
      "RF Mean absolute error: 2.60\n"
     ]
    }
   ],
   "source": [
    "def model_streck_to_odds(X_):\n",
    "    X = X_.copy()\n",
    "    # import modules for linear regression\n",
    "    from sklearn.linear_model import LinearRegression\n",
    "    from sklearn.model_selection import train_test_split\n",
    "    from sklearn.metrics import mean_absolute_error as mae\n",
    "    # import random forest module\n",
    "    from sklearn.ensemble import RandomForestRegressor\n",
    "\n",
    "    X_odds = X.loc[X.vodds <= 40]  # remove outliers\n",
    "    ix_break = int(len(X_odds.datum.unique())*0.75)\n",
    "    test_start = X_odds.datum.unique()[ix_break]\n",
    "\n",
    "    X_train, X_test = X_odds[X_odds.datum <\n",
    "                             test_start], X_odds[X_odds.datum >= test_start]\n",
    "    y_train, y_test = X_train['vodds'], X_test['vodds']\n",
    "    X_train = X_train[['streck']].astype(float)\n",
    "    X_test = X_test[['streck']].astype(float)\n",
    "\n",
    "    # make a model of RF\n",
    "    rf = RandomForestRegressor(n_estimators=100, max_depth=6, random_state=0)\n",
    "    rf.fit(X_train, y_train)\n",
    "    y_predrf = rf.predict(X_test)\n",
    "    # make a model and fit it\n",
    "    linreg = LinearRegression()\n",
    "    linreg.fit(X_train, y_train)\n",
    "    y_predlr = linreg.predict(X_test)\n",
    "\n",
    "    # print the coefficients\n",
    "    print('Coefficients:', linreg.coef_)\n",
    "    # print the mean absolute error\n",
    "    print(\"LR Mean absolute error: %.2f\" % mae(y_test, y_predlr))\n",
    "    print(\"RF Mean absolute error: %.2f\" % mae(y_test, y_predrf))\n",
    "\n",
    "    return linreg, rf\n",
    "\n",
    "\n",
    "linreg, rf = model_streck_to_odds(X)   # used in next cell"
   ]
  },
  {
   "cell_type": "code",
   "execution_count": 5,
   "metadata": {},
   "outputs": [],
   "source": [
    "def kelly(proba, streck, odds):  # proba = prob winning, streck i % = streck\n",
    "    if odds is None:\n",
    "        o = rf.predict(streck.copy())\n",
    "    else:\n",
    "        o = rf.predict(streck.copy())\n",
    "\n",
    "    # for each values > 50 in odds set to 1\n",
    "    o[o > 40] = 1\n",
    "    return (o*proba - (1-proba))/o\n"
   ]
  },
  {
   "cell_type": "code",
   "execution_count": 8,
   "metadata": {},
   "outputs": [
    {
     "data": {
      "text/html": [
       "<div>\n",
       "<style scoped>\n",
       "    .dataframe tbody tr th:only-of-type {\n",
       "        vertical-align: middle;\n",
       "    }\n",
       "\n",
       "    .dataframe tbody tr th {\n",
       "        vertical-align: top;\n",
       "    }\n",
       "\n",
       "    .dataframe thead th {\n",
       "        text-align: right;\n",
       "    }\n",
       "</style>\n",
       "<table border=\"1\" class=\"dataframe\">\n",
       "  <thead>\n",
       "    <tr style=\"text-align: right;\">\n",
       "      <th></th>\n",
       "      <th>streck</th>\n",
       "      <th>vodds</th>\n",
       "      <th>oddsl</th>\n",
       "      <th>oddsr</th>\n",
       "    </tr>\n",
       "  </thead>\n",
       "  <tbody>\n",
       "    <tr>\n",
       "      <th>1</th>\n",
       "      <td>7.0</td>\n",
       "      <td>8.21</td>\n",
       "      <td>16.318115</td>\n",
       "      <td>11.331575</td>\n",
       "    </tr>\n",
       "    <tr>\n",
       "      <th>2</th>\n",
       "      <td>23.0</td>\n",
       "      <td>2.92</td>\n",
       "      <td>7.898677</td>\n",
       "      <td>3.742706</td>\n",
       "    </tr>\n",
       "    <tr>\n",
       "      <th>3</th>\n",
       "      <td>48.0</td>\n",
       "      <td>2.35</td>\n",
       "      <td>-5.256696</td>\n",
       "      <td>2.046252</td>\n",
       "    </tr>\n",
       "    <tr>\n",
       "      <th>13</th>\n",
       "      <td>11.0</td>\n",
       "      <td>8.11</td>\n",
       "      <td>14.213255</td>\n",
       "      <td>7.894903</td>\n",
       "    </tr>\n",
       "    <tr>\n",
       "      <th>19</th>\n",
       "      <td>67.0</td>\n",
       "      <td>1.70</td>\n",
       "      <td>-15.254778</td>\n",
       "      <td>1.512548</td>\n",
       "    </tr>\n",
       "    <tr>\n",
       "      <th>...</th>\n",
       "      <td>...</td>\n",
       "      <td>...</td>\n",
       "      <td>...</td>\n",
       "      <td>...</td>\n",
       "    </tr>\n",
       "    <tr>\n",
       "      <th>43796</th>\n",
       "      <td>12.0</td>\n",
       "      <td>6.97</td>\n",
       "      <td>13.687040</td>\n",
       "      <td>7.584810</td>\n",
       "    </tr>\n",
       "    <tr>\n",
       "      <th>43799</th>\n",
       "      <td>29.0</td>\n",
       "      <td>2.99</td>\n",
       "      <td>4.741387</td>\n",
       "      <td>3.150283</td>\n",
       "    </tr>\n",
       "    <tr>\n",
       "      <th>43801</th>\n",
       "      <td>17.0</td>\n",
       "      <td>5.69</td>\n",
       "      <td>11.055966</td>\n",
       "      <td>5.143853</td>\n",
       "    </tr>\n",
       "    <tr>\n",
       "      <th>43803</th>\n",
       "      <td>19.0</td>\n",
       "      <td>5.27</td>\n",
       "      <td>10.003536</td>\n",
       "      <td>4.631335</td>\n",
       "    </tr>\n",
       "    <tr>\n",
       "      <th>43805</th>\n",
       "      <td>33.0</td>\n",
       "      <td>2.43</td>\n",
       "      <td>2.636528</td>\n",
       "      <td>2.803965</td>\n",
       "    </tr>\n",
       "  </tbody>\n",
       "</table>\n",
       "<p>14785 rows × 4 columns</p>\n",
       "</div>"
      ],
      "text/plain": [
       "       streck  vodds      oddsl      oddsr\n",
       "1         7.0   8.21  16.318115  11.331575\n",
       "2        23.0   2.92   7.898677   3.742706\n",
       "3        48.0   2.35  -5.256696   2.046252\n",
       "13       11.0   8.11  14.213255   7.894903\n",
       "19       67.0   1.70 -15.254778   1.512548\n",
       "...       ...    ...        ...        ...\n",
       "43796    12.0   6.97  13.687040   7.584810\n",
       "43799    29.0   2.99   4.741387   3.150283\n",
       "43801    17.0   5.69  11.055966   5.143853\n",
       "43803    19.0   5.27  10.003536   4.631335\n",
       "43805    33.0   2.43   2.636528   2.803965\n",
       "\n",
       "[14785 rows x 4 columns]"
      ]
     },
     "execution_count": 8,
     "metadata": {},
     "output_type": "execute_result"
    }
   ],
   "source": [
    "# test kelly\n",
    "df['oddsl'] = linreg.predict(df[['streck']])\n",
    "df['oddsr'] = rf.predict(df[['streck']])\n",
    "df.loc[df.vodds<10][['streck','vodds','oddsl','oddsr']]"
   ]
  },
  {
   "cell_type": "code",
   "execution_count": null,
   "metadata": {},
   "outputs": [],
   "source": []
  }
 ],
 "metadata": {
  "kernelspec": {
   "display_name": "Python 3.9.13 ('base')",
   "language": "python",
   "name": "python3"
  },
  "language_info": {
   "codemirror_mode": {
    "name": "ipython",
    "version": 3
   },
   "file_extension": ".py",
   "mimetype": "text/x-python",
   "name": "python",
   "nbconvert_exporter": "python",
   "pygments_lexer": "ipython3",
   "version": "3.9.13 | packaged by conda-forge | (main, May 27 2022, 16:50:36) [MSC v.1929 64 bit (AMD64)]"
  },
  "orig_nbformat": 4,
  "vscode": {
   "interpreter": {
    "hash": "3d733caf4ffc39d0fbd9a2ba54ef4b7d515956d8048931f8241efe3827fb2d1f"
   }
  }
 },
 "nbformat": 4,
 "nbformat_minor": 2
}
