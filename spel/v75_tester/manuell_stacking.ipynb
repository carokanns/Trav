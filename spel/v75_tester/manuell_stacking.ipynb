{
 "cells": [
  {
   "cell_type": "markdown",
   "metadata": {},
   "source": [
    "# Try mauell stacking for V75\n",
    "TimeSeries kan inte användas i sklearn.stackClassifier"
   ]
  },
  {
   "cell_type": "code",
   "execution_count": 3,
   "metadata": {},
   "outputs": [],
   "source": [
    "import pandas as pd \n",
    "import numpy as np \n",
    "from IPython.display import display \n",
    "\n",
    "from catboost import CatBoostClassifier,Pool, cv, utils \n",
    "from sklearn.neighbors import KNeighborsClassifier\n",
    "from sklearn.ensemble import RandomForestClassifier,ExtraTreesClassifier\n"
   ]
  },
  {
   "cell_type": "code",
   "execution_count": 4,
   "metadata": {},
   "outputs": [],
   "source": [
    "\n",
    "from sklearn.pipeline import Pipeline, FeatureUnion, make_pipeline, Pipeline\n",
    "from sklearn.impute import SimpleImputer\n",
    "\n",
    "from sklearn.preprocessing import OneHotEncoder, MinMaxScaler\n",
    "from sklearn.impute import SimpleImputer\n",
    "from sklearn.compose import ColumnTransformer, make_column_transformer\n",
    "# import sklearn.metrics, sklearn.compose\n",
    "\n",
    "from sklearn.model_selection import train_test_split\n"
   ]
  },
  {
   "cell_type": "code",
   "execution_count": null,
   "metadata": {},
   "outputs": [],
   "source": [
    "### Features som inte används vid träning\n",
    "def remove_features(df,remove_mer=[]):\n",
    "    #remove_mer=['h5_perf','h5_auto','h4_perf','h4_auto', 'h3_perf', 'h2_perf']\n",
    "    df.drop(['startnr','vodds','podds','bins','h1_dat','h2_dat','h3_dat','h4_dat','h5_dat'],axis=1,inplace=True) #\n",
    "    if remove_mer:\n",
    "        df.drop(remove_mer,axis=1,inplace=True)\n",
    "    \n",
    "    # df=check_unique(df.copy())\n",
    "    # df=check_corr(df.copy())\n",
    "    return df"
   ]
  },
  {
   "cell_type": "code",
   "execution_count": null,
   "metadata": {},
   "outputs": [],
   "source": [
    "## byt ut alla NaN till text för cat_features\n",
    "def replace_NaN(X_train,X_test=None, cat_features=[]):\n",
    "    # print('cat_features',cat_features)\n",
    "    X_train[cat_features]=X_train[cat_features].fillna('missing')\n",
    "    if X_test is not None:  ## om X_test är med\n",
    "        X_test[cat_features]=X_test[cat_features].fillnal('missing')    ### byt ut None-värden till texten 'None\n",
    "\n",
    "    return X_train,X_test"
   ]
  },
  {
   "cell_type": "code",
   "execution_count": 6,
   "metadata": {},
   "outputs": [],
   "source": [
    "### läs in data och returnera df, alla datum samt index till split-punkt\n",
    "def basic_data(df, NaN=True, frac=0.25):\n",
    "    X_train,X_test,y_train,y_test = None,None,None,None\n",
    "    dfnew = remove_features(df.copy())\n",
    "    dfnew['plac'] = (dfnew.plac==1) * 1\n",
    "    cat_features = list(dfnew.loc[:,df.dtypes=='O'].columns)\n",
    "    if NaN:\n",
    "        dfnew,_ = replace_NaN(dfnew.copy(), cat_features=cat_features)    \n",
    "    \n",
    "    alla_datum = df.datum.unique()\n",
    "    split_dat = alla_datum[int(len(alla_datum)* (1 - 0.25))]     # större än split_dat är test\n",
    "\n",
    "    X_train = dfnew.loc[dfnew.datum <= split_dat].copy()\n",
    "    y_train=X_train.plac\n",
    "    X_train.drop('plac',axis=1,inplace=True)\n",
    "    \n",
    "    X_test = dfnew.loc[dfnew.datum > split_dat].copy()\n",
    "    y_test=X_test.plac\n",
    "    X_test.drop('plac',axis=1,inplace=True)\n",
    "    \n",
    "    return X_train,X_test, y_train,y_test"
   ]
  },
  {
   "cell_type": "code",
   "execution_count": null,
   "metadata": {},
   "outputs": [],
   "source": [
    "# df skall innehålla datum,avd,vodds\n",
    "def proba_order_score(df_, y,proba):\n",
    "    kassa=1000\n",
    "    df = df_.copy()\n",
    "    df['proba'] = proba[:,1]\n",
    "    df['f'] = (df.proba*df.vodds - 1) / (df.vodds-1)  # kelly formel\n",
    "    df['spela'] = df.f >0\n",
    "    df['insats'] = df.spela * df.f * kassa\n",
    "\n",
    "    df.sort_values(['datum','avd','proba'],ascending=[True,True,False],inplace=True)\n",
    "    proba_order=df.groupby(['datum','avd']).proba.cumcount()\n",
    "\n",
    "    df['prob_order']=proba_order+1\n",
    "    df['y'] = y\n",
    "    \n",
    "    return df, df.loc[df.y==1].prob_order.mean()   # mean prob_order för vinnarhäst"
   ]
  },
  {
   "cell_type": "code",
   "execution_count": 177,
   "metadata": {},
   "outputs": [],
   "source": [
    "# Set a smooth mean value to the features in X_train  ##\n",
    "def calc_smooth_mean(X, y, by, m=100, tot_mean=None):\n",
    "    Xcopy = X.copy()\n",
    "    Xcopy['plac'] = y\n",
    "\n",
    "    # Compute the number of values and the mean of each group\n",
    "    agg = Xcopy.groupby(by)['plac'].agg(['count', 'mean'])\n",
    "    counts = agg['count']\n",
    "    means = agg['mean']\n",
    "\n",
    "    # Compute the \"smoothed\" means\n",
    "    smooth = (counts * means + m * tot_mean) / (counts + m)\n",
    "    \n",
    "    return smooth.to_dict()    \n"
   ]
  },
  {
   "cell_type": "markdown",
   "metadata": {},
   "source": [
    "### MyOwnSearchCV"
   ]
  },
  {
   "cell_type": "code",
   "execution_count": 15,
   "metadata": {},
   "outputs": [],
   "source": [
    "def load_data(frac=0.25):\n",
    "    dforg = pd.read_csv('..\\\\all_data.csv')  \n",
    "    alla_datum = list(dforg.datum.unique())\n",
    "    # split_dat = int(len(alla_datum) * (1-frac))\n",
    "    # split_ix = dforg.loc[dforg.datum==split_dat]\n",
    "    \n",
    "    return dforg, alla_datum"
   ]
  },
  {
   "cell_type": "code",
   "execution_count": null,
   "metadata": {},
   "outputs": [],
   "source": [
    "df,alla_datum = load_data() \n",
    "df = remove_features(df.copy())\n",
    "CAT_FEATURES=['datum', 'bana', 'häst', 'kusk', 'kön',\n",
    "        'h1_kusk', 'h1_bana',\n",
    "        'h2_kusk', 'h2_bana', \n",
    "        'h3_kusk',  'h3_bana', \n",
    "        'h4_kusk', 'h4_bana', \n",
    "        'h5_kusk', 'h5_bana',]\n",
    "\n",
    "NUM_FEATURES=[item for item in df.columns if item not in CAT_FEATURES and item !='plac']\n",
    "\n",
    "PLAC_MEAN=df.plac.mean()\n",
    "PLAC_MEAN"
   ]
  },
  {
   "cell_type": "markdown",
   "metadata": {},
   "source": [
    "# Min manuella stacking (TimeSeries)\n",
    "TimeSeries kan iinte använda sklearn.stacking"
   ]
  },
  {
   "cell_type": "markdown",
   "metadata": {},
   "source": [
    "## Functions that are doing the transformations"
   ]
  },
  {
   "cell_type": "code",
   "execution_count": null,
   "metadata": {},
   "outputs": [],
   "source": [
    "# fill missing values in categorical features\n",
    "def impute_cat_features(df, cat_features=CAT_FEATURES):\n",
    "    imp1 = SimpleImputer(missing_values=np.nan, strategy='constant',fill_value='missing')\n",
    "    df[cat_features]=imp1.fit_transform(df[cat_features])  # replae NaN's with 'missing'\n",
    "    return df"
   ]
  },
  {
   "cell_type": "code",
   "execution_count": null,
   "metadata": {},
   "outputs": [],
   "source": [
    "# Handle h1-h5_bana\n",
    "def transform_hx_bana(df,hx,the_map):\n",
    "    from sklearn.impute import SimpleImputer\n",
    "    df[hx] = df[hx].str.lower()\n",
    "    imp1 = SimpleImputer(missing_values=np.nan, strategy='constant',fill_value='missing')\n",
    "    df[hx]=imp1.fit_transform(df[[hx]])  # replae NaN's with 'missing'\n",
    "\n",
    "    df[hx] = [item[0] for item in df[hx].str.split('-')]  # remove '-10' from 'solvalla-10' etc\n",
    "    \n",
    "    df[hx]=df[hx].map(the_map)  # transform column to numeric by mapping\n",
    "    # after mapping we get new NaN's - now impute 0\n",
    "    imp2 = SimpleImputer(missing_values=np.nan, strategy='constant',fill_value=0)\n",
    "    df[hx] = imp2.fit_transform(df[[hx]])\n",
    "    return df\n",
    "    "
   ]
  },
  {
   "cell_type": "code",
   "execution_count": null,
   "metadata": {},
   "outputs": [],
   "source": [
    "\n",
    "# Handle bana and hx_bana  \n",
    "def transf_bana(df):\n",
    "    df['bana'] = df.bana.str.lower()\n",
    "    the_map = df.bana.value_counts() \n",
    "    the_map['missing']=0    \n",
    "\n",
    "    df=transform_hx_bana(df,'h1_bana',the_map)\n",
    "    df=transform_hx_bana(df,'h2_bana',the_map)\n",
    "    df=transform_hx_bana(df,'h3_bana',the_map)\n",
    "    df=transform_hx_bana(df,'h4_bana',the_map)\n",
    "    df=transform_hx_bana(df,'h5_bana',the_map)\n",
    "\n",
    "    df['bana']=df.bana.map(the_map)  # transform column to numeric by mapping \n",
    "    if df[['h1_bana','h2_bana','h3_bana','h4_bana','h5_bana',]].isna().sum().sum() != 0:\n",
    "        print('bana NaNs not 0:',df[['h1_bana','h2_bana','h3_bana','h4_bana','h5_bana',]].isna().sum())\n",
    "    \n",
    "    df.drop(['bana','h1_bana','h2_bana','h3_bana','h4_bana','h5_bana'],axis=1,inplace=True)\n",
    "    return df\n"
   ]
  },
  {
   "cell_type": "code",
   "execution_count": 113,
   "metadata": {},
   "outputs": [],
   "source": [
    "# SKIPPA DENNA\n",
    "def transf_kusk_häst(df,pref='',m=50,):\n",
    "    df[pref+'ekipage'] = df[pref+'kusk'].str.cat(df['häst'], sep =\", \")  # concatenate 'häst' and 'kusk' into one column\n",
    "    df[pref+'ekipage'] = calc_smooth_mean(df, y, by=pref+'ekipage',m=50) # make numeric with Target encoding with smooth mean\n",
    "    df.drop([pref+'kusk'],axis=1,inplace=True)\n",
    "    return df"
   ]
  },
  {
   "cell_type": "code",
   "execution_count": null,
   "metadata": {},
   "outputs": [],
   "source": [
    "print(list(df.select_dtypes('object').columns))\n",
    "print()\n",
    "print(list(df.select_dtypes('number').columns))"
   ]
  },
  {
   "cell_type": "code",
   "execution_count": null,
   "metadata": {},
   "outputs": [],
   "source": [
    "# Handle kön  \n",
    "def transf_kön(df):\n",
    "    from sklearn.preprocessing import OneHotEncoder\n",
    "    df['kön'] = df['kön'].str.lower()\n",
    "    ohe = OneHotEncoder(sparse=False)\n",
    "    dftemp=pd.DataFrame(ohe.fit_transform(df[['kön']]),columns=['kön_h','kön_s','kön_v'] )  # replae kön with One Hot Encoding\n",
    "    # df=pd.concat([df,dftemp],axis=1)\n",
    "\n",
    "    # check that kön is correct encoded\n",
    "    if len(df.loc[(df.kön=='h') & (df.kön_h != 1),'kön']):\n",
    "        assert False, 'Felaktigt kön h'\n",
    "    if len(df.loc[(df.kön=='s') & (df.kön_s != 1),'kön']):\n",
    "       assert False, 'Felaktigt kön s'\n",
    "    if len(df.loc[(df.kön=='v') & (df.kön_v != 1),'kön']):\n",
    "        assert False, 'Felaktigt kön v'\n",
    "    df.drop(['kön'],axis=1,inplace=True)\n",
    "    return df\n",
    "# s_c = FunctionTransformer(set_cols)\n",
    "from sklearn.compose import ColumnTransformer,make_column_transformer\n",
    "from sklearn.preprocessing import OneHotEncoder\n",
    "\n",
    "# union = FeatureUnion([('o',df.select_dtypes('object')), \n",
    "#                      ('n',df.select_dtypes('object')), \n",
    "#                       ]\n",
    "#                       )\n",
    "\n",
    "pipe=make_pipeline(SimpleImputer(missing_values=np.nan, strategy='constant',fill_value=-1))\n",
    "\n",
    "# mapper = DataFrameMapper([\n",
    "#     (['datum'], None),\n",
    "#     (['bana'], [lower,\n",
    "#                 SimpleImputer(missing_values=np.nan, strategy='constant',fill_value='missing'), ]),\n",
    "#     (['h1_bana','h2_bana','h3_bana','h4_bana','h5_bana'], [lower,\n",
    "#                 SimpleImputer(missing_values=np.nan, strategy='constant',fill_value='missing'), ],{'alias':'hx_bana'}),\n",
    "#     (['kön'], OneHotEncoder(sparse=False),{'alias':'kön'}),\n",
    "    \n",
    "#     (['kusk','h1_kusk','häst','plac'], lower, CustomSmoothMean(cols=['kusk','h1_kusk'],col2='häst',y='plac')),\n",
    "#     (['h1_kusk','häst'], lower,{'alias':'h1ekipage'}),\n",
    "#     (['h2_kusk','häst'], lower,{'alias':'h2ekipage'}),\n",
    "#     (['h3_kusk','häst'], lower,{'alias':'h3ekipage'}),\n",
    "#     (['h4_kusk','häst'], lower,{'alias':'h4ekipage'}),\n",
    "#     (['h5_kusk','häst'], lower,{'alias':'h5ekipage'}),\n",
    "    \n",
    "# ],df_out=True,input_df=True)\n",
    "# pipe2=Pipeline([('the_mapper',mapper), ('the_pipe',pipe)])\n",
    "# display(CustomSmoothMean(['kusk','h1_kusk'],['häst'],y='plac').fit(df).transform(df))\n",
    "\n",
    "# # svar1f = CustomSmoothMean.fit(df)\n",
    "# # svar1=mapper.fit_transform(df)\n",
    "# svar2=pipe.fit_transform(df.select_dtypes(include='number'))"
   ]
  },
  {
   "cell_type": "code",
   "execution_count": null,
   "metadata": {},
   "outputs": [],
   "source": [
    "\n",
    "# test_pipe=make_pipeline(CustomSmoothMean(col1='kusk',col2='häst',y='plac'))\n",
    "# def date_to_num(df):\n",
    "#     return pd.DataFrame(pd.to_datetime(df.datum).view(float)*10e210)\n",
    "\n",
    "# tranf_datum = FunctionTransformer(date_to_num)\n",
    "    \n",
    "# preprocessor = make_column_transformer(\n",
    "                                    \n",
    "#                                     (CustomSmoothMean(cols=['kusk','h1_kusk'],col2='häst',y='plac',m=30), ['kusk','h1_kusk','häst','plac']),\n",
    "#                                     (tranf_datum, ['datum']),\n",
    "#                                     (OneHotEncoder(), ['kön']), \n",
    "#                                      remainder='drop')\n",
    "\n",
    "# # test_pipe.fit_transform(df.copy())\n",
    "# display(preprocessor.fit_transform(df.copy()))\n",
    "\n",
    "# type((pd.to_datetime(df.datum).view(float)*10e210).values)\n"
   ]
  },
  {
   "cell_type": "code",
   "execution_count": null,
   "metadata": {},
   "outputs": [],
   "source": [
    "## test test\n",
    "# Partition data\n",
    "X_train, X_test, y_train, y_test = train_test_split(df.drop(columns=['plac']), \n",
    "                                                    df['plac'], \n",
    "                                                    test_size=.2, \n",
    "                                                    random_state=2021)\n",
    "\n",
    "# Define categorical columns\n",
    "categorical = list(X_train.select_dtypes('object').columns)\n",
    "print(f\"Categorical columns are: {categorical}\")\n",
    "\n",
    "# Define numerical columns\n",
    "numerical = list(X_train.select_dtypes('number').columns)\n",
    "print(f\"Numerical columns are: {numerical}\")# Define categorical pipeline\n",
    "cat_pipe = Pipeline([\n",
    "    ('imputer', SimpleImputer(strategy='constant', fill_value='missing')),\n",
    "    ('encoder', OneHotEncoder(handle_unknown='ignore', sparse=False))\n",
    "])\n",
    "\n",
    "# Define numerical pipeline\n",
    "num_pipe = Pipeline([\n",
    "    ('imputer', SimpleImputer(strategy='median')),\n",
    "    ('scaler', MinMaxScaler())\n",
    "])\n",
    "\n",
    "# Fit column transformer to training data\n",
    "preprocessor = ColumnTransformer([\n",
    "    ('cat', cat_pipe, categorical),\n",
    "    ('num', num_pipe, numerical)\n",
    "])\n",
    "preprocessor.fit(X_train)\n",
    "\n",
    "# Prepare column names\n",
    "cat_columns = preprocessor.named_transformers_['cat']['encoder'].get_feature_names(categorical)\n",
    "columns = np.append(cat_columns, numerical)\n",
    "\n",
    "# Inspect training data before and after\n",
    "print(\"******************** Training data ********************\")\n",
    "display(X_train.shape)\n",
    "display(len(columns))\n",
    "display(preprocessor.transform(X_train).shape)\n",
    "final=pd.DataFrame(preprocessor.transform(X_train),columns=columns)\n",
    "\n",
    "# Inspect test data before and after\n",
    "print(\"******************** Test data ********************\")\n",
    "# display(X_test)\n",
    "display(pd.DataFrame(preprocessor.transform(X_test), columns=columns))"
   ]
  },
  {
   "cell_type": "code",
   "execution_count": null,
   "metadata": {},
   "outputs": [],
   "source": [
    "\n",
    "def impute_all_numeric_NaNs(df):\n",
    "    # all features must be numeric\n",
    "    from sklearn.impute import SimpleImputer\n",
    "    imp1 = SimpleImputer(missing_values=np.nan, strategy='constant',fill_value=-1)\n",
    "    trdf=imp1.fit_transform(df)  # replae NaN's with 'missing'\n",
    "    return pd.DataFrame(trdf,columns=df.columns)"
   ]
  },
  {
   "cell_type": "markdown",
   "metadata": {},
   "source": [
    "## All the transformations in one function"
   ]
  },
  {
   "cell_type": "code",
   "execution_count": null,
   "metadata": {},
   "outputs": [],
   "source": [
    "\n",
    "def transf_all(df):\n",
    "    \n",
    "    trdf=transf_bana(df.copy())\n",
    "    trdf=transf_kusk_häst(trdf)\n",
    "    trdf=transf_kusk_häst(trdf,pref='h1_')\n",
    "    trdf=transf_kusk_häst(trdf,pref='h2_')\n",
    "    trdf=transf_kusk_häst(trdf,pref='h3_')\n",
    "    trdf=transf_kusk_häst(trdf,pref='h4_')\n",
    "    trdf=transf_kusk_häst(trdf,pref='h5_')\n",
    "    trdf.drop(['häst'],axis=1,inplace=True)\n",
    "    trdf=transf_kön(trdf)\n",
    "    trdf['datum']=pd.to_datetime(trdf.datum).view(float)*10e210\n",
    "    \n",
    "    return impute_all_numeric_NaNs(trdf)"
   ]
  },
  {
   "cell_type": "code",
   "execution_count": null,
   "metadata": {},
   "outputs": [],
   "source": []
  },
  {
   "cell_type": "code",
   "execution_count": null,
   "metadata": {},
   "outputs": [],
   "source": [
    "\n",
    "# transform all categoricals and impute all NaNs\n",
    "def prepare_all(df):\n",
    "    trdf = transf_all(df)\n",
    "    \n",
    "    y = (trdf.plac==1) * 1\n",
    "    trdf = trdf.drop('plac',axis=1)\n",
    "    \n",
    "    # all features are now numeric\n",
    "    trdf = impute_all_numeric_NaNs(trdf)\n",
    "    if trdf.isna().sum().sum() != 0:\n",
    "        print('still NaNs in data')\n",
    "        assert False\n",
    "    return trdf,y"
   ]
  },
  {
   "cell_type": "markdown",
   "metadata": {},
   "source": [
    "## stacking prepare and run"
   ]
  },
  {
   "cell_type": "code",
   "execution_count": null,
   "metadata": {},
   "outputs": [],
   "source": [
    "# metrics\n",
    "from sklearn.metrics import make_scorer\n",
    "from sklearn.metrics import accuracy_score\n",
    "from sklearn.metrics import matthews_corrcoef\n",
    "from sklearn.metrics import roc_auc_score\n",
    "from sklearn.metrics import f1_score\n",
    "\n",
    "# for tuning\n",
    "from sklearn.model_selection import GridSearchCV, RandomizedSearchCV\n",
    "from sklearn.model_selection import cross_val_score\n",
    "from sklearn.model_selection import TimeSeriesSplit"
   ]
  },
  {
   "cell_type": "markdown",
   "metadata": {},
   "source": [
    "### CatBoost"
   ]
  },
  {
   "cell_type": "code",
   "execution_count": null,
   "metadata": {},
   "outputs": [],
   "source": [
    "#catBoost preprocessing\n",
    "def catB_preprocess(df):\n",
    "        y = (df.plac==1) * 1\n",
    "        df = df.drop('plac',axis=1)\n",
    "        df = impute_cat_features(df,cat_features=CAT_FEATURES)\n",
    "\n",
    "        return df,y\n"
   ]
  },
  {
   "cell_type": "code",
   "execution_count": null,
   "metadata": {},
   "outputs": [],
   "source": [
    "\n",
    "# clean the cat_features\n",
    "df_catb, y = catB_preprocess(df.copy())\n",
    "df_catb[CAT_FEATURES].isna().sum().sum()"
   ]
  },
  {
   "cell_type": "code",
   "execution_count": null,
   "metadata": {},
   "outputs": [],
   "source": [
    "trdf,y=prepare_all(df)\n",
    "scorer = make_scorer(roc_auc_score)"
   ]
  },
  {
   "cell_type": "code",
   "execution_count": null,
   "metadata": {},
   "outputs": [],
   "source": [
    "# CatBoost model GridSearchCV\n",
    "my_df_1=df_catb             # catboost with Nans abd cat_features\n",
    "my_cats_1 = CAT_FEATURES\n",
    "my_df_2 = trdf              # dataset common for all estimators\n",
    "my_cats_2 = []\n",
    "\n",
    "my_df = my_df_2\n",
    "my_cats = my_cats_2\n",
    "my_pool = Pool(my_df,y,cat_features=my_cats)\n",
    "my_catb = CatBoostClassifier(cat_features=my_cats)\n",
    "\n",
    "tscv = TimeSeriesSplit(n_splits=5)\n",
    "params = {'iterations': [50,100,500,1000],\n",
    "          'depth': [2,3,4, 5, 6],\n",
    "          'loss_function': ['Logloss'],\n",
    "          'l2_leaf_reg': np.logspace(-20, -19, 3),\n",
    "          'leaf_estimation_iterations': [10],\n",
    "          'eval_metric': ['AUC'],\n",
    "        #   'use_best_model': ['True'],\n",
    "          'logging_level':['Silent'],\n",
    "          'random_seed': [2021],\n",
    "         }\n",
    "# clf.fit(df_catb,y)\n",
    "\n",
    "catb_grid = RandomizedSearchCV(estimator=my_catb, param_distributions=params, scoring=scorer, cv=tscv)\n",
    "\n",
    "# GridSearchCV  - compare with default\n",
    "catb_grid.fit(my_df,y)\n"
   ]
  },
  {
   "cell_type": "code",
   "execution_count": null,
   "metadata": {},
   "outputs": [],
   "source": [
    "# get best estimator and params\n",
    "best_catb = catb_grid.best_estimator_\n",
    "print('best gridsearch',catb_grid.best_score_)\n",
    "best_param = catb_grid.best_params_\n",
    "best_param"
   ]
  },
  {
   "cell_type": "code",
   "execution_count": null,
   "metadata": {},
   "outputs": [],
   "source": [
    "# print(best_catb.fit(my_df,y).best_score_)\n",
    "best_catb.get_feature_importance(prettified=True).head(8)"
   ]
  },
  {
   "cell_type": "markdown",
   "metadata": {},
   "source": [
    "### XGBoost"
   ]
  },
  {
   "cell_type": "code",
   "execution_count": null,
   "metadata": {},
   "outputs": [],
   "source": [
    "# XGBoost model \n",
    "import xgboost as xgb\n",
    "label = y\n",
    "dtrain = xgb.DMatrix(trdf, label=label)\n",
    "param = {'max_depth':2, 'eta':1 }\n",
    "num_round = 10\n",
    "\n",
    "# GridSearchCV\n",
    "params = {'nthread':[4], #when use hyperthread, xgboost may become slower\n",
    "              'objective':['binary:logistic'],\n",
    "              'learning_rate': [0.09,0.1,0.15], #so called `eta` value\n",
    "              'max_depth': [7,8,9],\n",
    "              'min_child_weight': [9,10,11],\n",
    "              'use_label_encoder':[False],\n",
    "            #   'silent': [1],\n",
    "              'eval_metric': ['logloss'],\n",
    "              'subsample': [0.5,0.9,1.0],\n",
    "              'colsample_bytree': [0.7, 0.9, 1.0],\n",
    "              'n_estimators': [7,8,9], #number of trees, change it to 1000 for better results\n",
    "              'missing':[-999],\n",
    "              'seed': [2021],\n",
    "              }\n",
    "\n",
    "xgb_clf = xgb.XGBClassifier(num_round=num_round)\n",
    "xgb_grid = GridSearchCV(estimator=xgb_clf, param_grid=params, n_jobs=3,scoring=scorer, cv=tscv)\n",
    "xgb_grid.fit(trdf, y )"
   ]
  },
  {
   "cell_type": "code",
   "execution_count": null,
   "metadata": {},
   "outputs": [],
   "source": [
    "# get best estimator and params\n",
    "best_xgb = xgb_grid.best_estimator_\n",
    "print('best gridsearch', xgb_grid.best_score_)\n",
    "best_param = xgb_grid.best_params_\n",
    "best_param"
   ]
  },
  {
   "cell_type": "code",
   "execution_count": null,
   "metadata": {},
   "outputs": [],
   "source": [
    "pd.DataFrame(best_xgb.feature_importances_,index=trdf.columns).sort_values(by=0,ascending=False).head(6)"
   ]
  },
  {
   "cell_type": "markdown",
   "metadata": {},
   "source": [
    "### ExtraTree"
   ]
  },
  {
   "cell_type": "code",
   "execution_count": null,
   "metadata": {},
   "outputs": [],
   "source": [
    "# ExtraTree  model\n",
    "tscv = TimeSeriesSplit()\n",
    "from sklearn.tree import ExtraTreeClassifier\n",
    "et = ExtraTreeClassifier(min_samples_split=2, random_state=2021,class_weight='balanced')\n",
    "\n",
    "# GridSearchCV\n",
    "params = {'class_weight': [ 'balanced'  ,None], \n",
    "          'max_depth': [None, 5, 10  ,15 ,20],\n",
    "          'min_samples_leaf': [1, 2 ,3, 4,],\n",
    "          'min_samples_split': [2,30, 30,  40  ,45],   \n",
    "          'criterion': [ 'gini'  ,'entropy'],   \n",
    "          'splitter': ['random',  'best']\n",
    "         }\n",
    "\n",
    "et_grid = GridSearchCV(estimator=et, param_grid=params, n_jobs=3,scoring=scorer, cv=tscv)\n",
    "et_grid.fit(trdf, y)"
   ]
  },
  {
   "cell_type": "code",
   "execution_count": null,
   "metadata": {},
   "outputs": [],
   "source": [
    "# get best estimator and params\n",
    "best_et = et_grid.best_estimator_\n",
    "print('best gridsearch', et_grid.best_score_)\n",
    "best_param = et_grid.best_params_\n",
    "best_param"
   ]
  },
  {
   "cell_type": "markdown",
   "metadata": {},
   "source": [
    "### KNN"
   ]
  },
  {
   "cell_type": "code",
   "execution_count": null,
   "metadata": {},
   "outputs": [],
   "source": [
    "# KNN model\n",
    "knn = KNeighborsClassifier(n_neighbors=5, n_jobs=4, )\n",
    "\n",
    "# GridSearchCV\n",
    "\n",
    "tscv = TimeSeriesSplit()\n",
    "params = {'n_neighbors': [10,15,20],\n",
    "          \n",
    "         }\n",
    "\n",
    "knn_grid = GridSearchCV(estimator=knn, param_grid=params, n_jobs=3,scoring=scorer, cv=tscv)\n",
    "\n",
    "# GridSearchCV  \n",
    "knn_grid.fit(trdf, y)"
   ]
  },
  {
   "cell_type": "code",
   "execution_count": null,
   "metadata": {},
   "outputs": [],
   "source": [
    "best_knn = knn_grid.best_estimator_\n",
    "print('best gridsearch',knn_grid.best_score_)\n",
    "best_param = knn_grid.best_params_\n",
    "best_param"
   ]
  },
  {
   "cell_type": "markdown",
   "metadata": {},
   "source": [
    "### RandomForrest"
   ]
  },
  {
   "cell_type": "code",
   "execution_count": null,
   "metadata": {},
   "outputs": [],
   "source": [
    "# GridSearch\n",
    "rf = RandomForestClassifier()\n",
    "\n",
    "tscv = TimeSeriesSplit()\n",
    "params = {'n_estimators': [5,10,100],\n",
    "          'max_depth': [4, 5, 6, None],\n",
    "          'class_weight': ['balanced'],\n",
    "        #   'loss_function': ['Logloss'],\n",
    "        #   'eval_metric': ['F1'],\n",
    "        #   'logging_level':['Silent'],\n",
    "          'random_state': [2021],\n",
    "         }\n",
    "# clf.fit(df_catb,y)\n",
    "\n",
    "rf_grid = GridSearchCV(estimator=rf, param_grid=params, n_jobs=3,scoring=scorer, cv=tscv)\n",
    "\n",
    "# GridSearchCV  \n",
    "rf_grid.fit(trdf, y)"
   ]
  },
  {
   "cell_type": "code",
   "execution_count": null,
   "metadata": {},
   "outputs": [],
   "source": [
    "best_rf = rf_grid.best_estimator_\n",
    "print('best gridsearch',rf_grid.best_score_)\n",
    "best_param = rf_grid.best_params_\n",
    "best_param"
   ]
  },
  {
   "cell_type": "code",
   "execution_count": null,
   "metadata": {},
   "outputs": [],
   "source": [
    "\n",
    "pd.DataFrame(best_rf.feature_importances_,index=trdf.columns, columns=['importance']).sort_values(by='importance',ascending=False)"
   ]
  },
  {
   "cell_type": "markdown",
   "metadata": {},
   "source": [
    "### SVC"
   ]
  },
  {
   "cell_type": "code",
   "execution_count": null,
   "metadata": {},
   "outputs": [],
   "source": [
    "# GridSearchCV\n",
    "# from sklearn.svm import SVC\n",
    "# svc = SVC(C=1.0, gamma='scale', tol=0.001, cache_size=200, class_weight='balanced', random_state=2021)\n",
    "\n",
    "# tscv = TimeSeriesSplit()\n",
    "# params = {'C': [1,2,3],\n",
    "#           'gamma': ['scale','auto'],\n",
    "#           'class_weight': ['balanced'],\n",
    "#           'random_state': [2021],\n",
    "#          }\n",
    "\n",
    "# svc_grid = GridSearchCV(estimator=svc, param_grid=params, n_jobs=3,scoring=scorer, cv=tscv)\n",
    "\n",
    "# svc_grid.fit(trdf, y)"
   ]
  },
  {
   "cell_type": "code",
   "execution_count": null,
   "metadata": {},
   "outputs": [],
   "source": [
    "# # get best estimator and params\n",
    "# best_svc = svc_grid.best_estimator_\n",
    "# print('best gridsearch', svc_grid.best_score_)\n",
    "# best_param = svc_grid.best_params_\n",
    "# best_param"
   ]
  },
  {
   "cell_type": "markdown",
   "metadata": {},
   "source": [
    "## Stack'em"
   ]
  },
  {
   "cell_type": "code",
   "execution_count": null,
   "metadata": {},
   "outputs": [],
   "source": [
    "#\n",
    "from sklearn.ensemble import StackingClassifier\n",
    "from sklearn.linear_model import LogisticRegressionCV\n",
    "base_models = [('xgb',best_xgb,),\n",
    "               ('rf',best_rf,),\n",
    "               ('catb', best_catb,),\n",
    "              ('knn', best_knn, ),\n",
    "              ('et', best_et)              # ger  sämre res\n",
    "               # ('ridge', best_ridge, ) ,   # saknar predict_proba - usless!\n",
    "            #    ('svc', best_svc, ),        # tar extremt lång tid för fit\n",
    "               ]\n",
    "meta_model = LogisticRegressionCV(class_weight='balanced')\n"
   ]
  },
  {
   "cell_type": "code",
   "execution_count": null,
   "metadata": {},
   "outputs": [],
   "source": [
    "def evaluate_model(model, X, y, scoring=scorer):\n",
    "    print('scorer =',scorer)\n",
    "    tscv = TimeSeriesSplit(n_splits=5)\n",
    "    scores = cross_val_score(model, X, y, scoring=scoring, cv=tscv, verbose=1, n_jobs=3, error_score='raise')\n",
    "    return scores\n",
    "\n",
    "def Stacking(model_item, X_tr, y_tr, X_final, n_fold):\n",
    "    model=model_item[1]\n",
    "    print(model_item[0], end=' ')\n",
    "    tscv = TimeSeriesSplit(n_splits=n_fold)\n",
    "    # valid_pred=np.empty((X_valid.shape[0],1),float)\n",
    "    train_pred=np.empty((0,1),float)\n",
    "    for n, (train_indices, test_indices) in enumerate(tscv.split(X_tr)):\n",
    "        if n==0:\n",
    "            the_first_set_len = len(train_indices) # the first set that cannot be used in timeSeries stacking\n",
    "            \n",
    "        X_train, X_test = X_tr.iloc[train_indices], X_tr.iloc[test_indices]\n",
    "        y_train, y_test = y_tr.iloc[train_indices], y_tr.iloc[test_indices]\n",
    "        print(n,end=' ')\n",
    "        model.fit(X=X_train,y=y_train)\n",
    "        train_pred=np.append(train_pred,model.predict_proba(X_test)[:,1])\n",
    "    print(f'- final fit (the_first_set_len={the_first_set_len})' )\n",
    "    model.fit(X=X_tr,y=y_tr) # fit on all data (except the final data)   \n",
    "    valid_pred = model.predict_proba(X_final)[:,1]\n",
    "    return model,valid_pred.reshape(-1,1), train_pred, the_first_set_len\n"
   ]
  },
  {
   "cell_type": "code",
   "execution_count": null,
   "metadata": {},
   "outputs": [],
   "source": [
    "split_ix = int(len(trdf)*.8)\n",
    "train_X = trdf[trdf.index <  split_ix]\n",
    "valid_X = trdf[trdf.index >= split_ix]\n",
    "train_y = y[y.index <  split_ix]\n",
    "valid_y = y[y.index >=  split_ix]\n",
    "\n",
    "# the estimators\n",
    "valid_pred=[None] * len(base_models)\n",
    "train_pred=[None] * len(base_models)\n",
    "model=[None] * len(base_models)\n",
    "for n, model_item in enumerate(base_models):\n",
    "    model[n],valid_pred[n] ,train_pred[n], the_first_set_len = Stacking(model_item,n_fold=5, X_tr=train_X, y_tr= train_y, X_final=valid_X)\n",
    "    train_pred[n]=pd.DataFrame(train_pred[n],columns=[model_item[0]])\n",
    "    valid_pred[n]=pd.DataFrame(valid_pred[n],columns=[model_item[0]])\n",
    "    \n",
    "    scores=evaluate_model(model[n],train_X,train_y)\n",
    "    print(f'mean={np.mean(scores)}: {scores}')\n",
    "train_y = train_y.iloc[the_first_set_len:]      # remove the first set that can't be used in timeseries stacking\n",
    "train_pred=pd.concat(train_pred,axis=1)\n",
    "valid_pred=pd.concat(valid_pred,axis=1)"
   ]
  },
  {
   "cell_type": "markdown",
   "metadata": {},
   "source": [
    "## Final estimation with the meta model"
   ]
  },
  {
   "cell_type": "code",
   "execution_count": null,
   "metadata": {},
   "outputs": [],
   "source": [
    "import time\n",
    "meta_model.fit(train_pred,train_y)\n",
    "scores=evaluate_model(meta_model,valid_pred,valid_y)\n",
    "time.sleep(0.2)\n",
    "print('models', list(valid_pred.columns))\n",
    "print(f'mean={np.mean(scores)}: {scores}')"
   ]
  },
  {
   "cell_type": "markdown",
   "metadata": {},
   "source": [
    "## rf, catb, knn, et - 0.88803\n",
    "## xgb, rf, catb, knn, et - 0.88720"
   ]
  }
 ],
 "metadata": {
  "interpreter": {
   "hash": "5eb2e0c23f8e38f19a3cfe8ad2d7bbb895a86b1e106b247f2b169180d03d2047"
  },
  "kernelspec": {
   "display_name": "Python 3.8.11 64-bit ('base': conda)",
   "name": "python3"
  },
  "language_info": {
   "codemirror_mode": {
    "name": "ipython",
    "version": 3
   },
   "file_extension": ".py",
   "mimetype": "text/x-python",
   "name": "python",
   "nbconvert_exporter": "python",
   "pygments_lexer": "ipython3",
   "version": "3.8.11"
  },
  "orig_nbformat": 2
 },
 "nbformat": 4,
 "nbformat_minor": 2
}
