{
 "cells": [
  {
   "cell_type": "markdown",
   "metadata": {},
   "source": [
    "# Två typer av outliers\n",
    "### Hittade inget av värde"
   ]
  },
  {
   "cell_type": "code",
   "execution_count": 13,
   "metadata": {},
   "outputs": [],
   "source": [
    "# import modules\n",
    "import numpy as np\n",
    "import pandas as pd\n",
    "import matplotlib.pyplot as plt\n",
    "from IPython.display import display\n"
   ]
  },
  {
   "cell_type": "code",
   "execution_count": 89,
   "metadata": {},
   "outputs": [
    {
     "data": {
      "text/plain": [
       "'avd'"
      ]
     },
     "metadata": {},
     "output_type": "display_data"
    },
    {
     "data": {
      "text/plain": [
       "datum\n",
       "2014-12-28    3\n",
       "2014-12-28    3\n",
       "2014-12-28    3\n",
       "2014-12-28    3\n",
       "2014-12-28    3\n",
       "             ..\n",
       "2021-12-23    7\n",
       "2021-12-23    7\n",
       "2021-12-23    7\n",
       "2021-12-23    7\n",
       "2021-12-23    7\n",
       "Name: avd, Length: 30749, dtype: int64"
      ]
     },
     "metadata": {},
     "output_type": "display_data"
    },
    {
     "name": "stdout",
     "output_type": "stream",
     "text": [
      "mz\n",
      "datum\n",
      "2014-12-28    0.33725\n",
      "2014-12-28    0.33725\n",
      "2014-12-28    0.33725\n",
      "2014-12-28    0.33725\n",
      "2014-12-28    0.33725\n",
      "               ...   \n",
      "2021-12-23    0.33725\n",
      "2021-12-23    0.33725\n",
      "2021-12-23    0.33725\n",
      "2021-12-23    0.33725\n",
      "2021-12-23    0.33725\n",
      "Name: avd, Length: 43041, dtype: float64\n",
      "lower\n",
      "datum\n",
      "2014-12-28   -2.66275\n",
      "2014-12-28   -2.66275\n",
      "2014-12-28   -2.66275\n",
      "2014-12-28   -2.66275\n",
      "2014-12-28   -2.66275\n",
      "               ...   \n",
      "2021-12-23   -2.66275\n",
      "2021-12-23   -2.66275\n",
      "2021-12-23   -2.66275\n",
      "2021-12-23   -2.66275\n",
      "2021-12-23   -2.66275\n",
      "Name: avd, Length: 43041, dtype: float64\n",
      "upper\n",
      "datum\n",
      "2014-12-28    3.33725\n",
      "2014-12-28    3.33725\n",
      "2014-12-28    3.33725\n",
      "2014-12-28    3.33725\n",
      "2014-12-28    3.33725\n",
      "               ...   \n",
      "2021-12-23    3.33725\n",
      "2021-12-23    3.33725\n",
      "2021-12-23    3.33725\n",
      "2021-12-23    3.33725\n",
      "2021-12-23    3.33725\n",
      "Name: avd, Length: 43041, dtype: float64\n",
      "\n"
     ]
    }
   ],
   "source": [
    "# Läs in all_data.csv\n",
    "# select numeric columns\n",
    "df = pd.read_csv('../all_data.csv')\n",
    "df.set_index('datum', inplace=True)\n",
    "df = df.select_dtypes(include=[np.number])\n",
    "\n",
    "def find_outliers(df, col):\n",
    "    \"\"\"\n",
    "    Finds outliers in a given column\n",
    "    \"\"\"\n",
    "    # calculate the mean and standard deviation of the column\n",
    "    mean = df[col].mean()\n",
    "    std = df[col].std()\n",
    "    # calculate the lower and upper bound\n",
    "    lower_bound = mean - (2 * std)\n",
    "    upper_bound = mean + (2 * std)\n",
    "    \n",
    "    if ((df[col] < lower_bound) | (df[col] > upper_bound)).empty:\n",
    "        return False\n",
    "    else:\n",
    "        print(col,round(mean,1), round(std,1), round(lower_bound,1), round(upper_bound,1))\n",
    "        # if the value is outside the bounds, return True\n",
    "        print(df[(df[col]< lower_bound) | (df[col] > upper_bound)][col].values)\n",
    "        return True\n",
    "    \n",
    "def compute_modified_Z_score(df, col):\n",
    "    \"\"\"\n",
    "    Computes the modified Z-score of a given column\n",
    "    \"\"\"\n",
    "    # calculate the median of the column\n",
    "    median = df[col].median()\n",
    "    # calculate the absolute difference between the median and the column\n",
    "    abs_diff = np.abs(df[col] - median)\n",
    "    # calculate the median absolute difference\n",
    "    mad = np.median(abs_diff)\n",
    "    # calculate the modified Z-score\n",
    "    mz = 0.6745 * (abs_diff - mad) / mad\n",
    "    return mz\n",
    "\n",
    "def find_modified_outliers(df, col):\n",
    "    \"\"\"\n",
    "    Finds outliers in a given column\n",
    "    \"\"\"\n",
    "    # calculate the modified Z-score\n",
    "    mz = compute_modified_Z_score(df, col)\n",
    "    # calculate the lower and upper bound\n",
    "    lower_bound = mz - 3\n",
    "    upper_bound = mz + 3\n",
    "    # if the value is outside the bounds, return True\n",
    "    if ((df[col] < lower_bound) | (df[col] > upper_bound)).empty:\n",
    "        return False\n",
    "    else:\n",
    "        display(col,df[(df[col] < lower_bound) | (df[col] > upper_bound)][col])\n",
    "        print(f'mz\\n{mz}\\nlower\\n{lower_bound}\\nupper\\n{upper_bound}')\n",
    "        return True\n",
    "    \n",
    "for col in df.columns:\n",
    "    if find_modified_outliers(df, col):\n",
    "        print('')\n",
    "    break   \n"
   ]
  },
  {
   "cell_type": "code",
   "execution_count": 68,
   "metadata": {},
   "outputs": [
    {
     "data": {
      "text/plain": [
       "count    43041.000000\n",
       "mean         4.008806\n",
       "std          1.987166\n",
       "min          1.000000\n",
       "25%          2.000000\n",
       "50%          4.000000\n",
       "75%          6.000000\n",
       "max          7.000000\n",
       "Name: avd, dtype: float64"
      ]
     },
     "execution_count": 68,
     "metadata": {},
     "output_type": "execute_result"
    }
   ],
   "source": [
    "df.avd.describe()"
   ]
  },
  {
   "cell_type": "code",
   "execution_count": null,
   "metadata": {},
   "outputs": [],
   "source": []
  }
 ],
 "metadata": {
  "interpreter": {
   "hash": "c8488a4a715be31abb9488591c273d21f6ad2ccf4a90ce6956248586de0eec3a"
  },
  "kernelspec": {
   "display_name": "Python 3.10.0 64-bit ('threeten': conda)",
   "language": "python",
   "name": "python3"
  },
  "language_info": {
   "codemirror_mode": {
    "name": "ipython",
    "version": 3
   },
   "file_extension": ".py",
   "mimetype": "text/x-python",
   "name": "python",
   "nbconvert_exporter": "python",
   "pygments_lexer": "ipython3",
   "version": "3.10.0"
  },
  "orig_nbformat": 4
 },
 "nbformat": 4,
 "nbformat_minor": 2
}
