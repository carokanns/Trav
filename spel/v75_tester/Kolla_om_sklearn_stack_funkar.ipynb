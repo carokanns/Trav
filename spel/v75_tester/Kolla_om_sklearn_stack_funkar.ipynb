{
 "cells": [
  {
   "cell_type": "code",
   "execution_count": null,
   "metadata": {},
   "outputs": [],
   "source": [
    "# import streamlit as st\n",
    "import numpy as np\n",
    "import pandas as pd\n",
    "from IPython.display import display\n",
    "\n",
    "pd.set_option('display.max_colwidth', None)\n",
    "pd.set_option('display.width', 260)\n",
    "pd.set_option('display.max_columns', 200)\n",
    "pd.set_option('display.max_rows', 120)\n",
    "\n",
    "pref='../'\n",
    "\n",
    "import pickle\n",
    "\n",
    "from catboost import CatBoostClassifier, Pool\n",
    "# import concurrent.futures\n",
    "import time\n",
    "\n",
    "import sys\n",
    "sys.path.append(\n",
    "    'C:\\\\Users\\\\peter\\\\Documents\\\\MyProjects\\\\PyProj\\\\Trav\\\\spel')\n",
    "\n",
    "import typ_copy as tp\n",
    "import travdata as td\n"
   ]
  },
  {
   "cell_type": "markdown",
   "metadata": {},
   "source": [
    "Läs in data och tvätta"
   ]
  },
  {
   "cell_type": "code",
   "execution_count": null,
   "metadata": {},
   "outputs": [],
   "source": [
    "###############################################################################\n",
    "#                           Läs in all data och tvätta                        #\n",
    "###############################################################################\n",
    "def läs_in_data(förbered=True, lägg_till=True):\n",
    "    v75 = td.v75(pref=pref)\n",
    "    _ = v75.förbered_data(missing_num=False)  # num hanteras av catboost\n",
    "    df = v75.test_lägg_till_kolumner()\n",
    "    return df,v75"
   ]
  },
  {
   "cell_type": "markdown",
   "metadata": {},
   "source": [
    "### Vi förbereder ensemble stacking classifier med 3 modeller och en meta-modell"
   ]
  },
  {
   "cell_type": "code",
   "execution_count": null,
   "metadata": {},
   "outputs": [],
   "source": [
    "# import module for ensamble stacking classifier\n",
    "from sklearn.ensemble import StackingClassifier"
   ]
  },
  {
   "cell_type": "code",
   "execution_count": null,
   "metadata": {},
   "outputs": [],
   "source": [
    "# models to be used in stacking\n",
    "from sklearn.ensemble import RandomForestClassifier\n",
    "from sklearn.ensemble import ExtraTreesClassifier\n",
    "from sklearn.neighbors import KNeighborsClassifier\n",
    "\n",
    "# meta-model to be used in final classifier\n",
    "from sklearn.linear_model import RidgeClassifier\n",
    "\n",
    "# create models\n",
    "rf = RandomForestClassifier(n_estimators=100, random_state=42)\n",
    "et = ExtraTreesClassifier(n_estimators=100, random_state=42)\n",
    "knn = KNeighborsClassifier(n_neighbors=5)\n",
    "lr = RidgeClassifier()  # meta-model"
   ]
  },
  {
   "cell_type": "markdown",
   "metadata": {},
   "source": [
    "Set up stacking med TimeSeriesSplit"
   ]
  },
  {
   "cell_type": "code",
   "execution_count": null,
   "metadata": {},
   "outputs": [],
   "source": [
    "# set up time series split\n",
    "from sklearn.model_selection import TimeSeriesSplit\n",
    "tscv = TimeSeriesSplit(n_splits=5)"
   ]
  },
  {
   "cell_type": "code",
   "execution_count": null,
   "metadata": {},
   "outputs": [],
   "source": [
    "# set up the stacking classifier\n",
    "stacker = StackingClassifier(estimators=[('rf', rf), ('et', et), ('knn', knn)],\n",
    "                                final_estimator=RidgeClassifier(),  # meta-model\n",
    "                                cv=tscv,\n",
    "                                n_jobs=5)"
   ]
  },
  {
   "cell_type": "code",
   "execution_count": null,
   "metadata": {},
   "outputs": [],
   "source": [
    "df, v75 = läs_in_data()"
   ]
  },
  {
   "cell_type": "code",
   "execution_count": null,
   "metadata": {},
   "outputs": [],
   "source": [
    "df.head(0)"
   ]
  },
  {
   "cell_type": "markdown",
   "metadata": {},
   "source": [
    "Remove features not used here"
   ]
  },
  {
   "cell_type": "code",
   "execution_count": null,
   "metadata": {},
   "outputs": [],
   "source": [
    "df_work,enc = v75.förbered_data(missing_num=True, \n",
    "                            missing_cat=True, \n",
    "                            # cardinality_list=['häst', 'bana', 'kusk', 'h1_kusk', 'h2_kusk', 'h3_kusk', 'h4_kusk', 'h5_kusk', 'h1_bana', 'h2_bana', 'h3_bana', 'h4_bana', 'h5_bana'], \n",
    "                            target_encode_list=['häst', 'bana', 'kusk', 'kön','h1_kusk', 'h2_kusk', 'h3_kusk', 'h4_kusk', 'h5_kusk', 'h1_bana', 'h2_bana', 'h3_bana', 'h4_bana', 'h5_bana'],\n",
    "                            remove_mer=[])\n",
    "df_work.head(3)"
   ]
  },
  {
   "cell_type": "code",
   "execution_count": null,
   "metadata": {},
   "outputs": [],
   "source": [
    "# stacker fit\n",
    "stacker.fit(df_work.drop(['datum','avd','y'], axis=1), df_work['y'])\n"
   ]
  }
 ],
 "metadata": {
  "kernelspec": {
   "display_name": "Python 3.9.13 ('base')",
   "language": "python",
   "name": "python3"
  },
  "language_info": {
   "codemirror_mode": {
    "name": "ipython",
    "version": 3
   },
   "file_extension": ".py",
   "mimetype": "text/x-python",
   "name": "python",
   "nbconvert_exporter": "python",
   "pygments_lexer": "ipython3",
   "version": "3.9.13"
  },
  "orig_nbformat": 4,
  "vscode": {
   "interpreter": {
    "hash": "3d733caf4ffc39d0fbd9a2ba54ef4b7d515956d8048931f8241efe3827fb2d1f"
   }
  }
 },
 "nbformat": 4,
 "nbformat_minor": 2
}
