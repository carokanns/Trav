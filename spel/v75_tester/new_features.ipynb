{
 "cells": [
  {
   "cell_type": "markdown",
   "metadata": {},
   "source": [
    "# Nya features\n",
    "### 1. Kolla vad antal hästar per lopp kan ge\n",
    "### 2. Kolla vad Bayes target kodning för bana, kusk och häst kan ge"
   ]
  },
  {
   "cell_type": "code",
   "execution_count": null,
   "metadata": {},
   "outputs": [],
   "source": [
    "# import modules\n",
    "import numpy as np\n",
    "import pandas as pd\n",
    "import matplotlib.pyplot as plt\n",
    "from IPython.display import display"
   ]
  },
  {
   "cell_type": "code",
   "execution_count": null,
   "metadata": {},
   "outputs": [],
   "source": [
    "# Läs in all_data.csv\n",
    "# select numeric columns\n",
    "df = pd.read_csv('../all_data.csv')\n",
    "# df.set_index('datum', inplace=True)\n",
    "df.columns"
   ]
  },
  {
   "cell_type": "code",
   "execution_count": null,
   "metadata": {},
   "outputs": [],
   "source": [
    "# count number per avdeling\n",
    "df_count = df.groupby(['datum','avd'])['avd'].count()\n",
    "df['avd_count'] = None\n",
    "df['avd_count'] = df.groupby(['datum', 'avd'])['avd'].transform('count')"
   ]
  },
  {
   "cell_type": "code",
   "execution_count": null,
   "metadata": {},
   "outputs": [],
   "source": [
    "df['avd_count'].unique()\n",
    "my_remove_list = ['streck']\n",
    "sorted(df['avd_count'].unique())"
   ]
  },
  {
   "cell_type": "markdown",
   "metadata": {},
   "source": [
    "# Kolla med catboost"
   ]
  },
  {
   "cell_type": "markdown",
   "metadata": {},
   "source": [
    "### Några hjälp-funktioner"
   ]
  },
  {
   "cell_type": "code",
   "execution_count": null,
   "metadata": {},
   "outputs": [],
   "source": [
    "def split_data(df_,train_from_proc=0,test_proc=0.25):\n",
    "    df=df_.copy()\n",
    "    alla_datum = df.datum.unique()\n",
    "    train_from_datum = alla_datum[ int(len(alla_datum)*train_from_proc)]\n",
    "    print(\"train from\",train_from_datum)\n",
    "    X_test=None\n",
    "    y_test=None\n",
    "    test_from_datum=alla_datum[-1]\n",
    "    if test_proc:\n",
    "        selected_data = alla_datum[ alla_datum >= train_from_datum ]\n",
    "        test_from_datum = selected_data[ int(len(selected_data)*(1-test_proc)) ]\n",
    "        print(\"test from\",test_from_datum)\n",
    "        X_test  = df[df.datum >= test_from_datum]\n",
    "        y_test  = (X_test.plac==1)*1\n",
    "        X_test  = X_test.drop('plac',axis=1)\n",
    "        \n",
    "    X_train = df[(df.datum >= train_from_datum) & (df.datum < test_from_datum) ]\n",
    "    y_train = (X_train.plac==1)*1\n",
    "    \n",
    "    return X_train.drop('plac', axis=1), X_test, y_train, y_test\n",
    "### Features som inte används vid träning\n",
    "\n",
    "def remove_features(df_, remove_mer=[]):\n",
    "    df = df_.drop(['avd', 'startnr', 'vodds', 'podds', 'bins',\n",
    "                  'h1_dat', 'h2_dat', 'h3_dat', 'h4_dat', 'h5_dat'], axis=1)\n",
    "    if remove_mer:\n",
    "        df = df.drop(remove_mer, axis=1)\n",
    "    return df\n"
   ]
  },
  {
   "cell_type": "markdown",
   "metadata": {},
   "source": [
    "### set up for catboost classifier"
   ]
  },
  {
   "cell_type": "code",
   "execution_count": null,
   "metadata": {},
   "outputs": [],
   "source": [
    "# set up catboost classifier model\n",
    "from catboost import CatBoostClassifier, cv, Pool\n",
    "\n",
    "X_train, X_test, y_train, y_test = split_data(\n",
    "    df, train_from_proc=0.3, test_proc=0.25)\n",
    "X_train = remove_features(X_train, remove_mer=my_remove_list )\n",
    "X_test = remove_features(X_test, remove_mer=my_remove_list )\n",
    "\n",
    "cat_features = list(X_train.select_dtypes('object').columns)\n",
    "X_train[cat_features] = X_train[cat_features].fillna('missing')\n",
    "X_test[cat_features] = X_test[cat_features].fillna('missing')\n",
    "print(cat_features)\n",
    "pool = Pool(X_train, y_train, cat_features=cat_features)\n",
    "test_pool = Pool(X_test, y_test, cat_features=cat_features)\n",
    "X_train.shape, X_test.shape\n"
   ]
  },
  {
   "cell_type": "code",
   "execution_count": null,
   "metadata": {},
   "outputs": [],
   "source": [
    "X_train.info()"
   ]
  },
  {
   "cell_type": "code",
   "execution_count": null,
   "metadata": {},
   "outputs": [],
   "source": [
    "# run catboost\n",
    "cb = CatBoostClassifier(\n",
    "    iterations=1000,\n",
    "    # eval_metric='MAE',\n",
    "    early_stopping_rounds=100,\n",
    "    random_seed=42,\n",
    "    verbose=100\n",
    ")\n",
    "cb.fit(pool, eval_set=test_pool)"
   ]
  },
  {
   "cell_type": "markdown",
   "metadata": {},
   "source": [
    "Med streck:  \n",
    "alla:  \n",
    "bestTest = 0.2410183541  \n",
    "bestIteration = 210  \n",
    "\n",
    "alla 0:or borta:  \n",
    "bestTest = 0.2412283588  \n",
    "bestIteration = 67  \n",
    "\n",
    "Utan streck:  \n",
    "alla:  \n",
    "bestTest = 0.2745510195  \n",
    "bestIteration = 0 \n",
    "\n",
    "alla 0:or borta:  \n",
    "bestTest =0.272817442 0.2742631409   \n",
    "bestIteration = 75  \n",
    "\n",
    "\n",
    "\n",
    "\n"
   ]
  },
  {
   "cell_type": "code",
   "execution_count": null,
   "metadata": {},
   "outputs": [],
   "source": [
    "my_feature_imp =cb.get_feature_importance(prettified=True)\n",
    "my_remove_list2 = my_feature_imp[my_feature_imp.Importances <= 0]['Feature Id'].to_list()\n",
    "print(my_remove_list2)\n",
    "my_remove_list=my_remove_list+my_remove_list2\n",
    "# remove duplicates\n",
    "my_remove_list = list(set(my_remove_list))\n"
   ]
  },
  {
   "cell_type": "code",
   "execution_count": null,
   "metadata": {},
   "outputs": [],
   "source": []
  },
  {
   "cell_type": "code",
   "execution_count": null,
   "metadata": {},
   "outputs": [],
   "source": [
    "cb.get_feature_importance(prettified=True)"
   ]
  },
  {
   "cell_type": "markdown",
   "metadata": {},
   "source": [
    "# Använd Bayes target encoding (mitt eget namn) \n",
    "### för Bana, Häst och Kusk (fortsätt senare)"
   ]
  },
  {
   "cell_type": "code",
   "execution_count": null,
   "metadata": {},
   "outputs": [],
   "source": [
    "# Bayes function\n",
    "def compute_Bayes(bana, häst, df_):\n",
    "    df = df_.copy()\n",
    "    # p(A|B) = p(B|A) * p(A) / p(B)\n",
    "    # p(A) häst total performance\n",
    "    # p(B) Share of bana in df\n",
    "    # p(B|A) Share of bana where häst is winner\n",
    "    # p(A|B) probabiity that häst is winner in bana\n",
    "    # Find häst total performance\n",
    "    total_performance = df.loc[(df.häst == häst) & (df.plac == 1),['datum','avd','bana','häst','kusk']]\n",
    "    print(total_performance)\n",
    "compute_Bayes('AXEVALLA', 'NINJA ZON', df)\n",
    "\n",
    "# df.loc[(df.häst == 'GOGO GIRL') & (df.plac == 1),'plac']\n",
    "print(f'Antal ggr NUNCIO har vunnit på SOLVALLA  : {df.loc[(df.bana==\"SOLVALLA\") & (df.häst==\"NUNCIO\") & (df.plac==1),\"häst\"].count()}')\n",
    "print(f\"Antal ggr NUNCIO har sprungit på SOLVALLA: {df.loc[(df.bana == 'SOLVALLA') & (df.häst == 'NUNCIO'), 'häst'].count()}\")\n",
    "print(f\"Antal ggr NUNCIO har vunnit totalt       : {df.loc[(df.häst == 'NUNCIO') & (df.plac==1),'häst'].count()}\")\n",
    "print(f\"Antal ggr NUNCIO har sprungit totalt     : {df.loc[(df.häst == 'NUNCIO'),'häst'].count()}\")\n"
   ]
  }
 ],
 "metadata": {
  "kernelspec": {
   "display_name": "Python 3.9.13 ('base')",
   "language": "python",
   "name": "python3"
  },
  "language_info": {
   "codemirror_mode": {
    "name": "ipython",
    "version": 3
   },
   "file_extension": ".py",
   "mimetype": "text/x-python",
   "name": "python",
   "nbconvert_exporter": "python",
   "pygments_lexer": "ipython3",
   "version": "3.9.13"
  },
  "orig_nbformat": 4,
  "vscode": {
   "interpreter": {
    "hash": "3d733caf4ffc39d0fbd9a2ba54ef4b7d515956d8048931f8241efe3827fb2d1f"
   }
  }
 },
 "nbformat": 4,
 "nbformat_minor": 2
}
