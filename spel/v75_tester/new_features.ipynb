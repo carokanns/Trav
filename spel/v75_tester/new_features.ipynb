{
 "cells": [
  {
   "cell_type": "markdown",
   "metadata": {},
   "source": [
    "# Nya features\n",
    "### Kolla vad antal hästar per lopp kan ge"
   ]
  },
  {
   "cell_type": "code",
   "execution_count": 108,
   "metadata": {},
   "outputs": [],
   "source": [
    "# import modules\n",
    "import numpy as np\n",
    "import pandas as pd\n",
    "import matplotlib.pyplot as plt\n",
    "from IPython.display import display"
   ]
  },
  {
   "cell_type": "code",
   "execution_count": 109,
   "metadata": {},
   "outputs": [
    {
     "data": {
      "text/plain": [
       "Index(['datum', 'avd', 'bana', 'häst', 'kusk', 'streck', 'vodds', 'podds',\n",
       "       'kr', 'spår', 'dist', 'lopp_dist', 'start', 'ålder', 'kön', 'plac',\n",
       "       'pris', 'h1_dat', 'h1_kusk', 'h1_bana', 'h1_spår', 'h1_plac', 'h1_pris',\n",
       "       'h1_odds', 'h1_kmtid', 'h2_dat', 'h2_kusk', 'h2_bana', 'h2_spår',\n",
       "       'h2_plac', 'h2_pris', 'h2_odds', 'h2_kmtid', 'h3_dat', 'h3_kusk',\n",
       "       'h3_bana', 'h3_spår', 'h3_plac', 'h3_pris', 'h3_odds', 'h3_kmtid',\n",
       "       'h4_dat', 'h4_kusk', 'h4_bana', 'h4_spår', 'h4_plac', 'h4_pris',\n",
       "       'h4_odds', 'h4_kmtid', 'h5_dat', 'h5_kusk', 'h5_bana', 'h5_spår',\n",
       "       'h5_plac', 'h5_pris', 'h5_odds', 'h5_kmtid', 'h1_dist', 'h2_dist',\n",
       "       'h3_dist', 'h4_dist', 'h5_dist', 'bins', 'h1_auto', 'h2_auto',\n",
       "       'h3_auto', 'h4_auto', 'h5_auto', 'h1_perf', 'h2_perf', 'h3_perf',\n",
       "       'h4_perf', 'h5_perf', 'senast', 'delta1', 'delta2', 'delta3', 'delta4',\n",
       "       'startnr'],\n",
       "      dtype='object')"
      ]
     },
     "execution_count": 109,
     "metadata": {},
     "output_type": "execute_result"
    }
   ],
   "source": [
    "# Läs in all_data.csv\n",
    "# select numeric columns\n",
    "df = pd.read_csv('../all_data.csv')\n",
    "# df.set_index('datum', inplace=True)\n",
    "df.columns"
   ]
  },
  {
   "cell_type": "code",
   "execution_count": 110,
   "metadata": {},
   "outputs": [],
   "source": [
    "# count number per avdeling\n",
    "df_count = df.groupby(['datum','avd'])['avd'].count()\n",
    "df['avd_count'] = None\n",
    "df['avd_count'] = df.groupby(['datum', 'avd'])['avd'].transform('count')"
   ]
  },
  {
   "cell_type": "code",
   "execution_count": 111,
   "metadata": {},
   "outputs": [
    {
     "data": {
      "text/plain": [
       "[4, 5, 6, 7, 8, 9, 10, 11, 12, 13, 14, 15]"
      ]
     },
     "execution_count": 111,
     "metadata": {},
     "output_type": "execute_result"
    }
   ],
   "source": [
    "df['avd_count'].unique()\n",
    "my_remove_list = []\n",
    "sorted(df['avd_count'].unique())"
   ]
  },
  {
   "cell_type": "markdown",
   "metadata": {},
   "source": [
    "# Kolla med catboost"
   ]
  },
  {
   "cell_type": "markdown",
   "metadata": {},
   "source": [
    "### Några hjälp-funktioner"
   ]
  },
  {
   "cell_type": "code",
   "execution_count": 112,
   "metadata": {},
   "outputs": [],
   "source": [
    "def split_data(df_,train_from_proc=0,test_proc=0.25):\n",
    "    df=df_.copy()\n",
    "    alla_datum = df.datum.unique()\n",
    "    train_from_datum = alla_datum[ int(len(alla_datum)*train_from_proc)]\n",
    "    print(\"train from\",train_from_datum)\n",
    "    X_test=None\n",
    "    y_test=None\n",
    "    test_from_datum=alla_datum[-1]\n",
    "    if test_proc:\n",
    "        selected_data = alla_datum[ alla_datum >= train_from_datum ]\n",
    "        test_from_datum = selected_data[ int(len(selected_data)*(1-test_proc)) ]\n",
    "        print(\"test from\",test_from_datum)\n",
    "        X_test  = df[df.datum >= test_from_datum]\n",
    "        y_test  = (X_test.plac==1)*1\n",
    "        X_test  = X_test.drop('plac',axis=1)\n",
    "        \n",
    "    X_train = df[(df.datum >= train_from_datum) & (df.datum < test_from_datum) ]\n",
    "    y_train = (X_train.plac==1)*1\n",
    "    \n",
    "    return X_train.drop('plac', axis=1), X_test, y_train, y_test\n",
    "### Features som inte används vid träning\n",
    "\n",
    "def remove_features(df_, remove_mer=[]):\n",
    "    df = df_.drop(['avd', 'startnr', 'vodds', 'podds', 'bins',\n",
    "                  'h1_dat', 'h2_dat', 'h3_dat', 'h4_dat', 'h5_dat'], axis=1)\n",
    "    if remove_mer:\n",
    "        df = df.drop(remove_mer, axis=1)\n",
    "    return df\n"
   ]
  },
  {
   "cell_type": "markdown",
   "metadata": {},
   "source": [
    "### set up for catboost regression"
   ]
  },
  {
   "cell_type": "code",
   "execution_count": 119,
   "metadata": {},
   "outputs": [
    {
     "name": "stdout",
     "output_type": "stream",
     "text": [
      "train from 2017-02-26\n",
      "test from 2020-07-05\n",
      "['datum']\n"
     ]
    },
    {
     "data": {
      "text/plain": [
       "((22608, 7), (7657, 7))"
      ]
     },
     "execution_count": 119,
     "metadata": {},
     "output_type": "execute_result"
    }
   ],
   "source": [
    "# set up catboost regression model\n",
    "from catboost import CatBoostRegressor, cv, Pool\n",
    "\n",
    "X_train, X_test, y_train, y_test = split_data(\n",
    "    df, train_from_proc=0.3, test_proc=0.25)\n",
    "X_train = remove_features(X_train, remove_mer=my_remove_list )\n",
    "X_test = remove_features(X_test, remove_mer=my_remove_list )\n",
    "\n",
    "cat_features = list(X_train.select_dtypes('object').columns)\n",
    "X_train[cat_features] = X_train[cat_features].fillna('missing')\n",
    "X_test[cat_features] = X_test[cat_features].fillna('missing')\n",
    "print(cat_features)\n",
    "pool = Pool(X_train, y_train, cat_features=cat_features)\n",
    "test_pool = Pool(X_test, y_test, cat_features=cat_features)\n",
    "X_train.shape, X_test.shape\n"
   ]
  },
  {
   "cell_type": "code",
   "execution_count": 120,
   "metadata": {},
   "outputs": [
    {
     "name": "stdout",
     "output_type": "stream",
     "text": [
      "Learning rate set to 0.083084\n",
      "0:\tlearn: 0.1562140\ttest: 0.1559061\tbest: 0.1559061 (0)\ttotal: 79.8ms\tremaining: 1m 19s\n",
      "100:\tlearn: 0.1309000\ttest: 0.1350799\tbest: 0.1332685 (67)\ttotal: 3.9s\tremaining: 34.7s\n",
      "Stopped by overfitting detector  (100 iterations wait)\n",
      "\n",
      "bestTest = 0.1332685133\n",
      "bestIteration = 67\n",
      "\n",
      "Shrink model to first 68 iterations.\n"
     ]
    },
    {
     "data": {
      "text/plain": [
       "<catboost.core.CatBoostRegressor at 0x1f6e2f227a0>"
      ]
     },
     "execution_count": 120,
     "metadata": {},
     "output_type": "execute_result"
    }
   ],
   "source": [
    "# run catboost\n",
    "cb = CatBoostRegressor(\n",
    "    iterations=1000,\n",
    "    eval_metric='MAE',\n",
    "    early_stopping_rounds=100,\n",
    "    random_seed=42,\n",
    "    verbose=100\n",
    ")\n",
    "cb.fit(pool, eval_set=test_pool)\n"
   ]
  },
  {
   "cell_type": "markdown",
   "metadata": {},
   "source": [
    "Med streck:  \n",
    "alla:  \n",
    "bestTest = 0.1338137229  \n",
    "bestIteration = 210  \n",
    "\n",
    "alla 0:or borta:  \n",
    "bestTest = 0.1332685133  \n",
    "bestIteration = 67  \n",
    "\n",
    "Utan streck:  \n",
    "alla:  \n",
    "bestTest = 0.1593303093  \n",
    "bestIteration = 0 \n",
    "\n",
    "alla 0:or borta:  \n",
    "bestTest = 0.137245835  \n",
    "bestIteration = 113  \n",
    "\n",
    "\n",
    "\n",
    "\n"
   ]
  },
  {
   "cell_type": "code",
   "execution_count": 121,
   "metadata": {},
   "outputs": [
    {
     "name": "stdout",
     "output_type": "stream",
     "text": [
      "[]\n"
     ]
    }
   ],
   "source": [
    "my_feature_imp =cb.get_feature_importance(prettified=True)\n",
    "my_remove_list2 = my_feature_imp[my_feature_imp.Importances <= 0]['Feature Id'].to_list()\n",
    "print(my_remove_list2)\n",
    "my_remove_list=my_remove_list+my_remove_list2\n",
    "# remove duplicates\n",
    "my_remove_list = list(set(my_remove_list))\n"
   ]
  },
  {
   "cell_type": "code",
   "execution_count": 122,
   "metadata": {},
   "outputs": [
    {
     "data": {
      "text/html": [
       "<div>\n",
       "<style scoped>\n",
       "    .dataframe tbody tr th:only-of-type {\n",
       "        vertical-align: middle;\n",
       "    }\n",
       "\n",
       "    .dataframe tbody tr th {\n",
       "        vertical-align: top;\n",
       "    }\n",
       "\n",
       "    .dataframe thead th {\n",
       "        text-align: right;\n",
       "    }\n",
       "</style>\n",
       "<table border=\"1\" class=\"dataframe\">\n",
       "  <thead>\n",
       "    <tr style=\"text-align: right;\">\n",
       "      <th></th>\n",
       "      <th>Feature Id</th>\n",
       "      <th>Importances</th>\n",
       "    </tr>\n",
       "  </thead>\n",
       "  <tbody>\n",
       "    <tr>\n",
       "      <th>0</th>\n",
       "      <td>streck</td>\n",
       "      <td>62.382651</td>\n",
       "    </tr>\n",
       "    <tr>\n",
       "      <th>1</th>\n",
       "      <td>datum</td>\n",
       "      <td>15.348318</td>\n",
       "    </tr>\n",
       "    <tr>\n",
       "      <th>2</th>\n",
       "      <td>h2_odds</td>\n",
       "      <td>5.557340</td>\n",
       "    </tr>\n",
       "    <tr>\n",
       "      <th>3</th>\n",
       "      <td>h5_perf</td>\n",
       "      <td>5.268639</td>\n",
       "    </tr>\n",
       "    <tr>\n",
       "      <th>4</th>\n",
       "      <td>h1_perf</td>\n",
       "      <td>4.337421</td>\n",
       "    </tr>\n",
       "    <tr>\n",
       "      <th>5</th>\n",
       "      <td>h3_odds</td>\n",
       "      <td>3.843078</td>\n",
       "    </tr>\n",
       "    <tr>\n",
       "      <th>6</th>\n",
       "      <td>h2_perf</td>\n",
       "      <td>3.262552</td>\n",
       "    </tr>\n",
       "  </tbody>\n",
       "</table>\n",
       "</div>"
      ],
      "text/plain": [
       "  Feature Id  Importances\n",
       "0     streck    62.382651\n",
       "1      datum    15.348318\n",
       "2    h2_odds     5.557340\n",
       "3    h5_perf     5.268639\n",
       "4    h1_perf     4.337421\n",
       "5    h3_odds     3.843078\n",
       "6    h2_perf     3.262552"
      ]
     },
     "execution_count": 122,
     "metadata": {},
     "output_type": "execute_result"
    }
   ],
   "source": [
    "my_feature_imp"
   ]
  }
 ],
 "metadata": {
  "interpreter": {
   "hash": "c8488a4a715be31abb9488591c273d21f6ad2ccf4a90ce6956248586de0eec3a"
  },
  "kernelspec": {
   "display_name": "Python 3.10.0 64-bit ('threeten': conda)",
   "language": "python",
   "name": "python3"
  },
  "language_info": {
   "codemirror_mode": {
    "name": "ipython",
    "version": 3
   },
   "file_extension": ".py",
   "mimetype": "text/x-python",
   "name": "python",
   "nbconvert_exporter": "python",
   "pygments_lexer": "ipython3",
   "version": "3.10.0"
  },
  "orig_nbformat": 4
 },
 "nbformat": 4,
 "nbformat_minor": 2
}
