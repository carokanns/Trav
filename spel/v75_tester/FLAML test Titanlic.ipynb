{
 "cells": [
  {
   "cell_type": "markdown",
   "source": [
    "# FLAML test *Titanic*"
   ],
   "metadata": {}
  },
  {
   "cell_type": "code",
   "execution_count": 1,
   "source": [
    "import pandas as pd \r\n",
    "import numpy as np \r\n",
    "from IPython.display import display \r\n",
    "\r\n",
    "from flaml import AutoML \r\n",
    "automl = AutoML()"
   ],
   "outputs": [],
   "metadata": {}
  },
  {
   "cell_type": "code",
   "execution_count": 33,
   "source": [
    "URL = \"https://raw.githubusercontent.com/carokanns/ML/master/titanic_train.csv\"\r\n",
    "X = pd.read_csv(URL)\r\n",
    "y= X.Survived\r\n",
    "# X.drop('Survived', axis=1, inplace=True)\r\n",
    "X=X[[ 'Pclass', 'Sex', 'Age', 'SibSp', 'Parch',  'Fare', 'Cabin', 'Embarked']]"
   ],
   "outputs": [],
   "metadata": {}
  },
  {
   "cell_type": "code",
   "execution_count": 34,
   "source": [
    "from sklearn.model_selection import train_test_split\r\n",
    "X_train, X_test, y_train, y_test = train_test_split(X, y, random_state=2019, test_size=0.30)"
   ],
   "outputs": [],
   "metadata": {}
  },
  {
   "cell_type": "code",
   "execution_count": 35,
   "source": [
    "\r\n",
    "# Specify automl goal and constraint\r\n",
    "automl_settings = {\r\n",
    "    \"time_budget\": 10,  # in seconds\r\n",
    "    \"metric\": 'accuracy',\r\n",
    "    \"task\": 'classification',\r\n",
    "}\r\n",
    "\r\n",
    "# Train with labeled input data\r\n",
    "\r\n",
    "automl.fit(X_train=X_train, y_train=y_train,\r\n",
    "           **automl_settings)\r\n",
    "# Predict\r\n",
    "print(automl.predict_proba(X_train))\r\n",
    "# Export the best model\r\n",
    "print(automl.model)"
   ],
   "outputs": [
    {
     "output_type": "stream",
     "name": "stderr",
     "text": [
      "[flaml.automl: 09-15 16:17:38] {1427} INFO - Evaluation method: cv\n",
      "[flaml.automl: 09-15 16:17:38] {1473} INFO - Minimizing error metric: 1-accuracy\n",
      "[flaml.automl: 09-15 16:17:38] {1505} INFO - List of ML learners in AutoML Run: ['lgbm', 'rf', 'catboost', 'xgboost', 'extra_tree', 'lrl1']\n",
      "[flaml.automl: 09-15 16:17:38] {1735} INFO - iteration 0, current learner lgbm\n",
      "[flaml.automl: 09-15 16:17:38] {1914} INFO -  at 0.1s,\tbest lgbm's error=0.2215,\tbest lgbm's error=0.2215\n",
      "[flaml.automl: 09-15 16:17:38] {1735} INFO - iteration 1, current learner lgbm\n",
      "[flaml.automl: 09-15 16:17:38] {1914} INFO -  at 0.2s,\tbest lgbm's error=0.2215,\tbest lgbm's error=0.2215\n",
      "[flaml.automl: 09-15 16:17:38] {1735} INFO - iteration 2, current learner lgbm\n",
      "[flaml.automl: 09-15 16:17:39] {1914} INFO -  at 0.2s,\tbest lgbm's error=0.2184,\tbest lgbm's error=0.2184\n",
      "[flaml.automl: 09-15 16:17:39] {1735} INFO - iteration 3, current learner xgboost\n",
      "[flaml.automl: 09-15 16:17:39] {1914} INFO -  at 0.3s,\tbest xgboost's error=0.2376,\tbest lgbm's error=0.2184\n",
      "[flaml.automl: 09-15 16:17:39] {1735} INFO - iteration 4, current learner lgbm\n",
      "[flaml.automl: 09-15 16:17:39] {1914} INFO -  at 0.4s,\tbest lgbm's error=0.1879,\tbest lgbm's error=0.1879\n",
      "[flaml.automl: 09-15 16:17:39] {1735} INFO - iteration 5, current learner lgbm\n",
      "[flaml.automl: 09-15 16:17:39] {1914} INFO -  at 0.5s,\tbest lgbm's error=0.1879,\tbest lgbm's error=0.1879\n",
      "[flaml.automl: 09-15 16:17:39] {1735} INFO - iteration 6, current learner lgbm\n",
      "[flaml.automl: 09-15 16:17:39] {1914} INFO -  at 0.5s,\tbest lgbm's error=0.1879,\tbest lgbm's error=0.1879\n",
      "[flaml.automl: 09-15 16:17:39] {1735} INFO - iteration 7, current learner lgbm\n",
      "[flaml.automl: 09-15 16:17:39] {1914} INFO -  at 0.6s,\tbest lgbm's error=0.1879,\tbest lgbm's error=0.1879\n",
      "[flaml.automl: 09-15 16:17:39] {1735} INFO - iteration 8, current learner lgbm\n",
      "[flaml.automl: 09-15 16:17:39] {1914} INFO -  at 0.7s,\tbest lgbm's error=0.1879,\tbest lgbm's error=0.1879\n",
      "[flaml.automl: 09-15 16:17:39] {1735} INFO - iteration 9, current learner xgboost\n",
      "[flaml.automl: 09-15 16:17:39] {1914} INFO -  at 0.8s,\tbest xgboost's error=0.2280,\tbest lgbm's error=0.1879\n",
      "[flaml.automl: 09-15 16:17:39] {1735} INFO - iteration 10, current learner extra_tree\n",
      "[flaml.automl: 09-15 16:17:39] {1914} INFO -  at 0.9s,\tbest extra_tree's error=0.2199,\tbest lgbm's error=0.1879\n",
      "[flaml.automl: 09-15 16:17:39] {1735} INFO - iteration 11, current learner extra_tree\n",
      "[flaml.automl: 09-15 16:17:39] {1914} INFO -  at 1.0s,\tbest extra_tree's error=0.2151,\tbest lgbm's error=0.1879\n",
      "[flaml.automl: 09-15 16:17:39] {1735} INFO - iteration 12, current learner rf\n",
      "[flaml.automl: 09-15 16:17:39] {1914} INFO -  at 1.2s,\tbest rf's error=0.2328,\tbest lgbm's error=0.1879\n",
      "[flaml.automl: 09-15 16:17:39] {1735} INFO - iteration 13, current learner rf\n",
      "[flaml.automl: 09-15 16:17:40] {1914} INFO -  at 1.3s,\tbest rf's error=0.2119,\tbest lgbm's error=0.1879\n",
      "[flaml.automl: 09-15 16:17:40] {1735} INFO - iteration 14, current learner rf\n",
      "[flaml.automl: 09-15 16:17:40] {1914} INFO -  at 1.5s,\tbest rf's error=0.2119,\tbest lgbm's error=0.1879\n",
      "[flaml.automl: 09-15 16:17:40] {1735} INFO - iteration 15, current learner rf\n",
      "[flaml.automl: 09-15 16:17:40] {1914} INFO -  at 1.7s,\tbest rf's error=0.2102,\tbest lgbm's error=0.1879\n",
      "[flaml.automl: 09-15 16:17:40] {1735} INFO - iteration 16, current learner lgbm\n",
      "[flaml.automl: 09-15 16:17:40] {1914} INFO -  at 1.7s,\tbest lgbm's error=0.1879,\tbest lgbm's error=0.1879\n",
      "[flaml.automl: 09-15 16:17:40] {1735} INFO - iteration 17, current learner extra_tree\n",
      "[flaml.automl: 09-15 16:17:40] {1914} INFO -  at 1.9s,\tbest extra_tree's error=0.2151,\tbest lgbm's error=0.1879\n",
      "[flaml.automl: 09-15 16:17:40] {1735} INFO - iteration 18, current learner lgbm\n",
      "[flaml.automl: 09-15 16:17:40] {1914} INFO -  at 1.9s,\tbest lgbm's error=0.1879,\tbest lgbm's error=0.1879\n",
      "[flaml.automl: 09-15 16:17:40] {1735} INFO - iteration 19, current learner xgboost\n",
      "[flaml.automl: 09-15 16:17:40] {1914} INFO -  at 2.0s,\tbest xgboost's error=0.2280,\tbest lgbm's error=0.1879\n",
      "[flaml.automl: 09-15 16:17:40] {1735} INFO - iteration 20, current learner lgbm\n",
      "[flaml.automl: 09-15 16:17:40] {1914} INFO -  at 2.1s,\tbest lgbm's error=0.1878,\tbest lgbm's error=0.1878\n",
      "[flaml.automl: 09-15 16:17:40] {1735} INFO - iteration 21, current learner lgbm\n",
      "[flaml.automl: 09-15 16:17:40] {1914} INFO -  at 2.2s,\tbest lgbm's error=0.1878,\tbest lgbm's error=0.1878\n",
      "[flaml.automl: 09-15 16:17:40] {1735} INFO - iteration 22, current learner lgbm\n",
      "[flaml.automl: 09-15 16:17:41] {1914} INFO -  at 2.3s,\tbest lgbm's error=0.1878,\tbest lgbm's error=0.1878\n",
      "[flaml.automl: 09-15 16:17:41] {1735} INFO - iteration 23, current learner lgbm\n",
      "[flaml.automl: 09-15 16:17:41] {1914} INFO -  at 2.4s,\tbest lgbm's error=0.1766,\tbest lgbm's error=0.1766\n",
      "[flaml.automl: 09-15 16:17:41] {1735} INFO - iteration 24, current learner xgboost\n",
      "[flaml.automl: 09-15 16:17:41] {1914} INFO -  at 2.5s,\tbest xgboost's error=0.2280,\tbest lgbm's error=0.1766\n",
      "[flaml.automl: 09-15 16:17:41] {1735} INFO - iteration 25, current learner extra_tree\n",
      "[flaml.automl: 09-15 16:17:41] {1914} INFO -  at 2.6s,\tbest extra_tree's error=0.2151,\tbest lgbm's error=0.1766\n",
      "[flaml.automl: 09-15 16:17:41] {1735} INFO - iteration 26, current learner lgbm\n",
      "[flaml.automl: 09-15 16:17:41] {1914} INFO -  at 2.7s,\tbest lgbm's error=0.1766,\tbest lgbm's error=0.1766\n",
      "[flaml.automl: 09-15 16:17:41] {1735} INFO - iteration 27, current learner lgbm\n",
      "[flaml.automl: 09-15 16:17:41] {1914} INFO -  at 2.8s,\tbest lgbm's error=0.1766,\tbest lgbm's error=0.1766\n",
      "[flaml.automl: 09-15 16:17:41] {1735} INFO - iteration 28, current learner xgboost\n",
      "[flaml.automl: 09-15 16:17:41] {1914} INFO -  at 2.9s,\tbest xgboost's error=0.2248,\tbest lgbm's error=0.1766\n",
      "[flaml.automl: 09-15 16:17:41] {1735} INFO - iteration 29, current learner rf\n",
      "[flaml.automl: 09-15 16:17:41] {1914} INFO -  at 3.0s,\tbest rf's error=0.1943,\tbest lgbm's error=0.1766\n",
      "[flaml.automl: 09-15 16:17:41] {1735} INFO - iteration 30, current learner lgbm\n",
      "[flaml.automl: 09-15 16:17:41] {1914} INFO -  at 3.1s,\tbest lgbm's error=0.1766,\tbest lgbm's error=0.1766\n",
      "[flaml.automl: 09-15 16:17:41] {1735} INFO - iteration 31, current learner lgbm\n",
      "[flaml.automl: 09-15 16:17:42] {1914} INFO -  at 3.2s,\tbest lgbm's error=0.1766,\tbest lgbm's error=0.1766\n",
      "[flaml.automl: 09-15 16:17:42] {1735} INFO - iteration 32, current learner lgbm\n",
      "[flaml.automl: 09-15 16:17:42] {1914} INFO -  at 3.3s,\tbest lgbm's error=0.1766,\tbest lgbm's error=0.1766\n",
      "[flaml.automl: 09-15 16:17:42] {1735} INFO - iteration 33, current learner rf\n",
      "[flaml.automl: 09-15 16:17:42] {1914} INFO -  at 3.5s,\tbest rf's error=0.1943,\tbest lgbm's error=0.1766\n",
      "[flaml.automl: 09-15 16:17:42] {1735} INFO - iteration 34, current learner lgbm\n",
      "[flaml.automl: 09-15 16:17:42] {1914} INFO -  at 3.5s,\tbest lgbm's error=0.1766,\tbest lgbm's error=0.1766\n",
      "[flaml.automl: 09-15 16:17:42] {1735} INFO - iteration 35, current learner lgbm\n",
      "[flaml.automl: 09-15 16:17:42] {1914} INFO -  at 3.6s,\tbest lgbm's error=0.1766,\tbest lgbm's error=0.1766\n",
      "[flaml.automl: 09-15 16:17:42] {1735} INFO - iteration 36, current learner extra_tree\n",
      "[flaml.automl: 09-15 16:17:42] {1914} INFO -  at 3.7s,\tbest extra_tree's error=0.2023,\tbest lgbm's error=0.1766\n",
      "[flaml.automl: 09-15 16:17:42] {1735} INFO - iteration 37, current learner rf\n",
      "[flaml.automl: 09-15 16:17:42] {1914} INFO -  at 3.9s,\tbest rf's error=0.1943,\tbest lgbm's error=0.1766\n",
      "[flaml.automl: 09-15 16:17:42] {1735} INFO - iteration 38, current learner rf\n",
      "[flaml.automl: 09-15 16:17:42] {1914} INFO -  at 4.1s,\tbest rf's error=0.1943,\tbest lgbm's error=0.1766\n",
      "[flaml.automl: 09-15 16:17:42] {1735} INFO - iteration 39, current learner lgbm\n",
      "[flaml.automl: 09-15 16:17:42] {1914} INFO -  at 4.2s,\tbest lgbm's error=0.1750,\tbest lgbm's error=0.1750\n",
      "[flaml.automl: 09-15 16:17:42] {1735} INFO - iteration 40, current learner rf\n",
      "[flaml.automl: 09-15 16:17:43] {1914} INFO -  at 4.3s,\tbest rf's error=0.1943,\tbest lgbm's error=0.1750\n",
      "[flaml.automl: 09-15 16:17:43] {1735} INFO - iteration 41, current learner extra_tree\n",
      "[flaml.automl: 09-15 16:17:43] {1914} INFO -  at 4.5s,\tbest extra_tree's error=0.2023,\tbest lgbm's error=0.1750\n",
      "[flaml.automl: 09-15 16:17:43] {1735} INFO - iteration 42, current learner lgbm\n",
      "[flaml.automl: 09-15 16:17:43] {1914} INFO -  at 4.6s,\tbest lgbm's error=0.1750,\tbest lgbm's error=0.1750\n",
      "[flaml.automl: 09-15 16:17:43] {1735} INFO - iteration 43, current learner rf\n",
      "[flaml.automl: 09-15 16:17:43] {1914} INFO -  at 4.7s,\tbest rf's error=0.1943,\tbest lgbm's error=0.1750\n",
      "[flaml.automl: 09-15 16:17:43] {1735} INFO - iteration 44, current learner extra_tree\n",
      "[flaml.automl: 09-15 16:17:43] {1914} INFO -  at 4.9s,\tbest extra_tree's error=0.2023,\tbest lgbm's error=0.1750\n",
      "[flaml.automl: 09-15 16:17:43] {1735} INFO - iteration 45, current learner rf\n",
      "[flaml.automl: 09-15 16:17:43] {1914} INFO -  at 5.0s,\tbest rf's error=0.1943,\tbest lgbm's error=0.1750\n",
      "[flaml.automl: 09-15 16:17:43] {1735} INFO - iteration 46, current learner lgbm\n",
      "[flaml.automl: 09-15 16:17:43] {1914} INFO -  at 5.1s,\tbest lgbm's error=0.1750,\tbest lgbm's error=0.1750\n",
      "[flaml.automl: 09-15 16:17:43] {1735} INFO - iteration 47, current learner rf\n",
      "[flaml.automl: 09-15 16:17:43] {1914} INFO -  at 5.2s,\tbest rf's error=0.1943,\tbest lgbm's error=0.1750\n",
      "[flaml.automl: 09-15 16:17:43] {1735} INFO - iteration 48, current learner lgbm\n",
      "[flaml.automl: 09-15 16:17:44] {1914} INFO -  at 5.3s,\tbest lgbm's error=0.1750,\tbest lgbm's error=0.1750\n",
      "[flaml.automl: 09-15 16:17:44] {1735} INFO - iteration 49, current learner lgbm\n",
      "[flaml.automl: 09-15 16:17:44] {1914} INFO -  at 5.4s,\tbest lgbm's error=0.1750,\tbest lgbm's error=0.1750\n",
      "[flaml.automl: 09-15 16:17:44] {1735} INFO - iteration 50, current learner extra_tree\n",
      "[flaml.automl: 09-15 16:17:44] {1914} INFO -  at 5.6s,\tbest extra_tree's error=0.2023,\tbest lgbm's error=0.1750\n",
      "[flaml.automl: 09-15 16:17:44] {1735} INFO - iteration 51, current learner lgbm\n",
      "[flaml.automl: 09-15 16:17:44] {1914} INFO -  at 5.7s,\tbest lgbm's error=0.1750,\tbest lgbm's error=0.1750\n",
      "[flaml.automl: 09-15 16:17:44] {1735} INFO - iteration 52, current learner lgbm\n",
      "[flaml.automl: 09-15 16:17:44] {1914} INFO -  at 5.7s,\tbest lgbm's error=0.1750,\tbest lgbm's error=0.1750\n",
      "[flaml.automl: 09-15 16:17:44] {1735} INFO - iteration 53, current learner lgbm\n",
      "[flaml.automl: 09-15 16:17:44] {1914} INFO -  at 5.8s,\tbest lgbm's error=0.1750,\tbest lgbm's error=0.1750\n",
      "[flaml.automl: 09-15 16:17:44] {1735} INFO - iteration 54, current learner lgbm\n",
      "[flaml.automl: 09-15 16:17:44] {1914} INFO -  at 5.9s,\tbest lgbm's error=0.1750,\tbest lgbm's error=0.1750\n",
      "[flaml.automl: 09-15 16:17:44] {1735} INFO - iteration 55, current learner rf\n",
      "[flaml.automl: 09-15 16:17:44] {1914} INFO -  at 6.1s,\tbest rf's error=0.1943,\tbest lgbm's error=0.1750\n",
      "[flaml.automl: 09-15 16:17:44] {1735} INFO - iteration 56, current learner lgbm\n",
      "[flaml.automl: 09-15 16:17:44] {1914} INFO -  at 6.2s,\tbest lgbm's error=0.1750,\tbest lgbm's error=0.1750\n",
      "[flaml.automl: 09-15 16:17:44] {1735} INFO - iteration 57, current learner lgbm\n",
      "[flaml.automl: 09-15 16:17:45] {1914} INFO -  at 6.3s,\tbest lgbm's error=0.1750,\tbest lgbm's error=0.1750\n",
      "[flaml.automl: 09-15 16:17:45] {1735} INFO - iteration 58, current learner lgbm\n",
      "[flaml.automl: 09-15 16:17:45] {1914} INFO -  at 6.4s,\tbest lgbm's error=0.1750,\tbest lgbm's error=0.1750\n",
      "[flaml.automl: 09-15 16:17:45] {1735} INFO - iteration 59, current learner catboost\n",
      "[flaml.automl: 09-15 16:17:48] {1914} INFO -  at 9.3s,\tbest catboost's error=0.2167,\tbest lgbm's error=0.1750\n",
      "[flaml.automl: 09-15 16:17:48] {1735} INFO - iteration 60, current learner lgbm\n",
      "[flaml.automl: 09-15 16:17:48] {1914} INFO -  at 9.4s,\tbest lgbm's error=0.1750,\tbest lgbm's error=0.1750\n",
      "[flaml.automl: 09-15 16:17:48] {1735} INFO - iteration 61, current learner rf\n",
      "[flaml.automl: 09-15 16:17:48] {1914} INFO -  at 9.5s,\tbest rf's error=0.1928,\tbest lgbm's error=0.1750\n",
      "[flaml.automl: 09-15 16:17:48] {1735} INFO - iteration 62, current learner lgbm\n",
      "[flaml.automl: 09-15 16:17:48] {1914} INFO -  at 9.7s,\tbest lgbm's error=0.1750,\tbest lgbm's error=0.1750\n",
      "[flaml.automl: 09-15 16:17:48] {1735} INFO - iteration 63, current learner lgbm\n",
      "[flaml.automl: 09-15 16:17:48] {1914} INFO -  at 9.8s,\tbest lgbm's error=0.1750,\tbest lgbm's error=0.1750\n",
      "[flaml.automl: 09-15 16:17:48] {1735} INFO - iteration 64, current learner xgboost\n",
      "[flaml.automl: 09-15 16:17:48] {1914} INFO -  at 9.9s,\tbest xgboost's error=0.2248,\tbest lgbm's error=0.1750\n",
      "[flaml.automl: 09-15 16:17:48] {1735} INFO - iteration 65, current learner lgbm\n",
      "[flaml.automl: 09-15 16:17:48] {1914} INFO -  at 10.0s,\tbest lgbm's error=0.1750,\tbest lgbm's error=0.1750\n",
      "[flaml.automl: 09-15 16:17:48] {1735} INFO - iteration 66, current learner lrl1\n",
      "No low-cost partial config given to the search algorithm. For cost-frugal search, consider providing low-cost values for cost-related hps via 'low_cost_partial_config'.\n",
      "C:\\Users\\peter\\AppData\\Roaming\\Python\\Python38\\site-packages\\sklearn\\linear_model\\_sag.py:328: ConvergenceWarning: The max_iter was reached which means the coef_ did not converge\n",
      "  warnings.warn(\"The max_iter was reached which means \"\n",
      "C:\\Users\\peter\\AppData\\Roaming\\Python\\Python38\\site-packages\\sklearn\\linear_model\\_sag.py:328: ConvergenceWarning: The max_iter was reached which means the coef_ did not converge\n",
      "  warnings.warn(\"The max_iter was reached which means \"\n",
      "[flaml.automl: 09-15 16:17:48] {1914} INFO -  at 10.0s,\tbest lrl1's error=0.3120,\tbest lgbm's error=0.1750\n",
      "[flaml.automl: 09-15 16:17:48] {2021} INFO - selected model: LGBMClassifier(colsample_bytree=0.950679811048038,\n",
      "               learning_rate=0.6929585918041451, max_bin=512,\n",
      "               min_child_samples=3, n_estimators=28, num_leaves=4,\n",
      "               objective='binary', reg_alpha=0.004577823970660193,\n",
      "               reg_lambda=4.196559386981233, verbose=-1)\n",
      "[flaml.automl: 09-15 16:17:48] {2082} INFO - retrain lgbm for 0.0s\n",
      "[flaml.automl: 09-15 16:17:48] {2088} INFO - retrained model: LGBMClassifier(colsample_bytree=0.950679811048038,\n",
      "               learning_rate=0.6929585918041451, max_bin=512,\n",
      "               min_child_samples=3, n_estimators=28, num_leaves=4,\n",
      "               objective='binary', reg_alpha=0.004577823970660193,\n",
      "               reg_lambda=4.196559386981233, verbose=-1)\n",
      "[flaml.automl: 09-15 16:17:48] {1529} INFO - fit succeeded\n",
      "[flaml.automl: 09-15 16:17:48] {1530} INFO - Time taken to find the best model: 4.183298587799072\n"
     ]
    },
    {
     "output_type": "stream",
     "name": "stdout",
     "text": [
      "[[0.86714581 0.13285419]\n",
      " [0.90578754 0.09421246]\n",
      " [0.94772884 0.05227116]\n",
      " ...\n",
      " [0.98374368 0.01625632]\n",
      " [0.15190011 0.84809989]\n",
      " [0.79103355 0.20896645]]\n",
      "<flaml.model.LGBMEstimator object at 0x00000258DC1A0EE0>\n"
     ]
    }
   ],
   "metadata": {}
  },
  {
   "cell_type": "code",
   "execution_count": 67,
   "source": [
    "pred_test = automl.predict_proba(X_test)\r\n",
    "pred_train = automl.predict_proba(X_train)"
   ],
   "outputs": [],
   "metadata": {}
  },
  {
   "cell_type": "code",
   "execution_count": 68,
   "source": [
    "from sklearn.metrics import roc_auc_score, accuracy_score, confusion_matrix,plot_confusion_matrix\r\n",
    "accuracy_score(y_test,pred_test[:,1]>0.5)\r\n"
   ],
   "outputs": [
    {
     "output_type": "execute_result",
     "data": {
      "text/plain": [
       "0.8208955223880597"
      ]
     },
     "metadata": {},
     "execution_count": 68
    }
   ],
   "metadata": {}
  },
  {
   "cell_type": "code",
   "execution_count": null,
   "source": [],
   "outputs": [],
   "metadata": {}
  }
 ],
 "metadata": {
  "orig_nbformat": 4,
  "language_info": {
   "name": "python",
   "version": "3.8.11",
   "mimetype": "text/x-python",
   "codemirror_mode": {
    "name": "ipython",
    "version": 3
   },
   "pygments_lexer": "ipython3",
   "nbconvert_exporter": "python",
   "file_extension": ".py"
  },
  "kernelspec": {
   "name": "python3",
   "display_name": "Python 3.8.11 64-bit ('base': conda)"
  },
  "interpreter": {
   "hash": "5eb2e0c23f8e38f19a3cfe8ad2d7bbb895a86b1e106b247f2b169180d03d2047"
  }
 },
 "nbformat": 4,
 "nbformat_minor": 2
}