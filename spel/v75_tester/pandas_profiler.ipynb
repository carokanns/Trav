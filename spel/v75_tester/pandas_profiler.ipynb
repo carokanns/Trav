{
 "cells": [
  {
   "cell_type": "code",
   "execution_count": 2,
   "metadata": {},
   "outputs": [],
   "source": [
    "import pandas as pd\n",
    "import numpy as np\n",
    "import matplotlib.pyplot as plt\n",
    "df=pd.read_csv('../all_data.csv')"
   ]
  },
  {
   "cell_type": "code",
   "execution_count": 3,
   "metadata": {},
   "outputs": [],
   "source": [
    "df.set_index(['datum', 'avd', 'häst'], inplace=True)\n",
    "\n",
    "df.drop(['bana', 'kusk', 'vodds', 'podds', 'startnr', 'bins',\n",
    "         'h1_dat', 'h1_bana', 'h1_kusk',\n",
    "         'h2_dat', 'h2_bana', 'h2_kusk',\n",
    "         'h3_dat', 'h3_bana', 'h3_kusk',\n",
    "         'h4_dat', 'h4_bana', 'h4_kusk',\n",
    "         'h5_dat', 'h5_bana', 'h5_kusk'], axis=1, inplace=True)\n",
    "\n",
    "\n",
    "#-------------- test with and without streck --------------------\n",
    "# df.drop('streck', axis=1, inplace=True)\n",
    "# ----------------------------------------------------------------\n",
    "\n",
    "X = df.drop(['plac'], axis=1)\n",
    "y = df['plac']\n",
    "y = (df['plac'] == 1)*1"
   ]
  },
  {
   "cell_type": "code",
   "execution_count": 17,
   "metadata": {},
   "outputs": [],
   "source": [
    "# numerical columns\n",
    "num_cols = X.select_dtypes(include=['int64', 'float64']).columns\n",
    "# categorical columns\n",
    "cat_cols = X.select_dtypes(include=['object']).columns\n",
    "\n",
    "# impute 0 to numrical columns missing values\n",
    "X[num_cols] = X[num_cols].fillna(0)\n"
   ]
  },
  {
   "cell_type": "markdown",
   "metadata": {},
   "source": [
    "### Bantar ner på datat så att pandas-profiler orkar med"
   ]
  },
  {
   "cell_type": "code",
   "execution_count": null,
   "metadata": {},
   "outputs": [],
   "source": [
    "cols = ['streck', 'kr', 'spår', 'dist', 'lopp_dist', 'start', 'kön',\n",
    "        'ålder', 'pris', 'senast', 'delta1', 'delta2', 'delta3', 'delta4']\n",
    "X = X[cols]"
   ]
  },
  {
   "cell_type": "code",
   "execution_count": 18,
   "metadata": {},
   "outputs": [],
   "source": [
    "from  pandas_profiling import ProfileReport\n",
    "profile = ProfileReport(X)\n"
   ]
  },
  {
   "cell_type": "code",
   "execution_count": 19,
   "metadata": {},
   "outputs": [
    {
     "name": "stderr",
     "output_type": "stream",
     "text": [
      "Summarize dataset: 100%|██████████| 199/199 [00:29<00:00,  6.81it/s, Completed]                   \n",
      "Generate report structure: 100%|██████████| 1/1 [00:04<00:00,  4.71s/it]\n",
      "Render HTML: 100%|██████████| 1/1 [00:05<00:00,  5.66s/it]\n",
      "Export report to file: 100%|██████████| 1/1 [00:00<00:00, 38.31it/s]\n"
     ]
    }
   ],
   "source": [
    "profile.to_file(\"profile_report.html\",False)"
   ]
  }
 ],
 "metadata": {
  "interpreter": {
   "hash": "c8488a4a715be31abb9488591c273d21f6ad2ccf4a90ce6956248586de0eec3a"
  },
  "kernelspec": {
   "display_name": "Python 3.10.0 64-bit ('threeten': conda)",
   "language": "python",
   "name": "python3"
  },
  "language_info": {
   "codemirror_mode": {
    "name": "ipython",
    "version": 3
   },
   "file_extension": ".py",
   "mimetype": "text/x-python",
   "name": "python",
   "nbconvert_exporter": "python",
   "pygments_lexer": "ipython3",
   "version": "3.10.1"
  },
  "orig_nbformat": 4
 },
 "nbformat": 4,
 "nbformat_minor": 2
}
