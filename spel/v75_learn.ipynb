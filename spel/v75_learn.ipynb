{
 "cells": [
  {
   "cell_type": "markdown",
   "source": [
    "# Learn v75 med walkthrough-metoden"
   ],
   "metadata": {}
  },
  {
   "cell_type": "code",
   "execution_count": 50,
   "source": [
    "import pandas as pd \r\n",
    "import numpy as np \r\n",
    "from catboost import CatBoostClassifier,Pool,cv,utils\r\n",
    "\r\n",
    "import sys\r\n",
    "sys.path.append('C:\\\\Users\\peter\\\\Documents\\\\MyProjects\\\\PyProj\\\\Trav\\\\spel')\r\n",
    "import V75_scraping as vs"
   ],
   "outputs": [],
   "metadata": {}
  },
  {
   "cell_type": "code",
   "execution_count": 51,
   "source": [
    "### returnera en modell med parametrar satta\r\n",
    "def get_model(d=6,l2=2,iterations=3000,use_best=True,verbose=False):\r\n",
    "    model = CatBoostClassifier(iterations=iterations,use_best_model=use_best, \r\n",
    "        custom_metric=['Logloss', 'AUC','Recall', 'Precision', 'F1', 'Accuracy'],\r\n",
    "\r\n",
    "        eval_metric='Accuracy', \r\n",
    "        depth=d,l2_leaf_reg=l2,\r\n",
    "        auto_class_weights='Balanced',verbose=verbose, random_state=2021) \r\n",
    "    return model                "
   ],
   "outputs": [],
   "metadata": {}
  },
  {
   "cell_type": "code",
   "execution_count": 52,
   "source": [
    "### Features som inte används vid träning\r\n",
    "def remove_features(df,remove_mer=[]):\r\n",
    "    #remove_mer=['h5_perf','h5_auto','h4_perf','h4_auto', 'h3_perf', 'h2_perf']\r\n",
    "    df.drop(['avd','startnr','vodds','podds','bins','h1_dat','h2_dat','h3_dat','h4_dat','h5_dat'],axis=1,inplace=True) #\r\n",
    "    if remove_mer:\r\n",
    "        df.drop(remove_mer,axis=1,inplace=True)\r\n",
    "    \r\n",
    "    # df=check_unique(df.copy())\r\n",
    "    # df=check_corr(df.copy())\r\n",
    "    return df"
   ],
   "outputs": [],
   "metadata": {}
  },
  {
   "cell_type": "code",
   "execution_count": 53,
   "source": [
    " ## byt ut alla NaN till text för cat_features\r\n",
    "def replace_NaN(X_train,X_test=None, cat_features=[]):\r\n",
    "    # print('cat_features',cat_features)\r\n",
    "    for c in cat_features:\r\n",
    "        # print(c)\r\n",
    "        X_train.loc[X_train[c].isna(),c] = 'None'       ### byt ut None-värden till texten 'None\r\n",
    "        if X_test is not None:  ## om X_test är med\r\n",
    "            X_test.loc [X_test[c].isna(),c] = 'None'    ### byt ut None-värden till texten 'None\r\n",
    "\r\n",
    "    return X_train,X_test"
   ],
   "outputs": [],
   "metadata": {}
  },
  {
   "cell_type": "code",
   "execution_count": 54,
   "source": [
    "def scrape_nya_lopp():\r\n",
    "    nya_lopp,strukna = vs.v75_scraping(resultat=True,history=True)\r\n",
    "\r\n",
    "    df=pd.concat([pd.read_csv('all_data.csv'), nya_lopp])\r\n",
    "    print('shape med nya lopp',df.shape)\r\n",
    "    #ta bort dubletter\r\n",
    "    df.drop_duplicates(['datum','avd','häst'],inplace=True)\r\n",
    "    df.sort_values(by=['datum','avd'],inplace=True)\r\n",
    "    df.reset_index(drop=True,inplace=True)\r\n",
    "    print('shape med dubletter bort',df.shape)\r\n",
    "\r\n",
    "    df.to_csv('all_data.csv', index=False)\r\n",
    "\r\n",
    "    print(\"första datum i df =\",df.datum.head(1).to_list()[0])\r\n",
    "    print(\"sista  datum i df =\",df.datum.tail(1).to_list()[0])\r\n",
    "\r\n",
    "    return df,nya_lopp"
   ],
   "outputs": [],
   "metadata": {}
  },
  {
   "cell_type": "code",
   "execution_count": 55,
   "source": [
    "### beräkna vilka datum att använda ###\r\n",
    "def get_alla_datum(proc=0.75, total_omlärning = False):\r\n",
    "    if total_omlärning:\r\n",
    "        nya_lopp=None\r\n",
    "        df = pd.read_csv('all_data.csv')     \r\n",
    "        alla_datum = df.datum.unique()\r\n",
    "        split_ix = int(len(alla_datum)*proc)\r\n",
    "    else:\r\n",
    "        # normalt adderar vi bara 1 eller flera veckor från \"omg_att_spela_link.csv\"\r\n",
    "        df, nya_lopp = scrape_nya_lopp()  # scrape från 'omg_att_spela_link.csv' och addera till df\r\n",
    "        omg_df = pd.read_csv('..\\\\omg_att_spela_link.csv')     \r\n",
    "        startix=omg_df.Link.str.find('spel')[0]    # index till 'spel' i url\r\n",
    "        alla_datum = omg_df.Link.str.slice(start=startix+5,stop=startix+15).to_list() # en datum \r\n",
    "        split_ix=0\r\n",
    "        print(f'datum att lära från {alla_datum}')\r\n",
    "\r\n",
    "    return df,nya_lopp,alla_datum,split_ix\r\n"
   ],
   "outputs": [],
   "metadata": {}
  },
  {
   "cell_type": "markdown",
   "source": [
    "## Walkthrough-funktionen  här"
   ],
   "metadata": {}
  },
  {
   "cell_type": "code",
   "execution_count": 56,
   "source": [
    "\r\n",
    "### Kör en walkthrough learn här, en datum i taget framåt\r\n",
    "\r\n",
    "# Jag har ändrat till att alla steg kör utan test-datam ed fast iterations=100\r\n",
    "def walkthrough(classic_test=False, verbose=False):\r\n",
    "    \r\n",
    "    df, nya_lopp, alla_datum, split_ix = get_alla_datum()\r\n",
    "\r\n",
    "    l2_leaf_regs=2\r\n",
    "    model=get_model(use_best=False,iterations=100)\r\n",
    "    df=remove_features(df.copy())\r\n",
    "    cat_features = list(df.loc[:,df.dtypes=='O'].columns)\r\n",
    "    df,_ = replace_NaN(df.copy(), cat_features=cat_features)    \r\n",
    "    print(f'cat_features {cat_features}\\n')\r\n",
    "\r\n",
    "    df['plac']=(df.plac==1)*1\r\n",
    "        \r\n",
    "    for nr,datum in enumerate(alla_datum[split_ix:]):\r\n",
    "        print(f'walk-iter {nr+1} av {len(alla_datum[split_ix:])} ',end=': ')\r\n",
    "\r\n",
    "        X_train = df.loc[df.datum<datum,:].copy()\r\n",
    "        y_train = X_train.plac; X_train.drop(['plac'],axis=1,inplace=True)\r\n",
    "\r\n",
    "        if classic_test:    ### klassisk train/test utan walkthrough\r\n",
    "            X_test  = df.loc[df.datum>=datum,:].copy()\r\n",
    "            y_test  = X_test.plac;  X_test.drop(['plac'],axis=1,inplace=True)\r\n",
    "            train_pool = Pool(X_train,y_train,cat_features=cat_features)\r\n",
    "            test_pool = Pool(X_test,y_test,cat_features=cat_features)\r\n",
    "            model.fit(train_pool,use_best_model=True, verbose=verbose,eval_set=test_pool)\r\n",
    "        else:\r\n",
    "            X_test  = df.loc[df.datum==datum,:].copy()\r\n",
    "            y_test  = X_test.plac;  X_test.drop(['plac'],axis=1,inplace=True)\r\n",
    "            train_pool = Pool(X_train,y_train,cat_features=cat_features)\r\n",
    "            test_pool = Pool(X_test,y_test,cat_features=cat_features)\r\n",
    "            model.fit(train_pool,use_best_model=False, verbose=verbose)\r\n",
    "\r\n",
    "        print('best iteration',model.get_best_iteration(), '\\tbest score', round(model.get_best_score()['learn']['Accuracy'],3) )\r\n",
    "        ##['validation']['Logloss'],3),'\\t', round(model.get_best_score()['validation']['Accuracy:use_weights=true'],3))\r\n",
    "        \r\n",
    "        if classic_test:    ### klassisk train/test utan walkthrough\r\n",
    "            return model,cat_features\r\n",
    "    \r\n",
    "        model.save_model('version 3/model_'+datum)\r\n",
    "\r\n",
    "    X_train =df.copy().drop('plac',axis=1)\r\n",
    "    y_train = df.plac \r\n",
    "    model.fit(X_train,y=y_train,cat_features=cat_features)\r\n",
    "    print(f'spara model_senaste',datum)\r\n",
    "    model.save_model('version 3/model_senaste')\r\n",
    "\r\n",
    "    return df,nya_lopp, model,cat_features"
   ],
   "outputs": [],
   "metadata": {}
  },
  {
   "cell_type": "code",
   "execution_count": 57,
   "source": [
    "#############################################################################################\r\n",
    "#  Det här körde jag stegvis när det blev fel och då fungerade det.\r\n",
    "#  Därefter fungerade det som det skulle även i orginal.\r\n",
    "#  Man kanske skall vänta någon timme efter att alla lopp har körts för att det skall fungera\r\n",
    "##############################################################################################\r\n",
    "\r\n",
    "#df, nya_lopp = scrape_nya_lopp()\r\n",
    "# nya_lopp.shape\r\n",
    "# omg_df = pd.read_csv('..\\\\omg_att_spela_link.csv')     \r\n",
    "# startix=omg_df.Link.str.find('spel')[0]    # index till 'spel' i url\r\n",
    "# alla_datum = omg_df.Link.str.slice(start=startix+5,stop=startix+15).to_list()  \r\n",
    "# split_ix=0\r\n",
    "# print(f'datum att lära från {alla_datum}')\r\n",
    "\r\n",
    "# l2_leaf_regs=2\r\n",
    "# model=get_model(use_best=False,iterations=100)\r\n",
    "# #   df=remove_features(df.copy())\r\n",
    "# cat_features = list(df.loc[:,df.dtypes=='O'].columns)\r\n",
    "# df,_ = replace_NaN(df.copy(), cat_features=cat_features)    \r\n",
    "# print(f'cat_features {cat_features}\\n')\r\n",
    "\r\n",
    "# df['plac']=(df.plac==1)*1\r\n",
    "\r\n",
    "# for nr,datum in enumerate(alla_datum[split_ix:]):\r\n",
    "#     print(f'{nr+1} av {len(alla_datum[split_ix:])} ',end=': ')\r\n",
    "\r\n",
    "#     X_train = df.loc[df.datum<datum,:].copy()\r\n",
    "#     y_train = X_train.plac; X_train.drop(['plac'],axis=1,inplace=True)\r\n",
    "\r\n",
    "#     if False:    ### klassisk train/test utan walkthrough\r\n",
    "#         X_test  = df.loc[df.datum>=datum,:].copy()\r\n",
    "#         y_test  = X_test.plac;  X_test.drop(['plac'],axis=1,inplace=True)\r\n",
    "#         train_pool = Pool(X_train,y_train,cat_features=cat_features)\r\n",
    "#         test_pool = Pool(X_test,y_test,cat_features=cat_features)\r\n",
    "#         model.fit(train_pool,use_best_model=True, verbose=True,eval_set=test_pool)\r\n",
    "#     else:\r\n",
    "#         X_test  = df.loc[df.datum==datum,:].copy()\r\n",
    "#         y_test  = X_test.plac;  X_test.drop(['plac'],axis=1,inplace=True)\r\n",
    "#         train_pool = Pool(X_train,y_train,cat_features=cat_features)\r\n",
    "#         test_pool = Pool(X_test,y_test,cat_features=cat_features)\r\n",
    "#         model.fit(train_pool,use_best_model=False, verbose=True)\r\n",
    "\r\n",
    "#     print(model.get_best_iteration(), '\\t', round(model.get_best_score()['learn']['Accuracy'],3) )\r\n",
    "#     print(model.get_best_iteration(), '\\t', round(model.get_best_score()['learn']['Accuracy'],3) )\r\n",
    "#     ##['validation']['Logloss'],3),'\\t', round(model.get_best_score()['validation']['Accuracy:use_weights=true'],3))\r\n",
    "    \r\n",
    "#     model.save_model('version 3/model_'+datum)\r\n",
    "\r\n",
    "# X_train =df.copy().drop('plac',axis=1)\r\n",
    "# y_train = df.plac \r\n",
    "# model.fit(X_train,y=y_train,cat_features=cat_features)\r\n",
    "# print(f'spara model_senaste',datum)\r\n",
    "# model.save_model('version 3/model_senaste')\r\n",
    "\r\n"
   ],
   "outputs": [],
   "metadata": {}
  },
  {
   "cell_type": "markdown",
   "source": [
    "### Här körs hela walkthrough"
   ],
   "metadata": {}
  },
  {
   "cell_type": "code",
   "execution_count": 58,
   "source": [
    "df, nya_lopp, model, cat_features = walkthrough(classic_test=False, verbose=False)\r\n"
   ],
   "outputs": [
    {
     "output_type": "stream",
     "name": "stdout",
     "text": [
      "omgång 1: https://www.atg.se/spel/2021-08-28/V75/\n",
      "klickade på ANPASSA\n",
      "anpassa klar - break\n",
      "ant resultat 7\n",
      "ant lopp 7\n"
     ]
    },
    {
     "output_type": "stream",
     "name": "stderr",
     "text": [
      "2021-08-28 19:40:43.360 WARNING root: 2021-08-28 avd: <selenium.webdriver.remote.webelement.WebElement (session=\"9197e50917746048322ad7a7b0803e0f\", element=\"62e7f2f5-ca4f-4532-95c5-579c28812fcc\")>\n"
     ]
    },
    {
     "output_type": "stream",
     "name": "stdout",
     "text": [
      "Ant priser 7\n",
      "ant names,vodds,podds,rader,streck 12 12 12 12\n"
     ]
    },
    {
     "output_type": "stream",
     "name": "stderr",
     "text": [
      "2021-08-28 19:40:43.789 WARNING root: 0\n"
     ]
    },
    {
     "output_type": "stream",
     "name": "stdout",
     "text": [
      "AVD 1 BERGSÅKER 2640 AUTOSTART "
     ]
    },
    {
     "output_type": "stream",
     "name": "stderr",
     "text": [
      "2021-08-28 19:40:44.491 WARNING root: 1\n"
     ]
    },
    {
     "output_type": "stream",
     "name": "stdout",
     "text": [
      "."
     ]
    },
    {
     "output_type": "stream",
     "name": "stderr",
     "text": [
      "2021-08-28 19:40:45.198 WARNING root: 2\n"
     ]
    },
    {
     "output_type": "stream",
     "name": "stdout",
     "text": [
      "."
     ]
    },
    {
     "output_type": "stream",
     "name": "stderr",
     "text": [
      "2021-08-28 19:40:46.061 WARNING root: 3\n"
     ]
    },
    {
     "output_type": "stream",
     "name": "stdout",
     "text": [
      "."
     ]
    },
    {
     "output_type": "stream",
     "name": "stderr",
     "text": [
      "2021-08-28 19:40:46.834 WARNING root: 4\n"
     ]
    },
    {
     "output_type": "stream",
     "name": "stdout",
     "text": [
      "."
     ]
    },
    {
     "output_type": "stream",
     "name": "stderr",
     "text": [
      "2021-08-28 19:40:47.628 WARNING root: 5\n"
     ]
    },
    {
     "output_type": "stream",
     "name": "stdout",
     "text": [
      "."
     ]
    },
    {
     "output_type": "stream",
     "name": "stderr",
     "text": [
      "2021-08-28 19:40:48.406 WARNING root: 6\n"
     ]
    },
    {
     "output_type": "stream",
     "name": "stdout",
     "text": [
      "."
     ]
    },
    {
     "output_type": "stream",
     "name": "stderr",
     "text": [
      "2021-08-28 19:40:49.231 WARNING root: 7\n"
     ]
    },
    {
     "output_type": "stream",
     "name": "stdout",
     "text": [
      "."
     ]
    },
    {
     "output_type": "stream",
     "name": "stderr",
     "text": [
      "2021-08-28 19:40:50.052 WARNING root: 8\n"
     ]
    },
    {
     "output_type": "stream",
     "name": "stdout",
     "text": [
      "."
     ]
    },
    {
     "output_type": "stream",
     "name": "stderr",
     "text": [
      "2021-08-28 19:40:51.045 WARNING root: 9\n"
     ]
    },
    {
     "output_type": "stream",
     "name": "stdout",
     "text": [
      "."
     ]
    },
    {
     "output_type": "stream",
     "name": "stderr",
     "text": [
      "2021-08-28 19:40:51.965 WARNING root: 10\n"
     ]
    },
    {
     "output_type": "stream",
     "name": "stdout",
     "text": [
      "."
     ]
    },
    {
     "output_type": "stream",
     "name": "stderr",
     "text": [
      "2021-08-28 19:40:52.868 WARNING root: 11\n"
     ]
    },
    {
     "output_type": "stream",
     "name": "stdout",
     "text": [
      "."
     ]
    },
    {
     "output_type": "stream",
     "name": "stderr",
     "text": [
      "2021-08-28 19:40:53.841 WARNING root: 2021-08-28 avd: <selenium.webdriver.remote.webelement.WebElement (session=\"9197e50917746048322ad7a7b0803e0f\", element=\"47cbac0a-cf5e-4a47-8459-c21eeeb6a08e\")>\n"
     ]
    },
    {
     "output_type": "stream",
     "name": "stdout",
     "text": [
      ".\n",
      "ant names,vodds,podds,rader,streck 12 12 12 12\n"
     ]
    },
    {
     "output_type": "stream",
     "name": "stderr",
     "text": [
      "2021-08-28 19:40:54.314 WARNING root: 0\n"
     ]
    },
    {
     "output_type": "stream",
     "name": "stdout",
     "text": [
      "AVD 2 BERGSÅKER 2140 VOLTSTART "
     ]
    },
    {
     "output_type": "stream",
     "name": "stderr",
     "text": [
      "2021-08-28 19:40:55.262 WARNING root: 1\n"
     ]
    },
    {
     "output_type": "stream",
     "name": "stdout",
     "text": [
      "."
     ]
    },
    {
     "output_type": "stream",
     "name": "stderr",
     "text": [
      "2021-08-28 19:40:56.225 WARNING root: 2\n"
     ]
    },
    {
     "output_type": "stream",
     "name": "stdout",
     "text": [
      "."
     ]
    },
    {
     "output_type": "stream",
     "name": "stderr",
     "text": [
      "2021-08-28 19:40:57.181 WARNING root: 3\n"
     ]
    },
    {
     "output_type": "stream",
     "name": "stdout",
     "text": [
      "."
     ]
    },
    {
     "output_type": "stream",
     "name": "stderr",
     "text": [
      "2021-08-28 19:40:58.156 WARNING root: 4\n"
     ]
    },
    {
     "output_type": "stream",
     "name": "stdout",
     "text": [
      "."
     ]
    },
    {
     "output_type": "stream",
     "name": "stderr",
     "text": [
      "2021-08-28 19:40:59.163 WARNING root: 5\n"
     ]
    },
    {
     "output_type": "stream",
     "name": "stdout",
     "text": [
      "."
     ]
    },
    {
     "output_type": "stream",
     "name": "stderr",
     "text": [
      "2021-08-28 19:41:00.179 WARNING root: 6\n"
     ]
    },
    {
     "output_type": "stream",
     "name": "stdout",
     "text": [
      "."
     ]
    },
    {
     "output_type": "stream",
     "name": "stderr",
     "text": [
      "2021-08-28 19:41:01.199 WARNING root: 7\n"
     ]
    },
    {
     "output_type": "stream",
     "name": "stdout",
     "text": [
      "."
     ]
    },
    {
     "output_type": "stream",
     "name": "stderr",
     "text": [
      "2021-08-28 19:41:02.234 WARNING root: 8\n"
     ]
    },
    {
     "output_type": "stream",
     "name": "stdout",
     "text": [
      "."
     ]
    },
    {
     "output_type": "stream",
     "name": "stderr",
     "text": [
      "2021-08-28 19:41:03.302 WARNING root: 9\n"
     ]
    },
    {
     "output_type": "stream",
     "name": "stdout",
     "text": [
      "."
     ]
    },
    {
     "output_type": "stream",
     "name": "stderr",
     "text": [
      "2021-08-28 19:41:04.365 WARNING root: 10\n"
     ]
    },
    {
     "output_type": "stream",
     "name": "stdout",
     "text": [
      "."
     ]
    },
    {
     "output_type": "stream",
     "name": "stderr",
     "text": [
      "2021-08-28 19:41:05.447 WARNING root: 11\n"
     ]
    },
    {
     "output_type": "stream",
     "name": "stdout",
     "text": [
      "."
     ]
    },
    {
     "output_type": "stream",
     "name": "stderr",
     "text": [
      "2021-08-28 19:41:06.563 WARNING root: 2021-08-28 avd: <selenium.webdriver.remote.webelement.WebElement (session=\"9197e50917746048322ad7a7b0803e0f\", element=\"314f71b6-a9c8-4236-acf3-aefcc8176a69\")>\n"
     ]
    },
    {
     "output_type": "stream",
     "name": "stdout",
     "text": [
      ".\n",
      "ant names,vodds,podds,rader,streck 12 12 12 12\n"
     ]
    },
    {
     "output_type": "stream",
     "name": "stderr",
     "text": [
      "2021-08-28 19:41:07.043 WARNING root: 0\n"
     ]
    },
    {
     "output_type": "stream",
     "name": "stdout",
     "text": [
      "AVD 3 BERGSÅKER 2640 AUTOSTART "
     ]
    },
    {
     "output_type": "stream",
     "name": "stderr",
     "text": [
      "2021-08-28 19:41:08.187 WARNING root: 1\n"
     ]
    },
    {
     "output_type": "stream",
     "name": "stdout",
     "text": [
      "."
     ]
    },
    {
     "output_type": "stream",
     "name": "stderr",
     "text": [
      "2021-08-28 19:41:09.314 WARNING root: 2\n"
     ]
    },
    {
     "output_type": "stream",
     "name": "stdout",
     "text": [
      "."
     ]
    },
    {
     "output_type": "stream",
     "name": "stderr",
     "text": [
      "2021-08-28 19:41:10.441 WARNING root: 3\n"
     ]
    },
    {
     "output_type": "stream",
     "name": "stdout",
     "text": [
      "."
     ]
    },
    {
     "output_type": "stream",
     "name": "stderr",
     "text": [
      "2021-08-28 19:41:11.545 WARNING root: 4\n"
     ]
    },
    {
     "output_type": "stream",
     "name": "stdout",
     "text": [
      "."
     ]
    },
    {
     "output_type": "stream",
     "name": "stderr",
     "text": [
      "2021-08-28 19:41:12.667 WARNING root: 5\n"
     ]
    },
    {
     "output_type": "stream",
     "name": "stdout",
     "text": [
      "."
     ]
    },
    {
     "output_type": "stream",
     "name": "stderr",
     "text": [
      "2021-08-28 19:41:13.786 WARNING root: 6\n"
     ]
    },
    {
     "output_type": "stream",
     "name": "stdout",
     "text": [
      "."
     ]
    },
    {
     "output_type": "stream",
     "name": "stderr",
     "text": [
      "2021-08-28 19:41:14.938 WARNING root: 7\n"
     ]
    },
    {
     "output_type": "stream",
     "name": "stdout",
     "text": [
      "."
     ]
    },
    {
     "output_type": "stream",
     "name": "stderr",
     "text": [
      "2021-08-28 19:41:16.084 WARNING root: 8\n"
     ]
    },
    {
     "output_type": "stream",
     "name": "stdout",
     "text": [
      "."
     ]
    },
    {
     "output_type": "stream",
     "name": "stderr",
     "text": [
      "2021-08-28 19:41:17.339 WARNING root: 9\n"
     ]
    },
    {
     "output_type": "stream",
     "name": "stdout",
     "text": [
      "."
     ]
    },
    {
     "output_type": "stream",
     "name": "stderr",
     "text": [
      "2021-08-28 19:41:18.901 WARNING root: 10\n"
     ]
    },
    {
     "output_type": "stream",
     "name": "stdout",
     "text": [
      "."
     ]
    },
    {
     "output_type": "stream",
     "name": "stderr",
     "text": [
      "2021-08-28 19:41:20.079 WARNING root: 11\n"
     ]
    },
    {
     "output_type": "stream",
     "name": "stdout",
     "text": [
      "."
     ]
    },
    {
     "output_type": "stream",
     "name": "stderr",
     "text": [
      "2021-08-28 19:41:21.263 WARNING root: 2021-08-28 avd: <selenium.webdriver.remote.webelement.WebElement (session=\"9197e50917746048322ad7a7b0803e0f\", element=\"a1ee863f-93ed-4724-a1d5-716a22e1699d\")>\n"
     ]
    },
    {
     "output_type": "stream",
     "name": "stdout",
     "text": [
      ".\n",
      "ant names,vodds,podds,rader,streck 15 15 15 15\n"
     ]
    },
    {
     "output_type": "stream",
     "name": "stderr",
     "text": [
      "2021-08-28 19:41:21.811 WARNING root: 0\n"
     ]
    },
    {
     "output_type": "stream",
     "name": "stdout",
     "text": [
      "AVD 4 BERGSÅKER 2140 VOLTSTART "
     ]
    },
    {
     "output_type": "stream",
     "name": "stderr",
     "text": [
      "2021-08-28 19:41:23.060 WARNING root: 1\n"
     ]
    },
    {
     "output_type": "stream",
     "name": "stdout",
     "text": [
      "."
     ]
    },
    {
     "output_type": "stream",
     "name": "stderr",
     "text": [
      "2021-08-28 19:41:24.303 WARNING root: 2\n"
     ]
    },
    {
     "output_type": "stream",
     "name": "stdout",
     "text": [
      "."
     ]
    },
    {
     "output_type": "stream",
     "name": "stderr",
     "text": [
      "2021-08-28 19:41:25.558 WARNING root: 3\n"
     ]
    },
    {
     "output_type": "stream",
     "name": "stdout",
     "text": [
      "."
     ]
    },
    {
     "output_type": "stream",
     "name": "stderr",
     "text": [
      "2021-08-28 19:41:26.848 WARNING root: 4\n"
     ]
    },
    {
     "output_type": "stream",
     "name": "stdout",
     "text": [
      "."
     ]
    },
    {
     "output_type": "stream",
     "name": "stderr",
     "text": [
      "2021-08-28 19:41:28.147 WARNING root: 5\n"
     ]
    },
    {
     "output_type": "stream",
     "name": "stdout",
     "text": [
      "."
     ]
    },
    {
     "output_type": "stream",
     "name": "stderr",
     "text": [
      "2021-08-28 19:41:29.493 WARNING root: 6\n"
     ]
    },
    {
     "output_type": "stream",
     "name": "stdout",
     "text": [
      "."
     ]
    },
    {
     "output_type": "stream",
     "name": "stderr",
     "text": [
      "2021-08-28 19:41:30.908 WARNING root: 7\n"
     ]
    },
    {
     "output_type": "stream",
     "name": "stdout",
     "text": [
      "."
     ]
    },
    {
     "output_type": "stream",
     "name": "stderr",
     "text": [
      "2021-08-28 19:41:32.321 WARNING root: 8\n"
     ]
    },
    {
     "output_type": "stream",
     "name": "stdout",
     "text": [
      "."
     ]
    },
    {
     "output_type": "stream",
     "name": "stderr",
     "text": [
      "2021-08-28 19:41:33.674 WARNING root: 9\n"
     ]
    },
    {
     "output_type": "stream",
     "name": "stdout",
     "text": [
      "."
     ]
    },
    {
     "output_type": "stream",
     "name": "stderr",
     "text": [
      "2021-08-28 19:41:35.063 WARNING root: 10\n"
     ]
    },
    {
     "output_type": "stream",
     "name": "stdout",
     "text": [
      "."
     ]
    },
    {
     "output_type": "stream",
     "name": "stderr",
     "text": [
      "2021-08-28 19:41:36.523 WARNING root: 11\n"
     ]
    },
    {
     "output_type": "stream",
     "name": "stdout",
     "text": [
      "."
     ]
    },
    {
     "output_type": "stream",
     "name": "stderr",
     "text": [
      "2021-08-28 19:41:38.022 WARNING root: 12\n"
     ]
    },
    {
     "output_type": "stream",
     "name": "stdout",
     "text": [
      "."
     ]
    },
    {
     "output_type": "stream",
     "name": "stderr",
     "text": [
      "2021-08-28 19:41:39.491 WARNING root: 13\n"
     ]
    },
    {
     "output_type": "stream",
     "name": "stdout",
     "text": [
      "."
     ]
    },
    {
     "output_type": "stream",
     "name": "stderr",
     "text": [
      "2021-08-28 19:41:40.933 WARNING root: 14\n"
     ]
    },
    {
     "output_type": "stream",
     "name": "stdout",
     "text": [
      "."
     ]
    },
    {
     "output_type": "stream",
     "name": "stderr",
     "text": [
      "2021-08-28 19:41:42.468 WARNING root: 2021-08-28 avd: <selenium.webdriver.remote.webelement.WebElement (session=\"9197e50917746048322ad7a7b0803e0f\", element=\"80881a1a-1eb4-41b5-b2af-5a2af109d7c3\")>\n"
     ]
    },
    {
     "output_type": "stream",
     "name": "stdout",
     "text": [
      ".\n",
      "ant names,vodds,podds,rader,streck 12 12 12 12\n"
     ]
    },
    {
     "output_type": "stream",
     "name": "stderr",
     "text": [
      "2021-08-28 19:41:42.953 WARNING root: 0\n"
     ]
    },
    {
     "output_type": "stream",
     "name": "stdout",
     "text": [
      "AVD 5 BERGSÅKER 3140 AUTOSTART "
     ]
    },
    {
     "output_type": "stream",
     "name": "stderr",
     "text": [
      "2021-08-28 19:41:44.430 WARNING root: 1\n"
     ]
    },
    {
     "output_type": "stream",
     "name": "stdout",
     "text": [
      "."
     ]
    },
    {
     "output_type": "stream",
     "name": "stderr",
     "text": [
      "2021-08-28 19:41:45.866 WARNING root: 2\n"
     ]
    },
    {
     "output_type": "stream",
     "name": "stdout",
     "text": [
      "."
     ]
    },
    {
     "output_type": "stream",
     "name": "stderr",
     "text": [
      "2021-08-28 19:41:47.348 WARNING root: 3\n"
     ]
    },
    {
     "output_type": "stream",
     "name": "stdout",
     "text": [
      "."
     ]
    },
    {
     "output_type": "stream",
     "name": "stderr",
     "text": [
      "2021-08-28 19:41:48.814 WARNING root: 4\n"
     ]
    },
    {
     "output_type": "stream",
     "name": "stdout",
     "text": [
      "."
     ]
    },
    {
     "output_type": "stream",
     "name": "stderr",
     "text": [
      "2021-08-28 19:41:50.350 WARNING root: 5\n"
     ]
    },
    {
     "output_type": "stream",
     "name": "stdout",
     "text": [
      "."
     ]
    },
    {
     "output_type": "stream",
     "name": "stderr",
     "text": [
      "2021-08-28 19:41:51.867 WARNING root: 6\n"
     ]
    },
    {
     "output_type": "stream",
     "name": "stdout",
     "text": [
      "."
     ]
    },
    {
     "output_type": "stream",
     "name": "stderr",
     "text": [
      "2021-08-28 19:41:53.384 WARNING root: 7\n"
     ]
    },
    {
     "output_type": "stream",
     "name": "stdout",
     "text": [
      "."
     ]
    },
    {
     "output_type": "stream",
     "name": "stderr",
     "text": [
      "2021-08-28 19:41:54.929 WARNING root: 8\n"
     ]
    },
    {
     "output_type": "stream",
     "name": "stdout",
     "text": [
      "."
     ]
    },
    {
     "output_type": "stream",
     "name": "stderr",
     "text": [
      "2021-08-28 19:41:56.449 WARNING root: 9\n"
     ]
    },
    {
     "output_type": "stream",
     "name": "stdout",
     "text": [
      "."
     ]
    },
    {
     "output_type": "stream",
     "name": "stderr",
     "text": [
      "2021-08-28 19:41:57.991 WARNING root: 10\n"
     ]
    },
    {
     "output_type": "stream",
     "name": "stdout",
     "text": [
      "."
     ]
    },
    {
     "output_type": "stream",
     "name": "stderr",
     "text": [
      "2021-08-28 19:41:59.607 WARNING root: 11\n"
     ]
    },
    {
     "output_type": "stream",
     "name": "stdout",
     "text": [
      "."
     ]
    },
    {
     "output_type": "stream",
     "name": "stderr",
     "text": [
      "2021-08-28 19:42:01.213 WARNING root: 2021-08-28 avd: <selenium.webdriver.remote.webelement.WebElement (session=\"9197e50917746048322ad7a7b0803e0f\", element=\"7341d393-55bc-4312-a37f-c3f18c0cd223\")>\n"
     ]
    },
    {
     "output_type": "stream",
     "name": "stdout",
     "text": [
      ".\n",
      "ant names,vodds,podds,rader,streck 12 12 12 12\n"
     ]
    },
    {
     "output_type": "stream",
     "name": "stderr",
     "text": [
      "2021-08-28 19:42:01.711 WARNING root: 0\n"
     ]
    },
    {
     "output_type": "stream",
     "name": "stdout",
     "text": [
      "AVD 6 BERGSÅKER 1640 AUTOSTART "
     ]
    },
    {
     "output_type": "stream",
     "name": "stderr",
     "text": [
      "2021-08-28 19:42:03.358 WARNING root: 1\n"
     ]
    },
    {
     "output_type": "stream",
     "name": "stdout",
     "text": [
      "."
     ]
    },
    {
     "output_type": "stream",
     "name": "stderr",
     "text": [
      "2021-08-28 19:42:04.998 WARNING root: 2\n"
     ]
    },
    {
     "output_type": "stream",
     "name": "stdout",
     "text": [
      "."
     ]
    },
    {
     "output_type": "stream",
     "name": "stderr",
     "text": [
      "2021-08-28 19:42:06.752 WARNING root: 3\n"
     ]
    },
    {
     "output_type": "stream",
     "name": "stdout",
     "text": [
      "."
     ]
    },
    {
     "output_type": "stream",
     "name": "stderr",
     "text": [
      "2021-08-28 19:42:08.591 WARNING root: 4\n"
     ]
    },
    {
     "output_type": "stream",
     "name": "stdout",
     "text": [
      "."
     ]
    },
    {
     "output_type": "stream",
     "name": "stderr",
     "text": [
      "2021-08-28 19:42:10.395 WARNING root: 5\n"
     ]
    },
    {
     "output_type": "stream",
     "name": "stdout",
     "text": [
      "."
     ]
    },
    {
     "output_type": "stream",
     "name": "stderr",
     "text": [
      "2021-08-28 19:42:12.115 WARNING root: 6\n"
     ]
    },
    {
     "output_type": "stream",
     "name": "stdout",
     "text": [
      "."
     ]
    },
    {
     "output_type": "stream",
     "name": "stderr",
     "text": [
      "2021-08-28 19:42:13.843 WARNING root: 7\n"
     ]
    },
    {
     "output_type": "stream",
     "name": "stdout",
     "text": [
      "."
     ]
    },
    {
     "output_type": "stream",
     "name": "stderr",
     "text": [
      "2021-08-28 19:42:15.424 WARNING root: 8\n"
     ]
    },
    {
     "output_type": "stream",
     "name": "stdout",
     "text": [
      "."
     ]
    },
    {
     "output_type": "stream",
     "name": "stderr",
     "text": [
      "2021-08-28 19:42:17.047 WARNING root: 9\n"
     ]
    },
    {
     "output_type": "stream",
     "name": "stdout",
     "text": [
      "."
     ]
    },
    {
     "output_type": "stream",
     "name": "stderr",
     "text": [
      "2021-08-28 19:42:18.736 WARNING root: 10\n"
     ]
    },
    {
     "output_type": "stream",
     "name": "stdout",
     "text": [
      "."
     ]
    },
    {
     "output_type": "stream",
     "name": "stderr",
     "text": [
      "2021-08-28 19:42:20.468 WARNING root: 11\n"
     ]
    },
    {
     "output_type": "stream",
     "name": "stdout",
     "text": [
      "."
     ]
    },
    {
     "output_type": "stream",
     "name": "stderr",
     "text": [
      "2021-08-28 19:42:22.170 WARNING root: 2021-08-28 avd: <selenium.webdriver.remote.webelement.WebElement (session=\"9197e50917746048322ad7a7b0803e0f\", element=\"8138f355-bb88-4801-9643-35f8ffdead02\")>\n"
     ]
    },
    {
     "output_type": "stream",
     "name": "stdout",
     "text": [
      ".\n",
      "ant names,vodds,podds,rader,streck 10 10 10 10\n"
     ]
    },
    {
     "output_type": "stream",
     "name": "stderr",
     "text": [
      "2021-08-28 19:42:22.624 WARNING root: 0\n"
     ]
    },
    {
     "output_type": "stream",
     "name": "stdout",
     "text": [
      "AVD 7 BERGSÅKER 2140 AUTOSTART "
     ]
    },
    {
     "output_type": "stream",
     "name": "stderr",
     "text": [
      "2021-08-28 19:42:24.256 WARNING root: 1\n"
     ]
    },
    {
     "output_type": "stream",
     "name": "stdout",
     "text": [
      "."
     ]
    },
    {
     "output_type": "stream",
     "name": "stderr",
     "text": [
      "2021-08-28 19:42:25.920 WARNING root: 2\n"
     ]
    },
    {
     "output_type": "stream",
     "name": "stdout",
     "text": [
      "."
     ]
    },
    {
     "output_type": "stream",
     "name": "stderr",
     "text": [
      "2021-08-28 19:42:27.640 WARNING root: 3\n"
     ]
    },
    {
     "output_type": "stream",
     "name": "stdout",
     "text": [
      "."
     ]
    },
    {
     "output_type": "stream",
     "name": "stderr",
     "text": [
      "2021-08-28 19:42:29.309 WARNING root: 4\n"
     ]
    },
    {
     "output_type": "stream",
     "name": "stdout",
     "text": [
      "."
     ]
    },
    {
     "output_type": "stream",
     "name": "stderr",
     "text": [
      "2021-08-28 19:42:31.053 WARNING root: 5\n"
     ]
    },
    {
     "output_type": "stream",
     "name": "stdout",
     "text": [
      "."
     ]
    },
    {
     "output_type": "stream",
     "name": "stderr",
     "text": [
      "2021-08-28 19:42:32.870 WARNING root: 6\n"
     ]
    },
    {
     "output_type": "stream",
     "name": "stdout",
     "text": [
      "."
     ]
    },
    {
     "output_type": "stream",
     "name": "stderr",
     "text": [
      "2021-08-28 19:42:34.675 WARNING root: 7\n"
     ]
    },
    {
     "output_type": "stream",
     "name": "stdout",
     "text": [
      "."
     ]
    },
    {
     "output_type": "stream",
     "name": "stderr",
     "text": [
      "2021-08-28 19:42:36.605 WARNING root: 8\n"
     ]
    },
    {
     "output_type": "stream",
     "name": "stdout",
     "text": [
      "."
     ]
    },
    {
     "output_type": "stream",
     "name": "stderr",
     "text": [
      "2021-08-28 19:42:38.406 WARNING root: 9\n"
     ]
    },
    {
     "output_type": "stream",
     "name": "stdout",
     "text": [
      "..\n",
      "\n",
      "det tog 117.444 sekunder\n",
      "utdelning: 27390, 160, 0\n",
      "startar Fixa mer\n",
      "tog bort 5 strukna från 85 till 80\n",
      "rensade totalt bort 5 hästar i städa_och_rensa. Från 85 till 80\n",
      "shape med nya lopp (41679, 79)\n",
      "shape med dubletter bort (41679, 79)\n",
      "första datum i df = 2014-12-28\n",
      "sista  datum i df = 2021-08-28\n",
      "datum att lära från ['2021-08-28']\n",
      "cat_features ['datum', 'bana', 'häst', 'kusk', 'kön', 'h1_kusk', 'h1_bana', 'h2_kusk', 'h2_bana', 'h3_kusk', 'h3_bana', 'h4_kusk', 'h4_bana', 'h5_kusk', 'h5_bana']\n",
      "\n",
      "walk-iter 1 av 1 : best iteration None \tbest score 0.749\n",
      "spara model_senaste 2021-08-28\n"
     ]
    }
   ],
   "metadata": {}
  },
  {
   "cell_type": "markdown",
   "source": [
    "## Kör allt ovanför walkthrough\r\n",
    "### Se till att \"..\\\\omg_att_spela_link.csv\" är ifylld"
   ],
   "metadata": {}
  },
  {
   "cell_type": "code",
   "execution_count": 59,
   "source": [
    "from catboost.utils import eval_metric\r\n",
    "df = pd.read_csv('all_data.csv')     \r\n",
    "print(df.columns)\r\n",
    "dfval=remove_features(df.copy())\r\n",
    "cat_features = list(dfval.loc[:,dfval.dtypes=='O'].columns)\r\n",
    "dfval,_ = replace_NaN(dfval.copy(), cat_features=cat_features)    \r\n",
    "    \r\n",
    "validation = nya_lopp.copy()\r\n",
    "validation = validation[dfval.columns]\r\n",
    "# validation.drop('startnr',axis=1,inplace=True)\r\n",
    "# validation = remove_features(validation)\r\n",
    "y=validation.plac\r\n",
    "y=(y==1)*1\r\n",
    "validation.drop('plac',axis=1,inplace=True)\r\n",
    "# cat_features = validation.loc[:,validation.dtypes=='O'].columns\r\n",
    "        \r\n",
    "val_pool=Pool(validation,y,cat_features)\r\n",
    "yhat=model.predict(val_pool)\r\n",
    "print(utils.get_confusion_matrix(model,val_pool))\r\n",
    "eval_metric(yhat,y,'Accuracy')\r\n",
    "\r\n"
   ],
   "outputs": [
    {
     "output_type": "stream",
     "name": "stdout",
     "text": [
      "Index(['datum', 'avd', 'bana', 'häst', 'kusk', 'streck', 'vodds', 'podds',\n",
      "       'kr', 'spår', 'dist', 'lopp_dist', 'start', 'ålder', 'kön', 'plac',\n",
      "       'pris', 'h1_dat', 'h1_kusk', 'h1_bana', 'h1_spår', 'h1_plac', 'h1_pris',\n",
      "       'h1_odds', 'h1_kmtid', 'h2_dat', 'h2_kusk', 'h2_bana', 'h2_spår',\n",
      "       'h2_plac', 'h2_pris', 'h2_odds', 'h2_kmtid', 'h3_dat', 'h3_kusk',\n",
      "       'h3_bana', 'h3_spår', 'h3_plac', 'h3_pris', 'h3_odds', 'h3_kmtid',\n",
      "       'h4_dat', 'h4_kusk', 'h4_bana', 'h4_spår', 'h4_plac', 'h4_pris',\n",
      "       'h4_odds', 'h4_kmtid', 'h5_dat', 'h5_kusk', 'h5_bana', 'h5_spår',\n",
      "       'h5_plac', 'h5_pris', 'h5_odds', 'h5_kmtid', 'h1_dist', 'h2_dist',\n",
      "       'h3_dist', 'h4_dist', 'h5_dist', 'bins', 'h1_auto', 'h2_auto',\n",
      "       'h3_auto', 'h4_auto', 'h5_auto', 'h1_perf', 'h2_perf', 'h3_perf',\n",
      "       'h4_perf', 'h5_perf', 'senast', 'delta1', 'delta2', 'delta3', 'delta4',\n",
      "       'startnr'],\n",
      "      dtype='object')\n",
      "[[55. 18.]\n",
      " [ 3.  4.]]\n"
     ]
    },
    {
     "output_type": "execute_result",
     "data": {
      "text/plain": [
       "[0.7375]"
      ]
     },
     "metadata": {},
     "execution_count": 59
    }
   ],
   "metadata": {}
  },
  {
   "cell_type": "code",
   "execution_count": 60,
   "source": [
    "validation.datum.max()"
   ],
   "outputs": [
    {
     "output_type": "execute_result",
     "data": {
      "text/plain": [
       "'2021-08-28'"
      ]
     },
     "metadata": {},
     "execution_count": 60
    }
   ],
   "metadata": {}
  },
  {
   "cell_type": "code",
   "execution_count": 61,
   "source": [
    "model.get_feature_importance(prettified=True).head(30)"
   ],
   "outputs": [
    {
     "output_type": "execute_result",
     "data": {
      "text/plain": [
       "   Feature Id  Importances\n",
       "0      streck    65.487461\n",
       "1       datum     6.736058\n",
       "2        häst     4.665003\n",
       "3     h1_odds     1.062315\n",
       "4     h2_plac     1.028959\n",
       "5      senast     0.976646\n",
       "6     h3_odds     0.946720\n",
       "7          kr     0.943488\n",
       "8     h5_bana     0.780690\n",
       "9     h2_odds     0.738267\n",
       "10    h4_bana     0.723678\n",
       "11   h1_kmtid     0.673118\n",
       "12  lopp_dist     0.651726\n",
       "13    h1_dist     0.643845\n",
       "14    h4_odds     0.635731\n",
       "15    h5_pris     0.631383\n",
       "16       bana     0.573002\n",
       "17     delta3     0.520469\n",
       "18    h3_plac     0.510394\n",
       "19    h3_bana     0.498204\n",
       "20    h2_dist     0.494944\n",
       "21      ålder     0.467066\n",
       "22    h1_pris     0.448355\n",
       "23    h4_dist     0.436225\n",
       "24    h2_bana     0.428910\n",
       "25    h1_bana     0.403736\n",
       "26    h2_perf     0.403644\n",
       "27     delta1     0.365032\n",
       "28    h5_dist     0.364415\n",
       "29       spår     0.353304"
      ],
      "text/html": [
       "<div>\n",
       "<style scoped>\n",
       "    .dataframe tbody tr th:only-of-type {\n",
       "        vertical-align: middle;\n",
       "    }\n",
       "\n",
       "    .dataframe tbody tr th {\n",
       "        vertical-align: top;\n",
       "    }\n",
       "\n",
       "    .dataframe thead th {\n",
       "        text-align: right;\n",
       "    }\n",
       "</style>\n",
       "<table border=\"1\" class=\"dataframe\">\n",
       "  <thead>\n",
       "    <tr style=\"text-align: right;\">\n",
       "      <th></th>\n",
       "      <th>Feature Id</th>\n",
       "      <th>Importances</th>\n",
       "    </tr>\n",
       "  </thead>\n",
       "  <tbody>\n",
       "    <tr>\n",
       "      <th>0</th>\n",
       "      <td>streck</td>\n",
       "      <td>65.487461</td>\n",
       "    </tr>\n",
       "    <tr>\n",
       "      <th>1</th>\n",
       "      <td>datum</td>\n",
       "      <td>6.736058</td>\n",
       "    </tr>\n",
       "    <tr>\n",
       "      <th>2</th>\n",
       "      <td>häst</td>\n",
       "      <td>4.665003</td>\n",
       "    </tr>\n",
       "    <tr>\n",
       "      <th>3</th>\n",
       "      <td>h1_odds</td>\n",
       "      <td>1.062315</td>\n",
       "    </tr>\n",
       "    <tr>\n",
       "      <th>4</th>\n",
       "      <td>h2_plac</td>\n",
       "      <td>1.028959</td>\n",
       "    </tr>\n",
       "    <tr>\n",
       "      <th>5</th>\n",
       "      <td>senast</td>\n",
       "      <td>0.976646</td>\n",
       "    </tr>\n",
       "    <tr>\n",
       "      <th>6</th>\n",
       "      <td>h3_odds</td>\n",
       "      <td>0.946720</td>\n",
       "    </tr>\n",
       "    <tr>\n",
       "      <th>7</th>\n",
       "      <td>kr</td>\n",
       "      <td>0.943488</td>\n",
       "    </tr>\n",
       "    <tr>\n",
       "      <th>8</th>\n",
       "      <td>h5_bana</td>\n",
       "      <td>0.780690</td>\n",
       "    </tr>\n",
       "    <tr>\n",
       "      <th>9</th>\n",
       "      <td>h2_odds</td>\n",
       "      <td>0.738267</td>\n",
       "    </tr>\n",
       "    <tr>\n",
       "      <th>10</th>\n",
       "      <td>h4_bana</td>\n",
       "      <td>0.723678</td>\n",
       "    </tr>\n",
       "    <tr>\n",
       "      <th>11</th>\n",
       "      <td>h1_kmtid</td>\n",
       "      <td>0.673118</td>\n",
       "    </tr>\n",
       "    <tr>\n",
       "      <th>12</th>\n",
       "      <td>lopp_dist</td>\n",
       "      <td>0.651726</td>\n",
       "    </tr>\n",
       "    <tr>\n",
       "      <th>13</th>\n",
       "      <td>h1_dist</td>\n",
       "      <td>0.643845</td>\n",
       "    </tr>\n",
       "    <tr>\n",
       "      <th>14</th>\n",
       "      <td>h4_odds</td>\n",
       "      <td>0.635731</td>\n",
       "    </tr>\n",
       "    <tr>\n",
       "      <th>15</th>\n",
       "      <td>h5_pris</td>\n",
       "      <td>0.631383</td>\n",
       "    </tr>\n",
       "    <tr>\n",
       "      <th>16</th>\n",
       "      <td>bana</td>\n",
       "      <td>0.573002</td>\n",
       "    </tr>\n",
       "    <tr>\n",
       "      <th>17</th>\n",
       "      <td>delta3</td>\n",
       "      <td>0.520469</td>\n",
       "    </tr>\n",
       "    <tr>\n",
       "      <th>18</th>\n",
       "      <td>h3_plac</td>\n",
       "      <td>0.510394</td>\n",
       "    </tr>\n",
       "    <tr>\n",
       "      <th>19</th>\n",
       "      <td>h3_bana</td>\n",
       "      <td>0.498204</td>\n",
       "    </tr>\n",
       "    <tr>\n",
       "      <th>20</th>\n",
       "      <td>h2_dist</td>\n",
       "      <td>0.494944</td>\n",
       "    </tr>\n",
       "    <tr>\n",
       "      <th>21</th>\n",
       "      <td>ålder</td>\n",
       "      <td>0.467066</td>\n",
       "    </tr>\n",
       "    <tr>\n",
       "      <th>22</th>\n",
       "      <td>h1_pris</td>\n",
       "      <td>0.448355</td>\n",
       "    </tr>\n",
       "    <tr>\n",
       "      <th>23</th>\n",
       "      <td>h4_dist</td>\n",
       "      <td>0.436225</td>\n",
       "    </tr>\n",
       "    <tr>\n",
       "      <th>24</th>\n",
       "      <td>h2_bana</td>\n",
       "      <td>0.428910</td>\n",
       "    </tr>\n",
       "    <tr>\n",
       "      <th>25</th>\n",
       "      <td>h1_bana</td>\n",
       "      <td>0.403736</td>\n",
       "    </tr>\n",
       "    <tr>\n",
       "      <th>26</th>\n",
       "      <td>h2_perf</td>\n",
       "      <td>0.403644</td>\n",
       "    </tr>\n",
       "    <tr>\n",
       "      <th>27</th>\n",
       "      <td>delta1</td>\n",
       "      <td>0.365032</td>\n",
       "    </tr>\n",
       "    <tr>\n",
       "      <th>28</th>\n",
       "      <td>h5_dist</td>\n",
       "      <td>0.364415</td>\n",
       "    </tr>\n",
       "    <tr>\n",
       "      <th>29</th>\n",
       "      <td>spår</td>\n",
       "      <td>0.353304</td>\n",
       "    </tr>\n",
       "  </tbody>\n",
       "</table>\n",
       "</div>"
      ]
     },
     "metadata": {},
     "execution_count": 61
    }
   ],
   "metadata": {}
  },
  {
   "cell_type": "code",
   "execution_count": 62,
   "source": [
    "model.get_params()"
   ],
   "outputs": [
    {
     "output_type": "execute_result",
     "data": {
      "text/plain": [
       "{'iterations': 100,\n",
       " 'depth': 6,\n",
       " 'l2_leaf_reg': 2,\n",
       " 'use_best_model': False,\n",
       " 'verbose': False,\n",
       " 'auto_class_weights': 'Balanced',\n",
       " 'custom_metric': ['Logloss', 'AUC', 'Recall', 'Precision', 'F1', 'Accuracy'],\n",
       " 'eval_metric': 'Accuracy',\n",
       " 'random_state': 2021}"
      ]
     },
     "metadata": {},
     "execution_count": 62
    }
   ],
   "metadata": {}
  },
  {
   "cell_type": "markdown",
   "source": [
    "# Kör cross validation"
   ],
   "metadata": {}
  },
  {
   "cell_type": "markdown",
   "source": [
    "## init  - kör först allt t.o.m 'replace_NaN()' ovan"
   ],
   "metadata": {}
  },
  {
   "cell_type": "code",
   "execution_count": 63,
   "source": [
    "model = get_model().load_model('version 3/model_senaste')\r\n",
    "df = pd.read_csv('all_data.csv')     \r\n",
    "# print(df.columns)\r\n",
    "df=remove_features(df.copy())\r\n",
    "cat_features = list(df.loc[:,df.dtypes=='O'].columns)\r\n",
    "df,_ = replace_NaN(df.copy(), cat_features=cat_features)    \r\n",
    "y=df.plac\r\n",
    "y=(y==1)*1\r\n",
    "df.drop('plac',axis=1,inplace=True)\r\n"
   ],
   "outputs": [],
   "metadata": {}
  },
  {
   "cell_type": "markdown",
   "source": [
    "## cv"
   ],
   "metadata": {}
  },
  {
   "cell_type": "code",
   "execution_count": 64,
   "source": [
    "\r\n",
    "cv_pool = Pool(df,y,cat_features=cat_features)\r\n",
    "\r\n",
    "params = {\r\n",
    "         'use_best_model': True,\r\n",
    "         # 'eval_metric' : 'F1',\r\n",
    "         \"loss_function\": \"Logloss\",\r\n",
    "         'early_stopping_rounds': 100,\r\n",
    "         'verbose': 50,\r\n",
    "}\r\n",
    "\r\n",
    "cv_score =cv(pool=cv_pool, \r\n",
    "   params=params, \r\n",
    "   dtrain=None, \r\n",
    "   iterations=2000, \r\n",
    "   num_boost_round=None,\r\n",
    "   fold_count=5, \r\n",
    "   nfold=None,\r\n",
    "   inverted=False,\r\n",
    "   partition_random_seed=0,\r\n",
    "   seed=2021, \r\n",
    "   shuffle=False, \r\n",
    "   logging_level=None, \r\n",
    "   stratified=True,\r\n",
    "   as_pandas=True,\r\n",
    "   type='TimeSeries')"
   ],
   "outputs": [
    {
     "output_type": "stream",
     "name": "stdout",
     "text": [
      "0:\tlearn: 0.6575076\ttest: 0.6579774\tbest: 0.6579774 (0)\n",
      "50:\tlearn: 0.2430084\ttest: 0.2581109\tbest: 0.2581109 (50)\n",
      "100:\tlearn: 0.2185859\ttest: 0.2410201\tbest: 0.2410201 (100)\n",
      "150:\tlearn: 0.2104451\ttest: 0.2405276\tbest: 0.2404063 (132)\n",
      "200:\tlearn: 0.2053895\ttest: 0.2411168\tbest: 0.2404063 (132)\n",
      "Stopped by overfitting detector  (100 iterations wait)\n"
     ]
    }
   ],
   "metadata": {}
  },
  {
   "cell_type": "code",
   "execution_count": 65,
   "source": [
    "cv_score[cv_score['test-Logloss-mean'].min() == cv_score['test-Logloss-mean']]"
   ],
   "outputs": [
    {
     "output_type": "execute_result",
     "data": {
      "text/plain": [
       "     iterations  test-Logloss-mean  test-Logloss-std  train-Logloss-mean  \\\n",
       "132         132           0.240406          0.003219            0.212888   \n",
       "\n",
       "     train-Logloss-std  \n",
       "132           0.004503  "
      ],
      "text/html": [
       "<div>\n",
       "<style scoped>\n",
       "    .dataframe tbody tr th:only-of-type {\n",
       "        vertical-align: middle;\n",
       "    }\n",
       "\n",
       "    .dataframe tbody tr th {\n",
       "        vertical-align: top;\n",
       "    }\n",
       "\n",
       "    .dataframe thead th {\n",
       "        text-align: right;\n",
       "    }\n",
       "</style>\n",
       "<table border=\"1\" class=\"dataframe\">\n",
       "  <thead>\n",
       "    <tr style=\"text-align: right;\">\n",
       "      <th></th>\n",
       "      <th>iterations</th>\n",
       "      <th>test-Logloss-mean</th>\n",
       "      <th>test-Logloss-std</th>\n",
       "      <th>train-Logloss-mean</th>\n",
       "      <th>train-Logloss-std</th>\n",
       "    </tr>\n",
       "  </thead>\n",
       "  <tbody>\n",
       "    <tr>\n",
       "      <th>132</th>\n",
       "      <td>132</td>\n",
       "      <td>0.240406</td>\n",
       "      <td>0.003219</td>\n",
       "      <td>0.212888</td>\n",
       "      <td>0.004503</td>\n",
       "    </tr>\n",
       "  </tbody>\n",
       "</table>\n",
       "</div>"
      ]
     },
     "metadata": {},
     "execution_count": 65
    }
   ],
   "metadata": {}
  }
 ],
 "metadata": {
  "interpreter": {
   "hash": "5eb2e0c23f8e38f19a3cfe8ad2d7bbb895a86b1e106b247f2b169180d03d2047"
  },
  "kernelspec": {
   "name": "python3",
   "display_name": "Python 3.8.11 64-bit ('base': conda)"
  },
  "language_info": {
   "name": "python",
   "version": "3.8.11",
   "mimetype": "text/x-python",
   "codemirror_mode": {
    "name": "ipython",
    "version": 3
   },
   "pygments_lexer": "ipython3",
   "nbconvert_exporter": "python",
   "file_extension": ".py"
  },
  "orig_nbformat": 2
 },
 "nbformat": 4,
 "nbformat_minor": 2
}