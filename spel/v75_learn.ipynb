{
 "cells": [
  {
   "cell_type": "markdown",
   "source": [
    "# Learn v75 med walkthrough-metoden"
   ],
   "metadata": {}
  },
  {
   "cell_type": "code",
   "execution_count": 151,
   "source": [
    "import pandas as pd \r\n",
    "import numpy as np \r\n",
    "from catboost import CatBoostClassifier,Pool,cv,utils\r\n",
    "\r\n",
    "import sys\r\n",
    "sys.path.append('C:\\\\Users\\peter\\\\Documents\\\\MyProjects\\\\PyProj\\\\Trav\\\\spel')\r\n",
    "import V75_scraping as vs"
   ],
   "outputs": [],
   "metadata": {}
  },
  {
   "cell_type": "code",
   "execution_count": 152,
   "source": [
    "# df skall innehålla datum,avd,vodds\r\n",
    "def proba_order_score(df_, y,proba):\r\n",
    "    kassa=1000\r\n",
    "    df = df_.copy()\r\n",
    "    df['proba'] = proba[:,1]\r\n",
    "    df['f'] = (df.proba*df.vodds - 1) / (df.vodds-1)  # kelly formel\r\n",
    "    df['spela'] = df.f >0\r\n",
    "    df['insats'] = df.spela * df.f * kassa\r\n",
    "\r\n",
    "    df.sort_values(['datum','avd','proba'],ascending=[True,True,False],inplace=True)\r\n",
    "    proba_order=df.groupby(['datum','avd']).proba.cumcount()\r\n",
    "\r\n",
    "    df['prob_order']=proba_order+1\r\n",
    "    df['y'] = y\r\n",
    "    \r\n",
    "    return df, df.loc[df.y==1].prob_order.mean()   # mean prob_order för vinnarhäst"
   ],
   "outputs": [],
   "metadata": {}
  },
  {
   "cell_type": "code",
   "execution_count": 153,
   "source": [
    "def create_ekipage(df_):\r\n",
    "    df=df_.copy()\r\n",
    "    prefs = ['','h1_','h2_','h3_','h4_','h5_',]\r\n",
    "    for pr in prefs:\r\n",
    "        df[pr+'ekipage'] = df[pr+'kusk'].str.cat(df['häst'], sep =\", \")\r\n",
    "        df.drop([pr+'kusk'],axis=1, inplace=True)\r\n",
    "        \r\n",
    "    return df.drop(['häst'], axis=1)"
   ],
   "outputs": [],
   "metadata": {}
  },
  {
   "cell_type": "code",
   "execution_count": 154,
   "source": [
    "### returnera en modell med parametrar satta\r\n",
    "def get_model(d=6,l2=2,iterations=3000,use_best=True,verbose=False):\r\n",
    "    model = CatBoostClassifier(iterations=iterations,use_best_model=use_best, \r\n",
    "        custom_metric=['Logloss', 'AUC','Recall', 'Precision', 'F1', 'Accuracy'],\r\n",
    "\r\n",
    "        eval_metric='Accuracy', \r\n",
    "        depth=d,l2_leaf_reg=l2,\r\n",
    "        auto_class_weights='Balanced',verbose=verbose, random_state=2021) \r\n",
    "    return model                "
   ],
   "outputs": [],
   "metadata": {}
  },
  {
   "cell_type": "code",
   "execution_count": 293,
   "source": [
    "### Features som inte används vid träning\r\n",
    "def remove_features(df_,remove_mer=[]):\r\n",
    "    # df = df_.copy()\r\n",
    "    #remove_mer=['h5_perf','h5_auto','h4_perf','h4_auto', 'h3_perf', 'h2_perf']\r\n",
    "    df = df_.drop(['avd','startnr','vodds','podds','bins','h1_dat','h2_dat','h3_dat','h4_dat','h5_dat'],axis=1) #\r\n",
    "    if remove_mer:\r\n",
    "        df = df.drop(remove_mer,axis=1)\r\n",
    "    \r\n",
    "    # df=check_unique(df.copy())\r\n",
    "    # df=check_corr(df.copy())\r\n",
    "    return df"
   ],
   "outputs": [],
   "metadata": {}
  },
  {
   "cell_type": "code",
   "execution_count": 156,
   "source": [
    " ## byt ut alla NaN till text för cat_features\r\n",
    "def replace_NaN(X_train,X_test=None, cat_features=[]):\r\n",
    "    # print('cat_features',cat_features)\r\n",
    "    for c in cat_features:\r\n",
    "        # print(c)\r\n",
    "        X_train.loc[X_train[c].isna(),c] = 'None'       ### byt ut None-värden till texten 'None\r\n",
    "        if X_test is not None:  ## om X_test är med\r\n",
    "            X_test.loc [X_test[c].isna(),c] = 'None'    ### byt ut None-värden till texten 'None\r\n",
    "\r\n",
    "    return X_train,X_test"
   ],
   "outputs": [],
   "metadata": {}
  },
  {
   "cell_type": "code",
   "execution_count": 157,
   "source": [
    "def scrape_nya_lopp():\r\n",
    "    nya_lopp,strukna = vs.v75_scraping(resultat=True,history=True)\r\n",
    "\r\n",
    "    df=pd.concat([pd.read_csv('all_data.csv'), nya_lopp])\r\n",
    "    print('shape med nya lopp',df.shape)\r\n",
    "    #ta bort dubletter\r\n",
    "    df.drop_duplicates(['datum','avd','häst'],inplace=True)\r\n",
    "    df.sort_values(by=['datum','avd'],inplace=True)\r\n",
    "    df.reset_index(drop=True,inplace=True)\r\n",
    "    print('shape med dubletter bort',df.shape)\r\n",
    "\r\n",
    "    df.to_csv('all_data.csv', index=False)\r\n",
    "\r\n",
    "    print(\"första datum i df =\",df.datum.head(1).to_list()[0])\r\n",
    "    print(\"sista  datum i df =\",df.datum.tail(1).to_list()[0])\r\n",
    "\r\n",
    "    return df,nya_lopp"
   ],
   "outputs": [],
   "metadata": {}
  },
  {
   "cell_type": "code",
   "execution_count": 158,
   "source": [
    "### beräkna vilka datum att använda ###\r\n",
    "def get_alla_datum(test_from_proc=0.75, train_from_proc=0, total_omlärning = False):\r\n",
    "    if total_omlärning:\r\n",
    "        nya_lopp=None\r\n",
    "        df = pd.read_csv('all_data.csv')     \r\n",
    "        alla_datum = df.datum.unique()\r\n",
    "        split_ix = int(len(alla_datum)*test_from_proc)\r\n",
    "    else:\r\n",
    "        # normalt adderar vi bara 1 eller flera veckor från \"omg_att_spela_link.csv\"\r\n",
    "        df, nya_lopp = scrape_nya_lopp()  # scrape från 'omg_att_spela_link.csv' och addera till df\r\n",
    "        omg_df = pd.read_csv('omg_att_spela_link.csv')     \r\n",
    "        startix=omg_df.Link.str.find('spel')[0]    # index till 'spel' i url\r\n",
    "        alla_datum = omg_df.Link.str.slice(start=startix+5,stop=startix+15).to_list() # en datum \r\n",
    "        split_ix=0\r\n",
    "        print(f'datum att lära från {alla_datum}')\r\n",
    "\r\n",
    "    return df,nya_lopp,alla_datum,split_ix\r\n"
   ],
   "outputs": [],
   "metadata": {}
  },
  {
   "cell_type": "markdown",
   "source": [
    "## Walkthrough-funktionen  här"
   ],
   "metadata": {}
  },
  {
   "cell_type": "code",
   "execution_count": 159,
   "source": [
    "\r\n",
    "### Kör en walkthrough learn här, en datum i taget framåt\r\n",
    "\r\n",
    "# Jag har ändrat till att alla steg kör utan test-datam ed fast iterations=100\r\n",
    "def walkthrough(classic_test=False, verbose=False):\r\n",
    "    \r\n",
    "    df, nya_lopp, alla_datum, split_ix = get_alla_datum()\r\n",
    "\r\n",
    "    l2_leaf_regs=2\r\n",
    "    model=get_model(use_best=False,iterations=100)\r\n",
    "    df=remove_features(df.copy())\r\n",
    "    cat_features = list(df.loc[:,df.dtypes=='O'].columns)\r\n",
    "    df,_ = replace_NaN(df.copy(), cat_features=cat_features)    \r\n",
    "    print(f'cat_features {cat_features}\\n')\r\n",
    "\r\n",
    "    df['plac']=(df.plac==1)*1\r\n",
    "        \r\n",
    "    for nr,datum in enumerate(alla_datum[split_ix:]):\r\n",
    "        print(f'walk-iter {nr+1} av {len(alla_datum[split_ix:])} ',end=': ')\r\n",
    "\r\n",
    "        X_train = df.loc[df.datum<datum,:].copy()\r\n",
    "        y_train = X_train.plac; X_train.drop(['plac'],axis=1,inplace=True)\r\n",
    "\r\n",
    "        if classic_test:    ### klassisk train/test utan walkthrough\r\n",
    "            X_test  = df.loc[df.datum>=datum,:].copy()\r\n",
    "            y_test  = X_test.plac;  X_test.drop(['plac'],axis=1,inplace=True)\r\n",
    "            train_pool = Pool(X_train,y_train,cat_features=cat_features)\r\n",
    "            test_pool = Pool(X_test,y_test,cat_features=cat_features)\r\n",
    "            model.fit(train_pool,use_best_model=True, verbose=verbose,eval_set=test_pool)\r\n",
    "        else:\r\n",
    "            X_test  = df.loc[df.datum==datum,:].copy()\r\n",
    "            y_test  = X_test.plac;  X_test.drop(['plac'],axis=1,inplace=True)\r\n",
    "            train_pool = Pool(X_train,y_train,cat_features=cat_features)\r\n",
    "            test_pool = Pool(X_test,y_test,cat_features=cat_features)\r\n",
    "            model.fit(train_pool,use_best_model=False, verbose=verbose)\r\n",
    "\r\n",
    "        print('best iteration',model.get_best_iteration(), '\\tbest score', round(model.get_best_score()['learn']['Accuracy'],3) )\r\n",
    "        ##['validation']['Logloss'],3),'\\t', round(model.get_best_score()['validation']['Accuracy:use_weights=true'],3))\r\n",
    "        \r\n",
    "        if classic_test:    ### klassisk train/test utan walkthrough\r\n",
    "            return model,cat_features\r\n",
    "    \r\n",
    "        model.save_model('modeller/model_'+datum)\r\n",
    "\r\n",
    "    X_train =df.copy().drop('plac',axis=1)\r\n",
    "    y_train = df.plac \r\n",
    "    model.fit(X_train,y=y_train,cat_features=cat_features)\r\n",
    "    print(f'spara model_senaste',datum)\r\n",
    "    model.save_model('modeller/model_senaste')\r\n",
    "\r\n",
    "    return df,nya_lopp, model,cat_features"
   ],
   "outputs": [],
   "metadata": {}
  },
  {
   "cell_type": "markdown",
   "source": [
    "### Här körs hela walkthrough"
   ],
   "metadata": {}
  },
  {
   "cell_type": "code",
   "execution_count": 160,
   "source": [
    "df, nya_lopp, model, cat_features = walkthrough(classic_test=False, verbose=False)"
   ],
   "outputs": [
    {
     "output_type": "stream",
     "name": "stdout",
     "text": [
      "omgång 1: https://www.atg.se/spel/2021-09-25/V75/\n",
      "klickade på ANPASSA\n",
      "anpassa klar - break\n",
      "ant resultat 7\n",
      "ant lopp 7\n"
     ]
    },
    {
     "output_type": "stream",
     "name": "stderr",
     "text": [
      "2021-09-26 01:40:56.428 WARNING root: 2021-09-25 avd: <selenium.webdriver.remote.webelement.WebElement (session=\"aebbe3c8fc4b277f75b42179c85af781\", element=\"421d24b7-23c0-4864-9ac6-06a2b7613330\")>\n"
     ]
    },
    {
     "output_type": "stream",
     "name": "stdout",
     "text": [
      "Ant priser 7\n",
      "ant names,vodds,podds,rader,streck 12 12 12 12\n"
     ]
    },
    {
     "output_type": "stream",
     "name": "stderr",
     "text": [
      "2021-09-26 01:40:56.821 WARNING root: 0\n"
     ]
    },
    {
     "output_type": "stream",
     "name": "stdout",
     "text": [
      "AVD 1 SOLVALLA 2140 AUTOSTART "
     ]
    },
    {
     "output_type": "stream",
     "name": "stderr",
     "text": [
      "2021-09-26 01:40:57.511 WARNING root: 1\n"
     ]
    },
    {
     "output_type": "stream",
     "name": "stdout",
     "text": [
      "."
     ]
    },
    {
     "output_type": "stream",
     "name": "stderr",
     "text": [
      "2021-09-26 01:40:58.209 WARNING root: 2\n"
     ]
    },
    {
     "output_type": "stream",
     "name": "stdout",
     "text": [
      "."
     ]
    },
    {
     "output_type": "stream",
     "name": "stderr",
     "text": [
      "2021-09-26 01:40:58.993 WARNING root: 3\n"
     ]
    },
    {
     "output_type": "stream",
     "name": "stdout",
     "text": [
      "."
     ]
    },
    {
     "output_type": "stream",
     "name": "stderr",
     "text": [
      "2021-09-26 01:40:59.758 WARNING root: 4\n"
     ]
    },
    {
     "output_type": "stream",
     "name": "stdout",
     "text": [
      "."
     ]
    },
    {
     "output_type": "stream",
     "name": "stderr",
     "text": [
      "2021-09-26 01:41:00.518 WARNING root: 5\n"
     ]
    },
    {
     "output_type": "stream",
     "name": "stdout",
     "text": [
      "."
     ]
    },
    {
     "output_type": "stream",
     "name": "stderr",
     "text": [
      "2021-09-26 01:41:01.314 WARNING root: 6\n"
     ]
    },
    {
     "output_type": "stream",
     "name": "stdout",
     "text": [
      "."
     ]
    },
    {
     "output_type": "stream",
     "name": "stderr",
     "text": [
      "2021-09-26 01:41:02.176 WARNING root: 7\n"
     ]
    },
    {
     "output_type": "stream",
     "name": "stdout",
     "text": [
      "."
     ]
    },
    {
     "output_type": "stream",
     "name": "stderr",
     "text": [
      "2021-09-26 01:41:02.987 WARNING root: 8\n"
     ]
    },
    {
     "output_type": "stream",
     "name": "stdout",
     "text": [
      "."
     ]
    },
    {
     "output_type": "stream",
     "name": "stderr",
     "text": [
      "2021-09-26 01:41:03.794 WARNING root: 9\n"
     ]
    },
    {
     "output_type": "stream",
     "name": "stdout",
     "text": [
      "."
     ]
    },
    {
     "output_type": "stream",
     "name": "stderr",
     "text": [
      "2021-09-26 01:41:04.633 WARNING root: 10\n"
     ]
    },
    {
     "output_type": "stream",
     "name": "stdout",
     "text": [
      "."
     ]
    },
    {
     "output_type": "stream",
     "name": "stderr",
     "text": [
      "2021-09-26 01:41:05.478 WARNING root: 11\n"
     ]
    },
    {
     "output_type": "stream",
     "name": "stdout",
     "text": [
      "."
     ]
    },
    {
     "output_type": "stream",
     "name": "stderr",
     "text": [
      "2021-09-26 01:41:06.352 WARNING root: 2021-09-25 avd: <selenium.webdriver.remote.webelement.WebElement (session=\"aebbe3c8fc4b277f75b42179c85af781\", element=\"492152ab-82bd-4b66-ba6c-82affe9090bc\")>\n"
     ]
    },
    {
     "output_type": "stream",
     "name": "stdout",
     "text": [
      ".\n",
      "ant names,vodds,podds,rader,streck 12 12 12 12\n"
     ]
    },
    {
     "output_type": "stream",
     "name": "stderr",
     "text": [
      "2021-09-26 01:41:06.788 WARNING root: 0\n"
     ]
    },
    {
     "output_type": "stream",
     "name": "stdout",
     "text": [
      "AVD 2 SOLVALLA 2140 AUTOSTART "
     ]
    },
    {
     "output_type": "stream",
     "name": "stderr",
     "text": [
      "2021-09-26 01:41:07.657 WARNING root: 1\n"
     ]
    },
    {
     "output_type": "stream",
     "name": "stdout",
     "text": [
      "."
     ]
    },
    {
     "output_type": "stream",
     "name": "stderr",
     "text": [
      "2021-09-26 01:41:08.543 WARNING root: 2\n"
     ]
    },
    {
     "output_type": "stream",
     "name": "stdout",
     "text": [
      "."
     ]
    },
    {
     "output_type": "stream",
     "name": "stderr",
     "text": [
      "2021-09-26 01:41:09.450 WARNING root: 3\n"
     ]
    },
    {
     "output_type": "stream",
     "name": "stdout",
     "text": [
      "."
     ]
    },
    {
     "output_type": "stream",
     "name": "stderr",
     "text": [
      "2021-09-26 01:41:10.373 WARNING root: 4\n"
     ]
    },
    {
     "output_type": "stream",
     "name": "stdout",
     "text": [
      "."
     ]
    },
    {
     "output_type": "stream",
     "name": "stderr",
     "text": [
      "2021-09-26 01:41:11.317 WARNING root: 5\n"
     ]
    },
    {
     "output_type": "stream",
     "name": "stdout",
     "text": [
      "."
     ]
    },
    {
     "output_type": "stream",
     "name": "stderr",
     "text": [
      "2021-09-26 01:41:12.249 WARNING root: 6\n"
     ]
    },
    {
     "output_type": "stream",
     "name": "stdout",
     "text": [
      "."
     ]
    },
    {
     "output_type": "stream",
     "name": "stderr",
     "text": [
      "2021-09-26 01:41:13.215 WARNING root: 7\n"
     ]
    },
    {
     "output_type": "stream",
     "name": "stdout",
     "text": [
      "."
     ]
    },
    {
     "output_type": "stream",
     "name": "stderr",
     "text": [
      "2021-09-26 01:41:14.189 WARNING root: 8\n"
     ]
    },
    {
     "output_type": "stream",
     "name": "stdout",
     "text": [
      "."
     ]
    },
    {
     "output_type": "stream",
     "name": "stderr",
     "text": [
      "2021-09-26 01:41:15.175 WARNING root: 9\n"
     ]
    },
    {
     "output_type": "stream",
     "name": "stdout",
     "text": [
      "."
     ]
    },
    {
     "output_type": "stream",
     "name": "stderr",
     "text": [
      "2021-09-26 01:41:16.184 WARNING root: 10\n"
     ]
    },
    {
     "output_type": "stream",
     "name": "stdout",
     "text": [
      "."
     ]
    },
    {
     "output_type": "stream",
     "name": "stderr",
     "text": [
      "2021-09-26 01:41:17.197 WARNING root: 11\n"
     ]
    },
    {
     "output_type": "stream",
     "name": "stdout",
     "text": [
      "."
     ]
    },
    {
     "output_type": "stream",
     "name": "stderr",
     "text": [
      "2021-09-26 01:41:18.221 WARNING root: 2021-09-25 avd: <selenium.webdriver.remote.webelement.WebElement (session=\"aebbe3c8fc4b277f75b42179c85af781\", element=\"0d784288-ee70-40a4-8560-4fc2a1a477ff\")>\n"
     ]
    },
    {
     "output_type": "stream",
     "name": "stdout",
     "text": [
      ".\n",
      "ant names,vodds,podds,rader,streck 15 15 15 15\n"
     ]
    },
    {
     "output_type": "stream",
     "name": "stderr",
     "text": [
      "2021-09-26 01:41:18.759 WARNING root: 0\n"
     ]
    },
    {
     "output_type": "stream",
     "name": "stdout",
     "text": [
      "AVD 3 SOLVALLA 2140 VOLTSTART "
     ]
    },
    {
     "output_type": "stream",
     "name": "stderr",
     "text": [
      "2021-09-26 01:41:19.807 WARNING root: 1\n"
     ]
    },
    {
     "output_type": "stream",
     "name": "stdout",
     "text": [
      "."
     ]
    },
    {
     "output_type": "stream",
     "name": "stderr",
     "text": [
      "2021-09-26 01:41:20.862 WARNING root: 2\n"
     ]
    },
    {
     "output_type": "stream",
     "name": "stdout",
     "text": [
      "."
     ]
    },
    {
     "output_type": "stream",
     "name": "stderr",
     "text": [
      "2021-09-26 01:41:21.943 WARNING root: 3\n"
     ]
    },
    {
     "output_type": "stream",
     "name": "stdout",
     "text": [
      "."
     ]
    },
    {
     "output_type": "stream",
     "name": "stderr",
     "text": [
      "2021-09-26 01:41:23.027 WARNING root: 4\n"
     ]
    },
    {
     "output_type": "stream",
     "name": "stdout",
     "text": [
      "."
     ]
    },
    {
     "output_type": "stream",
     "name": "stderr",
     "text": [
      "2021-09-26 01:41:24.116 WARNING root: 5\n"
     ]
    },
    {
     "output_type": "stream",
     "name": "stdout",
     "text": [
      "."
     ]
    },
    {
     "output_type": "stream",
     "name": "stderr",
     "text": [
      "2021-09-26 01:41:25.226 WARNING root: 6\n"
     ]
    },
    {
     "output_type": "stream",
     "name": "stdout",
     "text": [
      "."
     ]
    },
    {
     "output_type": "stream",
     "name": "stderr",
     "text": [
      "2021-09-26 01:41:26.405 WARNING root: 7\n"
     ]
    },
    {
     "output_type": "stream",
     "name": "stdout",
     "text": [
      "."
     ]
    },
    {
     "output_type": "stream",
     "name": "stderr",
     "text": [
      "2021-09-26 01:41:27.596 WARNING root: 8\n"
     ]
    },
    {
     "output_type": "stream",
     "name": "stdout",
     "text": [
      "."
     ]
    },
    {
     "output_type": "stream",
     "name": "stderr",
     "text": [
      "2021-09-26 01:41:28.705 WARNING root: 9\n"
     ]
    },
    {
     "output_type": "stream",
     "name": "stdout",
     "text": [
      "."
     ]
    },
    {
     "output_type": "stream",
     "name": "stderr",
     "text": [
      "2021-09-26 01:41:29.883 WARNING root: 10\n"
     ]
    },
    {
     "output_type": "stream",
     "name": "stdout",
     "text": [
      "."
     ]
    },
    {
     "output_type": "stream",
     "name": "stderr",
     "text": [
      "2021-09-26 01:41:31.054 WARNING root: 11\n"
     ]
    },
    {
     "output_type": "stream",
     "name": "stdout",
     "text": [
      "."
     ]
    },
    {
     "output_type": "stream",
     "name": "stderr",
     "text": [
      "2021-09-26 01:41:32.176 WARNING root: 12\n"
     ]
    },
    {
     "output_type": "stream",
     "name": "stdout",
     "text": [
      "."
     ]
    },
    {
     "output_type": "stream",
     "name": "stderr",
     "text": [
      "2021-09-26 01:41:33.321 WARNING root: 13\n"
     ]
    },
    {
     "output_type": "stream",
     "name": "stdout",
     "text": [
      "."
     ]
    },
    {
     "output_type": "stream",
     "name": "stderr",
     "text": [
      "2021-09-26 01:41:34.506 WARNING root: 14\n"
     ]
    },
    {
     "output_type": "stream",
     "name": "stdout",
     "text": [
      "."
     ]
    },
    {
     "output_type": "stream",
     "name": "stderr",
     "text": [
      "2021-09-26 01:41:35.703 WARNING root: 2021-09-25 avd: <selenium.webdriver.remote.webelement.WebElement (session=\"aebbe3c8fc4b277f75b42179c85af781\", element=\"73bd57d9-066a-4676-b068-934e79570c38\")>\n"
     ]
    },
    {
     "output_type": "stream",
     "name": "stdout",
     "text": [
      ".\n",
      "ant names,vodds,podds,rader,streck 12 12 12 12\n"
     ]
    },
    {
     "output_type": "stream",
     "name": "stderr",
     "text": [
      "2021-09-26 01:41:36.181 WARNING root: 0\n"
     ]
    },
    {
     "output_type": "stream",
     "name": "stdout",
     "text": [
      "AVD 4 SOLVALLA 2140 AUTOSTART "
     ]
    },
    {
     "output_type": "stream",
     "name": "stderr",
     "text": [
      "2021-09-26 01:41:37.379 WARNING root: 1\n"
     ]
    },
    {
     "output_type": "stream",
     "name": "stdout",
     "text": [
      "."
     ]
    },
    {
     "output_type": "stream",
     "name": "stderr",
     "text": [
      "2021-09-26 01:41:38.563 WARNING root: 2\n"
     ]
    },
    {
     "output_type": "stream",
     "name": "stdout",
     "text": [
      "."
     ]
    },
    {
     "output_type": "stream",
     "name": "stderr",
     "text": [
      "2021-09-26 01:41:39.805 WARNING root: 3\n"
     ]
    },
    {
     "output_type": "stream",
     "name": "stdout",
     "text": [
      "."
     ]
    },
    {
     "output_type": "stream",
     "name": "stderr",
     "text": [
      "2021-09-26 01:41:41.078 WARNING root: 4\n"
     ]
    },
    {
     "output_type": "stream",
     "name": "stdout",
     "text": [
      "."
     ]
    },
    {
     "output_type": "stream",
     "name": "stderr",
     "text": [
      "2021-09-26 01:41:42.361 WARNING root: 5\n"
     ]
    },
    {
     "output_type": "stream",
     "name": "stdout",
     "text": [
      "."
     ]
    },
    {
     "output_type": "stream",
     "name": "stderr",
     "text": [
      "2021-09-26 01:41:43.658 WARNING root: 6\n"
     ]
    },
    {
     "output_type": "stream",
     "name": "stdout",
     "text": [
      "."
     ]
    },
    {
     "output_type": "stream",
     "name": "stderr",
     "text": [
      "2021-09-26 01:41:45.154 WARNING root: 7\n"
     ]
    },
    {
     "output_type": "stream",
     "name": "stdout",
     "text": [
      "."
     ]
    },
    {
     "output_type": "stream",
     "name": "stderr",
     "text": [
      "2021-09-26 01:41:46.434 WARNING root: 8\n"
     ]
    },
    {
     "output_type": "stream",
     "name": "stdout",
     "text": [
      "."
     ]
    },
    {
     "output_type": "stream",
     "name": "stderr",
     "text": [
      "2021-09-26 01:41:47.685 WARNING root: 9\n"
     ]
    },
    {
     "output_type": "stream",
     "name": "stdout",
     "text": [
      "."
     ]
    },
    {
     "output_type": "stream",
     "name": "stderr",
     "text": [
      "2021-09-26 01:41:48.947 WARNING root: 10\n"
     ]
    },
    {
     "output_type": "stream",
     "name": "stdout",
     "text": [
      "."
     ]
    },
    {
     "output_type": "stream",
     "name": "stderr",
     "text": [
      "2021-09-26 01:41:50.237 WARNING root: 11\n"
     ]
    },
    {
     "output_type": "stream",
     "name": "stdout",
     "text": [
      "."
     ]
    },
    {
     "output_type": "stream",
     "name": "stderr",
     "text": [
      "2021-09-26 01:41:51.551 WARNING root: 2021-09-25 avd: <selenium.webdriver.remote.webelement.WebElement (session=\"aebbe3c8fc4b277f75b42179c85af781\", element=\"ecdbee7c-3a85-4cb8-99d4-60392484c98f\")>\n"
     ]
    },
    {
     "output_type": "stream",
     "name": "stdout",
     "text": [
      ".\n",
      "ant names,vodds,podds,rader,streck 12 12 12 12\n"
     ]
    },
    {
     "output_type": "stream",
     "name": "stderr",
     "text": [
      "2021-09-26 01:41:52.021 WARNING root: 0\n"
     ]
    },
    {
     "output_type": "stream",
     "name": "stdout",
     "text": [
      "AVD 5 SOLVALLA 2140 AUTOSTART "
     ]
    },
    {
     "output_type": "stream",
     "name": "stderr",
     "text": [
      "2021-09-26 01:41:53.374 WARNING root: 1\n"
     ]
    },
    {
     "output_type": "stream",
     "name": "stdout",
     "text": [
      "."
     ]
    },
    {
     "output_type": "stream",
     "name": "stderr",
     "text": [
      "2021-09-26 01:41:54.715 WARNING root: 2\n"
     ]
    },
    {
     "output_type": "stream",
     "name": "stdout",
     "text": [
      "."
     ]
    },
    {
     "output_type": "stream",
     "name": "stderr",
     "text": [
      "2021-09-26 01:41:56.065 WARNING root: 3\n"
     ]
    },
    {
     "output_type": "stream",
     "name": "stdout",
     "text": [
      "."
     ]
    },
    {
     "output_type": "stream",
     "name": "stderr",
     "text": [
      "2021-09-26 01:41:57.438 WARNING root: 4\n"
     ]
    },
    {
     "output_type": "stream",
     "name": "stdout",
     "text": [
      "."
     ]
    },
    {
     "output_type": "stream",
     "name": "stderr",
     "text": [
      "2021-09-26 01:41:59.049 WARNING root: 5\n"
     ]
    },
    {
     "output_type": "stream",
     "name": "stdout",
     "text": [
      "."
     ]
    },
    {
     "output_type": "stream",
     "name": "stderr",
     "text": [
      "2021-09-26 01:42:00.594 WARNING root: 6\n"
     ]
    },
    {
     "output_type": "stream",
     "name": "stdout",
     "text": [
      "."
     ]
    },
    {
     "output_type": "stream",
     "name": "stderr",
     "text": [
      "2021-09-26 01:42:02.254 WARNING root: 7\n"
     ]
    },
    {
     "output_type": "stream",
     "name": "stdout",
     "text": [
      "."
     ]
    },
    {
     "output_type": "stream",
     "name": "stderr",
     "text": [
      "2021-09-26 01:42:03.592 WARNING root: 8\n"
     ]
    },
    {
     "output_type": "stream",
     "name": "stdout",
     "text": [
      "."
     ]
    },
    {
     "output_type": "stream",
     "name": "stderr",
     "text": [
      "2021-09-26 01:42:04.738 WARNING root: 9\n"
     ]
    },
    {
     "output_type": "stream",
     "name": "stdout",
     "text": [
      "."
     ]
    },
    {
     "output_type": "stream",
     "name": "stderr",
     "text": [
      "2021-09-26 01:42:05.928 WARNING root: 10\n"
     ]
    },
    {
     "output_type": "stream",
     "name": "stdout",
     "text": [
      "."
     ]
    },
    {
     "output_type": "stream",
     "name": "stderr",
     "text": [
      "2021-09-26 01:42:07.157 WARNING root: 11\n"
     ]
    },
    {
     "output_type": "stream",
     "name": "stdout",
     "text": [
      "."
     ]
    },
    {
     "output_type": "stream",
     "name": "stderr",
     "text": [
      "2021-09-26 01:42:08.338 WARNING root: 2021-09-25 avd: <selenium.webdriver.remote.webelement.WebElement (session=\"aebbe3c8fc4b277f75b42179c85af781\", element=\"7e492c2c-34bf-442e-9ef0-eb88ddfb5853\")>\n"
     ]
    },
    {
     "output_type": "stream",
     "name": "stdout",
     "text": [
      ".\n",
      "ant names,vodds,podds,rader,streck 12 12 12 12\n"
     ]
    },
    {
     "output_type": "stream",
     "name": "stderr",
     "text": [
      "2021-09-26 01:42:08.830 WARNING root: 0\n"
     ]
    },
    {
     "output_type": "stream",
     "name": "stdout",
     "text": [
      "AVD 6 SOLVALLA 2640 AUTOSTART "
     ]
    },
    {
     "output_type": "stream",
     "name": "stderr",
     "text": [
      "2021-09-26 01:42:10.043 WARNING root: 1\n"
     ]
    },
    {
     "output_type": "stream",
     "name": "stdout",
     "text": [
      "."
     ]
    },
    {
     "output_type": "stream",
     "name": "stderr",
     "text": [
      "2021-09-26 01:42:11.328 WARNING root: 2\n"
     ]
    },
    {
     "output_type": "stream",
     "name": "stdout",
     "text": [
      "."
     ]
    },
    {
     "output_type": "stream",
     "name": "stderr",
     "text": [
      "2021-09-26 01:42:12.590 WARNING root: 3\n"
     ]
    },
    {
     "output_type": "stream",
     "name": "stdout",
     "text": [
      "."
     ]
    },
    {
     "output_type": "stream",
     "name": "stderr",
     "text": [
      "2021-09-26 01:42:13.872 WARNING root: 4\n"
     ]
    },
    {
     "output_type": "stream",
     "name": "stdout",
     "text": [
      "."
     ]
    },
    {
     "output_type": "stream",
     "name": "stderr",
     "text": [
      "2021-09-26 01:42:15.201 WARNING root: 5\n"
     ]
    },
    {
     "output_type": "stream",
     "name": "stdout",
     "text": [
      "."
     ]
    },
    {
     "output_type": "stream",
     "name": "stderr",
     "text": [
      "2021-09-26 01:42:16.557 WARNING root: 6\n"
     ]
    },
    {
     "output_type": "stream",
     "name": "stdout",
     "text": [
      "."
     ]
    },
    {
     "output_type": "stream",
     "name": "stderr",
     "text": [
      "2021-09-26 01:42:17.938 WARNING root: 7\n"
     ]
    },
    {
     "output_type": "stream",
     "name": "stdout",
     "text": [
      "."
     ]
    },
    {
     "output_type": "stream",
     "name": "stderr",
     "text": [
      "2021-09-26 01:42:19.238 WARNING root: 8\n"
     ]
    },
    {
     "output_type": "stream",
     "name": "stdout",
     "text": [
      "."
     ]
    },
    {
     "output_type": "stream",
     "name": "stderr",
     "text": [
      "2021-09-26 01:42:20.431 WARNING root: 9\n"
     ]
    },
    {
     "output_type": "stream",
     "name": "stdout",
     "text": [
      "."
     ]
    },
    {
     "output_type": "stream",
     "name": "stderr",
     "text": [
      "2021-09-26 01:42:21.597 WARNING root: 10\n"
     ]
    },
    {
     "output_type": "stream",
     "name": "stdout",
     "text": [
      "."
     ]
    },
    {
     "output_type": "stream",
     "name": "stderr",
     "text": [
      "2021-09-26 01:42:22.816 WARNING root: 11\n"
     ]
    },
    {
     "output_type": "stream",
     "name": "stdout",
     "text": [
      "."
     ]
    },
    {
     "output_type": "stream",
     "name": "stderr",
     "text": [
      "2021-09-26 01:42:23.982 WARNING root: 2021-09-25 avd: <selenium.webdriver.remote.webelement.WebElement (session=\"aebbe3c8fc4b277f75b42179c85af781\", element=\"cf62dfa6-6d4a-4b28-9fef-b90abb5af207\")>\n"
     ]
    },
    {
     "output_type": "stream",
     "name": "stdout",
     "text": [
      ".\n",
      "ant names,vodds,podds,rader,streck 12 12 12 12\n"
     ]
    },
    {
     "output_type": "stream",
     "name": "stderr",
     "text": [
      "2021-09-26 01:42:24.494 WARNING root: 0\n"
     ]
    },
    {
     "output_type": "stream",
     "name": "stdout",
     "text": [
      "AVD 7 SOLVALLA 2140 AUTOSTART "
     ]
    },
    {
     "output_type": "stream",
     "name": "stderr",
     "text": [
      "2021-09-26 01:42:25.694 WARNING root: 1\n"
     ]
    },
    {
     "output_type": "stream",
     "name": "stdout",
     "text": [
      "."
     ]
    },
    {
     "output_type": "stream",
     "name": "stderr",
     "text": [
      "2021-09-26 01:42:26.917 WARNING root: 2\n"
     ]
    },
    {
     "output_type": "stream",
     "name": "stdout",
     "text": [
      "."
     ]
    },
    {
     "output_type": "stream",
     "name": "stderr",
     "text": [
      "2021-09-26 01:42:28.232 WARNING root: 3\n"
     ]
    },
    {
     "output_type": "stream",
     "name": "stdout",
     "text": [
      "."
     ]
    },
    {
     "output_type": "stream",
     "name": "stderr",
     "text": [
      "2021-09-26 01:42:29.502 WARNING root: 4\n"
     ]
    },
    {
     "output_type": "stream",
     "name": "stdout",
     "text": [
      "."
     ]
    },
    {
     "output_type": "stream",
     "name": "stderr",
     "text": [
      "2021-09-26 01:42:30.789 WARNING root: 5\n"
     ]
    },
    {
     "output_type": "stream",
     "name": "stdout",
     "text": [
      "."
     ]
    },
    {
     "output_type": "stream",
     "name": "stderr",
     "text": [
      "2021-09-26 01:42:32.087 WARNING root: 6\n"
     ]
    },
    {
     "output_type": "stream",
     "name": "stdout",
     "text": [
      "."
     ]
    },
    {
     "output_type": "stream",
     "name": "stderr",
     "text": [
      "2021-09-26 01:42:33.473 WARNING root: 7\n"
     ]
    },
    {
     "output_type": "stream",
     "name": "stdout",
     "text": [
      "."
     ]
    },
    {
     "output_type": "stream",
     "name": "stderr",
     "text": [
      "2021-09-26 01:42:34.808 WARNING root: 8\n"
     ]
    },
    {
     "output_type": "stream",
     "name": "stdout",
     "text": [
      "."
     ]
    },
    {
     "output_type": "stream",
     "name": "stderr",
     "text": [
      "2021-09-26 01:42:36.171 WARNING root: 9\n"
     ]
    },
    {
     "output_type": "stream",
     "name": "stdout",
     "text": [
      "."
     ]
    },
    {
     "output_type": "stream",
     "name": "stderr",
     "text": [
      "2021-09-26 01:42:37.373 WARNING root: 10\n"
     ]
    },
    {
     "output_type": "stream",
     "name": "stdout",
     "text": [
      "."
     ]
    },
    {
     "output_type": "stream",
     "name": "stderr",
     "text": [
      "2021-09-26 01:42:38.657 WARNING root: 11\n"
     ]
    },
    {
     "output_type": "stream",
     "name": "stdout",
     "text": [
      "..\n",
      "\n",
      "det tog 103.92 sekunder\n",
      "utdelning: 6502, 71, 0\n",
      "startar Fixa mer\n",
      "tog bort 3 strukna från 87 till 84\n",
      "rensade totalt bort 3 hästar i städa_och_rensa. Från 87 till 84\n",
      "shape med nya lopp (42006, 79)\n",
      "shape med dubletter bort (42006, 79)\n",
      "första datum i df = 2014-12-28\n",
      "sista  datum i df = 2021-09-25\n",
      "datum att lära från ['2021-09-25']\n",
      "cat_features ['datum', 'bana', 'häst', 'kusk', 'kön', 'h1_kusk', 'h1_bana', 'h2_kusk', 'h2_bana', 'h3_kusk', 'h3_bana', 'h4_kusk', 'h4_bana', 'h5_kusk', 'h5_bana']\n",
      "\n",
      "walk-iter 1 av 1 : best iteration None \tbest score 0.75\n",
      "spara model_senaste 2021-09-25\n"
     ]
    }
   ],
   "metadata": {}
  },
  {
   "cell_type": "markdown",
   "source": [
    "## Kör allt ovanför walkthrough\r\n",
    "### Se till att \"omg_att_spela_link.csv\" är ifylld"
   ],
   "metadata": {}
  },
  {
   "cell_type": "markdown",
   "source": [],
   "metadata": {}
  },
  {
   "cell_type": "markdown",
   "source": [
    "# Kör cross validation"
   ],
   "metadata": {}
  },
  {
   "cell_type": "markdown",
   "source": [
    "## init  - kör först allt t.o.m 'replace_NaN()' ovan"
   ],
   "metadata": {}
  },
  {
   "cell_type": "code",
   "execution_count": 161,
   "source": [
    "model = get_model().load_model('modeller/model_senaste')\r\n",
    "dforg = pd.read_csv('all_data.csv')     \r\n",
    "# print(df.columns)\r\n",
    "df=remove_features(dforg.copy())\r\n",
    "# df['avd']=dforg.avd\r\n",
    "cat_features = list(df.loc[:,df.dtypes=='O'].columns)\r\n",
    "df,_ = replace_NaN(df.copy(), cat_features=cat_features)    \r\n",
    "y=df.plac\r\n",
    "y=(y==1)*1\r\n",
    "df.drop('plac',axis=1,inplace=True)"
   ],
   "outputs": [],
   "metadata": {}
  },
  {
   "cell_type": "markdown",
   "source": [
    "## cv"
   ],
   "metadata": {}
  },
  {
   "cell_type": "code",
   "execution_count": 162,
   "source": [
    "\r\n",
    "cv_pool = Pool(df,y,cat_features=cat_features)\r\n",
    "\r\n",
    "params = {\r\n",
    "         'use_best_model': True,\r\n",
    "         'eval_metric' : 'AUC',\r\n",
    "         \"loss_function\": \"Logloss\",\r\n",
    "         'early_stopping_rounds': 100,\r\n",
    "         'verbose': 50,\r\n",
    "}\r\n",
    "\r\n",
    "cv_score =cv(pool=cv_pool, \r\n",
    "   params=params, \r\n",
    "   dtrain=None, \r\n",
    "   iterations=2000, \r\n",
    "   num_boost_round=None,\r\n",
    "   fold_count=5, \r\n",
    "   nfold=None,\r\n",
    "   inverted=False,\r\n",
    "   partition_random_seed=0,\r\n",
    "   seed=2021, \r\n",
    "   shuffle=False, \r\n",
    "   logging_level=None, \r\n",
    "   stratified=True,\r\n",
    "   as_pandas=True,\r\n",
    "   type='TimeSeries')"
   ],
   "outputs": [
    {
     "output_type": "stream",
     "name": "stdout",
     "text": [
      "0:\ttest: 0.6947994\tbest: 0.6947994 (0)\n",
      "50:\ttest: 0.8108456\tbest: 0.8109098 (49)\n",
      "100:\ttest: 0.8103996\tbest: 0.8117124 (77)\n",
      "150:\ttest: 0.8093055\tbest: 0.8117124 (77)\n",
      "Stopped by overfitting detector  (100 iterations wait)\n"
     ]
    }
   ],
   "metadata": {}
  },
  {
   "cell_type": "code",
   "execution_count": 163,
   "source": [
    "cv_score"
   ],
   "outputs": [
    {
     "output_type": "execute_result",
     "data": {
      "text/html": [
       "<div>\n",
       "<style scoped>\n",
       "    .dataframe tbody tr th:only-of-type {\n",
       "        vertical-align: middle;\n",
       "    }\n",
       "\n",
       "    .dataframe tbody tr th {\n",
       "        vertical-align: top;\n",
       "    }\n",
       "\n",
       "    .dataframe thead th {\n",
       "        text-align: right;\n",
       "    }\n",
       "</style>\n",
       "<table border=\"1\" class=\"dataframe\">\n",
       "  <thead>\n",
       "    <tr style=\"text-align: right;\">\n",
       "      <th></th>\n",
       "      <th>iterations</th>\n",
       "      <th>test-AUC-mean</th>\n",
       "      <th>test-AUC-std</th>\n",
       "      <th>test-Logloss-mean</th>\n",
       "      <th>test-Logloss-std</th>\n",
       "      <th>train-Logloss-mean</th>\n",
       "      <th>train-Logloss-std</th>\n",
       "    </tr>\n",
       "  </thead>\n",
       "  <tbody>\n",
       "    <tr>\n",
       "      <th>0</th>\n",
       "      <td>0</td>\n",
       "      <td>0.694799</td>\n",
       "      <td>0.033239</td>\n",
       "      <td>0.659354</td>\n",
       "      <td>0.001047</td>\n",
       "      <td>0.659252</td>\n",
       "      <td>0.000977</td>\n",
       "    </tr>\n",
       "    <tr>\n",
       "      <th>1</th>\n",
       "      <td>1</td>\n",
       "      <td>0.729287</td>\n",
       "      <td>0.027954</td>\n",
       "      <td>0.627871</td>\n",
       "      <td>0.001831</td>\n",
       "      <td>0.627321</td>\n",
       "      <td>0.001671</td>\n",
       "    </tr>\n",
       "    <tr>\n",
       "      <th>2</th>\n",
       "      <td>2</td>\n",
       "      <td>0.746355</td>\n",
       "      <td>0.018905</td>\n",
       "      <td>0.600755</td>\n",
       "      <td>0.002615</td>\n",
       "      <td>0.600123</td>\n",
       "      <td>0.002735</td>\n",
       "    </tr>\n",
       "    <tr>\n",
       "      <th>3</th>\n",
       "      <td>3</td>\n",
       "      <td>0.753973</td>\n",
       "      <td>0.026538</td>\n",
       "      <td>0.573570</td>\n",
       "      <td>0.004307</td>\n",
       "      <td>0.572738</td>\n",
       "      <td>0.004244</td>\n",
       "    </tr>\n",
       "    <tr>\n",
       "      <th>4</th>\n",
       "      <td>4</td>\n",
       "      <td>0.759390</td>\n",
       "      <td>0.025517</td>\n",
       "      <td>0.549386</td>\n",
       "      <td>0.004098</td>\n",
       "      <td>0.548401</td>\n",
       "      <td>0.004036</td>\n",
       "    </tr>\n",
       "    <tr>\n",
       "      <th>...</th>\n",
       "      <td>...</td>\n",
       "      <td>...</td>\n",
       "      <td>...</td>\n",
       "      <td>...</td>\n",
       "      <td>...</td>\n",
       "      <td>...</td>\n",
       "      <td>...</td>\n",
       "    </tr>\n",
       "    <tr>\n",
       "      <th>173</th>\n",
       "      <td>173</td>\n",
       "      <td>0.808774</td>\n",
       "      <td>0.005649</td>\n",
       "      <td>0.240215</td>\n",
       "      <td>0.001810</td>\n",
       "      <td>0.207509</td>\n",
       "      <td>0.006901</td>\n",
       "    </tr>\n",
       "    <tr>\n",
       "      <th>174</th>\n",
       "      <td>174</td>\n",
       "      <td>0.808782</td>\n",
       "      <td>0.005642</td>\n",
       "      <td>0.240209</td>\n",
       "      <td>0.001804</td>\n",
       "      <td>0.207431</td>\n",
       "      <td>0.006921</td>\n",
       "    </tr>\n",
       "    <tr>\n",
       "      <th>175</th>\n",
       "      <td>175</td>\n",
       "      <td>0.808759</td>\n",
       "      <td>0.005640</td>\n",
       "      <td>0.240220</td>\n",
       "      <td>0.001807</td>\n",
       "      <td>0.207294</td>\n",
       "      <td>0.006933</td>\n",
       "    </tr>\n",
       "    <tr>\n",
       "      <th>176</th>\n",
       "      <td>176</td>\n",
       "      <td>0.808591</td>\n",
       "      <td>0.005451</td>\n",
       "      <td>0.240288</td>\n",
       "      <td>0.001708</td>\n",
       "      <td>0.207185</td>\n",
       "      <td>0.007010</td>\n",
       "    </tr>\n",
       "    <tr>\n",
       "      <th>177</th>\n",
       "      <td>177</td>\n",
       "      <td>0.808552</td>\n",
       "      <td>0.005412</td>\n",
       "      <td>0.240294</td>\n",
       "      <td>0.001704</td>\n",
       "      <td>0.207044</td>\n",
       "      <td>0.007083</td>\n",
       "    </tr>\n",
       "  </tbody>\n",
       "</table>\n",
       "<p>178 rows × 7 columns</p>\n",
       "</div>"
      ],
      "text/plain": [
       "     iterations  test-AUC-mean  test-AUC-std  test-Logloss-mean  \\\n",
       "0             0       0.694799      0.033239           0.659354   \n",
       "1             1       0.729287      0.027954           0.627871   \n",
       "2             2       0.746355      0.018905           0.600755   \n",
       "3             3       0.753973      0.026538           0.573570   \n",
       "4             4       0.759390      0.025517           0.549386   \n",
       "..          ...            ...           ...                ...   \n",
       "173         173       0.808774      0.005649           0.240215   \n",
       "174         174       0.808782      0.005642           0.240209   \n",
       "175         175       0.808759      0.005640           0.240220   \n",
       "176         176       0.808591      0.005451           0.240288   \n",
       "177         177       0.808552      0.005412           0.240294   \n",
       "\n",
       "     test-Logloss-std  train-Logloss-mean  train-Logloss-std  \n",
       "0            0.001047            0.659252           0.000977  \n",
       "1            0.001831            0.627321           0.001671  \n",
       "2            0.002615            0.600123           0.002735  \n",
       "3            0.004307            0.572738           0.004244  \n",
       "4            0.004098            0.548401           0.004036  \n",
       "..                ...                 ...                ...  \n",
       "173          0.001810            0.207509           0.006901  \n",
       "174          0.001804            0.207431           0.006921  \n",
       "175          0.001807            0.207294           0.006933  \n",
       "176          0.001708            0.207185           0.007010  \n",
       "177          0.001704            0.207044           0.007083  \n",
       "\n",
       "[178 rows x 7 columns]"
      ]
     },
     "metadata": {},
     "execution_count": 163
    }
   ],
   "metadata": {}
  },
  {
   "cell_type": "code",
   "execution_count": 164,
   "source": [
    "from IPython.display import display\r\n",
    "print(df.datum.max())\r\n",
    "display(cv_score[cv_score['test-Logloss-mean'].min() == cv_score['test-Logloss-mean']])\r\n",
    "display(cv_score[cv_score['test-AUC-mean'].max() == cv_score['test-AUC-mean']])"
   ],
   "outputs": [
    {
     "output_type": "stream",
     "name": "stdout",
     "text": [
      "2021-09-25\n"
     ]
    },
    {
     "output_type": "display_data",
     "data": {
      "text/html": [
       "<div>\n",
       "<style scoped>\n",
       "    .dataframe tbody tr th:only-of-type {\n",
       "        vertical-align: middle;\n",
       "    }\n",
       "\n",
       "    .dataframe tbody tr th {\n",
       "        vertical-align: top;\n",
       "    }\n",
       "\n",
       "    .dataframe thead th {\n",
       "        text-align: right;\n",
       "    }\n",
       "</style>\n",
       "<table border=\"1\" class=\"dataframe\">\n",
       "  <thead>\n",
       "    <tr style=\"text-align: right;\">\n",
       "      <th></th>\n",
       "      <th>iterations</th>\n",
       "      <th>test-AUC-mean</th>\n",
       "      <th>test-AUC-std</th>\n",
       "      <th>test-Logloss-mean</th>\n",
       "      <th>test-Logloss-std</th>\n",
       "      <th>train-Logloss-mean</th>\n",
       "      <th>train-Logloss-std</th>\n",
       "    </tr>\n",
       "  </thead>\n",
       "  <tbody>\n",
       "    <tr>\n",
       "      <th>142</th>\n",
       "      <td>142</td>\n",
       "      <td>0.809646</td>\n",
       "      <td>0.006655</td>\n",
       "      <td>0.2399</td>\n",
       "      <td>0.002081</td>\n",
       "      <td>0.211149</td>\n",
       "      <td>0.005406</td>\n",
       "    </tr>\n",
       "  </tbody>\n",
       "</table>\n",
       "</div>"
      ],
      "text/plain": [
       "     iterations  test-AUC-mean  test-AUC-std  test-Logloss-mean  \\\n",
       "142         142       0.809646      0.006655             0.2399   \n",
       "\n",
       "     test-Logloss-std  train-Logloss-mean  train-Logloss-std  \n",
       "142          0.002081            0.211149           0.005406  "
      ]
     },
     "metadata": {}
    },
    {
     "output_type": "display_data",
     "data": {
      "text/html": [
       "<div>\n",
       "<style scoped>\n",
       "    .dataframe tbody tr th:only-of-type {\n",
       "        vertical-align: middle;\n",
       "    }\n",
       "\n",
       "    .dataframe tbody tr th {\n",
       "        vertical-align: top;\n",
       "    }\n",
       "\n",
       "    .dataframe thead th {\n",
       "        text-align: right;\n",
       "    }\n",
       "</style>\n",
       "<table border=\"1\" class=\"dataframe\">\n",
       "  <thead>\n",
       "    <tr style=\"text-align: right;\">\n",
       "      <th></th>\n",
       "      <th>iterations</th>\n",
       "      <th>test-AUC-mean</th>\n",
       "      <th>test-AUC-std</th>\n",
       "      <th>test-Logloss-mean</th>\n",
       "      <th>test-Logloss-std</th>\n",
       "      <th>train-Logloss-mean</th>\n",
       "      <th>train-Logloss-std</th>\n",
       "    </tr>\n",
       "  </thead>\n",
       "  <tbody>\n",
       "    <tr>\n",
       "      <th>77</th>\n",
       "      <td>77</td>\n",
       "      <td>0.811712</td>\n",
       "      <td>0.006353</td>\n",
       "      <td>0.244574</td>\n",
       "      <td>0.003061</td>\n",
       "      <td>0.224611</td>\n",
       "      <td>0.002957</td>\n",
       "    </tr>\n",
       "  </tbody>\n",
       "</table>\n",
       "</div>"
      ],
      "text/plain": [
       "    iterations  test-AUC-mean  test-AUC-std  test-Logloss-mean  \\\n",
       "77          77       0.811712      0.006353           0.244574   \n",
       "\n",
       "    test-Logloss-std  train-Logloss-mean  train-Logloss-std  \n",
       "77          0.003061            0.224611           0.002957  "
      ]
     },
     "metadata": {}
    }
   ],
   "metadata": {}
  },
  {
   "cell_type": "code",
   "execution_count": 165,
   "source": [
    "from sklearn.model_selection import train_test_split\r\n",
    "\r\n",
    "df[['datum','avd','streck','häst','kusk']] = dforg[['datum','avd','streck','häst','kusk']]\r\n",
    "\r\n",
    "# df.drop('datum',axis=1,inplace=True)\r\n",
    "df.drop('avd',axis=1,inplace=True)\r\n",
    "df.drop(['streck'],axis=1,inplace=True)\r\n",
    "# df.drop(['häst','kusk'],axis=1,inplace=True)\r\n",
    "cat_features = list(df.loc[:,df.dtypes=='O'].columns)\r\n",
    "X_train,X_test,y_train,y_test = train_test_split(df,y,shuffle=False,)\r\n",
    "cb=get_model(use_best=True)\r\n",
    "cb.fit(X_train,y_train,eval_set= (X_test,y_test),early_stopping_rounds=200, cat_features=cat_features,verbose=100)"
   ],
   "outputs": [
    {
     "output_type": "stream",
     "name": "stdout",
     "text": [
      "0:\tlearn: 0.6351497\ttest: 0.5750862\tbest: 0.5750862 (0)\ttotal: 103ms\tremaining: 5m 10s\n",
      "100:\tlearn: 0.7109457\ttest: 0.6342845\tbest: 0.6401297 (18)\ttotal: 14s\tremaining: 6m 43s\n",
      "200:\tlearn: 0.7375104\ttest: 0.6353957\tbest: 0.6431404 (156)\ttotal: 28.2s\tremaining: 6m 32s\n",
      "300:\tlearn: 0.7529163\ttest: 0.6363518\tbest: 0.6431404 (156)\ttotal: 41.2s\tremaining: 6m 9s\n",
      "Stopped by overfitting detector  (200 iterations wait)\n",
      "\n",
      "bestTest = 0.6431404377\n",
      "bestIteration = 156\n",
      "\n",
      "Shrink model to first 157 iterations.\n"
     ]
    },
    {
     "output_type": "execute_result",
     "data": {
      "text/plain": [
       "<catboost.core.CatBoostClassifier at 0x23a888f6d00>"
      ]
     },
     "metadata": {},
     "execution_count": 165
    }
   ],
   "metadata": {}
  },
  {
   "cell_type": "code",
   "execution_count": 166,
   "source": [
    "X_test[['datum','avd','vodds']] = dforg[['datum','avd','vodds']]\r\n",
    "predict_prob = cb.predict_proba(X_test)\r\n",
    "\r\n",
    "_,prob_score = proba_order_score(X_test ,y_test, predict_prob)\r\n",
    "\r\n",
    "print('cb med ekipage',prob_score, cb.best_score_['validation']['AUC'])"
   ],
   "outputs": [
    {
     "output_type": "stream",
     "name": "stdout",
     "text": [
      "cb med ekipage 4.052222222222222 0.707204980443889\n"
     ]
    },
    {
     "output_type": "stream",
     "name": "stderr",
     "text": [
      "C:\\Users\\peter\\anaconda3\\lib\\site-packages\\pandas\\core\\frame.py:3636: SettingWithCopyWarning: \n",
      "A value is trying to be set on a copy of a slice from a DataFrame.\n",
      "Try using .loc[row_indexer,col_indexer] = value instead\n",
      "\n",
      "See the caveats in the documentation: https://pandas.pydata.org/pandas-docs/stable/user_guide/indexing.html#returning-a-view-versus-a-copy\n",
      "  self[k1] = value[k2]\n"
     ]
    }
   ],
   "metadata": {}
  },
  {
   "cell_type": "markdown",
   "source": [
    "# FLAML (med och utan ekipage och streck)"
   ],
   "metadata": {}
  },
  {
   "cell_type": "code",
   "execution_count": 297,
   "source": [
    "def split_data(df_,train_from_proc=0,test_proc=0.25):\r\n",
    "    # train_from_proc = where to start both train and test\r\n",
    "    # test_proc = how much of the data is test\r\n",
    "    df=df_.copy()\r\n",
    "    alla_datum = df.datum.unique()\r\n",
    "    train_from_datum = alla_datum[ int(len(alla_datum)*train_from_proc)]\r\n",
    "    print(train_from_datum)\r\n",
    "    X_test=None\r\n",
    "    y_test=None\r\n",
    "    test_from_datum=alla_datum[-1]\r\n",
    "    if test_proc:\r\n",
    "        selected_data = alla_datum[ alla_datum >= train_from_datum ]\r\n",
    "        test_from_datum = selected_data[ int(len(selected_data)*(1-test_proc)) ]\r\n",
    "        print(test_from_datum)\r\n",
    "        X_test  = df[df.datum >= test_from_datum]\r\n",
    "        y_test  = (X_test.plac==1)*1\r\n",
    "        X_test  = X_test.drop('plac',axis=1)\r\n",
    "        \r\n",
    "    \r\n",
    "    X_train = df[(df.datum >= train_from_datum) & (df.datum < test_from_datum) ]\r\n",
    "    y_train = (X_train.plac==1)*1\r\n",
    "    \r\n",
    "    return X_train.drop('plac', axis=1), X_test, y_train, y_test\r\n"
   ],
   "outputs": [],
   "metadata": {}
  },
  {
   "cell_type": "code",
   "execution_count": 322,
   "source": [
    "# prepare all data för flaml\r\n",
    "dforg = pd.read_csv('all_data.csv')  \r\n",
    "\r\n",
    "X_train, X_test, y_train, y_test= split_data(dforg,train_from_proc=0.2,test_proc=0.25)\r\n",
    "X_train = remove_features(X_train)\r\n",
    "X_test  = remove_features( X_test)\r\n",
    "\r\n",
    "# X_train = X_train.drop('streck', axis=1)\r\n",
    "# X_test  = X_test.drop ('streck', axis=1)\r\n",
    "# X_train.drop('datum', axis=1, inplace=True)\r\n",
    "# X_test.drop( 'datum', axis=1, inplace=True)\r\n",
    "cat_features = list(X_train.select_dtypes('object').columns)\r\n",
    "# X_train, X_test = replace_NaN(X_train.copy(),X_test=X_test.copy(), cat_features=cat_features) \r\n",
    "print(cat_features)\r\n",
    "X_train.shape,X_test.shape"
   ],
   "outputs": [
    {
     "output_type": "stream",
     "name": "stdout",
     "text": [
      "2016-06-18\n",
      "2020-03-07\n",
      "['datum', 'bana', 'häst', 'kusk', 'kön', 'h1_kusk', 'h1_bana', 'h2_kusk', 'h2_bana', 'h3_kusk', 'h3_bana', 'h4_kusk', 'h4_bana', 'h5_kusk', 'h5_bana']\n"
     ]
    },
    {
     "output_type": "execute_result",
     "data": {
      "text/plain": [
       "((25189, 68), (8461, 68))"
      ]
     },
     "metadata": {},
     "execution_count": 322
    }
   ],
   "metadata": {}
  },
  {
   "cell_type": "code",
   "execution_count": 323,
   "source": [
    "from flaml import AutoML \r\n",
    "cat_features = X_train.select_dtypes('object')\r\n",
    "starting_points={'lgbm': {'n_estimators': 38,\r\n",
    "  'num_leaves': 4,\r\n",
    "  'min_child_samples': 2,\r\n",
    "  'learning_rate': 0.19098448074739216,\r\n",
    "  'log_max_bin': 7,\r\n",
    "  'colsample_bytree': 0.8827412174089042,\r\n",
    "  'reg_alpha': 0.004577823970660193,\r\n",
    "  'reg_lambda': 0.03815584533462228},\r\n",
    " 'rf': {'n_estimators': 33,\r\n",
    "  'max_features': 0.3251674877768946,\r\n",
    "  'max_leaves': 89,\r\n",
    "  'criterion': 'entropy'},\r\n",
    " 'catboost': {'early_stopping_rounds': 10,\r\n",
    "  'learning_rate': 0.007511731949060241},\r\n",
    " 'xgboost': {'n_estimators': 575,\r\n",
    "  'max_leaves': 46,\r\n",
    "  'min_child_weight': 1.032235057697502,\r\n",
    "  'learning_rate': 0.013318439439138472,\r\n",
    "  'subsample': 0.7908401179782586,\r\n",
    "  'colsample_bylevel': 0.6924750037579576,\r\n",
    "  'colsample_bytree': 0.7174828796230647,\r\n",
    "  'reg_alpha': 0.15461500385937774,\r\n",
    "  'reg_lambda': 0.6619886587472544},\r\n",
    " 'extra_tree': {'n_estimators': 47,\r\n",
    "  'max_features': 0.7934349565988307,\r\n",
    "  'max_leaves': 213,\r\n",
    "  'criterion': 'entropy'}}\r\n",
    "flml_raw_parms={'task': 'classification','split_type':'time', 'metric':'roc_auc', 'starting_points': starting_points,'verbose':False,\r\n",
    "        'time_budget':700, 'max_iter':50000000,'n_jobs':5, 'X_val': X_test, 'y_val':y_test,'early_stop':True, 'ensemble':True}\r\n",
    "\r\n",
    "automl_raw = AutoML()\r\n",
    "automl_raw.fit(X_train,y_train, **flml_raw_parms)"
   ],
   "outputs": [
    {
     "output_type": "stream",
     "name": "stderr",
     "text": [
      "2021-09-28 22:41:17.537 WARNING flaml.searcher.blendsearch: No low-cost partial config given to the search algorithm. For cost-frugal search, consider providing low-cost values for cost-related hps via 'low_cost_partial_config'.\n",
      "C:\\Users\\peter\\AppData\\Roaming\\Python\\Python38\\site-packages\\sklearn\\linear_model\\_sag.py:328: ConvergenceWarning: The max_iter was reached which means the coef_ did not converge\n",
      "  warnings.warn(\"The max_iter was reached which means \"\n"
     ]
    }
   ],
   "metadata": {}
  },
  {
   "cell_type": "code",
   "execution_count": 324,
   "source": [
    "flm_raw_train_pred= automl_raw.predict_proba(X_train)\r\n",
    "flm_raw_test_pred = automl_raw.predict_proba(X_test)\r\n",
    "\r\n",
    "X_test_raw = X_test.copy()\r\n",
    "X_test_raw[['datum','avd','vodds']] = dforg[['datum','avd','vodds']]\r\n",
    "_,prob_score = proba_order_score(X_test_raw,y_test, flm_raw_test_pred)\r\n",
    "\r\n",
    "print('timeserie, datum,häst, kusk', prob_score, 1-automl_raw.best_loss)\r\n",
    "# X_test.columns"
   ],
   "outputs": [
    {
     "output_type": "stream",
     "name": "stdout",
     "text": [
      "timeserie, datum,häst, kusk 3.0824175824175826 0.8220287891340522\n"
     ]
    }
   ],
   "metadata": {}
  },
  {
   "cell_type": "markdown",
   "source": [
    "timeserie  0.3 0.25, datum, häst, kusk 3.720565149136578  0.7213763318649257   best   \r\n",
    "timeserie  0.4 0.25, datum, häst, kusk 3.7362637362637363 0.7214144007762124  \r\n",
    "timeserie, 0.2 0.25, datum, häst, kusk 3.760989010989011  0.72561915325073230  \r\n",
    "timeserie, 0.1 0.25  datum, häst, kusk 3.8180708180708183 0.726597977829505    \r\n",
    "timeserie, 0.5 0.25, datum, häst, kusk 3.936263736263736  0.7216626969090024  \r\n",
    "timeserie, 0.3 0.25, datum, häst, kusk, streck 3.06436420722135   0.8232840226857013 best      \r\n",
    "timeserie, 0.4 0.25, datum, häst, kusk, streck 3.1483516483516483 0.8169106155467452  \r\n",
    "timeserie, 0.2 0.25, datum, häst, kusk, streck 3.0824175824175826 0.8220287891340522"
   ],
   "metadata": {}
  },
  {
   "cell_type": "markdown",
   "source": [
    "## Final FLML model"
   ],
   "metadata": {}
  },
  {
   "cell_type": "code",
   "execution_count": 269,
   "source": [
    "X_train, X_test, y_train, y_test= split_data(remove_features(dforg),train_from_proc=0.3,test_proc=None)\r\n",
    "\r\n",
    "# df.drop('streck', axis=1, inplace=True)\r\n",
    "# df = create_ekipage(df)\r\n",
    "# df.drop('datum', axis=1, inplace=True)\r\n",
    "\r\n",
    "# X_train, X_test = replace_NaN(X_train.copy(),X_test=X_test.copy(), cat_features=cat_features) \r\n",
    "# X_train.drop('steck',axis=1,inplace=True)\r\n",
    "# X_train, _ = replace_NaN(X_train.copy(), cat_features=cat_features) \r\n",
    "cat_features = list(X_train.select_dtypes('object').columns)\r\n",
    "print(cat_features)\r\n",
    "automl = AutoML()\r\n",
    "flml_parms={'task': 'classification','split_type':'time', 'metric':'roc_auc','starting_points': starting_points, 'verbose':False,\r\n",
    "        'time_budget':1000, 'max_iter':90000000,'n_jobs':5, 'early_stop':True, 'ensemble':True}"
   ],
   "outputs": [
    {
     "output_type": "stream",
     "name": "stdout",
     "text": [
      "2017-02-04\n",
      "['datum', 'bana', 'häst', 'kusk', 'kön', 'h1_kusk', 'h1_bana', 'h2_kusk', 'h2_bana', 'h3_kusk', 'h3_bana', 'h4_kusk', 'h4_bana', 'h5_kusk', 'h5_bana']\n"
     ]
    }
   ],
   "metadata": {}
  },
  {
   "cell_type": "code",
   "execution_count": 271,
   "source": [
    "automl.fit(X_train, y_train, **flml_parms)\r\n",
    "1-automl.best_loss"
   ],
   "outputs": [
    {
     "output_type": "execute_result",
     "data": {
      "text/plain": [
       "0.8190833786268518"
      ]
     },
     "metadata": {},
     "execution_count": 271
    }
   ],
   "metadata": {}
  },
  {
   "cell_type": "code",
   "execution_count": 177,
   "source": [
    "import pickle\r\n",
    "filename = 'modeller\\\\FLAML._model.sav'\r\n",
    "pickle.dump(automl_raw, open(filename, 'wb'))"
   ],
   "outputs": [],
   "metadata": {}
  },
  {
   "cell_type": "code",
   "execution_count": null,
   "source": [],
   "outputs": [],
   "metadata": {}
  }
 ],
 "metadata": {
  "interpreter": {
   "hash": "5eb2e0c23f8e38f19a3cfe8ad2d7bbb895a86b1e106b247f2b169180d03d2047"
  },
  "kernelspec": {
   "name": "python3",
   "display_name": "Python 3.8.11 64-bit ('base': conda)"
  },
  "language_info": {
   "name": "python",
   "version": "3.8.11",
   "mimetype": "text/x-python",
   "codemirror_mode": {
    "name": "ipython",
    "version": 3
   },
   "pygments_lexer": "ipython3",
   "nbconvert_exporter": "python",
   "file_extension": ".py"
  },
  "orig_nbformat": 2
 },
 "nbformat": 4,
 "nbformat_minor": 2
}