{
 "cells": [
  {
   "cell_type": "markdown",
   "source": [
    "# Learn v75 med walkthrough-metoden"
   ],
   "metadata": {}
  },
  {
   "cell_type": "code",
   "execution_count": 1,
   "source": [
    "import pandas as pd \r\n",
    "import numpy as np \r\n",
    "from catboost import CatBoostClassifier,Pool,cv,utils\r\n",
    "\r\n",
    "import sys\r\n",
    "sys.path.append('C:\\\\Users\\peter\\\\Documents\\\\MyProjects\\\\PyProj\\\\Trav\\\\spel')\r\n",
    "import V75_scraping as vs"
   ],
   "outputs": [],
   "metadata": {}
  },
  {
   "cell_type": "code",
   "execution_count": 2,
   "source": [
    "### returnera en modell med parametrar satta\r\n",
    "def get_model(d=6,l2=2,iterations=3000,use_best=True,verbose=False):\r\n",
    "    model = CatBoostClassifier(iterations=iterations,use_best_model=use_best, \r\n",
    "        custom_metric=['Logloss', 'AUC','Recall', 'Precision', 'F1', 'Accuracy'],\r\n",
    "\r\n",
    "        eval_metric='Accuracy', \r\n",
    "        depth=d,l2_leaf_reg=l2,\r\n",
    "        auto_class_weights='Balanced',verbose=verbose, random_state=2021) \r\n",
    "    return model                "
   ],
   "outputs": [],
   "metadata": {}
  },
  {
   "cell_type": "code",
   "execution_count": 3,
   "source": [
    "### Features som inte används vid träning\r\n",
    "def remove_features(df,remove_mer=[]):\r\n",
    "    #remove_mer=['h5_perf','h5_auto','h4_perf','h4_auto', 'h3_perf', 'h2_perf']\r\n",
    "    df.drop(['avd','startnr','vodds','podds','bins','h1_dat','h2_dat','h3_dat','h4_dat','h5_dat'],axis=1,inplace=True) #\r\n",
    "    if remove_mer:\r\n",
    "        df.drop(remove_mer,axis=1,inplace=True)\r\n",
    "    \r\n",
    "    # df=check_unique(df.copy())\r\n",
    "    # df=check_corr(df.copy())\r\n",
    "    return df"
   ],
   "outputs": [],
   "metadata": {}
  },
  {
   "cell_type": "code",
   "execution_count": 4,
   "source": [
    " ## byt ut alla NaN till text för cat_features\r\n",
    "def replace_NaN(X_train,X_test=None, cat_features=[]):\r\n",
    "    # print('cat_features',cat_features)\r\n",
    "    for c in cat_features:\r\n",
    "        # print(c)\r\n",
    "        X_train.loc[X_train[c].isna(),c] = 'None'       ### byt ut None-värden till texten 'None\r\n",
    "        if X_test is not None:  ## om X_test är med\r\n",
    "            X_test.loc [X_test[c].isna(),c] = 'None'    ### byt ut None-värden till texten 'None\r\n",
    "\r\n",
    "    return X_train,X_test"
   ],
   "outputs": [],
   "metadata": {}
  },
  {
   "cell_type": "code",
   "execution_count": 5,
   "source": [
    "def scrape_nya_lopp():\r\n",
    "    nya_lopp,strukna = vs.v75_scraping(resultat=True,history=True)\r\n",
    "\r\n",
    "    df=pd.concat([pd.read_csv('all_data.csv'), nya_lopp])\r\n",
    "    print('shape med nya lopp',df.shape)\r\n",
    "    #ta bort dubletter\r\n",
    "    df.drop_duplicates(['datum','avd','häst'],inplace=True)\r\n",
    "    df.sort_values(by=['datum','avd'],inplace=True)\r\n",
    "    df.reset_index(drop=True,inplace=True)\r\n",
    "    print('shape med dubletter bort',df.shape)\r\n",
    "\r\n",
    "    df.to_csv('all_data.csv', index=False)\r\n",
    "\r\n",
    "    print(\"första datum i df =\",df.datum.head(1).to_list()[0])\r\n",
    "    print(\"sista  datum i df =\",df.datum.tail(1).to_list()[0])\r\n",
    "\r\n",
    "    return df,nya_lopp"
   ],
   "outputs": [],
   "metadata": {}
  },
  {
   "cell_type": "code",
   "execution_count": 6,
   "source": [
    "### beräkna vilka datum att använda ###\r\n",
    "def get_alla_datum(proc=0.75, total_omlärning = False):\r\n",
    "    if total_omlärning:\r\n",
    "        nya_lopp=None\r\n",
    "        df = pd.read_csv('all_data.csv')     \r\n",
    "        alla_datum = df.datum.unique()\r\n",
    "        split_ix = int(len(alla_datum)*proc)\r\n",
    "    else:\r\n",
    "        # normalt adderar vi bara 1 eller flera veckor från \"omg_att_spela_link.csv\"\r\n",
    "        df, nya_lopp = scrape_nya_lopp()  # scrape från 'omg_att_spela_link.csv' och addera till df\r\n",
    "        omg_df = pd.read_csv('omg_att_spela_link.csv')     \r\n",
    "        startix=omg_df.Link.str.find('spel')[0]    # index till 'spel' i url\r\n",
    "        alla_datum = omg_df.Link.str.slice(start=startix+5,stop=startix+15).to_list() # en datum \r\n",
    "        split_ix=0\r\n",
    "        print(f'datum att lära från {alla_datum}')\r\n",
    "\r\n",
    "    return df,nya_lopp,alla_datum,split_ix\r\n"
   ],
   "outputs": [],
   "metadata": {}
  },
  {
   "cell_type": "markdown",
   "source": [
    "## Walkthrough-funktionen  här"
   ],
   "metadata": {}
  },
  {
   "cell_type": "code",
   "execution_count": 7,
   "source": [
    "\r\n",
    "### Kör en walkthrough learn här, en datum i taget framåt\r\n",
    "\r\n",
    "# Jag har ändrat till att alla steg kör utan test-datam ed fast iterations=100\r\n",
    "def walkthrough(classic_test=False, verbose=False):\r\n",
    "    \r\n",
    "    df, nya_lopp, alla_datum, split_ix = get_alla_datum()\r\n",
    "\r\n",
    "    l2_leaf_regs=2\r\n",
    "    model=get_model(use_best=False,iterations=100)\r\n",
    "    df=remove_features(df.copy())\r\n",
    "    cat_features = list(df.loc[:,df.dtypes=='O'].columns)\r\n",
    "    df,_ = replace_NaN(df.copy(), cat_features=cat_features)    \r\n",
    "    print(f'cat_features {cat_features}\\n')\r\n",
    "\r\n",
    "    df['plac']=(df.plac==1)*1\r\n",
    "        \r\n",
    "    for nr,datum in enumerate(alla_datum[split_ix:]):\r\n",
    "        print(f'walk-iter {nr+1} av {len(alla_datum[split_ix:])} ',end=': ')\r\n",
    "\r\n",
    "        X_train = df.loc[df.datum<datum,:].copy()\r\n",
    "        y_train = X_train.plac; X_train.drop(['plac'],axis=1,inplace=True)\r\n",
    "\r\n",
    "        if classic_test:    ### klassisk train/test utan walkthrough\r\n",
    "            X_test  = df.loc[df.datum>=datum,:].copy()\r\n",
    "            y_test  = X_test.plac;  X_test.drop(['plac'],axis=1,inplace=True)\r\n",
    "            train_pool = Pool(X_train,y_train,cat_features=cat_features)\r\n",
    "            test_pool = Pool(X_test,y_test,cat_features=cat_features)\r\n",
    "            model.fit(train_pool,use_best_model=True, verbose=verbose,eval_set=test_pool)\r\n",
    "        else:\r\n",
    "            X_test  = df.loc[df.datum==datum,:].copy()\r\n",
    "            y_test  = X_test.plac;  X_test.drop(['plac'],axis=1,inplace=True)\r\n",
    "            train_pool = Pool(X_train,y_train,cat_features=cat_features)\r\n",
    "            test_pool = Pool(X_test,y_test,cat_features=cat_features)\r\n",
    "            model.fit(train_pool,use_best_model=False, verbose=verbose)\r\n",
    "\r\n",
    "        print('best iteration',model.get_best_iteration(), '\\tbest score', round(model.get_best_score()['learn']['Accuracy'],3) )\r\n",
    "        ##['validation']['Logloss'],3),'\\t', round(model.get_best_score()['validation']['Accuracy:use_weights=true'],3))\r\n",
    "        \r\n",
    "        if classic_test:    ### klassisk train/test utan walkthrough\r\n",
    "            return model,cat_features\r\n",
    "    \r\n",
    "        model.save_model('modeller/model_'+datum)\r\n",
    "\r\n",
    "    X_train =df.copy().drop('plac',axis=1)\r\n",
    "    y_train = df.plac \r\n",
    "    model.fit(X_train,y=y_train,cat_features=cat_features)\r\n",
    "    print(f'spara model_senaste',datum)\r\n",
    "    model.save_model('modeller/model_senaste')\r\n",
    "\r\n",
    "    return df,nya_lopp, model,cat_features"
   ],
   "outputs": [],
   "metadata": {}
  },
  {
   "cell_type": "markdown",
   "source": [
    "### Här körs hela walkthrough"
   ],
   "metadata": {}
  },
  {
   "cell_type": "code",
   "execution_count": 8,
   "source": [
    "df, nya_lopp, model, cat_features = walkthrough(classic_test=False, verbose=False)\r\n"
   ],
   "outputs": [
    {
     "output_type": "stream",
     "name": "stdout",
     "text": [
      "omgång 1: https://www.atg.se/spel/2021-09-18/V75/\n",
      "klickade på ANPASSA\n",
      "anpassa klar - break\n",
      "ant resultat 7\n",
      "ant lopp 7\n"
     ]
    },
    {
     "output_type": "stream",
     "name": "stderr",
     "text": [
      "2021-09-18 21:53:18.126 WARNING root: 2021-09-18 avd: <selenium.webdriver.remote.webelement.WebElement (session=\"763d7f7df01999f5f4061885dcfa3606\", element=\"0ededbe6-1b13-47b7-a383-ecfba780e433\")>\n"
     ]
    },
    {
     "output_type": "stream",
     "name": "stdout",
     "text": [
      "Ant priser 7\n",
      "ant names,vodds,podds,rader,streck 12 12 12 12\n"
     ]
    },
    {
     "output_type": "stream",
     "name": "stderr",
     "text": [
      "2021-09-18 21:53:18.531 WARNING root: 0\n"
     ]
    },
    {
     "output_type": "stream",
     "name": "stdout",
     "text": [
      "AVD 1 FÄRJESTAD 1640 AUTOSTART "
     ]
    },
    {
     "output_type": "stream",
     "name": "stderr",
     "text": [
      "2021-09-18 21:53:19.257 WARNING root: 1\n"
     ]
    },
    {
     "output_type": "stream",
     "name": "stdout",
     "text": [
      "."
     ]
    },
    {
     "output_type": "stream",
     "name": "stderr",
     "text": [
      "2021-09-18 21:53:19.975 WARNING root: 2\n"
     ]
    },
    {
     "output_type": "stream",
     "name": "stdout",
     "text": [
      "."
     ]
    },
    {
     "output_type": "stream",
     "name": "stderr",
     "text": [
      "2021-09-18 21:53:20.698 WARNING root: 3\n"
     ]
    },
    {
     "output_type": "stream",
     "name": "stdout",
     "text": [
      "."
     ]
    },
    {
     "output_type": "stream",
     "name": "stderr",
     "text": [
      "2021-09-18 21:53:21.447 WARNING root: 4\n"
     ]
    },
    {
     "output_type": "stream",
     "name": "stdout",
     "text": [
      "."
     ]
    },
    {
     "output_type": "stream",
     "name": "stderr",
     "text": [
      "2021-09-18 21:53:22.206 WARNING root: 5\n"
     ]
    },
    {
     "output_type": "stream",
     "name": "stdout",
     "text": [
      "."
     ]
    },
    {
     "output_type": "stream",
     "name": "stderr",
     "text": [
      "2021-09-18 21:53:23.025 WARNING root: 6\n"
     ]
    },
    {
     "output_type": "stream",
     "name": "stdout",
     "text": [
      "."
     ]
    },
    {
     "output_type": "stream",
     "name": "stderr",
     "text": [
      "2021-09-18 21:53:23.801 WARNING root: 7\n"
     ]
    },
    {
     "output_type": "stream",
     "name": "stdout",
     "text": [
      "."
     ]
    },
    {
     "output_type": "stream",
     "name": "stderr",
     "text": [
      "2021-09-18 21:53:24.631 WARNING root: 8\n"
     ]
    },
    {
     "output_type": "stream",
     "name": "stdout",
     "text": [
      "."
     ]
    },
    {
     "output_type": "stream",
     "name": "stderr",
     "text": [
      "2021-09-18 21:53:25.496 WARNING root: 9\n"
     ]
    },
    {
     "output_type": "stream",
     "name": "stdout",
     "text": [
      "."
     ]
    },
    {
     "output_type": "stream",
     "name": "stderr",
     "text": [
      "2021-09-18 21:53:26.351 WARNING root: 10\n"
     ]
    },
    {
     "output_type": "stream",
     "name": "stdout",
     "text": [
      "."
     ]
    },
    {
     "output_type": "stream",
     "name": "stderr",
     "text": [
      "2021-09-18 21:53:27.245 WARNING root: 11\n"
     ]
    },
    {
     "output_type": "stream",
     "name": "stdout",
     "text": [
      "."
     ]
    },
    {
     "output_type": "stream",
     "name": "stderr",
     "text": [
      "2021-09-18 21:53:28.138 WARNING root: 2021-09-18 avd: <selenium.webdriver.remote.webelement.WebElement (session=\"763d7f7df01999f5f4061885dcfa3606\", element=\"db5078ec-6cbc-4495-9c55-5dc72132a366\")>\n"
     ]
    },
    {
     "output_type": "stream",
     "name": "stdout",
     "text": [
      ".\n",
      "ant names,vodds,podds,rader,streck 12 12 12 12\n"
     ]
    },
    {
     "output_type": "stream",
     "name": "stderr",
     "text": [
      "2021-09-18 21:53:28.566 WARNING root: 0\n"
     ]
    },
    {
     "output_type": "stream",
     "name": "stdout",
     "text": [
      "AVD 2 FÄRJESTAD 1640 VOLTSTART "
     ]
    },
    {
     "output_type": "stream",
     "name": "stderr",
     "text": [
      "2021-09-18 21:53:29.531 WARNING root: 1\n"
     ]
    },
    {
     "output_type": "stream",
     "name": "stdout",
     "text": [
      "."
     ]
    },
    {
     "output_type": "stream",
     "name": "stderr",
     "text": [
      "2021-09-18 21:53:30.541 WARNING root: 2\n"
     ]
    },
    {
     "output_type": "stream",
     "name": "stdout",
     "text": [
      "."
     ]
    },
    {
     "output_type": "stream",
     "name": "stderr",
     "text": [
      "2021-09-18 21:53:31.472 WARNING root: 3\n"
     ]
    },
    {
     "output_type": "stream",
     "name": "stdout",
     "text": [
      "."
     ]
    },
    {
     "output_type": "stream",
     "name": "stderr",
     "text": [
      "2021-09-18 21:53:32.399 WARNING root: 4\n"
     ]
    },
    {
     "output_type": "stream",
     "name": "stdout",
     "text": [
      "."
     ]
    },
    {
     "output_type": "stream",
     "name": "stderr",
     "text": [
      "2021-09-18 21:53:33.352 WARNING root: 5\n"
     ]
    },
    {
     "output_type": "stream",
     "name": "stdout",
     "text": [
      "."
     ]
    },
    {
     "output_type": "stream",
     "name": "stderr",
     "text": [
      "2021-09-18 21:53:34.296 WARNING root: 6\n"
     ]
    },
    {
     "output_type": "stream",
     "name": "stdout",
     "text": [
      "."
     ]
    },
    {
     "output_type": "stream",
     "name": "stderr",
     "text": [
      "2021-09-18 21:53:35.252 WARNING root: 7\n"
     ]
    },
    {
     "output_type": "stream",
     "name": "stdout",
     "text": [
      "."
     ]
    },
    {
     "output_type": "stream",
     "name": "stderr",
     "text": [
      "2021-09-18 21:53:36.223 WARNING root: 8\n"
     ]
    },
    {
     "output_type": "stream",
     "name": "stdout",
     "text": [
      "."
     ]
    },
    {
     "output_type": "stream",
     "name": "stderr",
     "text": [
      "2021-09-18 21:53:37.237 WARNING root: 9\n"
     ]
    },
    {
     "output_type": "stream",
     "name": "stdout",
     "text": [
      "."
     ]
    },
    {
     "output_type": "stream",
     "name": "stderr",
     "text": [
      "2021-09-18 21:53:38.247 WARNING root: 10\n"
     ]
    },
    {
     "output_type": "stream",
     "name": "stdout",
     "text": [
      "."
     ]
    },
    {
     "output_type": "stream",
     "name": "stderr",
     "text": [
      "2021-09-18 21:53:39.245 WARNING root: 11\n"
     ]
    },
    {
     "output_type": "stream",
     "name": "stdout",
     "text": [
      "."
     ]
    },
    {
     "output_type": "stream",
     "name": "stderr",
     "text": [
      "2021-09-18 21:53:40.267 WARNING root: 2021-09-18 avd: <selenium.webdriver.remote.webelement.WebElement (session=\"763d7f7df01999f5f4061885dcfa3606\", element=\"35ece208-fae0-4ab8-a127-0a825e9671a4\")>\n"
     ]
    },
    {
     "output_type": "stream",
     "name": "stdout",
     "text": [
      ".\n",
      "ant names,vodds,podds,rader,streck 10 10 10 10\n"
     ]
    },
    {
     "output_type": "stream",
     "name": "stderr",
     "text": [
      "2021-09-18 21:53:40.641 WARNING root: 0\n"
     ]
    },
    {
     "output_type": "stream",
     "name": "stdout",
     "text": [
      "AVD 3 FÄRJESTAD 2140 AUTOSTART "
     ]
    },
    {
     "output_type": "stream",
     "name": "stderr",
     "text": [
      "2021-09-18 21:53:41.766 WARNING root: 1\n"
     ]
    },
    {
     "output_type": "stream",
     "name": "stdout",
     "text": [
      "."
     ]
    },
    {
     "output_type": "stream",
     "name": "stderr",
     "text": [
      "2021-09-18 21:53:42.711 WARNING root: 2\n"
     ]
    },
    {
     "output_type": "stream",
     "name": "stdout",
     "text": [
      "."
     ]
    },
    {
     "output_type": "stream",
     "name": "stderr",
     "text": [
      "2021-09-18 21:53:43.670 WARNING root: 3\n"
     ]
    },
    {
     "output_type": "stream",
     "name": "stdout",
     "text": [
      "."
     ]
    },
    {
     "output_type": "stream",
     "name": "stderr",
     "text": [
      "2021-09-18 21:53:44.638 WARNING root: 4\n"
     ]
    },
    {
     "output_type": "stream",
     "name": "stdout",
     "text": [
      "."
     ]
    },
    {
     "output_type": "stream",
     "name": "stderr",
     "text": [
      "2021-09-18 21:53:45.652 WARNING root: 5\n"
     ]
    },
    {
     "output_type": "stream",
     "name": "stdout",
     "text": [
      "."
     ]
    },
    {
     "output_type": "stream",
     "name": "stderr",
     "text": [
      "2021-09-18 21:53:46.678 WARNING root: 6\n"
     ]
    },
    {
     "output_type": "stream",
     "name": "stdout",
     "text": [
      "."
     ]
    },
    {
     "output_type": "stream",
     "name": "stderr",
     "text": [
      "2021-09-18 21:53:47.725 WARNING root: 7\n"
     ]
    },
    {
     "output_type": "stream",
     "name": "stdout",
     "text": [
      "."
     ]
    },
    {
     "output_type": "stream",
     "name": "stderr",
     "text": [
      "2021-09-18 21:53:48.808 WARNING root: 8\n"
     ]
    },
    {
     "output_type": "stream",
     "name": "stdout",
     "text": [
      "."
     ]
    },
    {
     "output_type": "stream",
     "name": "stderr",
     "text": [
      "2021-09-18 21:53:49.900 WARNING root: 9\n"
     ]
    },
    {
     "output_type": "stream",
     "name": "stdout",
     "text": [
      "."
     ]
    },
    {
     "output_type": "stream",
     "name": "stderr",
     "text": [
      "2021-09-18 21:53:50.978 WARNING root: 2021-09-18 avd: <selenium.webdriver.remote.webelement.WebElement (session=\"763d7f7df01999f5f4061885dcfa3606\", element=\"b01f8f31-9e52-4709-a1c3-094e1f4a66b3\")>\n"
     ]
    },
    {
     "output_type": "stream",
     "name": "stdout",
     "text": [
      ".\n",
      "ant names,vodds,podds,rader,streck 13 13 13 13\n"
     ]
    },
    {
     "output_type": "stream",
     "name": "stderr",
     "text": [
      "2021-09-18 21:53:51.456 WARNING root: 0\n"
     ]
    },
    {
     "output_type": "stream",
     "name": "stdout",
     "text": [
      "AVD 4 FÄRJESTAD 3140 VOLTSTART "
     ]
    },
    {
     "output_type": "stream",
     "name": "stderr",
     "text": [
      "2021-09-18 21:53:52.591 WARNING root: 1\n"
     ]
    },
    {
     "output_type": "stream",
     "name": "stdout",
     "text": [
      "."
     ]
    },
    {
     "output_type": "stream",
     "name": "stderr",
     "text": [
      "2021-09-18 21:53:53.733 WARNING root: 2\n"
     ]
    },
    {
     "output_type": "stream",
     "name": "stdout",
     "text": [
      "."
     ]
    },
    {
     "output_type": "stream",
     "name": "stderr",
     "text": [
      "2021-09-18 21:53:54.845 WARNING root: 3\n"
     ]
    },
    {
     "output_type": "stream",
     "name": "stdout",
     "text": [
      "."
     ]
    },
    {
     "output_type": "stream",
     "name": "stderr",
     "text": [
      "2021-09-18 21:53:55.958 WARNING root: 4\n"
     ]
    },
    {
     "output_type": "stream",
     "name": "stdout",
     "text": [
      "."
     ]
    },
    {
     "output_type": "stream",
     "name": "stderr",
     "text": [
      "2021-09-18 21:53:57.153 WARNING root: 5\n"
     ]
    },
    {
     "output_type": "stream",
     "name": "stdout",
     "text": [
      "."
     ]
    },
    {
     "output_type": "stream",
     "name": "stderr",
     "text": [
      "2021-09-18 21:53:58.342 WARNING root: 6\n"
     ]
    },
    {
     "output_type": "stream",
     "name": "stdout",
     "text": [
      "."
     ]
    },
    {
     "output_type": "stream",
     "name": "stderr",
     "text": [
      "2021-09-18 21:53:59.508 WARNING root: 7\n"
     ]
    },
    {
     "output_type": "stream",
     "name": "stdout",
     "text": [
      "."
     ]
    },
    {
     "output_type": "stream",
     "name": "stderr",
     "text": [
      "2021-09-18 21:54:00.682 WARNING root: 8\n"
     ]
    },
    {
     "output_type": "stream",
     "name": "stdout",
     "text": [
      "."
     ]
    },
    {
     "output_type": "stream",
     "name": "stderr",
     "text": [
      "2021-09-18 21:54:01.913 WARNING root: 9\n"
     ]
    },
    {
     "output_type": "stream",
     "name": "stdout",
     "text": [
      "."
     ]
    },
    {
     "output_type": "stream",
     "name": "stderr",
     "text": [
      "2021-09-18 21:54:03.166 WARNING root: 10\n"
     ]
    },
    {
     "output_type": "stream",
     "name": "stdout",
     "text": [
      "."
     ]
    },
    {
     "output_type": "stream",
     "name": "stderr",
     "text": [
      "2021-09-18 21:54:04.421 WARNING root: 11\n"
     ]
    },
    {
     "output_type": "stream",
     "name": "stdout",
     "text": [
      "."
     ]
    },
    {
     "output_type": "stream",
     "name": "stderr",
     "text": [
      "2021-09-18 21:54:05.728 WARNING root: 12\n"
     ]
    },
    {
     "output_type": "stream",
     "name": "stdout",
     "text": [
      "."
     ]
    },
    {
     "output_type": "stream",
     "name": "stderr",
     "text": [
      "2021-09-18 21:54:07.074 WARNING root: 2021-09-18 avd: <selenium.webdriver.remote.webelement.WebElement (session=\"763d7f7df01999f5f4061885dcfa3606\", element=\"50457da2-beb8-4589-b8b3-d8913336ed78\")>\n"
     ]
    },
    {
     "output_type": "stream",
     "name": "stdout",
     "text": [
      ".\n",
      "ant names,vodds,podds,rader,streck 12 12 12 12\n"
     ]
    },
    {
     "output_type": "stream",
     "name": "stderr",
     "text": [
      "2021-09-18 21:54:07.550 WARNING root: 0\n"
     ]
    },
    {
     "output_type": "stream",
     "name": "stdout",
     "text": [
      "AVD 5 FÄRJESTAD 2140 AUTOSTART "
     ]
    },
    {
     "output_type": "stream",
     "name": "stderr",
     "text": [
      "2021-09-18 21:54:08.863 WARNING root: 1\n"
     ]
    },
    {
     "output_type": "stream",
     "name": "stdout",
     "text": [
      "."
     ]
    },
    {
     "output_type": "stream",
     "name": "stderr",
     "text": [
      "2021-09-18 21:54:10.217 WARNING root: 2\n"
     ]
    },
    {
     "output_type": "stream",
     "name": "stdout",
     "text": [
      "."
     ]
    },
    {
     "output_type": "stream",
     "name": "stderr",
     "text": [
      "2021-09-18 21:54:11.588 WARNING root: 3\n"
     ]
    },
    {
     "output_type": "stream",
     "name": "stdout",
     "text": [
      "."
     ]
    },
    {
     "output_type": "stream",
     "name": "stderr",
     "text": [
      "2021-09-18 21:54:12.822 WARNING root: 4\n"
     ]
    },
    {
     "output_type": "stream",
     "name": "stdout",
     "text": [
      "."
     ]
    },
    {
     "output_type": "stream",
     "name": "stderr",
     "text": [
      "2021-09-18 21:54:14.112 WARNING root: 5\n"
     ]
    },
    {
     "output_type": "stream",
     "name": "stdout",
     "text": [
      "."
     ]
    },
    {
     "output_type": "stream",
     "name": "stderr",
     "text": [
      "2021-09-18 21:54:15.361 WARNING root: 6\n"
     ]
    },
    {
     "output_type": "stream",
     "name": "stdout",
     "text": [
      "."
     ]
    },
    {
     "output_type": "stream",
     "name": "stderr",
     "text": [
      "2021-09-18 21:54:16.631 WARNING root: 7\n"
     ]
    },
    {
     "output_type": "stream",
     "name": "stdout",
     "text": [
      "."
     ]
    },
    {
     "output_type": "stream",
     "name": "stderr",
     "text": [
      "2021-09-18 21:54:17.953 WARNING root: 8\n"
     ]
    },
    {
     "output_type": "stream",
     "name": "stdout",
     "text": [
      "."
     ]
    },
    {
     "output_type": "stream",
     "name": "stderr",
     "text": [
      "2021-09-18 21:54:19.281 WARNING root: 9\n"
     ]
    },
    {
     "output_type": "stream",
     "name": "stdout",
     "text": [
      "."
     ]
    },
    {
     "output_type": "stream",
     "name": "stderr",
     "text": [
      "2021-09-18 21:54:20.594 WARNING root: 10\n"
     ]
    },
    {
     "output_type": "stream",
     "name": "stdout",
     "text": [
      "."
     ]
    },
    {
     "output_type": "stream",
     "name": "stderr",
     "text": [
      "2021-09-18 21:54:21.952 WARNING root: 11\n"
     ]
    },
    {
     "output_type": "stream",
     "name": "stdout",
     "text": [
      "."
     ]
    },
    {
     "output_type": "stream",
     "name": "stderr",
     "text": [
      "2021-09-18 21:54:23.301 WARNING root: 2021-09-18 avd: <selenium.webdriver.remote.webelement.WebElement (session=\"763d7f7df01999f5f4061885dcfa3606\", element=\"9b61dae9-f317-41df-b43e-c42a89ddf3fd\")>\n"
     ]
    },
    {
     "output_type": "stream",
     "name": "stdout",
     "text": [
      ".\n",
      "ant names,vodds,podds,rader,streck 10 10 10 10\n"
     ]
    },
    {
     "output_type": "stream",
     "name": "stderr",
     "text": [
      "2021-09-18 21:54:23.728 WARNING root: 0\n"
     ]
    },
    {
     "output_type": "stream",
     "name": "stdout",
     "text": [
      "AVD 6 FÄRJESTAD 2140 AUTOSTART "
     ]
    },
    {
     "output_type": "stream",
     "name": "stderr",
     "text": [
      "2021-09-18 21:54:25.100 WARNING root: 1\n"
     ]
    },
    {
     "output_type": "stream",
     "name": "stdout",
     "text": [
      "."
     ]
    },
    {
     "output_type": "stream",
     "name": "stderr",
     "text": [
      "2021-09-18 21:54:26.492 WARNING root: 2\n"
     ]
    },
    {
     "output_type": "stream",
     "name": "stdout",
     "text": [
      "."
     ]
    },
    {
     "output_type": "stream",
     "name": "stderr",
     "text": [
      "2021-09-18 21:54:27.872 WARNING root: 3\n"
     ]
    },
    {
     "output_type": "stream",
     "name": "stdout",
     "text": [
      "."
     ]
    },
    {
     "output_type": "stream",
     "name": "stderr",
     "text": [
      "2021-09-18 21:54:29.344 WARNING root: 4\n"
     ]
    },
    {
     "output_type": "stream",
     "name": "stdout",
     "text": [
      "."
     ]
    },
    {
     "output_type": "stream",
     "name": "stderr",
     "text": [
      "2021-09-18 21:54:30.772 WARNING root: 5\n"
     ]
    },
    {
     "output_type": "stream",
     "name": "stdout",
     "text": [
      "."
     ]
    },
    {
     "output_type": "stream",
     "name": "stderr",
     "text": [
      "2021-09-18 21:54:32.357 WARNING root: 6\n"
     ]
    },
    {
     "output_type": "stream",
     "name": "stdout",
     "text": [
      "."
     ]
    },
    {
     "output_type": "stream",
     "name": "stderr",
     "text": [
      "2021-09-18 21:54:33.657 WARNING root: 7\n"
     ]
    },
    {
     "output_type": "stream",
     "name": "stdout",
     "text": [
      "."
     ]
    },
    {
     "output_type": "stream",
     "name": "stderr",
     "text": [
      "2021-09-18 21:54:34.976 WARNING root: 8\n"
     ]
    },
    {
     "output_type": "stream",
     "name": "stdout",
     "text": [
      "."
     ]
    },
    {
     "output_type": "stream",
     "name": "stderr",
     "text": [
      "2021-09-18 21:54:36.292 WARNING root: 9\n"
     ]
    },
    {
     "output_type": "stream",
     "name": "stdout",
     "text": [
      "."
     ]
    },
    {
     "output_type": "stream",
     "name": "stderr",
     "text": [
      "2021-09-18 21:54:37.629 WARNING root: 2021-09-18 avd: <selenium.webdriver.remote.webelement.WebElement (session=\"763d7f7df01999f5f4061885dcfa3606\", element=\"cb2aa550-f1be-41a5-a683-0b0014a86517\")>\n"
     ]
    },
    {
     "output_type": "stream",
     "name": "stdout",
     "text": [
      ".\n",
      "ant names,vodds,podds,rader,streck 12 12 12 12\n"
     ]
    },
    {
     "output_type": "stream",
     "name": "stderr",
     "text": [
      "2021-09-18 21:54:38.118 WARNING root: 0\n"
     ]
    },
    {
     "output_type": "stream",
     "name": "stdout",
     "text": [
      "AVD 7 FÄRJESTAD 2640 AUTOSTART "
     ]
    },
    {
     "output_type": "stream",
     "name": "stderr",
     "text": [
      "2021-09-18 21:54:39.447 WARNING root: 1\n"
     ]
    },
    {
     "output_type": "stream",
     "name": "stdout",
     "text": [
      "."
     ]
    },
    {
     "output_type": "stream",
     "name": "stderr",
     "text": [
      "2021-09-18 21:54:40.830 WARNING root: 2\n"
     ]
    },
    {
     "output_type": "stream",
     "name": "stdout",
     "text": [
      "."
     ]
    },
    {
     "output_type": "stream",
     "name": "stderr",
     "text": [
      "2021-09-18 21:54:42.237 WARNING root: 3\n"
     ]
    },
    {
     "output_type": "stream",
     "name": "stdout",
     "text": [
      "."
     ]
    },
    {
     "output_type": "stream",
     "name": "stderr",
     "text": [
      "2021-09-18 21:54:43.638 WARNING root: 4\n"
     ]
    },
    {
     "output_type": "stream",
     "name": "stdout",
     "text": [
      "."
     ]
    },
    {
     "output_type": "stream",
     "name": "stderr",
     "text": [
      "2021-09-18 21:54:45.095 WARNING root: 5\n"
     ]
    },
    {
     "output_type": "stream",
     "name": "stdout",
     "text": [
      "."
     ]
    },
    {
     "output_type": "stream",
     "name": "stderr",
     "text": [
      "2021-09-18 21:54:46.553 WARNING root: 6\n"
     ]
    },
    {
     "output_type": "stream",
     "name": "stdout",
     "text": [
      "."
     ]
    },
    {
     "output_type": "stream",
     "name": "stderr",
     "text": [
      "2021-09-18 21:54:48.002 WARNING root: 7\n"
     ]
    },
    {
     "output_type": "stream",
     "name": "stdout",
     "text": [
      "."
     ]
    },
    {
     "output_type": "stream",
     "name": "stderr",
     "text": [
      "2021-09-18 21:54:49.475 WARNING root: 8\n"
     ]
    },
    {
     "output_type": "stream",
     "name": "stdout",
     "text": [
      "."
     ]
    },
    {
     "output_type": "stream",
     "name": "stderr",
     "text": [
      "2021-09-18 21:54:50.984 WARNING root: 9\n"
     ]
    },
    {
     "output_type": "stream",
     "name": "stdout",
     "text": [
      "."
     ]
    },
    {
     "output_type": "stream",
     "name": "stderr",
     "text": [
      "2021-09-18 21:54:52.508 WARNING root: 10\n"
     ]
    },
    {
     "output_type": "stream",
     "name": "stdout",
     "text": [
      "."
     ]
    },
    {
     "output_type": "stream",
     "name": "stderr",
     "text": [
      "2021-09-18 21:54:54.033 WARNING root: 11\n"
     ]
    },
    {
     "output_type": "stream",
     "name": "stdout",
     "text": [
      "..\n",
      "\n",
      "det tog 97.962 sekunder\n",
      "utdelning: 79915, 661, 57\n",
      "startar Fixa mer\n",
      "tog bort 4 strukna från 81 till 77\n",
      "rensade totalt bort 4 hästar i städa_och_rensa. Från 81 till 77\n",
      "shape med nya lopp (41922, 79)\n",
      "shape med dubletter bort (41922, 79)\n",
      "första datum i df = 2014-12-28\n",
      "sista  datum i df = 2021-09-18\n",
      "datum att lära från ['2021-09-18']\n",
      "cat_features ['datum', 'bana', 'häst', 'kusk', 'kön', 'h1_kusk', 'h1_bana', 'h2_kusk', 'h2_bana', 'h3_kusk', 'h3_bana', 'h4_kusk', 'h4_bana', 'h5_kusk', 'h5_bana']\n",
      "\n",
      "walk-iter 1 av 1 : best iteration None \tbest score 0.753\n",
      "spara model_senaste 2021-09-18\n"
     ]
    }
   ],
   "metadata": {}
  },
  {
   "cell_type": "markdown",
   "source": [
    "## Kör allt ovanför walkthrough\r\n",
    "### Se till att \"omg_att_spela_link.csv\" är ifylld"
   ],
   "metadata": {}
  },
  {
   "cell_type": "code",
   "execution_count": 9,
   "source": [
    "from catboost.utils import eval_metric\r\n",
    "df = pd.read_csv('all_data.csv')     \r\n",
    "print(df.columns)\r\n",
    "dfval=remove_features(df.copy())\r\n",
    "cat_features = list(dfval.loc[:,dfval.dtypes=='O'].columns)\r\n",
    "dfval,_ = replace_NaN(dfval.copy(), cat_features=cat_features)    \r\n",
    "    \r\n",
    "validation = nya_lopp.copy()\r\n",
    "validation = validation[dfval.columns]\r\n",
    "# validation.drop('startnr',axis=1,inplace=True)\r\n",
    "# validation = remove_features(validation)\r\n",
    "y=validation.plac\r\n",
    "y=(y==1)*1\r\n",
    "validation.drop('plac',axis=1,inplace=True)\r\n",
    "# cat_features = validation.loc[:,validation.dtypes=='O'].columns\r\n",
    "        \r\n",
    "val_pool=Pool(validation,y,cat_features)\r\n",
    "yhat=model.predict(val_pool)\r\n",
    "print(utils.get_confusion_matrix(model,val_pool))\r\n",
    "eval_metric(yhat,y,'Accuracy')\r\n",
    "\r\n"
   ],
   "outputs": [
    {
     "output_type": "stream",
     "name": "stdout",
     "text": [
      "Index(['datum', 'avd', 'bana', 'häst', 'kusk', 'streck', 'vodds', 'podds',\n",
      "       'kr', 'spår', 'dist', 'lopp_dist', 'start', 'ålder', 'kön', 'plac',\n",
      "       'pris', 'h1_dat', 'h1_kusk', 'h1_bana', 'h1_spår', 'h1_plac', 'h1_pris',\n",
      "       'h1_odds', 'h1_kmtid', 'h2_dat', 'h2_kusk', 'h2_bana', 'h2_spår',\n",
      "       'h2_plac', 'h2_pris', 'h2_odds', 'h2_kmtid', 'h3_dat', 'h3_kusk',\n",
      "       'h3_bana', 'h3_spår', 'h3_plac', 'h3_pris', 'h3_odds', 'h3_kmtid',\n",
      "       'h4_dat', 'h4_kusk', 'h4_bana', 'h4_spår', 'h4_plac', 'h4_pris',\n",
      "       'h4_odds', 'h4_kmtid', 'h5_dat', 'h5_kusk', 'h5_bana', 'h5_spår',\n",
      "       'h5_plac', 'h5_pris', 'h5_odds', 'h5_kmtid', 'h1_dist', 'h2_dist',\n",
      "       'h3_dist', 'h4_dist', 'h5_dist', 'bins', 'h1_auto', 'h2_auto',\n",
      "       'h3_auto', 'h4_auto', 'h5_auto', 'h1_perf', 'h2_perf', 'h3_perf',\n",
      "       'h4_perf', 'h5_perf', 'senast', 'delta1', 'delta2', 'delta3', 'delta4',\n",
      "       'startnr'],\n",
      "      dtype='object')\n",
      "[[46. 24.]\n",
      " [ 2.  5.]]\n"
     ]
    },
    {
     "output_type": "execute_result",
     "data": {
      "text/plain": [
       "[0.6623376623376623]"
      ]
     },
     "metadata": {},
     "execution_count": 9
    }
   ],
   "metadata": {}
  },
  {
   "cell_type": "code",
   "execution_count": 10,
   "source": [
    "validation.datum.max()"
   ],
   "outputs": [
    {
     "output_type": "execute_result",
     "data": {
      "text/plain": [
       "'2021-09-18'"
      ]
     },
     "metadata": {},
     "execution_count": 10
    }
   ],
   "metadata": {}
  },
  {
   "cell_type": "code",
   "execution_count": 11,
   "source": [
    "model.get_feature_importance(prettified=True).head(30)"
   ],
   "outputs": [
    {
     "output_type": "execute_result",
     "data": {
      "text/html": [
       "<div>\n",
       "<style scoped>\n",
       "    .dataframe tbody tr th:only-of-type {\n",
       "        vertical-align: middle;\n",
       "    }\n",
       "\n",
       "    .dataframe tbody tr th {\n",
       "        vertical-align: top;\n",
       "    }\n",
       "\n",
       "    .dataframe thead th {\n",
       "        text-align: right;\n",
       "    }\n",
       "</style>\n",
       "<table border=\"1\" class=\"dataframe\">\n",
       "  <thead>\n",
       "    <tr style=\"text-align: right;\">\n",
       "      <th></th>\n",
       "      <th>Feature Id</th>\n",
       "      <th>Importances</th>\n",
       "    </tr>\n",
       "  </thead>\n",
       "  <tbody>\n",
       "    <tr>\n",
       "      <th>0</th>\n",
       "      <td>streck</td>\n",
       "      <td>65.337353</td>\n",
       "    </tr>\n",
       "    <tr>\n",
       "      <th>1</th>\n",
       "      <td>datum</td>\n",
       "      <td>6.980384</td>\n",
       "    </tr>\n",
       "    <tr>\n",
       "      <th>2</th>\n",
       "      <td>häst</td>\n",
       "      <td>4.772097</td>\n",
       "    </tr>\n",
       "    <tr>\n",
       "      <th>3</th>\n",
       "      <td>h2_bana</td>\n",
       "      <td>1.455736</td>\n",
       "    </tr>\n",
       "    <tr>\n",
       "      <th>4</th>\n",
       "      <td>bana</td>\n",
       "      <td>1.405156</td>\n",
       "    </tr>\n",
       "    <tr>\n",
       "      <th>5</th>\n",
       "      <td>h4_bana</td>\n",
       "      <td>1.175271</td>\n",
       "    </tr>\n",
       "    <tr>\n",
       "      <th>6</th>\n",
       "      <td>h3_odds</td>\n",
       "      <td>0.905305</td>\n",
       "    </tr>\n",
       "    <tr>\n",
       "      <th>7</th>\n",
       "      <td>h1_bana</td>\n",
       "      <td>0.836294</td>\n",
       "    </tr>\n",
       "    <tr>\n",
       "      <th>8</th>\n",
       "      <td>h1_pris</td>\n",
       "      <td>0.802259</td>\n",
       "    </tr>\n",
       "    <tr>\n",
       "      <th>9</th>\n",
       "      <td>kr</td>\n",
       "      <td>0.759869</td>\n",
       "    </tr>\n",
       "    <tr>\n",
       "      <th>10</th>\n",
       "      <td>h2_pris</td>\n",
       "      <td>0.748859</td>\n",
       "    </tr>\n",
       "    <tr>\n",
       "      <th>11</th>\n",
       "      <td>h5_bana</td>\n",
       "      <td>0.721102</td>\n",
       "    </tr>\n",
       "    <tr>\n",
       "      <th>12</th>\n",
       "      <td>senast</td>\n",
       "      <td>0.690208</td>\n",
       "    </tr>\n",
       "    <tr>\n",
       "      <th>13</th>\n",
       "      <td>delta1</td>\n",
       "      <td>0.625679</td>\n",
       "    </tr>\n",
       "    <tr>\n",
       "      <th>14</th>\n",
       "      <td>h2_spår</td>\n",
       "      <td>0.612926</td>\n",
       "    </tr>\n",
       "    <tr>\n",
       "      <th>15</th>\n",
       "      <td>h3_kmtid</td>\n",
       "      <td>0.592838</td>\n",
       "    </tr>\n",
       "    <tr>\n",
       "      <th>16</th>\n",
       "      <td>h1_dist</td>\n",
       "      <td>0.557773</td>\n",
       "    </tr>\n",
       "    <tr>\n",
       "      <th>17</th>\n",
       "      <td>h5_odds</td>\n",
       "      <td>0.537866</td>\n",
       "    </tr>\n",
       "    <tr>\n",
       "      <th>18</th>\n",
       "      <td>h3_pris</td>\n",
       "      <td>0.526896</td>\n",
       "    </tr>\n",
       "    <tr>\n",
       "      <th>19</th>\n",
       "      <td>h2_odds</td>\n",
       "      <td>0.524109</td>\n",
       "    </tr>\n",
       "    <tr>\n",
       "      <th>20</th>\n",
       "      <td>ålder</td>\n",
       "      <td>0.503929</td>\n",
       "    </tr>\n",
       "    <tr>\n",
       "      <th>21</th>\n",
       "      <td>h3_spår</td>\n",
       "      <td>0.490072</td>\n",
       "    </tr>\n",
       "    <tr>\n",
       "      <th>22</th>\n",
       "      <td>delta4</td>\n",
       "      <td>0.488980</td>\n",
       "    </tr>\n",
       "    <tr>\n",
       "      <th>23</th>\n",
       "      <td>spår</td>\n",
       "      <td>0.480729</td>\n",
       "    </tr>\n",
       "    <tr>\n",
       "      <th>24</th>\n",
       "      <td>h4_perf</td>\n",
       "      <td>0.474260</td>\n",
       "    </tr>\n",
       "    <tr>\n",
       "      <th>25</th>\n",
       "      <td>h1_odds</td>\n",
       "      <td>0.440420</td>\n",
       "    </tr>\n",
       "    <tr>\n",
       "      <th>26</th>\n",
       "      <td>h2_plac</td>\n",
       "      <td>0.423544</td>\n",
       "    </tr>\n",
       "    <tr>\n",
       "      <th>27</th>\n",
       "      <td>h2_perf</td>\n",
       "      <td>0.411713</td>\n",
       "    </tr>\n",
       "    <tr>\n",
       "      <th>28</th>\n",
       "      <td>lopp_dist</td>\n",
       "      <td>0.411463</td>\n",
       "    </tr>\n",
       "    <tr>\n",
       "      <th>29</th>\n",
       "      <td>h4_odds</td>\n",
       "      <td>0.391624</td>\n",
       "    </tr>\n",
       "  </tbody>\n",
       "</table>\n",
       "</div>"
      ],
      "text/plain": [
       "   Feature Id  Importances\n",
       "0      streck    65.337353\n",
       "1       datum     6.980384\n",
       "2        häst     4.772097\n",
       "3     h2_bana     1.455736\n",
       "4        bana     1.405156\n",
       "5     h4_bana     1.175271\n",
       "6     h3_odds     0.905305\n",
       "7     h1_bana     0.836294\n",
       "8     h1_pris     0.802259\n",
       "9          kr     0.759869\n",
       "10    h2_pris     0.748859\n",
       "11    h5_bana     0.721102\n",
       "12     senast     0.690208\n",
       "13     delta1     0.625679\n",
       "14    h2_spår     0.612926\n",
       "15   h3_kmtid     0.592838\n",
       "16    h1_dist     0.557773\n",
       "17    h5_odds     0.537866\n",
       "18    h3_pris     0.526896\n",
       "19    h2_odds     0.524109\n",
       "20      ålder     0.503929\n",
       "21    h3_spår     0.490072\n",
       "22     delta4     0.488980\n",
       "23       spår     0.480729\n",
       "24    h4_perf     0.474260\n",
       "25    h1_odds     0.440420\n",
       "26    h2_plac     0.423544\n",
       "27    h2_perf     0.411713\n",
       "28  lopp_dist     0.411463\n",
       "29    h4_odds     0.391624"
      ]
     },
     "metadata": {},
     "execution_count": 11
    }
   ],
   "metadata": {}
  },
  {
   "cell_type": "code",
   "execution_count": 12,
   "source": [
    "model.get_params()"
   ],
   "outputs": [
    {
     "output_type": "execute_result",
     "data": {
      "text/plain": [
       "{'iterations': 100,\n",
       " 'depth': 6,\n",
       " 'l2_leaf_reg': 2,\n",
       " 'use_best_model': False,\n",
       " 'verbose': False,\n",
       " 'auto_class_weights': 'Balanced',\n",
       " 'custom_metric': ['Logloss', 'AUC', 'Recall', 'Precision', 'F1', 'Accuracy'],\n",
       " 'eval_metric': 'Accuracy',\n",
       " 'random_state': 2021}"
      ]
     },
     "metadata": {},
     "execution_count": 12
    }
   ],
   "metadata": {}
  },
  {
   "cell_type": "markdown",
   "source": [
    "# Kör cross validation"
   ],
   "metadata": {}
  },
  {
   "cell_type": "markdown",
   "source": [
    "## init  - kör först allt t.o.m 'replace_NaN()' ovan"
   ],
   "metadata": {}
  },
  {
   "cell_type": "code",
   "execution_count": 52,
   "source": [
    "model = get_model().load_model('modeller/model_senaste')\r\n",
    "dforg = pd.read_csv('all_data.csv')     \r\n",
    "# print(df.columns)\r\n",
    "df=remove_features(dforg.copy())\r\n",
    "# df['avd']=dforg.avd\r\n",
    "cat_features = list(df.loc[:,df.dtypes=='O'].columns)\r\n",
    "df,_ = replace_NaN(df.copy(), cat_features=cat_features)    \r\n",
    "y=df.plac\r\n",
    "y=(y==1)*1\r\n",
    "df.drop('plac',axis=1,inplace=True)\r\n"
   ],
   "outputs": [],
   "metadata": {}
  },
  {
   "cell_type": "code",
   "execution_count": 11,
   "source": [
    "df[df.columns[(df.dtypes=='object').values.tolist()]].info()"
   ],
   "outputs": [
    {
     "output_type": "stream",
     "name": "stdout",
     "text": [
      "<class 'pandas.core.frame.DataFrame'>\n",
      "RangeIndex: 41922 entries, 0 to 41921\n",
      "Data columns (total 15 columns):\n",
      " #   Column   Non-Null Count  Dtype \n",
      "---  ------   --------------  ----- \n",
      " 0   datum    41922 non-null  object\n",
      " 1   bana     41922 non-null  object\n",
      " 2   häst     41922 non-null  object\n",
      " 3   kusk     41922 non-null  object\n",
      " 4   kön      41922 non-null  object\n",
      " 5   h1_kusk  41922 non-null  object\n",
      " 6   h1_bana  41922 non-null  object\n",
      " 7   h2_kusk  41922 non-null  object\n",
      " 8   h2_bana  41922 non-null  object\n",
      " 9   h3_kusk  41922 non-null  object\n",
      " 10  h3_bana  41922 non-null  object\n",
      " 11  h4_kusk  41922 non-null  object\n",
      " 12  h4_bana  41922 non-null  object\n",
      " 13  h5_kusk  41922 non-null  object\n",
      " 14  h5_bana  41922 non-null  object\n",
      "dtypes: object(15)\n",
      "memory usage: 4.8+ MB\n"
     ]
    }
   ],
   "metadata": {}
  },
  {
   "cell_type": "markdown",
   "source": [
    "## cv"
   ],
   "metadata": {}
  },
  {
   "cell_type": "code",
   "execution_count": 12,
   "source": [
    "\r\n",
    "cv_pool = Pool(df,y,cat_features=cat_features)\r\n",
    "\r\n",
    "params = {\r\n",
    "         'use_best_model': True,\r\n",
    "         'eval_metric' : 'AUC',\r\n",
    "         \"loss_function\": \"Logloss\",\r\n",
    "         'early_stopping_rounds': 100,\r\n",
    "         'verbose': 50,\r\n",
    "}\r\n",
    "\r\n",
    "cv_score =cv(pool=cv_pool, \r\n",
    "   params=params, \r\n",
    "   dtrain=None, \r\n",
    "   iterations=2000, \r\n",
    "   num_boost_round=None,\r\n",
    "   fold_count=5, \r\n",
    "   nfold=None,\r\n",
    "   inverted=False,\r\n",
    "   partition_random_seed=0,\r\n",
    "   seed=2021, \r\n",
    "   shuffle=False, \r\n",
    "   logging_level=None, \r\n",
    "   stratified=True,\r\n",
    "   as_pandas=True,\r\n",
    "   type='TimeSeries')"
   ],
   "outputs": [
    {
     "output_type": "stream",
     "name": "stdout",
     "text": [
      "0:\ttest: 0.6963294\tbest: 0.6963294 (0)\n",
      "50:\ttest: 0.8098065\tbest: 0.8098065 (50)\n",
      "100:\ttest: 0.8121092\tbest: 0.8122300 (88)\n",
      "150:\ttest: 0.8106810\tbest: 0.8122300 (88)\n",
      "Stopped by overfitting detector  (100 iterations wait)\n"
     ]
    }
   ],
   "metadata": {}
  },
  {
   "cell_type": "code",
   "execution_count": 13,
   "source": [
    "cv_score"
   ],
   "outputs": [
    {
     "output_type": "execute_result",
     "data": {
      "text/html": [
       "<div>\n",
       "<style scoped>\n",
       "    .dataframe tbody tr th:only-of-type {\n",
       "        vertical-align: middle;\n",
       "    }\n",
       "\n",
       "    .dataframe tbody tr th {\n",
       "        vertical-align: top;\n",
       "    }\n",
       "\n",
       "    .dataframe thead th {\n",
       "        text-align: right;\n",
       "    }\n",
       "</style>\n",
       "<table border=\"1\" class=\"dataframe\">\n",
       "  <thead>\n",
       "    <tr style=\"text-align: right;\">\n",
       "      <th></th>\n",
       "      <th>iterations</th>\n",
       "      <th>test-AUC-mean</th>\n",
       "      <th>test-AUC-std</th>\n",
       "      <th>test-Logloss-mean</th>\n",
       "      <th>test-Logloss-std</th>\n",
       "      <th>train-Logloss-mean</th>\n",
       "      <th>train-Logloss-std</th>\n",
       "    </tr>\n",
       "  </thead>\n",
       "  <tbody>\n",
       "    <tr>\n",
       "      <th>0</th>\n",
       "      <td>0</td>\n",
       "      <td>0.696329</td>\n",
       "      <td>0.087224</td>\n",
       "      <td>0.659487</td>\n",
       "      <td>0.003077</td>\n",
       "      <td>0.658914</td>\n",
       "      <td>0.002954</td>\n",
       "    </tr>\n",
       "    <tr>\n",
       "      <th>1</th>\n",
       "      <td>1</td>\n",
       "      <td>0.739789</td>\n",
       "      <td>0.039380</td>\n",
       "      <td>0.628632</td>\n",
       "      <td>0.002891</td>\n",
       "      <td>0.628028</td>\n",
       "      <td>0.002733</td>\n",
       "    </tr>\n",
       "    <tr>\n",
       "      <th>2</th>\n",
       "      <td>2</td>\n",
       "      <td>0.756218</td>\n",
       "      <td>0.024839</td>\n",
       "      <td>0.599821</td>\n",
       "      <td>0.001683</td>\n",
       "      <td>0.599206</td>\n",
       "      <td>0.001507</td>\n",
       "    </tr>\n",
       "    <tr>\n",
       "      <th>3</th>\n",
       "      <td>3</td>\n",
       "      <td>0.760643</td>\n",
       "      <td>0.032663</td>\n",
       "      <td>0.573624</td>\n",
       "      <td>0.004392</td>\n",
       "      <td>0.572955</td>\n",
       "      <td>0.004249</td>\n",
       "    </tr>\n",
       "    <tr>\n",
       "      <th>4</th>\n",
       "      <td>4</td>\n",
       "      <td>0.770705</td>\n",
       "      <td>0.023209</td>\n",
       "      <td>0.549600</td>\n",
       "      <td>0.005298</td>\n",
       "      <td>0.547927</td>\n",
       "      <td>0.003432</td>\n",
       "    </tr>\n",
       "    <tr>\n",
       "      <th>...</th>\n",
       "      <td>...</td>\n",
       "      <td>...</td>\n",
       "      <td>...</td>\n",
       "      <td>...</td>\n",
       "      <td>...</td>\n",
       "      <td>...</td>\n",
       "      <td>...</td>\n",
       "    </tr>\n",
       "    <tr>\n",
       "      <th>184</th>\n",
       "      <td>184</td>\n",
       "      <td>0.809656</td>\n",
       "      <td>0.005030</td>\n",
       "      <td>0.240083</td>\n",
       "      <td>0.001577</td>\n",
       "      <td>0.205599</td>\n",
       "      <td>0.005008</td>\n",
       "    </tr>\n",
       "    <tr>\n",
       "      <th>185</th>\n",
       "      <td>185</td>\n",
       "      <td>0.809714</td>\n",
       "      <td>0.005035</td>\n",
       "      <td>0.240056</td>\n",
       "      <td>0.001589</td>\n",
       "      <td>0.205494</td>\n",
       "      <td>0.005031</td>\n",
       "    </tr>\n",
       "    <tr>\n",
       "      <th>186</th>\n",
       "      <td>186</td>\n",
       "      <td>0.809768</td>\n",
       "      <td>0.005085</td>\n",
       "      <td>0.240049</td>\n",
       "      <td>0.001601</td>\n",
       "      <td>0.205365</td>\n",
       "      <td>0.005120</td>\n",
       "    </tr>\n",
       "    <tr>\n",
       "      <th>187</th>\n",
       "      <td>187</td>\n",
       "      <td>0.809768</td>\n",
       "      <td>0.005102</td>\n",
       "      <td>0.240036</td>\n",
       "      <td>0.001599</td>\n",
       "      <td>0.205267</td>\n",
       "      <td>0.005187</td>\n",
       "    </tr>\n",
       "    <tr>\n",
       "      <th>188</th>\n",
       "      <td>188</td>\n",
       "      <td>0.809780</td>\n",
       "      <td>0.005129</td>\n",
       "      <td>0.240032</td>\n",
       "      <td>0.001603</td>\n",
       "      <td>0.205148</td>\n",
       "      <td>0.005262</td>\n",
       "    </tr>\n",
       "  </tbody>\n",
       "</table>\n",
       "<p>189 rows × 7 columns</p>\n",
       "</div>"
      ],
      "text/plain": [
       "     iterations  test-AUC-mean  test-AUC-std  test-Logloss-mean  \\\n",
       "0             0       0.696329      0.087224           0.659487   \n",
       "1             1       0.739789      0.039380           0.628632   \n",
       "2             2       0.756218      0.024839           0.599821   \n",
       "3             3       0.760643      0.032663           0.573624   \n",
       "4             4       0.770705      0.023209           0.549600   \n",
       "..          ...            ...           ...                ...   \n",
       "184         184       0.809656      0.005030           0.240083   \n",
       "185         185       0.809714      0.005035           0.240056   \n",
       "186         186       0.809768      0.005085           0.240049   \n",
       "187         187       0.809768      0.005102           0.240036   \n",
       "188         188       0.809780      0.005129           0.240032   \n",
       "\n",
       "     test-Logloss-std  train-Logloss-mean  train-Logloss-std  \n",
       "0            0.003077            0.658914           0.002954  \n",
       "1            0.002891            0.628028           0.002733  \n",
       "2            0.001683            0.599206           0.001507  \n",
       "3            0.004392            0.572955           0.004249  \n",
       "4            0.005298            0.547927           0.003432  \n",
       "..                ...                 ...                ...  \n",
       "184          0.001577            0.205599           0.005008  \n",
       "185          0.001589            0.205494           0.005031  \n",
       "186          0.001601            0.205365           0.005120  \n",
       "187          0.001599            0.205267           0.005187  \n",
       "188          0.001603            0.205148           0.005262  \n",
       "\n",
       "[189 rows x 7 columns]"
      ]
     },
     "metadata": {},
     "execution_count": 13
    }
   ],
   "metadata": {}
  },
  {
   "cell_type": "code",
   "execution_count": 14,
   "source": [
    "from IPython.display import display\r\n",
    "print(df.datum.max())\r\n",
    "display(cv_score[cv_score['test-Logloss-mean'].min() == cv_score['test-Logloss-mean']])\r\n",
    "display(cv_score[cv_score['test-AUC-mean'].max() == cv_score['test-AUC-mean']])"
   ],
   "outputs": [
    {
     "output_type": "stream",
     "name": "stdout",
     "text": [
      "2021-09-18\n"
     ]
    },
    {
     "output_type": "display_data",
     "data": {
      "text/html": [
       "<div>\n",
       "<style scoped>\n",
       "    .dataframe tbody tr th:only-of-type {\n",
       "        vertical-align: middle;\n",
       "    }\n",
       "\n",
       "    .dataframe tbody tr th {\n",
       "        vertical-align: top;\n",
       "    }\n",
       "\n",
       "    .dataframe thead th {\n",
       "        text-align: right;\n",
       "    }\n",
       "</style>\n",
       "<table border=\"1\" class=\"dataframe\">\n",
       "  <thead>\n",
       "    <tr style=\"text-align: right;\">\n",
       "      <th></th>\n",
       "      <th>iterations</th>\n",
       "      <th>test-AUC-mean</th>\n",
       "      <th>test-AUC-std</th>\n",
       "      <th>test-Logloss-mean</th>\n",
       "      <th>test-Logloss-std</th>\n",
       "      <th>train-Logloss-mean</th>\n",
       "      <th>train-Logloss-std</th>\n",
       "    </tr>\n",
       "  </thead>\n",
       "  <tbody>\n",
       "    <tr>\n",
       "      <th>157</th>\n",
       "      <td>157</td>\n",
       "      <td>0.810658</td>\n",
       "      <td>0.005165</td>\n",
       "      <td>0.239583</td>\n",
       "      <td>0.001686</td>\n",
       "      <td>0.208877</td>\n",
       "      <td>0.003641</td>\n",
       "    </tr>\n",
       "  </tbody>\n",
       "</table>\n",
       "</div>"
      ],
      "text/plain": [
       "     iterations  test-AUC-mean  test-AUC-std  test-Logloss-mean  \\\n",
       "157         157       0.810658      0.005165           0.239583   \n",
       "\n",
       "     test-Logloss-std  train-Logloss-mean  train-Logloss-std  \n",
       "157          0.001686            0.208877           0.003641  "
      ]
     },
     "metadata": {}
    },
    {
     "output_type": "display_data",
     "data": {
      "text/html": [
       "<div>\n",
       "<style scoped>\n",
       "    .dataframe tbody tr th:only-of-type {\n",
       "        vertical-align: middle;\n",
       "    }\n",
       "\n",
       "    .dataframe tbody tr th {\n",
       "        vertical-align: top;\n",
       "    }\n",
       "\n",
       "    .dataframe thead th {\n",
       "        text-align: right;\n",
       "    }\n",
       "</style>\n",
       "<table border=\"1\" class=\"dataframe\">\n",
       "  <thead>\n",
       "    <tr style=\"text-align: right;\">\n",
       "      <th></th>\n",
       "      <th>iterations</th>\n",
       "      <th>test-AUC-mean</th>\n",
       "      <th>test-AUC-std</th>\n",
       "      <th>test-Logloss-mean</th>\n",
       "      <th>test-Logloss-std</th>\n",
       "      <th>train-Logloss-mean</th>\n",
       "      <th>train-Logloss-std</th>\n",
       "    </tr>\n",
       "  </thead>\n",
       "  <tbody>\n",
       "    <tr>\n",
       "      <th>88</th>\n",
       "      <td>88</td>\n",
       "      <td>0.81223</td>\n",
       "      <td>0.006032</td>\n",
       "      <td>0.242407</td>\n",
       "      <td>0.003284</td>\n",
       "      <td>0.221168</td>\n",
       "      <td>0.001837</td>\n",
       "    </tr>\n",
       "  </tbody>\n",
       "</table>\n",
       "</div>"
      ],
      "text/plain": [
       "    iterations  test-AUC-mean  test-AUC-std  test-Logloss-mean  \\\n",
       "88          88        0.81223      0.006032           0.242407   \n",
       "\n",
       "    test-Logloss-std  train-Logloss-mean  train-Logloss-std  \n",
       "88          0.003284            0.221168           0.001837  "
      ]
     },
     "metadata": {}
    }
   ],
   "metadata": {}
  },
  {
   "cell_type": "code",
   "execution_count": 71,
   "source": [
    "from sklearn.model_selection import train_test_split\r\n",
    "\r\n",
    "df[['datum','avd','streck','häst','kusk']] = dforg[['datum','avd','streck','häst','kusk']]\r\n",
    "\r\n",
    "# df.drop('datum',axis=1,inplace=True)\r\n",
    "df.drop('avd',axis=1,inplace=True)\r\n",
    "df.drop(['streck'],axis=1,inplace=True)\r\n",
    "df['ekipage'] = dforg['kusk'].str.cat(dforg['häst'], sep =\", \")\r\n",
    "df.drop('ekipage',axis=1,inplace=True)\r\n",
    "# df.drop(['häst','kusk'],axis=1,inplace=True)\r\n",
    "cat_features = list(df.loc[:,df.dtypes=='O'].columns)\r\n",
    "X_train,X_test,y_train,y_test = train_test_split(df,y,shuffle=False,)\r\n",
    "cb=get_model(use_best=True)\r\n",
    "cb.fit(X_train,y_train,eval_set= (X_test,y_test),early_stopping_rounds=200, cat_features=cat_features,verbose=100)"
   ],
   "outputs": [
    {
     "output_type": "stream",
     "name": "stdout",
     "text": [
      "0:\tlearn: 0.6429472\ttest: 0.6002399\tbest: 0.6002399 (0)\ttotal: 84.9ms\tremaining: 4m 14s\n",
      "100:\tlearn: 0.7160471\ttest: 0.6407389\tbest: 0.6437970 (21)\ttotal: 11.2s\tremaining: 5m 20s\n",
      "200:\tlearn: 0.7368167\ttest: 0.6419145\tbest: 0.6477709 (150)\ttotal: 22.3s\tremaining: 5m 10s\n",
      "300:\tlearn: 0.7563230\ttest: 0.6375103\tbest: 0.6489617 (238)\ttotal: 32.5s\tremaining: 4m 51s\n",
      "400:\tlearn: 0.7794626\ttest: 0.6309864\tbest: 0.6489617 (238)\ttotal: 42.5s\tremaining: 4m 35s\n",
      "Stopped by overfitting detector  (200 iterations wait)\n",
      "\n",
      "bestTest = 0.648961667\n",
      "bestIteration = 238\n",
      "\n",
      "Shrink model to first 239 iterations.\n"
     ]
    },
    {
     "output_type": "execute_result",
     "data": {
      "text/plain": [
       "<catboost.core.CatBoostClassifier at 0x2d32dfceac0>"
      ]
     },
     "metadata": {},
     "execution_count": 71
    }
   ],
   "metadata": {}
  },
  {
   "cell_type": "code",
   "execution_count": 72,
   "source": [
    "cb.get_feature_importance(prettified=True).head(40)"
   ],
   "outputs": [
    {
     "output_type": "execute_result",
     "data": {
      "text/html": [
       "<div>\n",
       "<style scoped>\n",
       "    .dataframe tbody tr th:only-of-type {\n",
       "        vertical-align: middle;\n",
       "    }\n",
       "\n",
       "    .dataframe tbody tr th {\n",
       "        vertical-align: top;\n",
       "    }\n",
       "\n",
       "    .dataframe thead th {\n",
       "        text-align: right;\n",
       "    }\n",
       "</style>\n",
       "<table border=\"1\" class=\"dataframe\">\n",
       "  <thead>\n",
       "    <tr style=\"text-align: right;\">\n",
       "      <th></th>\n",
       "      <th>Feature Id</th>\n",
       "      <th>Importances</th>\n",
       "    </tr>\n",
       "  </thead>\n",
       "  <tbody>\n",
       "    <tr>\n",
       "      <th>0</th>\n",
       "      <td>häst</td>\n",
       "      <td>9.630990</td>\n",
       "    </tr>\n",
       "    <tr>\n",
       "      <th>1</th>\n",
       "      <td>kr</td>\n",
       "      <td>7.602864</td>\n",
       "    </tr>\n",
       "    <tr>\n",
       "      <th>2</th>\n",
       "      <td>datum</td>\n",
       "      <td>7.324576</td>\n",
       "    </tr>\n",
       "    <tr>\n",
       "      <th>3</th>\n",
       "      <td>pris</td>\n",
       "      <td>6.632094</td>\n",
       "    </tr>\n",
       "    <tr>\n",
       "      <th>4</th>\n",
       "      <td>kusk</td>\n",
       "      <td>5.873598</td>\n",
       "    </tr>\n",
       "    <tr>\n",
       "      <th>5</th>\n",
       "      <td>spår</td>\n",
       "      <td>5.648440</td>\n",
       "    </tr>\n",
       "    <tr>\n",
       "      <th>6</th>\n",
       "      <td>h1_odds</td>\n",
       "      <td>5.567155</td>\n",
       "    </tr>\n",
       "    <tr>\n",
       "      <th>7</th>\n",
       "      <td>h2_odds</td>\n",
       "      <td>4.124140</td>\n",
       "    </tr>\n",
       "    <tr>\n",
       "      <th>8</th>\n",
       "      <td>dist</td>\n",
       "      <td>4.008371</td>\n",
       "    </tr>\n",
       "    <tr>\n",
       "      <th>9</th>\n",
       "      <td>ålder</td>\n",
       "      <td>3.388386</td>\n",
       "    </tr>\n",
       "    <tr>\n",
       "      <th>10</th>\n",
       "      <td>h1_perf</td>\n",
       "      <td>2.659745</td>\n",
       "    </tr>\n",
       "    <tr>\n",
       "      <th>11</th>\n",
       "      <td>h1_plac</td>\n",
       "      <td>2.630195</td>\n",
       "    </tr>\n",
       "    <tr>\n",
       "      <th>12</th>\n",
       "      <td>h3_odds</td>\n",
       "      <td>2.445611</td>\n",
       "    </tr>\n",
       "    <tr>\n",
       "      <th>13</th>\n",
       "      <td>h4_odds</td>\n",
       "      <td>2.272202</td>\n",
       "    </tr>\n",
       "    <tr>\n",
       "      <th>14</th>\n",
       "      <td>lopp_dist</td>\n",
       "      <td>1.908773</td>\n",
       "    </tr>\n",
       "    <tr>\n",
       "      <th>15</th>\n",
       "      <td>h2_plac</td>\n",
       "      <td>1.901879</td>\n",
       "    </tr>\n",
       "    <tr>\n",
       "      <th>16</th>\n",
       "      <td>kön</td>\n",
       "      <td>1.637923</td>\n",
       "    </tr>\n",
       "    <tr>\n",
       "      <th>17</th>\n",
       "      <td>h3_kusk</td>\n",
       "      <td>1.463131</td>\n",
       "    </tr>\n",
       "    <tr>\n",
       "      <th>18</th>\n",
       "      <td>h2_kusk</td>\n",
       "      <td>1.428589</td>\n",
       "    </tr>\n",
       "    <tr>\n",
       "      <th>19</th>\n",
       "      <td>bana</td>\n",
       "      <td>1.373374</td>\n",
       "    </tr>\n",
       "    <tr>\n",
       "      <th>20</th>\n",
       "      <td>h5_odds</td>\n",
       "      <td>1.186578</td>\n",
       "    </tr>\n",
       "    <tr>\n",
       "      <th>21</th>\n",
       "      <td>h5_kusk</td>\n",
       "      <td>1.118186</td>\n",
       "    </tr>\n",
       "    <tr>\n",
       "      <th>22</th>\n",
       "      <td>h1_kusk</td>\n",
       "      <td>1.101064</td>\n",
       "    </tr>\n",
       "    <tr>\n",
       "      <th>23</th>\n",
       "      <td>h2_bana</td>\n",
       "      <td>1.066620</td>\n",
       "    </tr>\n",
       "    <tr>\n",
       "      <th>24</th>\n",
       "      <td>h2_perf</td>\n",
       "      <td>1.003516</td>\n",
       "    </tr>\n",
       "    <tr>\n",
       "      <th>25</th>\n",
       "      <td>h4_bana</td>\n",
       "      <td>0.920241</td>\n",
       "    </tr>\n",
       "    <tr>\n",
       "      <th>26</th>\n",
       "      <td>h5_bana</td>\n",
       "      <td>0.862036</td>\n",
       "    </tr>\n",
       "    <tr>\n",
       "      <th>27</th>\n",
       "      <td>h1_bana</td>\n",
       "      <td>0.859484</td>\n",
       "    </tr>\n",
       "    <tr>\n",
       "      <th>28</th>\n",
       "      <td>h1_dist</td>\n",
       "      <td>0.755008</td>\n",
       "    </tr>\n",
       "    <tr>\n",
       "      <th>29</th>\n",
       "      <td>h2_pris</td>\n",
       "      <td>0.699206</td>\n",
       "    </tr>\n",
       "    <tr>\n",
       "      <th>30</th>\n",
       "      <td>h1_pris</td>\n",
       "      <td>0.641027</td>\n",
       "    </tr>\n",
       "    <tr>\n",
       "      <th>31</th>\n",
       "      <td>h3_bana</td>\n",
       "      <td>0.629698</td>\n",
       "    </tr>\n",
       "    <tr>\n",
       "      <th>32</th>\n",
       "      <td>delta2</td>\n",
       "      <td>0.628272</td>\n",
       "    </tr>\n",
       "    <tr>\n",
       "      <th>33</th>\n",
       "      <td>h4_dist</td>\n",
       "      <td>0.619648</td>\n",
       "    </tr>\n",
       "    <tr>\n",
       "      <th>34</th>\n",
       "      <td>delta1</td>\n",
       "      <td>0.599685</td>\n",
       "    </tr>\n",
       "    <tr>\n",
       "      <th>35</th>\n",
       "      <td>h1_spår</td>\n",
       "      <td>0.461597</td>\n",
       "    </tr>\n",
       "    <tr>\n",
       "      <th>36</th>\n",
       "      <td>h5_pris</td>\n",
       "      <td>0.417473</td>\n",
       "    </tr>\n",
       "    <tr>\n",
       "      <th>37</th>\n",
       "      <td>delta3</td>\n",
       "      <td>0.410690</td>\n",
       "    </tr>\n",
       "    <tr>\n",
       "      <th>38</th>\n",
       "      <td>h3_spår</td>\n",
       "      <td>0.401012</td>\n",
       "    </tr>\n",
       "    <tr>\n",
       "      <th>39</th>\n",
       "      <td>h3_dist</td>\n",
       "      <td>0.395001</td>\n",
       "    </tr>\n",
       "  </tbody>\n",
       "</table>\n",
       "</div>"
      ],
      "text/plain": [
       "   Feature Id  Importances\n",
       "0        häst     9.630990\n",
       "1          kr     7.602864\n",
       "2       datum     7.324576\n",
       "3        pris     6.632094\n",
       "4        kusk     5.873598\n",
       "5        spår     5.648440\n",
       "6     h1_odds     5.567155\n",
       "7     h2_odds     4.124140\n",
       "8        dist     4.008371\n",
       "9       ålder     3.388386\n",
       "10    h1_perf     2.659745\n",
       "11    h1_plac     2.630195\n",
       "12    h3_odds     2.445611\n",
       "13    h4_odds     2.272202\n",
       "14  lopp_dist     1.908773\n",
       "15    h2_plac     1.901879\n",
       "16        kön     1.637923\n",
       "17    h3_kusk     1.463131\n",
       "18    h2_kusk     1.428589\n",
       "19       bana     1.373374\n",
       "20    h5_odds     1.186578\n",
       "21    h5_kusk     1.118186\n",
       "22    h1_kusk     1.101064\n",
       "23    h2_bana     1.066620\n",
       "24    h2_perf     1.003516\n",
       "25    h4_bana     0.920241\n",
       "26    h5_bana     0.862036\n",
       "27    h1_bana     0.859484\n",
       "28    h1_dist     0.755008\n",
       "29    h2_pris     0.699206\n",
       "30    h1_pris     0.641027\n",
       "31    h3_bana     0.629698\n",
       "32     delta2     0.628272\n",
       "33    h4_dist     0.619648\n",
       "34     delta1     0.599685\n",
       "35    h1_spår     0.461597\n",
       "36    h5_pris     0.417473\n",
       "37     delta3     0.410690\n",
       "38    h3_spår     0.401012\n",
       "39    h3_dist     0.395001"
      ]
     },
     "metadata": {},
     "execution_count": 72
    }
   ],
   "metadata": {}
  },
  {
   "cell_type": "code",
   "execution_count": 73,
   "source": [
    "cb.best_score_"
   ],
   "outputs": [
    {
     "output_type": "execute_result",
     "data": {
      "text/plain": [
       "{'learn': {'Accuracy:use_weights=false': 0.7707133997010274,\n",
       "  'Precision:use_weights=false': 0.2467298150654037,\n",
       "  'Recall:use_weights=false': 0.806036069193964,\n",
       "  'Logloss:use_weights=true': 0.4792279785597136,\n",
       "  'Accuracy:use_weights=true': 0.7863734171958425,\n",
       "  'Logloss:use_weights=false': 0.4847853602671395,\n",
       "  'Logloss': 0.4792279785597136,\n",
       "  'Precision:use_weights=true': 0.7759249239558584,\n",
       "  'Recall:use_weights=true': 0.806036069193964,\n",
       "  'F1:use_weights=false': 0.37772982304704367,\n",
       "  'F1:use_weights=true': 0.790492885598547,\n",
       "  'Accuracy': 0.7863734171958425},\n",
       " 'validation': {'Accuracy:use_weights=false': 0.7566071939700411,\n",
       "  'Precision:use_weights=false': 0.17205138186064617,\n",
       "  'Recall:use_weights=false': 0.8541202672605791,\n",
       "  'Logloss:use_weights=true': 0.6288930796085968,\n",
       "  'Accuracy:use_weights=true': 0.6489616670491436,\n",
       "  'AUC': 0.7026075313861987,\n",
       "  'Logloss:use_weights=false': 0.5194062316339202,\n",
       "  'Logloss': 0.6288930796085968,\n",
       "  'Precision:use_weights=true': 0.6871968657754753,\n",
       "  'Recall:use_weights=true': 0.8541202672605791,\n",
       "  'F1:use_weights=false': 0.2549754831266225,\n",
       "  'F1:use_weights=true': 0.6795925177255291,\n",
       "  'Accuracy': 0.6489616670491436}}"
      ]
     },
     "metadata": {},
     "execution_count": 73
    }
   ],
   "metadata": {}
  }
 ],
 "metadata": {
  "interpreter": {
   "hash": "5eb2e0c23f8e38f19a3cfe8ad2d7bbb895a86b1e106b247f2b169180d03d2047"
  },
  "kernelspec": {
   "name": "python3",
   "display_name": "Python 3.8.11 64-bit ('base': conda)"
  },
  "language_info": {
   "name": "python",
   "version": "3.8.11",
   "mimetype": "text/x-python",
   "codemirror_mode": {
    "name": "ipython",
    "version": 3
   },
   "pygments_lexer": "ipython3",
   "nbconvert_exporter": "python",
   "file_extension": ".py"
  },
  "orig_nbformat": 2
 },
 "nbformat": 4,
 "nbformat_minor": 2
}