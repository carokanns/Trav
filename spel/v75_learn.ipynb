{
 "cells": [
  {
   "cell_type": "markdown",
   "metadata": {},
   "source": [
    "# Learning models and meta model with TimeSeriesSplit\n",
    "### kolla artiklar om stacking, cv för stacking samt cv för stacking av timeseries \n",
    "- https://machinelearningmastery.com/implementing-stacking-scratch-python/   (Även kod i Pieces)  \n",
    "Även allmänt om stacking ensembles  \n",
    "- https://machinelearningmastery.com/essence-of-stacking-ensembles-for-machine-learning/  \n",
    "Slutligen CV för Timeseries stacking  (se kod i Pieces)  \n",
    "- https://datascience.stackexchange.com/questions/41378/how-to-apply-stacking-cross-validation-for-time-series-data"
   ]
  },
  {
   "cell_type": "markdown",
   "metadata": {},
   "source": [
    "Beskrivning:  \n",
    "- gör webscrape av omgång(ar) i omg_att_spela_link.csv\n",
    "- concat nya_lopp med all_data och spara\n",
    "- Lägg undan validate (V) för meta-modellen (20% av all_data)\n",
    "- tscv = TimeSeriesSplit(n_splits=5) för all_data\n",
    "- for splits 1-5 learn all previous split and predict next split concatenatate stepwise this will create one predict series for each model  \n",
    "- create a stack with models predictions and learn meta model\n",
    "- Final train on models with all data except the V\n",
    "- predict on V, build stack and test the meta model\n",
    "- finally learn meta model on p1-p5 plus V\n",
    " \n"
   ]
  },
  {
   "cell_type": "markdown",
   "metadata": {},
   "source": [
    "# Generella funktioner"
   ]
  },
  {
   "cell_type": "code",
   "execution_count": 1,
   "metadata": {},
   "outputs": [
    {
     "name": "stdout",
     "output_type": "stream",
     "text": [
      "END\n"
     ]
    }
   ],
   "source": [
    "# moduler\n",
    "from sklearn.ensemble import RandomForestRegressor\n",
    "import sys\n",
    "import pandas as pd\n",
    "import numpy as np\n",
    "import pickle\n",
    "from catboost import CatBoostClassifier, Pool, cv\n",
    "from IPython.display import display\n",
    "pd.set_option('display.width', 200)\n",
    "pd.set_option('display.max_columns', 200)\n",
    "from sklearn.model_selection import TimeSeriesSplit\n",
    "\n",
    "sys.path.append(\n",
    "    'C:\\\\Users\\\\peter\\\\Documents\\\\MyProjects\\\\PyProj\\\\Trav\\\\spel\\\\')\n",
    "\n",
    "# sys.path.append('C:\\\\Users\\\\peter\\\\Documents\\\\MyProjects\\\\PyProj\\\\Trav\\\\spel\\\\modeller\\\\')\n",
    "import V75_scraping as vs\n",
    "\n",
    "import typ as tp\n",
    "\n",
    "pref = ''   #'../'"
   ]
  },
  {
   "cell_type": "markdown",
   "metadata": {},
   "source": [
    "Web scraping"
   ]
  },
  {
   "cell_type": "code",
   "execution_count": 2,
   "metadata": {},
   "outputs": [],
   "source": [
    "def v75_scraping():\n",
    "    df, strukna = vs.v75_scraping(history=True, resultat=True, headless=True)\n",
    "    \n",
    "    for f in ['häst','bana', 'kusk', 'h1_kusk', 'h2_kusk', 'h3_kusk', 'h4_kusk', 'h5_kusk', 'h1_bana', 'h2_bana', 'h3_bana', 'h4_bana', 'h5_bana']:\n",
    "        df[f] = df[f].str.lower()\n",
    "    return df\n",
    "\n",
    "# v75_scraping()"
   ]
  },
  {
   "cell_type": "markdown",
   "metadata": {},
   "source": [
    "Preparera data"
   ]
  },
  {
   "cell_type": "code",
   "execution_count": 3,
   "metadata": {},
   "outputs": [],
   "source": [
    "def remove_features(df_, remove_mer=[]):\n",
    "    df = df_.copy()\n",
    "    df.drop(['startnr', 'vodds', 'podds', 'bins', 'h1_dat',\n",
    "             'h2_dat', 'h3_dat', 'h4_dat', 'h5_dat'], axis=1, inplace=True)\n",
    "    if remove_mer:\n",
    "        df.drop(remove_mer, axis=1, inplace=True)\n",
    "\n",
    "    return df"
   ]
  },
  {
   "cell_type": "code",
   "execution_count": 4,
   "metadata": {},
   "outputs": [],
   "source": [
    "\n",
    "# Förbered för learning\n",
    "def förbered(df,meta_procent):\n",
    "    # Följande datum saknar avd==5 och kan inte användas\n",
    "    saknas = ['2015-08-15', '2016-08-13', '2017-08-12']\n",
    "    df = df[~df.datum.isin(saknas)]\n",
    "    X = df.copy()\n",
    "    X.drop('plac', axis=1, inplace=True)\n",
    "    \n",
    "    # läs in FEATURES.txt\n",
    "    with open(pref+'FEATURES.txt', 'r',encoding='utf-8') as f:    \n",
    "        features = f.read().splitlines()\n",
    "     \n",
    "    X=X[features]\n",
    "    \n",
    "    assert len(features) == len(X.columns), f'features {len(features)} and X.columns {len(X.columns)} are not the same length'   \n",
    "    assert set(features) == set(X.columns), f'features {set(features)} and X.columns {set(X.columns)} are not the same'\n",
    "    \n",
    "    # X=remove_features(X)\n",
    "    \n",
    "    y = (df.plac == 1)*1   # plac 1 eller 0\n",
    "\n",
    "    for f in ['häst', 'bana', 'kusk', 'h1_kusk', 'h2_kusk', 'h3_kusk', 'h4_kusk', 'h5_kusk', 'h1_bana', 'h2_bana', 'h3_bana', 'h4_bana', 'h5_bana']:\n",
    "        X[f] = X[f].str.lower()\n",
    "\n",
    "    X.reset_index(drop=True, inplace=True)\n",
    "    y.reset_index(drop=True, inplace=True)\n",
    "   \n",
    "    meta_antal = int(len(X.datum.unique())*meta_procent)\n",
    "    meta_datum = X.datum.unique()[-meta_antal:]\n",
    "    X_val = X.loc[X.datum.isin(meta_datum)]\n",
    "    y_val = y[X_val.index]\n",
    "    X=X.loc[~X.datum.isin(meta_datum)]\n",
    "    y=y.loc[X.index]\n",
    "    \n",
    "    return X, y, X_val, y_val\n"
   ]
  },
  {
   "cell_type": "code",
   "execution_count": 5,
   "metadata": {},
   "outputs": [],
   "source": [
    "# modellerna\n",
    "#              namn, ant_hästar, proba, Kelly,  motst_ant, motst_diff, ant_favoriter,   only_clear, streck\n",
    "typ6 = tp.Typ('typ6', True,       True, False,     0,       False,          0,            False,    True)\n",
    "typ1 = tp.Typ('typ1', False,      True, False,     2,       True,           2,            True,     False)\n",
    "typ9 = tp.Typ('typ9', True,       True, True,      2,       True,           2,            True,     True)\n",
    "typ16= tp.Typ('typ16',True,       True, True,      2,       True,           2,            False,    True)\n",
    "\n",
    "typer = [typ6, typ1, typ9, typ16]\n"
   ]
  },
  {
   "cell_type": "code",
   "execution_count": 6,
   "metadata": {},
   "outputs": [],
   "source": [
    "# Skapa ett Kelly-värde baserat på streck omvandlat till odds\n",
    "def kelly(proba, streck, odds):  # proba = prob winning, streck i % = streck\n",
    "    with open(pref+'rf_streck_odds.pkl', 'rb') as f:\n",
    "        rf = pickle.load(f)\n",
    "\n",
    "    if odds is None:\n",
    "        o = rf.predict(streck.copy())\n",
    "    else:\n",
    "        o = rf.predict(streck.copy())\n",
    "\n",
    "    # for each values > 40 in odds set to 1\n",
    "    o[o > 40] = 1\n",
    "    return (o*proba - (1-proba))/o\n"
   ]
  },
  {
   "cell_type": "code",
   "execution_count": 7,
   "metadata": {},
   "outputs": [],
   "source": [
    "def skapa_stack_learning(X_, y, save=True):\n",
    "    X=X_.copy()\n",
    "    stacked_data = pd.DataFrame()\n",
    "    for typ in typer:\n",
    "            nr = typ.name[3:]\n",
    "            stacked_data['proba'+nr] = typ.predict(X)\n",
    "            stacked_data['kelly' + nr] = kelly(stacked_data['proba' + nr], X[['streck']], None)\n",
    "\n",
    "    print(stacked_data.columns)\n",
    "    assert len(stacked_data) == len(y), f'stacked_data {len(stacked_data)} and y {len(y)} should have same length'\n",
    "    return stacked_data,y   # enbart stack-info\n"
   ]
  },
  {
   "cell_type": "markdown",
   "metadata": {},
   "source": [
    "Skapa data till meta model learning mha TimeSeriesSplit"
   ]
  },
  {
   "cell_type": "code",
   "execution_count": 8,
   "metadata": {},
   "outputs": [],
   "source": [
    "# TimeSeriesSplit learning\n",
    "def TS_learning(X_,y,typer, n_splits=5,learn_models=True):\n",
    "    X=X_.copy()\n",
    "    # learn_models=True betyder att vi både gör en learning och skapar en stack\n",
    "    # learn_models=False betyder att vi bara skapar en stack\n",
    "    print('shape X', X.shape)\n",
    "    print('shape y', y.shape)\n",
    "    ts = TimeSeriesSplit(n_splits=n_splits)\n",
    "    stacked_data=pd.DataFrame(columns=['proba6', 'proba1', 'proba9', 'proba16', 'kelly6', 'kelly1', 'kelly9', 'kelly16','y'])\n",
    "        \n",
    "    for enum,(train_index, test_index) in enumerate(ts.split(X,y)):\n",
    "        print('shape of X', X.shape, 'shape of X_train', X.iloc[train_index].shape, 'shape of X_test', X.iloc[test_index].shape)\n",
    "        X_train = X.iloc[train_index]\n",
    "        y_train = y.iloc[train_index]\n",
    "        X_test = X.iloc[test_index]\n",
    "        y_test = y.iloc[test_index]\n",
    "        temp_df = pd.DataFrame()\n",
    "        temp_df['y'] =  y_test\n",
    "        for typ in typer:\n",
    "            print(typ.name, enum)\n",
    "            if learn_models:\n",
    "                typ.learn(X_train, y_train, X_test, y_test)\n",
    "                \n",
    "            nr = typ.name[3:]\n",
    "            this_proba=typ.predict(X_test)\n",
    "            \n",
    "            temp_df['proba'+nr] = this_proba\n",
    "\n",
    "            this_kelly=kelly(this_proba, X_test[['streck']], None)\n",
    "            temp_df['kelly' + nr] = this_kelly\n",
    "        stacked_data = pd.concat([stacked_data, temp_df],ignore_index=True)\n",
    "        stacked_data.y = stacked_data.y.astype(int)\n",
    "    \n",
    "    return stacked_data    \n",
    "### stacked_data = TS_learning(typer) #for testing"
   ]
  },
  {
   "cell_type": "markdown",
   "metadata": {},
   "source": [
    "Meta model learning"
   ]
  },
  {
   "cell_type": "code",
   "execution_count": 9,
   "metadata": {},
   "outputs": [],
   "source": [
    "##############################################################\n",
    "#                   RidgeClassifier                          #\n",
    "##############################################################\n",
    "def learn_meta_ridge_model(X, y,  class_weight='balanced', save=True):\n",
    "    from sklearn.linear_model import RidgeClassifier\n",
    "    \n",
    "    ridge_model = RidgeClassifier(class_weight=class_weight, random_state=2022)\n",
    "    ridge_model.fit(X,y)\n",
    "    # pickle save stacking\n",
    "    if save:\n",
    "        with open(pref+'modeller/meta_ridge_model.model', 'wb') as f:\n",
    "            pickle.dump(ridge_model, f)\n",
    "    \n",
    "    return ridge_model\n",
    "\n",
    "##############################################################\n",
    "#            RandomForestClassifier                          #\n",
    "##############################################################\n",
    "def learn_meta_rf_model(X, y,  save=True,\n",
    "                     n_estimators=100, \n",
    "                     max_depth=None,\n",
    "                     min_samples_split=2, \n",
    "                     min_samples_leaf=1, \n",
    "                     max_features='auto', \n",
    "                     max_leaf_nodes=None,\n",
    "                     max_samples=None,\n",
    "                     oob=False):\n",
    "    from sklearn.ensemble import RandomForestClassifier\n",
    "\n",
    "    meta_model = RandomForestClassifier(\n",
    "        class_weight='balanced',    #{0:1,1:10},\n",
    "        oob_score=oob, verbose=1, n_jobs=8, random_state=2022,\n",
    "        max_depth=max_depth,\n",
    "        n_estimators=n_estimators, \n",
    "        min_samples_split=min_samples_split,\n",
    "        min_samples_leaf=min_samples_leaf,\n",
    "        max_features=max_features,\n",
    "        max_leaf_nodes=max_leaf_nodes,\n",
    "max_samples=max_samples,)\n",
    "    \n",
    "    meta_model.fit(X, y)\n",
    "    if oob:\n",
    "        print('OOB_score', meta_model.oob_score_)   # 0.9430916552667579\n",
    "        \n",
    "    # pickle save stacking\n",
    "    if save:\n",
    "        with open(pref+'modeller/meta_rf_model.model', 'wb') as f:\n",
    "            pickle.dump(meta_model, f)\n",
    "\n",
    "    return meta_model\n",
    "\n",
    "def predict_meta_ridge_model(X,ridge_model):\n",
    "    return ridge_model._predict_proba_lr(X)\n"
   ]
  },
  {
   "cell_type": "code",
   "execution_count": 10,
   "metadata": {},
   "outputs": [],
   "source": [
    "def concat_data(df_all, df_ny,save=True):\n",
    "    df_ny=df_ny[df_all.columns]\n",
    "    df_all = pd.concat([df_all, df_ny])\n",
    "    # remove duplicates\n",
    "    all_shape=df_all.shape\n",
    "    \n",
    "    #drop duplicates for datum,avd,häst only\n",
    "    df_all = df_all.drop_duplicates(subset=['datum','avd','häst'])\n",
    "    assert df_all.shape[0]+90 > all_shape[0], f'{df_all.shape[0]+90} should be more than {all_shape[0]}'\n",
    "    assert df_all.shape[1] == all_shape[1], f'{df_all.shape[1]} should be {all_shape[1]}'\n",
    "    if save==True:\n",
    "        df_all.to_csv(pref+'all_data.csv',index=False)\n",
    "    return df_all"
   ]
  },
  {
   "cell_type": "markdown",
   "metadata": {},
   "source": [
    "Make the learning"
   ]
  },
  {
   "cell_type": "code",
   "execution_count": 11,
   "metadata": {},
   "outputs": [],
   "source": [
    "if False:   # True: with scraping\n",
    "    df_ny = v75_scraping()\n",
    "    df_all = pd.read_csv(pref+'all_data.csv')\n",
    "    df_all = concat_data(df_all.copy(), df_ny, save=False)\n",
    "    print(df_all.datum.iloc[-1])\n",
    "    df_all.shape\n",
    "else:  # no scraping\n",
    "    df_all = pd.read_csv(pref+'all_data.csv')"
   ]
  },
  {
   "cell_type": "code",
   "execution_count": 12,
   "metadata": {},
   "outputs": [
    {
     "name": "stdout",
     "output_type": "stream",
     "text": [
      "X shape (35772, 78) y shape (35772,)\n",
      "X_val shape (8902, 78) y_val shape (8902,)\n",
      "shape X (35772, 78)\n",
      "shape y (35772,)\n",
      "shape of X (35772, 78) shape of X_train (5962, 78) shape of X_test (5962, 78)\n",
      "typ6 0\n",
      "typ1 0\n",
      "typ9 0\n",
      "typ16 0\n",
      "shape of X (35772, 78) shape of X_train (11924, 78) shape of X_test (5962, 78)\n",
      "typ6 1\n",
      "typ1 1\n",
      "typ9 1\n",
      "typ16 1\n",
      "shape of X (35772, 78) shape of X_train (17886, 78) shape of X_test (5962, 78)\n",
      "typ6 2\n",
      "typ1 2\n",
      "typ9 2\n",
      "typ16 2\n",
      "shape of X (35772, 78) shape of X_train (23848, 78) shape of X_test (5962, 78)\n",
      "typ6 3\n",
      "typ1 3\n",
      "typ9 3\n",
      "typ16 3\n",
      "shape of X (35772, 78) shape of X_train (29810, 78) shape of X_test (5962, 78)\n",
      "typ6 4\n",
      "typ1 4\n",
      "typ9 4\n",
      "typ16 4\n"
     ]
    }
   ],
   "source": [
    "\n",
    "X, y, X_val, y_val = förbered(df_all, meta_procent=0.2)\n",
    "print('X shape',X.shape,'y shape',y.shape)\n",
    "print('X_val shape',X_val.shape,'y_val shape',y_val.shape)\n",
    "\n",
    "# learn models and produce the stacked data\n",
    "stacked_data = TS_learning(X,y,typer)   \n"
   ]
  },
  {
   "cell_type": "code",
   "execution_count": 13,
   "metadata": {},
   "outputs": [],
   "source": [
    "# learn meta_model\n",
    "# meta_model=learn_meta_rf_model(stacked_data.drop(['y'], axis=1), stacked_data['y']) # don't use RandomForestClassifier\n",
    "meta_model=learn_meta_ridge_model(stacked_data.drop(['y'], axis=1), stacked_data['y'], class_weight=None) # use RidgeClassifier"
   ]
  },
  {
   "cell_type": "markdown",
   "metadata": {},
   "source": [
    "Testa mot validatation data (X_val och y_val)"
   ]
  },
  {
   "cell_type": "code",
   "execution_count": 14,
   "metadata": {},
   "outputs": [
    {
     "name": "stdout",
     "output_type": "stream",
     "text": [
      "Index(['proba6', 'kelly6', 'proba1', 'kelly1', 'proba9', 'kelly9', 'proba16', 'kelly16'], dtype='object')\n"
     ]
    }
   ],
   "source": [
    "# create the stack\n",
    "stacked_meta_val, y_val = skapa_stack_learning(X_val, y_val)\n",
    "stacked_meta_val['meta'] = predict_meta_ridge_model(stacked_meta_val, ridge_model=meta_model)[:,1]\n",
    "stacked_meta_val['y'] = y_val.values\n",
    "stacked_meta_val['avd'] = X_val.avd.values\n",
    "\n",
    "def confusion_matrix_graph(y_true, y_pred, title='Confusion matrix'):\n",
    "    # confusion matrix graph\n",
    "    from sklearn.metrics import confusion_matrix\n",
    "    cm = confusion_matrix(y_true=y_true, y_pred=y_pred)\n",
    "    # make a graph \n",
    "    \n",
    "    import seaborn as sns\n",
    "    import matplotlib.pyplot as plt\n",
    "    sns.heatmap(cm, annot=True, fmt=\".2f\", linewidths=.5, square=True, cmap='Blues_r')\n",
    "    sns.set(font_scale=2.0)\n",
    "    # plt.figure(figsize=(10,10))\n",
    "    #increase font size\n",
    "    plt.rcParams['font.size'] = 20\n",
    "    plt.ylabel('True label')\n",
    "    plt.xlabel('Predicted label')\n",
    "    plt.title(title)\n",
    "    plt.show()\n",
    "    \n",
    "def scores(y_true, y_pred):    \n",
    "    # what is the AUC score?\n",
    "    from sklearn.metrics import roc_auc_score\n",
    "    print('AUC',roc_auc_score(y_true, y_pred),'  ')\n",
    "    # and the F1 score\n",
    "    from sklearn.metrics import f1_score\n",
    "    print('F1',f1_score(y_true, y_pred),'  ')\n",
    "    #accuracy\n",
    "    from sklearn.metrics import accuracy_score\n",
    "    print('Acc',accuracy_score(y_true, y_pred), '  ')\n"
   ]
  },
  {
   "cell_type": "code",
   "execution_count": 25,
   "metadata": {},
   "outputs": [
    {
     "name": "stdout",
     "output_type": "stream",
     "text": [
      "Treshold: 0.2813\n"
     ]
    },
    {
     "data": {
      "image/png": "[encoded data removed]",
      "text/plain": [
       "<Figure size 432x288 with 2 Axes>"
      ]
     },
     "metadata": {},
     "output_type": "display_data"
    },
    {
     "name": "stdout",
     "output_type": "stream",
     "text": [
      "AUC 0.7091901088830587   \n",
      "F1 0.3450920245398773   \n",
      "Acc 0.8081330038193665   \n",
      "2.4870815547068075\n"
     ]
    }
   ],
   "source": [
    "# tresh=0.2813\n",
    "typ='meta'\n",
    "for tresh in np.arange(0.1,0.5,0.0001):\n",
    "    cost=12*sum(stacked_meta_val[typ]>tresh)/len(stacked_meta_val)\n",
    "    if cost<2.5:\n",
    "        break\n",
    "tresh=round(tresh,4)\n",
    "print(f'Treshold: {tresh}')\n",
    "confusion_matrix_graph(stacked_meta_val['y'], (stacked_meta_val[typ]>tresh).astype(int), f'{typ} treshold={tresh}')\n",
    "scores(stacked_meta_val['y'], (stacked_meta_val[typ]>tresh))\n",
    "print(12*sum(stacked_meta_val[typ]>tresh)/len(stacked_meta_val))\n"
   ]
  },
  {
   "cell_type": "code",
   "execution_count": 22,
   "metadata": {},
   "outputs": [
    {
     "name": "stdout",
     "output_type": "stream",
     "text": [
      "Treshold: 0.132\n",
      "\n"
     ]
    },
    {
     "data": {
      "image/png": "[encoded data removed]",
      "text/plain": [
       "<Figure size 432x288 with 2 Axes>"
      ]
     },
     "metadata": {},
     "output_type": "display_data"
    },
    {
     "name": "stdout",
     "output_type": "stream",
     "text": [
      "AUC 0.7158660540474909   \n",
      "F1 0.3516819571865444   \n",
      "Acc 0.8094810155021344   \n",
      "2.497865648168951\n"
     ]
    }
   ],
   "source": [
    "# tresh=0.132\n",
    "typ='proba6'\n",
    "for tresh in np.arange(0.1,0.5,0.001):\n",
    "    cost=12*sum(stacked_meta_val[typ]>tresh)/len(stacked_meta_val)\n",
    "    if cost<2.5:\n",
    "        break\n",
    "    \n",
    "tresh = round(tresh,4)    \n",
    "print(f'Treshold: {tresh}\\n')\n",
    "confusion_matrix_graph(stacked_meta_val['y'], (stacked_meta_val[typ]>tresh).astype(int), f'{typ} treshold={tresh}')\n",
    "scores(stacked_meta_val['y'], (stacked_meta_val[typ]>tresh))\n",
    "print(12*sum(stacked_meta_val[typ]>tresh)/len(stacked_meta_val))"
   ]
  },
  {
   "cell_type": "markdown",
   "metadata": {},
   "source": [
    "# Final learn on all data"
   ]
  },
  {
   "cell_type": "code",
   "execution_count": 26,
   "metadata": {},
   "outputs": [
    {
     "name": "stdout",
     "output_type": "stream",
     "text": [
      "shape X (35772, 78)\n",
      "shape y (35772,)\n",
      "shape of X (35772, 78) shape of X_train (5962, 78) shape of X_test (5962, 78)\n",
      "typ6 0\n",
      "typ1 0\n",
      "typ9 0\n",
      "typ16 0\n",
      "shape of X (35772, 78) shape of X_train (11924, 78) shape of X_test (5962, 78)\n",
      "typ6 1\n",
      "typ1 1\n",
      "typ9 1\n",
      "typ16 1\n",
      "shape of X (35772, 78) shape of X_train (17886, 78) shape of X_test (5962, 78)\n",
      "typ6 2\n",
      "typ1 2\n",
      "typ9 2\n",
      "typ16 2\n",
      "shape of X (35772, 78) shape of X_train (23848, 78) shape of X_test (5962, 78)\n",
      "typ6 3\n",
      "typ1 3\n",
      "typ9 3\n",
      "typ16 3\n",
      "shape of X (35772, 78) shape of X_train (29810, 78) shape of X_test (5962, 78)\n",
      "typ6 4\n",
      "typ1 4\n",
      "typ9 4\n",
      "typ16 4\n"
     ]
    }
   ],
   "source": [
    "# learn the models on all data\n",
    "stacked_data = TS_learning(X,y,typer,learn_models=True)"
   ]
  },
  {
   "cell_type": "code",
   "execution_count": 27,
   "metadata": {},
   "outputs": [],
   "source": [
    "# meta_model=learn_meta_rf_model(stacked_data.drop(['y'], axis=1), stacked_data['y'])     \n",
    "\n",
    "meta_model=learn_meta_ridge_model(stacked_data.drop(['y'], axis=1), stacked_data['y'],class_weight=None)    "
   ]
  },
  {
   "cell_type": "code",
   "execution_count": 28,
   "metadata": {},
   "outputs": [
    {
     "name": "stdout",
     "output_type": "stream",
     "text": [
      "8902\n",
      "Treshold: 0.208\n"
     ]
    },
    {
     "data": {
      "image/png": "[encoded data removed]",
      "text/plain": [
       "<Figure size 432x288 with 2 Axes>"
      ]
     },
     "metadata": {},
     "output_type": "display_data"
    },
    {
     "name": "stdout",
     "output_type": "stream",
     "text": [
      "AUC 0.6276045453367014   \n",
      "F1 0.2578664620107444   \n",
      "Acc 0.7827454504605706   \n",
      "2.4843855313412715\n"
     ]
    }
   ],
   "source": [
    "### LogisticRegression ###\n",
    "from sklearn.linear_model import LogisticRegression\n",
    "# apply logistic regression on the stacked data\n",
    "logreg = LogisticRegression(solver='lbfgs',\n",
    "                            class_weight='balanced',\n",
    "                                multi_class='auto',\n",
    "                                random_state=2022,\n",
    "                                max_iter=1000)\n",
    "new_model = logreg.fit(stacked_data.drop(['y'], axis=1), stacked_data['y'])\n",
    "\n",
    "# print(stacked_meta_val.iloc[:,:-3]  )\n",
    "pred = new_model.predict_proba(stacked_meta_val.iloc[:,:-3] )[:,1]\n",
    "# pred = new_model.predict(stacked_meta_val.iloc[:,:-3] )\n",
    "\n",
    "print(stacked_meta_val.shape[0])\n",
    "for tresh in np.arange(0.1,0.5,0.001):\n",
    "    cost=12*sum(pred>tresh)/len(stacked_meta_val)\n",
    "    if cost<2.5:\n",
    "        break\n",
    "    \n",
    "tresh = round(tresh,4)\n",
    "print(f'Treshold: {tresh}')\n",
    "typ='newLR'\n",
    "confusion_matrix_graph(stacked_meta_val['y'], pred>tresh, f'{typ} treshold={tresh}')\n",
    "scores(stacked_meta_val['y'], pred>tresh)\n",
    "# tresh=0\n",
    "# confusion_matrix_graph(stacked_meta_val['y'], pred, f'{typ} treshold={tresh}')\n",
    "# scores(stacked_meta_val['y'], pred)\n",
    "print(12*sum(pred>tresh)/len(stacked_meta_val))\n"
   ]
  }
 ],
 "metadata": {
  "interpreter": {
   "hash": "3d733caf4ffc39d0fbd9a2ba54ef4b7d515956d8048931f8241efe3827fb2d1f"
  },
  "kernelspec": {
   "display_name": "Python 3.9.7 ('base')",
   "language": "python",
   "name": "python3"
  },
  "language_info": {
   "codemirror_mode": {
    "name": "ipython",
    "version": 3
   },
   "file_extension": ".py",
   "mimetype": "text/x-python",
   "name": "python",
   "nbconvert_exporter": "python",
   "pygments_lexer": "ipython3",
   "version": "3.9.7"
  },
  "orig_nbformat": 4
 },
 "nbformat": 4,
 "nbformat_minor": 2
}
