{
 "metadata": {
  "language_info": {
   "codemirror_mode": {
    "name": "ipython",
    "version": 3
   },
   "file_extension": ".py",
   "mimetype": "text/x-python",
   "name": "python",
   "nbconvert_exporter": "python",
   "pygments_lexer": "ipython3",
   "version": "3.8.5-final"
  },
  "orig_nbformat": 2,
  "kernelspec": {
   "name": "python385jvsc74a57bd0b3ba2566441a7c06988d0923437866b63cedc61552a5af99d1f4fb67d367b25f",
   "display_name": "Python 3.8.5 64-bit (conda)"
  }
 },
 "nbformat": 4,
 "nbformat_minor": 2,
 "cells": [
  {
   "source": [
    "# Testa olika metoder för feature reduction"
   ],
   "cell_type": "markdown",
   "metadata": {}
  },
  {
   "source": [
    "## 1. Feature Importance - ger inget om man behåller streck\n",
    "## 2. PCA"
   ],
   "cell_type": "markdown",
   "metadata": {}
  },
  {
   "cell_type": "code",
   "execution_count": 1,
   "metadata": {},
   "outputs": [
    {
     "output_type": "stream",
     "name": "stdout",
     "text": [
      "Requirement already satisfied: lightgbm in c:\\programdata\\anaconda3\\lib\\site-packages (3.1.1)\nRequirement already satisfied: scikit-learn!=0.22.0 in c:\\users\\peter\\appdata\\roaming\\python\\python38\\site-packages (from lightgbm) (0.24.1)\nRequirement already satisfied: numpy in c:\\programdata\\anaconda3\\lib\\site-packages (from lightgbm) (1.19.2)\nRequirement already satisfied: wheel in c:\\programdata\\anaconda3\\lib\\site-packages (from lightgbm) (0.35.1)\nRequirement already satisfied: scipy in c:\\programdata\\anaconda3\\lib\\site-packages (from lightgbm) (1.5.2)\nRequirement already satisfied: joblib>=0.11 in c:\\programdata\\anaconda3\\lib\\site-packages (from scikit-learn!=0.22.0->lightgbm) (0.17.0)\nRequirement already satisfied: threadpoolctl>=2.0.0 in c:\\programdata\\anaconda3\\lib\\site-packages (from scikit-learn!=0.22.0->lightgbm) (2.1.0)\n"
     ]
    }
   ],
   "source": [
    "!pip install lightgbm"
   ]
  },
  {
   "cell_type": "code",
   "execution_count": 2,
   "metadata": {},
   "outputs": [],
   "source": [
    "import pandas as pd \n",
    "import numpy as np \n",
    "from catboost import CatBoostClassifier,Pool,cv,utils\n"
   ]
  },
  {
   "cell_type": "code",
   "execution_count": 3,
   "metadata": {},
   "outputs": [
    {
     "output_type": "stream",
     "name": "stdout",
     "text": [
      "\nSystem:\n    python: 3.8.5 (default, Sep  3 2020, 21:29:08) [MSC v.1916 64 bit (AMD64)]\nexecutable: C:\\ProgramData\\Anaconda3\\python.exe\n   machine: Windows-10-10.0.19041-SP0\n\nPython dependencies:\n          pip: 20.2.4\n   setuptools: 50.3.1.post20201107\n      sklearn: 0.24.1\n        numpy: 1.19.2\n        scipy: 1.5.2\n       Cython: 0.29.21\n       pandas: 1.1.3\n   matplotlib: 3.3.2\n       joblib: 0.17.0\nthreadpoolctl: 2.1.0\n\nBuilt with OpenMP: True\n"
     ]
    }
   ],
   "source": [
    "# !pip3 install sklearn_pandas==2.0.4\n",
    "# !pip3 install catboost==0.24.4\n",
    "# !pip uninstall scikit-learn -y\n",
    "# !pip3 install scikit-learn==0.24.1\n",
    "import sklearn\n",
    "sklearn.show_versions()"
   ]
  },
  {
   "cell_type": "code",
   "execution_count": 4,
   "metadata": {},
   "outputs": [],
   "source": [
    "def comp_new_features(df):\n",
    "    ### delta ###\n",
    "    def delta(dat1, dat2): # delta är dat1-dat2\n",
    "        dat1 = pd.to_datetime(dat1)\n",
    "        dat2 = pd.to_datetime(dat2)\n",
    "        delta= dat1-dat2\n",
    "        return delta.dt.days\n",
    "    \n",
    "    df['delta0']=delta(df.datum.copy(),df.h1_dat.copy())\n",
    "    df['delta1']=delta(df.h1_dat, df.h2_dat)\n",
    "    df['delta2']=delta(df.h2_dat, df.h3_dat)\n",
    "    df['delta3']=delta(df.h3_dat, df.h4_dat)\n",
    "    df['delta4']=delta(df.h4_dat, df.h5_dat)\n",
    "    \n",
    "    ### performance ###\n",
    "    df['h1_perf'] = (30-df.h1_plac*2)*df.h1_pris\n",
    "    df['h2_perf'] = (30-df.h2_plac*2)*df.h2_pris\n",
    "    df['h3_perf'] = (30-df.h3_plac*2)*df.h3_pris\n",
    "    df['h4_perf'] = (30-df.h4_plac*2)*df.h4_pris\n",
    "    df['h5_perf'] = (30-df.h5_plac*2)*df.h5_pris\n",
    "\n",
    "    return df"
   ]
  },
  {
   "cell_type": "code",
   "execution_count": 5,
   "metadata": {},
   "outputs": [],
   "source": [
    "def check_unique(df):\n",
    "    for feat in df:\n",
    "        if len(df[feat].unique())==1:\n",
    "            df.drop(feat,axis=1,inplace=True)\n",
    "    return df       \n",
    "   "
   ]
  },
  {
   "cell_type": "code",
   "execution_count": 6,
   "metadata": {},
   "outputs": [],
   "source": [
    "def check_corr(df):\n",
    "    df.corr()\n",
    "    return df"
   ]
  },
  {
   "cell_type": "code",
   "execution_count": 7,
   "metadata": {},
   "outputs": [],
   "source": [
    "def remove_features(df,remove_mer=[]):\n",
    "    #remove_mer=['h5_perf','h5_auto','h4_perf','h4_auto', 'h3_perf', 'h2_perf']\n",
    "    df.drop(['avd','vodds','podds','h1_dat','h2_dat','h3_dat','h4_dat','h5_dat'],axis=1,inplace=True)\n",
    "    df.drop(remove_mer,axis=1,inplace=True)\n",
    "    \n",
    "    df=check_unique(df.copy())\n",
    "    df=check_corr(df.copy())\n",
    "    return df"
   ]
  },
  {
   "cell_type": "code",
   "execution_count": 8,
   "metadata": {},
   "outputs": [],
   "source": [
    "def spara(model,test_pool,results):\n",
    "    dic=model.eval_metrics(test_pool,['Recall','F1','AUC','Accuracy','Precision'])\n",
    "    dic['best']=model.get_feature_importance(prettified=True)['Feature Id'][0]\n",
    "    dic['worst']=model.get_feature_importance(prettified=True)['Feature Id'].iloc[-1]\n",
    "    results.loc[len(results),:]=[None,None,None,None,None,None,None]\n",
    "    results.loc[len(results)-1,:] = [np.max(dic['Recall']),np.max(dic['F1']),np.max(dic['AUC']),np.max(dic['Accuracy']),np.max(dic['Precision']),dic['best'],dic['worst']]\n",
    "    print('       Recall  F1   AUC   Precision Accuracy')\n",
    "    print('mean:',round(np.mean(results['Recall']),4),round(np.mean(results['F1']),4),round(np.mean(results['AUC']),4),\n",
    "          round(np.mean(results['Accuracy']),4),round(np.mean(results['Precision']),4))\n",
    "    print('std: ',round(np.std(results['Recall']),4),round(np.std(results['F1']),4),round(np.std(results['AUC']),4),\n",
    "          round(np.std(results['Accuracy']),4),round(np.std(results['Precision']),4))\n",
    "    print(f\"best={dic['best']} worst={dic['worst']}\")\n",
    "    return results\n"
   ]
  },
  {
   "cell_type": "code",
   "execution_count": 9,
   "metadata": {},
   "outputs": [],
   "source": [
    "def handle_cat_features(df,cat):\n",
    "    for c in cat:\n",
    "        df.loc[df[c].isna()][c] = 'UNK'\n",
    "\n",
    "    df['start']=(df.start=='AUTOSTART').astype(bool)\n",
    "    return df\n",
    "\n",
    "\n",
    "def one_split(df,fr_dat):\n",
    "\n",
    "    print(f'len(df)={len(df)}')\n",
    "    \n",
    "    X_train = df.loc[df.datum<fr_dat].copy()\n",
    "    y_train = X_train.plac==1\n",
    "    X_train.drop(['datum','plac'],axis=1,inplace=True)\n",
    "    X_test = df.loc[df.datum==fr_dat].copy()\n",
    "    y_test = X_test.plac==1\n",
    "    X_test.drop(['datum','plac'],axis=1,inplace=True)\n",
    "    return X_train,X_test,y_train,y_test\n",
    "        "
   ]
  },
  {
   "cell_type": "code",
   "execution_count": 10,
   "metadata": {},
   "outputs": [],
   "source": [
    "\n",
    "def run_catB(model,train_pool,test_pool): \n",
    "    model.fit(train_pool,eval_set=test_pool, use_best_model=True, verbose=50) \n",
    "    model\n",
    "\n",
    "def estimator_loop(df,cat_features): \n",
    "    results = pd.DataFrame(columns=['Recall','AUC','F1','Precision','Accuracy','best','worst'])\n",
    "    model = CatBoostClassifier(iterations= 1000, auto_class_weights= 'Balanced', \n",
    "            eval_metric= 'Recall', loss_function= 'Logloss', early_stopping_rounds= 100,\n",
    "            random_seed= 2021)\n",
    "\n",
    "    alla_datum = df.datum.unique()\n",
    "    alla_datum = np.sort(alla_datum)\n",
    "    cut_ix = int(len(alla_datum)*0.75)\n",
    "    print(len(alla_datum[cut_ix:]))\n",
    "    for nr,datum in enumerate(alla_datum[cut_ix:]):\n",
    "        print(nr,'av',len(alla_datum[cut_ix:]))\n",
    "        X_train,X_test,y_train,y_test = one_split(df,datum)\n",
    "    \n",
    "        # print('X_train',X_train,'\\ny_train',y_train)\n",
    "        train_pool = Pool(data=X_train, label=y_train,cat_features=cat_features)\n",
    "        test_pool = Pool(data=X_test, label=y_test,cat_features=cat_features)\n",
    "        run_catB(model,train_pool, test_pool)\n",
    "\n",
    "        results=spara(model,test_pool,results)\n",
    "        \n",
    "    return results\n"
   ]
  },
  {
   "cell_type": "code",
   "execution_count": 11,
   "metadata": {},
   "outputs": [],
   "source": [
    "def feature_types(X):\n",
    "    cat_features = X.select_dtypes('O').columns.to_list()\n",
    "    int_features = X.select_dtypes('int64').columns.to_list()\n",
    "    float_features = X.select_dtypes(float).columns.to_list()\n",
    "    \n",
    "    return cat_features,int_features,float_features"
   ]
  },
  {
   "cell_type": "code",
   "execution_count": null,
   "metadata": {},
   "outputs": [],
   "source": []
  },
  {
   "cell_type": "code",
   "execution_count": 12,
   "metadata": {
    "tags": []
   },
   "outputs": [],
   "source": [
    "df=pd.read_csv('all_data.csv')\n",
    "results = pd.DataFrame(columns=['AUC','Accuracy','F1','best','worst'])\n",
    "\n",
    "#### min egen cv loop ####\n",
    "import time\n",
    "start = time.time()\n",
    "\n",
    "# sortera på datum, avd\n",
    "df.sort_values(by=['datum','avd'],inplace=True)\n",
    "\n",
    "# addera features\n",
    "data = comp_new_features(df)\n",
    "\n",
    "# ta bort alla features som inte kan användas och som jag inte vill ha\n",
    "data = remove_features(data,remove_mer=[])\n",
    "cat_features,int_features,float_features=feature_types(data.drop('datum',axis=1))\n",
    "data=handle_cat_features(data,cat_features)"
   ]
  },
  {
   "cell_type": "code",
   "execution_count": 13,
   "metadata": {
    "tags": [
     "outputPrepend"
    ]
   },
   "outputs": [
    {
     "output_type": "stream",
     "name": "stdout",
     "text": [
      "8 0.7458 0.7072 0.739\n",
      "std:  0.1543 0.0894 0.0998 0.058 0.0829\n",
      "best=streck worst=h5_perf\n",
      "91 av 124\n",
      "len(df)=40104\n",
      "Learning rate set to 0.0775\n",
      "0:\tlearn: 0.8512089\ttest: 1.0000000\tbest: 1.0000000 (0)\ttotal: 109ms\tremaining: 1m 48s\n",
      "50:\tlearn: 0.7765034\ttest: 1.0000000\tbest: 1.0000000 (0)\ttotal: 6.4s\tremaining: 1m 59s\n",
      "100:\tlearn: 0.7895226\ttest: 1.0000000\tbest: 1.0000000 (0)\ttotal: 13.2s\tremaining: 1m 57s\n",
      "Stopped by overfitting detector  (100 iterations wait)\n",
      "\n",
      "bestTest = 1\n",
      "bestIteration = 0\n",
      "\n",
      "Shrink model to first 1 iterations.\n",
      "       Recall  F1   AUC   Precision Accuracy\n",
      "mean: 0.7997 0.7749 0.7469 0.7076 0.74\n",
      "std:  0.1549 0.0895 0.0998 0.0578 0.083\n",
      "best=streck worst=h5_perf\n",
      "92 av 124\n",
      "len(df)=40104\n",
      "Learning rate set to 0.077544\n",
      "0:\tlearn: 0.7015156\ttest: 0.4285714\tbest: 0.4285714 (0)\ttotal: 40.8ms\tremaining: 40.8s\n",
      "50:\tlearn: 0.7884318\ttest: 0.5714286\tbest: 0.7142857 (5)\ttotal: 6.47s\tremaining: 2m\n",
      "100:\tlearn: 0.7930715\ttest: 0.5714286\tbest: 0.7142857 (5)\ttotal: 13.3s\tremaining: 1m 58s\n",
      "Stopped by overfitting detector  (100 iterations wait)\n",
      "\n",
      "bestTest = 0.7142857143\n",
      "bestIteration = 5\n",
      "\n",
      "Shrink model to first 6 iterations.\n",
      "       Recall  F1   AUC   Precision Accuracy\n",
      "mean: 0.7988 0.7745 0.7462 0.707 0.7392\n",
      "std:  0.1543 0.0892 0.0995 0.0578 0.0829\n",
      "best=streck worst=h5_perf\n",
      "93 av 124\n",
      "len(df)=40104\n",
      "Learning rate set to 0.077586\n",
      "0:\tlearn: 0.7342593\ttest: 1.0000000\tbest: 1.0000000 (0)\ttotal: 121ms\tremaining: 2m 1s\n",
      "50:\tlearn: 0.7858025\ttest: 0.8571429\tbest: 1.0000000 (0)\ttotal: 5.81s\tremaining: 1m 48s\n",
      "100:\tlearn: 0.7922840\ttest: 0.8571429\tbest: 1.0000000 (0)\ttotal: 12.6s\tremaining: 1m 52s\n",
      "Stopped by overfitting detector  (100 iterations wait)\n",
      "\n",
      "bestTest = 1\n",
      "bestIteration = 0\n",
      "\n",
      "Shrink model to first 1 iterations.\n",
      "       Recall  F1   AUC   Precision Accuracy\n",
      "mean: 0.8009 0.7753 0.7477 0.7079 0.7407\n",
      "std:  0.1548 0.089 0.1 0.0582 0.0837\n",
      "best=streck worst=h5_perf\n",
      "94 av 124\n",
      "len(df)=40104\n",
      "Learning rate set to 0.077631\n",
      "0:\tlearn: 0.8500154\ttest: 1.0000000\tbest: 1.0000000 (0)\ttotal: 161ms\tremaining: 2m 41s\n",
      "50:\tlearn: 0.7825685\ttest: 1.0000000\tbest: 1.0000000 (0)\ttotal: 6.49s\tremaining: 2m\n",
      "100:\tlearn: 0.7924238\ttest: 1.0000000\tbest: 1.0000000 (0)\ttotal: 13.4s\tremaining: 1m 59s\n",
      "Stopped by overfitting detector  (100 iterations wait)\n",
      "\n",
      "bestTest = 1\n",
      "bestIteration = 0\n",
      "\n",
      "Shrink model to first 1 iterations.\n",
      "       Recall  F1   AUC   Precision Accuracy\n",
      "mean: 0.803 0.7766 0.7487 0.7082 0.7415\n",
      "std:  0.1554 0.0896 0.1 0.0579 0.0836\n",
      "best=streck worst=h5_perf\n",
      "95 av 124\n",
      "len(df)=40104\n",
      "Learning rate set to 0.077672\n",
      "0:\tlearn: 0.7904118\ttest: 1.0000000\tbest: 1.0000000 (0)\ttotal: 116ms\tremaining: 1m 55s\n",
      "50:\tlearn: 0.7876460\ttest: 1.0000000\tbest: 1.0000000 (0)\ttotal: 6.31s\tremaining: 1m 57s\n",
      "100:\tlearn: 0.7996312\ttest: 0.8571429\tbest: 1.0000000 (0)\ttotal: 13.2s\tremaining: 1m 57s\n",
      "Stopped by overfitting detector  (100 iterations wait)\n",
      "\n",
      "bestTest = 1\n",
      "bestIteration = 0\n",
      "\n",
      "Shrink model to first 1 iterations.\n",
      "       Recall  F1   AUC   Precision Accuracy\n",
      "mean: 0.8051 0.7775 0.7502 0.7092 0.7429\n",
      "std:  0.1558 0.0895 0.1005 0.0584 0.0843\n",
      "best=streck worst=h5_perf\n",
      "96 av 124\n",
      "len(df)=40104\n",
      "Learning rate set to 0.077713\n",
      "0:\tlearn: 0.7316774\ttest: 0.8571429\tbest: 0.8571429 (0)\ttotal: 126ms\tremaining: 2m 5s\n",
      "50:\tlearn: 0.7792088\ttest: 0.8571429\tbest: 0.8571429 (0)\ttotal: 6.47s\tremaining: 2m\n",
      "100:\tlearn: 0.7923950\ttest: 0.8571429\tbest: 0.8571429 (0)\ttotal: 13.4s\tremaining: 1m 59s\n",
      "Stopped by overfitting detector  (100 iterations wait)\n",
      "\n",
      "bestTest = 0.8571428571\n",
      "bestIteration = 0\n",
      "\n",
      "Shrink model to first 1 iterations.\n",
      "       Recall  F1   AUC   Precision Accuracy\n",
      "mean: 0.8056 0.7782 0.7508 0.7097 0.7435\n",
      "std:  0.1551 0.0893 0.1001 0.0584 0.084\n",
      "best=streck worst=h5_perf\n",
      "97 av 124\n",
      "len(df)=40104\n",
      "Learning rate set to 0.077756\n",
      "0:\tlearn: 0.7821297\ttest: 0.2857143\tbest: 0.2857143 (0)\ttotal: 96.3ms\tremaining: 1m 36s\n",
      "50:\tlearn: 0.7952876\ttest: 0.2857143\tbest: 0.2857143 (0)\ttotal: 6.64s\tremaining: 2m 3s\n",
      "100:\tlearn: 0.7977356\ttest: 0.2857143\tbest: 0.2857143 (0)\ttotal: 13.7s\tremaining: 2m 2s\n",
      "Stopped by overfitting detector  (100 iterations wait)\n",
      "\n",
      "bestTest = 0.2857142857\n",
      "bestIteration = 0\n",
      "\n",
      "Shrink model to first 1 iterations.\n",
      "       Recall  F1   AUC   Precision Accuracy\n",
      "mean: 0.8003 0.7752 0.7466 0.7068 0.7404\n",
      "std:  0.1629 0.0934 0.1078 0.0649 0.0892\n",
      "best=streck worst=h5_perf\n",
      "98 av 124\n",
      "len(df)=40104\n",
      "Learning rate set to 0.077796\n",
      "0:\tlearn: 0.7325191\ttest: 0.8571429\tbest: 0.8571429 (0)\ttotal: 120ms\tremaining: 1m 59s\n",
      "50:\tlearn: 0.7838168\ttest: 0.8571429\tbest: 0.8571429 (0)\ttotal: 6.38s\tremaining: 1m 58s\n",
      "100:\tlearn: 0.7951145\ttest: 0.8571429\tbest: 0.8571429 (0)\ttotal: 13.2s\tremaining: 1m 57s\n",
      "Stopped by overfitting detector  (100 iterations wait)\n",
      "\n",
      "bestTest = 0.8571428571\n",
      "bestIteration = 0\n",
      "\n",
      "Shrink model to first 1 iterations.\n",
      "       Recall  F1   AUC   Precision Accuracy\n",
      "mean: 0.8009 0.7761 0.747 0.707 0.7407\n",
      "std:  0.1622 0.0932 0.1073 0.0646 0.0888\n",
      "best=streck worst=h5_perf\n",
      "99 av 124\n",
      "len(df)=40104\n",
      "Learning rate set to 0.077839\n",
      "0:\tlearn: 0.8500914\ttest: 1.0000000\tbest: 1.0000000 (0)\ttotal: 110ms\tremaining: 1m 49s\n",
      "50:\tlearn: 0.7839732\ttest: 1.0000000\tbest: 1.0000000 (0)\ttotal: 6.45s\tremaining: 2m\n",
      "100:\tlearn: 0.7989031\ttest: 1.0000000\tbest: 1.0000000 (0)\ttotal: 13.1s\tremaining: 1m 56s\n",
      "Stopped by overfitting detector  (100 iterations wait)\n",
      "\n",
      "bestTest = 1\n",
      "bestIteration = 0\n",
      "\n",
      "Shrink model to first 1 iterations.\n",
      "       Recall  F1   AUC   Precision Accuracy\n",
      "mean: 0.8029 0.7771 0.7481 0.7074 0.7416\n",
      "std:  0.1626 0.0934 0.1074 0.0644 0.0889\n",
      "best=streck worst=h5_perf\n",
      "100 av 124\n",
      "len(df)=40104\n",
      "Learning rate set to 0.077882\n",
      "0:\tlearn: 0.8187899\ttest: 0.8571429\tbest: 0.8571429 (0)\ttotal: 117ms\tremaining: 1m 56s\n",
      "50:\tlearn: 0.7759197\ttest: 0.8571429\tbest: 0.8571429 (0)\ttotal: 6.56s\tremaining: 2m 2s\n",
      "100:\tlearn: 0.7902098\ttest: 0.8571429\tbest: 0.8571429 (0)\ttotal: 13s\tremaining: 1m 56s\n",
      "Stopped by overfitting detector  (100 iterations wait)\n",
      "\n",
      "bestTest = 0.8571428571\n",
      "bestIteration = 0\n",
      "\n",
      "Shrink model to first 1 iterations.\n",
      "       Recall  F1   AUC   Precision Accuracy\n",
      "mean: 0.8034 0.7772 0.7485 0.7076 0.7419\n",
      "std:  0.1619 0.0929 0.1069 0.0641 0.0884\n",
      "best=streck worst=h5_perf\n",
      "101 av 124\n",
      "len(df)=40104\n",
      "Learning rate set to 0.077922\n",
      "0:\tlearn: 0.7903519\ttest: 0.5714286\tbest: 0.5714286 (0)\ttotal: 135ms\tremaining: 2m 14s\n",
      "50:\tlearn: 0.7812500\ttest: 0.5714286\tbest: 0.5714286 (0)\ttotal: 6.25s\tremaining: 1m 56s\n",
      "100:\tlearn: 0.7894417\ttest: 0.5714286\tbest: 0.5714286 (0)\ttotal: 13.2s\tremaining: 1m 57s\n",
      "Stopped by overfitting detector  (100 iterations wait)\n",
      "\n",
      "bestTest = 0.5714285714\n",
      "bestIteration = 0\n",
      "\n",
      "Shrink model to first 1 iterations.\n",
      "       Recall  F1   AUC   Precision Accuracy\n",
      "mean: 0.8011 0.7757 0.747 0.7068 0.7405\n",
      "std:  0.1627 0.0936 0.1074 0.0642 0.0891\n",
      "best=streck worst=h5_perf\n",
      "102 av 124\n",
      "len(df)=40104\n",
      "Learning rate set to 0.077961\n",
      "0:\tlearn: 0.8434756\ttest: 1.0000000\tbest: 1.0000000 (0)\ttotal: 142ms\tremaining: 2m 22s\n",
      "50:\tlearn: 0.7850439\ttest: 0.8571429\tbest: 1.0000000 (0)\ttotal: 6.67s\tremaining: 2m 4s\n",
      "100:\tlearn: 0.7947321\ttest: 0.8571429\tbest: 1.0000000 (0)\ttotal: 13.6s\tremaining: 2m\n",
      "Stopped by overfitting detector  (100 iterations wait)\n",
      "\n",
      "bestTest = 1\n",
      "bestIteration = 0\n",
      "\n",
      "Shrink model to first 1 iterations.\n",
      "       Recall  F1   AUC   Precision Accuracy\n",
      "mean: 0.8031 0.7763 0.7479 0.707 0.7412\n",
      "std:  0.1631 0.0933 0.1073 0.064 0.0889\n",
      "best=streck worst=h5_perf\n",
      "103 av 124\n",
      "len(df)=40104\n",
      "Learning rate set to 0.078002\n",
      "0:\tlearn: 0.7586103\ttest: 0.5714286\tbest: 0.5714286 (0)\ttotal: 119ms\tremaining: 1m 58s\n",
      "50:\tlearn: 0.7897281\ttest: 0.5714286\tbest: 0.5714286 (0)\ttotal: 6.29s\tremaining: 1m 57s\n",
      "100:\tlearn: 0.7942598\ttest: 0.5714286\tbest: 0.5714286 (0)\ttotal: 12.9s\tremaining: 1m 55s\n",
      "Stopped by overfitting detector  (100 iterations wait)\n",
      "\n",
      "bestTest = 0.5714285714\n",
      "bestIteration = 0\n",
      "\n",
      "Shrink model to first 1 iterations.\n",
      "       Recall  F1   AUC   Precision Accuracy\n",
      "mean: 0.8008 0.7745 0.7466 0.7064 0.7402\n",
      "std:  0.1639 0.0945 0.1076 0.0639 0.089\n",
      "best=streck worst=h5_perf\n",
      "104 av 124\n",
      "len(df)=40104\n",
      "Learning rate set to 0.078045\n",
      "0:\tlearn: 0.8185107\ttest: 0.7142857\tbest: 0.7142857 (0)\ttotal: 111ms\tremaining: 1m 50s\n",
      "50:\tlearn: 0.7980103\ttest: 0.7142857\tbest: 0.7142857 (0)\ttotal: 6.09s\tremaining: 1m 53s\n",
      "100:\tlearn: 0.7974073\ttest: 0.7142857\tbest: 0.7142857 (0)\ttotal: 13.1s\tremaining: 1m 56s\n",
      "Stopped by overfitting detector  (100 iterations wait)\n",
      "\n",
      "bestTest = 0.7142857143\n",
      "bestIteration = 0\n",
      "\n",
      "Shrink model to first 1 iterations.\n",
      "       Recall  F1   AUC   Precision Accuracy\n",
      "mean: 0.8 0.7747 0.746 0.706 0.7397\n",
      "std:  0.1633 0.094 0.1073 0.0637 0.0888\n",
      "best=streck worst=h5_perf\n",
      "105 av 124\n",
      "len(df)=40104\n",
      "Learning rate set to 0.078087\n",
      "0:\tlearn: 0.8501805\ttest: 0.7142857\tbest: 0.7142857 (0)\ttotal: 118ms\tremaining: 1m 57s\n",
      "50:\tlearn: 0.7912154\ttest: 0.7142857\tbest: 0.7142857 (0)\ttotal: 6.12s\tremaining: 1m 53s\n",
      "100:\tlearn: 0.7981348\ttest: 0.7142857\tbest: 0.7142857 (0)\ttotal: 12.9s\tremaining: 1m 55s\n",
      "Stopped by overfitting detector  (100 iterations wait)\n",
      "\n",
      "bestTest = 0.7142857143\n",
      "bestIteration = 0\n",
      "\n",
      "Shrink model to first 1 iterations.\n",
      "       Recall  F1   AUC   Precision Accuracy\n",
      "mean: 0.7992 0.7743 0.7452 0.7052 0.7388\n",
      "std:  0.1627 0.0937 0.1071 0.064 0.0888\n",
      "best=streck worst=h5_perf\n",
      "106 av 124\n",
      "len(df)=40104\n",
      "Learning rate set to 0.07813\n",
      "0:\tlearn: 0.7568298\ttest: 0.8571429\tbest: 0.8571429 (0)\ttotal: 115ms\tremaining: 1m 54s\n",
      "50:\tlearn: 0.7781447\ttest: 0.8571429\tbest: 0.8571429 (0)\ttotal: 6.89s\tremaining: 2m 8s\n",
      "100:\tlearn: 0.7901531\ttest: 0.8571429\tbest: 0.8571429 (0)\ttotal: 14.4s\tremaining: 2m 8s\n",
      "Stopped by overfitting detector  (100 iterations wait)\n",
      "\n",
      "bestTest = 0.8571428571\n",
      "bestIteration = 0\n",
      "\n",
      "Shrink model to first 1 iterations.\n",
      "       Recall  F1   AUC   Precision Accuracy\n",
      "mean: 0.7997 0.7751 0.7458 0.7057 0.7393\n",
      "std:  0.1621 0.0936 0.1067 0.064 0.0886\n",
      "best=streck worst=h5_perf\n",
      "107 av 124\n",
      "len(df)=40104\n",
      "Learning rate set to 0.078171\n",
      "0:\tlearn: 0.7420611\ttest: 0.8571429\tbest: 0.8571429 (0)\ttotal: 153ms\tremaining: 2m 32s\n",
      "50:\tlearn: 0.7855003\ttest: 0.8571429\tbest: 0.8571429 (0)\ttotal: 6.52s\tremaining: 2m 1s\n",
      "100:\tlearn: 0.7971839\ttest: 0.8571429\tbest: 0.8571429 (0)\ttotal: 13.1s\tremaining: 1m 56s\n",
      "Stopped by overfitting detector  (100 iterations wait)\n",
      "\n",
      "bestTest = 0.8571428571\n",
      "bestIteration = 0\n",
      "\n",
      "Shrink model to first 1 iterations.\n",
      "       Recall  F1   AUC   Precision Accuracy\n",
      "mean: 0.8003 0.7755 0.7465 0.7065 0.74\n",
      "std:  0.1614 0.0933 0.1065 0.0642 0.0885\n",
      "best=streck worst=h5_perf\n",
      "108 av 124\n",
      "len(df)=40104\n",
      "Learning rate set to 0.078212\n",
      "0:\tlearn: 0.8188341\ttest: 0.7142857\tbest: 0.7142857 (0)\ttotal: 111ms\tremaining: 1m 51s\n",
      "50:\tlearn: 0.7931241\ttest: 0.5714286\tbest: 0.7142857 (0)\ttotal: 6.65s\tremaining: 2m 3s\n",
      "100:\tlearn: 0.7967115\ttest: 0.4285714\tbest: 0.7142857 (0)\ttotal: 13.8s\tremaining: 2m 2s\n",
      "Stopped by overfitting detector  (100 iterations wait)\n",
      "\n",
      "bestTest = 0.7142857143\n",
      "bestIteration = 0\n",
      "\n",
      "Shrink model to first 1 iterations.\n",
      "       Recall  F1   AUC   Precision Accuracy\n",
      "mean: 0.7995 0.7746 0.746 0.7061 0.7396\n",
      "std:  0.1609 0.0934 0.1061 0.064 0.0882\n",
      "best=streck worst=h5_perf\n",
      "109 av 124\n",
      "len(df)=40104\n",
      "Learning rate set to 0.078254\n",
      "0:\tlearn: 0.8499403\ttest: 1.0000000\tbest: 1.0000000 (0)\ttotal: 149ms\tremaining: 2m 28s\n",
      "50:\tlearn: 0.7843079\ttest: 1.0000000\tbest: 1.0000000 (0)\ttotal: 6.35s\tremaining: 1m 58s\n",
      "100:\tlearn: 0.7968377\ttest: 1.0000000\tbest: 1.0000000 (0)\ttotal: 13.3s\tremaining: 1m 58s\n",
      "Stopped by overfitting detector  (100 iterations wait)\n",
      "\n",
      "bestTest = 1\n",
      "bestIteration = 0\n",
      "\n",
      "Shrink model to first 1 iterations.\n",
      "       Recall  F1   AUC   Precision Accuracy\n",
      "mean: 0.8013 0.7758 0.7469 0.7063 0.7402\n",
      "std:  0.1613 0.0939 0.106 0.0637 0.088\n",
      "best=streck worst=h4_perf\n",
      "110 av 124\n",
      "len(df)=40104\n",
      "Learning rate set to 0.078294\n",
      "0:\tlearn: 0.7323608\ttest: 0.8571429\tbest: 0.8571429 (0)\ttotal: 122ms\tremaining: 2m 2s\n",
      "50:\tlearn: 0.7802918\ttest: 0.7142857\tbest: 0.8571429 (0)\ttotal: 6.8s\tremaining: 2m 6s\n",
      "100:\tlearn: 0.7895207\ttest: 0.5714286\tbest: 0.8571429 (0)\ttotal: 13.7s\tremaining: 2m 1s\n",
      "Stopped by overfitting detector  (100 iterations wait)\n",
      "\n",
      "bestTest = 0.8571428571\n",
      "bestIteration = 0\n",
      "\n",
      "Shrink model to first 1 iterations.\n",
      "       Recall  F1   AUC   Precision Accuracy\n",
      "mean: 0.8018 0.7761 0.7475 0.707 0.7408\n",
      "std:  0.1606 0.0935 0.1058 0.0639 0.0878\n",
      "best=streck worst=h5_perf\n",
      "111 av 124\n",
      "len(df)=40104\n",
      "Learning rate set to 0.07833\n",
      "0:\tlearn: 0.8502674\ttest: 1.0000000\tbest: 1.0000000 (0)\ttotal: 109ms\tremaining: 1m 48s\n",
      "50:\tlearn: 0.7863933\ttest: 0.7142857\tbest: 1.0000000 (0)\ttotal: 6.75s\tremaining: 2m 5s\n",
      "100:\tlearn: 0.7911468\ttest: 0.5714286\tbest: 1.0000000 (0)\ttotal: 13.5s\tremaining: 1m 59s\n",
      "Stopped by overfitting detector  (100 iterations wait)\n",
      "\n",
      "bestTest = 1\n",
      "bestIteration = 0\n",
      "\n",
      "Shrink model to first 1 iterations.\n",
      "       Recall  F1   AUC   Precision Accuracy\n",
      "mean: 0.8036 0.7759 0.7484 0.7072 0.7412\n",
      "std:  0.161 0.0931 0.1057 0.0636 0.0876\n",
      "best=streck worst=h5_perf\n",
      "112 av 124\n",
      "len(df)=40104\n",
      "Learning rate set to 0.078364\n",
      "0:\tlearn: 0.8188556\ttest: 0.7142857\tbest: 0.7142857 (0)\ttotal: 107ms\tremaining: 1m 46s\n",
      "50:\tlearn: 0.7826860\ttest: 0.7142857\tbest: 0.7142857 (0)\ttotal: 6.57s\tremaining: 2m 2s\n",
      "100:\tlearn: 0.7886155\ttest: 0.5714286\tbest: 0.7142857 (0)\ttotal: 13.4s\tremaining: 1m 58s\n",
      "Stopped by overfitting detector  (100 iterations wait)\n",
      "\n",
      "bestTest = 0.7142857143\n",
      "bestIteration = 0\n",
      "\n",
      "Shrink model to first 1 iterations.\n",
      "       Recall  F1   AUC   Precision Accuracy\n",
      "mean: 0.8028 0.7758 0.7479 0.7069 0.7409\n",
      "std:  0.1605 0.0927 0.1053 0.0634 0.0873\n",
      "best=streck worst=h4_perf\n",
      "113 av 124\n",
      "len(df)=40104\n",
      "Learning rate set to 0.07841\n",
      "0:\tlearn: 0.7446746\ttest: 0.7142857\tbest: 0.7142857 (0)\ttotal: 108ms\tremaining: 1m 47s\n",
      "50:\tlearn: 0.7896450\ttest: 0.7142857\tbest: 0.7142857 (0)\ttotal: 6.57s\tremaining: 2m 2s\n",
      "100:\tlearn: 0.7958580\ttest: 0.7142857\tbest: 0.7142857 (0)\ttotal: 13.4s\tremaining: 1m 59s\n",
      "Stopped by overfitting detector  (100 iterations wait)\n",
      "\n",
      "bestTest = 0.7142857143\n",
      "bestIteration = 0\n",
      "\n",
      "Shrink model to first 1 iterations.\n",
      "       Recall  F1   AUC   Precision Accuracy\n",
      "mean: 0.802 0.7756 0.7474 0.7067 0.7405\n",
      "std:  0.16 0.0923 0.105 0.0632 0.087\n",
      "best=streck worst=h5_perf\n",
      "114 av 124\n",
      "len(df)=40104\n",
      "Learning rate set to 0.078451\n",
      "0:\tlearn: 0.8148804\ttest: 1.0000000\tbest: 1.0000000 (0)\ttotal: 123ms\tremaining: 2m 3s\n",
      "50:\tlearn: 0.7832890\ttest: 1.0000000\tbest: 1.0000000 (0)\ttotal: 6.45s\tremaining: 1m 59s\n",
      "100:\tlearn: 0.7874225\ttest: 1.0000000\tbest: 1.0000000 (0)\ttotal: 13.5s\tremaining: 2m\n",
      "Stopped by overfitting detector  (100 iterations wait)\n",
      "\n",
      "bestTest = 1\n",
      "bestIteration = 0\n",
      "\n",
      "Shrink model to first 1 iterations.\n",
      "       Recall  F1   AUC   Precision Accuracy\n",
      "mean: 0.8037 0.7768 0.7485 0.7073 0.7415\n",
      "std:  0.1604 0.0928 0.1051 0.0632 0.0872\n",
      "best=streck worst=h5_perf\n",
      "115 av 124\n",
      "len(df)=40104\n",
      "Learning rate set to 0.078491\n",
      "0:\tlearn: 0.8506187\ttest: 0.7142857\tbest: 0.7142857 (0)\ttotal: 121ms\tremaining: 2m\n",
      "50:\tlearn: 0.7928698\ttest: 0.5714286\tbest: 0.7142857 (0)\ttotal: 5.8s\tremaining: 1m 47s\n",
      "100:\tlearn: 0.7934590\ttest: 0.5714286\tbest: 0.7142857 (0)\ttotal: 12.8s\tremaining: 1m 53s\n",
      "Stopped by overfitting detector  (100 iterations wait)\n",
      "\n",
      "bestTest = 0.7142857143\n",
      "bestIteration = 0\n",
      "\n",
      "Shrink model to first 1 iterations.\n",
      "       Recall  F1   AUC   Precision Accuracy\n",
      "mean: 0.803 0.7754 0.7478 0.7065 0.7405\n",
      "std:  0.1599 0.0937 0.105 0.0635 0.0875\n",
      "best=streck worst=h5_perf\n",
      "116 av 124\n",
      "len(df)=40104\n",
      "Learning rate set to 0.07853\n",
      "0:\tlearn: 0.7894737\ttest: 0.8571429\tbest: 0.8571429 (0)\ttotal: 72ms\tremaining: 1m 11s\n",
      "50:\tlearn: 0.7947662\ttest: 0.8571429\tbest: 0.8571429 (0)\ttotal: 6.33s\tremaining: 1m 57s\n",
      "100:\tlearn: 0.7980006\ttest: 0.8571429\tbest: 0.8571429 (0)\ttotal: 13.2s\tremaining: 1m 57s\n",
      "Stopped by overfitting detector  (100 iterations wait)\n",
      "\n",
      "bestTest = 0.8571428571\n",
      "bestIteration = 0\n",
      "\n",
      "Shrink model to first 1 iterations.\n",
      "       Recall  F1   AUC   Precision Accuracy\n",
      "mean: 0.8034 0.7756 0.7481 0.7067 0.7409\n",
      "std:  0.1593 0.0933 0.1046 0.0633 0.0872\n",
      "best=streck worst=h5_perf\n",
      "117 av 124\n",
      "len(df)=40104\n",
      "Learning rate set to 0.078573\n",
      "0:\tlearn: 0.7896127\ttest: 0.7142857\tbest: 0.7142857 (0)\ttotal: 97.8ms\tremaining: 1m 37s\n",
      "50:\tlearn: 0.7813967\ttest: 0.7142857\tbest: 0.7142857 (0)\ttotal: 6.15s\tremaining: 1m 54s\n",
      "100:\tlearn: 0.7899061\ttest: 0.7142857\tbest: 0.7142857 (0)\ttotal: 13.3s\tremaining: 1m 58s\n",
      "Stopped by overfitting detector  (100 iterations wait)\n",
      "\n",
      "bestTest = 0.7142857143\n",
      "bestIteration = 0\n",
      "\n",
      "Shrink model to first 1 iterations.\n",
      "       Recall  F1   AUC   Precision Accuracy\n",
      "mean: 0.8027 0.7753 0.7477 0.7065 0.7405\n",
      "std:  0.1588 0.0929 0.1043 0.063 0.0869\n",
      "best=streck worst=h5_perf\n",
      "118 av 124\n",
      "len(df)=40104\n",
      "Learning rate set to 0.078615\n",
      "0:\tlearn: 0.7572474\ttest: 0.8571429\tbest: 0.8571429 (0)\ttotal: 112ms\tremaining: 1m 51s\n",
      "50:\tlearn: 0.7844802\ttest: 1.0000000\tbest: 1.0000000 (1)\ttotal: 6.56s\tremaining: 2m 2s\n",
      "100:\tlearn: 0.7897511\ttest: 1.0000000\tbest: 1.0000000 (1)\ttotal: 13.8s\tremaining: 2m 2s\n",
      "Stopped by overfitting detector  (100 iterations wait)\n",
      "\n",
      "bestTest = 1\n",
      "bestIteration = 1\n",
      "\n",
      "Shrink model to first 2 iterations.\n",
      "       Recall  F1   AUC   Precision Accuracy\n",
      "mean: 0.8043 0.7761 0.7485 0.7068 0.7412\n",
      "std:  0.1592 0.093 0.1042 0.0629 0.0868\n",
      "best=streck worst=h5_perf\n",
      "119 av 124\n",
      "len(df)=40104\n",
      "Learning rate set to 0.078655\n",
      "0:\tlearn: 0.8173583\ttest: 0.4285714\tbest: 0.4285714 (0)\ttotal: 131ms\tremaining: 2m 11s\n",
      "50:\tlearn: 0.7884278\ttest: 0.4285714\tbest: 0.4285714 (0)\ttotal: 6.45s\tremaining: 2m\n",
      "100:\tlearn: 0.7971946\ttest: 0.2857143\tbest: 0.4285714 (0)\ttotal: 13.5s\tremaining: 2m\n",
      "Stopped by overfitting detector  (100 iterations wait)\n",
      "\n",
      "bestTest = 0.4285714286\n",
      "bestIteration = 0\n",
      "\n",
      "Shrink model to first 1 iterations.\n",
      "       Recall  F1   AUC   Precision Accuracy\n",
      "mean: 0.8012 0.7743 0.7463 0.7055 0.7399\n",
      "std:  0.1621 0.0946 0.1066 0.0642 0.0875\n",
      "best=streck worst=h5_perf\n",
      "120 av 124\n",
      "len(df)=40104\n",
      "Learning rate set to 0.078703\n",
      "0:\tlearn: 0.7028288\ttest: 0.4285714\tbest: 0.4285714 (0)\ttotal: 123ms\tremaining: 2m 2s\n",
      "50:\tlearn: 0.7774861\ttest: 0.5714286\tbest: 0.5714286 (1)\ttotal: 6.31s\tremaining: 1m 57s\n",
      "100:\tlearn: 0.7906095\ttest: 0.5714286\tbest: 0.5714286 (1)\ttotal: 13.1s\tremaining: 1m 56s\n",
      "Stopped by overfitting detector  (100 iterations wait)\n",
      "\n",
      "bestTest = 0.5714285714\n",
      "bestIteration = 1\n",
      "\n",
      "Shrink model to first 2 iterations.\n",
      "       Recall  F1   AUC   Precision Accuracy\n",
      "mean: 0.7993 0.7733 0.7452 0.7052 0.7391\n",
      "std:  0.1628 0.0949 0.1068 0.064 0.0876\n",
      "best=streck worst=h5_perf\n",
      "121 av 124\n",
      "len(df)=40104\n",
      "Learning rate set to 0.078743\n",
      "0:\tlearn: 0.7561118\ttest: 0.5714286\tbest: 0.5714286 (0)\ttotal: 33.9ms\tremaining: 33.8s\n",
      "50:\tlearn: 0.7729919\ttest: 0.5714286\tbest: 0.5714286 (0)\ttotal: 6.48s\tremaining: 2m\n",
      "100:\tlearn: 0.7840512\ttest: 0.7142857\tbest: 0.7142857 (92)\ttotal: 13.2s\tremaining: 1m 57s\n",
      "150:\tlearn: 0.8003492\ttest: 0.7142857\tbest: 0.7142857 (92)\ttotal: 19.7s\tremaining: 1m 50s\n",
      "Stopped by overfitting detector  (100 iterations wait)\n",
      "\n",
      "bestTest = 0.7142857143\n",
      "bestIteration = 92\n",
      "\n",
      "Shrink model to first 93 iterations.\n",
      "       Recall  F1   AUC   Precision Accuracy\n",
      "mean: 0.7986 0.7733 0.7449 0.7051 0.7388\n",
      "std:  0.1623 0.0945 0.1064 0.0638 0.0873\n",
      "best=streck worst=h5_spår\n",
      "122 av 124\n",
      "len(df)=40104\n",
      "Learning rate set to 0.078784\n",
      "0:\tlearn: 0.7879756\ttest: 0.7142857\tbest: 0.7142857 (0)\ttotal: 104ms\tremaining: 1m 44s\n",
      "50:\tlearn: 0.7836189\ttest: 0.7142857\tbest: 0.7142857 (0)\ttotal: 6.71s\tremaining: 2m 4s\n",
      "100:\tlearn: 0.7873947\ttest: 0.7142857\tbest: 0.7142857 (0)\ttotal: 13.7s\tremaining: 2m 1s\n",
      "Stopped by overfitting detector  (100 iterations wait)\n",
      "\n",
      "bestTest = 0.7142857143\n",
      "bestIteration = 0\n",
      "\n",
      "Shrink model to first 1 iterations.\n",
      "       Recall  F1   AUC   Precision Accuracy\n",
      "mean: 0.7979 0.7731 0.7444 0.7047 0.7383\n",
      "std:  0.1618 0.0942 0.1061 0.0636 0.0871\n",
      "best=streck worst=h5_perf\n",
      "123 av 124\n",
      "len(df)=40104\n",
      "Learning rate set to 0.078824\n",
      "0:\tlearn: 0.8168116\ttest: 0.8571429\tbest: 0.8571429 (0)\ttotal: 109ms\tremaining: 1m 49s\n",
      "50:\tlearn: 0.7831884\ttest: 0.7142857\tbest: 0.8571429 (0)\ttotal: 6.86s\tremaining: 2m 7s\n",
      "100:\tlearn: 0.7921739\ttest: 0.7142857\tbest: 0.8571429 (0)\ttotal: 13.6s\tremaining: 2m\n",
      "Stopped by overfitting detector  (100 iterations wait)\n",
      "\n",
      "bestTest = 0.8571428571\n",
      "bestIteration = 0\n",
      "\n",
      "Shrink model to first 1 iterations.\n",
      "       Recall  F1   AUC   Precision Accuracy\n",
      "mean: 0.7984 0.7737 0.7446 0.7046 0.7384\n",
      "std:  0.1613 0.0941 0.1057 0.0634 0.0868\n",
      "best=streck worst=h5_perf\n",
      "took 27.52 minutes to process\n"
     ]
    }
   ],
   "source": [
    "results = estimator_loop(data,cat_features)\n",
    "\n",
    "end = time.time()\n",
    "delta = end - start\n",
    "print(f'took {round(delta/60,2)} minutes to process')"
   ]
  },
  {
   "cell_type": "code",
   "execution_count": 15,
   "metadata": {
    "tags": []
   },
   "outputs": [
    {
     "output_type": "error",
     "ename": "NameError",
     "evalue": "name 'results1' is not defined",
     "traceback": [
      "\u001b[1;31m---------------------------------------------------------------------------\u001b[0m",
      "\u001b[1;31mNameError\u001b[0m                                 Traceback (most recent call last)",
      "\u001b[1;32m<ipython-input-15-343558bf0fd4>\u001b[0m in \u001b[0;36m<module>\u001b[1;34m\u001b[0m\n\u001b[0;32m      1\u001b[0m \u001b[1;32mfor\u001b[0m \u001b[0mx\u001b[0m \u001b[1;32min\u001b[0m \u001b[1;33m[\u001b[0m\u001b[1;34m'Recall'\u001b[0m\u001b[1;33m,\u001b[0m\u001b[1;34m'F1'\u001b[0m\u001b[1;33m,\u001b[0m\u001b[1;34m'AUC'\u001b[0m\u001b[1;33m,\u001b[0m\u001b[1;34m'Precision'\u001b[0m\u001b[1;33m,\u001b[0m\u001b[1;34m'Accuracy'\u001b[0m\u001b[1;33m]\u001b[0m\u001b[1;33m:\u001b[0m\u001b[1;33m\u001b[0m\u001b[1;33m\u001b[0m\u001b[0m\n\u001b[1;32m----> 2\u001b[1;33m     \u001b[0mlist\u001b[0m \u001b[1;33m=\u001b[0m \u001b[1;33m[\u001b[0m\u001b[0mnp\u001b[0m\u001b[1;33m.\u001b[0m\u001b[0mmean\u001b[0m\u001b[1;33m(\u001b[0m\u001b[0mresults\u001b[0m\u001b[1;33m[\u001b[0m\u001b[0mx\u001b[0m\u001b[1;33m]\u001b[0m\u001b[1;33m)\u001b[0m\u001b[1;33m,\u001b[0m\u001b[0mnp\u001b[0m\u001b[1;33m.\u001b[0m\u001b[0mmean\u001b[0m\u001b[1;33m(\u001b[0m\u001b[0mresults1\u001b[0m\u001b[1;33m[\u001b[0m\u001b[0mx\u001b[0m\u001b[1;33m]\u001b[0m\u001b[1;33m)\u001b[0m\u001b[1;33m,\u001b[0m\u001b[0mnp\u001b[0m\u001b[1;33m.\u001b[0m\u001b[0mmean\u001b[0m\u001b[1;33m(\u001b[0m\u001b[0mresults2\u001b[0m\u001b[1;33m[\u001b[0m\u001b[0mx\u001b[0m\u001b[1;33m]\u001b[0m\u001b[1;33m)\u001b[0m\u001b[1;33m,\u001b[0m\u001b[0mnp\u001b[0m\u001b[1;33m.\u001b[0m\u001b[0mmean\u001b[0m\u001b[1;33m(\u001b[0m\u001b[0mresults3\u001b[0m\u001b[1;33m[\u001b[0m\u001b[0mx\u001b[0m\u001b[1;33m]\u001b[0m\u001b[1;33m)\u001b[0m\u001b[1;33m,\u001b[0m\u001b[0mnp\u001b[0m\u001b[1;33m.\u001b[0m\u001b[0mmean\u001b[0m\u001b[1;33m(\u001b[0m\u001b[0mresults4\u001b[0m\u001b[1;33m[\u001b[0m\u001b[0mx\u001b[0m\u001b[1;33m]\u001b[0m\u001b[1;33m)\u001b[0m\u001b[1;33m,\u001b[0m\u001b[0mnp\u001b[0m\u001b[1;33m.\u001b[0m\u001b[0mmean\u001b[0m\u001b[1;33m(\u001b[0m\u001b[0mresults5\u001b[0m\u001b[1;33m[\u001b[0m\u001b[0mx\u001b[0m\u001b[1;33m]\u001b[0m\u001b[1;33m)\u001b[0m\u001b[1;33m,\u001b[0m\u001b[0mnp\u001b[0m\u001b[1;33m.\u001b[0m\u001b[0mmean\u001b[0m\u001b[1;33m(\u001b[0m\u001b[0mresults6\u001b[0m\u001b[1;33m[\u001b[0m\u001b[0mx\u001b[0m\u001b[1;33m]\u001b[0m\u001b[1;33m)\u001b[0m\u001b[1;33m]\u001b[0m\u001b[1;33m\u001b[0m\u001b[1;33m\u001b[0m\u001b[0m\n\u001b[0m\u001b[0;32m      3\u001b[0m     \u001b[0mprint\u001b[0m\u001b[1;33m(\u001b[0m\u001b[0mlist\u001b[0m\u001b[1;33m.\u001b[0m\u001b[0mindex\u001b[0m\u001b[1;33m(\u001b[0m\u001b[0mmax\u001b[0m\u001b[1;33m(\u001b[0m\u001b[0mlist\u001b[0m\u001b[1;33m)\u001b[0m\u001b[1;33m)\u001b[0m\u001b[1;33m)\u001b[0m\u001b[1;33m\u001b[0m\u001b[1;33m\u001b[0m\u001b[0m\n\u001b[0;32m      4\u001b[0m \u001b[1;33m\u001b[0m\u001b[0m\n\u001b[0;32m      5\u001b[0m \u001b[0mresults\u001b[0m\u001b[1;33m\u001b[0m\u001b[1;33m\u001b[0m\u001b[0m\n",
      "\u001b[1;31mNameError\u001b[0m: name 'results1' is not defined"
     ]
    }
   ],
   "source": [
    "for x in ['Recall','F1','AUC','Precision','Accuracy']:\n",
    "    list = [np.mean(results[x]),np.mean(results1[x]),np.mean(results2[x]),np.mean(results3[x]),np.mean(results4[x]),np.mean(results5[x]),np.mean(results6[x])]\n",
    "    print(list.index(max(list)))\n",
    "    \n",
    "results    \n"
   ]
  },
  {
   "source": [
    "## Kör en engångs körning utan iteration för att jämföra med PCA"
   ],
   "cell_type": "markdown",
   "metadata": {}
  },
  {
   "cell_type": "code",
   "execution_count": 17,
   "metadata": {},
   "outputs": [
    {
     "output_type": "stream",
     "name": "stdout",
     "text": [
      "startvecka 2019-08-22\n",
      "124\n",
      "Learning rate set to 0.073367\n",
      "0:\tlearn: 0.7578216\ttest: 0.7488479\tbest: 0.7488479 (0)\ttotal: 111ms\tremaining: 1m 50s\n",
      "50:\tlearn: 0.7937428\ttest: 0.7407834\tbest: 0.8122120 (4)\ttotal: 5.62s\tremaining: 1m 44s\n",
      "100:\tlearn: 0.8014677\ttest: 0.7039171\tbest: 0.8122120 (4)\ttotal: 11.8s\tremaining: 1m 45s\n",
      "Stopped by overfitting detector  (100 iterations wait)\n",
      "\n",
      "bestTest = 0.8122119816\n",
      "bestIteration = 4\n",
      "\n",
      "Shrink model to first 5 iterations.\n"
     ]
    }
   ],
   "source": [
    "model = CatBoostClassifier(iterations= 1000, auto_class_weights= 'Balanced', \n",
    "            eval_metric= 'Recall', loss_function= 'Logloss', early_stopping_rounds= 100,\n",
    "            random_seed= 2021)\n",
    "\n",
    "alla_datum = df.datum.unique()\n",
    "alla_datum = np.sort(alla_datum)\n",
    "cut_ix = int(len(alla_datum)*0.75)\n",
    "startvecka=alla_datum[cut_ix]\n",
    "print('startvecka',startvecka)\n",
    "print(len(alla_datum[cut_ix:]))\n",
    "X_train = data[data.datum<alla_datum[cut_ix]].copy()\n",
    "X_test = data[data.datum >= alla_datum[cut_ix]].copy()\n",
    "y_train = (X_train.plac==1)*1;X_train.drop(['datum','plac'],axis=1,inplace=True)\n",
    "y_test  = (X_test.plac==1)*1;X_test.drop(['datum','plac'],axis=1,inplace=True)\n",
    "cat_features,int_features,float_features =feature_types(X_train)\n",
    "# cat_features.remove('datum')\n",
    "\n",
    "train_pool = Pool(X_train,y_train,cat_features=cat_features)\n",
    "test_pool = Pool(X_test,y_test,cat_features=cat_features)\n",
    "X_train.shape,X_test.shape,y_train.shape,y_test.shape\n",
    "run_catB(model,train_pool, test_pool)\n"
   ]
  },
  {
   "cell_type": "code",
   "execution_count": 20,
   "metadata": {},
   "outputs": [
    {
     "output_type": "stream",
     "name": "stdout",
     "text": [
      "EJ PCA:\tAUC=0.7916\tAcc=0.7342\tF1=0.7517 \t Recall=0.8122\tPrecision=0.7228\n"
     ]
    },
    {
     "output_type": "execute_result",
     "data": {
      "text/plain": [
       "array([[6111, 3197],\n",
       "       [ 163,  705]], dtype=int64)"
      ]
     },
     "metadata": {},
     "execution_count": 20
    }
   ],
   "source": [
    "from sklearn.metrics import confusion_matrix\n",
    "#### JÄMFÖR RESULTAT MED PCA NEDAN  -  Slutsats: Skit i PCA!\n",
    "dic=model.eval_metrics(test_pool,['AUC','Accuracy','F1','Recall','Precision'])\n",
    "print(f\"EJ PCA:\\tAUC={round(np.max(dic['AUC']),4)}\\tAcc={round(np.max(dic['Accuracy']),4)}\\tF1={round(np.max(dic['F1']),4)} \\t Recall={round(np.max(dic['Recall']),4)}\\tPrecision={round(np.max(dic['Precision']),4)}\")\n",
    "confusion_matrix(y_test,model.predict(X_test))"
   ]
  },
  {
   "cell_type": "code",
   "execution_count": 23,
   "metadata": {},
   "outputs": [
    {
     "output_type": "stream",
     "name": "stdout",
     "text": [
      "<class 'pandas.core.frame.DataFrame'>\nInt64Index: 29928 entries, 0 to 29927\nData columns (total 67 columns):\n #   Column     Non-Null Count  Dtype  \n---  ------     --------------  -----  \n 0   bana       29928 non-null  object \n 1   häst       29928 non-null  object \n 2   kusk       29928 non-null  object \n 3   streck     29928 non-null  int64  \n 4   kr         29928 non-null  int64  \n 5   spår       29839 non-null  float64\n 6   dist       29928 non-null  int64  \n 7   lopp_dist  29928 non-null  int64  \n 8   start      29928 non-null  bool   \n 9   ålder      29928 non-null  int64  \n 10  kön        29928 non-null  object \n 11  pris       29928 non-null  float64\n 12  h1_kusk    29928 non-null  object \n 13  h1_bana    29928 non-null  object \n 14  h1_dist    29928 non-null  float64\n 15  h1_auto    29928 non-null  bool   \n 16  h1_spår    27574 non-null  float64\n 17  h1_plac    29859 non-null  float64\n 18  h1_pris    27343 non-null  float64\n 19  h1_odds    29785 non-null  float64\n 20  h1_kmtid   28887 non-null  float64\n 21  h2_kusk    29928 non-null  object \n 22  h2_bana    29928 non-null  object \n 23  h2_dist    29928 non-null  float64\n 24  h2_auto    29928 non-null  bool   \n 25  h2_spår    27266 non-null  float64\n 26  h2_plac    29814 non-null  float64\n 27  h2_pris    26945 non-null  float64\n 28  h2_odds    29764 non-null  float64\n 29  h2_kmtid   28674 non-null  float64\n 30  h3_kusk    29928 non-null  object \n 31  h3_bana    29928 non-null  object \n 32  h3_dist    29924 non-null  float64\n 33  h3_auto    29928 non-null  bool   \n 34  h3_spår    27029 non-null  float64\n 35  h3_plac    29782 non-null  float64\n 36  h3_pris    26656 non-null  float64\n 37  h3_odds    29714 non-null  float64\n 38  h3_kmtid   28641 non-null  float64\n 39  h4_kusk    29928 non-null  object \n 40  h4_bana    29928 non-null  object \n 41  h4_dist    29906 non-null  float64\n 42  h4_auto    29928 non-null  bool   \n 43  h4_spår    26789 non-null  float64\n 44  h4_plac    29711 non-null  float64\n 45  h4_pris    26330 non-null  float64\n 46  h4_odds    29620 non-null  float64\n 47  h4_kmtid   28566 non-null  float64\n 48  h5_kusk    29928 non-null  object \n 49  h5_bana    29928 non-null  object \n 50  h5_dist    29863 non-null  float64\n 51  h5_auto    29928 non-null  bool   \n 52  h5_spår    26606 non-null  float64\n 53  h5_plac    29554 non-null  float64\n 54  h5_pris    26063 non-null  float64\n 55  h5_odds    29452 non-null  float64\n 56  h5_kmtid   28385 non-null  float64\n 57  delta0     29928 non-null  int64  \n 58  delta1     29928 non-null  int64  \n 59  delta2     29924 non-null  float64\n 60  delta3     29906 non-null  float64\n 61  delta4     29863 non-null  float64\n 62  h1_perf    27340 non-null  float64\n 63  h2_perf    26945 non-null  float64\n 64  h3_perf    26656 non-null  float64\n 65  h4_perf    26330 non-null  float64\n 66  h5_perf    26063 non-null  float64\ndtypes: bool(6), float64(40), int64(7), object(14)\nmemory usage: 15.6+ MB\n"
     ]
    }
   ],
   "source": [
    "X_train.info()"
   ]
  },
  {
   "source": [
    "# gammalt"
   ],
   "cell_type": "markdown",
   "metadata": {}
  },
  {
   "cell_type": "code",
   "execution_count": null,
   "metadata": {},
   "outputs": [],
   "source": [
    "def catcv(X):\n",
    "    X_train, X_test, y_train, y_test = split_data(X)\n",
    "    cat_features, int_features, float_features = feature_types(X_train)\n",
    "    # cat_features= []\n",
    "    int_features=['kr', 'dist', 'lopp_dist', 'ålder']\n",
    "    selected_features = cat_features + float_features  +int_features\n",
    "    cv_pool = Pool(data=X_train[selected_features], label=y_train,cat_features=cat_features)\n",
    "    params = {'iterations': 2000, 'auto_class_weights': 'Balanced', \n",
    "            'eval_metric': 'Accuracy', 'loss_function': 'Logloss', 'early_stopping_rounds': 200,\n",
    "            'use_best_model': True, 'random_seed': 2021,\n",
    "            }\n",
    "\n",
    "    model = CatBoostClassifier( )\n",
    "    scores = cv(cv_pool, params, shuffle = False, fold_count = 30, type='TimeSeries', verbose = 50 )\n",
    "# catcv(X)"
   ]
  },
  {
   "cell_type": "code",
   "execution_count": 337,
   "metadata": {},
   "outputs": [],
   "source": [
    "def catfit(train_pool, test_pool):\n",
    "    model = CatBoostClassifier(  \n",
    "        iterations=2000, \n",
    "        auto_class_weights='Balanced',             \n",
    "        eval_metric = 'Recall',\n",
    "        loss_function = 'Logloss',\n",
    "        early_stopping_rounds=100,\n",
    "        random_seed=2021,\n",
    "        )\n",
    "\n",
    "    model.fit(train_pool,\n",
    "        eval_set=test_pool,\n",
    "        use_best_model=True,\n",
    "        #plot=True,\n",
    "        verbose = False,\n",
    "    )\n",
    "\n",
    "    return model"
   ]
  },
  {
   "source": [
    "\n",
    "Utom 'vodds','podds','h5_perf','h5_auto','h4_perf','h4_auto', 'h3_perf', 'h2_perf'   \n",
    "        AUC     F1  Accuracy  \n",
    "mean: 0.8225 0.7805 0.7795  \n",
    "std:  0.0887 0.0991 0.0827  \n",
    "  \n",
    "Utom 'vodds','podds','h5_perf','h5_auto','h4_perf','h4_auto', 'h3_perf', 'h2_perf', 'h1_perf'  \n",
    "        AUC     F1  Accuracy  \n",
    "mean: 0.8245 0.7777 0.7769  \n",
    "std:  0.0920 0.1028 0.0849  \n",
    "\n",
    " utom 'vodds','podds'  \n",
    "           AUC       F1    Accuracy    \n",
    "mean     0.8242    0.7767    0.7759  \n",
    "std      0.0889    0.1045    0.0876  \n",
    "\n",
    "Utom 'vodds','podds','h5_perf','h5_auto','h4_perf','h4_auto', 'h3_perf'   \n",
    "        AUC     F1  Accuracy  \n",
    "mean: 0.8226 0.7756 0.7753  \n",
    "std:  0.0897 0.1044 0.0869  \n",
    "\n",
    "Utom 'vodds','podds','h5_perf','h5_auto','h4_perf','h4_auto', 'h3_perf', 'h2_perf', 'h1_perf','delta4'   \n",
    "       AUC     F1  Accuracy  \n",
    "mean  0.8206 0.7762 0.775  \n",
    "std  0.09 0.1039 0.0865  \n",
    "\n",
    " "
   ],
   "cell_type": "markdown",
   "metadata": {}
  },
  {
   "source": [
    "## PCA ###"
   ],
   "cell_type": "markdown",
   "metadata": {}
  },
  {
   "cell_type": "code",
   "execution_count": 241,
   "metadata": {},
   "outputs": [
    {
     "output_type": "execute_result",
     "data": {
      "text/plain": [
       "Index(['datum', 'bana', 'häst', 'kusk', 'streck', 'kr', 'spår', 'dist',\n",
       "       'lopp_dist', 'start', 'ålder', 'kön', 'plac', 'pris', 'h1_kusk',\n",
       "       'h1_bana', 'h1_dist', 'h1_auto', 'h1_spår', 'h1_plac', 'h1_pris',\n",
       "       'h1_odds', 'h1_kmtid', 'h2_kusk', 'h2_bana', 'h2_dist', 'h2_auto',\n",
       "       'h2_spår', 'h2_plac', 'h2_pris', 'h2_odds', 'h2_kmtid', 'h3_kusk',\n",
       "       'h3_bana', 'h3_dist', 'h3_auto', 'h3_spår', 'h3_plac', 'h3_pris',\n",
       "       'h3_odds', 'h3_kmtid', 'h4_kusk', 'h4_bana', 'h4_dist', 'h4_auto',\n",
       "       'h4_spår', 'h4_plac', 'h4_pris', 'h4_odds', 'h4_kmtid', 'h5_kusk',\n",
       "       'h5_bana', 'h5_dist', 'h5_auto', 'h5_spår', 'h5_plac', 'h5_pris',\n",
       "       'h5_odds', 'h5_kmtid', 'delta0', 'delta1', 'delta2', 'delta3', 'delta4',\n",
       "       'h1_perf', 'h2_perf', 'h3_perf', 'h4_perf', 'h5_perf'],\n",
       "      dtype='object')"
      ]
     },
     "metadata": {},
     "execution_count": 241
    }
   ],
   "source": [
    "df.columns"
   ]
  },
  {
   "cell_type": "code",
   "execution_count": 245,
   "metadata": {},
   "outputs": [],
   "source": [
    "def omkodning(data,feat,mapTo):\n",
    "    omk=data[feat].map(mapTo)\n",
    "    omk.fillna(0,inplace=True)\n",
    "    return omk"
   ]
  },
  {
   "cell_type": "code",
   "execution_count": 246,
   "metadata": {},
   "outputs": [
    {
     "output_type": "stream",
     "name": "stdout",
     "text": [
      "1892\n[1463. 3835. 1872. 3246. 5401.  610.  893. 1452. 1508.  829.   nan  492.\n 1667. 1741. 2034.  517. 1780.   77.  488. 1476.  577. 1060. 2811.   74.\n  505.  387.  598.  938.  425.   76.  813.   81.  228.  150.] \n 4751\n"
     ]
    }
   ],
   "source": [
    "df=pd.read_csv('all_data.csv')\n",
    "####\n",
    "import time\n",
    "start = time.time()\n",
    "\n",
    "# sortera på datum, avd\n",
    "df.sort_values(by=['datum','avd'],inplace=True)\n",
    "\n",
    "# addera features\n",
    "X = comp_new_features(df)\n",
    "\n",
    "# ta bort alla features som inte kan användas och som jag inte vill ha\n",
    "X = remove_features(X,remove_mer=[])\n",
    "cat_features,int_features,float_features=feature_types(X.drop('datum',axis=1))\n",
    "handle_cat_features(data,cat_features)\n",
    "\n",
    "### häst omkodning ###\n",
    "mapTo = X.häst.value_counts().to_dict()\n",
    "X['chäst']=omkodning(X,'häst',mapTo)\n",
    "X.drop('häst',axis=1,inplace=True)\n",
    "\n",
    "### kusk omkodning ###\n",
    "kusk_dict = X.kusk.value_counts().to_dict()\n",
    "X['ckusk']=X.kusk.map(kusk_dict)\n",
    "X['ch1_kusk']=X.h1_kusk.map(kusk_dict)\n",
    "# X['ch1_kusk'].fillna(0,inplace=True)\n",
    "X['ch2_kusk']=X.h2_kusk.map(kusk_dict)\n",
    "# X['ch2_kusk'].fillna(0,inplace=True)\n",
    "X['ch3_kusk']=X.h3_kusk.map(kusk_dict)\n",
    "# X['ch3_kusk'].fillna(0,inplace=True)\n",
    "X['ch4_kusk']=X.h4_kusk.map(kusk_dict)\n",
    "# X['ch4_kusk'].fillna(0,inplace=True)\n",
    "X['ch5_kusk']=X.h5_kusk.map(kusk_dict)\n",
    "# X['ch5_kusk'].fillna(0,inplace=True)\n",
    "print(X.ch5_kusk.isna().sum())\n",
    "\n",
    "X.drop(['kusk','h1_kusk','h2_kusk','h3_kusk','h4_kusk','h5_kusk'],axis=1,inplace=True)\n",
    "### bana omkodning ###\n",
    "bana_dict = X.bana.value_counts().to_dict()\n",
    "X['cbana']=X.bana.map(bana_dict)\n",
    "X['ch1_bana']=X.h1_bana.str.upper().map(bana_dict)\n",
    "# X['ch1_bana'].fillna(0,inplace=True)\n",
    "X['ch2_bana']=X.h2_bana.str.upper().map(bana_dict)\n",
    "# X['ch2_bana'].fillna(0,inplace=True)\n",
    "X['ch3_bana']=X.h3_bana.str.upper().map(bana_dict)\n",
    "# X['ch3_bana'].fillna(0,inplace=True)\n",
    "X['ch4_bana']=X.h4_bana.str.upper().map(bana_dict)\n",
    "# X['ch4_bana'].fillna(0,inplace=True)\n",
    "X['ch5_bana']=X.h5_bana.str.upper().map(bana_dict)\n",
    "# X['ch5_bana'].fillna(0,inplace=True)\n",
    "\n",
    "print(X.ch5_bana.unique(),'\\n',X.ch5_bana.isna().sum())\n",
    "\n",
    "X.drop(['bana','h1_bana','h2_bana','h3_bana','h4_bana','h5_bana'],axis=1,inplace=True)\n"
   ]
  },
  {
   "cell_type": "code",
   "execution_count": 410,
   "metadata": {},
   "outputs": [
    {
     "output_type": "stream",
     "name": "stdout",
     "text": [
      "startvecka 2019-08-22\n124\ntrain har 369 veckor av 493\n"
     ]
    },
    {
     "output_type": "execute_result",
     "data": {
      "text/plain": [
       "((29928, 68), (10176, 68), (29928,), (10176,))"
      ]
     },
     "metadata": {},
     "execution_count": 410
    }
   ],
   "source": [
    "alla_datum = df.datum.unique()\n",
    "alla_datum = np.sort(alla_datum)\n",
    "cut_ix = int(len(alla_datum)*0.75)\n",
    "startvecka=alla_datum[cut_ix]\n",
    "print('startvecka',startvecka)\n",
    "print(len(alla_datum[cut_ix:]))\n",
    "print(f'train har {cut_ix} veckor av {len(alla_datum)}')\n",
    "X_train = X[X.datum<alla_datum[cut_ix]].copy()\n",
    "X_test = X[X.datum >= alla_datum[cut_ix]].copy()\n",
    "y_train = (X_train.plac==1)*1;X_train.drop('plac',axis=1,inplace=True)\n",
    "y_test  = (X_test.plac==1)*1;X_test.drop('plac',axis=1,inplace=True)\n",
    "cat_features,int_features,float_features =feature_types(X_train)\n",
    "cat_features.remove('datum')\n",
    "X_train.shape,X_test.shape,y_train.shape,y_test.shape\n"
   ]
  },
  {
   "cell_type": "code",
   "execution_count": 254,
   "metadata": {},
   "outputs": [
    {
     "output_type": "execute_result",
     "data": {
      "text/plain": [
       "['start', 'kön']"
      ]
     },
     "metadata": {},
     "execution_count": 254
    }
   ],
   "source": [
    "cat_features"
   ]
  },
  {
   "cell_type": "code",
   "execution_count": 378,
   "metadata": {},
   "outputs": [
    {
     "output_type": "stream",
     "name": "stdout",
     "text": [
      "gen_numeric [(['spår', 'pris', 'h1_dist', 'h1_spår', 'h1_plac', 'h1_pris', 'h1_odds', 'h1_kmtid', 'h2_dist', 'h2_spår', 'h2_plac', 'h2_pris', 'h2_odds', 'h2_kmtid', 'h3_dist', 'h3_spår', 'h3_plac', 'h3_pris', 'h3_odds', 'h3_kmtid', 'h4_dist', 'h4_spår', 'h4_plac', 'h4_pris', 'h4_odds', 'h4_kmtid', 'h5_dist', 'h5_spår', 'h5_plac', 'h5_pris', 'h5_odds', 'h5_kmtid', 'delta2', 'delta3', 'delta4', 'h1_perf', 'h2_perf', 'h3_perf', 'h4_perf', 'h5_perf', 'ch1_kusk', 'ch2_kusk', 'ch3_kusk', 'ch4_kusk', 'ch5_kusk', 'ch1_bana', 'ch2_bana', 'ch3_bana', 'ch4_bana', 'ch5_bana'], [SimpleImputer(), StandardScaler()], {}), (['streck', 'kr', 'dist', 'lopp_dist', 'ålder', 'delta0', 'delta1', 'chäst', 'ckusk', 'cbana'], [SimpleImputer(), StandardScaler()], {})]\n",
      "preds [0 1 0 ... 0 0 0]\n"
     ]
    }
   ],
   "source": [
    "from sklearn.preprocessing import StandardScaler\n",
    "from sklearn_pandas import gen_features\n",
    "from sklearn.impute import SimpleImputer\n",
    "from sklearn.preprocessing import OneHotEncoder\n",
    "\n",
    "gen_numeric = gen_features(\n",
    "    columns=[float_features,int_features],\n",
    "    classes=[\n",
    "        {\n",
    "            \"class\": SimpleImputer,\n",
    "            \"strategy\": \"mean\"\n",
    "        },\n",
    "        {\n",
    "            \"class\": StandardScaler\n",
    "        }\n",
    "    ]\n",
    ")\n",
    "print('gen_numeric',gen_numeric)\n",
    "gen_gender = (\n",
    "    [\"kön\",\"start\"],\n",
    "    [\n",
    "        SimpleImputer(strategy=\"constant\",fill_value='UNK'),\n",
    "        OneHotEncoder()\n",
    "    ],\n",
    ")\n",
    "from sklearn_pandas import DataFrameMapper\n",
    "\n",
    "preprocess_mapper = DataFrameMapper(\n",
    "    [\n",
    "        gen_gender,\n",
    "        *gen_numeric,\n",
    "    ],\n",
    "    input_df=True,\n",
    "    df_out=True\n",
    ")\n",
    "\n",
    "from sklearn.pipeline import Pipeline\n",
    "from sklearn.ensemble import RandomForestClassifier\n",
    "\n",
    "pipeline = Pipeline(steps=[\n",
    "    (\"preprocess\", preprocess_mapper),\n",
    "    # (\"estimator\", RandomForestClassifier(n_estimators=100, max_depth=6,class_weight='balanced'))\n",
    "    (\"estimator\", CatBoostClassifier(iterations=1000, \n",
    "        auto_class_weights='Balanced',             \n",
    "        eval_metric = 'Accuracy',\n",
    "        loss_function = 'Logloss',\n",
    "        early_stopping_rounds=100,\n",
    "        random_seed=2021,verbose=False))\n",
    "])\n",
    "\n",
    "pipeline.fit(X_train, y_train*1)\n",
    "preds = pipeline.predict(X_test)\n",
    "print('preds',preds)"
   ]
  },
  {
   "cell_type": "code",
   "execution_count": 382,
   "metadata": {},
   "outputs": [
    {
     "output_type": "execute_result",
     "data": {
      "text/plain": [
       "                                           Feature Id  Importances\n",
       "0   streck_kr_dist_lopp_dist_ålder_delta0_delta1_c...    13.075696\n",
       "1   streck_kr_dist_lopp_dist_ålder_delta0_delta1_c...     4.892405\n",
       "2   spår_pris_h1_dist_h1_spår_h1_plac_h1_pris_h1_o...     3.006701\n",
       "3   spår_pris_h1_dist_h1_spår_h1_plac_h1_pris_h1_o...     2.896217\n",
       "4   spår_pris_h1_dist_h1_spår_h1_plac_h1_pris_h1_o...     2.605982\n",
       "..                                                ...          ...\n",
       "60                             kön_start_x1_VOLTSTART     0.219717\n",
       "61                                     kön_start_x0_s     0.211430\n",
       "62                                     kön_start_x0_h     0.129966\n",
       "63                             kön_start_x1_AUTOSTART     0.103105\n",
       "64                                     kön_start_x0_v     0.069724\n",
       "\n",
       "[65 rows x 2 columns]"
      ],
      "text/html": "<div>\n<style scoped>\n    .dataframe tbody tr th:only-of-type {\n        vertical-align: middle;\n    }\n\n    .dataframe tbody tr th {\n        vertical-align: top;\n    }\n\n    .dataframe thead th {\n        text-align: right;\n    }\n</style>\n<table border=\"1\" class=\"dataframe\">\n  <thead>\n    <tr style=\"text-align: right;\">\n      <th></th>\n      <th>Feature Id</th>\n      <th>Importances</th>\n    </tr>\n  </thead>\n  <tbody>\n    <tr>\n      <th>0</th>\n      <td>streck_kr_dist_lopp_dist_ålder_delta0_delta1_c...</td>\n      <td>13.075696</td>\n    </tr>\n    <tr>\n      <th>1</th>\n      <td>streck_kr_dist_lopp_dist_ålder_delta0_delta1_c...</td>\n      <td>4.892405</td>\n    </tr>\n    <tr>\n      <th>2</th>\n      <td>spår_pris_h1_dist_h1_spår_h1_plac_h1_pris_h1_o...</td>\n      <td>3.006701</td>\n    </tr>\n    <tr>\n      <th>3</th>\n      <td>spår_pris_h1_dist_h1_spår_h1_plac_h1_pris_h1_o...</td>\n      <td>2.896217</td>\n    </tr>\n    <tr>\n      <th>4</th>\n      <td>spår_pris_h1_dist_h1_spår_h1_plac_h1_pris_h1_o...</td>\n      <td>2.605982</td>\n    </tr>\n    <tr>\n      <th>...</th>\n      <td>...</td>\n      <td>...</td>\n    </tr>\n    <tr>\n      <th>60</th>\n      <td>kön_start_x1_VOLTSTART</td>\n      <td>0.219717</td>\n    </tr>\n    <tr>\n      <th>61</th>\n      <td>kön_start_x0_s</td>\n      <td>0.211430</td>\n    </tr>\n    <tr>\n      <th>62</th>\n      <td>kön_start_x0_h</td>\n      <td>0.129966</td>\n    </tr>\n    <tr>\n      <th>63</th>\n      <td>kön_start_x1_AUTOSTART</td>\n      <td>0.103105</td>\n    </tr>\n    <tr>\n      <th>64</th>\n      <td>kön_start_x0_v</td>\n      <td>0.069724</td>\n    </tr>\n  </tbody>\n</table>\n<p>65 rows × 2 columns</p>\n</div>"
     },
     "metadata": {},
     "execution_count": 382
    }
   ],
   "source": [
    "model=pipeline['estimator']\n",
    "model.get_feature_importance(prettified=True)\n",
    "# pipeline.get_params()"
   ]
  },
  {
   "cell_type": "code",
   "execution_count": 403,
   "metadata": {
    "tags": []
   },
   "outputs": [
    {
     "output_type": "stream",
     "name": "stdout",
     "text": [
      "[0 1 0 ... 0 0 0]\n(10176, 68) (10176,) (10176,)\nAcc 0.8479 F1 0.349 Pre 0.2748 Rec 0.4781\n"
     ]
    },
    {
     "output_type": "execute_result",
     "data": {
      "text/plain": [
       "array([[8213, 1095],\n",
       "       [ 453,  415]], dtype=int64)"
      ]
     },
     "metadata": {},
     "execution_count": 403
    }
   ],
   "source": [
    "from sklearn.metrics import confusion_matrix, accuracy_score, f1_score,precision_score,recall_score\n",
    "test_pool=Pool(preprocess_mapper.transform(X_test),label=y_test,cat_features=[])\n",
    "preds=model.predict(test_pool)   #[:,0]\n",
    "preds=preds*1\n",
    "print (preds)\n",
    "print(X_test.shape,y_test.shape,preds.shape)\n",
    "print('Acc',round(accuracy_score(y_test,preds*1),4), 'F1',round(f1_score(y_test,preds*1),4),'Pre', round(precision_score(y_test,preds*1),4), 'Rec',round(recall_score(y_test,preds*1),4))\n",
    "confusion_matrix(y_test,preds)"
   ]
  },
  {
   "cell_type": "code",
   "execution_count": 409,
   "metadata": {},
   "outputs": [
    {
     "output_type": "execute_result",
     "data": {
      "text/plain": [
       "0.27483443708609273"
      ]
     },
     "metadata": {},
     "execution_count": 409
    }
   ],
   "source": [
    "(415)/(1095+415)"
   ]
  },
  {
   "cell_type": "code",
   "execution_count": 404,
   "metadata": {},
   "outputs": [],
   "source": [
    "def run_with_PCA(nr,X_train,X_test,y_train,y_test):\n",
    "    from sklearn.preprocessing import StandardScaler\n",
    "    from sklearn.decomposition import PCA\n",
    "\n",
    "    # df.sort_values(by=['datum','avd'],inplace=True)\n",
    "    # ta bort alla features som inte kan användas\n",
    "    # X = df.drop(['avd','h1_dat','h2_dat','h3_dat','h4_dat','h5_dat'],axis=1)\n",
    "    # ta bort features som jag inte vill ha\n",
    "    # X = X.drop(['vodds','podds'],axis=1)\n",
    "    # X.dropna(inplace=True)\n",
    "    # X.plac=(X.plac==1)*1\n",
    "    # veckor = X.datum.unique() # blir en datum per vecka\n",
    "    # startvecka = int(len(veckor) / 1.4)\n",
    "    # X_train = X[X.datum<veckor[startvecka]].copy()\n",
    "    # y_train = X_train.plac; X_train.drop(['plac','datum'],axis=1,inplace=True)\n",
    "    # X_test = X[X.datum >=veckor[startvecka]].copy()\n",
    "    # y_test = X_test.plac ; X_test.drop(['datum','plac'],axis=1,inplace=True)\n",
    "          \n",
    "    cat_features,int_features,float_features=feature_types(X_train)\n",
    "    # X_train = X_train[int_features+float_features]\n",
    "    # X_test = X_test[int_features+float_features]\n",
    "    \n",
    "    sc = StandardScaler()\n",
    "    X_train = sc.fit_transform(X_train)\n",
    "    X_test = sc.transform(X_test)\n",
    "\n",
    "    pca = PCA(nr)\n",
    "\n",
    "    X_train = pca.fit_transform(X_train)\n",
    "    X_test = pca.transform(X_test)\n",
    "\n",
    "    explained_variance = pca.explained_variance_ratio_\n",
    "    return X_train,X_test,y_train,y_test"
   ]
  },
  {
   "cell_type": "code",
   "execution_count": 405,
   "metadata": {},
   "outputs": [],
   "source": [
    "def get_model(X_train,X_test,y_train,y_test):\n",
    "    train_pool = Pool(data=X_train, label=y_train,cat_features=[])\n",
    "    test_pool  = Pool(data=X_test, label=y_test,cat_features=[])\n",
    "    model = catfit(train_pool,test_pool) \n",
    "    return model,train_pool,test_pool\n",
    "# model.get_feature_importance(prettified=True)\n"
   ]
  },
  {
   "source": [],
   "cell_type": "markdown",
   "metadata": {}
  },
  {
   "cell_type": "code",
   "execution_count": 406,
   "metadata": {},
   "outputs": [
    {
     "output_type": "stream",
     "name": "stdout",
     "text": [
      "PCAnr=65 \tAUC=0.7403\tAcc=0.6797\tF1=0.6588 \t Recall=0.6233\tPrecision=0.7118\n",
      "PCAnr=55 \tAUC=0.702\tAcc=0.6428\tF1=0.6419 \t Recall=0.6452\tPrecision=0.6386\n",
      "PCAnr=47 \tAUC=0.7282\tAcc=0.6678\tF1=0.648 \t Recall=0.6164\tPrecision=0.6831\n",
      "PCAnr=45 \tAUC=0.6742\tAcc=0.629\tF1=0.6198 \t Recall=0.6094\tPrecision=0.6305\n",
      "PCAnr=40 \tAUC=0.7359\tAcc=0.6755\tF1=0.6567 \t Recall=0.6256\tPrecision=0.6912\n",
      "PCAnr=35 \tAUC=0.7384\tAcc=0.678\tF1=0.658 \t Recall=0.6244\tPrecision=0.6955\n",
      "PCAnr=30 \tAUC=0.7341\tAcc=0.6716\tF1=0.6557 \t Recall=0.6302\tPrecision=0.6833\n",
      "PCAnr=20 \tAUC=0.6821\tAcc=0.6315\tF1=0.6309 \t Recall=0.6348\tPrecision=0.6271\n",
      "PCAnr=10 \tAUC=0.7159\tAcc=0.6552\tF1=0.6463 \t Recall=0.6348\tPrecision=0.6592\n",
      "PCAnr=5 \tAUC=0.7216\tAcc=0.6584\tF1=0.6446 \t Recall=0.6244\tPrecision=0.6663\n"
     ]
    }
   ],
   "source": [
    "#X_train.drop('datum',axis=1,inplace=True)\n",
    "#X_test.drop('datum',axis=1,inplace=True)\n",
    "\n",
    "for nr in [65,55,47,45,40,35,30,20,10,5]:\n",
    "    pX_train=preprocess_mapper.fit_transform(X_train)\n",
    "    pX_test=preprocess_mapper.transform(X_test)\n",
    "    pX_train,pX_test,y_train,y_test=run_with_PCA(nr,pX_train,pX_test,y_train,y_test)\n",
    "    model,train_pool,test_pool=get_model(pX_train,pX_test,y_train,y_test)\n",
    "    dic=model.eval_metrics(test_pool,['AUC','Accuracy','F1','Recall','Precision'])\n",
    "\n",
    "# print(np.max(dic['AUC']),np.max(dic['F1']),np.max(dic['Accuracy']))\n",
    "\n",
    "    print(f\"PCAnr={nr} \\tAUC={round(np.max(dic['AUC']),4)}\\tAcc={round(np.max(dic['Accuracy']),4)}\\tF1={round(np.max(dic['F1']),4)} \\t Recall={round(np.max(dic['Recall']),4)}\\tPrecision={round(np.max(dic['Precision']),4)}\")\n"
   ]
  },
  {
   "source": [
    "EJ PCA:\tAUC=0.7916\tAcc=0.7342\tF1=0.7517 \t Recall=0.8122\tPrecision=0.7228  \n",
    "conf Matrix  \n",
    "6111, 3197  \n",
    "163,  705"
   ],
   "cell_type": "markdown",
   "metadata": {}
  },
  {
   "cell_type": "code",
   "execution_count": null,
   "metadata": {},
   "outputs": [],
   "source": [
    "X = df.drop(['avd','h1_dat','h2_dat','h3_dat','h4_dat','h5_dat'],axis=1)\n",
    "# ta bort features som jag inte vill ha\n",
    "X = X.drop(['vodds','podds'],axis=1)\n",
    "X.dropna(inplace=True)\n",
    "X.shape\n",
    "    "
   ]
  },
  {
   "cell_type": "code",
   "execution_count": 341,
   "metadata": {},
   "outputs": [
    {
     "output_type": "execute_result",
     "data": {
      "text/plain": [
       "array([[6300., 3008.],\n",
       "       [ 333.,  535.]])"
      ]
     },
     "metadata": {},
     "execution_count": 341
    }
   ],
   "source": [
    "from catboost.utils import get_confusion_matrix\n",
    "# print(model.predict_proba(test_pool)[:,0])\n",
    "y_test.values\n",
    "get_confusion_matrix(model,test_pool)"
   ]
  },
  {
   "cell_type": "code",
   "execution_count": null,
   "metadata": {},
   "outputs": [],
   "source": [
    "print(f'len(X)-2: {len(X.columns)-2} \\ncat: {cat_features}')\n"
   ]
  },
  {
   "cell_type": "code",
   "execution_count": null,
   "metadata": {},
   "outputs": [],
   "source": [
    "test_df = df.iloc[:10,:10]\n",
    "test_df['plac'] = (df.iloc[:10,:].plac==1)\n",
    "test_df"
   ]
  },
  {
   "cell_type": "code",
   "execution_count": null,
   "metadata": {},
   "outputs": [],
   "source": [
    "from sklearn_pandas import gen_features\n",
    "\n",
    "numeric_features = [[\"avd\"], [\"streck\"], [\"vodds\"], [\"podds\"], [\"kr\"],[\"spår\"]]\n",
    "\n",
    "gen_numeric = gen_features(\n",
    "    columns=numeric_features,\n",
    "    classes=[\n",
    "        {\n",
    "            \"class\": SimpleImputer,\n",
    "            \"strategy\": \"mean\"\n",
    "        },\n",
    "        {\n",
    "            \"class\": StandardScaler\n",
    "        }\n",
    "    ]\n",
    ")\n",
    "\n",
    "gen_numeric"
   ]
  },
  {
   "cell_type": "code",
   "execution_count": null,
   "metadata": {},
   "outputs": [],
   "source": [
    "import sklearn\n",
    "mapper = DataFrameMapper([\n",
    "    (['vodds','podds','spår'], sklearn.preprocessing.StandardScaler()),\n",
    "    ('plac', sklearn.preprocessing.LabelBinarizer()),\n",
    "     \n",
    "    ])"
   ]
  },
  {
   "cell_type": "code",
   "execution_count": null,
   "metadata": {},
   "outputs": [],
   "source": [
    "mapper.fit_transform(test_df)\n",
    "\n",
    "# sklearn.preprocessing.LabelBinarizer(test_df.plac)"
   ]
  },
  {
   "cell_type": "code",
   "execution_count": null,
   "metadata": {},
   "outputs": [],
   "source": [
    " "
   ]
  },
  {
   "cell_type": "code",
   "execution_count": null,
   "metadata": {},
   "outputs": [],
   "source": []
  }
 ]
}