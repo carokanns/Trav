{
 "cells": [
  {
   "cell_type": "markdown",
   "source": [
    "# Learn v75 med walkthrough-metoden"
   ],
   "metadata": {}
  },
  {
   "cell_type": "code",
   "execution_count": 1,
   "source": [
    "#!pip install -U catboost --user\r\n",
    "import pandas as pd \r\n",
    "import numpy as np \r\n",
    "from catboost import CatBoostClassifier,Pool,utils\r\n",
    "\r\n",
    "import sys\r\n",
    "sys.path.append('C:\\\\Users\\peter\\\\Documents\\\\MyProjects\\\\PyProj\\\\Trav\\\\spel')\r\n",
    "import V75_scraping as vs"
   ],
   "outputs": [],
   "metadata": {}
  },
  {
   "cell_type": "code",
   "execution_count": 2,
   "source": [
    "def scrape_nya_lopp():\r\n",
    "    nya_lopp,strukna = vs.v75_scraping(resultat=True,history=True)\r\n",
    "\r\n",
    "    df=pd.concat([pd.read_csv('all_data.csv'), nya_lopp])\r\n",
    "    print('shape med nya lopp',df.shape)\r\n",
    "    #ta bort dubletter\r\n",
    "    df.drop_duplicates(['datum','avd','häst'],inplace=True)\r\n",
    "    df.sort_values(by=['datum','avd'],inplace=True)\r\n",
    "    df.reset_index(drop=True,inplace=True)\r\n",
    "    print('shape med dubletter bort',df.shape)\r\n",
    "\r\n",
    "    df.to_csv('all_data.csv', index=False)\r\n",
    "\r\n",
    "    print(\"första datum i df =\",df.datum.head(1).to_list()[0])\r\n",
    "    print(\"sista  datum i df =\",df.datum.tail(1).to_list()[0])\r\n",
    "\r\n",
    "    return df,nya_lopp"
   ],
   "outputs": [],
   "metadata": {}
  },
  {
   "cell_type": "code",
   "execution_count": 3,
   "source": [
    "### beräkna vilka datum att använda ###\r\n",
    "def get_alla_datum(proc=0.75, total_omlärning = False):\r\n",
    "    if total_omlärning:\r\n",
    "        nya_lopp=None\r\n",
    "        df = pd.read_csv('all_data.csv')     \r\n",
    "        alla_datum = df.datum.unique()\r\n",
    "        split_ix = int(len(alla_datum)*proc)\r\n",
    "    else:\r\n",
    "        # normalt adderar vi bara 1 eller flera veckor från \"omg_to_learn_link.csv\"\r\n",
    "        df, nya_lopp = scrape_nya_lopp()  # scrape från 'omg_to_learn_link.csv' och addera till df\r\n",
    "        omg_df = pd.read_csv('..\\\\omg_to_learn_link.csv')     \r\n",
    "        startix=omg_df.Link.str.find('spel')[0]    # index till 'spel' i url\r\n",
    "        alla_datum = omg_df.Link.str.slice(start=startix+5,stop=startix+15).to_list()  \r\n",
    "        split_ix=0\r\n",
    "        print(f'datum att lära från {alla_datum}')\r\n",
    "\r\n",
    "    return df,nya_lopp,alla_datum,split_ix\r\n"
   ],
   "outputs": [],
   "metadata": {}
  },
  {
   "cell_type": "code",
   "execution_count": 4,
   "source": [
    "### returnera en modell med parametrar satta\n",
    "def get_model(d=6,l2=2,iterations=3000,use_best=True,verbose=False):\n",
    "    model = CatBoostClassifier(iterations=iterations,use_best_model=use_best, \n",
    "        custom_metric=['Logloss', 'AUC','Recall', 'Precision', 'F1', 'Accuracy'],\n",
    "\n",
    "        eval_metric='Accuracy', \n",
    "        depth=d,l2_leaf_reg=l2,\n",
    "        auto_class_weights='Balanced',verbose=verbose, random_state=2021) \n",
    "    return model                "
   ],
   "outputs": [],
   "metadata": {}
  },
  {
   "cell_type": "code",
   "execution_count": 5,
   "source": [
    "### Features som inte används vid träning\n",
    "def remove_features(df,remove_mer=[]):\n",
    "    #remove_mer=['h5_perf','h5_auto','h4_perf','h4_auto', 'h3_perf', 'h2_perf']\n",
    "    df.drop(['avd','startnr','vodds','podds','bins','h1_dat','h2_dat','h3_dat','h4_dat','h5_dat'],axis=1,inplace=True) #\n",
    "    if remove_mer:\n",
    "        df.drop(remove_mer,axis=1,inplace=True)\n",
    "    \n",
    "    # df=check_unique(df.copy())\n",
    "    # df=check_corr(df.copy())\n",
    "    return df"
   ],
   "outputs": [],
   "metadata": {}
  },
  {
   "cell_type": "code",
   "execution_count": 6,
   "source": [
    " ## byt ut alla NaN till text för cat_features\r\n",
    "def replace_NaN(X_train,X_test=None, cat_features=[]):\r\n",
    "    # print('cat_features',cat_features)\r\n",
    "    for c in cat_features:\r\n",
    "        # print(c)\r\n",
    "        X_train.loc[X_train[c].isna(),c] = 'None'       ### byt ut None-värden till texten 'None\r\n",
    "        if X_test is not None:  ## om X_test är med\r\n",
    "            X_test.loc [X_test[c].isna(),c] = 'None'    ### byt ut None-värden till texten 'None\r\n",
    "\r\n",
    "    return X_train,X_test"
   ],
   "outputs": [],
   "metadata": {}
  },
  {
   "cell_type": "markdown",
   "source": [
    "## Walkthrough startar här"
   ],
   "metadata": {}
  },
  {
   "cell_type": "code",
   "execution_count": 7,
   "source": [
    "### Kör en walkthrough learn här, en datum i taget framåt\n",
    "\n",
    "# Jag har ändrat till att alla steg kör utan test-datam ed fast iterations=100\n",
    "def walkthrough(classic_test=False, verbose=False):\n",
    "    \n",
    "    df, nya_lopp, alla_datum, split_ix = get_alla_datum()\n",
    "\n",
    "    l2_leaf_regs=2\n",
    "    model=get_model(use_best=False,iterations=100)\n",
    "    df=remove_features(df.copy())\n",
    "    cat_features = list(df.loc[:,df.dtypes=='O'].columns)\n",
    "    df,_ = replace_NaN(df.copy(), cat_features=cat_features)    \n",
    "    print(f'cat_features {cat_features}\\n')\n",
    "\n",
    "    df['plac']=(df.plac==1)*1\n",
    "        \n",
    "    for nr,datum in enumerate(alla_datum[split_ix:]):\n",
    "        print(f'{nr+1} av {len(alla_datum[split_ix:])} ',end=': ')\n",
    "\n",
    "        X_train = df.loc[df.datum<datum,:].copy()\n",
    "        y_train = X_train.plac; X_train.drop(['plac'],axis=1,inplace=True)\n",
    "\n",
    "        if classic_test:    ### klassisk train/test utan walkthrough\n",
    "            X_test  = df.loc[df.datum>=datum,:].copy()\n",
    "            y_test  = X_test.plac;  X_test.drop(['plac'],axis=1,inplace=True)\n",
    "            train_pool = Pool(X_train,y_train,cat_features=cat_features)\n",
    "            test_pool = Pool(X_test,y_test,cat_features=cat_features)\n",
    "            model.fit(train_pool,use_best_model=True, verbose=verbose,eval_set=test_pool)\n",
    "        else:\n",
    "            X_test  = df.loc[df.datum==datum,:].copy()\n",
    "            y_test  = X_test.plac;  X_test.drop(['plac'],axis=1,inplace=True)\n",
    "            train_pool = Pool(X_train,y_train,cat_features=cat_features)\n",
    "            test_pool = Pool(X_test,y_test,cat_features=cat_features)\n",
    "            model.fit(train_pool,use_best_model=False, verbose=verbose)\n",
    "\n",
    "        print(model.get_best_iteration(), '\\t', round(model.get_best_score()['learn']['Accuracy'],3) )\n",
    "        ##['validation']['Logloss'],3),'\\t', round(model.get_best_score()['validation']['Accuracy:use_weights=true'],3))\n",
    "        \n",
    "        if classic_test:    ### klassisk train/test utan walkthrough\n",
    "            return model,cat_features\n",
    "        \n",
    "        model.save_model('model_'+datum)\n",
    "\n",
    "    X_train =df.copy().drop('plac',axis=1)\n",
    "    y_train = df.plac \n",
    "    model.fit(X_train,y=y_train,cat_features=cat_features)\n",
    "    print(f'spara model_senaste',datum)\n",
    "    model.save_model('model_senaste')\n",
    "\n",
    "    return df,nya_lopp, model,cat_features"
   ],
   "outputs": [],
   "metadata": {}
  },
  {
   "cell_type": "code",
   "execution_count": 8,
   "source": [
    "#############################################################################################\r\n",
    "#  Det här körde jag stegvis när det blev fel och då fungerade det.\r\n",
    "#  Därefter fungerade det som det skulle även i orginal.\r\n",
    "#  Man kanske skall vänta någon timme efter att alla lopp har körts för att det skall fungera\r\n",
    "##############################################################################################\r\n",
    "\r\n",
    "#df, nya_lopp = scrape_nya_lopp()\r\n",
    "# nya_lopp.shape\r\n",
    "# omg_df = pd.read_csv('..\\\\omg_to_learn_link.csv')     \r\n",
    "# startix=omg_df.Link.str.find('spel')[0]    # index till 'spel' i url\r\n",
    "# alla_datum = omg_df.Link.str.slice(start=startix+5,stop=startix+15).to_list()  \r\n",
    "# split_ix=0\r\n",
    "# print(f'datum att lära från {alla_datum}')\r\n",
    "\r\n",
    "# l2_leaf_regs=2\r\n",
    "# model=get_model(use_best=False,iterations=100)\r\n",
    "# #   df=remove_features(df.copy())\r\n",
    "# cat_features = list(df.loc[:,df.dtypes=='O'].columns)\r\n",
    "# df,_ = replace_NaN(df.copy(), cat_features=cat_features)    \r\n",
    "# print(f'cat_features {cat_features}\\n')\r\n",
    "\r\n",
    "# df['plac']=(df.plac==1)*1\r\n",
    "\r\n",
    "# for nr,datum in enumerate(alla_datum[split_ix:]):\r\n",
    "#     print(f'{nr+1} av {len(alla_datum[split_ix:])} ',end=': ')\r\n",
    "\r\n",
    "#     X_train = df.loc[df.datum<datum,:].copy()\r\n",
    "#     y_train = X_train.plac; X_train.drop(['plac'],axis=1,inplace=True)\r\n",
    "\r\n",
    "#     if False:    ### klassisk train/test utan walkthrough\r\n",
    "#         X_test  = df.loc[df.datum>=datum,:].copy()\r\n",
    "#         y_test  = X_test.plac;  X_test.drop(['plac'],axis=1,inplace=True)\r\n",
    "#         train_pool = Pool(X_train,y_train,cat_features=cat_features)\r\n",
    "#         test_pool = Pool(X_test,y_test,cat_features=cat_features)\r\n",
    "#         model.fit(train_pool,use_best_model=True, verbose=True,eval_set=test_pool)\r\n",
    "#     else:\r\n",
    "#         X_test  = df.loc[df.datum==datum,:].copy()\r\n",
    "#         y_test  = X_test.plac;  X_test.drop(['plac'],axis=1,inplace=True)\r\n",
    "#         train_pool = Pool(X_train,y_train,cat_features=cat_features)\r\n",
    "#         test_pool = Pool(X_test,y_test,cat_features=cat_features)\r\n",
    "#         model.fit(train_pool,use_best_model=False, verbose=True)\r\n",
    "\r\n",
    "#     print(model.get_best_iteration(), '\\t', round(model.get_best_score()['learn']['Accuracy'],3) )\r\n",
    "#     print(model.get_best_iteration(), '\\t', round(model.get_best_score()['learn']['Accuracy'],3) )\r\n",
    "#     ##['validation']['Logloss'],3),'\\t', round(model.get_best_score()['validation']['Accuracy:use_weights=true'],3))\r\n",
    "    \r\n",
    "#     model.save_model('model_'+datum)\r\n",
    "\r\n",
    "# X_train =df.copy().drop('plac',axis=1)\r\n",
    "# y_train = df.plac \r\n",
    "# model.fit(X_train,y=y_train,cat_features=cat_features)\r\n",
    "# print(f'spara model_senaste',datum)\r\n",
    "# model.save_model('model_senaste')\r\n",
    "\r\n"
   ],
   "outputs": [],
   "metadata": {}
  },
  {
   "cell_type": "code",
   "execution_count": 9,
   "source": [
    "df, nya_lopp, model, cat_features = walkthrough(classic_test=False, verbose=False)\r\n"
   ],
   "outputs": [
    {
     "output_type": "stream",
     "name": "stdout",
     "text": [
      "omgång 1: https://www.atg.se/spel/2021-08-07/V75/\n",
      "klickade på ANPASSA\n",
      "anpassa klar - break\n",
      "ant resultat 7\n",
      "ant lopp 7\n"
     ]
    },
    {
     "output_type": "stream",
     "name": "stderr",
     "text": [
      "2021-08-08 00:02:35.963 WARNING root: 2021-08-07 avd: <selenium.webdriver.remote.webelement.WebElement (session=\"151b0f5bf88722b69bbbe060adc757d5\", element=\"67423c15-ba5e-4554-92a2-6caec5ecdcbe\")>\n"
     ]
    },
    {
     "output_type": "stream",
     "name": "stdout",
     "text": [
      "Ant priser 7\n",
      "ant names,vodds,podds,rader,streck 12 12 12 12\n"
     ]
    },
    {
     "output_type": "stream",
     "name": "stderr",
     "text": [
      "2021-08-08 00:02:36.369 WARNING root: 0\n"
     ]
    },
    {
     "output_type": "stream",
     "name": "stdout",
     "text": [
      "AVD 1 RÄTTVIK 2640 VOLTSTART "
     ]
    },
    {
     "output_type": "stream",
     "name": "stderr",
     "text": [
      "2021-08-08 00:02:37.072 WARNING root: 1\n"
     ]
    },
    {
     "output_type": "stream",
     "name": "stdout",
     "text": [
      "."
     ]
    },
    {
     "output_type": "stream",
     "name": "stderr",
     "text": [
      "2021-08-08 00:02:37.816 WARNING root: 2\n"
     ]
    },
    {
     "output_type": "stream",
     "name": "stdout",
     "text": [
      "."
     ]
    },
    {
     "output_type": "stream",
     "name": "stderr",
     "text": [
      "2021-08-08 00:02:38.562 WARNING root: 3\n"
     ]
    },
    {
     "output_type": "stream",
     "name": "stdout",
     "text": [
      "."
     ]
    },
    {
     "output_type": "stream",
     "name": "stderr",
     "text": [
      "2021-08-08 00:02:39.320 WARNING root: 4\n"
     ]
    },
    {
     "output_type": "stream",
     "name": "stdout",
     "text": [
      "."
     ]
    },
    {
     "output_type": "stream",
     "name": "stderr",
     "text": [
      "2021-08-08 00:02:40.123 WARNING root: 5\n"
     ]
    },
    {
     "output_type": "stream",
     "name": "stdout",
     "text": [
      "."
     ]
    },
    {
     "output_type": "stream",
     "name": "stderr",
     "text": [
      "2021-08-08 00:02:40.998 WARNING root: 6\n"
     ]
    },
    {
     "output_type": "stream",
     "name": "stdout",
     "text": [
      "."
     ]
    },
    {
     "output_type": "stream",
     "name": "stderr",
     "text": [
      "2021-08-08 00:02:41.815 WARNING root: 7\n"
     ]
    },
    {
     "output_type": "stream",
     "name": "stdout",
     "text": [
      "."
     ]
    },
    {
     "output_type": "stream",
     "name": "stderr",
     "text": [
      "2021-08-08 00:02:42.644 WARNING root: 8\n"
     ]
    },
    {
     "output_type": "stream",
     "name": "stdout",
     "text": [
      "."
     ]
    },
    {
     "output_type": "stream",
     "name": "stderr",
     "text": [
      "2021-08-08 00:02:43.488 WARNING root: 9\n"
     ]
    },
    {
     "output_type": "stream",
     "name": "stdout",
     "text": [
      "."
     ]
    },
    {
     "output_type": "stream",
     "name": "stderr",
     "text": [
      "2021-08-08 00:02:44.357 WARNING root: 10\n"
     ]
    },
    {
     "output_type": "stream",
     "name": "stdout",
     "text": [
      "."
     ]
    },
    {
     "output_type": "stream",
     "name": "stderr",
     "text": [
      "2021-08-08 00:02:45.257 WARNING root: 11\n"
     ]
    },
    {
     "output_type": "stream",
     "name": "stdout",
     "text": [
      "."
     ]
    },
    {
     "output_type": "stream",
     "name": "stderr",
     "text": [
      "2021-08-08 00:02:46.145 WARNING root: 2021-08-07 avd: <selenium.webdriver.remote.webelement.WebElement (session=\"151b0f5bf88722b69bbbe060adc757d5\", element=\"4702e91c-e8d8-4ae1-8468-2d44ca49ebc8\")>\n"
     ]
    },
    {
     "output_type": "stream",
     "name": "stdout",
     "text": [
      ".\n",
      "ant names,vodds,podds,rader,streck 11 11 11 11\n"
     ]
    },
    {
     "output_type": "stream",
     "name": "stderr",
     "text": [
      "2021-08-08 00:02:46.548 WARNING root: 0\n"
     ]
    },
    {
     "output_type": "stream",
     "name": "stdout",
     "text": [
      "AVD 2 RÄTTVIK 2140 AUTOSTART "
     ]
    },
    {
     "output_type": "stream",
     "name": "stderr",
     "text": [
      "2021-08-08 00:02:47.458 WARNING root: 1\n"
     ]
    },
    {
     "output_type": "stream",
     "name": "stdout",
     "text": [
      "."
     ]
    },
    {
     "output_type": "stream",
     "name": "stderr",
     "text": [
      "2021-08-08 00:02:48.375 WARNING root: 2\n"
     ]
    },
    {
     "output_type": "stream",
     "name": "stdout",
     "text": [
      "."
     ]
    },
    {
     "output_type": "stream",
     "name": "stderr",
     "text": [
      "2021-08-08 00:02:49.388 WARNING root: 3\n"
     ]
    },
    {
     "output_type": "stream",
     "name": "stdout",
     "text": [
      "."
     ]
    },
    {
     "output_type": "stream",
     "name": "stderr",
     "text": [
      "2021-08-08 00:02:50.354 WARNING root: 4\n"
     ]
    },
    {
     "output_type": "stream",
     "name": "stdout",
     "text": [
      "."
     ]
    },
    {
     "output_type": "stream",
     "name": "stderr",
     "text": [
      "2021-08-08 00:02:51.302 WARNING root: 5\n"
     ]
    },
    {
     "output_type": "stream",
     "name": "stdout",
     "text": [
      "."
     ]
    },
    {
     "output_type": "stream",
     "name": "stderr",
     "text": [
      "2021-08-08 00:02:52.283 WARNING root: 6\n"
     ]
    },
    {
     "output_type": "stream",
     "name": "stdout",
     "text": [
      "."
     ]
    },
    {
     "output_type": "stream",
     "name": "stderr",
     "text": [
      "2021-08-08 00:02:53.288 WARNING root: 7\n"
     ]
    },
    {
     "output_type": "stream",
     "name": "stdout",
     "text": [
      "."
     ]
    },
    {
     "output_type": "stream",
     "name": "stderr",
     "text": [
      "2021-08-08 00:02:54.318 WARNING root: 8\n"
     ]
    },
    {
     "output_type": "stream",
     "name": "stdout",
     "text": [
      "."
     ]
    },
    {
     "output_type": "stream",
     "name": "stderr",
     "text": [
      "2021-08-08 00:02:55.388 WARNING root: 9\n"
     ]
    },
    {
     "output_type": "stream",
     "name": "stdout",
     "text": [
      "."
     ]
    },
    {
     "output_type": "stream",
     "name": "stderr",
     "text": [
      "2021-08-08 00:02:56.458 WARNING root: 10\n"
     ]
    },
    {
     "output_type": "stream",
     "name": "stdout",
     "text": [
      "."
     ]
    },
    {
     "output_type": "stream",
     "name": "stderr",
     "text": [
      "2021-08-08 00:02:57.522 WARNING root: 2021-08-07 avd: <selenium.webdriver.remote.webelement.WebElement (session=\"151b0f5bf88722b69bbbe060adc757d5\", element=\"5c63a34d-666d-4046-bfc4-bb0a60e99945\")>\n"
     ]
    },
    {
     "output_type": "stream",
     "name": "stdout",
     "text": [
      ".\n",
      "ant names,vodds,podds,rader,streck 11 11 11 11\n"
     ]
    },
    {
     "output_type": "stream",
     "name": "stderr",
     "text": [
      "2021-08-08 00:02:57.949 WARNING root: 0\n"
     ]
    },
    {
     "output_type": "stream",
     "name": "stdout",
     "text": [
      "AVD 3 RÄTTVIK 1640 AUTOSTART "
     ]
    },
    {
     "output_type": "stream",
     "name": "stderr",
     "text": [
      "2021-08-08 00:02:59.027 WARNING root: 1\n"
     ]
    },
    {
     "output_type": "stream",
     "name": "stdout",
     "text": [
      "."
     ]
    },
    {
     "output_type": "stream",
     "name": "stderr",
     "text": [
      "2021-08-08 00:03:00.124 WARNING root: 2\n"
     ]
    },
    {
     "output_type": "stream",
     "name": "stdout",
     "text": [
      "."
     ]
    },
    {
     "output_type": "stream",
     "name": "stderr",
     "text": [
      "2021-08-08 00:03:01.217 WARNING root: 3\n"
     ]
    },
    {
     "output_type": "stream",
     "name": "stdout",
     "text": [
      "."
     ]
    },
    {
     "output_type": "stream",
     "name": "stderr",
     "text": [
      "2021-08-08 00:03:02.310 WARNING root: 4\n"
     ]
    },
    {
     "output_type": "stream",
     "name": "stdout",
     "text": [
      "."
     ]
    },
    {
     "output_type": "stream",
     "name": "stderr",
     "text": [
      "2021-08-08 00:03:03.436 WARNING root: 5\n"
     ]
    },
    {
     "output_type": "stream",
     "name": "stdout",
     "text": [
      "."
     ]
    },
    {
     "output_type": "stream",
     "name": "stderr",
     "text": [
      "2021-08-08 00:03:04.620 WARNING root: 6\n"
     ]
    },
    {
     "output_type": "stream",
     "name": "stdout",
     "text": [
      "."
     ]
    },
    {
     "output_type": "stream",
     "name": "stderr",
     "text": [
      "2021-08-08 00:03:05.800 WARNING root: 7\n"
     ]
    },
    {
     "output_type": "stream",
     "name": "stdout",
     "text": [
      "."
     ]
    },
    {
     "output_type": "stream",
     "name": "stderr",
     "text": [
      "2021-08-08 00:03:06.867 WARNING root: 8\n"
     ]
    },
    {
     "output_type": "stream",
     "name": "stdout",
     "text": [
      "."
     ]
    },
    {
     "output_type": "stream",
     "name": "stderr",
     "text": [
      "2021-08-08 00:03:07.963 WARNING root: 9\n"
     ]
    },
    {
     "output_type": "stream",
     "name": "stdout",
     "text": [
      "."
     ]
    },
    {
     "output_type": "stream",
     "name": "stderr",
     "text": [
      "2021-08-08 00:03:09.067 WARNING root: 10\n"
     ]
    },
    {
     "output_type": "stream",
     "name": "stdout",
     "text": [
      "."
     ]
    },
    {
     "output_type": "stream",
     "name": "stderr",
     "text": [
      "2021-08-08 00:03:10.208 WARNING root: 2021-08-07 avd: <selenium.webdriver.remote.webelement.WebElement (session=\"151b0f5bf88722b69bbbe060adc757d5\", element=\"df7bf223-8b36-4dca-83cc-1c8369247982\")>\n"
     ]
    },
    {
     "output_type": "stream",
     "name": "stdout",
     "text": [
      ".\n",
      "ant names,vodds,podds,rader,streck 15 15 15 15\n"
     ]
    },
    {
     "output_type": "stream",
     "name": "stderr",
     "text": [
      "2021-08-08 00:03:10.750 WARNING root: 0\n"
     ]
    },
    {
     "output_type": "stream",
     "name": "stdout",
     "text": [
      "AVD 4 RÄTTVIK 1640 VOLTSTART "
     ]
    },
    {
     "output_type": "stream",
     "name": "stderr",
     "text": [
      "2021-08-08 00:03:11.896 WARNING root: 1\n"
     ]
    },
    {
     "output_type": "stream",
     "name": "stdout",
     "text": [
      "."
     ]
    },
    {
     "output_type": "stream",
     "name": "stderr",
     "text": [
      "2021-08-08 00:03:13.064 WARNING root: 2\n"
     ]
    },
    {
     "output_type": "stream",
     "name": "stdout",
     "text": [
      "."
     ]
    },
    {
     "output_type": "stream",
     "name": "stderr",
     "text": [
      "2021-08-08 00:03:14.271 WARNING root: 3\n"
     ]
    },
    {
     "output_type": "stream",
     "name": "stdout",
     "text": [
      "."
     ]
    },
    {
     "output_type": "stream",
     "name": "stderr",
     "text": [
      "2021-08-08 00:03:15.516 WARNING root: 4\n"
     ]
    },
    {
     "output_type": "stream",
     "name": "stdout",
     "text": [
      "."
     ]
    },
    {
     "output_type": "stream",
     "name": "stderr",
     "text": [
      "2021-08-08 00:03:16.734 WARNING root: 5\n"
     ]
    },
    {
     "output_type": "stream",
     "name": "stdout",
     "text": [
      "."
     ]
    },
    {
     "output_type": "stream",
     "name": "stderr",
     "text": [
      "2021-08-08 00:03:17.946 WARNING root: 6\n"
     ]
    },
    {
     "output_type": "stream",
     "name": "stdout",
     "text": [
      "."
     ]
    },
    {
     "output_type": "stream",
     "name": "stderr",
     "text": [
      "2021-08-08 00:03:19.176 WARNING root: 7\n"
     ]
    },
    {
     "output_type": "stream",
     "name": "stdout",
     "text": [
      "."
     ]
    },
    {
     "output_type": "stream",
     "name": "stderr",
     "text": [
      "2021-08-08 00:03:20.468 WARNING root: 8\n"
     ]
    },
    {
     "output_type": "stream",
     "name": "stdout",
     "text": [
      "."
     ]
    },
    {
     "output_type": "stream",
     "name": "stderr",
     "text": [
      "2021-08-08 00:03:21.744 WARNING root: 9\n"
     ]
    },
    {
     "output_type": "stream",
     "name": "stdout",
     "text": [
      "."
     ]
    },
    {
     "output_type": "stream",
     "name": "stderr",
     "text": [
      "2021-08-08 00:03:23.015 WARNING root: 10\n"
     ]
    },
    {
     "output_type": "stream",
     "name": "stdout",
     "text": [
      "."
     ]
    },
    {
     "output_type": "stream",
     "name": "stderr",
     "text": [
      "2021-08-08 00:03:24.430 WARNING root: 11\n"
     ]
    },
    {
     "output_type": "stream",
     "name": "stdout",
     "text": [
      "."
     ]
    },
    {
     "output_type": "stream",
     "name": "stderr",
     "text": [
      "2021-08-08 00:03:25.783 WARNING root: 12\n"
     ]
    },
    {
     "output_type": "stream",
     "name": "stdout",
     "text": [
      "."
     ]
    },
    {
     "output_type": "stream",
     "name": "stderr",
     "text": [
      "2021-08-08 00:03:27.140 WARNING root: 13\n"
     ]
    },
    {
     "output_type": "stream",
     "name": "stdout",
     "text": [
      "."
     ]
    },
    {
     "output_type": "stream",
     "name": "stderr",
     "text": [
      "2021-08-08 00:03:28.351 WARNING root: 14\n"
     ]
    },
    {
     "output_type": "stream",
     "name": "stdout",
     "text": [
      "."
     ]
    },
    {
     "output_type": "stream",
     "name": "stderr",
     "text": [
      "2021-08-08 00:03:29.595 WARNING root: 2021-08-07 avd: <selenium.webdriver.remote.webelement.WebElement (session=\"151b0f5bf88722b69bbbe060adc757d5\", element=\"bafc40e5-ab9e-4d5b-9ef6-c16722210d42\")>\n"
     ]
    },
    {
     "output_type": "stream",
     "name": "stdout",
     "text": [
      ".\n",
      "ant names,vodds,podds,rader,streck 12 12 12 12\n"
     ]
    },
    {
     "output_type": "stream",
     "name": "stderr",
     "text": [
      "2021-08-08 00:03:30.041 WARNING root: 0\n"
     ]
    },
    {
     "output_type": "stream",
     "name": "stdout",
     "text": [
      "AVD 5 RÄTTVIK 1640 AUTOSTART "
     ]
    },
    {
     "output_type": "stream",
     "name": "stderr",
     "text": [
      "2021-08-08 00:03:31.280 WARNING root: 1\n"
     ]
    },
    {
     "output_type": "stream",
     "name": "stdout",
     "text": [
      "."
     ]
    },
    {
     "output_type": "stream",
     "name": "stderr",
     "text": [
      "2021-08-08 00:03:32.542 WARNING root: 2\n"
     ]
    },
    {
     "output_type": "stream",
     "name": "stdout",
     "text": [
      "."
     ]
    },
    {
     "output_type": "stream",
     "name": "stderr",
     "text": [
      "2021-08-08 00:03:33.840 WARNING root: 3\n"
     ]
    },
    {
     "output_type": "stream",
     "name": "stdout",
     "text": [
      "."
     ]
    },
    {
     "output_type": "stream",
     "name": "stderr",
     "text": [
      "2021-08-08 00:03:35.163 WARNING root: 4\n"
     ]
    },
    {
     "output_type": "stream",
     "name": "stdout",
     "text": [
      "."
     ]
    },
    {
     "output_type": "stream",
     "name": "stderr",
     "text": [
      "2021-08-08 00:03:36.481 WARNING root: 5\n"
     ]
    },
    {
     "output_type": "stream",
     "name": "stdout",
     "text": [
      "."
     ]
    },
    {
     "output_type": "stream",
     "name": "stderr",
     "text": [
      "2021-08-08 00:03:37.811 WARNING root: 6\n"
     ]
    },
    {
     "output_type": "stream",
     "name": "stdout",
     "text": [
      "."
     ]
    },
    {
     "output_type": "stream",
     "name": "stderr",
     "text": [
      "2021-08-08 00:03:39.151 WARNING root: 7\n"
     ]
    },
    {
     "output_type": "stream",
     "name": "stdout",
     "text": [
      "."
     ]
    },
    {
     "output_type": "stream",
     "name": "stderr",
     "text": [
      "2021-08-08 00:03:40.517 WARNING root: 8\n"
     ]
    },
    {
     "output_type": "stream",
     "name": "stdout",
     "text": [
      "."
     ]
    },
    {
     "output_type": "stream",
     "name": "stderr",
     "text": [
      "2021-08-08 00:03:41.900 WARNING root: 9\n"
     ]
    },
    {
     "output_type": "stream",
     "name": "stdout",
     "text": [
      "."
     ]
    },
    {
     "output_type": "stream",
     "name": "stderr",
     "text": [
      "2021-08-08 00:03:43.280 WARNING root: 10\n"
     ]
    },
    {
     "output_type": "stream",
     "name": "stdout",
     "text": [
      "."
     ]
    },
    {
     "output_type": "stream",
     "name": "stderr",
     "text": [
      "2021-08-08 00:03:44.725 WARNING root: 11\n"
     ]
    },
    {
     "output_type": "stream",
     "name": "stdout",
     "text": [
      "."
     ]
    },
    {
     "output_type": "stream",
     "name": "stderr",
     "text": [
      "2021-08-08 00:03:46.134 WARNING root: 2021-08-07 avd: <selenium.webdriver.remote.webelement.WebElement (session=\"151b0f5bf88722b69bbbe060adc757d5\", element=\"d3642675-575b-4acf-a046-2d1cd36f44a4\")>\n"
     ]
    },
    {
     "output_type": "stream",
     "name": "stdout",
     "text": [
      ".\n",
      "ant names,vodds,podds,rader,streck 11 11 11 11\n"
     ]
    },
    {
     "output_type": "stream",
     "name": "stderr",
     "text": [
      "2021-08-08 00:03:46.620 WARNING root: 0\n"
     ]
    },
    {
     "output_type": "stream",
     "name": "stdout",
     "text": [
      "AVD 6 RÄTTVIK 2640 VOLTSTART "
     ]
    },
    {
     "output_type": "stream",
     "name": "stderr",
     "text": [
      "2021-08-08 00:03:48.061 WARNING root: 1\n"
     ]
    },
    {
     "output_type": "stream",
     "name": "stdout",
     "text": [
      "."
     ]
    },
    {
     "output_type": "stream",
     "name": "stderr",
     "text": [
      "2021-08-08 00:03:49.562 WARNING root: 2\n"
     ]
    },
    {
     "output_type": "stream",
     "name": "stdout",
     "text": [
      "."
     ]
    },
    {
     "output_type": "stream",
     "name": "stderr",
     "text": [
      "2021-08-08 00:03:51.111 WARNING root: 3\n"
     ]
    },
    {
     "output_type": "stream",
     "name": "stdout",
     "text": [
      "."
     ]
    },
    {
     "output_type": "stream",
     "name": "stderr",
     "text": [
      "2021-08-08 00:03:52.359 WARNING root: 4\n"
     ]
    },
    {
     "output_type": "stream",
     "name": "stdout",
     "text": [
      "."
     ]
    },
    {
     "output_type": "stream",
     "name": "stderr",
     "text": [
      "2021-08-08 00:03:53.614 WARNING root: 5\n"
     ]
    },
    {
     "output_type": "stream",
     "name": "stdout",
     "text": [
      "."
     ]
    },
    {
     "output_type": "stream",
     "name": "stderr",
     "text": [
      "2021-08-08 00:03:54.928 WARNING root: 6\n"
     ]
    },
    {
     "output_type": "stream",
     "name": "stdout",
     "text": [
      "."
     ]
    },
    {
     "output_type": "stream",
     "name": "stderr",
     "text": [
      "2021-08-08 00:03:56.225 WARNING root: 7\n"
     ]
    },
    {
     "output_type": "stream",
     "name": "stdout",
     "text": [
      "."
     ]
    },
    {
     "output_type": "stream",
     "name": "stderr",
     "text": [
      "2021-08-08 00:03:57.523 WARNING root: 8\n"
     ]
    },
    {
     "output_type": "stream",
     "name": "stdout",
     "text": [
      "."
     ]
    },
    {
     "output_type": "stream",
     "name": "stderr",
     "text": [
      "2021-08-08 00:03:58.849 WARNING root: 9\n"
     ]
    },
    {
     "output_type": "stream",
     "name": "stdout",
     "text": [
      "."
     ]
    },
    {
     "output_type": "stream",
     "name": "stderr",
     "text": [
      "2021-08-08 00:04:00.221 WARNING root: 10\n"
     ]
    },
    {
     "output_type": "stream",
     "name": "stdout",
     "text": [
      "."
     ]
    },
    {
     "output_type": "stream",
     "name": "stderr",
     "text": [
      "2021-08-08 00:04:01.589 WARNING root: 2021-08-07 avd: <selenium.webdriver.remote.webelement.WebElement (session=\"151b0f5bf88722b69bbbe060adc757d5\", element=\"7c525ac6-767f-47c7-aec5-36e8e0f76e49\")>\n"
     ]
    },
    {
     "output_type": "stream",
     "name": "stdout",
     "text": [
      ".\n",
      "ant names,vodds,podds,rader,streck 12 12 12 12\n"
     ]
    },
    {
     "output_type": "stream",
     "name": "stderr",
     "text": [
      "2021-08-08 00:04:02.063 WARNING root: 0\n"
     ]
    },
    {
     "output_type": "stream",
     "name": "stdout",
     "text": [
      "AVD 7 RÄTTVIK 2140 AUTOSTART "
     ]
    },
    {
     "output_type": "stream",
     "name": "stderr",
     "text": [
      "2021-08-08 00:04:03.438 WARNING root: 1\n"
     ]
    },
    {
     "output_type": "stream",
     "name": "stdout",
     "text": [
      "."
     ]
    },
    {
     "output_type": "stream",
     "name": "stderr",
     "text": [
      "2021-08-08 00:04:04.883 WARNING root: 2\n"
     ]
    },
    {
     "output_type": "stream",
     "name": "stdout",
     "text": [
      "."
     ]
    },
    {
     "output_type": "stream",
     "name": "stderr",
     "text": [
      "2021-08-08 00:04:06.314 WARNING root: 3\n"
     ]
    },
    {
     "output_type": "stream",
     "name": "stdout",
     "text": [
      "."
     ]
    },
    {
     "output_type": "stream",
     "name": "stderr",
     "text": [
      "2021-08-08 00:04:07.751 WARNING root: 4\n"
     ]
    },
    {
     "output_type": "stream",
     "name": "stdout",
     "text": [
      "."
     ]
    },
    {
     "output_type": "stream",
     "name": "stderr",
     "text": [
      "2021-08-08 00:04:09.197 WARNING root: 5\n"
     ]
    },
    {
     "output_type": "stream",
     "name": "stdout",
     "text": [
      "."
     ]
    },
    {
     "output_type": "stream",
     "name": "stderr",
     "text": [
      "2021-08-08 00:04:10.672 WARNING root: 6\n"
     ]
    },
    {
     "output_type": "stream",
     "name": "stdout",
     "text": [
      "."
     ]
    },
    {
     "output_type": "stream",
     "name": "stderr",
     "text": [
      "2021-08-08 00:04:12.161 WARNING root: 7\n"
     ]
    },
    {
     "output_type": "stream",
     "name": "stdout",
     "text": [
      "."
     ]
    },
    {
     "output_type": "stream",
     "name": "stderr",
     "text": [
      "2021-08-08 00:04:13.680 WARNING root: 8\n"
     ]
    },
    {
     "output_type": "stream",
     "name": "stdout",
     "text": [
      "."
     ]
    },
    {
     "output_type": "stream",
     "name": "stderr",
     "text": [
      "2021-08-08 00:04:15.112 WARNING root: 9\n"
     ]
    },
    {
     "output_type": "stream",
     "name": "stdout",
     "text": [
      "."
     ]
    },
    {
     "output_type": "stream",
     "name": "stderr",
     "text": [
      "2021-08-08 00:04:16.362 WARNING root: 10\n"
     ]
    },
    {
     "output_type": "stream",
     "name": "stdout",
     "text": [
      "."
     ]
    },
    {
     "output_type": "stream",
     "name": "stderr",
     "text": [
      "2021-08-08 00:04:17.633 WARNING root: 11\n"
     ]
    },
    {
     "output_type": "stream",
     "name": "stdout",
     "text": [
      "..\n",
      "\n",
      "det tog 103.515 sekunder\n",
      "utdelning: 722885, 544, 45\n",
      "startar Fixa mer\n",
      "tog bort 7 strukna från 84 till 77\n",
      "rensade totalt bort 7 hästar i städa_och_rensa. Från 84 till 77\n",
      "shape med nya lopp (41284, 79)\n",
      "shape med dubletter bort (41284, 79)\n",
      "första datum i df = 2014-12-28\n",
      "sista  datum i df = 2021-08-07\n",
      "datum att lära från ['2021-08-07']\n",
      "cat_features ['datum', 'bana', 'häst', 'kusk', 'kön', 'h1_kusk', 'h1_bana', 'h2_kusk', 'h2_bana', 'h3_kusk', 'h3_bana', 'h4_kusk', 'h4_bana', 'h5_kusk', 'h5_bana']\n",
      "\n",
      "1 av 1 : None \t 0.756\n",
      "spara model_senaste 2021-08-07\n"
     ]
    }
   ],
   "metadata": {}
  },
  {
   "cell_type": "markdown",
   "source": [
    "## Kör allt ovan för walkthrough\n",
    "### Se till att \"..\\\\omg_to_learn_link.csv\" är ifylld (om så behövs)"
   ],
   "metadata": {}
  },
  {
   "cell_type": "code",
   "execution_count": 10,
   "source": [
    "from catboost.utils import eval_metric\r\n",
    "df = pd.read_csv('all_data.csv')     \r\n",
    "print(df.columns)\r\n",
    "dfval=remove_features(df.copy())\r\n",
    "cat_features = list(dfval.loc[:,dfval.dtypes=='O'].columns)\r\n",
    "dfval,_ = replace_NaN(dfval.copy(), cat_features=cat_features)    \r\n",
    "    \r\n",
    "validation = nya_lopp.copy()\r\n",
    "validation = validation[dfval.columns]\r\n",
    "# validation.drop('startnr',axis=1,inplace=True)\r\n",
    "# validation = remove_features(validation)\r\n",
    "y=validation.plac\r\n",
    "y=(y==1)*1\r\n",
    "validation.drop('plac',axis=1,inplace=True)\r\n",
    "# cat_features = validation.loc[:,validation.dtypes=='O'].columns\r\n",
    "        \r\n",
    "val_pool=Pool(validation,y,cat_features)\r\n",
    "yhat=model.predict(val_pool)\r\n",
    "print(utils.get_confusion_matrix(model,val_pool))\r\n",
    "eval_metric(yhat,y,'Accuracy')\r\n",
    "\r\n"
   ],
   "outputs": [
    {
     "output_type": "stream",
     "name": "stdout",
     "text": [
      "Index(['datum', 'avd', 'bana', 'häst', 'kusk', 'streck', 'vodds', 'podds',\n",
      "       'kr', 'spår', 'dist', 'lopp_dist', 'start', 'ålder', 'kön', 'plac',\n",
      "       'pris', 'h1_dat', 'h1_kusk', 'h1_bana', 'h1_spår', 'h1_plac', 'h1_pris',\n",
      "       'h1_odds', 'h1_kmtid', 'h2_dat', 'h2_kusk', 'h2_bana', 'h2_spår',\n",
      "       'h2_plac', 'h2_pris', 'h2_odds', 'h2_kmtid', 'h3_dat', 'h3_kusk',\n",
      "       'h3_bana', 'h3_spår', 'h3_plac', 'h3_pris', 'h3_odds', 'h3_kmtid',\n",
      "       'h4_dat', 'h4_kusk', 'h4_bana', 'h4_spår', 'h4_plac', 'h4_pris',\n",
      "       'h4_odds', 'h4_kmtid', 'h5_dat', 'h5_kusk', 'h5_bana', 'h5_spår',\n",
      "       'h5_plac', 'h5_pris', 'h5_odds', 'h5_kmtid', 'h1_dist', 'h2_dist',\n",
      "       'h3_dist', 'h4_dist', 'h5_dist', 'bins', 'h1_auto', 'h2_auto',\n",
      "       'h3_auto', 'h4_auto', 'h5_auto', 'h1_perf', 'h2_perf', 'h3_perf',\n",
      "       'h4_perf', 'h5_perf', 'senast', 'delta1', 'delta2', 'delta3', 'delta4',\n",
      "       'startnr'],\n",
      "      dtype='object')\n",
      "[[48. 22.]\n",
      " [ 1.  6.]]\n"
     ]
    },
    {
     "output_type": "execute_result",
     "data": {
      "text/plain": [
       "[0.7012987012987013]"
      ]
     },
     "metadata": {},
     "execution_count": 10
    }
   ],
   "metadata": {}
  },
  {
   "cell_type": "code",
   "execution_count": 10,
   "source": [
    "validation.datum.max()"
   ],
   "outputs": [
    {
     "output_type": "execute_result",
     "data": {
      "text/plain": [
       "'2021-06-19'"
      ]
     },
     "metadata": {},
     "execution_count": 10
    }
   ],
   "metadata": {}
  },
  {
   "cell_type": "code",
   "execution_count": 11,
   "source": [
    "model.get_feature_importance(prettified=True).head(30)\r\n"
   ],
   "outputs": [
    {
     "output_type": "execute_result",
     "data": {
      "text/plain": [
       "   Feature Id  Importances\n",
       "0      streck    64.605765\n",
       "1       datum     7.857018\n",
       "2        häst     4.517488\n",
       "3    h5_kmtid     1.690754\n",
       "4     h3_odds     1.396984\n",
       "5     h4_bana     1.200054\n",
       "6     h5_bana     0.972706\n",
       "7          kr     0.895608\n",
       "8     h5_dist     0.853246\n",
       "9     h3_bana     0.707050\n",
       "10    h2_odds     0.653474\n",
       "11    h5_plac     0.647007\n",
       "12    h1_odds     0.643765\n",
       "13    h2_plac     0.595782\n",
       "14    h2_bana     0.554960\n",
       "15    h4_perf     0.552822\n",
       "16     senast     0.540969\n",
       "17    h2_spår     0.451347\n",
       "18    h2_dist     0.445804\n",
       "19    h5_spår     0.439411\n",
       "20    h1_plac     0.435622\n",
       "21       spår     0.411313\n",
       "22    h1_pris     0.407299\n",
       "23    h1_bana     0.405352\n",
       "24       bana     0.383978\n",
       "25    h1_dist     0.376007\n",
       "26    h1_spår     0.369909\n",
       "27     delta1     0.366051\n",
       "28     delta4     0.363908\n",
       "29    h2_perf     0.363678"
      ],
      "text/html": [
       "<div>\n",
       "<style scoped>\n",
       "    .dataframe tbody tr th:only-of-type {\n",
       "        vertical-align: middle;\n",
       "    }\n",
       "\n",
       "    .dataframe tbody tr th {\n",
       "        vertical-align: top;\n",
       "    }\n",
       "\n",
       "    .dataframe thead th {\n",
       "        text-align: right;\n",
       "    }\n",
       "</style>\n",
       "<table border=\"1\" class=\"dataframe\">\n",
       "  <thead>\n",
       "    <tr style=\"text-align: right;\">\n",
       "      <th></th>\n",
       "      <th>Feature Id</th>\n",
       "      <th>Importances</th>\n",
       "    </tr>\n",
       "  </thead>\n",
       "  <tbody>\n",
       "    <tr>\n",
       "      <th>0</th>\n",
       "      <td>streck</td>\n",
       "      <td>64.605765</td>\n",
       "    </tr>\n",
       "    <tr>\n",
       "      <th>1</th>\n",
       "      <td>datum</td>\n",
       "      <td>7.857018</td>\n",
       "    </tr>\n",
       "    <tr>\n",
       "      <th>2</th>\n",
       "      <td>häst</td>\n",
       "      <td>4.517488</td>\n",
       "    </tr>\n",
       "    <tr>\n",
       "      <th>3</th>\n",
       "      <td>h5_kmtid</td>\n",
       "      <td>1.690754</td>\n",
       "    </tr>\n",
       "    <tr>\n",
       "      <th>4</th>\n",
       "      <td>h3_odds</td>\n",
       "      <td>1.396984</td>\n",
       "    </tr>\n",
       "    <tr>\n",
       "      <th>5</th>\n",
       "      <td>h4_bana</td>\n",
       "      <td>1.200054</td>\n",
       "    </tr>\n",
       "    <tr>\n",
       "      <th>6</th>\n",
       "      <td>h5_bana</td>\n",
       "      <td>0.972706</td>\n",
       "    </tr>\n",
       "    <tr>\n",
       "      <th>7</th>\n",
       "      <td>kr</td>\n",
       "      <td>0.895608</td>\n",
       "    </tr>\n",
       "    <tr>\n",
       "      <th>8</th>\n",
       "      <td>h5_dist</td>\n",
       "      <td>0.853246</td>\n",
       "    </tr>\n",
       "    <tr>\n",
       "      <th>9</th>\n",
       "      <td>h3_bana</td>\n",
       "      <td>0.707050</td>\n",
       "    </tr>\n",
       "    <tr>\n",
       "      <th>10</th>\n",
       "      <td>h2_odds</td>\n",
       "      <td>0.653474</td>\n",
       "    </tr>\n",
       "    <tr>\n",
       "      <th>11</th>\n",
       "      <td>h5_plac</td>\n",
       "      <td>0.647007</td>\n",
       "    </tr>\n",
       "    <tr>\n",
       "      <th>12</th>\n",
       "      <td>h1_odds</td>\n",
       "      <td>0.643765</td>\n",
       "    </tr>\n",
       "    <tr>\n",
       "      <th>13</th>\n",
       "      <td>h2_plac</td>\n",
       "      <td>0.595782</td>\n",
       "    </tr>\n",
       "    <tr>\n",
       "      <th>14</th>\n",
       "      <td>h2_bana</td>\n",
       "      <td>0.554960</td>\n",
       "    </tr>\n",
       "    <tr>\n",
       "      <th>15</th>\n",
       "      <td>h4_perf</td>\n",
       "      <td>0.552822</td>\n",
       "    </tr>\n",
       "    <tr>\n",
       "      <th>16</th>\n",
       "      <td>senast</td>\n",
       "      <td>0.540969</td>\n",
       "    </tr>\n",
       "    <tr>\n",
       "      <th>17</th>\n",
       "      <td>h2_spår</td>\n",
       "      <td>0.451347</td>\n",
       "    </tr>\n",
       "    <tr>\n",
       "      <th>18</th>\n",
       "      <td>h2_dist</td>\n",
       "      <td>0.445804</td>\n",
       "    </tr>\n",
       "    <tr>\n",
       "      <th>19</th>\n",
       "      <td>h5_spår</td>\n",
       "      <td>0.439411</td>\n",
       "    </tr>\n",
       "    <tr>\n",
       "      <th>20</th>\n",
       "      <td>h1_plac</td>\n",
       "      <td>0.435622</td>\n",
       "    </tr>\n",
       "    <tr>\n",
       "      <th>21</th>\n",
       "      <td>spår</td>\n",
       "      <td>0.411313</td>\n",
       "    </tr>\n",
       "    <tr>\n",
       "      <th>22</th>\n",
       "      <td>h1_pris</td>\n",
       "      <td>0.407299</td>\n",
       "    </tr>\n",
       "    <tr>\n",
       "      <th>23</th>\n",
       "      <td>h1_bana</td>\n",
       "      <td>0.405352</td>\n",
       "    </tr>\n",
       "    <tr>\n",
       "      <th>24</th>\n",
       "      <td>bana</td>\n",
       "      <td>0.383978</td>\n",
       "    </tr>\n",
       "    <tr>\n",
       "      <th>25</th>\n",
       "      <td>h1_dist</td>\n",
       "      <td>0.376007</td>\n",
       "    </tr>\n",
       "    <tr>\n",
       "      <th>26</th>\n",
       "      <td>h1_spår</td>\n",
       "      <td>0.369909</td>\n",
       "    </tr>\n",
       "    <tr>\n",
       "      <th>27</th>\n",
       "      <td>delta1</td>\n",
       "      <td>0.366051</td>\n",
       "    </tr>\n",
       "    <tr>\n",
       "      <th>28</th>\n",
       "      <td>delta4</td>\n",
       "      <td>0.363908</td>\n",
       "    </tr>\n",
       "    <tr>\n",
       "      <th>29</th>\n",
       "      <td>h2_perf</td>\n",
       "      <td>0.363678</td>\n",
       "    </tr>\n",
       "  </tbody>\n",
       "</table>\n",
       "</div>"
      ]
     },
     "metadata": {},
     "execution_count": 11
    }
   ],
   "metadata": {}
  }
 ],
 "metadata": {
  "interpreter": {
   "hash": "0f941ce24081e27d29fe825b4677fc955a82211890bd8dd12500b5500b9e4ea7"
  },
  "kernelspec": {
   "name": "python3",
   "display_name": "Python 3.9.6 64-bit"
  },
  "language_info": {
   "name": "python",
   "version": "3.9.6",
   "mimetype": "text/x-python",
   "codemirror_mode": {
    "name": "ipython",
    "version": 3
   },
   "pygments_lexer": "ipython3",
   "nbconvert_exporter": "python",
   "file_extension": ".py"
  },
  "orig_nbformat": 2
 },
 "nbformat": 4,
 "nbformat_minor": 2
}