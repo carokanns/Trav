{
 "metadata": {
  "language_info": {
   "codemirror_mode": {
    "name": "ipython",
    "version": 3
   },
   "file_extension": ".py",
   "mimetype": "text/x-python",
   "name": "python",
   "nbconvert_exporter": "python",
   "pygments_lexer": "ipython3",
   "version": "3.8.5"
  },
  "orig_nbformat": 2,
  "kernelspec": {
   "name": "python385jvsc74a57bd0b3ba2566441a7c06988d0923437866b63cedc61552a5af99d1f4fb67d367b25f",
   "display_name": "Python 3.8.5 64-bit (conda)"
  }
 },
 "nbformat": 4,
 "nbformat_minor": 2,
 "cells": [
  {
   "source": [
    "# Gå igenom och rätta alla features i scraped från fil"
   ],
   "cell_type": "markdown",
   "metadata": {}
  },
  {
   "cell_type": "code",
   "execution_count": 118,
   "metadata": {},
   "outputs": [],
   "source": [
    "import pandas as pd\n",
    "import numpy as np \n",
    "import datetime\n",
    "import sys\n",
    "sys.path.append('C:\\\\Users\\peter\\\\Documents\\\\MyProjects\\\\PyProj\\\\Trav\\\\spel')\n",
    "import fixa_mer_features as ff"
   ]
  },
  {
   "cell_type": "code",
   "execution_count": 119,
   "metadata": {},
   "outputs": [
    {
     "output_type": "execute_result",
     "data": {
      "text/plain": [
       "(40105, 62)"
      ]
     },
     "metadata": {},
     "execution_count": 119
    }
   ],
   "source": [
    "df= pd.read_csv('all_scraped.csv')\n",
    "df=df.sort_values(by=['datum','avd']).reset_index()\n",
    "df.drop('index',axis=1,inplace=True)\n",
    "df=df[df.vodds!='EJ']\n",
    "df.shape"
   ]
  },
  {
   "cell_type": "code",
   "execution_count": 120,
   "metadata": {},
   "outputs": [
    {
     "output_type": "execute_result",
     "data": {
      "text/plain": [
       "3247     None\n",
       "13210    None\n",
       "18209    None\n",
       "23719    None\n",
       "37972    None\n",
       "37977    None\n",
       "Name: h3_dat, dtype: object"
      ]
     },
     "metadata": {},
     "execution_count": 120
    }
   ],
   "source": [
    "### ta bort .0 från datum och sätt ala NaN till None\n",
    "for h in ['h1_dat','h2_dat','h3_dat','h4_dat','h5_dat',]:\n",
    "    df[h]=df.loc[:,h].astype('string').str.replace('.0','',regex=False).astype('O')\n",
    "    df.loc[df[h].isna(),h]=None\n",
    "\n",
    "df.loc[df['h3_dat'].isna(),'h3_dat']"
   ]
  },
  {
   "cell_type": "code",
   "execution_count": 121,
   "metadata": {},
   "outputs": [
    {
     "output_type": "stream",
     "name": "stdout",
     "text": [
      "startar Fixa mer\n",
      "spår NaNs 89\n"
     ]
    }
   ],
   "source": [
    "df=ff.fixa_mer_features(df, hist=True)"
   ]
  },
  {
   "cell_type": "code",
   "execution_count": 122,
   "metadata": {},
   "outputs": [
    {
     "output_type": "stream",
     "name": "stdout",
     "text": [
      "4    6139\n2    5979\n5    5746\n7    5721\n6    5655\n1    5461\n3    5404\nName: avd, dtype: int64\n"
     ]
    },
    {
     "output_type": "execute_result",
     "data": {
      "text/plain": [
       "array([1, 2, 3, 4, 5, 6, 7], dtype=int64)"
      ]
     },
     "metadata": {},
     "execution_count": 122
    }
   ],
   "source": [
    "# avd\n",
    "print(df.avd.value_counts())\n",
    "df.avd.unique()"
   ]
  },
  {
   "cell_type": "code",
   "execution_count": 123,
   "metadata": {},
   "outputs": [
    {
     "output_type": "stream",
     "name": "stdout",
     "text": [
      "0\n['ÖREBRO' 'JÄGERSRO' 'ROMME' 'ÅBY' 'BERGSÅKER' 'SOLVALLA' 'AXEVALLA'\n 'KALMAR' 'GÄVLE' 'HALMSTAD' 'ESKILSTUNA' 'MOMARKEN' 'FÄRJESTAD' 'MANTORP'\n 'UMÅKER' 'CHARLOTTENLUND' 'VERMO' 'ÖSTERSUND' 'BODEN' 'BJERKE' 'ÅRJÄNG'\n 'HAGMYREN' 'RÄTTVIK' 'DANNERO' 'BOLLNÄS' 'SKELLEFTEÅ' 'JARLSBERG'\n 'SOLÄNGET' 'ULEÅBORG' 'KLOSTERSKOGEN' 'BIRI' 'ÅRHUS' 'ÅLBORG']\n"
     ]
    }
   ],
   "source": [
    "# bana\n",
    "print(df.bana.isna().sum())\n",
    "print(df.bana.unique())"
   ]
  },
  {
   "cell_type": "code",
   "execution_count": 124,
   "metadata": {},
   "outputs": [
    {
     "output_type": "stream",
     "name": "stdout",
     "text": [
      "0\n"
     ]
    },
    {
     "output_type": "execute_result",
     "data": {
      "text/plain": [
       "array(['ALLABALLAKAITOZ', 'ARISTOCAT BOKO', 'ART ON LINE', ...,\n",
       "       'JOKER BOKO', 'MOJO EXPRESS', 'YUVARAJ'], dtype=object)"
      ]
     },
     "metadata": {},
     "execution_count": 124
    }
   ],
   "source": [
    "# häst\n",
    "print(df.häst.isna().sum())\n",
    "df.häst.unique()"
   ]
  },
  {
   "cell_type": "code",
   "execution_count": 125,
   "metadata": {},
   "outputs": [
    {
     "output_type": "stream",
     "name": "stdout",
     "text": [
      "0\n"
     ]
    },
    {
     "output_type": "execute_result",
     "data": {
      "text/plain": [
       "array(['Carl-Erik Lindblom', 'Ulf Ohlsson', 'Johnny Takter', ...,\n",
       "       'Marie Hafstad Eriksson', 'Alf Nordemo', 'Julia Smedman'],\n",
       "      dtype=object)"
      ]
     },
     "metadata": {},
     "execution_count": 125
    }
   ],
   "source": [
    "# kusk\n",
    "print(df.kusk.isna().sum())\n",
    "df.kusk.unique()"
   ]
  },
  {
   "cell_type": "code",
   "execution_count": 126,
   "metadata": {},
   "outputs": [
    {
     "output_type": "stream",
     "name": "stdout",
     "text": [
      "0\n[ 5  7 23 48  1  0  6 11  2  3 67  8 24 34 10 12 17  9 19  4 16 51 14 18\n 26 29 53 13 41 28 32 33 27 20 49 64 35 22 30 37 74 21 38 46 42 36 15 52\n 47 60 72 55 73 58 75 56 25 31 61 40 39 44 54 43 45 57 76 62 70 77 63 65\n 50 69 79 66 80 86 89 90 81 78 59 68 71 85 87 84 88 83 82]\n"
     ]
    }
   ],
   "source": [
    "# streck\n",
    "print(df.streck.isna().sum())\n",
    "print(df.streck.unique())"
   ]
  },
  {
   "cell_type": "code",
   "execution_count": 127,
   "metadata": {},
   "outputs": [
    {
     "output_type": "execute_result",
     "data": {
      "text/plain": [
       "15    12367\n",
       "20     4839\n",
       "4      3458\n",
       "2      3457\n",
       "1      3457\n",
       "3      3450\n",
       "5      3425\n",
       "6      3284\n",
       "7      2206\n",
       "8       113\n",
       "9        16\n",
       "10       14\n",
       "11       11\n",
       "12        8\n",
       "Name: plac, dtype: int64"
      ]
     },
     "metadata": {},
     "execution_count": 127
    }
   ],
   "source": [
    "# plac\n",
    "df.plac.value_counts(dropna=False)"
   ]
  },
  {
   "cell_type": "code",
   "execution_count": 128,
   "metadata": {},
   "outputs": [
    {
     "output_type": "stream",
     "name": "stdout",
     "text": [
      "0\n"
     ]
    },
    {
     "output_type": "execute_result",
     "data": {
      "text/plain": [
       "count    40105.000000\n",
       "mean        31.523394\n",
       "std         37.142578\n",
       "min          1.030000\n",
       "25%          7.350000\n",
       "50%         17.470000\n",
       "75%         42.740000\n",
       "max        553.490000\n",
       "Name: vodds, dtype: float64"
      ]
     },
     "metadata": {},
     "execution_count": 128
    }
   ],
   "source": [
    "# vodds\n",
    "print(df.vodds.isna().sum())\n",
    "df.vodds.unique()\n",
    "# df.vodds = df.vodds.astype('float')\n",
    "df.vodds.describe()"
   ]
  },
  {
   "cell_type": "code",
   "execution_count": 129,
   "metadata": {},
   "outputs": [
    {
     "output_type": "execute_result",
     "data": {
      "text/plain": [
       "count    40105.000000\n",
       "mean         5.243817\n",
       "std          4.392258\n",
       "min          1.000000\n",
       "25%          2.370000\n",
       "50%          3.730000\n",
       "75%          6.565000\n",
       "max         54.715000\n",
       "Name: podds, dtype: float64"
      ]
     },
     "metadata": {},
     "execution_count": 129
    }
   ],
   "source": [
    "# podds i formen fr - to räknas om till medelvärde ###\n",
    "# def berPodds(podds):\n",
    "#     if podds.find('-') < 0:\n",
    "#         return float(podds) \n",
    "#     else:          \n",
    "#         [odds1,odds2] = podds.split('-')\n",
    "#         odds1=float(odds1.replace(',','.'))\n",
    "#         odds2=float(odds2.replace(',','.'))\n",
    "#         return round((odds1+odds2)/2,2)\n",
    "    \n",
    "# print(df.podds.isna().sum())\n",
    "# df['podds']=df.podds.apply(lambda x: berPodds(x))\n",
    "\n",
    "# df['podds'] = df.podds.astype('float')\n",
    "df.podds.describe()"
   ]
  },
  {
   "cell_type": "code",
   "execution_count": 130,
   "metadata": {},
   "outputs": [
    {
     "output_type": "stream",
     "name": "stdout",
     "text": [
      "0\n"
     ]
    },
    {
     "output_type": "execute_result",
     "data": {
      "text/plain": [
       "count     40105.000000\n",
       "mean      27840.122055\n",
       "std       39118.046823\n",
       "min           0.000000\n",
       "25%       10536.000000\n",
       "50%       16726.000000\n",
       "75%       28621.000000\n",
       "max      806743.000000\n",
       "Name: kr, dtype: float64"
      ]
     },
     "metadata": {},
     "execution_count": 130
    }
   ],
   "source": [
    "# kr (per start)\n",
    "print(df.kr.isna().sum())\n",
    "df.kr.describe()"
   ]
  },
  {
   "cell_type": "code",
   "execution_count": 131,
   "metadata": {},
   "outputs": [
    {
     "output_type": "stream",
     "name": "stdout",
     "text": [
      "89\n"
     ]
    },
    {
     "output_type": "execute_result",
     "data": {
      "text/plain": [
       "count    40016.00000\n",
       "mean         5.70102\n",
       "std          3.39440\n",
       "min          1.00000\n",
       "25%          3.00000\n",
       "50%          5.00000\n",
       "75%          8.00000\n",
       "max         15.00000\n",
       "Name: spår, dtype: float64"
      ]
     },
     "metadata": {},
     "execution_count": 131
    }
   ],
   "source": [
    "# spår - behåll NaN för CB att fixa\n",
    "print(df.spår.isna().sum())\n",
    "df.spår.describe()"
   ]
  },
  {
   "cell_type": "code",
   "execution_count": 132,
   "metadata": {},
   "outputs": [
    {
     "output_type": "stream",
     "name": "stdout",
     "text": [
      "0\n"
     ]
    },
    {
     "output_type": "execute_result",
     "data": {
      "text/plain": [
       "count    40105.000000\n",
       "mean      2187.934472\n",
       "std        396.236762\n",
       "min       1600.000000\n",
       "25%       2100.000000\n",
       "50%       2140.000000\n",
       "75%       2160.000000\n",
       "max       3700.000000\n",
       "Name: dist, dtype: float64"
      ]
     },
     "metadata": {},
     "execution_count": 132
    }
   ],
   "source": [
    "# dist\n",
    "print(df.dist.isna().sum())\n",
    "df.dist.describe()"
   ]
  },
  {
   "cell_type": "code",
   "execution_count": 133,
   "metadata": {},
   "outputs": [
    {
     "output_type": "stream",
     "name": "stdout",
     "text": [
      "0\n"
     ]
    },
    {
     "output_type": "execute_result",
     "data": {
      "text/plain": [
       "count    40105.000000\n",
       "mean      2184.429672\n",
       "std        392.987667\n",
       "min       1600.000000\n",
       "25%       2100.000000\n",
       "50%       2140.000000\n",
       "75%       2140.000000\n",
       "max       3640.000000\n",
       "Name: lopp_dist, dtype: float64"
      ]
     },
     "metadata": {},
     "execution_count": 133
    }
   ],
   "source": [
    "# lopp_dist\n",
    "print(df.lopp_dist.isna().sum())\n",
    "df.lopp_dist.describe()"
   ]
  },
  {
   "cell_type": "code",
   "execution_count": 134,
   "metadata": {},
   "outputs": [
    {
     "output_type": "stream",
     "name": "stdout",
     "text": [
      "[0 1]\n"
     ]
    },
    {
     "output_type": "execute_result",
     "data": {
      "text/plain": [
       "0    27970\n",
       "1    12135\n",
       "Name: start, dtype: int64"
      ]
     },
     "metadata": {},
     "execution_count": 134
    }
   ],
   "source": [
    "# start\n",
    "# df['start']=(df.start=='AUTOSTART')*1\n",
    "print(df.start.unique())\n",
    "df.start.value_counts()"
   ]
  },
  {
   "cell_type": "code",
   "execution_count": 105,
   "metadata": {},
   "outputs": [
    {
     "output_type": "stream",
     "name": "stdout",
     "text": [
      "[ 6  7  4  9 12  5  3 11  8 10 15 14 13  2  0]\ncount    40105.000000\nmean         5.823339\nstd          1.922492\nmin          0.000000\n25%          4.000000\n50%          5.000000\n75%          7.000000\nmax         15.000000\nName: ålder, dtype: float64\n"
     ]
    }
   ],
   "source": [
    "# ålder\n",
    "print(df.ålder.unique())\n",
    "print(df.ålder.describe())  # inga NaN"
   ]
  },
  {
   "cell_type": "code",
   "execution_count": 106,
   "metadata": {},
   "outputs": [
    {
     "output_type": "stream",
     "name": "stdout",
     "text": [
      "v    19535\ns    10458\nh    10106\n4        4\n3        1\n5        1\nName: kön, dtype: int64\n"
     ]
    },
    {
     "output_type": "execute_result",
     "data": {
      "text/plain": [
       "array(['v', 's', 'h'], dtype=object)"
      ]
     },
     "metadata": {},
     "execution_count": 106
    }
   ],
   "source": [
    "# kön\n",
    "print(df.kön.value_counts())\n",
    "### De två hästarnas felaktiga kön har jag kunnat hämta från andra tävlingar\n",
    "df.kön = df.kön.str.replace('4','h')  # GIVEITGAS AND GO\n",
    "df.kön = df.kön.str.replace('5','h')  # ESCAPE BOKO\n",
    "df.kön = df.kön.str.replace('3','h')  # CHOCOLATE BOX\n",
    "df.kön.unique()\n"
   ]
  },
  {
   "cell_type": "code",
   "execution_count": 107,
   "metadata": {},
   "outputs": [
    {
     "output_type": "stream",
     "name": "stdout",
     "text": [
      "0\n"
     ]
    },
    {
     "output_type": "execute_result",
     "data": {
      "text/plain": [
       "count      40105\n",
       "mean      188201\n",
       "std       230118\n",
       "min         7000\n",
       "25%       100000\n",
       "50%       125000\n",
       "75%       200000\n",
       "max      2000000\n",
       "Name: pris, dtype: int32"
      ]
     },
     "metadata": {},
     "execution_count": 107
    }
   ],
   "source": [
    "# pris (loppets pris) - skala ner till KSEK\n",
    "print(df.pris.isna().sum())\n",
    "# df.pris=df.pris/1000\n",
    "df.pris.describe().astype(int)"
   ]
  },
  {
   "source": [
    "## hist"
   ],
   "cell_type": "markdown",
   "metadata": {}
  },
  {
   "cell_type": "code",
   "execution_count": 108,
   "metadata": {},
   "outputs": [
    {
     "output_type": "execute_result",
     "data": {
      "text/plain": [
       "Index(['datum', 'avd', 'bana', 'häst', 'kusk', 'streck', 'vodds', 'podds',\n",
       "       'kr', 'spår', 'dist', 'lopp_dist', 'start', 'ålder', 'kön', 'plac',\n",
       "       'pris', 'h1_dat', 'h1_kusk', 'h1_bana', 'h1_spår', 'h1_plac', 'h1_pris',\n",
       "       'h1_odds', 'h1_kmtid', 'h2_dat', 'h2_kusk', 'h2_bana', 'h2_spår',\n",
       "       'h2_plac', 'h2_pris', 'h2_odds', 'h2_kmtid', 'h3_dat', 'h3_kusk',\n",
       "       'h3_bana', 'h3_spår', 'h3_plac', 'h3_pris', 'h3_odds', 'h3_kmtid',\n",
       "       'h4_dat', 'h4_kusk', 'h4_bana', 'h4_spår', 'h4_plac', 'h4_pris',\n",
       "       'h4_odds', 'h4_kmtid', 'h5_dat', 'h5_kusk', 'h5_bana', 'h5_spår',\n",
       "       'h5_plac', 'h5_pris', 'h5_odds', 'h5_kmtid', 'h1_dist', 'h2_dist',\n",
       "       'h3_dist', 'h4_dist', 'h5_dist', 'bins', 'h1_auto', 'h2_auto',\n",
       "       'h3_auto', 'h4_auto', 'h5_auto', 'h1_perf', 'h2_perf', 'h3_perf',\n",
       "       'h4_perf', 'h5_perf', 'senast', 'delta1', 'delta2', 'delta3', 'delta4'],\n",
       "      dtype='object')"
      ]
     },
     "metadata": {},
     "execution_count": 108
    }
   ],
   "source": [
    "df.columns"
   ]
  },
  {
   "cell_type": "code",
   "execution_count": 109,
   "metadata": {},
   "outputs": [],
   "source": [
    "# hx_dat\n",
    "# def hx_dat(dat):\n",
    "#     if dat.dtype not in ['int','int32','int64','float','float32','float64']:\n",
    "#         dat=dat.str.replace('(','',regex=False)\n",
    "#         dat=dat.str.replace(')','',regex=False)\n",
    "#     print(dat.isna().sum())\n",
    "#     # dat=pd.to_datetime(dat,format='%y%m%d')\n",
    "#     return dat\n",
    "\n",
    "# df['h1_dat'] = hx_dat(df.h1_dat.copy())\n",
    "# df['h2_dat'] = hx_dat(df.h2_dat.copy())\n",
    "# df['h3_dat'] = hx_dat(df.h3_dat.copy())\n",
    "# df['h4_dat'] = hx_dat(df.h4_dat.copy())\n",
    "# df['h5_dat'] = hx_dat(df.h5_dat.copy())\n",
    "# df[['h1_dat','h2_dat','h3_dat','h4_dat','h5_dat']].describe()"
   ]
  },
  {
   "cell_type": "code",
   "execution_count": 110,
   "metadata": {},
   "outputs": [
    {
     "output_type": "stream",
     "name": "stdout",
     "text": [
      "0\n",
      "0\n",
      "6\n",
      "28\n",
      "89\n"
     ]
    },
    {
     "output_type": "execute_result",
     "data": {
      "text/plain": [
       "(0, 0, 6, 28, 89)"
      ]
     },
     "metadata": {},
     "execution_count": 110
    }
   ],
   "source": [
    "# hx_kusk - prova om None kan användas för cat_features\n",
    "def hx_kusk(kusk):\n",
    "    print(kusk.isna().sum())\n",
    "    # bättre med 'SAKNAS' än att modellen gör egna 'medelvärden'\n",
    "    kusk.loc[kusk.isna()] = None  # 'SAKNAS'\n",
    "    return kusk\n",
    "df['h1_kusk'] = hx_kusk(df.h1_kusk.copy())\n",
    "df['h2_kusk'] = hx_kusk(df.h2_kusk.copy())\n",
    "df['h3_kusk'] = hx_kusk(df.h3_kusk.copy())\n",
    "df['h4_kusk'] = hx_kusk(df.h4_kusk.copy())\n",
    "df['h5_kusk'] = hx_kusk(df.h5_kusk.copy())\n",
    "\n",
    "# len(df[df.h1_kusk=='SAKNAS']),len(df[df.h2_kusk=='SAKNAS']),len(df[df.h3_kusk=='SAKNAS']),len(df[df.h4_kusk=='SAKNAS']),len(df[df.h5_kusk=='SAKNAS'])    \n",
    "len(df[df.h1_kusk.isna()]),len(df[df.h2_kusk.isna()]),len(df[df.h3_kusk.isna()]),len(df[df.h4_kusk.isna()]),len(df[df.h5_kusk.isna()])    "
   ]
  },
  {
   "cell_type": "code",
   "execution_count": 111,
   "metadata": {},
   "outputs": [
    {
     "output_type": "stream",
     "name": "stdout",
     "text": [
      "0\n",
      "0\n",
      "6\n",
      "28\n",
      "89\n"
     ]
    },
    {
     "output_type": "execute_result",
     "data": {
      "text/plain": [
       "(0, 0, 6, 28, 89)"
      ]
     },
     "metadata": {},
     "execution_count": 111
    }
   ],
   "source": [
    "# hx_bana - prova med None för cat_features\n",
    "def hx_bana(bana):\n",
    "    print(bana.isna().sum())\n",
    "    # bättre med 'SAKNAS' än att modellen gör egna 'medelvärden'\n",
    "    bana.loc[bana.isna()] = None  # 'SAKNAS'\n",
    "    return bana\n",
    "df['h1_bana'] = hx_bana(df.h1_bana.copy())\n",
    "df['h2_bana'] = hx_bana(df.h2_bana.copy())\n",
    "df['h3_bana'] = hx_kusk(df.h3_bana.copy())\n",
    "df['h4_bana'] = hx_bana(df.h4_bana.copy())\n",
    "df['h5_bana'] = hx_bana(df.h5_bana.copy())\n",
    "\n",
    "# len(df[df.h1_bana=='SAKNAS']),len(df[df.h2_bana=='SAKNAS']),len(df[df.h3_bana=='SAKNAS']),len(df[df.h4_bana=='SAKNAS']),len(df[df.h5_bana=='SAKNAS'])    \n",
    "len(df[df.h1_bana.isna()]),len(df[df.h2_bana.isna()]),len(df[df.h3_bana.isna()]),len(df[df.h4_bana.isna()]),len(df[df.h5_bana.isna()])    "
   ]
  },
  {
   "cell_type": "code",
   "execution_count": 112,
   "metadata": {},
   "outputs": [
    {
     "output_type": "stream",
     "name": "stdout",
     "text": [
      "hx_dist NaNs: 0\n",
      "hx_dist NaNs: 0\n",
      "hx_dist NaNs: 6\n",
      "hx_dist NaNs: 28\n",
      "hx_dist NaNs: 89\n"
     ]
    },
    {
     "output_type": "execute_result",
     "data": {
      "text/plain": [
       "            h1_dist       h2_dist       h3_dist       h4_dist       h5_dist\n",
       "count  40105.000000  40105.000000  40099.000000  40077.000000  40016.000000\n",
       "mean    2147.954295   2149.380775   2151.550512   2150.556129   2150.243203\n",
       "std      377.149731    375.928824    373.803566    370.681419    368.303601\n",
       "min      140.000000    140.000000    140.000000    140.000000    140.000000\n",
       "25%     2100.000000   2100.000000   2100.000000   2100.000000   2100.000000\n",
       "50%     2140.000000   2140.000000   2140.000000   2140.000000   2140.000000\n",
       "75%     2160.000000   2160.000000   2160.000000   2160.000000   2160.000000\n",
       "max     4240.000000   4220.000000   4450.000000   4450.000000   4450.000000"
      ],
      "text/html": "<div>\n<style scoped>\n    .dataframe tbody tr th:only-of-type {\n        vertical-align: middle;\n    }\n\n    .dataframe tbody tr th {\n        vertical-align: top;\n    }\n\n    .dataframe thead th {\n        text-align: right;\n    }\n</style>\n<table border=\"1\" class=\"dataframe\">\n  <thead>\n    <tr style=\"text-align: right;\">\n      <th></th>\n      <th>h1_dist</th>\n      <th>h2_dist</th>\n      <th>h3_dist</th>\n      <th>h4_dist</th>\n      <th>h5_dist</th>\n    </tr>\n  </thead>\n  <tbody>\n    <tr>\n      <th>count</th>\n      <td>40105.000000</td>\n      <td>40105.000000</td>\n      <td>40099.000000</td>\n      <td>40077.000000</td>\n      <td>40016.000000</td>\n    </tr>\n    <tr>\n      <th>mean</th>\n      <td>2147.954295</td>\n      <td>2149.380775</td>\n      <td>2151.550512</td>\n      <td>2150.556129</td>\n      <td>2150.243203</td>\n    </tr>\n    <tr>\n      <th>std</th>\n      <td>377.149731</td>\n      <td>375.928824</td>\n      <td>373.803566</td>\n      <td>370.681419</td>\n      <td>368.303601</td>\n    </tr>\n    <tr>\n      <th>min</th>\n      <td>140.000000</td>\n      <td>140.000000</td>\n      <td>140.000000</td>\n      <td>140.000000</td>\n      <td>140.000000</td>\n    </tr>\n    <tr>\n      <th>25%</th>\n      <td>2100.000000</td>\n      <td>2100.000000</td>\n      <td>2100.000000</td>\n      <td>2100.000000</td>\n      <td>2100.000000</td>\n    </tr>\n    <tr>\n      <th>50%</th>\n      <td>2140.000000</td>\n      <td>2140.000000</td>\n      <td>2140.000000</td>\n      <td>2140.000000</td>\n      <td>2140.000000</td>\n    </tr>\n    <tr>\n      <th>75%</th>\n      <td>2160.000000</td>\n      <td>2160.000000</td>\n      <td>2160.000000</td>\n      <td>2160.000000</td>\n      <td>2160.000000</td>\n    </tr>\n    <tr>\n      <th>max</th>\n      <td>4240.000000</td>\n      <td>4220.000000</td>\n      <td>4450.000000</td>\n      <td>4450.000000</td>\n      <td>4450.000000</td>\n    </tr>\n  </tbody>\n</table>\n</div>"
     },
     "metadata": {},
     "execution_count": 112
    }
   ],
   "source": [
    "# hx_dist\n",
    "def hx_dist(dist):\n",
    "    print('hx_dist NaNs:',dist.isna().sum())\n",
    "    return dist.astype(float)\n",
    "df['h1_dist'] = hx_dist(df.h1_dist)\n",
    "df['h2_dist'] = hx_dist(df.h2_dist)\n",
    "df['h3_dist'] = hx_dist(df.h3_dist)\n",
    "df['h4_dist'] = hx_dist(df.h4_dist)\n",
    "df['h5_dist'] = hx_dist(df.h5_dist)\n",
    "df[['h1_dist','h2_dist','h3_dist','h4_dist','h5_dist']].describe()"
   ]
  },
  {
   "cell_type": "code",
   "execution_count": 113,
   "metadata": {},
   "outputs": [
    {
     "output_type": "execute_result",
     "data": {
      "text/plain": [
       "            h1_spår       h2_spår       h3_spår       h4_spår       h5_spår\n",
       "count  37175.000000  37175.000000  37175.000000  37175.000000  37175.000000\n",
       "mean       5.454338      5.454338      5.454338      5.454338      5.454338\n",
       "std        3.315060      3.315060      3.315060      3.315060      3.315060\n",
       "min        1.000000      1.000000      1.000000      1.000000      1.000000\n",
       "25%        3.000000      3.000000      3.000000      3.000000      3.000000\n",
       "50%        5.000000      5.000000      5.000000      5.000000      5.000000\n",
       "75%        8.000000      8.000000      8.000000      8.000000      8.000000\n",
       "max       16.000000     16.000000     16.000000     16.000000     16.000000"
      ],
      "text/html": "<div>\n<style scoped>\n    .dataframe tbody tr th:only-of-type {\n        vertical-align: middle;\n    }\n\n    .dataframe tbody tr th {\n        vertical-align: top;\n    }\n\n    .dataframe thead th {\n        text-align: right;\n    }\n</style>\n<table border=\"1\" class=\"dataframe\">\n  <thead>\n    <tr style=\"text-align: right;\">\n      <th></th>\n      <th>h1_spår</th>\n      <th>h2_spår</th>\n      <th>h3_spår</th>\n      <th>h4_spår</th>\n      <th>h5_spår</th>\n    </tr>\n  </thead>\n  <tbody>\n    <tr>\n      <th>count</th>\n      <td>37175.000000</td>\n      <td>37175.000000</td>\n      <td>37175.000000</td>\n      <td>37175.000000</td>\n      <td>37175.000000</td>\n    </tr>\n    <tr>\n      <th>mean</th>\n      <td>5.454338</td>\n      <td>5.454338</td>\n      <td>5.454338</td>\n      <td>5.454338</td>\n      <td>5.454338</td>\n    </tr>\n    <tr>\n      <th>std</th>\n      <td>3.315060</td>\n      <td>3.315060</td>\n      <td>3.315060</td>\n      <td>3.315060</td>\n      <td>3.315060</td>\n    </tr>\n    <tr>\n      <th>min</th>\n      <td>1.000000</td>\n      <td>1.000000</td>\n      <td>1.000000</td>\n      <td>1.000000</td>\n      <td>1.000000</td>\n    </tr>\n    <tr>\n      <th>25%</th>\n      <td>3.000000</td>\n      <td>3.000000</td>\n      <td>3.000000</td>\n      <td>3.000000</td>\n      <td>3.000000</td>\n    </tr>\n    <tr>\n      <th>50%</th>\n      <td>5.000000</td>\n      <td>5.000000</td>\n      <td>5.000000</td>\n      <td>5.000000</td>\n      <td>5.000000</td>\n    </tr>\n    <tr>\n      <th>75%</th>\n      <td>8.000000</td>\n      <td>8.000000</td>\n      <td>8.000000</td>\n      <td>8.000000</td>\n      <td>8.000000</td>\n    </tr>\n    <tr>\n      <th>max</th>\n      <td>16.000000</td>\n      <td>16.000000</td>\n      <td>16.000000</td>\n      <td>16.000000</td>\n      <td>16.000000</td>\n    </tr>\n  </tbody>\n</table>\n</div>"
     },
     "metadata": {},
     "execution_count": 113
    }
   ],
   "source": [
    "# hx_spår\n",
    "df[['h1_spår','h2_spår','h3_spår','h4_spår','h5_spår']].describe()"
   ]
  },
  {
   "cell_type": "code",
   "execution_count": 114,
   "metadata": {},
   "outputs": [],
   "source": [
    "### sätt alla NaN's till None om det går\n",
    "nan_columns = df.loc[:,(df.isna().sum()>0).values].columns # alla kolumne med NaN\n",
    "for c in nan_columns:\n",
    "    df.loc[df[c].isna(),c] = None\n"
   ]
  },
  {
   "cell_type": "code",
   "execution_count": 115,
   "metadata": {},
   "outputs": [
    {
     "output_type": "execute_result",
     "data": {
      "text/plain": [
       "            h1_plac       h2_plac      h3_plac      h4_plac      h5_plac\n",
       "count  40098.000000  40104.000000  40098.00000  40098.00000  40098.00000\n",
       "mean       5.651579      5.832411      5.85109      5.85109      5.85109\n",
       "std        5.784504      5.924734      5.93321      5.93321      5.93321\n",
       "min        1.000000      1.000000      1.00000      1.00000      1.00000\n",
       "25%        2.000000      2.000000      1.00000      1.00000      1.00000\n",
       "50%        3.000000      3.000000      3.00000      3.00000      3.00000\n",
       "75%        6.000000      7.000000      7.00000      7.00000      7.00000\n",
       "max       20.000000     20.000000     20.00000     20.00000     20.00000"
      ],
      "text/html": "<div>\n<style scoped>\n    .dataframe tbody tr th:only-of-type {\n        vertical-align: middle;\n    }\n\n    .dataframe tbody tr th {\n        vertical-align: top;\n    }\n\n    .dataframe thead th {\n        text-align: right;\n    }\n</style>\n<table border=\"1\" class=\"dataframe\">\n  <thead>\n    <tr style=\"text-align: right;\">\n      <th></th>\n      <th>h1_plac</th>\n      <th>h2_plac</th>\n      <th>h3_plac</th>\n      <th>h4_plac</th>\n      <th>h5_plac</th>\n    </tr>\n  </thead>\n  <tbody>\n    <tr>\n      <th>count</th>\n      <td>40098.000000</td>\n      <td>40104.000000</td>\n      <td>40098.00000</td>\n      <td>40098.00000</td>\n      <td>40098.00000</td>\n    </tr>\n    <tr>\n      <th>mean</th>\n      <td>5.651579</td>\n      <td>5.832411</td>\n      <td>5.85109</td>\n      <td>5.85109</td>\n      <td>5.85109</td>\n    </tr>\n    <tr>\n      <th>std</th>\n      <td>5.784504</td>\n      <td>5.924734</td>\n      <td>5.93321</td>\n      <td>5.93321</td>\n      <td>5.93321</td>\n    </tr>\n    <tr>\n      <th>min</th>\n      <td>1.000000</td>\n      <td>1.000000</td>\n      <td>1.00000</td>\n      <td>1.00000</td>\n      <td>1.00000</td>\n    </tr>\n    <tr>\n      <th>25%</th>\n      <td>2.000000</td>\n      <td>2.000000</td>\n      <td>1.00000</td>\n      <td>1.00000</td>\n      <td>1.00000</td>\n    </tr>\n    <tr>\n      <th>50%</th>\n      <td>3.000000</td>\n      <td>3.000000</td>\n      <td>3.00000</td>\n      <td>3.00000</td>\n      <td>3.00000</td>\n    </tr>\n    <tr>\n      <th>75%</th>\n      <td>6.000000</td>\n      <td>7.000000</td>\n      <td>7.00000</td>\n      <td>7.00000</td>\n      <td>7.00000</td>\n    </tr>\n    <tr>\n      <th>max</th>\n      <td>20.000000</td>\n      <td>20.000000</td>\n      <td>20.00000</td>\n      <td>20.00000</td>\n      <td>20.00000</td>\n    </tr>\n  </tbody>\n</table>\n</div>"
     },
     "metadata": {},
     "execution_count": 115
    }
   ],
   "source": [
    "# hx_plac\n",
    "# def hx_plac(plac):\n",
    "#     plac=plac.str.replace('r','',regex=False)\n",
    "#     plac=plac.str.replace('d','20',regex=False)\n",
    "#     # plac=plac.str.replace('0','15',regex=False)  # '10' 0ch '20'!\n",
    "#     plac=plac.astype('float')\n",
    "#     plac.loc[plac==0.0] = 15\n",
    "#     return plac.astype('float')\n",
    "    \n",
    "# df.loc[df.h1_plac=='p',['h1_plac','h1_odds', 'h1_kmtid','h1_pris']]=None\n",
    "# df.loc[df.h2_plac=='p',['h2_plac','h2_odds', 'h2_kmtid','h2_pris']]=None\n",
    "# df.loc[df.h3_plac=='p',['h3_plac','h3_odds', 'h3_kmtid','h3_pris']]=None\n",
    "# df.loc[df.h4_plac=='p',['h4_plac','h4_odds', 'h4_kmtid','h4_pris']]=None\n",
    "# df.loc[df.h5_plac=='p',['h5_plac','h5_odds', 'h5_kmtid','h5_pris']]=None\n",
    "# df.loc[df.h1_plac=='k',['h1_plac','h1_odds', 'h1_kmtid','h1_pris']]=None\n",
    "# df.loc[df.h2_plac=='k',['h2_plac','h2_odds', 'h2_kmtid','h2_pris']]=None\n",
    "# df.loc[df.h3_plac=='k',['h3_plac','h3_odds', 'h3_kmtid','h3_pris']]=None\n",
    "# df.loc[df.h4_plac=='k',['h4_plac','h4_odds', 'h4_kmtid','h4_pris']]=None\n",
    "# df.loc[df.h5_plac=='k',['h5_plac','h5_odds', 'h5_kmtid','h5_pris']]=None\n",
    "\n",
    "# df.h1_plac=hx_plac(df.h1_plac)\n",
    "# df.h2_plac=hx_plac(df.h2_plac)\n",
    "# df.h3_plac=hx_plac(df.h3_plac)\n",
    "# df.h4_plac=hx_plac(df.h4_plac)\n",
    "# df.h5_plac=hx_plac(df.h5_plac)\n",
    "df[['h1_plac','h2_plac','h3_plac','h4_plac','h5_plac']].describe()"
   ]
  },
  {
   "cell_type": "code",
   "execution_count": 135,
   "metadata": {},
   "outputs": [
    {
     "output_type": "execute_result",
     "data": {
      "text/plain": [
       "       h1_pris  h2_pris  h3_pris  h4_pris  h5_pris\n",
       "count    36882    36317    35880    35473    35095\n",
       "mean       103      107      100       98       95\n",
       "std        157      187      178      186      178\n",
       "min          3        2        2        2        3\n",
       "25%         31       30       30       30       30\n",
       "50%         70       60       60       50       50\n",
       "75%        125      110      110      100      100\n",
       "max       2000     3000     3000     3000     3000"
      ],
      "text/html": "<div>\n<style scoped>\n    .dataframe tbody tr th:only-of-type {\n        vertical-align: middle;\n    }\n\n    .dataframe tbody tr th {\n        vertical-align: top;\n    }\n\n    .dataframe thead th {\n        text-align: right;\n    }\n</style>\n<table border=\"1\" class=\"dataframe\">\n  <thead>\n    <tr style=\"text-align: right;\">\n      <th></th>\n      <th>h1_pris</th>\n      <th>h2_pris</th>\n      <th>h3_pris</th>\n      <th>h4_pris</th>\n      <th>h5_pris</th>\n    </tr>\n  </thead>\n  <tbody>\n    <tr>\n      <th>count</th>\n      <td>36882</td>\n      <td>36317</td>\n      <td>35880</td>\n      <td>35473</td>\n      <td>35095</td>\n    </tr>\n    <tr>\n      <th>mean</th>\n      <td>103</td>\n      <td>107</td>\n      <td>100</td>\n      <td>98</td>\n      <td>95</td>\n    </tr>\n    <tr>\n      <th>std</th>\n      <td>157</td>\n      <td>187</td>\n      <td>178</td>\n      <td>186</td>\n      <td>178</td>\n    </tr>\n    <tr>\n      <th>min</th>\n      <td>3</td>\n      <td>2</td>\n      <td>2</td>\n      <td>2</td>\n      <td>3</td>\n    </tr>\n    <tr>\n      <th>25%</th>\n      <td>31</td>\n      <td>30</td>\n      <td>30</td>\n      <td>30</td>\n      <td>30</td>\n    </tr>\n    <tr>\n      <th>50%</th>\n      <td>70</td>\n      <td>60</td>\n      <td>60</td>\n      <td>50</td>\n      <td>50</td>\n    </tr>\n    <tr>\n      <th>75%</th>\n      <td>125</td>\n      <td>110</td>\n      <td>110</td>\n      <td>100</td>\n      <td>100</td>\n    </tr>\n    <tr>\n      <th>max</th>\n      <td>2000</td>\n      <td>3000</td>\n      <td>3000</td>\n      <td>3000</td>\n      <td>3000</td>\n    </tr>\n  </tbody>\n</table>\n</div>"
     },
     "metadata": {},
     "execution_count": 135
    }
   ],
   "source": [
    "# hx_pris\n",
    "df[['h1_pris','h2_pris','h3_pris','h4_pris','h5_pris']].describe().astype(int)\n"
   ]
  },
  {
   "cell_type": "code",
   "execution_count": 136,
   "metadata": {},
   "outputs": [],
   "source": [
    "# hx_odds\n",
    "# def hx_odds(odds):\n",
    "#     odds.loc[odds=='-']=None\n",
    "#     odds.loc[odds.str.lower()=='p']=None\n",
    "\n",
    "#     return odds\n",
    "\n",
    "# # hx_odds(df.h1_odds.copy())\n",
    "# df.loc[df.h1_odds.str.lower()=='gdk',['h1_odds','h1_plac','h1_kmtid','h1_pris']]=None\n",
    "# df.loc[df.h2_odds.str.lower()=='gdk',['h2_odds','h2_plac','h2_kmtid','h2_pris']]=None\n",
    "# df.loc[df.h3_odds.str.lower()=='gdk',['h3_odds','h3_plac','h3_kmtid','h3_pris']]=None\n",
    "# df.loc[df.h4_odds.str.lower()=='gdk',['h4_odds','h4_plac','h4_kmtid','h4_pris']]=None\n",
    "# df.loc[df.h5_odds.str.lower()=='gdk',['h5_odds','h5_plac','h5_kmtid','h5_pris']]=None\n",
    "# df.loc[df.h1_odds.str.lower()=='ejg',['h1_odds','h1_plac','h1_kmtid','h1_pris']]=None\n",
    "# df.loc[df.h2_odds.str.lower()=='ejg',['h2_odds','h2_plac','h2_kmtid','h2_pris']]=None\n",
    "# df.loc[df.h3_odds.str.lower()=='ejg',['h3_odds','h3_plac','h3_kmtid','h3_pris']]=None\n",
    "# df.loc[df.h4_odds.str.lower()=='ejg',['h4_odds','h4_plac','h4_kmtid','h4_pris']]=None\n",
    "# df.loc[df.h5_odds.str.lower()=='ejg',['h5_odds','h5_plac','h5_kmtid','h5_pris']]=None\n",
    "\n",
    "# df.loc[df.h1_odds.str.lower()=='b-lp',['h1_odds','h1_plac','h1_kmtid','h1_pris']]=None\n",
    "# df.loc[df.h2_odds.str.lower()=='b-lp',['h2_odds','h2_plac','h2_kmtid','h2_pris']]=None\n",
    "# df.loc[df.h3_odds.str.lower()=='b-lp',['h3_odds','h3_plac','h3_kmtid','h3_pris']]=None\n",
    "# df.loc[df.h4_odds.str.lower()=='b-lp',['h4_odds','h4_plac','h4_kmtid','h4_pris']]=None\n",
    "# df.loc[df.h5_odds.str.lower()=='b-lp',['h5_odds','h5_plac','h5_kmtid','h5_pris']]=None\n",
    "\n",
    "df=df[df.h3_odds!='ut'].copy() #ta bort häst med felaktig historia\n",
    "\n",
    "df['h1_odds'] = df.h1_odds.astype(float)\n",
    "df['h2_odds'] = df.h2_odds.astype(float)\n",
    "df['h3_odds'] = df.h3_odds.astype(float)\n",
    "df['h4_odds'] = df.h4_odds.astype(float)\n",
    "df['h5_odds'] = df.h5_odds.astype(float)"
   ]
  },
  {
   "cell_type": "code",
   "execution_count": 137,
   "metadata": {},
   "outputs": [
    {
     "output_type": "execute_result",
     "data": {
      "text/plain": [
       "            h1_odds       h2_odds       h3_odds       h4_odds       h5_odds\n",
       "count  39878.000000  39874.000000  39805.000000  39684.000000  39473.000000\n",
       "mean      15.413108     15.254895     15.277706     15.457799     15.882528\n",
       "std       21.780727     21.646118     22.083987     22.386997     23.097722\n",
       "min        1.000000      1.000000      0.500000      1.000000      1.000000\n",
       "25%        3.500000      3.490000      3.430000      3.450000      3.460000\n",
       "50%        7.345000      7.240000      7.170000      7.225000      7.370000\n",
       "75%       17.720000     17.480000     17.270000     17.450000     17.890000\n",
       "max      496.650000    359.360000    366.560000    487.450000    689.300000"
      ],
      "text/html": "<div>\n<style scoped>\n    .dataframe tbody tr th:only-of-type {\n        vertical-align: middle;\n    }\n\n    .dataframe tbody tr th {\n        vertical-align: top;\n    }\n\n    .dataframe thead th {\n        text-align: right;\n    }\n</style>\n<table border=\"1\" class=\"dataframe\">\n  <thead>\n    <tr style=\"text-align: right;\">\n      <th></th>\n      <th>h1_odds</th>\n      <th>h2_odds</th>\n      <th>h3_odds</th>\n      <th>h4_odds</th>\n      <th>h5_odds</th>\n    </tr>\n  </thead>\n  <tbody>\n    <tr>\n      <th>count</th>\n      <td>39878.000000</td>\n      <td>39874.000000</td>\n      <td>39805.000000</td>\n      <td>39684.000000</td>\n      <td>39473.000000</td>\n    </tr>\n    <tr>\n      <th>mean</th>\n      <td>15.413108</td>\n      <td>15.254895</td>\n      <td>15.277706</td>\n      <td>15.457799</td>\n      <td>15.882528</td>\n    </tr>\n    <tr>\n      <th>std</th>\n      <td>21.780727</td>\n      <td>21.646118</td>\n      <td>22.083987</td>\n      <td>22.386997</td>\n      <td>23.097722</td>\n    </tr>\n    <tr>\n      <th>min</th>\n      <td>1.000000</td>\n      <td>1.000000</td>\n      <td>0.500000</td>\n      <td>1.000000</td>\n      <td>1.000000</td>\n    </tr>\n    <tr>\n      <th>25%</th>\n      <td>3.500000</td>\n      <td>3.490000</td>\n      <td>3.430000</td>\n      <td>3.450000</td>\n      <td>3.460000</td>\n    </tr>\n    <tr>\n      <th>50%</th>\n      <td>7.345000</td>\n      <td>7.240000</td>\n      <td>7.170000</td>\n      <td>7.225000</td>\n      <td>7.370000</td>\n    </tr>\n    <tr>\n      <th>75%</th>\n      <td>17.720000</td>\n      <td>17.480000</td>\n      <td>17.270000</td>\n      <td>17.450000</td>\n      <td>17.890000</td>\n    </tr>\n    <tr>\n      <th>max</th>\n      <td>496.650000</td>\n      <td>359.360000</td>\n      <td>366.560000</td>\n      <td>487.450000</td>\n      <td>689.300000</td>\n    </tr>\n  </tbody>\n</table>\n</div>"
     },
     "metadata": {},
     "execution_count": 137
    }
   ],
   "source": [
    "df[['h1_odds','h2_odds','h3_odds','h4_odds','h5_odds']].describe()"
   ]
  },
  {
   "cell_type": "code",
   "execution_count": 138,
   "metadata": {},
   "outputs": [
    {
     "output_type": "execute_result",
     "data": {
      "text/plain": [
       "           h1_kmtid      h2_kmtid      h3_kmtid      h4_kmtid      h5_kmtid\n",
       "count  40101.000000  40102.000000  40095.000000  40073.000000  40008.000000\n",
       "mean      16.199399     16.388918     16.482878     16.565648     16.676735\n",
       "std        5.138662      5.254963      5.269420      5.276258      5.346611\n",
       "min        8.100000      8.600000      8.200000      8.500000      1.200000\n",
       "25%       13.300000     13.400000     13.500000     13.500000     13.600000\n",
       "50%       14.600000     14.700000     14.800000     14.900000     15.000000\n",
       "75%       16.300000     16.400000     16.500000     16.600000     16.800000\n",
       "max       44.000000     38.900000     44.000000     58.900000     59.900000"
      ],
      "text/html": "<div>\n<style scoped>\n    .dataframe tbody tr th:only-of-type {\n        vertical-align: middle;\n    }\n\n    .dataframe tbody tr th {\n        vertical-align: top;\n    }\n\n    .dataframe thead th {\n        text-align: right;\n    }\n</style>\n<table border=\"1\" class=\"dataframe\">\n  <thead>\n    <tr style=\"text-align: right;\">\n      <th></th>\n      <th>h1_kmtid</th>\n      <th>h2_kmtid</th>\n      <th>h3_kmtid</th>\n      <th>h4_kmtid</th>\n      <th>h5_kmtid</th>\n    </tr>\n  </thead>\n  <tbody>\n    <tr>\n      <th>count</th>\n      <td>40101.000000</td>\n      <td>40102.000000</td>\n      <td>40095.000000</td>\n      <td>40073.000000</td>\n      <td>40008.000000</td>\n    </tr>\n    <tr>\n      <th>mean</th>\n      <td>16.199399</td>\n      <td>16.388918</td>\n      <td>16.482878</td>\n      <td>16.565648</td>\n      <td>16.676735</td>\n    </tr>\n    <tr>\n      <th>std</th>\n      <td>5.138662</td>\n      <td>5.254963</td>\n      <td>5.269420</td>\n      <td>5.276258</td>\n      <td>5.346611</td>\n    </tr>\n    <tr>\n      <th>min</th>\n      <td>8.100000</td>\n      <td>8.600000</td>\n      <td>8.200000</td>\n      <td>8.500000</td>\n      <td>1.200000</td>\n    </tr>\n    <tr>\n      <th>25%</th>\n      <td>13.300000</td>\n      <td>13.400000</td>\n      <td>13.500000</td>\n      <td>13.500000</td>\n      <td>13.600000</td>\n    </tr>\n    <tr>\n      <th>50%</th>\n      <td>14.600000</td>\n      <td>14.700000</td>\n      <td>14.800000</td>\n      <td>14.900000</td>\n      <td>15.000000</td>\n    </tr>\n    <tr>\n      <th>75%</th>\n      <td>16.300000</td>\n      <td>16.400000</td>\n      <td>16.500000</td>\n      <td>16.600000</td>\n      <td>16.800000</td>\n    </tr>\n    <tr>\n      <th>max</th>\n      <td>44.000000</td>\n      <td>38.900000</td>\n      <td>44.000000</td>\n      <td>58.900000</td>\n      <td>59.900000</td>\n    </tr>\n  </tbody>\n</table>\n</div>"
     },
     "metadata": {},
     "execution_count": 138
    }
   ],
   "source": [
    "# hx_kmtid\n",
    "# def hx_kmtid(kmtid):\n",
    "#     kmtid.loc[kmtid.str.get(-1)=='g'] = kmtid.loc[kmtid.str.get(-1)=='g'].str.replace('g','',regex=False)\n",
    "#     kmtid.loc[kmtid.str.get(-1)=='a'] = kmtid.loc[kmtid.str.get(-1)=='a'].str.replace('a','',regex=False)\n",
    "#     kmtid.loc[kmtid.str.get(-1)=='l'] = kmtid.loc[kmtid.str.get(-1)=='l'].str.replace('l','',regex=False)\n",
    "#     kmtid.loc[kmtid.str.get(0)=='g']=None\n",
    "#     kmtid.loc[kmtid.str.get(0)=='m']=None\n",
    "#     kmtid.loc[kmtid.notna()&kmtid.str.contains('dm',regex=False)]=None\n",
    "#     kmtid.loc[kmtid.notna()&kmtid.str.contains('vs',regex=False)]=None\n",
    "#     kmtid.loc[kmtid.notna()&kmtid.str.contains('tr',regex=False)]=None\n",
    "#     kmtid.loc[kmtid.notna()&kmtid.str.contains('kub',regex=False)]=None\n",
    "#     kmtid.loc[kmtid.notna()&kmtid.str.contains('frd',regex=False)]=None\n",
    "#     kmtid.loc[kmtid.notna()&kmtid.str.contains('nf',regex=False)]=None\n",
    "#     kmtid.loc[kmtid.notna()&kmtid.str.contains('p',regex=False)]=None  # passgång\n",
    "#     kmtid=kmtid.str.replace(',','.',regex=False)\n",
    "#     kmtid=kmtid.str.replace(' ','',regex=False)\n",
    "#     kmtid.loc[kmtid=='it']=None  # 'it' = ingen tidtagning\n",
    "#     kmtid.loc[kmtid=='vänd']=None  # 'vänd' = ekipaget vände om\n",
    "#     kmtid.loc[kmtid=='dist']=None  # 'dist' = distanserad \n",
    "#     kmtid.loc[kmtid=='']=None  \n",
    "#     kmtid.loc[kmtid=='-']=None  \n",
    "#     kmtid.loc[kmtid=='u']=None  \n",
    "#     kmtid.loc[kmtid=='ul']=None       # 'ulg' utgått o galopp men'g' försvann ovan\n",
    "#     return kmtid\n",
    "\n",
    "# df['h1_auto'] = df.h1_kmtid.str.get(-1)=='a'\n",
    "# df['h2_auto'] = df.h2_kmtid.str.get(-1)=='a'\n",
    "# df['h3_auto'] = df.h3_kmtid.str.get(-1)=='a'\n",
    "# df['h4_auto'] = df.h4_kmtid.str.get(-1)=='a'\n",
    "# df['h5_auto'] = df.h5_kmtid.str.get(-1)=='a'\n",
    "\n",
    "# df.h1_kmtid = hx_kmtid(df.h1_kmtid.copy()).astype('float')\n",
    "# df.h2_kmtid = hx_kmtid(df.h2_kmtid.copy()).astype('float')\n",
    "# df.h3_kmtid = hx_kmtid(df.h3_kmtid.copy()).astype('float')\n",
    "# df.h4_kmtid = hx_kmtid(df.h4_kmtid.copy()).astype('float')\n",
    "# df.h5_kmtid = hx_kmtid(df.h5_kmtid.copy()).astype('float')\n",
    "df[['h1_kmtid','h2_kmtid','h3_kmtid','h4_kmtid','h5_kmtid']].describe()"
   ]
  },
  {
   "cell_type": "code",
   "execution_count": 139,
   "metadata": {},
   "outputs": [
    {
     "output_type": "stream",
     "name": "stdout",
     "text": [
      "<class 'pandas.core.frame.DataFrame'>\nInt64Index: 40105 entries, 0 to 40104\nData columns (total 78 columns):\n #   Column     Non-Null Count  Dtype         \n---  ------     --------------  -----         \n 0   datum      40105 non-null  object        \n 1   avd        40105 non-null  int64         \n 2   bana       40105 non-null  object        \n 3   häst       40105 non-null  object        \n 4   kusk       40105 non-null  object        \n 5   streck     40105 non-null  int64         \n 6   vodds      40105 non-null  float64       \n 7   podds      40105 non-null  float64       \n 8   kr         40105 non-null  int64         \n 9   spår       40016 non-null  float64       \n 10  dist       40105 non-null  float64       \n 11  lopp_dist  40105 non-null  int64         \n 12  start      40105 non-null  int64         \n 13  ålder      40105 non-null  int64         \n 14  kön        40105 non-null  object        \n 15  plac       40105 non-null  int32         \n 16  pris       40105 non-null  int64         \n 17  h1_dat     40105 non-null  datetime64[ns]\n 18  h1_kusk    40105 non-null  object        \n 19  h1_bana    40105 non-null  object        \n 20  h1_spår    37175 non-null  float64       \n 21  h1_plac    40098 non-null  float64       \n 22  h1_pris    36882 non-null  float64       \n 23  h1_odds    39878 non-null  float64       \n 24  h1_kmtid   40101 non-null  float64       \n 25  h2_dat     40105 non-null  datetime64[ns]\n 26  h2_kusk    40105 non-null  object        \n 27  h2_bana    40105 non-null  object        \n 28  h2_spår    37175 non-null  float64       \n 29  h2_plac    40104 non-null  float64       \n 30  h2_pris    36317 non-null  float64       \n 31  h2_odds    39874 non-null  float64       \n 32  h2_kmtid   40102 non-null  float64       \n 33  h3_dat     40099 non-null  datetime64[ns]\n 34  h3_kusk    40099 non-null  object        \n 35  h3_bana    40099 non-null  object        \n 36  h3_spår    37175 non-null  float64       \n 37  h3_plac    40098 non-null  float64       \n 38  h3_pris    35880 non-null  float64       \n 39  h3_odds    39805 non-null  float64       \n 40  h3_kmtid   40095 non-null  float64       \n 41  h4_dat     40077 non-null  datetime64[ns]\n 42  h4_kusk    40077 non-null  object        \n 43  h4_bana    40077 non-null  object        \n 44  h4_spår    37175 non-null  float64       \n 45  h4_plac    40098 non-null  float64       \n 46  h4_pris    35473 non-null  float64       \n 47  h4_odds    39684 non-null  float64       \n 48  h4_kmtid   40073 non-null  float64       \n 49  h5_dat     40016 non-null  datetime64[ns]\n 50  h5_kusk    40016 non-null  object        \n 51  h5_bana    40016 non-null  object        \n 52  h5_spår    37175 non-null  float64       \n 53  h5_plac    40098 non-null  float64       \n 54  h5_pris    35095 non-null  float64       \n 55  h5_odds    39473 non-null  float64       \n 56  h5_kmtid   40008 non-null  float64       \n 57  h1_dist    40105 non-null  float64       \n 58  h2_dist    40105 non-null  float64       \n 59  h3_dist    40099 non-null  float64       \n 60  h4_dist    40077 non-null  float64       \n 61  h5_dist    40016 non-null  float64       \n 62  bins       40105 non-null  int64         \n 63  h1_auto    40105 non-null  int32         \n 64  h2_auto    40105 non-null  int32         \n 65  h3_auto    40105 non-null  int32         \n 66  h4_auto    40105 non-null  int32         \n 67  h5_auto    40105 non-null  int32         \n 68  h1_perf    36876 non-null  float64       \n 69  h2_perf    36317 non-null  float64       \n 70  h3_perf    35880 non-null  float64       \n 71  h4_perf    35473 non-null  float64       \n 72  h5_perf    35095 non-null  float64       \n 73  senast     40105 non-null  float64       \n 74  delta1     40105 non-null  float64       \n 75  delta2     40099 non-null  float64       \n 76  delta3     40077 non-null  float64       \n 77  delta4     40016 non-null  float64       \ndtypes: datetime64[ns](5), float64(44), int32(6), int64(8), object(15)\nmemory usage: 23.3+ MB\n"
     ]
    }
   ],
   "source": [
    "df.info()"
   ]
  },
  {
   "cell_type": "code",
   "execution_count": 140,
   "metadata": {},
   "outputs": [
    {
     "output_type": "stream",
     "name": "stdout",
     "text": [
      "78\n"
     ]
    },
    {
     "output_type": "execute_result",
     "data": {
      "text/plain": [
       "Index(['datum', 'avd', 'bana', 'häst', 'kusk', 'streck', 'vodds', 'podds',\n",
       "       'kr', 'spår', 'dist', 'lopp_dist', 'start', 'ålder', 'kön', 'plac',\n",
       "       'pris', 'h1_dat', 'h1_kusk', 'h1_bana', 'h1_spår', 'h1_plac', 'h1_pris',\n",
       "       'h1_odds', 'h1_kmtid', 'h2_dat', 'h2_kusk', 'h2_bana', 'h2_spår',\n",
       "       'h2_plac', 'h2_pris', 'h2_odds', 'h2_kmtid', 'h3_dat', 'h3_kusk',\n",
       "       'h3_bana', 'h3_spår', 'h3_plac', 'h3_pris', 'h3_odds', 'h3_kmtid',\n",
       "       'h4_dat', 'h4_kusk', 'h4_bana', 'h4_spår', 'h4_plac', 'h4_pris',\n",
       "       'h4_odds', 'h4_kmtid', 'h5_dat', 'h5_kusk', 'h5_bana', 'h5_spår',\n",
       "       'h5_plac', 'h5_pris', 'h5_odds', 'h5_kmtid', 'h1_dist', 'h2_dist',\n",
       "       'h3_dist', 'h4_dist', 'h5_dist', 'bins', 'h1_auto', 'h2_auto',\n",
       "       'h3_auto', 'h4_auto', 'h5_auto', 'h1_perf', 'h2_perf', 'h3_perf',\n",
       "       'h4_perf', 'h5_perf', 'senast', 'delta1', 'delta2', 'delta3', 'delta4'],\n",
       "      dtype='object')"
      ]
     },
     "metadata": {},
     "execution_count": 140
    }
   ],
   "source": [
    "print(len(df.columns))\n",
    "df.columns"
   ]
  },
  {
   "cell_type": "code",
   "execution_count": 141,
   "metadata": {},
   "outputs": [],
   "source": [
    "df.to_csv('all_data.csv',index=False,date_format='%s')"
   ]
  },
  {
   "cell_type": "code",
   "execution_count": null,
   "metadata": {},
   "outputs": [],
   "source": [
    "df.info()"
   ]
  }
 ]
}