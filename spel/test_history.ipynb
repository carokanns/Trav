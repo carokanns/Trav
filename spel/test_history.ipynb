{
 "metadata": {
  "language_info": {
   "codemirror_mode": {
    "name": "ipython",
    "version": 3
   },
   "file_extension": ".py",
   "mimetype": "text/x-python",
   "name": "python",
   "nbconvert_exporter": "python",
   "pygments_lexer": "ipython3",
   "version": "3.8.5-final"
  },
  "orig_nbformat": 2,
  "kernelspec": {
   "name": "python3",
   "display_name": "Python 3",
   "language": "python"
  }
 },
 "nbformat": 4,
 "nbformat_minor": 2,
 "cells": [
  {
   "source": [
    "# Testa om history h1-h5 kan användas ensamt\n"
   ],
   "cell_type": "markdown",
   "metadata": {}
  },
  {
   "cell_type": "code",
   "execution_count": null,
   "metadata": {
    "tags": []
   },
   "outputs": [],
   "source": [
    "!pip install bayesian-optimization\n",
    "import pandas as pd\n",
    "import numpy as np\n",
    "import fixa_features as ff\n",
    "import fixa_mer_features as ff2\n",
    "\n",
    "from catboost import CatBoostClassifier as CB\n",
    "from catboost import Pool,cv\n",
    "from catboost.utils import get_confusion_matrix \n",
    "from bayes_opt import BayesianOptimization\n",
    "from sklearn import metrics\n",
    "from sklearn.metrics import precision_score\n",
    "from sklearn.metrics import accuracy_score\n",
    "from sklearn.model_selection import cross_val_score\n",
    "\n",
    "pd.set_option('mode.chained_assignment',None)\n",
    "\n",
    "df=pd.read_csv('mer_komplett.csv')\n",
    "# df.drop('tid',axis=1,inplace=True)\n",
    "\n",
    "# df=ff2.fixa_mer_features(df,hist=True)\n",
    "df.lopp_dist=df.lopp_dist.astype('float')\n",
    "df.plac = (df.plac==1)*1\n",
    "print(df.plac.value_counts())  # CatBoost fungerar bättre med 0,1 än False, True\n",
    "print(df.start.value_counts())"
   ]
  },
  {
   "cell_type": "code",
   "execution_count": null,
   "metadata": {},
   "outputs": [],
   "source": [
    "df[df.delta1.isna()]"
   ]
  },
  {
   "cell_type": "code",
   "execution_count": null,
   "metadata": {},
   "outputs": [],
   "source": [
    "df.info()"
   ]
  },
  {
   "cell_type": "code",
   "execution_count": null,
   "metadata": {},
   "outputs": [],
   "source": [
    "#  df.datum=df.datum.astype('string')\n",
    " df.kmtid\n",
    " "
   ]
  },
  {
   "cell_type": "code",
   "execution_count": null,
   "metadata": {},
   "outputs": [],
   "source": [
    "def hx_dat(dat):\n",
    "    dat = dat.astype('string').str.replace('.0','',regex=False)\n",
    "    dat = dat.str.replace('(','',regex=False)\n",
    "    dat = dat.str.replace(')','',regex=False)\n",
    "    dat=pd.to_datetime(dat)\n",
    "    return dat"
   ]
  },
  {
   "cell_type": "code",
   "execution_count": null,
   "metadata": {},
   "outputs": [],
   "source": [
    "df.datum=pd.to_datetime(df.datum)\n",
    "df.h1_dat = hx_dat(df.h1_dat)\n",
    "df.h2_dat = hx_dat(df.h2_dat)\n",
    "df.h3_dat = hx_dat(df.h3_dat)\n",
    "df.h4_dat = hx_dat(df.h4_dat)\n",
    "df.h5_dat = hx_dat(df.h5_dat)\n",
    "\n",
    "df[['datum','h1_dat','h2_dat','h3_dat','h4_dat','h5_dat']].info()\n"
   ]
  },
  {
   "cell_type": "code",
   "execution_count": null,
   "metadata": {},
   "outputs": [],
   "source": [
    "#### gör inte detta ####\n",
    "# dfh.h1_plac=(dfh.h1_plac==1)*1\n",
    "# dfh.h2_plac=(dfh.h2_plac==1)*1\n",
    "# dfh.h3_plac=(dfh.h3_plac==1)*1\n",
    "# dfh.h4_plac=(dfh.h4_plac==1)*1\n",
    "# dfh.h5_plac=(dfh.h5_plac==1)*1\n",
    "\n",
    "def ber_perf(pris,plac):\n",
    "    return np.sqrt(pris * np.exp(15-plac))\n",
    "\n",
    "# performance prissumma*plac. Ju högre desto bättre\n",
    "# dfh['h1_perf']=(dfh.h1_pris * (20-dfh.h1_plac)).describe()\n",
    "# dfh['h2_perf']=(dfh.h2_pris * (20-dfh.h2_plac)).describe()\n",
    "# dfh['h3_perf']=(dfh.h3_pris * (20-dfh.h3_plac)).describe()\n",
    "# dfh['h4_perf']=(dfh.h4_pris * (20-dfh.h4_plac)).describe()\n",
    "# dfh['h5_perf']=(dfh.h5_pris * (20-dfh.h5_plac)).describe()\n",
    "\n",
    "df['h1_perf'] = ber_perf(df.h1_pris,df.h1_plac)\n",
    "df['h2_perf'] = ber_perf(df.h2_pris,df.h2_plac)\n",
    "df['h3_perf'] = ber_perf(df.h3_pris,df.h3_plac)\n",
    "df['h4_perf'] = ber_perf(df.h4_pris,df.h4_plac)\n",
    "df['h5_perf'] = ber_perf(df.h5_pris,df.h5_plac)\n",
    "\n"
   ]
  },
  {
   "cell_type": "code",
   "execution_count": null,
   "metadata": {},
   "outputs": [],
   "source": [
    "# ny kolumn för delta mellan aktuellt opp och h1_dat\n",
    "df['senast'] = df.datum-df.h1_dat\n",
    "\n",
    "df.info()"
   ]
  },
  {
   "cell_type": "code",
   "execution_count": null,
   "metadata": {},
   "outputs": [],
   "source": [
    "# nya kolumner för datumavstånd\n",
    "df['delta1'] = df.h1_dat-df.h2_dat\n",
    "df['delta2'] = df.h2_dat-df.h3_dat\n",
    "df['delta3'] = df.h3_dat-df.h4_dat\n",
    "df['delta4'] = df.h4_dat-df.h5_dat\n",
    "df[['senast','delta1','delta2','delta3','delta4']].describe()\n",
    "\n"
   ]
  },
  {
   "cell_type": "code",
   "execution_count": null,
   "metadata": {},
   "outputs": [],
   "source": [
    "df.to_csv('mer_komplett.csv',index=False,date_format='%s')"
   ]
  },
  {
   "cell_type": "code",
   "execution_count": null,
   "metadata": {},
   "outputs": [],
   "source": [
    "# selektera ut history-datat\n",
    "dfh=df[['häst','kusk','bana','datum','h1_bana', 'h1_dat', 'h1_dist','h1_kmtid', 'h1_kusk', 'h1_odds', 'h1_plac', 'h1_pris', 'h1_spår','h2_bana', 'h2_dat', 'h2_dist', 'h2_kmtid', 'h2_kusk', 'h2_odds', 'h2_plac', 'h2_pris', 'h2_spår', 'h3_bana', 'h3_dat', 'h3_dist', 'h3_kmtid', 'h3_kusk', 'h3_odds', 'h3_plac', 'h3_pris', 'h3_spår', 'h4_bana', 'h4_dat', 'h4_dist', 'h4_kmtid', 'h4_kusk', 'h4_odds','h4_plac', 'h4_pris', 'h4_spår', 'h5_bana', 'h5_dat', 'h5_dist', 'h5_kmtid', 'h5_kusk', 'h5_odds', 'h5_plac', 'h5_pris', 'h5_spår','plac']]"
   ]
  },
  {
   "cell_type": "code",
   "execution_count": null,
   "metadata": {},
   "outputs": [],
   "source": [
    "# selektera ut kolumner för train och test\n",
    "dfh.columns\n",
    "selected_features=['häst','kusk','bana', 'senast', 'delta1','delta2', 'delta3', 'delta4', \n",
    "'h1_perf','h1_bana', 'h1_dist', 'h1_kmtid', 'h1_kusk','h1_odds', 'h1_plac', 'h1_pris', 'h1_spår', \n",
    "'h2_perf','h2_bana', 'h2_dist', 'h2_kmtid', 'h2_kusk','h2_odds', 'h2_plac', 'h2_pris', 'h2_spår', \n",
    "'h3_perf','h3_bana', 'h3_dist', 'h3_kmtid', 'h3_kusk','h3_odds', 'h3_plac', 'h3_pris', 'h3_spår', \n",
    "'h4_perf','h4_bana', 'h4_dist', 'h4_kmtid', 'h4_kusk','h4_odds', 'h4_plac', 'h4_pris', 'h4_spår', \n",
    "'h5_perf','h5_bana', 'h5_dist', 'h5_kmtid', 'h5_kusk','h5_odds', 'h5_plac', 'h5_pris', 'h5_spår']"
   ]
  },
  {
   "cell_type": "code",
   "execution_count": null,
   "metadata": {},
   "outputs": [],
   "source": [
    "from sklearn.model_selection import train_test_split\n",
    "\n",
    "X_train,X_test,y_train,y_test = train_test_split(dfh[selected_features],dfh.plac,test_size=0.3,random_state=2021)\n"
   ]
  },
  {
   "cell_type": "code",
   "execution_count": null,
   "metadata": {},
   "outputs": [],
   "source": [
    "def catfit(trainPool, testPool,auto=None,eval='AUC',use_best=False,early=200,iterations=2000):\n",
    "      \n",
    "    model = CB( \n",
    "        random_seed=2021,\n",
    "        iterations=iterations,   \n",
    "        bagging_temperature = 10.968228520463521, \n",
    "        depth = 4, \n",
    "        l2_leaf_reg= 2, \n",
    "        learning_rate = 0.02980857933628237,         \n",
    "        auto_class_weights='Balanced' ,\n",
    "        # scale_pos_weight = 10,\n",
    "        eval_metric = 'Accuracy',\n",
    "        loss_function = 'Logloss',\n",
    "        early_stopping_rounds=early,\n",
    "        verbose = 100\n",
    "        )\n",
    "    if use_best:\n",
    "        model.fit(trainPool,\n",
    "        use_best_model=True,\n",
    "        eval_set=testPool,\n",
    "        verbose = 100\n",
    "        )\n",
    "    else:            \n",
    "        model.fit(trainPool,\n",
    "        use_best_model=False,\n",
    "        eval_set=testPool,\n",
    "        verbose = 100\n",
    "        )\n",
    "    \n",
    "    return model\n",
    "\n"
   ]
  },
  {
   "cell_type": "code",
   "execution_count": null,
   "metadata": {
    "tags": []
   },
   "outputs": [],
   "source": [
    " \n",
    "from catboost import Pool\n",
    "from catboost.utils import get_confusion_matrix \n",
    "def training(trainPool,testPool):\n",
    "    use_best = True\n",
    "    early=300\n",
    "    metrics='Accuracy'\n",
    "    iterations=2000\n",
    "    model = catfit(trainPool, testPool, auto='Balanced',eval=metrics,use_best=use_best,early=early,iterations=iterations)\n",
    "    return model"
   ]
  },
  {
   "cell_type": "code",
   "execution_count": null,
   "metadata": {},
   "outputs": [],
   "source": [
    "add_features=['senast', 'delta1','delta2', 'delta3', 'delta4',\n",
    "'h1_perf', 'h1_dist', 'h1_kmtid', 'h1_odds',   \n",
    "'h2_perf', 'h2_dist', 'h2_kmtid', 'h2_odds',\n",
    "'h3_perf', 'h3_dist', 'h3_kmtid', 'h3_odds', \n",
    "'h4_perf', 'h4_dist', 'h4_kmtid', 'h4_odds', \n",
    "'h5_perf', 'h5_dist', 'h5_kmtid', 'h5_odds']\n",
    "cat_features = ['häst','kusk','bana','h1_bana', 'h1_kusk', 'h2_bana', 'h2_kusk','h3_bana', 'h3_kusk','h4_bana', 'h4_kusk','h5_bana', 'h5_kusk']\n",
    "sel_features = cat_features+add_features\n",
    "trainPool = Pool(X_train[sel_features],y_train,cat_features=cat_features)\n",
    "testPool = Pool(X_test[sel_features],y_test,cat_features=cat_features)\n",
    "\n",
    "model = training(trainPool,testPool)\n",
    "\n",
    "print(get_confusion_matrix(model,testPool))\n",
    "eval=model.eval_metrics(testPool,['Accuracy','F1','Precision','Recall','AUC'])\n",
    "\n",
    "print(f\"Acc={round(np.mean(eval['Accuracy']),3)} F1={round(np.mean(eval['F1']),3)} Recall={round(np.mean(eval['Recall']),3)} Precision={round(np.mean(eval['Precision']),3)} AUC={round(np.mean(eval['AUC']),3)}\")"
   ]
  },
  {
   "cell_type": "code",
   "execution_count": null,
   "metadata": {},
   "outputs": [],
   "source": [
    "fi=model.get_feature_importance(prettified=True)\n",
    "fi"
   ]
  },
  {
   "cell_type": "code",
   "execution_count": null,
   "metadata": {},
   "outputs": [],
   "source": [
    "# from catboost import CatBoostClassifier as CB\n",
    "\n",
    "model = CB(  \n",
    "        random_seed=2021,\n",
    "        iterations=iterations,   \n",
    "        bagging_temperature = 10.968228520463521, \n",
    "        depth = 4, \n",
    "        l2_leaf_reg= 2, \n",
    "        learning_rate = 0.02980857933628237,         \n",
    "        auto_class_weights='Balanced' ,\n",
    "        # scale_pos_weight = 10,\n",
    "        eval_metric = 'Accuracy',\n",
    "        loss_function = 'Logloss',\n",
    "        early_stopping_rounds=early,\n",
    "        \n",
    "        # use_best_model=True,\n",
    "        \n",
    "        verbose = 100\n",
    "        )\n",
    "    \n",
    "# grid = {\n",
    "#         'learning_rate': [0.03, 0.1],\n",
    "#         'depth': [4, 6, 10],\n",
    "#         'l2_leaf_reg': [1, 3, 5, 7, 9]}\n",
    "\n",
    "# grid_search_result = model.grid_search(grid,\n",
    "#                                        trainPool,  \n",
    "                                    \n",
    "#                                       cv=5)\n"
   ]
  },
  {
   "source": [
    "# Bayesian Optimization"
   ],
   "cell_type": "markdown",
   "metadata": {}
  },
  {
   "cell_type": "code",
   "execution_count": null,
   "metadata": {},
   "outputs": [],
   "source": [
    "def bayes():\n",
    "        pds = { 'learning_rate':(0.005,0.07),\n",
    "           'depth': (1,12),\n",
    "          'l2_leaf_reg': (1,9),\n",
    "          'bagging_temperature': (7,12)\n",
    "          }\n",
    "        optimizer = BayesianOptimization(hyp_cb1, pds,random_state=2021)\n",
    "                                        \n",
    "        # Optimize (init_points: how many initial random searches to do)\n",
    "        optimizer.maximize(init_points=2, n_iter=18)\n",
    "        print(optimizer.max)\n",
    "        return optimizer"
   ]
  },
  {
   "source": [
    "{'target': 0.6505510125907216, 'params': {'bagging_temperature': 10.39169546060608, 'depth': 3.666313874920603, 'l2_leaf_reg': 4.474218266848133, 'learning_rate': 0.01539416204116328}}  \n",
    "\n",
    "{'target': 0.6681093548342557, 'params': {'bagging_temperature': 10.968228520463521, 'depth': 4.123578340791053, 'l2_leaf_reg': 2.365031119669437, 'learning_rate': 0.02980857933628237}}\n"
   ],
   "cell_type": "markdown",
   "metadata": {}
  },
  {
   "cell_type": "code",
   "execution_count": null,
   "metadata": {},
   "outputs": [],
   "source": [
    "\n",
    "def hyp_cb1(learning_rate, depth, l2_leaf_reg, bagging_temperature):\n",
    "\n",
    "    params = {'iterations': 1500,\n",
    "              'loss_function': 'Logloss',\n",
    "              'eval_metric': 'Accuracy',\n",
    "              'auto_class_weights': 'Balanced' ,\n",
    "              'early_stopping_rounds': 200, \n",
    "              'use_best_model': True,\n",
    "              # 'eval_set': testPool,  #behövs inte för cv\n",
    "              'random_seed': 2021,\n",
    "              \"verbose\": False\n",
    "    }\n",
    "\n",
    "    params[\"learning_rate\"] = learning_rate\n",
    "    params[ \"depth\"] = int(round(depth)) \n",
    "    params[\"l2_leaf_reg\"] = int(round(l2_leaf_reg))\n",
    "    params[\"bagging_temperature\"] = bagging_temperature\n",
    "    \n",
    "    cat_features = ['häst','kusk','bana','h1_bana', 'h1_kusk', 'h2_bana', 'h2_kusk','h3_bana', 'h3_kusk','h4_bana', 'h4_kusk','h5_bana', 'h5_kusk']\n",
    "    \n",
    "    trainPool = Pool(data=dfh[sel_features],\n",
    "                    label=dfh.plac,\n",
    "                    cat_features=cat_features)\n",
    "\n",
    "    scores = cv(trainPool,\n",
    "                   params,\n",
    "                   fold_count=3)\n",
    "\n",
    "    return np.max(scores['test-Accuracy-mean'])  \n",
    "\n"
   ]
  },
  {
   "cell_type": "code",
   "execution_count": null,
   "metadata": {
    "tags": []
   },
   "outputs": [],
   "source": [
    "optimizer = bayes()\n",
    "optimizer\n"
   ]
  },
  {
   "cell_type": "code",
   "execution_count": null,
   "metadata": {},
   "outputs": [],
   "source": [
    "# spara modell\n",
    "model.save_model('modeller_history/model_senaste',\n",
    "        format=\"cbm\",\n",
    "        export_parameters=None,\n",
    "        pool=None)"
   ]
  }
 ]
}