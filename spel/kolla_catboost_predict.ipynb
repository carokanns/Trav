{
 "cells": [
  {
   "cell_type": "markdown",
   "metadata": {},
   "source": [
    "# Kolla om Catboost klarar predict på sparad model och utan pool eller cat_features\n"
   ]
  },
  {
   "cell_type": "code",
   "execution_count": 247,
   "metadata": {},
   "outputs": [],
   "source": [
    "import numpy as np\n",
    "import pickle\n",
    "import sys\n",
    "from IPython.display import display\n",
    "from catboost import CatBoostClassifier\n",
    "import pandas as pd\n",
    "pd.set_option('display.width', 200)"
   ]
  },
  {
   "cell_type": "code",
   "execution_count": 248,
   "metadata": {},
   "outputs": [],
   "source": [
    "# antal hästar per avdeling\n",
    "def lägg_in_antal_hästar(df_):\n",
    "    df = df_.copy()\n",
    "    df['ant_per_lopp'] = None\n",
    "    df['ant_per_lopp'] = df.groupby(['datum', 'avd'])['avd'].transform('count')\n",
    "    return df"
   ]
  },
  {
   "cell_type": "code",
   "execution_count": 249,
   "metadata": {},
   "outputs": [],
   "source": [
    "def remove_features(df_, remove_mer=[]):\n",
    "    df = df_.copy()\n",
    "    df.drop(['startnr', 'vodds', 'podds', 'bins', 'h1_dat',\n",
    "            'h2_dat', 'h3_dat', 'h4_dat', 'h5_dat'], axis=1, inplace=True)\n",
    "    if remove_mer:\n",
    "        df.drop(remove_mer, axis=1, inplace=True)\n",
    "\n",
    "    return df"
   ]
  },
  {
   "cell_type": "code",
   "execution_count": 250,
   "metadata": {},
   "outputs": [],
   "source": [
    "def prepare_for_catboost(X_):\n",
    "      X = X_.copy()\n",
    "      X = remove_features(X, remove_mer=['avd', 'datum'])\n",
    "      # get numerical features and cat_features\n",
    "      num_features = list(X.select_dtypes(include=[np.number]).columns)\n",
    "      cat_features = list(X.select_dtypes(include=['object']).columns)\n",
    "      if len(num_features)+len(cat_features) != X.shape[1]:\n",
    "            display('NÅGOT ÄR FEL I num+cat')\n",
    "      \n",
    "      print(\n",
    "          f'num_len={len(num_features)}, cat_len={len(cat_features)}, sum={len(num_features)+len(cat_features)}, len_all={X.shape[1]}')\n",
    "\n",
    "      # check cat_features isna\n",
    "      print('NaN in cat before:', X[cat_features].isna().sum()[\n",
    "            X[cat_features].isna().sum() > 0].sort_values(ascending=False).sum())\n",
    "\n",
    "      # impute 'missing' for all NaN in cat_features\n",
    "      X[cat_features] = X[cat_features].fillna('missing')\n",
    "      print('NaN in cat after:', X[cat_features].isna().sum().sum())\n",
    "      return X, cat_features\n"
   ]
  },
  {
   "cell_type": "code",
   "execution_count": 251,
   "metadata": {},
   "outputs": [],
   "source": [
    "def prepare_for_model(X_):\n",
    "    X = X_.copy()\n",
    "    print('Lägg in ant_hästar')\n",
    "    X = lägg_in_antal_hästar(X)\n",
    "    return X"
   ]
  },
  {
   "cell_type": "markdown",
   "metadata": {},
   "source": [
    "## Ladda in data för learn"
   ]
  },
  {
   "cell_type": "code",
   "execution_count": 252,
   "metadata": {},
   "outputs": [
    {
     "data": {
      "text/plain": [
       "(43978, 78)"
      ]
     },
     "execution_count": 252,
     "metadata": {},
     "output_type": "execute_result"
    }
   ],
   "source": [
    "df_all = pd.read_csv('all_data.csv')\n",
    "sista_datum =  df_all['datum'].max()\n",
    "X = df_all[df_all['datum'] != sista_datum]\n",
    "X.reset_index(inplace=True, drop=True)\n",
    "y = (X.plac==1).astype(int)\n",
    "X = X.drop('plac', axis=1)\n",
    "X.shape"
   ]
  },
  {
   "cell_type": "code",
   "execution_count": 253,
   "metadata": {},
   "outputs": [],
   "source": [
    "### prepare data ###\n",
    "# X,cat_features=prepare_for_catboost(X.copy())\n",
    "# print('after prepare_for_catboost')\n",
    "# print(list(X.columns))\n",
    "# print(cat_features)"
   ]
  },
  {
   "cell_type": "markdown",
   "metadata": {},
   "source": [
    "## Learn"
   ]
  },
  {
   "cell_type": "code",
   "execution_count": 254,
   "metadata": {},
   "outputs": [],
   "source": [
    "def save_model(model):\n",
    "    with open('kolla.model', 'wb') as f:\n",
    "        pickle.dump(model, f)\n",
    "\n",
    "def learn(X_, y, iterations=1000, save=True, verbose=False):\n",
    "    model = CatBoostClassifier(\n",
    "         iterations=iterations, loss_function='Logloss', eval_metric='AUC', verbose=verbose)\n",
    "\n",
    "    X = prepare_for_model(X_)\n",
    "    X, cat_features = prepare_for_catboost(X)\n",
    "        \n",
    "    print(X.shape)    \n",
    "    model.fit(X, y, cat_features, use_best_model=False)\n",
    "    \n",
    "    print('best score', model.best_score_)\n",
    "    if save:\n",
    "        save_model(model)\n"
   ]
  },
  {
   "cell_type": "code",
   "execution_count": 255,
   "metadata": {},
   "outputs": [],
   "source": [
    "#### test \n",
    "# print(X.shape)\n",
    "# X = prepare_for_model(X.copy())\n",
    "# X, cat_features = prepare_for_catboost(X)\n",
    "# X.shape\n"
   ]
  },
  {
   "cell_type": "code",
   "execution_count": 256,
   "metadata": {},
   "outputs": [
    {
     "name": "stdout",
     "output_type": "stream",
     "text": [
      "Lägg in ant_hästar\n",
      "num_len=54, cat_len=14, sum=68, len_all=68\n",
      "NaN in cat before: 246\n",
      "NaN in cat after: 0\n",
      "(43978, 68)\n",
      "best score {'learn': {'Logloss': 0.191328639930562}}\n"
     ]
    }
   ],
   "source": [
    "learn(X, y, iterations=100,save=True, verbose=False)\n"
   ]
  },
  {
   "cell_type": "markdown",
   "metadata": {},
   "source": [
    "## Ladda in data för predict"
   ]
  },
  {
   "cell_type": "code",
   "execution_count": 278,
   "metadata": {},
   "outputs": [
    {
     "name": "stdout",
     "output_type": "stream",
     "text": [
      "['datum' 'avd' 'bana' 'häst' 'kusk' 'streck' 'vodds' 'podds' 'kr' 'spår'\n",
      " 'dist' 'lopp_dist' 'start' 'ålder' 'kön' 'pris' 'h1_dat' 'h1_kusk'\n",
      " 'h1_bana' 'h1_spår' 'h1_plac' 'h1_pris' 'h1_odds' 'h1_kmtid' 'h2_dat'\n",
      " 'h2_kusk' 'h2_bana' 'h2_spår' 'h2_plac' 'h2_pris' 'h2_odds' 'h2_kmtid'\n",
      " 'h3_dat' 'h3_kusk' 'h3_bana' 'h3_spår' 'h3_plac' 'h3_pris' 'h3_odds'\n",
      " 'h3_kmtid' 'h4_dat' 'h4_kusk' 'h4_bana' 'h4_spår' 'h4_plac' 'h4_pris'\n",
      " 'h4_odds' 'h4_kmtid' 'h5_dat' 'h5_kusk' 'h5_bana' 'h5_spår' 'h5_plac'\n",
      " 'h5_pris' 'h5_odds' 'h5_kmtid' 'h1_dist' 'h2_dist' 'h3_dist' 'h4_dist'\n",
      " 'h5_dist' 'bins' 'h1_auto' 'h2_auto' 'h3_auto' 'h4_auto' 'h5_auto'\n",
      " 'h1_perf' 'h2_perf' 'h3_perf' 'h4_perf' 'h5_perf' 'senast' 'delta1'\n",
      " 'delta2' 'delta3' 'delta4' 'startnr'] \n",
      " (82, 78)\n"
     ]
    }
   ],
   "source": [
    "X_scrape = pd.read_csv('sparad_scrape.csv')\n",
    "X_scrape = X_scrape[X.columns]\n",
    "print(np.array(X_scrape.columns), '\\n', X_scrape.shape)"
   ]
  },
  {
   "cell_type": "markdown",
   "metadata": {},
   "source": [
    "## predict"
   ]
  },
  {
   "cell_type": "code",
   "execution_count": 279,
   "metadata": {},
   "outputs": [],
   "source": [
    "def load_model(model_name):\n",
    "    with open(f'{model_name}', 'rb') as f:\n",
    "        model = pickle.load(f)\n",
    "    return model"
   ]
  },
  {
   "cell_type": "code",
   "execution_count": 280,
   "metadata": {},
   "outputs": [],
   "source": [
    "def predict(model,X_):\n",
    "    X = prepare_for_model(X_)\n",
    "    X,cat_fetures=prepare_for_catboost(X)\n",
    "    \n",
    "    print(list(X.columns),len(X.columns))\n",
    "    # X.drop('streck', axis=1, inplace=True)\n",
    "\n",
    "    return model.predict_proba(X)[:, 1]"
   ]
  },
  {
   "cell_type": "code",
   "execution_count": 281,
   "metadata": {},
   "outputs": [],
   "source": [
    "model=load_model('kolla.model')"
   ]
  },
  {
   "cell_type": "code",
   "execution_count": 282,
   "metadata": {},
   "outputs": [
    {
     "name": "stdout",
     "output_type": "stream",
     "text": [
      "Lägg in ant_hästar\n",
      "num_len=54, cat_len=14, sum=68, len_all=68\n",
      "NaN in cat before: 246\n",
      "NaN in cat after: 0\n",
      "Lägg in ant_hästar\n",
      "num_len=54, cat_len=14, sum=68, len_all=68\n",
      "NaN in cat before: 0\n",
      "NaN in cat after: 0\n",
      "\n",
      " model\n",
      "['bana', 'häst', 'kusk', 'streck', 'kr', 'spår', 'dist', 'lopp_dist', 'start', 'ålder', 'kön', 'pris', 'h1_kusk', 'h1_bana', 'h1_spår', 'h1_plac', 'h1_pris', 'h1_odds', 'h1_kmtid', 'h2_kusk', 'h2_bana', 'h2_spår', 'h2_plac', 'h2_pris', 'h2_odds', 'h2_kmtid', 'h3_kusk', 'h3_bana', 'h3_spår', 'h3_plac', 'h3_pris', 'h3_odds', 'h3_kmtid', 'h4_kusk', 'h4_bana', 'h4_spår', 'h4_plac', 'h4_pris', 'h4_odds', 'h4_kmtid', 'h5_kusk', 'h5_bana', 'h5_spår', 'h5_plac', 'h5_pris', 'h5_odds', 'h5_kmtid', 'h1_dist', 'h2_dist', 'h3_dist', 'h4_dist', 'h5_dist', 'h1_auto', 'h2_auto', 'h3_auto', 'h4_auto', 'h5_auto', 'h1_perf', 'h2_perf', 'h3_perf', 'h4_perf', 'h5_perf', 'senast', 'delta1', 'delta2', 'delta3', 'delta4', 'ant_per_lopp'] 68\n",
      "\n",
      " learn\n",
      "['bana', 'häst', 'kusk', 'streck', 'kr', 'spår', 'dist', 'lopp_dist', 'start', 'ålder', 'kön', 'pris', 'h1_kusk', 'h1_bana', 'h1_spår', 'h1_plac', 'h1_pris', 'h1_odds', 'h1_kmtid', 'h2_kusk', 'h2_bana', 'h2_spår', 'h2_plac', 'h2_pris', 'h2_odds', 'h2_kmtid', 'h3_kusk', 'h3_bana', 'h3_spår', 'h3_plac', 'h3_pris', 'h3_odds', 'h3_kmtid', 'h4_kusk', 'h4_bana', 'h4_spår', 'h4_plac', 'h4_pris', 'h4_odds', 'h4_kmtid', 'h5_kusk', 'h5_bana', 'h5_spår', 'h5_plac', 'h5_pris', 'h5_odds', 'h5_kmtid', 'h1_dist', 'h2_dist', 'h3_dist', 'h4_dist', 'h5_dist', 'h1_auto', 'h2_auto', 'h3_auto', 'h4_auto', 'h5_auto', 'h1_perf', 'h2_perf', 'h3_perf', 'h4_perf', 'h5_perf', 'senast', 'delta1', 'delta2', 'delta3', 'delta4', 'ant_per_lopp'] 68\n",
      "\n",
      " scrape\n",
      "['bana', 'häst', 'kusk', 'streck', 'kr', 'spår', 'dist', 'lopp_dist', 'start', 'ålder', 'kön', 'pris', 'h1_kusk', 'h1_bana', 'h1_spår', 'h1_plac', 'h1_pris', 'h1_odds', 'h1_kmtid', 'h2_kusk', 'h2_bana', 'h2_spår', 'h2_plac', 'h2_pris', 'h2_odds', 'h2_kmtid', 'h3_kusk', 'h3_bana', 'h3_spår', 'h3_plac', 'h3_pris', 'h3_odds', 'h3_kmtid', 'h4_kusk', 'h4_bana', 'h4_spår', 'h4_plac', 'h4_pris', 'h4_odds', 'h4_kmtid', 'h5_kusk', 'h5_bana', 'h5_spår', 'h5_plac', 'h5_pris', 'h5_odds', 'h5_kmtid', 'h1_dist', 'h2_dist', 'h3_dist', 'h4_dist', 'h5_dist', 'h1_auto', 'h2_auto', 'h3_auto', 'h4_auto', 'h5_auto', 'h1_perf', 'h2_perf', 'h3_perf', 'h4_perf', 'h5_perf', 'senast', 'delta1', 'delta2', 'delta3', 'delta4', 'ant_per_lopp'] 68\n"
     ]
    }
   ],
   "source": [
    "X_learn = prepare_for_model(X)\n",
    "X_learn, cat_features = prepare_for_catboost(X_learn)\n",
    "X_pred = prepare_for_model(X_scrape)\n",
    "X_pred, cat_features2 = prepare_for_catboost(X_pred)\n",
    "\n",
    "print('\\n model')\n",
    "print(list(model.feature_names_), len(model.feature_names_))\n",
    "print('\\n learn')\n",
    "print(list(X_learn.columns), len(X_learn.columns))\n",
    "print('\\n scrape')\n",
    "print(list(X_pred.columns), len(X_pred.columns))\n"
   ]
  },
  {
   "cell_type": "code",
   "execution_count": 283,
   "metadata": {},
   "outputs": [
    {
     "name": "stdout",
     "output_type": "stream",
     "text": [
      "Lägg in ant_hästar\n",
      "num_len=54, cat_len=14, sum=68, len_all=68\n",
      "NaN in cat before: 0\n",
      "NaN in cat after: 0\n",
      "['bana', 'häst', 'kusk', 'streck', 'kr', 'spår', 'dist', 'lopp_dist', 'start', 'ålder', 'kön', 'pris', 'h1_kusk', 'h1_bana', 'h1_spår', 'h1_plac', 'h1_pris', 'h1_odds', 'h1_kmtid', 'h2_kusk', 'h2_bana', 'h2_spår', 'h2_plac', 'h2_pris', 'h2_odds', 'h2_kmtid', 'h3_kusk', 'h3_bana', 'h3_spår', 'h3_plac', 'h3_pris', 'h3_odds', 'h3_kmtid', 'h4_kusk', 'h4_bana', 'h4_spår', 'h4_plac', 'h4_pris', 'h4_odds', 'h4_kmtid', 'h5_kusk', 'h5_bana', 'h5_spår', 'h5_plac', 'h5_pris', 'h5_odds', 'h5_kmtid', 'h1_dist', 'h2_dist', 'h3_dist', 'h4_dist', 'h5_dist', 'h1_auto', 'h2_auto', 'h3_auto', 'h4_auto', 'h5_auto', 'h1_perf', 'h2_perf', 'h3_perf', 'h4_perf', 'h5_perf', 'senast', 'delta1', 'delta2', 'delta3', 'delta4', 'ant_per_lopp'] 68\n"
     ]
    },
    {
     "data": {
      "text/plain": [
       "array([0.07860229, 0.03851647, 0.00204686, 0.00474674, 0.15177168,\n",
       "       0.67336002, 0.02211902, 0.00436347, 0.01010822, 0.01685384,\n",
       "       0.21205528, 0.0028905 , 0.00410205, 0.08856582, 0.08921163,\n",
       "       0.19882238, 0.1039676 , 0.14136768, 0.00745322, 0.01672703,\n",
       "       0.06013517, 0.00129172, 0.00196802, 0.02352489, 0.03334662,\n",
       "       0.00715742, 0.05330213, 0.13714664, 0.00142833, 0.02274787,\n",
       "       0.2722359 , 0.00529377, 0.03891716, 0.01248859, 0.26446571,\n",
       "       0.01768455, 0.03815149, 0.00419669, 0.01341794, 0.06196097,\n",
       "       0.12064037, 0.01983666, 0.03236538, 0.18333242, 0.02552686,\n",
       "       0.00372983, 0.01585166, 0.00388272, 0.04330413, 0.00573601,\n",
       "       0.37484997, 0.00171293, 0.0068203 , 0.0138856 , 0.01033289,\n",
       "       0.04917606, 0.05021417, 0.10756276, 0.00860758, 0.02424248,\n",
       "       0.25770757, 0.05886781, 0.0049369 , 0.05772366, 0.01226566,\n",
       "       0.019222  , 0.06668854, 0.01228357, 0.0550522 , 0.01140287,\n",
       "       0.00764675, 0.0032765 , 0.07435706, 0.00597178, 0.00762064,\n",
       "       0.19887275, 0.02845683, 0.01857392, 0.00178439, 0.00272319,\n",
       "       0.02698351, 0.01455263])"
      ]
     },
     "execution_count": 283,
     "metadata": {},
     "output_type": "execute_result"
    }
   ],
   "source": [
    "predict(model,X_scrape)"
   ]
  }
 ],
 "metadata": {
  "interpreter": {
   "hash": "5eb2e0c23f8e38f19a3cfe8ad2d7bbb895a86b1e106b247f2b169180d03d2047"
  },
  "kernelspec": {
   "display_name": "Python 3.9.7 ('base')",
   "language": "python",
   "name": "python3"
  },
  "language_info": {
   "codemirror_mode": {
    "name": "ipython",
    "version": 3
   },
   "file_extension": ".py",
   "mimetype": "text/x-python",
   "name": "python",
   "nbconvert_exporter": "python",
   "pygments_lexer": "ipython3",
   "version": "3.9.7"
  },
  "orig_nbformat": 4
 },
 "nbformat": 4,
 "nbformat_minor": 2
}
