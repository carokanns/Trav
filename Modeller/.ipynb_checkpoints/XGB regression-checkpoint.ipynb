{
 "cells": [
  {
   "cell_type": "code",
   "execution_count": 0,
   "metadata": {
    "colab": {
     "base_uri": "https://localhost:8080/",
     "height": 70
    },
    "colab_type": "code",
    "executionInfo": {
     "elapsed": 745,
     "status": "ok",
     "timestamp": 1586606964384,
     "user": {
      "displayName": "Peter Fendrich",
      "photoUrl": "https://lh3.googleusercontent.com/a-/AOh14GiUImm9TWBaRBjunWQhCazjDHA1xNUiCbLPDl0eCQ=s64",
      "userId": "15871336894771711285"
     },
     "user_tz": -120
    },
    "id": "mP4KobncmI8U",
    "outputId": "a422f546-7fb6-417c-e8b4-d331ae54d41b"
   },
   "outputs": [
    {
     "name": "stderr",
     "output_type": "stream",
     "text": [
      "/usr/local/lib/python3.6/dist-packages/statsmodels/tools/_testing.py:19: FutureWarning: pandas.util.testing is deprecated. Use the functions in the public API at pandas.testing instead.\n",
      "  import pandas.util.testing as tm\n"
     ]
    }
   ],
   "source": [
    "import pandas as pd\n",
    "import numpy as np\n",
    "import matplotlib.pyplot as plt\n",
    "import seaborn as sbn"
   ]
  },
  {
   "cell_type": "code",
   "execution_count": 0,
   "metadata": {
    "colab": {
     "base_uri": "https://localhost:8080/",
     "height": 91,
     "resources": {
      "http://localhost:8080/nbextensions/google.colab/files.js": {
       "data": "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",
       "headers": [
        [
         "content-type",
         "application/javascript"
        ]
       ],
       "ok": true,
       "status": 200,
       "status_text": ""
      }
     }
    },
    "colab_type": "code",
    "executionInfo": {
     "elapsed": 47875,
     "status": "ok",
     "timestamp": 1586607025183,
     "user": {
      "displayName": "Peter Fendrich",
      "photoUrl": "https://lh3.googleusercontent.com/a-/AOh14GiUImm9TWBaRBjunWQhCazjDHA1xNUiCbLPDl0eCQ=s64",
      "userId": "15871336894771711285"
     },
     "user_tz": -120
    },
    "id": "ue1We_rtnIIx",
    "outputId": "bbcb5b5c-31ae-433b-ea3b-d232b54267ea"
   },
   "outputs": [
    {
     "data": {
      "text/html": [
       "\n",
       "     <input type=\"file\" id=\"files-f983ffb8-b33a-4b86-91b8-0c32e99ec97d\" name=\"files[]\" multiple disabled />\n",
       "     <output id=\"result-f983ffb8-b33a-4b86-91b8-0c32e99ec97d\">\n",
       "      Upload widget is only available when the cell has been executed in the\n",
       "      current browser session. Please rerun this cell to enable.\n",
       "      </output>\n",
       "      <script src=\"/nbextensions/google.colab/files.js\"></script> "
      ],
      "text/plain": [
       "<IPython.core.display.HTML object>"
      ]
     },
     "metadata": {
      "tags": []
     },
     "output_type": "display_data"
    },
    {
     "name": "stdout",
     "output_type": "stream",
     "text": [
      "Saving komplett.csv to komplett.csv\n",
      "User uploaded file \"komplett.csv\" with length 3891301 bytes\n"
     ]
    }
   ],
   "source": [
    "from google.colab import files\n",
    "\n",
    "uploaded = files.upload()\n",
    "\n",
    "for fn in uploaded.keys():\n",
    "  print('User uploaded file \"{name}\" with length {length} bytes'.format(\n",
    "      name=fn, length=len(uploaded[fn])))\n",
    " \n",
    "\n"
   ]
  },
  {
   "cell_type": "code",
   "execution_count": 0,
   "metadata": {
    "colab": {},
    "colab_type": "code",
    "id": "Mm97mF73e60a"
   },
   "outputs": [],
   "source": [
    "#from google.colab import drive\n",
    "#drive.mount('/gdrive')\n",
    "#%cd /gdrive"
   ]
  },
  {
   "cell_type": "code",
   "execution_count": 0,
   "metadata": {
    "colab": {},
    "colab_type": "code",
    "id": "NEOIU5NqrP63"
   },
   "outputs": [],
   "source": [
    "#!ls '/gdrive/My Drive/Colab Notebooks/Småprojekt'\n",
    "#df = pd.read_('/gdrive/My Drive/Colab Notebooks/Småprojekt/komplett.csv') \n",
    "df=pd.read_csv('komplett.csv')\n",
    "dforg = pd.read_csv('komplett.csv')"
   ]
  },
  {
   "cell_type": "code",
   "execution_count": 0,
   "metadata": {
    "colab": {
     "base_uri": "https://localhost:8080/",
     "height": 889
    },
    "colab_type": "code",
    "executionInfo": {
     "elapsed": 522,
     "status": "ok",
     "timestamp": 1586607043924,
     "user": {
      "displayName": "Peter Fendrich",
      "photoUrl": "https://lh3.googleusercontent.com/a-/AOh14GiUImm9TWBaRBjunWQhCazjDHA1xNUiCbLPDl0eCQ=s64",
      "userId": "15871336894771711285"
     },
     "user_tz": -120
    },
    "id": "FcyXEPd20iYs",
    "outputId": "00f1b4ac-5fb7-4266-c576-7d3088c1dab2"
   },
   "outputs": [
    {
     "name": "stdout",
     "output_type": "stream",
     "text": [
      "<class 'pandas.core.frame.DataFrame'>\n",
      "RangeIndex: 27623 entries, 0 to 27622\n",
      "Data columns (total 28 columns):\n",
      " #   Column   Non-Null Count  Dtype  \n",
      "---  ------   --------------  -----  \n",
      " 0   datum    27623 non-null  object \n",
      " 1   häst     27623 non-null  object \n",
      " 2   plac     27623 non-null  object \n",
      " 3   dist     27623 non-null  int64  \n",
      " 4   start    27623 non-null  object \n",
      " 5   spår     27562 non-null  float64\n",
      " 6   vodds    27623 non-null  object \n",
      " 7   podds    27623 non-null  object \n",
      " 8   h1_plac  26061 non-null  object \n",
      " 9   h1_dist  26072 non-null  float64\n",
      " 10  h1_spår  24072 non-null  float64\n",
      " 11  h1_odds  26059 non-null  object \n",
      " 12  h2_plac  26057 non-null  object \n",
      " 13  h2_dist  26058 non-null  float64\n",
      " 14  h2_spår  23832 non-null  float64\n",
      " 15  h2_odds  26041 non-null  object \n",
      " 16  h3_plac  26026 non-null  object \n",
      " 17  h3_dist  26027 non-null  float64\n",
      " 18  h3_spår  23581 non-null  float64\n",
      " 19  h3_odds  26013 non-null  object \n",
      " 20  h4_plac  26015 non-null  object \n",
      " 21  h4_dist  26015 non-null  float64\n",
      " 22  h4_spår  23433 non-null  float64\n",
      " 23  h4_odds  25991 non-null  object \n",
      " 24  h5_plac  25977 non-null  object \n",
      " 25  h5_dist  25977 non-null  float64\n",
      " 26  h5_spår  23248 non-null  float64\n",
      " 27  h5_odds  25949 non-null  object \n",
      "dtypes: float64(11), int64(1), object(16)\n",
      "memory usage: 5.9+ MB\n",
      "None\n"
     ]
    },
    {
     "data": {
      "text/html": [
       "<div>\n",
       "<style scoped>\n",
       "    .dataframe tbody tr th:only-of-type {\n",
       "        vertical-align: middle;\n",
       "    }\n",
       "\n",
       "    .dataframe tbody tr th {\n",
       "        vertical-align: top;\n",
       "    }\n",
       "\n",
       "    .dataframe thead th {\n",
       "        text-align: right;\n",
       "    }\n",
       "</style>\n",
       "<table border=\"1\" class=\"dataframe\">\n",
       "  <thead>\n",
       "    <tr style=\"text-align: right;\">\n",
       "      <th></th>\n",
       "      <th>dist</th>\n",
       "      <th>spår</th>\n",
       "      <th>h1_dist</th>\n",
       "      <th>h1_spår</th>\n",
       "      <th>h2_dist</th>\n",
       "      <th>h2_spår</th>\n",
       "      <th>h3_dist</th>\n",
       "      <th>h3_spår</th>\n",
       "      <th>h4_dist</th>\n",
       "      <th>h4_spår</th>\n",
       "      <th>h5_dist</th>\n",
       "      <th>h5_spår</th>\n",
       "    </tr>\n",
       "  </thead>\n",
       "  <tbody>\n",
       "    <tr>\n",
       "      <th>count</th>\n",
       "      <td>27623.000000</td>\n",
       "      <td>27562.000000</td>\n",
       "      <td>26072.000000</td>\n",
       "      <td>24072.000000</td>\n",
       "      <td>26058.000000</td>\n",
       "      <td>23832.000000</td>\n",
       "      <td>26027.000000</td>\n",
       "      <td>23581.000000</td>\n",
       "      <td>26015.000000</td>\n",
       "      <td>23433.000000</td>\n",
       "      <td>25977.000000</td>\n",
       "      <td>23248.000000</td>\n",
       "    </tr>\n",
       "    <tr>\n",
       "      <th>mean</th>\n",
       "      <td>2184.544655</td>\n",
       "      <td>5.702308</td>\n",
       "      <td>2145.383361</td>\n",
       "      <td>5.429005</td>\n",
       "      <td>2146.890859</td>\n",
       "      <td>5.387840</td>\n",
       "      <td>2151.189995</td>\n",
       "      <td>5.357449</td>\n",
       "      <td>2149.069076</td>\n",
       "      <td>5.402424</td>\n",
       "      <td>2151.018709</td>\n",
       "      <td>5.378183</td>\n",
       "    </tr>\n",
       "    <tr>\n",
       "      <th>std</th>\n",
       "      <td>396.855748</td>\n",
       "      <td>3.405125</td>\n",
       "      <td>376.533740</td>\n",
       "      <td>3.316310</td>\n",
       "      <td>374.347044</td>\n",
       "      <td>3.314823</td>\n",
       "      <td>373.004798</td>\n",
       "      <td>3.309803</td>\n",
       "      <td>368.436165</td>\n",
       "      <td>3.321261</td>\n",
       "      <td>368.049970</td>\n",
       "      <td>3.320462</td>\n",
       "    </tr>\n",
       "    <tr>\n",
       "      <th>min</th>\n",
       "      <td>1600.000000</td>\n",
       "      <td>1.000000</td>\n",
       "      <td>140.000000</td>\n",
       "      <td>1.000000</td>\n",
       "      <td>640.000000</td>\n",
       "      <td>1.000000</td>\n",
       "      <td>140.000000</td>\n",
       "      <td>1.000000</td>\n",
       "      <td>140.000000</td>\n",
       "      <td>1.000000</td>\n",
       "      <td>140.000000</td>\n",
       "      <td>1.000000</td>\n",
       "    </tr>\n",
       "    <tr>\n",
       "      <th>25%</th>\n",
       "      <td>2100.000000</td>\n",
       "      <td>3.000000</td>\n",
       "      <td>2100.000000</td>\n",
       "      <td>3.000000</td>\n",
       "      <td>2100.000000</td>\n",
       "      <td>3.000000</td>\n",
       "      <td>2100.000000</td>\n",
       "      <td>3.000000</td>\n",
       "      <td>2100.000000</td>\n",
       "      <td>3.000000</td>\n",
       "      <td>2100.000000</td>\n",
       "      <td>3.000000</td>\n",
       "    </tr>\n",
       "    <tr>\n",
       "      <th>50%</th>\n",
       "      <td>2140.000000</td>\n",
       "      <td>5.000000</td>\n",
       "      <td>2140.000000</td>\n",
       "      <td>5.000000</td>\n",
       "      <td>2140.000000</td>\n",
       "      <td>5.000000</td>\n",
       "      <td>2140.000000</td>\n",
       "      <td>5.000000</td>\n",
       "      <td>2140.000000</td>\n",
       "      <td>5.000000</td>\n",
       "      <td>2140.000000</td>\n",
       "      <td>5.000000</td>\n",
       "    </tr>\n",
       "    <tr>\n",
       "      <th>75%</th>\n",
       "      <td>2160.000000</td>\n",
       "      <td>8.000000</td>\n",
       "      <td>2160.000000</td>\n",
       "      <td>8.000000</td>\n",
       "      <td>2160.000000</td>\n",
       "      <td>8.000000</td>\n",
       "      <td>2160.000000</td>\n",
       "      <td>8.000000</td>\n",
       "      <td>2160.000000</td>\n",
       "      <td>8.000000</td>\n",
       "      <td>2160.000000</td>\n",
       "      <td>8.000000</td>\n",
       "    </tr>\n",
       "    <tr>\n",
       "      <th>max</th>\n",
       "      <td>3700.000000</td>\n",
       "      <td>15.000000</td>\n",
       "      <td>4240.000000</td>\n",
       "      <td>15.000000</td>\n",
       "      <td>4220.000000</td>\n",
       "      <td>18.000000</td>\n",
       "      <td>4450.000000</td>\n",
       "      <td>15.000000</td>\n",
       "      <td>4450.000000</td>\n",
       "      <td>17.000000</td>\n",
       "      <td>4450.000000</td>\n",
       "      <td>18.000000</td>\n",
       "    </tr>\n",
       "  </tbody>\n",
       "</table>\n",
       "</div>"
      ],
      "text/plain": [
       "               dist          spår  ...       h5_dist       h5_spår\n",
       "count  27623.000000  27562.000000  ...  25977.000000  23248.000000\n",
       "mean    2184.544655      5.702308  ...   2151.018709      5.378183\n",
       "std      396.855748      3.405125  ...    368.049970      3.320462\n",
       "min     1600.000000      1.000000  ...    140.000000      1.000000\n",
       "25%     2100.000000      3.000000  ...   2100.000000      3.000000\n",
       "50%     2140.000000      5.000000  ...   2140.000000      5.000000\n",
       "75%     2160.000000      8.000000  ...   2160.000000      8.000000\n",
       "max     3700.000000     15.000000  ...   4450.000000     18.000000\n",
       "\n",
       "[8 rows x 12 columns]"
      ]
     },
     "execution_count": 4,
     "metadata": {
      "tags": []
     },
     "output_type": "execute_result"
    }
   ],
   "source": [
    "print(df.info())\n",
    "\n",
    "df.describe()\n"
   ]
  },
  {
   "cell_type": "code",
   "execution_count": 0,
   "metadata": {
    "colab": {
     "base_uri": "https://localhost:8080/",
     "height": 166
    },
    "colab_type": "code",
    "executionInfo": {
     "elapsed": 601,
     "status": "ok",
     "timestamp": 1586607050325,
     "user": {
      "displayName": "Peter Fendrich",
      "photoUrl": "https://lh3.googleusercontent.com/a-/AOh14GiUImm9TWBaRBjunWQhCazjDHA1xNUiCbLPDl0eCQ=s64",
      "userId": "15871336894771711285"
     },
     "user_tz": -120
    },
    "id": "xz4tBW3b3EyP",
    "outputId": "23470535-b5a8-432c-d454-0d4f97a45975"
   },
   "outputs": [
    {
     "data": {
      "text/html": [
       "<div>\n",
       "<style scoped>\n",
       "    .dataframe tbody tr th:only-of-type {\n",
       "        vertical-align: middle;\n",
       "    }\n",
       "\n",
       "    .dataframe tbody tr th {\n",
       "        vertical-align: top;\n",
       "    }\n",
       "\n",
       "    .dataframe thead th {\n",
       "        text-align: right;\n",
       "    }\n",
       "</style>\n",
       "<table border=\"1\" class=\"dataframe\">\n",
       "  <thead>\n",
       "    <tr style=\"text-align: right;\">\n",
       "      <th></th>\n",
       "      <th>datum</th>\n",
       "      <th>häst</th>\n",
       "      <th>plac</th>\n",
       "      <th>start</th>\n",
       "      <th>vodds</th>\n",
       "      <th>podds</th>\n",
       "      <th>h1_plac</th>\n",
       "      <th>h1_odds</th>\n",
       "      <th>h2_plac</th>\n",
       "      <th>h2_odds</th>\n",
       "      <th>h3_plac</th>\n",
       "      <th>h3_odds</th>\n",
       "      <th>h4_plac</th>\n",
       "      <th>h4_odds</th>\n",
       "      <th>h5_plac</th>\n",
       "      <th>h5_odds</th>\n",
       "    </tr>\n",
       "  </thead>\n",
       "  <tbody>\n",
       "    <tr>\n",
       "      <th>count</th>\n",
       "      <td>27623</td>\n",
       "      <td>27623</td>\n",
       "      <td>27623</td>\n",
       "      <td>27623</td>\n",
       "      <td>27623</td>\n",
       "      <td>27623</td>\n",
       "      <td>26061</td>\n",
       "      <td>26059</td>\n",
       "      <td>26057</td>\n",
       "      <td>26041</td>\n",
       "      <td>26026</td>\n",
       "      <td>26013</td>\n",
       "      <td>26015</td>\n",
       "      <td>25991</td>\n",
       "      <td>25977</td>\n",
       "      <td>25949</td>\n",
       "    </tr>\n",
       "    <tr>\n",
       "      <th>unique</th>\n",
       "      <td>352</td>\n",
       "      <td>7294</td>\n",
       "      <td>15</td>\n",
       "      <td>2</td>\n",
       "      <td>8126</td>\n",
       "      <td>19182</td>\n",
       "      <td>16</td>\n",
       "      <td>5299</td>\n",
       "      <td>16</td>\n",
       "      <td>5193</td>\n",
       "      <td>18</td>\n",
       "      <td>5161</td>\n",
       "      <td>17</td>\n",
       "      <td>5245</td>\n",
       "      <td>19</td>\n",
       "      <td>5328</td>\n",
       "    </tr>\n",
       "    <tr>\n",
       "      <th>top</th>\n",
       "      <td>2018-02-24</td>\n",
       "      <td>ON TRACK PIRATEN</td>\n",
       "      <td>0</td>\n",
       "      <td>AUTOSTART</td>\n",
       "      <td>99,99</td>\n",
       "      <td>1,6</td>\n",
       "      <td>1</td>\n",
       "      <td>1,8</td>\n",
       "      <td>1</td>\n",
       "      <td>1,8</td>\n",
       "      <td>1</td>\n",
       "      <td>1,8</td>\n",
       "      <td>1</td>\n",
       "      <td>gdk</td>\n",
       "      <td>1</td>\n",
       "      <td>gdk</td>\n",
       "    </tr>\n",
       "    <tr>\n",
       "      <th>freq</th>\n",
       "      <td>93</td>\n",
       "      <td>73</td>\n",
       "      <td>8742</td>\n",
       "      <td>19420</td>\n",
       "      <td>102</td>\n",
       "      <td>57</td>\n",
       "      <td>6386</td>\n",
       "      <td>107</td>\n",
       "      <td>6517</td>\n",
       "      <td>111</td>\n",
       "      <td>6503</td>\n",
       "      <td>122</td>\n",
       "      <td>6460</td>\n",
       "      <td>131</td>\n",
       "      <td>6367</td>\n",
       "      <td>207</td>\n",
       "    </tr>\n",
       "  </tbody>\n",
       "</table>\n",
       "</div>"
      ],
      "text/plain": [
       "             datum              häst   plac  ... h4_odds h5_plac h5_odds\n",
       "count        27623             27623  27623  ...   25991   25977   25949\n",
       "unique         352              7294     15  ...    5245      19    5328\n",
       "top     2018-02-24  ON TRACK PIRATEN      0  ...     gdk       1     gdk\n",
       "freq            93                73   8742  ...     131    6367     207\n",
       "\n",
       "[4 rows x 16 columns]"
      ]
     },
     "execution_count": 5,
     "metadata": {
      "tags": []
     },
     "output_type": "execute_result"
    }
   ],
   "source": [
    "df.describe(include='object')"
   ]
  },
  {
   "cell_type": "markdown",
   "metadata": {
    "colab_type": "text",
    "id": "kYls6lSRRJyM"
   },
   "source": [
    "## Ta hand om plac (placering\n",
    "byt 1:a till 1   \n",
    "byt 0 till 13   \n",
    "byt d till 14  \n",
    "Gor kolumnen numerisk "
   ]
  },
  {
   "cell_type": "code",
   "execution_count": 0,
   "metadata": {
    "colab": {
     "base_uri": "https://localhost:8080/",
     "height": 286
    },
    "colab_type": "code",
    "executionInfo": {
     "elapsed": 688,
     "status": "ok",
     "timestamp": 1586607056095,
     "user": {
      "displayName": "Peter Fendrich",
      "photoUrl": "https://lh3.googleusercontent.com/a-/AOh14GiUImm9TWBaRBjunWQhCazjDHA1xNUiCbLPDl0eCQ=s64",
      "userId": "15871336894771711285"
     },
     "user_tz": -120
    },
    "id": "LzQqJVxEQz5H",
    "outputId": "72c4656a-19e9-4e3d-a7ec-a56e8045c41f"
   },
   "outputs": [
    {
     "data": {
      "text/plain": [
       "0      8742\n",
       "d      2615\n",
       "1:a    2455\n",
       "2      2451\n",
       "4      2449\n",
       "3      2447\n",
       "5      2426\n",
       "6      2319\n",
       "7      1648\n",
       "8        28\n",
       "9        12\n",
       "10       11\n",
       "11        9\n",
       "12        6\n",
       "1         5\n",
       "Name: plac, dtype: int64"
      ]
     },
     "execution_count": 6,
     "metadata": {
      "tags": []
     },
     "output_type": "execute_result"
    }
   ],
   "source": [
    "df['plac'].value_counts()"
   ]
  },
  {
   "cell_type": "code",
   "execution_count": 0,
   "metadata": {
    "colab": {
     "base_uri": "https://localhost:8080/",
     "height": 286
    },
    "colab_type": "code",
    "executionInfo": {
     "elapsed": 622,
     "status": "ok",
     "timestamp": 1586607059803,
     "user": {
      "displayName": "Peter Fendrich",
      "photoUrl": "https://lh3.googleusercontent.com/a-/AOh14GiUImm9TWBaRBjunWQhCazjDHA1xNUiCbLPDl0eCQ=s64",
      "userId": "15871336894771711285"
     },
     "user_tz": -120
    },
    "id": "ALVgFkO8RvKu",
    "outputId": "47fce08e-bc32-4cd4-9d57-ebed594d818b"
   },
   "outputs": [
    {
     "data": {
      "text/plain": [
       "0      8742\n",
       "14     2615\n",
       "1:a    2455\n",
       "2      2451\n",
       "4      2449\n",
       "3      2447\n",
       "5      2426\n",
       "6      2319\n",
       "7      1648\n",
       "8        28\n",
       "9        12\n",
       "10       11\n",
       "11        9\n",
       "12        6\n",
       "1         5\n",
       "Name: plac, dtype: int64"
      ]
     },
     "execution_count": 7,
     "metadata": {
      "tags": []
     },
     "output_type": "execute_result"
    }
   ],
   "source": [
    "# byt 'd' till 14\n",
    "df.loc[df.plac == 'd','plac']= 14\n",
    "df['plac'].value_counts()"
   ]
  },
  {
   "cell_type": "code",
   "execution_count": 0,
   "metadata": {
    "colab": {
     "base_uri": "https://localhost:8080/",
     "height": 286
    },
    "colab_type": "code",
    "executionInfo": {
     "elapsed": 557,
     "status": "ok",
     "timestamp": 1586607062028,
     "user": {
      "displayName": "Peter Fendrich",
      "photoUrl": "https://lh3.googleusercontent.com/a-/AOh14GiUImm9TWBaRBjunWQhCazjDHA1xNUiCbLPDl0eCQ=s64",
      "userId": "15871336894771711285"
     },
     "user_tz": -120
    },
    "id": "jYdxj1uiS4VC",
    "outputId": "6bcd462e-175e-4f38-9585-b9ce4aff4001"
   },
   "outputs": [
    {
     "data": {
      "text/plain": [
       "13     8742\n",
       "14     2615\n",
       "1:a    2455\n",
       "2      2451\n",
       "4      2449\n",
       "3      2447\n",
       "5      2426\n",
       "6      2319\n",
       "7      1648\n",
       "8        28\n",
       "9        12\n",
       "10       11\n",
       "11        9\n",
       "12        6\n",
       "1         5\n",
       "Name: plac, dtype: int64"
      ]
     },
     "execution_count": 8,
     "metadata": {
      "tags": []
     },
     "output_type": "execute_result"
    }
   ],
   "source": [
    "# byt '0' till 13\n",
    "df.loc[df.plac == '0','plac']= 13\n",
    "df['plac'].value_counts()"
   ]
  },
  {
   "cell_type": "code",
   "execution_count": 0,
   "metadata": {
    "colab": {
     "base_uri": "https://localhost:8080/",
     "height": 269
    },
    "colab_type": "code",
    "executionInfo": {
     "elapsed": 584,
     "status": "ok",
     "timestamp": 1586607065623,
     "user": {
      "displayName": "Peter Fendrich",
      "photoUrl": "https://lh3.googleusercontent.com/a-/AOh14GiUImm9TWBaRBjunWQhCazjDHA1xNUiCbLPDl0eCQ=s64",
      "userId": "15871336894771711285"
     },
     "user_tz": -120
    },
    "id": "Nk_y3zO8TCH1",
    "outputId": "11d5b9b8-41b5-4d35-e6ae-327564836a1d"
   },
   "outputs": [
    {
     "data": {
      "text/plain": [
       "13    8742\n",
       "14    2615\n",
       "1     2460\n",
       "2     2451\n",
       "4     2449\n",
       "3     2447\n",
       "5     2426\n",
       "6     2319\n",
       "7     1648\n",
       "8       28\n",
       "9       12\n",
       "10      11\n",
       "11       9\n",
       "12       6\n",
       "Name: plac, dtype: int64"
      ]
     },
     "execution_count": 9,
     "metadata": {
      "tags": []
     },
     "output_type": "execute_result"
    }
   ],
   "source": [
    "# byt '1:a' till '1'\n",
    "df.loc[df.plac == '1:a','plac']= '1'\n",
    "df['plac'].value_counts()"
   ]
  },
  {
   "cell_type": "code",
   "execution_count": 0,
   "metadata": {
    "colab": {
     "base_uri": "https://localhost:8080/",
     "height": 269
    },
    "colab_type": "code",
    "executionInfo": {
     "elapsed": 578,
     "status": "ok",
     "timestamp": 1586607087001,
     "user": {
      "displayName": "Peter Fendrich",
      "photoUrl": "https://lh3.googleusercontent.com/a-/AOh14GiUImm9TWBaRBjunWQhCazjDHA1xNUiCbLPDl0eCQ=s64",
      "userId": "15871336894771711285"
     },
     "user_tz": -120
    },
    "id": "xFC8nqmjTuin",
    "outputId": "8fc86c07-0aae-4d7e-b536-311a7b6238da"
   },
   "outputs": [
    {
     "data": {
      "text/plain": [
       "13    8742\n",
       "14    2615\n",
       "1     2460\n",
       "2     2451\n",
       "4     2449\n",
       "3     2447\n",
       "5     2426\n",
       "6     2319\n",
       "7     1648\n",
       "8       28\n",
       "9       12\n",
       "10      11\n",
       "11       9\n",
       "12       6\n",
       "Name: plac, dtype: int64"
      ]
     },
     "execution_count": 11,
     "metadata": {
      "tags": []
     },
     "output_type": "execute_result"
    }
   ],
   "source": [
    "# gör plac numeriskt\n",
    "df['plac'] = df.loc[:,'plac'].astype('int64')\n",
    "df['plac'].value_counts()"
   ]
  },
  {
   "cell_type": "markdown",
   "metadata": {
    "colab_type": "text",
    "id": "4TFlfIw9U6C0"
   },
   "source": [
    "## Ta hand om start"
   ]
  },
  {
   "cell_type": "code",
   "execution_count": 0,
   "metadata": {
    "colab": {
     "base_uri": "https://localhost:8080/",
     "height": 655
    },
    "colab_type": "code",
    "executionInfo": {
     "elapsed": 483,
     "status": "ok",
     "timestamp": 1586607123549,
     "user": {
      "displayName": "Peter Fendrich",
      "photoUrl": "https://lh3.googleusercontent.com/a-/AOh14GiUImm9TWBaRBjunWQhCazjDHA1xNUiCbLPDl0eCQ=s64",
      "userId": "15871336894771711285"
     },
     "user_tz": -120
    },
    "id": "6x9IJeFaVjVs",
    "outputId": "6b04783b-f73b-4629-f0b1-bd394513a9c0"
   },
   "outputs": [
    {
     "name": "stdout",
     "output_type": "stream",
     "text": [
      "0    19420\n",
      "1     8203\n",
      "Name: start, dtype: int64\n",
      "<class 'pandas.core.frame.DataFrame'>\n",
      "RangeIndex: 27623 entries, 0 to 27622\n",
      "Data columns (total 28 columns):\n",
      " #   Column   Non-Null Count  Dtype  \n",
      "---  ------   --------------  -----  \n",
      " 0   datum    27623 non-null  object \n",
      " 1   häst     27623 non-null  object \n",
      " 2   plac     27623 non-null  int64  \n",
      " 3   dist     27623 non-null  int64  \n",
      " 4   start    27623 non-null  int64  \n",
      " 5   spår     27562 non-null  float64\n",
      " 6   vodds    27623 non-null  object \n",
      " 7   podds    27623 non-null  object \n",
      " 8   h1_plac  26061 non-null  object \n",
      " 9   h1_dist  26072 non-null  float64\n",
      " 10  h1_spår  24072 non-null  float64\n",
      " 11  h1_odds  26059 non-null  object \n",
      " 12  h2_plac  26057 non-null  object \n",
      " 13  h2_dist  26058 non-null  float64\n",
      " 14  h2_spår  23832 non-null  float64\n",
      " 15  h2_odds  26041 non-null  object \n",
      " 16  h3_plac  26026 non-null  object \n",
      " 17  h3_dist  26027 non-null  float64\n",
      " 18  h3_spår  23581 non-null  float64\n",
      " 19  h3_odds  26013 non-null  object \n",
      " 20  h4_plac  26015 non-null  object \n",
      " 21  h4_dist  26015 non-null  float64\n",
      " 22  h4_spår  23433 non-null  float64\n",
      " 23  h4_odds  25991 non-null  object \n",
      " 24  h5_plac  25977 non-null  object \n",
      " 25  h5_dist  25977 non-null  float64\n",
      " 26  h5_spår  23248 non-null  float64\n",
      " 27  h5_odds  25949 non-null  object \n",
      "dtypes: float64(11), int64(3), object(14)\n",
      "memory usage: 5.9+ MB\n"
     ]
    }
   ],
   "source": [
    "# binärkoda 'AUTOSTART=0 och VOLTSTART=1 \n",
    "df.loc[df.start == 'AUTOSTART','start']= 0\n",
    "df.loc[df.start == 'VOLTSTART','start']= 1\n",
    "df['start'] = df.start.astype('int64')\n",
    "print(df['start'].value_counts())\n",
    "df.info()"
   ]
  },
  {
   "cell_type": "markdown",
   "metadata": {
    "colab_type": "text",
    "id": "U6NvjbPHa1E_"
   },
   "source": [
    "## Ta hand om vodds\n",
    "byt \",\" till \".\"  \n",
    "gör kolumnen numerisk"
   ]
  },
  {
   "cell_type": "code",
   "execution_count": 0,
   "metadata": {
    "colab": {
     "base_uri": "https://localhost:8080/",
     "height": 168
    },
    "colab_type": "code",
    "executionInfo": {
     "elapsed": 542,
     "status": "ok",
     "timestamp": 1586607130882,
     "user": {
      "displayName": "Peter Fendrich",
      "photoUrl": "https://lh3.googleusercontent.com/a-/AOh14GiUImm9TWBaRBjunWQhCazjDHA1xNUiCbLPDl0eCQ=s64",
      "userId": "15871336894771711285"
     },
     "user_tz": -120
    },
    "id": "vRGsXxE0vqxT",
    "outputId": "6b8df207-d8b1-486e-d179-d8222d68f6a6"
   },
   "outputs": [
    {
     "data": {
      "text/plain": [
       "count    27623.000000\n",
       "mean        30.195165\n",
       "std         34.410210\n",
       "min          1.070000\n",
       "25%          7.290000\n",
       "50%         17.160000\n",
       "75%         41.340000\n",
       "max        553.490000\n",
       "Name: vodds, dtype: float64"
      ]
     },
     "execution_count": 13,
     "metadata": {
      "tags": []
     },
     "output_type": "execute_result"
    }
   ],
   "source": [
    "df.vodds = df['vodds'].str.replace(',','.').astype('float')\n",
    "df.vodds.describe()\n"
   ]
  },
  {
   "cell_type": "markdown",
   "metadata": {
    "colab_type": "text",
    "id": "OBgc2sric8lV"
   },
   "source": [
    "## Ta hand om podds\n",
    "byt \",\" till \".\"  \n",
    "räkna om 'x.xx - y.yy' till ett medelvärde  \n",
    "gör numeriskt"
   ]
  },
  {
   "cell_type": "code",
   "execution_count": 0,
   "metadata": {
    "colab": {
     "base_uri": "https://localhost:8080/",
     "height": 185
    },
    "colab_type": "code",
    "executionInfo": {
     "elapsed": 828,
     "status": "ok",
     "timestamp": 1586607143714,
     "user": {
      "displayName": "Peter Fendrich",
      "photoUrl": "https://lh3.googleusercontent.com/a-/AOh14GiUImm9TWBaRBjunWQhCazjDHA1xNUiCbLPDl0eCQ=s64",
      "userId": "15871336894771711285"
     },
     "user_tz": -120
    },
    "id": "ZR713wAA51DW",
    "outputId": "2bf665aa-c9d3-4c04-8abc-8dcfb9377825"
   },
   "outputs": [
    {
     "name": "stdout",
     "output_type": "stream",
     "text": [
      "20274\n"
     ]
    },
    {
     "data": {
      "text/plain": [
       "count    27623.000000\n",
       "mean         5.074293\n",
       "std          4.227917\n",
       "min          1.000000\n",
       "25%          2.275000\n",
       "50%          3.610000\n",
       "75%          6.405000\n",
       "max         50.145000\n",
       "Name: podds, dtype: float64"
      ]
     },
     "execution_count": 14,
     "metadata": {
      "tags": []
     },
     "output_type": "execute_result"
    }
   ],
   "source": [
    "def new_podds(p):\n",
    "  x=p.replace(',' , '.')\n",
    "  sp=x.split('-')\n",
    "\n",
    "  x=sp[0]\n",
    "  if len(sp) == 2:\n",
    "    x = (float(sp[0])+float(sp[1]))/2\n",
    "  \n",
    "  return x\n",
    "\n",
    "print(df['podds'].str.contains('-').sum())\n",
    "df['podds'] = df['podds'].apply(lambda x: new_podds(x))\n",
    "df['podds'] = df.podds.astype('float')\n",
    "df.podds.describe()"
   ]
  },
  {
   "cell_type": "markdown",
   "metadata": {
    "colab_type": "text",
    "id": "THsFCoxKpgHM"
   },
   "source": [
    "## ta hand om h1_plac, h2_plac...h5_plac\n",
    "vad göra med NaN?   \n",
    "byt 0 till 13  \n",
    "byt d till 14  \n",
    "finns fler?  \n",
    "Gor kolumnen numerisk"
   ]
  },
  {
   "cell_type": "code",
   "execution_count": 0,
   "metadata": {
    "colab": {
     "base_uri": "https://localhost:8080/",
     "height": 319
    },
    "colab_type": "code",
    "executionInfo": {
     "elapsed": 522,
     "status": "ok",
     "timestamp": 1586607151805,
     "user": {
      "displayName": "Peter Fendrich",
      "photoUrl": "https://lh3.googleusercontent.com/a-/AOh14GiUImm9TWBaRBjunWQhCazjDHA1xNUiCbLPDl0eCQ=s64",
      "userId": "15871336894771711285"
     },
     "user_tz": -120
    },
    "id": "dOWG5bqwqUNh",
    "outputId": "04d9efa5-f828-464c-b647-1fdd361e8884"
   },
   "outputs": [
    {
     "data": {
      "text/plain": [
       "1      6386\n",
       "2      4356\n",
       "0      4237\n",
       "3      3283\n",
       "4      2586\n",
       "5      1952\n",
       "NaN    1562\n",
       "6      1279\n",
       "d      1233\n",
       "7       634\n",
       "k        73\n",
       "8        36\n",
       "10        2\n",
       "0r        1\n",
       "15        1\n",
       "2r        1\n",
       "3r        1\n",
       "Name: h1_plac, dtype: int64"
      ]
     },
     "execution_count": 15,
     "metadata": {
      "tags": []
     },
     "output_type": "execute_result"
    }
   ],
   "source": [
    "df.h1_plac.value_counts(dropna=False)"
   ]
  },
  {
   "cell_type": "code",
   "execution_count": 0,
   "metadata": {
    "colab": {
     "base_uri": "https://localhost:8080/",
     "height": 302
    },
    "colab_type": "code",
    "executionInfo": {
     "elapsed": 611,
     "status": "ok",
     "timestamp": 1586607157652,
     "user": {
      "displayName": "Peter Fendrich",
      "photoUrl": "https://lh3.googleusercontent.com/a-/AOh14GiUImm9TWBaRBjunWQhCazjDHA1xNUiCbLPDl0eCQ=s64",
      "userId": "15871336894771711285"
     },
     "user_tz": -120
    },
    "id": "KNwyBcc74UFT",
    "outputId": "185c6a5a-0c84-4d36-d945-a4b40a2c6ba2"
   },
   "outputs": [
    {
     "data": {
      "text/plain": [
       "1     6386\n",
       "2     4356\n",
       "13    4237\n",
       "3     3283\n",
       "4     2586\n",
       "5     1952\n",
       "6     1279\n",
       "14    1233\n",
       "7      634\n",
       "k       73\n",
       "8       36\n",
       "10       2\n",
       "3r       1\n",
       "2r       1\n",
       "0r       1\n",
       "15       1\n",
       "Name: h1_plac, dtype: int64"
      ]
     },
     "execution_count": 16,
     "metadata": {
      "tags": []
     },
     "output_type": "execute_result"
    }
   ],
   "source": [
    "# byt '0' till 13\n",
    "df.loc[df.h1_plac == '0','h1_plac']= 13\n",
    "df.loc[df.h2_plac == '0','h2_plac']= 13\n",
    "df.loc[df.h3_plac == '0','h3_plac']= 13\n",
    "df.loc[df.h4_plac == '0','h4_plac']= 13\n",
    "df.loc[df.h5_plac == '0','h5_plac']= 13\n",
    "# byt 'd' till 14\n",
    "df.loc[df.h1_plac == 'd','h1_plac']= 14\n",
    "df.loc[df.h2_plac == 'd','h2_plac']= 14\n",
    "df.loc[df.h3_plac == 'd','h3_plac']= 14\n",
    "df.loc[df.h4_plac == 'd','h4_plac']= 14\n",
    "df.loc[df.h5_plac == 'd','h5_plac']= 14\n",
    "df['h1_plac'].value_counts()"
   ]
  },
  {
   "cell_type": "markdown",
   "metadata": {
    "colab_type": "text",
    "id": "OSRhe0w8fkUq"
   },
   "source": []
  },
  {
   "cell_type": "code",
   "execution_count": 0,
   "metadata": {
    "colab": {
     "base_uri": "https://localhost:8080/",
     "height": 336
    },
    "colab_type": "code",
    "executionInfo": {
     "elapsed": 579,
     "status": "ok",
     "timestamp": 1586607164468,
     "user": {
      "displayName": "Peter Fendrich",
      "photoUrl": "https://lh3.googleusercontent.com/a-/AOh14GiUImm9TWBaRBjunWQhCazjDHA1xNUiCbLPDl0eCQ=s64",
      "userId": "15871336894771711285"
     },
     "user_tz": -120
    },
    "id": "jrsSae8bfk-I",
    "outputId": "56f79c8d-6aeb-4a67-8d54-7a5363db8abb"
   },
   "outputs": [
    {
     "data": {
      "text/plain": [
       "1      6503\n",
       "13     4429\n",
       "2      4219\n",
       "3      3125\n",
       "4      2368\n",
       "5      1949\n",
       "NaN    1597\n",
       "14     1317\n",
       "6      1303\n",
       "7       612\n",
       "k        96\n",
       "8        84\n",
       "9         6\n",
       "10        6\n",
       "11        5\n",
       "2         2\n",
       "12        1\n",
       "4         1\n",
       "Name: h3_plac, dtype: int64"
      ]
     },
     "execution_count": 17,
     "metadata": {
      "tags": []
     },
     "output_type": "execute_result"
    }
   ],
   "source": [
    "#Vad är 0r, 2r, resp 3r?\n",
    "df.loc[df.h1_plac == '0r']\n",
    "df.loc[df.h1_plac == '3r']\n",
    "df.loc[df.h1_plac == '3r']\n",
    "#Verkar bara vara ett 'r' för mycket.\n",
    "\n",
    "df.loc[df.h1_plac == '0r','h1_plac']= 13\n",
    "df.loc[df.h2_plac == '0r','h2_plac']= 13\n",
    "df.loc[df.h3_plac == '0r','h3_plac']= 13\n",
    "df.loc[df.h4_plac == '0r','h4_plac']= 13\n",
    "df.loc[df.h5_plac == '0r','h5_plac']= 13\n",
    "\n",
    "df.loc[df.h1_plac == '2r','h1_plac']= 2\n",
    "df.loc[df.h2_plac == '2r','h2_plac']= 2\n",
    "df.loc[df.h3_plac == '2r','h3_plac']= 2\n",
    "df.loc[df.h4_plac == '2r','h4_plac']= 2\n",
    "df.loc[df.h5_plac == '2r','h5_plac']= 2\n",
    "\n",
    "df.loc[df.h1_plac == '3r','h1_plac']= 3\n",
    "df.loc[df.h2_plac == '3r','h2_plac']= 3\n",
    "df.loc[df.h3_plac == '3r','h3_plac']= 3\n",
    "df.loc[df.h4_plac == '3r','h4_plac']= 3\n",
    "df.loc[df.h5_plac == '3r','h5_plac']= 3\n",
    "\n",
    "df.loc[df.h1_plac == '4r','h1_plac']= 4\n",
    "df.loc[df.h2_plac == '4r','h2_plac']= 4\n",
    "df.loc[df.h3_plac == '4r','h3_plac']= 4\n",
    "df.loc[df.h4_plac == '4r','h4_plac']= 4\n",
    "df.loc[df.h5_plac == '4r','h5_plac']= 4\n",
    "df['h3_plac'].value_counts(dropna=False)\n",
    "\n"
   ]
  },
  {
   "cell_type": "code",
   "execution_count": 0,
   "metadata": {
    "colab": {
     "base_uri": "https://localhost:8080/",
     "height": 299
    },
    "colab_type": "code",
    "executionInfo": {
     "elapsed": 696,
     "status": "ok",
     "timestamp": 1586607175086,
     "user": {
      "displayName": "Peter Fendrich",
      "photoUrl": "https://lh3.googleusercontent.com/a-/AOh14GiUImm9TWBaRBjunWQhCazjDHA1xNUiCbLPDl0eCQ=s64",
      "userId": "15871336894771711285"
     },
     "user_tz": -120
    },
    "id": "x04qHFdz6rdQ",
    "outputId": "7733e8f4-08ef-469f-ab79-a534668ddb9c"
   },
   "outputs": [
    {
     "data": {
      "text/html": [
       "<div>\n",
       "<style scoped>\n",
       "    .dataframe tbody tr th:only-of-type {\n",
       "        vertical-align: middle;\n",
       "    }\n",
       "\n",
       "    .dataframe tbody tr th {\n",
       "        vertical-align: top;\n",
       "    }\n",
       "\n",
       "    .dataframe thead th {\n",
       "        text-align: right;\n",
       "    }\n",
       "</style>\n",
       "<table border=\"1\" class=\"dataframe\">\n",
       "  <thead>\n",
       "    <tr style=\"text-align: right;\">\n",
       "      <th></th>\n",
       "      <th>datum</th>\n",
       "      <th>häst</th>\n",
       "      <th>plac</th>\n",
       "      <th>dist</th>\n",
       "      <th>start</th>\n",
       "      <th>spår</th>\n",
       "      <th>vodds</th>\n",
       "      <th>podds</th>\n",
       "      <th>h1_plac</th>\n",
       "      <th>h1_dist</th>\n",
       "      <th>h1_spår</th>\n",
       "      <th>h1_odds</th>\n",
       "      <th>h2_plac</th>\n",
       "      <th>h2_dist</th>\n",
       "      <th>h2_spår</th>\n",
       "      <th>h2_odds</th>\n",
       "      <th>h3_plac</th>\n",
       "      <th>h3_dist</th>\n",
       "      <th>h3_spår</th>\n",
       "      <th>h3_odds</th>\n",
       "      <th>h4_plac</th>\n",
       "      <th>h4_dist</th>\n",
       "      <th>h4_spår</th>\n",
       "      <th>h4_odds</th>\n",
       "      <th>h5_plac</th>\n",
       "      <th>h5_dist</th>\n",
       "      <th>h5_spår</th>\n",
       "      <th>h5_odds</th>\n",
       "    </tr>\n",
       "  </thead>\n",
       "  <tbody>\n",
       "    <tr>\n",
       "      <th>18</th>\n",
       "      <td>2020-04-04</td>\n",
       "      <td>GIVEITGASANDGO</td>\n",
       "      <td>7</td>\n",
       "      <td>2140</td>\n",
       "      <td>0</td>\n",
       "      <td>11.0</td>\n",
       "      <td>67.15</td>\n",
       "      <td>12.865</td>\n",
       "      <td>13</td>\n",
       "      <td>1640.0</td>\n",
       "      <td>3.0</td>\n",
       "      <td>13,41</td>\n",
       "      <td>k</td>\n",
       "      <td>2140.0</td>\n",
       "      <td>1.0</td>\n",
       "      <td>gdk</td>\n",
       "      <td>3</td>\n",
       "      <td>1609.0</td>\n",
       "      <td>NaN</td>\n",
       "      <td>6,1</td>\n",
       "      <td>13</td>\n",
       "      <td>2200.0</td>\n",
       "      <td>NaN</td>\n",
       "      <td>4,01</td>\n",
       "      <td>1</td>\n",
       "      <td>2140.0</td>\n",
       "      <td>1.0</td>\n",
       "      <td>7,51</td>\n",
       "    </tr>\n",
       "    <tr>\n",
       "      <th>371</th>\n",
       "      <td>2020-03-07</td>\n",
       "      <td>SIR RATZEPUTZ</td>\n",
       "      <td>13</td>\n",
       "      <td>2140</td>\n",
       "      <td>0</td>\n",
       "      <td>2.0</td>\n",
       "      <td>1.74</td>\n",
       "      <td>1.185</td>\n",
       "      <td>1</td>\n",
       "      <td>2160.0</td>\n",
       "      <td>3.0</td>\n",
       "      <td>2,97</td>\n",
       "      <td>k</td>\n",
       "      <td>2140.0</td>\n",
       "      <td>6.0</td>\n",
       "      <td>gdk</td>\n",
       "      <td>14</td>\n",
       "      <td>2140.0</td>\n",
       "      <td>6.0</td>\n",
       "      <td>16,43</td>\n",
       "      <td>7</td>\n",
       "      <td>2140.0</td>\n",
       "      <td>2.0</td>\n",
       "      <td>4,18</td>\n",
       "      <td>2</td>\n",
       "      <td>1640.0</td>\n",
       "      <td>2.0</td>\n",
       "      <td>1,65</td>\n",
       "    </tr>\n",
       "    <tr>\n",
       "      <th>1285</th>\n",
       "      <td>2019-12-14</td>\n",
       "      <td>GLOBAL TEARDROP</td>\n",
       "      <td>13</td>\n",
       "      <td>2160</td>\n",
       "      <td>1</td>\n",
       "      <td>6.0</td>\n",
       "      <td>78.74</td>\n",
       "      <td>13.090</td>\n",
       "      <td>13</td>\n",
       "      <td>2140.0</td>\n",
       "      <td>8.0</td>\n",
       "      <td>15,89</td>\n",
       "      <td>k</td>\n",
       "      <td>2140.0</td>\n",
       "      <td>1.0</td>\n",
       "      <td>gdk</td>\n",
       "      <td>4</td>\n",
       "      <td>2140.0</td>\n",
       "      <td>6.0</td>\n",
       "      <td>49,7</td>\n",
       "      <td>13</td>\n",
       "      <td>2660.0</td>\n",
       "      <td>2.0</td>\n",
       "      <td>15,3</td>\n",
       "      <td>3</td>\n",
       "      <td>2140.0</td>\n",
       "      <td>5.0</td>\n",
       "      <td>4,92</td>\n",
       "    </tr>\n",
       "    <tr>\n",
       "      <th>1435</th>\n",
       "      <td>2019-12-01</td>\n",
       "      <td>OLLE ROLS</td>\n",
       "      <td>6</td>\n",
       "      <td>3180</td>\n",
       "      <td>1</td>\n",
       "      <td>1.0</td>\n",
       "      <td>7.00</td>\n",
       "      <td>2.835</td>\n",
       "      <td>2</td>\n",
       "      <td>3180.0</td>\n",
       "      <td>1.0</td>\n",
       "      <td>12,19</td>\n",
       "      <td>k</td>\n",
       "      <td>2140.0</td>\n",
       "      <td>6.0</td>\n",
       "      <td>gdk</td>\n",
       "      <td>14</td>\n",
       "      <td>2140.0</td>\n",
       "      <td>3.0</td>\n",
       "      <td>2,5</td>\n",
       "      <td>k</td>\n",
       "      <td>2140.0</td>\n",
       "      <td>9.0</td>\n",
       "      <td>gdk</td>\n",
       "      <td>14</td>\n",
       "      <td>2140.0</td>\n",
       "      <td>6.0</td>\n",
       "      <td>23,44</td>\n",
       "    </tr>\n",
       "    <tr>\n",
       "      <th>2121</th>\n",
       "      <td>2019-10-26</td>\n",
       "      <td>YANKEE SENSATION</td>\n",
       "      <td>13</td>\n",
       "      <td>2140</td>\n",
       "      <td>0</td>\n",
       "      <td>11.0</td>\n",
       "      <td>85.25</td>\n",
       "      <td>11.575</td>\n",
       "      <td>13</td>\n",
       "      <td>2160.0</td>\n",
       "      <td>9.0</td>\n",
       "      <td>81,12</td>\n",
       "      <td>k</td>\n",
       "      <td>2140.0</td>\n",
       "      <td>11.0</td>\n",
       "      <td>gdk</td>\n",
       "      <td>13</td>\n",
       "      <td>1640.0</td>\n",
       "      <td>6.0</td>\n",
       "      <td>8,6</td>\n",
       "      <td>14</td>\n",
       "      <td>2140.0</td>\n",
       "      <td>2.0</td>\n",
       "      <td>29,76</td>\n",
       "      <td>3</td>\n",
       "      <td>2140.0</td>\n",
       "      <td>8.0</td>\n",
       "      <td>3,21</td>\n",
       "    </tr>\n",
       "  </tbody>\n",
       "</table>\n",
       "</div>"
      ],
      "text/plain": [
       "           datum              häst  plac  ...  h5_dist  h5_spår  h5_odds\n",
       "18    2020-04-04    GIVEITGASANDGO     7  ...   2140.0      1.0     7,51\n",
       "371   2020-03-07     SIR RATZEPUTZ    13  ...   1640.0      2.0     1,65\n",
       "1285  2019-12-14   GLOBAL TEARDROP    13  ...   2140.0      5.0     4,92\n",
       "1435  2019-12-01         OLLE ROLS     6  ...   2140.0      6.0    23,44\n",
       "2121  2019-10-26  YANKEE SENSATION    13  ...   2140.0      8.0     3,21\n",
       "\n",
       "[5 rows x 28 columns]"
      ]
     },
     "execution_count": 18,
     "metadata": {
      "tags": []
     },
     "output_type": "execute_result"
    }
   ],
   "source": [
    "\n",
    "df.loc[df.h2_plac == 'k'].head()\n",
    "#verkar inte vara användbar historik för  h1_..., h2_... osv"
   ]
  },
  {
   "cell_type": "code",
   "execution_count": 0,
   "metadata": {
    "colab": {
     "base_uri": "https://localhost:8080/",
     "height": 50
    },
    "colab_type": "code",
    "executionInfo": {
     "elapsed": 931,
     "status": "ok",
     "timestamp": 1586607181046,
     "user": {
      "displayName": "Peter Fendrich",
      "photoUrl": "https://lh3.googleusercontent.com/a-/AOh14GiUImm9TWBaRBjunWQhCazjDHA1xNUiCbLPDl0eCQ=s64",
      "userId": "15871336894771711285"
     },
     "user_tz": -120
    },
    "id": "RuGBU5hC2AYI",
    "outputId": "f618cb81-2734-4642-f596-002469d5f5d7"
   },
   "outputs": [
    {
     "name": "stdout",
     "output_type": "stream",
     "text": [
      "(111,)\n",
      "1566\n"
     ]
    }
   ],
   "source": [
    "# NaN till h1,...,h5 med plac='k'\n",
    "print(df.loc[df.h2_plac == 'k','h2_plac'].shape)\n",
    "print(df['h2_plac'].isnull().sum())\n",
    "\n",
    "df.loc[df.h1_plac == 'k', 'h1_dist'] = df.loc[df.h1_plac == 'k','h1_dist'].apply(lambda x: np.nan) \n",
    "df.loc[df.h1_plac == 'k', 'h1_spår'] = df.loc[df.h1_plac == 'k','h1_spår'].apply(lambda x: np.nan) \n",
    "df.loc[df.h1_plac == 'k', 'h1_odds'] = df.loc[df.h1_plac == 'k','h1_odds'].apply(lambda x: np.nan) \n",
    "df.loc[df.h1_plac == 'k', 'h1_plac'] = df.loc[df.h1_plac == 'k','h1_plac'].apply(lambda x: np.nan) \n",
    "\n",
    "df.loc[df.h2_plac == 'k', 'h2_dist'] = df.loc[df.h2_plac == 'k','h2_dist'].apply(lambda x: np.nan) \n",
    "df.loc[df.h2_plac == 'k', 'h2_spår'] = df.loc[df.h2_plac == 'k','h2_spår'].apply(lambda x: np.nan) \n",
    "df.loc[df.h2_plac == 'k', 'h2_odds'] = df.loc[df.h2_plac == 'k','h2_odds'].apply(lambda x: np.nan) \n",
    "df.loc[df.h2_plac == 'k', 'h2_plac'] = df.loc[df.h2_plac == 'k','h2_plac'].apply(lambda x: np.nan) \n",
    "\n",
    "df.loc[df.h3_plac == 'k', 'h3_dist'] = df.loc[df.h3_plac == 'k','h3_dist'].apply(lambda x: np.nan) \n",
    "df.loc[df.h3_plac == 'k', 'h3_spår'] = df.loc[df.h3_plac == 'k','h3_spår'].apply(lambda x: np.nan) \n",
    "df.loc[df.h3_plac == 'k', 'h3_odds'] = df.loc[df.h3_plac == 'k','h3_odds'].apply(lambda x: np.nan) \n",
    "df.loc[df.h3_plac == 'k', 'h3_plac'] = df.loc[df.h3_plac == 'k','h3_plac'].apply(lambda x: np.nan) \n",
    "\n",
    "df.loc[df.h4_plac == 'k', 'h4_dist'] = df.loc[df.h4_plac == 'k','h4_dist'].apply(lambda x: np.nan) \n",
    "df.loc[df.h4_plac == 'k', 'h4_spår'] = df.loc[df.h4_plac == 'k','h4_spår'].apply(lambda x: np.nan) \n",
    "df.loc[df.h4_plac == 'k', 'h4_odds'] = df.loc[df.h4_plac == 'k','h4_odds'].apply(lambda x: np.nan) \n",
    "df.loc[df.h4_plac == 'k', 'h4_plac'] = df.loc[df.h4_plac == 'k','h4_plac'].apply(lambda x: np.nan) \n",
    "\n",
    "df.loc[df.h5_plac == 'k', 'h5_dist'] = df.loc[df.h5_plac == 'k','h5_dist'].apply(lambda x: np.nan) \n",
    "df.loc[df.h5_plac == 'k', 'h5_spår'] = df.loc[df.h5_plac == 'k','h5_spår'].apply(lambda x: np.nan) \n",
    "df.loc[df.h5_plac == 'k', 'h5_odds'] = df.loc[df.h5_plac == 'k','h5_odds'].apply(lambda x: np.nan) \n",
    "df.loc[df.h5_plac == 'k', 'h5_plac'] = df.loc[df.h5_plac == 'k','h5_plac'].apply(lambda x: np.nan) \n"
   ]
  },
  {
   "cell_type": "code",
   "execution_count": 0,
   "metadata": {
    "colab": {},
    "colab_type": "code",
    "id": "De0r0jNL_4lx"
   },
   "outputs": [],
   "source": [
    "#vad h2_plac=='p' och h5_plac == 'p'\n",
    "df.loc[df.h2_plac == 'p']\n",
    "df.loc[df.h2_plac == 'p', 'h2_dist'] = df.loc[df.h2_plac == 'p','h2_dist'].apply(lambda x: np.nan)\n",
    "df.loc[df.h2_plac == 'p', 'h2_spår'] = df.loc[df.h2_plac == 'p','h2_spår'].apply(lambda x: np.nan)\n",
    "df.loc[df.h2_plac == 'p', 'h2_odds'] = df.loc[df.h2_plac == 'p','h2_odds'].apply(lambda x: np.nan)\n",
    "df.loc[df.h2_plac == 'p', 'h2_plac'] = df.loc[df.h2_plac == 'p','h2_plac'].apply(lambda x: np.nan)\n",
    "\n",
    "df.loc[df.h5_plac == 'p']\n",
    "df.loc[df.h5_plac == 'p', 'h5_dist'] = df.loc[df.h5_plac == 'p','h5_dist'].apply(lambda x: np.nan)\n",
    "df.loc[df.h5_plac == 'p', 'h5_spår'] = df.loc[df.h5_plac == 'p','h5_spår'].apply(lambda x: np.nan)\n",
    "df.loc[df.h5_plac == 'p', 'h5_odds'] = df.loc[df.h5_plac == 'p','h5_odds'].apply(lambda x: np.nan)\n",
    "df.loc[df.h5_plac == 'p', 'h5_plac'] = df.loc[df.h5_plac == 'p','h5_plac'].apply(lambda x: np.nan)\n",
    "\n"
   ]
  },
  {
   "cell_type": "code",
   "execution_count": 0,
   "metadata": {
    "colab": {
     "base_uri": "https://localhost:8080/",
     "height": 218
    },
    "colab_type": "code",
    "executionInfo": {
     "elapsed": 629,
     "status": "ok",
     "timestamp": 1586607195562,
     "user": {
      "displayName": "Peter Fendrich",
      "photoUrl": "https://lh3.googleusercontent.com/a-/AOh14GiUImm9TWBaRBjunWQhCazjDHA1xNUiCbLPDl0eCQ=s64",
      "userId": "15871336894771711285"
     },
     "user_tz": -120
    },
    "id": "-SQ2LCtC9XW9",
    "outputId": "2ca17ba8-ef80-412a-b19b-c5abc7e706b7"
   },
   "outputs": [
    {
     "name": "stdout",
     "output_type": "stream",
     "text": [
      "<class 'pandas.core.frame.DataFrame'>\n",
      "RangeIndex: 27623 entries, 0 to 27622\n",
      "Data columns (total 5 columns):\n",
      " #   Column   Non-Null Count  Dtype  \n",
      "---  ------   --------------  -----  \n",
      " 0   h1_plac  25988 non-null  float64\n",
      " 1   h2_plac  25939 non-null  float64\n",
      " 2   h3_plac  25930 non-null  float64\n",
      " 3   h4_plac  25877 non-null  float64\n",
      " 4   h5_plac  25742 non-null  float64\n",
      "dtypes: float64(5)\n",
      "memory usage: 1.1 MB\n"
     ]
    }
   ],
   "source": [
    "\n",
    "df['h1_plac'] = df.h1_plac.astype('float')\n",
    "df['h2_plac'] = df.h2_plac.astype('float')\n",
    "df['h3_plac'] = df.h3_plac.astype('float')\n",
    "df['h4_plac'] = df.h4_plac.astype('float')\n",
    "df['h5_plac'] = df.h5_plac.astype('float')\n",
    "df.loc[:,['h1_plac','h2_plac', 'h3_plac', 'h4_plac', 'h5_plac']].info()"
   ]
  },
  {
   "cell_type": "code",
   "execution_count": 0,
   "metadata": {
    "colab": {
     "base_uri": "https://localhost:8080/",
     "height": 605
    },
    "colab_type": "code",
    "executionInfo": {
     "elapsed": 637,
     "status": "ok",
     "timestamp": 1586607213933,
     "user": {
      "displayName": "Peter Fendrich",
      "photoUrl": "https://lh3.googleusercontent.com/a-/AOh14GiUImm9TWBaRBjunWQhCazjDHA1xNUiCbLPDl0eCQ=s64",
      "userId": "15871336894771711285"
     },
     "user_tz": -120
    },
    "id": "FRHdtPe9_F77",
    "outputId": "b9c43fdb-7ea3-40d0-fade-b18e16e038fd"
   },
   "outputs": [
    {
     "name": "stdout",
     "output_type": "stream",
     "text": [
      "<class 'pandas.core.frame.DataFrame'>\n",
      "RangeIndex: 27623 entries, 0 to 27622\n",
      "Data columns (total 28 columns):\n",
      " #   Column   Non-Null Count  Dtype  \n",
      "---  ------   --------------  -----  \n",
      " 0   datum    27623 non-null  object \n",
      " 1   häst     27623 non-null  object \n",
      " 2   plac     27623 non-null  int64  \n",
      " 3   dist     27623 non-null  int64  \n",
      " 4   start    27623 non-null  int64  \n",
      " 5   spår     27562 non-null  float64\n",
      " 6   vodds    27623 non-null  float64\n",
      " 7   podds    27623 non-null  float64\n",
      " 8   h1_plac  25988 non-null  float64\n",
      " 9   h1_dist  25999 non-null  float64\n",
      " 10  h1_spår  24005 non-null  float64\n",
      " 11  h1_odds  25986 non-null  object \n",
      " 12  h2_plac  25939 non-null  float64\n",
      " 13  h2_dist  25940 non-null  float64\n",
      " 14  h2_spår  23723 non-null  float64\n",
      " 15  h2_odds  25923 non-null  object \n",
      " 16  h3_plac  25930 non-null  float64\n",
      " 17  h3_dist  25931 non-null  float64\n",
      " 18  h3_spår  23496 non-null  float64\n",
      " 19  h3_odds  25917 non-null  object \n",
      " 20  h4_plac  25877 non-null  float64\n",
      " 21  h4_dist  25877 non-null  float64\n",
      " 22  h4_spår  23304 non-null  float64\n",
      " 23  h4_odds  25853 non-null  object \n",
      " 24  h5_plac  25742 non-null  float64\n",
      " 25  h5_dist  25742 non-null  float64\n",
      " 26  h5_spår  23037 non-null  float64\n",
      " 27  h5_odds  25715 non-null  object \n",
      "dtypes: float64(18), int64(3), object(7)\n",
      "memory usage: 5.9+ MB\n"
     ]
    }
   ],
   "source": [
    "df.info()"
   ]
  },
  {
   "cell_type": "markdown",
   "metadata": {
    "colab_type": "text",
    "id": "Gl-wpH7nzeGF"
   },
   "source": [
    "## h1_odds,....,h5_odds"
   ]
  },
  {
   "cell_type": "code",
   "execution_count": 0,
   "metadata": {
    "colab": {
     "base_uri": "https://localhost:8080/",
     "height": 304
    },
    "colab_type": "code",
    "executionInfo": {
     "elapsed": 1462,
     "status": "ok",
     "timestamp": 1586607221838,
     "user": {
      "displayName": "Peter Fendrich",
      "photoUrl": "https://lh3.googleusercontent.com/a-/AOh14GiUImm9TWBaRBjunWQhCazjDHA1xNUiCbLPDl0eCQ=s64",
      "userId": "15871336894771711285"
     },
     "user_tz": -120
    },
    "id": "91poPlBBzlFZ",
    "outputId": "483282ac-c00d-48ff-a719-cc656b679ab5"
   },
   "outputs": [
    {
     "data": {
      "text/html": [
       "<div>\n",
       "<style scoped>\n",
       "    .dataframe tbody tr th:only-of-type {\n",
       "        vertical-align: middle;\n",
       "    }\n",
       "\n",
       "    .dataframe tbody tr th {\n",
       "        vertical-align: top;\n",
       "    }\n",
       "\n",
       "    .dataframe thead th {\n",
       "        text-align: right;\n",
       "    }\n",
       "</style>\n",
       "<table border=\"1\" class=\"dataframe\">\n",
       "  <thead>\n",
       "    <tr style=\"text-align: right;\">\n",
       "      <th></th>\n",
       "      <th>plac</th>\n",
       "      <th>dist</th>\n",
       "      <th>start</th>\n",
       "      <th>spår</th>\n",
       "      <th>vodds</th>\n",
       "      <th>podds</th>\n",
       "      <th>h1_plac</th>\n",
       "      <th>h1_dist</th>\n",
       "      <th>h1_spår</th>\n",
       "      <th>h1_odds</th>\n",
       "      <th>h2_plac</th>\n",
       "      <th>h2_dist</th>\n",
       "      <th>h2_spår</th>\n",
       "      <th>h2_odds</th>\n",
       "      <th>h3_plac</th>\n",
       "      <th>h3_dist</th>\n",
       "      <th>h3_spår</th>\n",
       "      <th>h3_odds</th>\n",
       "      <th>h4_plac</th>\n",
       "      <th>h4_dist</th>\n",
       "      <th>h4_spår</th>\n",
       "      <th>h4_odds</th>\n",
       "      <th>h5_plac</th>\n",
       "      <th>h5_dist</th>\n",
       "      <th>h5_spår</th>\n",
       "      <th>h5_odds</th>\n",
       "    </tr>\n",
       "  </thead>\n",
       "  <tbody>\n",
       "    <tr>\n",
       "      <th>count</th>\n",
       "      <td>27623.000000</td>\n",
       "      <td>27623.000000</td>\n",
       "      <td>27623.000000</td>\n",
       "      <td>27562.000000</td>\n",
       "      <td>27623.000000</td>\n",
       "      <td>27623.000000</td>\n",
       "      <td>25988.000000</td>\n",
       "      <td>25999.000000</td>\n",
       "      <td>24005.000000</td>\n",
       "      <td>25910.000000</td>\n",
       "      <td>25939.000000</td>\n",
       "      <td>25940.000000</td>\n",
       "      <td>23723.000000</td>\n",
       "      <td>25880.000000</td>\n",
       "      <td>25930.000000</td>\n",
       "      <td>25931.000000</td>\n",
       "      <td>23496.000000</td>\n",
       "      <td>25847.000000</td>\n",
       "      <td>25877.000000</td>\n",
       "      <td>25877.000000</td>\n",
       "      <td>23304.000000</td>\n",
       "      <td>25782.000000</td>\n",
       "      <td>25742.000000</td>\n",
       "      <td>25742.000000</td>\n",
       "      <td>23037.000000</td>\n",
       "      <td>25631.000000</td>\n",
       "    </tr>\n",
       "    <tr>\n",
       "      <th>mean</th>\n",
       "      <td>7.709083</td>\n",
       "      <td>2184.544655</td>\n",
       "      <td>0.296963</td>\n",
       "      <td>5.702308</td>\n",
       "      <td>30.195165</td>\n",
       "      <td>5.074293</td>\n",
       "      <td>4.996421</td>\n",
       "      <td>2145.436248</td>\n",
       "      <td>5.436034</td>\n",
       "      <td>15.130474</td>\n",
       "      <td>5.093489</td>\n",
       "      <td>2147.029530</td>\n",
       "      <td>5.395776</td>\n",
       "      <td>14.903954</td>\n",
       "      <td>5.110336</td>\n",
       "      <td>2151.300567</td>\n",
       "      <td>5.366616</td>\n",
       "      <td>14.951447</td>\n",
       "      <td>5.168953</td>\n",
       "      <td>2149.220466</td>\n",
       "      <td>5.415851</td>\n",
       "      <td>15.222802</td>\n",
       "      <td>5.182659</td>\n",
       "      <td>2151.254798</td>\n",
       "      <td>5.399835</td>\n",
       "      <td>15.785095</td>\n",
       "    </tr>\n",
       "    <tr>\n",
       "      <th>std</th>\n",
       "      <td>4.860215</td>\n",
       "      <td>396.855748</td>\n",
       "      <td>0.456928</td>\n",
       "      <td>3.405125</td>\n",
       "      <td>34.410210</td>\n",
       "      <td>4.227917</td>\n",
       "      <td>4.526720</td>\n",
       "      <td>377.032060</td>\n",
       "      <td>3.316782</td>\n",
       "      <td>20.832716</td>\n",
       "      <td>4.598718</td>\n",
       "      <td>375.110787</td>\n",
       "      <td>3.316860</td>\n",
       "      <td>20.786700</td>\n",
       "      <td>4.612758</td>\n",
       "      <td>373.643868</td>\n",
       "      <td>3.310607</td>\n",
       "      <td>21.254717</td>\n",
       "      <td>4.621972</td>\n",
       "      <td>369.324573</td>\n",
       "      <td>3.322210</td>\n",
       "      <td>21.327342</td>\n",
       "      <td>4.642845</td>\n",
       "      <td>369.593180</td>\n",
       "      <td>3.323020</td>\n",
       "      <td>22.729928</td>\n",
       "    </tr>\n",
       "    <tr>\n",
       "      <th>min</th>\n",
       "      <td>1.000000</td>\n",
       "      <td>1600.000000</td>\n",
       "      <td>0.000000</td>\n",
       "      <td>1.000000</td>\n",
       "      <td>1.070000</td>\n",
       "      <td>1.000000</td>\n",
       "      <td>1.000000</td>\n",
       "      <td>140.000000</td>\n",
       "      <td>1.000000</td>\n",
       "      <td>1.000000</td>\n",
       "      <td>1.000000</td>\n",
       "      <td>640.000000</td>\n",
       "      <td>1.000000</td>\n",
       "      <td>1.000000</td>\n",
       "      <td>1.000000</td>\n",
       "      <td>140.000000</td>\n",
       "      <td>1.000000</td>\n",
       "      <td>0.500000</td>\n",
       "      <td>1.000000</td>\n",
       "      <td>140.000000</td>\n",
       "      <td>1.000000</td>\n",
       "      <td>1.000000</td>\n",
       "      <td>1.000000</td>\n",
       "      <td>140.000000</td>\n",
       "      <td>1.000000</td>\n",
       "      <td>1.000000</td>\n",
       "    </tr>\n",
       "    <tr>\n",
       "      <th>25%</th>\n",
       "      <td>3.000000</td>\n",
       "      <td>2100.000000</td>\n",
       "      <td>0.000000</td>\n",
       "      <td>3.000000</td>\n",
       "      <td>7.290000</td>\n",
       "      <td>2.275000</td>\n",
       "      <td>2.000000</td>\n",
       "      <td>2100.000000</td>\n",
       "      <td>3.000000</td>\n",
       "      <td>3.500000</td>\n",
       "      <td>1.000000</td>\n",
       "      <td>2100.000000</td>\n",
       "      <td>3.000000</td>\n",
       "      <td>3.507500</td>\n",
       "      <td>1.000000</td>\n",
       "      <td>2100.000000</td>\n",
       "      <td>3.000000</td>\n",
       "      <td>3.430000</td>\n",
       "      <td>2.000000</td>\n",
       "      <td>2100.000000</td>\n",
       "      <td>3.000000</td>\n",
       "      <td>3.460000</td>\n",
       "      <td>2.000000</td>\n",
       "      <td>2100.000000</td>\n",
       "      <td>3.000000</td>\n",
       "      <td>3.450000</td>\n",
       "    </tr>\n",
       "    <tr>\n",
       "      <th>50%</th>\n",
       "      <td>6.000000</td>\n",
       "      <td>2140.000000</td>\n",
       "      <td>0.000000</td>\n",
       "      <td>5.000000</td>\n",
       "      <td>17.160000</td>\n",
       "      <td>3.610000</td>\n",
       "      <td>3.000000</td>\n",
       "      <td>2140.000000</td>\n",
       "      <td>5.000000</td>\n",
       "      <td>7.370000</td>\n",
       "      <td>3.000000</td>\n",
       "      <td>2140.000000</td>\n",
       "      <td>5.000000</td>\n",
       "      <td>7.270000</td>\n",
       "      <td>3.000000</td>\n",
       "      <td>2140.000000</td>\n",
       "      <td>5.000000</td>\n",
       "      <td>7.100000</td>\n",
       "      <td>3.000000</td>\n",
       "      <td>2140.000000</td>\n",
       "      <td>5.000000</td>\n",
       "      <td>7.310000</td>\n",
       "      <td>3.000000</td>\n",
       "      <td>2140.000000</td>\n",
       "      <td>5.000000</td>\n",
       "      <td>7.400000</td>\n",
       "    </tr>\n",
       "    <tr>\n",
       "      <th>75%</th>\n",
       "      <td>13.000000</td>\n",
       "      <td>2160.000000</td>\n",
       "      <td>1.000000</td>\n",
       "      <td>8.000000</td>\n",
       "      <td>41.340000</td>\n",
       "      <td>6.405000</td>\n",
       "      <td>6.000000</td>\n",
       "      <td>2160.000000</td>\n",
       "      <td>8.000000</td>\n",
       "      <td>17.740000</td>\n",
       "      <td>6.000000</td>\n",
       "      <td>2160.000000</td>\n",
       "      <td>8.000000</td>\n",
       "      <td>17.280000</td>\n",
       "      <td>6.000000</td>\n",
       "      <td>2160.000000</td>\n",
       "      <td>8.000000</td>\n",
       "      <td>17.080000</td>\n",
       "      <td>7.000000</td>\n",
       "      <td>2160.000000</td>\n",
       "      <td>8.000000</td>\n",
       "      <td>17.500000</td>\n",
       "      <td>7.000000</td>\n",
       "      <td>2160.000000</td>\n",
       "      <td>8.000000</td>\n",
       "      <td>17.995000</td>\n",
       "    </tr>\n",
       "    <tr>\n",
       "      <th>max</th>\n",
       "      <td>14.000000</td>\n",
       "      <td>3700.000000</td>\n",
       "      <td>1.000000</td>\n",
       "      <td>15.000000</td>\n",
       "      <td>553.490000</td>\n",
       "      <td>50.145000</td>\n",
       "      <td>15.000000</td>\n",
       "      <td>4240.000000</td>\n",
       "      <td>15.000000</td>\n",
       "      <td>325.060000</td>\n",
       "      <td>14.000000</td>\n",
       "      <td>4220.000000</td>\n",
       "      <td>18.000000</td>\n",
       "      <td>340.800000</td>\n",
       "      <td>14.000000</td>\n",
       "      <td>4450.000000</td>\n",
       "      <td>15.000000</td>\n",
       "      <td>322.640000</td>\n",
       "      <td>14.000000</td>\n",
       "      <td>4450.000000</td>\n",
       "      <td>17.000000</td>\n",
       "      <td>365.500000</td>\n",
       "      <td>15.000000</td>\n",
       "      <td>4450.000000</td>\n",
       "      <td>18.000000</td>\n",
       "      <td>689.300000</td>\n",
       "    </tr>\n",
       "  </tbody>\n",
       "</table>\n",
       "</div>"
      ],
      "text/plain": [
       "               plac          dist  ...       h5_spår       h5_odds\n",
       "count  27623.000000  27623.000000  ...  23037.000000  25631.000000\n",
       "mean       7.709083   2184.544655  ...      5.399835     15.785095\n",
       "std        4.860215    396.855748  ...      3.323020     22.729928\n",
       "min        1.000000   1600.000000  ...      1.000000      1.000000\n",
       "25%        3.000000   2100.000000  ...      3.000000      3.450000\n",
       "50%        6.000000   2140.000000  ...      5.000000      7.400000\n",
       "75%       13.000000   2160.000000  ...      8.000000     17.995000\n",
       "max       14.000000   3700.000000  ...     18.000000    689.300000\n",
       "\n",
       "[8 rows x 26 columns]"
      ]
     },
     "execution_count": 23,
     "metadata": {
      "tags": []
     },
     "output_type": "execute_result"
    }
   ],
   "source": [
    "\n",
    "df.h1_odds = df['h1_odds'].str.replace(',','.')\n",
    "df.loc[df.h1_odds == '-', 'h1_odds'] = df.loc[df.h1_odds == '-','h1_odds'].apply(lambda x: np.nan)\n",
    "df.loc[df.h1_odds=='GDK','h1_odds'] = df.loc[df.h1_odds == 'GDK','h1_odds'].apply(lambda x: np.nan)\n",
    "df['h1_odds'] = df.h1_odds.astype('float')\n",
    "\n",
    "df.h2_odds = df['h2_odds'].str.replace(',','.')\n",
    "df.loc[df.h2_odds == '-', 'h2_odds'] = df.loc[df.h2_odds == '-','h2_odds'].apply(lambda x: np.nan)\n",
    "df.loc[df.h2_odds=='GDK','h2_odds'] = df.loc[df.h2_odds == 'GDK','h2_odds'].apply(lambda x: np.nan)\n",
    "df.loc[df.h2_odds=='gdk','h2_odds'] = df.loc[df.h2_odds == 'gdk','h2_odds'].apply(lambda x: np.nan)\n",
    "df['h2_odds'] = df.h2_odds.astype('float')\n",
    "\n",
    "df.h3_odds = df['h3_odds'].str.replace(',','.')\n",
    "df.loc[df.h3_odds == '-', 'h3_odds'] = df.loc[df.h3_odds == '-','h3_odds'].apply(lambda x: np.nan)\n",
    "df.loc[df.h3_odds=='GDK','h3_odds'] = df.loc[df.h3_odds == 'GDK','h3_odds'].apply(lambda x: np.nan)\n",
    "df.loc[df.h3_odds=='gdk','h3_odds'] = df.loc[df.h3_odds == 'gdk','h3_odds'].apply(lambda x: np.nan)\n",
    "df.loc[df.h3_odds=='b-lp','h3_odds'] = df.loc[df.h3_odds == 'b-lp','h3_odds'].apply(lambda x: np.nan)\n",
    "df.loc[df.h3_odds=='ejg','h3_odds'] = df.loc[df.h3_odds == 'ejg','h3_odds'].apply(lambda x: np.nan)\n",
    "df.loc[df.h3_odds=='ut','h3_odds'] = df.loc[df.h3_odds == 'ut','h3_odds'].apply(lambda x: np.nan)\n",
    "df['h3_odds'] = df.h3_odds.astype('float')\n",
    "\n",
    "df.h4_odds = df['h4_odds'].str.replace(',','.')\n",
    "df.loc[df.h4_odds == '-', 'h4_odds'] = df.loc[df.h4_odds == '-','h4_odds'].apply(lambda x: np.nan)\n",
    "df.loc[df.h4_odds=='GDK','h4_odds'] = df.loc[df.h4_odds == 'GDK','h4_odds'].apply(lambda x: np.nan)\n",
    "df.loc[df.h4_odds=='gdk','h4_odds'] = df.loc[df.h4_odds == 'gdk','h4_odds'].apply(lambda x: np.nan)\n",
    "df.loc[df.h4_odds=='b-lp','h4_odds'] = df.loc[df.h4_odds == 'b-lp','h4_odds'].apply(lambda x: np.nan)\n",
    "df.loc[df.h4_odds=='ejg','h4_odds'] = df.loc[df.h4_odds == 'ejg','h4_odds'].apply(lambda x: np.nan)\n",
    "df.loc[df.h4_odds=='ut','h4_odds'] = df.loc[df.h4_odds == 'ut','h4_odds'].apply(lambda x: np.nan)\n",
    "\n",
    "df['h4_odds'] = df.h4_odds.astype('float')\n",
    "\n",
    "\n",
    "df.h5_odds = df['h5_odds'].str.replace(',','.')\n",
    "df.loc[df.h5_odds == '-', 'h5_odds'] = df.loc[df.h5_odds == '-','h5_odds'].apply(lambda x: np.nan)\n",
    "df.loc[df.h5_odds=='GDK','h5_odds'] = df.loc[df.h5_odds == 'GDK','h5_odds'].apply(lambda x: np.nan)\n",
    "df.loc[df.h5_odds=='gdk','h5_odds'] = df.loc[df.h5_odds == 'gdk','h5_odds'].apply(lambda x: np.nan)\n",
    "df.loc[df.h5_odds=='b-lp','h5_odds'] = df.loc[df.h5_odds == 'b-lp','h5_odds'].apply(lambda x: np.nan)\n",
    "df.loc[df.h5_odds=='B-lp','h5_odds'] = df.loc[df.h5_odds == 'B-lp','h5_odds'].apply(lambda x: np.nan)\n",
    "df.loc[df.h5_odds=='ejg','h5_odds'] = df.loc[df.h5_odds == 'ejg','h5_odds'].apply(lambda x: np.nan)\n",
    "df.loc[df.h5_odds=='ut','h5_odds'] = df.loc[df.h5_odds == 'ut','h5_odds'].apply(lambda x: np.nan)\n",
    "df.loc[df.h5_odds=='P','h5_odds'] = df.loc[df.h5_odds == 'P','h5_odds'].apply(lambda x: np.nan)\n",
    "\n",
    "#df.loc[df.h5_odds=='B-lp']\n",
    "df['h5_odds'] = df.h5_odds.astype('float')\n",
    "\n",
    "df.describe()"
   ]
  },
  {
   "cell_type": "code",
   "execution_count": 0,
   "metadata": {
    "colab": {
     "base_uri": "https://localhost:8080/",
     "height": 605
    },
    "colab_type": "code",
    "executionInfo": {
     "elapsed": 491,
     "status": "ok",
     "timestamp": 1586607245559,
     "user": {
      "displayName": "Peter Fendrich",
      "photoUrl": "https://lh3.googleusercontent.com/a-/AOh14GiUImm9TWBaRBjunWQhCazjDHA1xNUiCbLPDl0eCQ=s64",
      "userId": "15871336894771711285"
     },
     "user_tz": -120
    },
    "id": "T1HDlQWmD4Tp",
    "outputId": "e3b29c29-fa21-498b-ecf1-84617bdf5b60"
   },
   "outputs": [
    {
     "name": "stdout",
     "output_type": "stream",
     "text": [
      "<class 'pandas.core.frame.DataFrame'>\n",
      "RangeIndex: 27623 entries, 0 to 27622\n",
      "Data columns (total 28 columns):\n",
      " #   Column   Non-Null Count  Dtype  \n",
      "---  ------   --------------  -----  \n",
      " 0   datum    27623 non-null  object \n",
      " 1   häst     27623 non-null  object \n",
      " 2   plac     27623 non-null  int64  \n",
      " 3   dist     27623 non-null  int64  \n",
      " 4   start    27623 non-null  int64  \n",
      " 5   spår     27562 non-null  float64\n",
      " 6   vodds    27623 non-null  float64\n",
      " 7   podds    27623 non-null  float64\n",
      " 8   h1_plac  25988 non-null  float64\n",
      " 9   h1_dist  25999 non-null  float64\n",
      " 10  h1_spår  24005 non-null  float64\n",
      " 11  h1_odds  25910 non-null  float64\n",
      " 12  h2_plac  25939 non-null  float64\n",
      " 13  h2_dist  25940 non-null  float64\n",
      " 14  h2_spår  23723 non-null  float64\n",
      " 15  h2_odds  25880 non-null  float64\n",
      " 16  h3_plac  25930 non-null  float64\n",
      " 17  h3_dist  25931 non-null  float64\n",
      " 18  h3_spår  23496 non-null  float64\n",
      " 19  h3_odds  25847 non-null  float64\n",
      " 20  h4_plac  25877 non-null  float64\n",
      " 21  h4_dist  25877 non-null  float64\n",
      " 22  h4_spår  23304 non-null  float64\n",
      " 23  h4_odds  25782 non-null  float64\n",
      " 24  h5_plac  25742 non-null  float64\n",
      " 25  h5_dist  25742 non-null  float64\n",
      " 26  h5_spår  23037 non-null  float64\n",
      " 27  h5_odds  25631 non-null  float64\n",
      "dtypes: float64(23), int64(3), object(2)\n",
      "memory usage: 5.9+ MB\n"
     ]
    }
   ],
   "source": [
    "df.info()"
   ]
  },
  {
   "cell_type": "markdown",
   "metadata": {
    "colab_type": "text",
    "id": "HT2dqYrUGhXY"
   },
   "source": [
    "# df är klar men jag behåller null-värdena som fixas av xgboost mfl\n"
   ]
  },
  {
   "cell_type": "code",
   "execution_count": 0,
   "metadata": {
    "colab": {
     "base_uri": "https://localhost:8080/",
     "height": 238
    },
    "colab_type": "code",
    "executionInfo": {
     "elapsed": 592,
     "status": "error",
     "timestamp": 1586729665551,
     "user": {
      "displayName": "Peter Fendrich",
      "photoUrl": "https://lh3.googleusercontent.com/a-/AOh14GiUImm9TWBaRBjunWQhCazjDHA1xNUiCbLPDl0eCQ=s64",
      "userId": "15871336894771711285"
     },
     "user_tz": -120
    },
    "id": "BwNoeKuO0FGe",
    "outputId": "e6501763-e396-4cc8-9765-9ee7748ed7b9"
   },
   "outputs": [
    {
     "ename": "NameError",
     "evalue": "ignored",
     "output_type": "error",
     "traceback": [
      "\u001b[0;31m---------------------------------------------------------------------------\u001b[0m",
      "\u001b[0;31mNameError\u001b[0m                                 Traceback (most recent call last)",
      "\u001b[0;32m<ipython-input-4-42250bdf86b4>\u001b[0m in \u001b[0;36m<module>\u001b[0;34m()\u001b[0m\n\u001b[0;32m----> 1\u001b[0;31m \u001b[0mdf\u001b[0m\u001b[0;34m[\u001b[0m\u001b[0;34m'dist'\u001b[0m\u001b[0;34m]\u001b[0m \u001b[0;34m=\u001b[0m \u001b[0mdf\u001b[0m\u001b[0;34m.\u001b[0m\u001b[0mdist\u001b[0m\u001b[0;34m*\u001b[0m\u001b[0;36m100\u001b[0m\u001b[0;34m\u001b[0m\u001b[0;34m\u001b[0m\u001b[0m\n\u001b[0m\u001b[1;32m      2\u001b[0m \u001b[0mdf\u001b[0m\u001b[0;34m[\u001b[0m\u001b[0;34m'h1_dist'\u001b[0m\u001b[0;34m]\u001b[0m \u001b[0;34m=\u001b[0m \u001b[0mdf\u001b[0m\u001b[0;34m.\u001b[0m\u001b[0mh1_dist\u001b[0m\u001b[0;34m*\u001b[0m\u001b[0;36m100\u001b[0m\u001b[0;34m\u001b[0m\u001b[0;34m\u001b[0m\u001b[0m\n\u001b[1;32m      3\u001b[0m \u001b[0mdf\u001b[0m\u001b[0;34m[\u001b[0m\u001b[0;34m'h2_dist'\u001b[0m\u001b[0;34m]\u001b[0m \u001b[0;34m=\u001b[0m \u001b[0mdf\u001b[0m\u001b[0;34m.\u001b[0m\u001b[0mh4_dist\u001b[0m\u001b[0;34m*\u001b[0m\u001b[0;36m100\u001b[0m\u001b[0;34m\u001b[0m\u001b[0;34m\u001b[0m\u001b[0m\n\u001b[1;32m      4\u001b[0m \u001b[0mdf\u001b[0m\u001b[0;34m[\u001b[0m\u001b[0;34m'h3_dist'\u001b[0m\u001b[0;34m]\u001b[0m \u001b[0;34m=\u001b[0m \u001b[0mdf\u001b[0m\u001b[0;34m.\u001b[0m\u001b[0mh3_dist\u001b[0m\u001b[0;34m*\u001b[0m\u001b[0;36m100\u001b[0m\u001b[0;34m\u001b[0m\u001b[0;34m\u001b[0m\u001b[0m\n\u001b[1;32m      5\u001b[0m \u001b[0mdf\u001b[0m\u001b[0;34m[\u001b[0m\u001b[0;34m'h4_dist'\u001b[0m\u001b[0;34m]\u001b[0m \u001b[0;34m=\u001b[0m \u001b[0mdf\u001b[0m\u001b[0;34m.\u001b[0m\u001b[0mh4_dist\u001b[0m\u001b[0;34m*\u001b[0m\u001b[0;36m100\u001b[0m\u001b[0;34m\u001b[0m\u001b[0;34m\u001b[0m\u001b[0m\n",
      "\u001b[0;31mNameError\u001b[0m: name 'df' is not defined"
     ]
    }
   ],
   "source": [
    "# Skala ner distans till samma 100-tal som allt annat\n",
    "df['dist'] = df.dist/100\n",
    "df['h1_dist'] = df.h1_dist/100\n",
    "df['h2_dist'] = df.h4_dist/100\n",
    "df['h3_dist'] = df.h3_dist/100\n",
    "df['h4_dist'] = df.h4_dist/100\n",
    "df['h5_dist'] = df.h5_dist/100\n",
    "df.describe()"
   ]
  },
  {
   "cell_type": "markdown",
   "metadata": {
    "colab_type": "text",
    "id": "dJrd1rrnWkut"
   },
   "source": [
    "#Create X and y and first keep 20% for validate\n",
    "Ny kolumn vinst som är vodds - 1.0 för 1:an och -1 för andra   \n",
    "Möjligt att man skall mjuka upp 2-3 plats med 0\n",
    "\n"
   ]
  },
  {
   "cell_type": "code",
   "execution_count": 0,
   "metadata": {
    "colab": {
     "base_uri": "https://localhost:8080/",
     "height": 67
    },
    "colab_type": "code",
    "executionInfo": {
     "elapsed": 638,
     "status": "ok",
     "timestamp": 1586638883164,
     "user": {
      "displayName": "Peter Fendrich",
      "photoUrl": "https://lh3.googleusercontent.com/a-/AOh14GiUImm9TWBaRBjunWQhCazjDHA1xNUiCbLPDl0eCQ=s64",
      "userId": "15871336894771711285"
     },
     "user_tz": -120
    },
    "id": "OJdbUoDLabDv",
    "outputId": "9c75776f-2d67-4b18-d647-4e95113bb2fa"
   },
   "outputs": [
    {
     "name": "stdout",
     "output_type": "stream",
     "text": [
      "(27623, 28) 5524\n",
      "(22099, 25) (22099,) (5524, 25) (5524,)\n"
     ]
    },
    {
     "data": {
      "text/plain": [
       "True"
      ]
     },
     "execution_count": 338,
     "metadata": {
      "tags": []
     },
     "output_type": "execute_result"
    }
   ],
   "source": [
    "sz = int(df.shape[0]*0.2)\n",
    "print(df.shape, sz)\n",
    "X_all = df.drop(['datum', 'häst', 'plac'],axis=1)              \n",
    "y_all = ((df.plac==1)  * df.vodds) -1\n",
    "\n",
    "X = X_all.iloc[sz:]  #keep for validate\n",
    "y = y_all[sz:]  #keep for validate\n",
    "ZX = X_all.iloc[:sz,:]\n",
    "Zy = y_all[:sz]\n",
    "print(X.shape, y.shape, ZX.shape, Zy.shape)\n",
    "X.shape[0]+ZX.shape[0] == df.shape[0]\n",
    "\n"
   ]
  },
  {
   "cell_type": "code",
   "execution_count": 0,
   "metadata": {
    "colab": {
     "base_uri": "https://localhost:8080/",
     "height": 218
    },
    "colab_type": "code",
    "executionInfo": {
     "elapsed": 744,
     "status": "ok",
     "timestamp": 1586624916288,
     "user": {
      "displayName": "Peter Fendrich",
      "photoUrl": "https://lh3.googleusercontent.com/a-/AOh14GiUImm9TWBaRBjunWQhCazjDHA1xNUiCbLPDl0eCQ=s64",
      "userId": "15871336894771711285"
     },
     "user_tz": -120
    },
    "id": "0tgPShORmcVV",
    "outputId": "43a04849-3a82-4c34-88c9-97073f75e6d4"
   },
   "outputs": [
    {
     "data": {
      "text/plain": [
       "0       0.94\n",
       "1      -1.00\n",
       "2      -1.00\n",
       "3      -1.00\n",
       "4      -1.00\n",
       "        ... \n",
       "5519   -1.00\n",
       "5520    2.47\n",
       "5521   -1.00\n",
       "5522   -1.00\n",
       "5523   -1.00\n",
       "Length: 5524, dtype: float64"
      ]
     },
     "execution_count": 107,
     "metadata": {
      "tags": []
     },
     "output_type": "execute_result"
    }
   ],
   "source": [
    "Zy"
   ]
  },
  {
   "cell_type": "code",
   "execution_count": 0,
   "metadata": {
    "colab": {},
    "colab_type": "code",
    "id": "DaxIBWuMnAPo"
   },
   "outputs": [],
   "source": [
    "#from google.colab import files\n",
    "\n",
    "#with open('travdata.csv', 'w') as f:\n",
    "#  f.write(df.to_csv())\n",
    "\n",
    "#files.download('travdata.csv')"
   ]
  },
  {
   "cell_type": "markdown",
   "metadata": {
    "colab_type": "text",
    "id": "og4BlnS0VfgX"
   },
   "source": [
    "# Först hyperparametrar"
   ]
  },
  {
   "cell_type": "markdown",
   "metadata": {
    "colab_type": "text",
    "id": "qB-4Ga5hXXAZ"
   },
   "source": [
    "##Lite test innan"
   ]
  },
  {
   "cell_type": "code",
   "execution_count": 0,
   "metadata": {
    "colab": {},
    "colab_type": "code",
    "id": "xmiq9K3XXcCl"
   },
   "outputs": [],
   "source": [
    "from xgboost import XGBRegressor as xgb\n",
    "from sklearn.metrics import mean_absolute_error as MAE\n",
    "xgb_reg = xgb(objective ='reg:squarederror', colsample_bytree = 0.3, learning_rate = 0.1,\n",
    "                max_depth = 5, alpha = 10, n_estimators = 10)\n",
    "#Fit the regressor to the training set and make predictions on the test set using the familiar .fit() and .predict() methods.\n",
    "\n",
    "xgb_reg.fit(X,y)\n",
    "\n",
    "ZyHat = xgb_reg.predict(ZX)\n"
   ]
  },
  {
   "cell_type": "code",
   "execution_count": 0,
   "metadata": {
    "colab": {
     "base_uri": "https://localhost:8080/",
     "height": 218
    },
    "colab_type": "code",
    "executionInfo": {
     "elapsed": 505,
     "status": "ok",
     "timestamp": 1586628200666,
     "user": {
      "displayName": "Peter Fendrich",
      "photoUrl": "https://lh3.googleusercontent.com/a-/AOh14GiUImm9TWBaRBjunWQhCazjDHA1xNUiCbLPDl0eCQ=s64",
      "userId": "15871336894771711285"
     },
     "user_tz": -120
    },
    "id": "BrfVm9julrd_",
    "outputId": "a3de8e50-b767-4102-a2d4-22cf3fe73356"
   },
   "outputs": [
    {
     "name": "stdout",
     "output_type": "stream",
     "text": [
      "1.5461703567605016\n",
      "                 0\n",
      "count  5524.000000\n",
      "mean     -0.017575\n",
      "std       0.239927\n",
      "min      -0.496193\n",
      "25%      -0.049473\n",
      "50%       0.006631\n",
      "75%       0.053310\n",
      "max       6.359506\n",
      "Antal satsade: 1507\n",
      "Vinst: 40.38999999999998\n"
     ]
    }
   ],
   "source": [
    "print(metrics.mean_absolute_error(Zy,ZyHat))\n",
    "print(pd.DataFrame(ZyHat).describe())\n",
    "\n",
    "limit = 0.05\n",
    "print('Antal satsade:', Zy[ZyHat>=limit].shape[0])\n",
    "print('Vinst:', Zy[ZyHat>=limit].sum())"
   ]
  },
  {
   "cell_type": "markdown",
   "metadata": {
    "colab_type": "text",
    "id": "pi8XHM_ZU3Oy"
   },
   "source": [
    "## Vad blir vinsten (i första testet)"
   ]
  },
  {
   "cell_type": "code",
   "execution_count": 0,
   "metadata": {
    "colab": {
     "base_uri": "https://localhost:8080/",
     "height": 282
    },
    "colab_type": "code",
    "executionInfo": {
     "elapsed": 606,
     "status": "ok",
     "timestamp": 1586628204932,
     "user": {
      "displayName": "Peter Fendrich",
      "photoUrl": "https://lh3.googleusercontent.com/a-/AOh14GiUImm9TWBaRBjunWQhCazjDHA1xNUiCbLPDl0eCQ=s64",
      "userId": "15871336894771711285"
     },
     "user_tz": -120
    },
    "id": "HHEFzNtHUeXk",
    "outputId": "8e406789-2993-4d8d-9a23-139406b22afc"
   },
   "outputs": [
    {
     "data": {
      "text/plain": [
       "[<matplotlib.lines.Line2D at 0x7fedaca9a470>]"
      ]
     },
     "execution_count": 198,
     "metadata": {
      "tags": []
     },
     "output_type": "execute_result"
    },
    {
     "data": {
      "image/png": "[encoded data removed]",
      "text/plain": [
       "<Figure size 432x288 with 1 Axes>"
      ]
     },
     "metadata": {
      "needs_background": "light",
      "tags": []
     },
     "output_type": "display_data"
    }
   ],
   "source": [
    "vinst=[]\n",
    "for lim in range(0,20,1):\n",
    "  vinst.append(Zy[ZyHat>=lim/100].sum())\n",
    "\n",
    "plt.plot(range(0,20,1),vinst)"
   ]
  },
  {
   "cell_type": "markdown",
   "metadata": {
    "colab_type": "text",
    "id": "cc8AtxqRoJTg"
   },
   "source": [
    "##GridSearch"
   ]
  },
  {
   "cell_type": "code",
   "execution_count": 0,
   "metadata": {
    "colab": {},
    "colab_type": "code",
    "id": "ThkeF8v9SmMl"
   },
   "outputs": [],
   "source": [
    "from sklearn.model_selection import GridSearchCV\n",
    "from sklearn.model_selection import RandomizedSearchCV\n",
    "from sklearn.model_selection import cross_val_score\n",
    "from sklearn import metrics\n",
    "from sklearn.metrics import mean_absolute_error as MAE\n",
    "\n",
    "estimator = XGBRegressor(\n",
    "    objective= 'reg:squarederror',\n",
    "    nthread=4,\n",
    "    seed=42\n",
    ")\n",
    "#In the next step, I have to specify the tunable parameters\n",
    "# and the range of values.\n",
    "\n",
    "parameters = {\n",
    "   'colsample_bytree': [0, 0.3, 0.5], \n",
    "   'learning_rate': [0.05, 0.1], \n",
    "   'max_depth': [2, 3,4], \n",
    "   'n_estimators' : [100, 120,140],\n",
    "   'alpha': [0,1,5]\n",
    "   }\n",
    "\n",
    "#cv_results = XGBRegressor.  (params=params, nfold=3,\n",
    "#                    num_boost_round=50,early_stopping_rounds=10,metrics=\"rmse\", as_pandas=True, seed=123)"
   ]
  },
  {
   "cell_type": "code",
   "execution_count": 0,
   "metadata": {
    "colab": {},
    "colab_type": "code",
    "id": "itVLNelFfD0r"
   },
   "outputs": [],
   "source": [
    "sorted(metrics.SCORERS.keys())"
   ]
  },
  {
   "cell_type": "code",
   "execution_count": 0,
   "metadata": {
    "colab": {},
    "colab_type": "code",
    "id": "nG-R9v03VEec"
   },
   "outputs": [],
   "source": [
    "grid_search = GridSearchCV(\n",
    "    estimator=estimator,\n",
    "    param_grid=parameters,\n",
    "    scoring = 'neg_mean_absolute_error' ,\n",
    "    n_jobs = 10,\n",
    "    verbose=True\n",
    ")\n",
    "\n",
    "rand_search = RandomizedSearchCV(\n",
    "    estimator=estimator,\n",
    "    param_distributions=parameters,\n",
    "    scoring = 'neg_mean_absolute_error',\n",
    "    n_jobs = 10,\n",
    "    cv = 5,\n",
    "    verbose=True\n",
    ")\n"
   ]
  },
  {
   "cell_type": "markdown",
   "metadata": {
    "colab_type": "text",
    "id": "zRfTJJLuTxpI"
   },
   "source": [
    "   \n",
    "# Dags för learning\n",
    "Först hyperparametrar  \n",
    "Sedan fit på X och predict på Z"
   ]
  },
  {
   "cell_type": "code",
   "execution_count": 0,
   "metadata": {
    "colab": {
     "base_uri": "https://localhost:8080/",
     "height": 470
    },
    "colab_type": "code",
    "executionInfo": {
     "elapsed": 52196,
     "status": "ok",
     "timestamp": 1586633255659,
     "user": {
      "displayName": "Peter Fendrich",
      "photoUrl": "https://lh3.googleusercontent.com/a-/AOh14GiUImm9TWBaRBjunWQhCazjDHA1xNUiCbLPDl0eCQ=s64",
      "userId": "15871336894771711285"
     },
     "user_tz": -120
    },
    "id": "4DuhJ-PQgUMz",
    "outputId": "3d80d516-7e1d-4655-f87a-81b0b6c29274"
   },
   "outputs": [
    {
     "name": "stdout",
     "output_type": "stream",
     "text": [
      "Fitting 5 folds for each of 10 candidates, totalling 50 fits\n"
     ]
    },
    {
     "name": "stderr",
     "output_type": "stream",
     "text": [
      "[Parallel(n_jobs=10)]: Using backend LokyBackend with 10 concurrent workers.\n",
      "[Parallel(n_jobs=10)]: Done  30 tasks      | elapsed:   35.0s\n",
      "[Parallel(n_jobs=10)]: Done  50 out of  50 | elapsed:   50.9s finished\n"
     ]
    },
    {
     "data": {
      "text/plain": [
       "RandomizedSearchCV(cv=5, error_score=nan,\n",
       "                   estimator=XGBRegressor(base_score=0.5, booster='gbtree',\n",
       "                                          colsample_bylevel=1,\n",
       "                                          colsample_bynode=1,\n",
       "                                          colsample_bytree=1, gamma=0,\n",
       "                                          importance_type='gain',\n",
       "                                          learning_rate=0.1, max_delta_step=0,\n",
       "                                          max_depth=3, min_child_weight=1,\n",
       "                                          missing=None, n_estimators=100,\n",
       "                                          n_jobs=1, nthread=4,\n",
       "                                          objective='reg:squarederror',\n",
       "                                          random_state=0, reg_alp...\n",
       "                                          seed=42, silent=None, subsample=1,\n",
       "                                          verbosity=1),\n",
       "                   iid='deprecated', n_iter=10, n_jobs=10,\n",
       "                   param_distributions={'alpha': [0, 1, 5],\n",
       "                                        'colsample_bytree': [0, 0.3, 0.5],\n",
       "                                        'learning_rate': [0.05, 0.1],\n",
       "                                        'max_depth': [2, 3, 4],\n",
       "                                        'n_estimators': [100, 120, 140]},\n",
       "                   pre_dispatch='2*n_jobs', random_state=None, refit=True,\n",
       "                   return_train_score=False, scoring='neg_mean_absolute_error',\n",
       "                   verbose=True)"
      ]
     },
     "execution_count": 247,
     "metadata": {
      "tags": []
     },
     "output_type": "execute_result"
    }
   ],
   "source": [
    "#grid_search.fit(X, y)\n",
    "rand_search.fit(X,y)"
   ]
  },
  {
   "cell_type": "code",
   "execution_count": 0,
   "metadata": {
    "colab": {
     "base_uri": "https://localhost:8080/",
     "height": 235
    },
    "colab_type": "code",
    "executionInfo": {
     "elapsed": 523,
     "status": "ok",
     "timestamp": 1586633289043,
     "user": {
      "displayName": "Peter Fendrich",
      "photoUrl": "https://lh3.googleusercontent.com/a-/AOh14GiUImm9TWBaRBjunWQhCazjDHA1xNUiCbLPDl0eCQ=s64",
      "userId": "15871336894771711285"
     },
     "user_tz": -120
    },
    "id": "wqcSovbhwLXH",
    "outputId": "138d979c-0131-4665-ea98-a12992e1d0bf"
   },
   "outputs": [
    {
     "name": "stdout",
     "output_type": "stream",
     "text": [
      "XGBRegressor(alpha=1, base_score=0.5, booster='gbtree', colsample_bylevel=1,\n",
      "             colsample_bynode=1, colsample_bytree=0, gamma=0,\n",
      "             importance_type='gain', learning_rate=0.1, max_delta_step=0,\n",
      "             max_depth=3, min_child_weight=1, missing=None, n_estimators=100,\n",
      "             n_jobs=1, nthread=4, objective='reg:squarederror', random_state=0,\n",
      "             reg_alpha=0, reg_lambda=1, scale_pos_weight=1, seed=42,\n",
      "             silent=None, subsample=1, verbosity=1)\n",
      "-1.2811036897046697\n"
     ]
    },
    {
     "data": {
      "text/plain": [
       "{'alpha': 1,\n",
       " 'colsample_bytree': 0,\n",
       " 'learning_rate': 0.1,\n",
       " 'max_depth': 3,\n",
       " 'n_estimators': 100}"
      ]
     },
     "execution_count": 248,
     "metadata": {
      "tags": []
     },
     "output_type": "execute_result"
    }
   ],
   "source": [
    "#print(grid_search.best_estimator_)\n",
    "#print(grid_search.best_score_)\n",
    "#grid_search.best_params_\n",
    "print(rand_search.best_estimator_)\n",
    "print(rand_search.best_score_)\n",
    "rand_search.best_params_"
   ]
  },
  {
   "cell_type": "code",
   "execution_count": 0,
   "metadata": {
    "colab": {},
    "colab_type": "code",
    "id": "2uQ7NDwpwwuo"
   },
   "outputs": [],
   "source": [
    "clf = XGBRegressor(alpha=1, base_score=0.5, booster='gbtree', colsample_bylevel=1,\n",
    "             colsample_bynode=1, colsample_bytree=0, gamma=0,\n",
    "             importance_type='gain', learning_rate=0.1, max_delta_step=0,\n",
    "             max_depth=3, min_child_weight=1, missing=None, n_estimators=100,\n",
    "             n_jobs=1, nthread=4, objective='reg:squarederror', random_state=0,\n",
    "             reg_alpha=0, reg_lambda=1, scale_pos_weight=1, seed=42,\n",
    "             silent=None, subsample=1, verbosity=1)\n",
    "search=clf.fit(X,y)\n"
   ]
  },
  {
   "cell_type": "code",
   "execution_count": 0,
   "metadata": {
    "colab": {
     "base_uri": "https://localhost:8080/",
     "height": 118
    },
    "colab_type": "code",
    "executionInfo": {
     "elapsed": 722,
     "status": "ok",
     "timestamp": 1586641049304,
     "user": {
      "displayName": "Peter Fendrich",
      "photoUrl": "https://lh3.googleusercontent.com/a-/AOh14GiUImm9TWBaRBjunWQhCazjDHA1xNUiCbLPDl0eCQ=s64",
      "userId": "15871336894771711285"
     },
     "user_tz": -120
    },
    "id": "ilRp2tafywTe",
    "outputId": "771234b5-5073-43b1-ea93-8e3a759630e8"
   },
   "outputs": [
    {
     "name": "stdout",
     "output_type": "stream",
     "text": [
      "[0.00818211 0.01119246 0.00543536 0.39583188 0.13382156 0.03004097\n",
      " 0.01411116 0.00733032 0.05488412 0.0071186  0.00697076 0.00715453\n",
      " 0.0430838  0.00989598 0.         0.00752778 0.11304158 0.00692824\n",
      " 0.00230974 0.00791156 0.04814963 0.00710853 0.01480049 0.00687476\n",
      " 0.05029411]\n",
      "(5524,) (5524,)\n"
     ]
    }
   ],
   "source": [
    "ZX.head()\n",
    "Zy.head()\n",
    "ZyHat = search.predict(ZX)\n",
    "print(search.feature_importances_)\n",
    "ZX.columns\n",
    "print(ZyHat.shape, Zy.shape)"
   ]
  },
  {
   "cell_type": "markdown",
   "metadata": {
    "colab_type": "text",
    "id": "SegpyWAGWYCp"
   },
   "source": [
    "## Metrics"
   ]
  },
  {
   "cell_type": "code",
   "execution_count": 0,
   "metadata": {
    "colab": {
     "base_uri": "https://localhost:8080/",
     "height": 185
    },
    "colab_type": "code",
    "executionInfo": {
     "elapsed": 560,
     "status": "ok",
     "timestamp": 1586638900155,
     "user": {
      "displayName": "Peter Fendrich",
      "photoUrl": "https://lh3.googleusercontent.com/a-/AOh14GiUImm9TWBaRBjunWQhCazjDHA1xNUiCbLPDl0eCQ=s64",
      "userId": "15871336894771711285"
     },
     "user_tz": -120
    },
    "id": "0iXwwIDNvd6g",
    "outputId": "aaf60f25-b1a6-48be-f043-6b4e7d761f1e"
   },
   "outputs": [
    {
     "name": "stdout",
     "output_type": "stream",
     "text": [
      "1.3011336275641683\n",
      "                 0\n",
      "count  5524.000000\n",
      "mean     -0.299099\n",
      "std       0.319723\n",
      "min      -1.286803\n",
      "25%      -0.420977\n",
      "50%      -0.277865\n",
      "75%      -0.151626\n",
      "max      11.230953\n"
     ]
    }
   ],
   "source": [
    "print(metrics.mean_absolute_error(Zy,ZyHat))\n",
    "print(pd.DataFrame(ZyHat).describe())\n"
   ]
  },
  {
   "cell_type": "code",
   "execution_count": 0,
   "metadata": {
    "colab": {
     "base_uri": "https://localhost:8080/",
     "height": 566
    },
    "colab_type": "code",
    "executionInfo": {
     "elapsed": 1112,
     "status": "ok",
     "timestamp": 1586639990888,
     "user": {
      "displayName": "Peter Fendrich",
      "photoUrl": "https://lh3.googleusercontent.com/a-/AOh14GiUImm9TWBaRBjunWQhCazjDHA1xNUiCbLPDl0eCQ=s64",
      "userId": "15871336894771711285"
     },
     "user_tz": -120
    },
    "id": "-Awhcnwv0PCB",
    "outputId": "bbd080f2-ed15-4c42-9da9-83bc287a60e9"
   },
   "outputs": [
    {
     "name": "stdout",
     "output_type": "stream",
     "text": [
      "[-34.30000000000001, 5.539999999999981, 29.070000000000046, -139.12999999999997, -69.45999999999998, -56.019999999999975, 21.460000000000004, 12.580000000000034, 66.43000000000002, 104.91000000000001, 110.07000000000002, 113.61000000000003, 133.69, 145.11, 211.15000000000003, 224.94000000000005, 201.66, 96.89000000000003, 54.26, 45.769999999999996, 66.90999999999997, 75.07999999999998, -30.57, 17.66000000000001, -8.050000000000011, 4.259999999999995, -4.769999999999989, 8.920000000000007, 27.81999999999999, 24.83, 39.06, -6.529999999999999, 21.280000000000015, 29.18, 26.70000000000001, 34.35999999999999, 30.409999999999993, 8.660000000000004, 4.370000000000006, 0.360000000000003, 11.44, 9.610000000000003, 17.990000000000002, 26.560000000000002, 30.22, 30.520000000000003, 41.93000000000001, 47.930000000000014, 51.669999999999995, 52.480000000000004, 57.46000000000001, 59.46, 60.080000000000005, 63.08000000000001, 40.800000000000004, 35.14, 37.15, 38.15, 41.15, 44.150000000000006, 45.15, 39.56, 41.56, 41.56, 42.56, 43.56, 27.4, 17.919999999999995, 18.919999999999995, 18.919999999999995]\n"
     ]
    },
    {
     "data": {
      "image/png": "[encoded data removed]",
      "text/plain": [
       "<Figure size 432x288 with 1 Axes>"
      ]
     },
     "metadata": {
      "needs_background": "light",
      "tags": []
     },
     "output_type": "display_data"
    },
    {
     "data": {
      "text/plain": [
       "[<matplotlib.lines.Line2D at 0x7fedaa4a0e48>]"
      ]
     },
     "execution_count": 355,
     "metadata": {
      "tags": []
     },
     "output_type": "execute_result"
    },
    {
     "data": {
      "image/png": "[encoded data removed]",
      "text/plain": [
       "<Figure size 432x288 with 1 Axes>"
      ]
     },
     "metadata": {
      "needs_background": "light",
      "tags": []
     },
     "output_type": "display_data"
    }
   ],
   "source": [
    "\n",
    "vinst=[]\n",
    "cnt = []\n",
    "vMax=-1000\n",
    "limMax=-100\n",
    "rng=range(-30, 40,1)\n",
    "for lim in rng:\n",
    "  v=Zy[ZyHat>=lim/100].sum()\n",
    "  if v > vMax:\n",
    "    vMax=v\n",
    "    limMax=lim\n",
    "\n",
    "  vinst.append(v)\n",
    "  cnt.append(Zy[ZyHat>=lim/100].count())\n",
    "print(vinst) \n",
    "plt.plot(rng,vinst)\n",
    "plt.show()\n",
    "plt.plot(rng,vinst)\n",
    "plt.plot(rng,cnt)"
   ]
  },
  {
   "cell_type": "code",
   "execution_count": 0,
   "metadata": {
    "colab": {
     "base_uri": "https://localhost:8080/",
     "height": 1000
    },
    "colab_type": "code",
    "executionInfo": {
     "elapsed": 723,
     "status": "ok",
     "timestamp": 1586644007288,
     "user": {
      "displayName": "Peter Fendrich",
      "photoUrl": "https://lh3.googleusercontent.com/a-/AOh14GiUImm9TWBaRBjunWQhCazjDHA1xNUiCbLPDl0eCQ=s64",
      "userId": "15871336894771711285"
     },
     "user_tz": -120
    },
    "id": "Zuq21veznWbP",
    "outputId": "4f2d8761-52b5-4ed6-aefa-5a47090d20cd"
   },
   "outputs": [
    {
     "name": "stdout",
     "output_type": "stream",
     "text": [
      "18.919999999999995 -0.15\n",
      "Antal veckor (ca): 70.36942675159236\n",
      "Antal Lopp: 5524\n",
      "Antal satsade: 1366 Antal fel = 1136 Antal rätt: 230\n",
      "Vinst: 224.94000000000005\n",
      "R\n",
      "    satsade     y      yhat\n",
      "0     0.94  0.94  0.063593\n",
      "2    -1.00 -1.00  0.096758\n",
      "4    -1.00 -1.00  0.019167\n",
      "6    -1.00 -1.00 -0.105349\n",
      "7    -1.00 -1.00 -0.081409\n"
     ]
    },
    {
     "data": {
      "text/html": [
       "<div>\n",
       "<style scoped>\n",
       "    .dataframe tbody tr th:only-of-type {\n",
       "        vertical-align: middle;\n",
       "    }\n",
       "\n",
       "    .dataframe tbody tr th {\n",
       "        vertical-align: top;\n",
       "    }\n",
       "\n",
       "    .dataframe thead th {\n",
       "        text-align: right;\n",
       "    }\n",
       "</style>\n",
       "<table border=\"1\" class=\"dataframe\">\n",
       "  <thead>\n",
       "    <tr style=\"text-align: right;\">\n",
       "      <th></th>\n",
       "      <th>satsade</th>\n",
       "      <th>y</th>\n",
       "      <th>yhat</th>\n",
       "    </tr>\n",
       "  </thead>\n",
       "  <tbody>\n",
       "    <tr>\n",
       "      <th>0</th>\n",
       "      <td>0.94</td>\n",
       "      <td>0.94</td>\n",
       "      <td>0.063593</td>\n",
       "    </tr>\n",
       "    <tr>\n",
       "      <th>2</th>\n",
       "      <td>0.00</td>\n",
       "      <td>-1.00</td>\n",
       "      <td>0.096758</td>\n",
       "    </tr>\n",
       "    <tr>\n",
       "      <th>4</th>\n",
       "      <td>0.00</td>\n",
       "      <td>-1.00</td>\n",
       "      <td>0.019167</td>\n",
       "    </tr>\n",
       "    <tr>\n",
       "      <th>6</th>\n",
       "      <td>0.00</td>\n",
       "      <td>-1.00</td>\n",
       "      <td>-0.105349</td>\n",
       "    </tr>\n",
       "    <tr>\n",
       "      <th>7</th>\n",
       "      <td>0.00</td>\n",
       "      <td>-1.00</td>\n",
       "      <td>-0.081409</td>\n",
       "    </tr>\n",
       "    <tr>\n",
       "      <th>13</th>\n",
       "      <td>0.00</td>\n",
       "      <td>-1.00</td>\n",
       "      <td>-0.028290</td>\n",
       "    </tr>\n",
       "    <tr>\n",
       "      <th>14</th>\n",
       "      <td>0.00</td>\n",
       "      <td>-1.00</td>\n",
       "      <td>0.072517</td>\n",
       "    </tr>\n",
       "    <tr>\n",
       "      <th>25</th>\n",
       "      <td>0.00</td>\n",
       "      <td>-1.00</td>\n",
       "      <td>-0.028429</td>\n",
       "    </tr>\n",
       "    <tr>\n",
       "      <th>26</th>\n",
       "      <td>0.00</td>\n",
       "      <td>-1.00</td>\n",
       "      <td>-0.000512</td>\n",
       "    </tr>\n",
       "    <tr>\n",
       "      <th>28</th>\n",
       "      <td>0.00</td>\n",
       "      <td>-1.00</td>\n",
       "      <td>-0.129064</td>\n",
       "    </tr>\n",
       "    <tr>\n",
       "      <th>29</th>\n",
       "      <td>0.00</td>\n",
       "      <td>-1.00</td>\n",
       "      <td>-0.097590</td>\n",
       "    </tr>\n",
       "    <tr>\n",
       "      <th>30</th>\n",
       "      <td>0.00</td>\n",
       "      <td>-1.00</td>\n",
       "      <td>-0.089030</td>\n",
       "    </tr>\n",
       "    <tr>\n",
       "      <th>35</th>\n",
       "      <td>0.00</td>\n",
       "      <td>-1.00</td>\n",
       "      <td>-0.128756</td>\n",
       "    </tr>\n",
       "    <tr>\n",
       "      <th>36</th>\n",
       "      <td>0.00</td>\n",
       "      <td>-1.00</td>\n",
       "      <td>0.198361</td>\n",
       "    </tr>\n",
       "    <tr>\n",
       "      <th>37</th>\n",
       "      <td>0.00</td>\n",
       "      <td>-1.00</td>\n",
       "      <td>0.175763</td>\n",
       "    </tr>\n",
       "    <tr>\n",
       "      <th>40</th>\n",
       "      <td>0.00</td>\n",
       "      <td>-1.00</td>\n",
       "      <td>-0.074793</td>\n",
       "    </tr>\n",
       "    <tr>\n",
       "      <th>41</th>\n",
       "      <td>0.00</td>\n",
       "      <td>-1.00</td>\n",
       "      <td>-0.019558</td>\n",
       "    </tr>\n",
       "    <tr>\n",
       "      <th>46</th>\n",
       "      <td>1.11</td>\n",
       "      <td>1.11</td>\n",
       "      <td>-0.086646</td>\n",
       "    </tr>\n",
       "    <tr>\n",
       "      <th>48</th>\n",
       "      <td>0.00</td>\n",
       "      <td>-1.00</td>\n",
       "      <td>-0.075060</td>\n",
       "    </tr>\n",
       "    <tr>\n",
       "      <th>49</th>\n",
       "      <td>0.00</td>\n",
       "      <td>-1.00</td>\n",
       "      <td>0.015665</td>\n",
       "    </tr>\n",
       "    <tr>\n",
       "      <th>51</th>\n",
       "      <td>0.00</td>\n",
       "      <td>-1.00</td>\n",
       "      <td>-0.144757</td>\n",
       "    </tr>\n",
       "    <tr>\n",
       "      <th>57</th>\n",
       "      <td>3.33</td>\n",
       "      <td>3.33</td>\n",
       "      <td>0.053590</td>\n",
       "    </tr>\n",
       "    <tr>\n",
       "      <th>62</th>\n",
       "      <td>0.00</td>\n",
       "      <td>-1.00</td>\n",
       "      <td>-0.001191</td>\n",
       "    </tr>\n",
       "    <tr>\n",
       "      <th>66</th>\n",
       "      <td>0.00</td>\n",
       "      <td>-1.00</td>\n",
       "      <td>-0.007532</td>\n",
       "    </tr>\n",
       "    <tr>\n",
       "      <th>70</th>\n",
       "      <td>1.10</td>\n",
       "      <td>1.10</td>\n",
       "      <td>-0.076791</td>\n",
       "    </tr>\n",
       "    <tr>\n",
       "      <th>72</th>\n",
       "      <td>0.00</td>\n",
       "      <td>-1.00</td>\n",
       "      <td>-0.019848</td>\n",
       "    </tr>\n",
       "    <tr>\n",
       "      <th>77</th>\n",
       "      <td>2.66</td>\n",
       "      <td>2.66</td>\n",
       "      <td>0.020720</td>\n",
       "    </tr>\n",
       "    <tr>\n",
       "      <th>90</th>\n",
       "      <td>0.00</td>\n",
       "      <td>-1.00</td>\n",
       "      <td>-0.113344</td>\n",
       "    </tr>\n",
       "    <tr>\n",
       "      <th>91</th>\n",
       "      <td>0.00</td>\n",
       "      <td>-1.00</td>\n",
       "      <td>-0.102847</td>\n",
       "    </tr>\n",
       "    <tr>\n",
       "      <th>92</th>\n",
       "      <td>0.00</td>\n",
       "      <td>-1.00</td>\n",
       "      <td>-0.030023</td>\n",
       "    </tr>\n",
       "    <tr>\n",
       "      <th>94</th>\n",
       "      <td>0.00</td>\n",
       "      <td>-1.00</td>\n",
       "      <td>-0.023588</td>\n",
       "    </tr>\n",
       "    <tr>\n",
       "      <th>96</th>\n",
       "      <td>0.00</td>\n",
       "      <td>-1.00</td>\n",
       "      <td>0.046327</td>\n",
       "    </tr>\n",
       "    <tr>\n",
       "      <th>98</th>\n",
       "      <td>0.00</td>\n",
       "      <td>-1.00</td>\n",
       "      <td>0.104465</td>\n",
       "    </tr>\n",
       "    <tr>\n",
       "      <th>102</th>\n",
       "      <td>0.00</td>\n",
       "      <td>-1.00</td>\n",
       "      <td>-0.003504</td>\n",
       "    </tr>\n",
       "    <tr>\n",
       "      <th>103</th>\n",
       "      <td>0.00</td>\n",
       "      <td>-1.00</td>\n",
       "      <td>-0.024965</td>\n",
       "    </tr>\n",
       "    <tr>\n",
       "      <th>104</th>\n",
       "      <td>0.00</td>\n",
       "      <td>-1.00</td>\n",
       "      <td>0.013799</td>\n",
       "    </tr>\n",
       "    <tr>\n",
       "      <th>108</th>\n",
       "      <td>0.00</td>\n",
       "      <td>-1.00</td>\n",
       "      <td>-0.146894</td>\n",
       "    </tr>\n",
       "    <tr>\n",
       "      <th>115</th>\n",
       "      <td>0.00</td>\n",
       "      <td>-1.00</td>\n",
       "      <td>-0.110922</td>\n",
       "    </tr>\n",
       "    <tr>\n",
       "      <th>116</th>\n",
       "      <td>0.00</td>\n",
       "      <td>-1.00</td>\n",
       "      <td>-0.087266</td>\n",
       "    </tr>\n",
       "    <tr>\n",
       "      <th>119</th>\n",
       "      <td>0.00</td>\n",
       "      <td>-1.00</td>\n",
       "      <td>-0.086700</td>\n",
       "    </tr>\n",
       "    <tr>\n",
       "      <th>123</th>\n",
       "      <td>1.23</td>\n",
       "      <td>1.23</td>\n",
       "      <td>-0.137160</td>\n",
       "    </tr>\n",
       "    <tr>\n",
       "      <th>125</th>\n",
       "      <td>0.00</td>\n",
       "      <td>-1.00</td>\n",
       "      <td>-0.049404</td>\n",
       "    </tr>\n",
       "    <tr>\n",
       "      <th>128</th>\n",
       "      <td>0.00</td>\n",
       "      <td>-1.00</td>\n",
       "      <td>0.094909</td>\n",
       "    </tr>\n",
       "    <tr>\n",
       "      <th>135</th>\n",
       "      <td>55.95</td>\n",
       "      <td>55.95</td>\n",
       "      <td>-0.139084</td>\n",
       "    </tr>\n",
       "    <tr>\n",
       "      <th>136</th>\n",
       "      <td>0.00</td>\n",
       "      <td>-1.00</td>\n",
       "      <td>0.396376</td>\n",
       "    </tr>\n",
       "    <tr>\n",
       "      <th>137</th>\n",
       "      <td>0.00</td>\n",
       "      <td>-1.00</td>\n",
       "      <td>-0.056333</td>\n",
       "    </tr>\n",
       "    <tr>\n",
       "      <th>141</th>\n",
       "      <td>0.00</td>\n",
       "      <td>-1.00</td>\n",
       "      <td>-0.134173</td>\n",
       "    </tr>\n",
       "    <tr>\n",
       "      <th>142</th>\n",
       "      <td>0.00</td>\n",
       "      <td>-1.00</td>\n",
       "      <td>-0.076243</td>\n",
       "    </tr>\n",
       "    <tr>\n",
       "      <th>158</th>\n",
       "      <td>0.00</td>\n",
       "      <td>-1.00</td>\n",
       "      <td>0.546388</td>\n",
       "    </tr>\n",
       "    <tr>\n",
       "      <th>163</th>\n",
       "      <td>0.00</td>\n",
       "      <td>-1.00</td>\n",
       "      <td>-0.009062</td>\n",
       "    </tr>\n",
       "  </tbody>\n",
       "</table>\n",
       "</div>"
      ],
      "text/plain": [
       "     satsade      y      yhat\n",
       "0       0.94   0.94  0.063593\n",
       "2       0.00  -1.00  0.096758\n",
       "4       0.00  -1.00  0.019167\n",
       "6       0.00  -1.00 -0.105349\n",
       "7       0.00  -1.00 -0.081409\n",
       "13      0.00  -1.00 -0.028290\n",
       "14      0.00  -1.00  0.072517\n",
       "25      0.00  -1.00 -0.028429\n",
       "26      0.00  -1.00 -0.000512\n",
       "28      0.00  -1.00 -0.129064\n",
       "29      0.00  -1.00 -0.097590\n",
       "30      0.00  -1.00 -0.089030\n",
       "35      0.00  -1.00 -0.128756\n",
       "36      0.00  -1.00  0.198361\n",
       "37      0.00  -1.00  0.175763\n",
       "40      0.00  -1.00 -0.074793\n",
       "41      0.00  -1.00 -0.019558\n",
       "46      1.11   1.11 -0.086646\n",
       "48      0.00  -1.00 -0.075060\n",
       "49      0.00  -1.00  0.015665\n",
       "51      0.00  -1.00 -0.144757\n",
       "57      3.33   3.33  0.053590\n",
       "62      0.00  -1.00 -0.001191\n",
       "66      0.00  -1.00 -0.007532\n",
       "70      1.10   1.10 -0.076791\n",
       "72      0.00  -1.00 -0.019848\n",
       "77      2.66   2.66  0.020720\n",
       "90      0.00  -1.00 -0.113344\n",
       "91      0.00  -1.00 -0.102847\n",
       "92      0.00  -1.00 -0.030023\n",
       "94      0.00  -1.00 -0.023588\n",
       "96      0.00  -1.00  0.046327\n",
       "98      0.00  -1.00  0.104465\n",
       "102     0.00  -1.00 -0.003504\n",
       "103     0.00  -1.00 -0.024965\n",
       "104     0.00  -1.00  0.013799\n",
       "108     0.00  -1.00 -0.146894\n",
       "115     0.00  -1.00 -0.110922\n",
       "116     0.00  -1.00 -0.087266\n",
       "119     0.00  -1.00 -0.086700\n",
       "123     1.23   1.23 -0.137160\n",
       "125     0.00  -1.00 -0.049404\n",
       "128     0.00  -1.00  0.094909\n",
       "135    55.95  55.95 -0.139084\n",
       "136     0.00  -1.00  0.396376\n",
       "137     0.00  -1.00 -0.056333\n",
       "141     0.00  -1.00 -0.134173\n",
       "142     0.00  -1.00 -0.076243\n",
       "158     0.00  -1.00  0.546388\n",
       "163     0.00  -1.00 -0.009062"
      ]
     },
     "execution_count": 398,
     "metadata": {
      "tags": []
     },
     "output_type": "execute_result"
    }
   ],
   "source": [
    "print(v, limMax/100)\n",
    "limit=limMax/100\n",
    "zyhat=pd.Series(ZyHat)\n",
    "satsade = zyhat[ZyHat>=limit].count()           # Antal satsade\n",
    "vinst = Zy[ZyHat>=limit].sum()               # utdelning - insats\n",
    "\n",
    "print('Antal veckor (ca):', Zy.shape[0]/78.5)\n",
    "print('Antal Lopp:', ZX.shape[0])                       \n",
    "print('Antal satsade:',  satsade, 'Antal fel =', (Zy[ZyHat>=limit] < 0).sum(),'Antal rätt:', (Zy[ZyHat>=limit] >= 0).sum()  )\n",
    "print('Vinst:', vinst )\n",
    "Rättning = pd.DataFrame(Zy[ZyHat>=limit])\n",
    "Rättning.columns = ['satsade']\n",
    "Rättning['y'] = Zy\n",
    "Rättning['yhat'] = pd.Series(ZyHat)\n",
    "print('R\\n',Rättning.head())\n",
    "Rättning.loc[Rättning.y<0    , 'satsade'] = Rättning.loc[Rättning.y<0,'satsade'].apply(lambda x: 0 ) \n",
    "Rättning.head(50)     "
   ]
  },
  {
   "cell_type": "code",
   "execution_count": 0,
   "metadata": {
    "colab": {},
    "colab_type": "code",
    "id": "OMJ1cEx3Vi2P"
   },
   "outputs": [],
   "source": []
  }
 ],
 "metadata": {
  "colab": {
   "authorship_tag": "ABX9TyPlVShC5ConRQX5sqqZwO5K",
   "collapsed_sections": [],
   "name": "XGB regression.ipynb",
   "provenance": [
    {
     "file_id": "1cPQWaTkeV3J7wgfPzysxmtjAtcYZ6L7-",
     "timestamp": 1586606897650
    }
   ],
   "toc_visible": true
  },
  "kernelspec": {
   "display_name": "Python 3",
   "language": "python",
   "name": "python3"
  },
  "language_info": {
   "codemirror_mode": {
    "name": "ipython",
    "version": 3
   },
   "file_extension": ".py",
   "mimetype": "text/x-python",
   "name": "python",
   "nbconvert_exporter": "python",
   "pygments_lexer": "ipython3",
   "version": "3.7.4"
  }
 },
 "nbformat": 4,
 "nbformat_minor": 1
}
