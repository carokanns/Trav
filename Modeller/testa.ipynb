{
 "cells": [
  {
   "cell_type": "markdown",
   "metadata": {},
   "source": [
    "# Web scraping - kommande v75-omgång"
   ]
  },
  {
   "cell_type": "code",
   "execution_count": 2,
   "metadata": {},
   "outputs": [
    {
     "name": "stdout",
     "output_type": "stream",
     "text": [
      "Requirement already satisfied: selenium in c:\\users\\peter\\anaconda3\\lib\\site-packages (3.141.0)\n",
      "Requirement already satisfied: urllib3 in c:\\users\\peter\\anaconda3\\lib\\site-packages (from selenium) (1.24.2)\n",
      "Requirement already satisfied: tabulate in c:\\users\\peter\\anaconda3\\lib\\site-packages (0.8.7)\n"
     ]
    }
   ],
   "source": [
    "#!apt install chromium-chromedriver\n",
    "!pip install selenium\n",
    "!pip install tabulate"
   ]
  },
  {
   "cell_type": "code",
   "execution_count": 3,
   "metadata": {},
   "outputs": [
    {
     "name": "stdout",
     "output_type": "stream",
     "text": [
      "sklearn version 0.21.3\n"
     ]
    }
   ],
   "source": [
    "import pandas as  pd \n",
    "import numpy as np\n",
    "import logging\n",
    "logging.basicConfig(filename='app.log', filemode='w', format='%(name)s - %(message)s',level=logging.INFO)\n",
    "import sys\n",
    "sys.path.append('C:\\\\Users/peter/Google Drive/Colab Notebooks/Småprojekt/')\n",
    "import fixa_features as ff\n",
    "from selenium import webdriver \n",
    "from selenium.webdriver.common.by import By \n",
    "from selenium.webdriver.support.ui import WebDriverWait \n",
    "from selenium.webdriver.support import expected_conditions as EC \n",
    "from selenium.common.exceptions import TimeoutException\n",
    "import time\n",
    "import sklearn\n",
    "\n",
    "print(\"sklearn version\", sklearn.__version__)"
   ]
  },
  {
   "cell_type": "markdown",
   "metadata": {},
   "source": [
    "# Ladda v75-sida med 7 avdelningar/lopp "
   ]
  },
  {
   "cell_type": "code",
   "execution_count": 4,
   "metadata": {},
   "outputs": [],
   "source": [
    "def V75_sida(V75page):\n",
    "    # run firefox webdriver from executable path of your choice\n",
    "    logging.warning('STARTING V75_sida')\n",
    "    print('starta V75_sida')\n",
    "    driver = webdriver.Chrome(executable_path='C:\\\\Users\\peter\\\\Documents\\\\MyProjects\\\\gecko\\\\chromedriver.exe')\n",
    "    #####\n",
    "    driver.implicitly_wait(10) # seconds\n",
    "\n",
    "    # get web pages\n",
    "    data = []\n",
    "    driver.get(V75page+'avd1')\n",
    "    but = driver.find_element_by_id('onetrust-accept-btn-handler')\n",
    "    but.click()\n",
    "    driver.fullscreen_window()\n",
    "  \n",
    "    anp = driver.find_elements_by_css_selector('div.active-game-type-v75 div.startlist-header.game-background-pattern--long button:nth-child(3)')\n",
    "    anp[0].click()\n",
    "\n",
    "    cl = driver.find_elements_by_css_selector('div.modal-container  div.modal__body  button.css-tqseha-Button-styles--root-Button--Button')\n",
    "    cl[0].click()    # Rensa\n",
    "\n",
    "\n",
    "    cl = driver.find_elements_by_css_selector('ul > li:nth-child(10)')\n",
    "    cl[1].click()       #Distans och spår\n",
    "\n",
    "    #cl = driver.find_elements_by_css_selector('ul > li:nth-child(8)')\n",
    "    #cl[1].click()       #vodds\n",
    "\n",
    "    #cl = driver.find_elements_by_css_selector('ul > li:nth-child(9)')\n",
    "    #cl[1].click()       #vodds\n",
    "\n",
    "    #cl = driver.find_elements_by_css_selector('div.modal-container  div.modal__body #button.css-1fh4n7y-Button-styles--root-PrimaryButton-styles--root-StartlistDisplayOptionsDialog-styles--saveButton-PrimaryButton--PrimaryButton-#StartlistDisplayOptionsDialog-styles--saveButton')\n",
    " #   cl[0].click()       #save\n",
    "\n",
    "    print(V75page)\n",
    "    print('set full screen om inte gjort och anpassa')\n",
    "\n",
    "    return driver\n"
   ]
  },
  {
   "cell_type": "code",
   "execution_count": 5,
   "metadata": {},
   "outputs": [],
   "source": [
    "#anp = driver.find_elements_by_css_selector('div.active-game-type-v75 div.startlist-header.game-background-pattern--long button:nth-child(3)')\n",
    "#print(len(anp))\n",
    "#anp[0].click()\n"
   ]
  },
  {
   "cell_type": "markdown",
   "metadata": {},
   "source": [
    "# Fixa features"
   ]
  },
  {
   "cell_type": "code",
   "execution_count": 6,
   "metadata": {},
   "outputs": [],
   "source": [
    "def fixa_features(df):\n",
    "  print('fix features')\n",
    "  #df['spår'] = df.spår.astype(float)\n",
    "  #\n",
    "  #df.loc[df.plac == 'd','plac']= 14\n",
    "  #df.loc[df.plac == '0','plac']= 13\n",
    "  #df.loc[df.plac == '0:a','plac']= 13\n",
    "  #df.loc[df.plac == '1:a','plac']= '1'\n",
    "  #df['plac'] = df.loc[:,'plac'].astype('float')\n",
    "  #df.h1_plac.value_counts(dropna=False)\n",
    "\n",
    "  df.loc[df.start == 'AUTOSTART','start']= 0\n",
    "  df.loc[df.start == 'VOLTSTART','start']= 1\n",
    "  df['start'] = df.start.astype('int64')\n",
    "\n",
    "  df.vodds = df['vodds'].str.replace(',','.').astype('float')\n",
    "\n",
    "  ## podds: räkna om 'x.xx - y.yy' till ett medelvärde\n",
    "  def new_podds(p):\n",
    "    x=p.replace(',' , '.')\n",
    "    sp=x.split('-')\n",
    "\n",
    "    x=sp[0]\n",
    "    if len(sp) == 2:\n",
    "      x = (float(sp[0])+float(sp[1]))/2\n",
    "    \n",
    "    return x\n",
    "\n",
    "  # print(df['podds'].str.contains('-').sum())\n",
    "  df['podds'] = df['podds'].apply(lambda x: new_podds(x))\n",
    "  df['podds'] = df.podds.astype('float')\n",
    "  ##\n",
    "\n",
    "  #### hx_hist['plac'] #### \n",
    "   \n",
    "  df.h1_plac = df['h1_plac'].str.replace(',','.')\n",
    "  df.h2_plac = df['h2_plac'].str.replace(',','.')\n",
    "  df.h3_plac = df['h3_plac'].str.replace(',','.')\n",
    "  df.h4_plac = df['h4_plac'].str.replace(',','.')\n",
    "  df.h5_plac = df['h5_plac'].str.replace(',','.')\n",
    "  \n",
    "  # byt '' till 13\n",
    "  df.loc[df.h1_plac == '','h1_plac']= 13\n",
    "  df.loc[df.h2_plac == '','h2_plac']= 13\n",
    "  df.loc[df.h3_plac == '','h3_plac']= 13\n",
    "  df.loc[df.h4_plac == '','h4_plac']= 13\n",
    "  df.loc[df.h5_plac == '','h5_plac']= 13\n",
    "\n",
    "  # byt '0' till 13\n",
    "  df.loc[df.h1_plac == '0','h1_plac']= 13\n",
    "  df.loc[df.h2_plac == '0','h2_plac']= 13\n",
    "  df.loc[df.h3_plac == '0','h3_plac']= 13\n",
    "  df.loc[df.h4_plac == '0','h4_plac']= 13\n",
    "  df.loc[df.h5_plac == '0','h5_plac']= 13\n",
    "\n",
    "  # byt 'd' till 14\n",
    "  df.loc[df.h1_plac == 'd','h1_plac']= 14\n",
    "  df.loc[df.h2_plac == 'd','h2_plac']= 14\n",
    "  df.loc[df.h3_plac == 'd','h3_plac']= 14\n",
    "  df.loc[df.h4_plac == 'd','h4_plac']= 14\n",
    "  df.loc[df.h5_plac == 'd','h5_plac']= 14\n",
    "\n",
    "  # ett 'r' för mycket\n",
    "  df.loc[df.h1_plac == '0r','h1_plac']= 13\n",
    "  df.loc[df.h2_plac == '0r','h2_plac']= 13\n",
    "  df.loc[df.h3_plac == '0r','h3_plac']= 13\n",
    "  df.loc[df.h4_plac == '0r','h4_plac']= 13\n",
    "  df.loc[df.h5_plac == '0r','h5_plac']= 13\n",
    "\n",
    "  df.loc[df.h1_plac == '2r','h1_plac']= 2\n",
    "  df.loc[df.h2_plac == '2r','h2_plac']= 2\n",
    "  df.loc[df.h3_plac == '2r','h3_plac']= 2\n",
    "  df.loc[df.h4_plac == '2r','h4_plac']= 2\n",
    "  df.loc[df.h5_plac == '2r','h5_plac']= 2\n",
    "\n",
    "  df.loc[df.h1_plac == '3r','h1_plac']= 3\n",
    "  df.loc[df.h2_plac == '3r','h2_plac']= 3\n",
    "  df.loc[df.h3_plac == '3r','h3_plac']= 3\n",
    "  df.loc[df.h4_plac == '3r','h4_plac']= 3\n",
    "  df.loc[df.h5_plac == '3r','h5_plac']= 3\n",
    "\n",
    "  df.loc[df.h1_plac == '4r','h1_plac']= 4\n",
    "  df.loc[df.h2_plac == '4r','h2_plac']= 4\n",
    "  df.loc[df.h3_plac == '4r','h3_plac']= 4\n",
    "  df.loc[df.h4_plac == '4r','h4_plac']= 4\n",
    "  df.loc[df.h5_plac == '4r','h5_plac']= 4\n",
    "\n",
    "  # byt 'k' till NaN\n",
    "  df.loc[df.h1_plac == 'k', 'h1_dist'] = df.loc[df.h1_plac == 'k','h1_dist'].apply(lambda x: np.nan) \n",
    "  df.loc[df.h1_plac == 'k', 'h1_spår'] = df.loc[df.h1_plac == 'k','h1_spår'].apply(lambda x: np.nan) \n",
    "  df.loc[df.h1_plac == 'k', 'h1_odds'] = df.loc[df.h1_plac == 'k','h1_odds'].apply(lambda x: np.nan) \n",
    "  df.loc[df.h1_plac == 'k', 'h1_plac'] = df.loc[df.h1_plac == 'k','h1_plac'].apply(lambda x: np.nan) \n",
    "\n",
    "  df.loc[df.h2_plac == 'k', 'h2_dist'] = df.loc[df.h2_plac == 'k','h2_dist'].apply(lambda x: np.nan) \n",
    "  df.loc[df.h2_plac == 'k', 'h2_spår'] = df.loc[df.h2_plac == 'k','h2_spår'].apply(lambda x: np.nan) \n",
    "  df.loc[df.h2_plac == 'k', 'h2_odds'] = df.loc[df.h2_plac == 'k','h2_odds'].apply(lambda x: np.nan) \n",
    "  df.loc[df.h2_plac == 'k', 'h2_plac'] = df.loc[df.h2_plac == 'k','h2_plac'].apply(lambda x: np.nan) \n",
    "\n",
    "  df.loc[df.h3_plac == 'k', 'h3_dist'] = df.loc[df.h3_plac == 'k','h3_dist'].apply(lambda x: np.nan) \n",
    "  df.loc[df.h3_plac == 'k', 'h3_spår'] = df.loc[df.h3_plac == 'k','h3_spår'].apply(lambda x: np.nan) \n",
    "  df.loc[df.h3_plac == 'k', 'h3_odds'] = df.loc[df.h3_plac == 'k','h3_odds'].apply(lambda x: np.nan) \n",
    "  df.loc[df.h3_plac == 'k', 'h3_plac'] = df.loc[df.h3_plac == 'k','h3_plac'].apply(lambda x: np.nan) \n",
    "\n",
    "  df.loc[df.h4_plac == 'k', 'h4_dist'] = df.loc[df.h4_plac == 'k','h4_dist'].apply(lambda x: np.nan) \n",
    "  df.loc[df.h4_plac == 'k', 'h4_spår'] = df.loc[df.h4_plac == 'k','h4_spår'].apply(lambda x: np.nan) \n",
    "  df.loc[df.h4_plac == 'k', 'h4_odds'] = df.loc[df.h4_plac == 'k','h4_odds'].apply(lambda x: np.nan) \n",
    "  df.loc[df.h4_plac == 'k', 'h4_plac'] = df.loc[df.h4_plac == 'k','h4_plac'].apply(lambda x: np.nan) \n",
    "\n",
    "  df.loc[df.h5_plac == 'k', 'h5_dist'] = df.loc[df.h5_plac == 'k','h5_dist'].apply(lambda x: np.nan) \n",
    "  df.loc[df.h5_plac == 'k', 'h5_spår'] = df.loc[df.h5_plac == 'k','h5_spår'].apply(lambda x: np.nan) \n",
    "  df.loc[df.h5_plac == 'k', 'h5_odds'] = df.loc[df.h5_plac == 'k','h5_odds'].apply(lambda x: np.nan) \n",
    "  df.loc[df.h5_plac == 'k', 'h5_plac'] = df.loc[df.h5_plac == 'k','h5_plac'].apply(lambda x: np.nan) \n",
    "\n",
    "  # byt 'p' till NaN\n",
    "  df.loc[df.h2_plac == 'p', 'h2_dist'] = df.loc[df.h2_plac == 'p','h2_dist'].apply(lambda x: np.nan)\n",
    "  df.loc[df.h2_plac == 'p', 'h2_spår'] = df.loc[df.h2_plac == 'p','h2_spår'].apply(lambda x: np.nan)\n",
    "  df.loc[df.h2_plac == 'p', 'h2_odds'] = df.loc[df.h2_plac == 'p','h2_odds'].apply(lambda x: np.nan)\n",
    "  df.loc[df.h2_plac == 'p', 'h2_plac'] = df.loc[df.h2_plac == 'p','h2_plac'].apply(lambda x: np.nan)\n",
    "\n",
    "  df.loc[df.h5_plac == 'p']\n",
    "  df.loc[df.h5_plac == 'p', 'h5_dist'] = df.loc[df.h5_plac == 'p','h5_dist'].apply(lambda x: np.nan)\n",
    "  df.loc[df.h5_plac == 'p', 'h5_spår'] = df.loc[df.h5_plac == 'p','h5_spår'].apply(lambda x: np.nan)\n",
    "  df.loc[df.h5_plac == 'p', 'h5_odds'] = df.loc[df.h5_plac == 'p','h5_odds'].apply(lambda x: np.nan)\n",
    "  df.loc[df.h5_plac == 'p', 'h5_plac'] = df.loc[df.h5_plac == 'p','h5_plac'].apply(lambda x: np.nan)\n",
    "\n",
    "  # gör till int32\n",
    "  df['h1_plac'] = df.h1_plac.astype('float')\n",
    "  df['h2_plac'] = df.h2_plac.astype('float')\n",
    "  df['h3_plac'] = df.h3_plac.astype('float')\n",
    "  df['h4_plac'] = df.h4_plac.astype('float')\n",
    "  df['h5_plac'] = df.h5_plac.astype('float')\n",
    "\n",
    "  #### hx_odds ####\n",
    "\n",
    "  #\n",
    "  df.h1_odds = df['h1_odds'].str.replace(',','.')\n",
    "  df.loc[df.h1_odds == '', 'h1_odds'] = df.loc[df.h1_odds == '','h1_odds'].apply(lambda x: np.nan)  \n",
    "  df.loc[df.h1_odds == '-', 'h1_odds'] = df.loc[df.h1_odds == '-','h1_odds'].apply(lambda x: np.nan)\n",
    "  df.loc[df.h1_odds=='GDK','h1_odds'] = df.loc[df.h1_odds == 'GDK','h1_odds'].apply(lambda x: np.nan)\n",
    "  df['h1_odds'] = df.h1_odds.astype('float')\n",
    "\n",
    "  #h2\n",
    "  df.h2_odds = df['h2_odds'].str.replace(',','.')\n",
    "  df.loc[df.h2_odds == '', 'h2_odds'] = df.loc[df.h2_odds == '','h2_odds'].apply(lambda x: np.nan)  \n",
    "  df.loc[df.h2_odds == '-', 'h2_odds'] = df.loc[df.h2_odds == '-','h2_odds'].apply(lambda x: np.nan)\n",
    "  df.loc[df.h2_odds=='GDK','h2_odds'] = df.loc[df.h2_odds == 'GDK','h2_odds'].apply(lambda x: np.nan)\n",
    "  df.loc[df.h2_odds=='gdk','h2_odds'] = df.loc[df.h2_odds == 'gdk','h2_odds'].apply(lambda x: np.nan)\n",
    "  df['h2_odds'] = df.h2_odds.astype('float')\n",
    "\n",
    "  #h3\n",
    "  df.h3_odds = df['h3_odds'].str.replace(',','.')\n",
    "  df.loc[df.h3_odds == '', 'h3_odds'] = df.loc[df.h3_odds == '','h3_odds'].apply(lambda x: np.nan)  \n",
    "  df.loc[df.h3_odds == '-', 'h3_odds'] = df.loc[df.h3_odds == '-','h3_odds'].apply(lambda x: np.nan)\n",
    "  df.loc[df.h3_odds=='GDK','h3_odds'] = df.loc[df.h3_odds == 'GDK','h3_odds'].apply(lambda x: np.nan)\n",
    "  df.loc[df.h3_odds=='gdk','h3_odds'] = df.loc[df.h3_odds == 'gdk','h3_odds'].apply(lambda x: np.nan)\n",
    "  df.loc[df.h3_odds=='b-lp','h3_odds'] = df.loc[df.h3_odds == 'b-lp','h3_odds'].apply(lambda x: np.nan)\n",
    "  df.loc[df.h3_odds=='ejg','h3_odds'] = df.loc[df.h3_odds == 'ejg','h3_odds'].apply(lambda x: np.nan)\n",
    "  df.loc[df.h3_odds=='ut','h3_odds'] = df.loc[df.h3_odds == 'ut','h3_odds'].apply(lambda x: np.nan)\n",
    "  df['h3_odds'] = df.h3_odds.astype('float')\n",
    "\n",
    "  #h4\n",
    "  df.h4_odds = df['h4_odds'].str.replace(',','.')\n",
    "  df.loc[df.h4_odds == '', 'h4_odds'] = df.loc[df.h4_odds == '','h4_odds'].apply(lambda x: np.nan)  \n",
    "  df.loc[df.h4_odds == '-', 'h4_odds'] = df.loc[df.h4_odds == '-','h4_odds'].apply(lambda x: np.nan)\n",
    "  df.loc[df.h4_odds=='GDK','h4_odds'] = df.loc[df.h4_odds == 'GDK','h4_odds'].apply(lambda x: np.nan)\n",
    "  df.loc[df.h4_odds=='gdk','h4_odds'] = df.loc[df.h4_odds == 'gdk','h4_odds'].apply(lambda x: np.nan)\n",
    "  df.loc[df.h4_odds=='b-lp','h4_odds'] = df.loc[df.h4_odds == 'b-lp','h4_odds'].apply(lambda x: np.nan)\n",
    "  df.loc[df.h4_odds=='ejg','h4_odds'] = df.loc[df.h4_odds == 'ejg','h4_odds'].apply(lambda x: np.nan)\n",
    "  df.loc[df.h4_odds=='ut','h4_odds'] = df.loc[df.h4_odds == 'ut','h4_odds'].apply(lambda x: np.nan)\n",
    "  df['h4_odds'] = df.h4_odds.astype('float')\n",
    "\n",
    "  #h5\n",
    "  df.h5_odds = df['h5_odds'].str.replace(',','.')\n",
    "  df.loc[df.h5_odds == '', 'h5_odds'] = df.loc[df.h5_odds == '','h5_odds'].apply(lambda x: np.nan)  \n",
    "  df.loc[df.h5_odds == '-', 'h5_odds'] = df.loc[df.h5_odds == '-','h5_odds'].apply(lambda x: np.nan)\n",
    "  df.loc[df.h5_odds=='GDK','h5_odds'] = df.loc[df.h5_odds == 'GDK','h5_odds'].apply(lambda x: np.nan)\n",
    "  df.loc[df.h5_odds=='gdk','h5_odds'] = df.loc[df.h5_odds == 'gdk','h5_odds'].apply(lambda x: np.nan)\n",
    "  df.loc[df.h5_odds=='b-lp','h5_odds'] = df.loc[df.h5_odds == 'b-lp','h5_odds'].apply(lambda x: np.nan)\n",
    "  df.loc[df.h5_odds=='B-lp','h5_odds'] = df.loc[df.h5_odds == 'B-lp','h5_odds'].apply(lambda x: np.nan)\n",
    "  df.loc[df.h5_odds=='ejg','h5_odds'] = df.loc[df.h5_odds == 'ejg','h5_odds'].apply(lambda x: np.nan)\n",
    "  df.loc[df.h5_odds=='ut','h5_odds'] = df.loc[df.h5_odds == 'ut','h5_odds'].apply(lambda x: np.nan)\n",
    "  df.loc[df.h5_odds=='P','h5_odds'] = df.loc[df.h5_odds == 'P','h5_odds'].apply(lambda x: np.nan)\n",
    "  #df.loc[df.h5_odds=='B-lp']\n",
    "  df['h5_odds'] = df.h5_odds.astype('float')\n",
    "\n",
    "  df.dropna(subset=['spår'],inplace=True)\n",
    "  df.dropna(subset=['h1_plac','h1_odds','h2_plac','h2_odds','h3_plac','h3_odds'],inplace=True)\n",
    "  df.dropna(inplace=True)\n",
    "\n",
    "  df['dist'] = df.dist.astype('float')\n",
    "  return df"
   ]
  },
  {
   "cell_type": "code",
   "execution_count": 7,
   "metadata": {},
   "outputs": [],
   "source": [
    "def getSpår(startnr, avd, i):\n",
    "    logging.warning('startar getSpår')\n",
    "    #pth='div:nth-child('+str(avd)+') > div > table > tbody > tr:nth-child('+str(i)+') > td.postPositionAndDistance-col'\n",
    "    try:    \n",
    "        spår = startnr.find_element_by_css_selector('.postPositionAndDistance-col')\n",
    "\n",
    "        txt = spår.text.split()\n",
    "        spr = None\n",
    "        dis = None\n",
    "\n",
    "        if len(txt) > 0:\n",
    "            dis = txt[0]\n",
    "    \n",
    "        if len(txt) == 3:\n",
    "            spr = txt[2]\n",
    "    except:\n",
    "        logging.warning('dist/spår hittades ej')\n",
    "        spr='ej'\n",
    "        dis='ej'\n",
    "    return spr,dis\n",
    "\n"
   ]
  },
  {
   "cell_type": "code",
   "execution_count": 8,
   "metadata": {},
   "outputs": [],
   "source": [
    "def getVodds(startnr, avd, häst):\n",
    "    logging.warning('startar getVodds')\n",
    "\n",
    "    #pth = '#main > div.active-game-type-v75 > div:nth-child(2) > div > div > div > div > div > div:nth-child(7) > div:nth-child('+str(avd)+') > div > table > tbody > tr:nth-child('+str(häst)+') > td.vOdds-col'\n",
    "          \n",
    "    vo = startnr.find_element_by_css_selector('.vOdds-col')\n",
    "\n",
    "    return vo.text    \n"
   ]
  },
  {
   "cell_type": "code",
   "execution_count": 9,
   "metadata": {},
   "outputs": [],
   "source": [
    "def getPodds(startnr, avd, häst):\n",
    "    logging.warning('startar getPodds')\n",
    "    #pth = '#main > div.active-game-type-v75 > div:nth-child(2) > div > div > div > div > div > div:nth-child(7) > div:nth-child('+str(avd)+') > div > table > tbody > tr:nth-child('+str(häst)+') > td.pOdds-col'\n",
    "         \n",
    "    po = startnr.find_element_by_css_selector('.pOdds-col')\n",
    "    \n",
    "    return po.text    \n"
   ]
  },
  {
   "cell_type": "code",
   "execution_count": 10,
   "metadata": {},
   "outputs": [],
   "source": [
    "def getHist(avd, häst):\n",
    "    logging.warning('startar getHist')\n",
    "    history=[]\n",
    "    try:\n",
    "        for child in range(1,6):\n",
    "            dist = 'table > tbody > tr:nth-child(' +str(child)+ ') > td.distance-col'\n",
    "            plac = 'table > tbody > tr:nth-child(' +str(child)+ ') > td.place-col'\n",
    "            spår = 'table > tbody > tr:nth-child(' +str(child)+ ') > td.position-col'\n",
    "            odds = 'table > tbody > tr:nth-child(' +str(child)+ ') > td.odds-col'\n",
    "            \n",
    "            plac = driver.find_element_by_css_selector(plac)\n",
    "            logging.warning('plac '+plac.text)\n",
    "            dist = driver.find_element_by_css_selector(dist)\n",
    "            logging.warning('dist '+dist.text)\n",
    "            spår = driver.find_element_by_css_selector(spår)\n",
    "            logging.warning('spår '+spår.text)\n",
    "            odds = driver.find_element_by_css_selector(odds)\n",
    "            logging.warning('odds '+odds.text)\n",
    "            history.extend([plac.text, dist.text, spår.text, odds.text])\n",
    "    except:\n",
    "        logging.warning(\"history except\")\n",
    "        return history\n",
    "    \n",
    "    logging.warning('History = '+ str(history))\n",
    "    return history"
   ]
  },
  {
   "cell_type": "markdown",
   "metadata": {},
   "source": [
    "# Läs in avdelning för avdelning och skrapa\n",
    "öppna varje lopp och gå igenom all hästarna inklusive deras historik"
   ]
  },
  {
   "cell_type": "code",
   "execution_count": 11,
   "metadata": {
    "scrolled": false
   },
   "outputs": [],
   "source": [
    "def skrapa(avdelningar, V75page):\n",
    "    driver.implicitly_wait(10) # seconds\n",
    "    logging.warning('STARTING skrapa')\n",
    "    print('starta skrapa')\n",
    "    \n",
    "    dat = V75page.split('spel/')[1][0:10]  #gräv ut datum\n",
    "    komplett=[]\n",
    "    for avd in avdelningar:\n",
    "        logging.warning('avd '+ str(avd))\n",
    "\n",
    "        # open avd\n",
    "        driver.get(V75page+'avd'+str(avd))\n",
    "        d=driver.find_element_by_css_selector('div > div.cell-wrapper > div.race-combined-info > div.slanted.race-distance-start-method > span')    \n",
    "        \n",
    "        split1 = d.text.split()[0][0:4]   # distans (använd hästens distans ist om den finns)\n",
    "        split2 = d.text.split()[1]        # start\n",
    "\n",
    "        css='#main .game-view table[data-test-id=\"startlist-race-'+str(avd)+'\"] tbody tr[data-test-id=\"startlist-row\"]'\n",
    "        logging.warning(css)\n",
    "        gt = driver.find_elements_by_css_selector(css) \n",
    "        antal = len(gt)\n",
    "        print('antal',antal)\n",
    "        häst = 0\n",
    "        for startnr in gt:\n",
    "            häst = häst+1\n",
    "            #pth ='//*[@id=\"main\"]/div[3]/div[2]/div/div/div/div/div/div[7]/div['+str(avd)+']/div/table/tbody/tr['+str(häst)+']/td[1]/span/div/span'\n",
    "            #pth = '//*[@id=\"main\"]/div[3]/div[2]/div/div/div/div/div/div[7]/div['+str(avd)+']//*[@class]'\n",
    "            #logging.warning(pth)\n",
    "            try:\n",
    "                #print('startnr.text',startnr.text)\n",
    "                nm = startnr.find_element_by_css_selector('.name-container')\n",
    "                namn = nm.text\n",
    "                print(avd, häst, nm.text)\n",
    "            except:\n",
    "                logging.warning('avd '+str(avd)+' Startnr: '+str(häst)+'  hittades inte')\n",
    "                break    \n",
    "\n",
    "            spår, dist = getSpår(startnr, avd, häst)\n",
    "            \n",
    "            if spår.lower()=='ej':\n",
    "                logging.warning('avd: '+str(avd)+' startnr: '+str(häst)+' struken')\n",
    "                continue\n",
    "            else:   \n",
    "                if dist==None:\n",
    "                    dist = split1  # använd loppdistans om det saknas hos hästen\n",
    "                #namn = gt.text\n",
    "                vodds = getVodds(startnr, avd,häst)\n",
    "                podds = getPodds(startnr, avd,häst)\n",
    "                if vodds.lower() == 'ej' or podds.lower() == 'ej':\n",
    "                    logging.warning('avd: '+str(avd)+' startnr: '+str(häst)+' struken')\n",
    "                    continue    \n",
    "\n",
    "                logging.warning('avd: '+str(avd)+' Startnr: '+str(häst)+' '+namn)  \n",
    "\n",
    "                start = split2\n",
    "\n",
    "                horse = [dat, avd, namn, dist, start, spår, vodds, podds]\n",
    "                \n",
    "                startnr.click()  # open for history\n",
    "                \n",
    "                #gh=getHist(avd,häst)\n",
    "                horse.extend(getHist(avd,häst))\n",
    "                komplett.append(horse)\n",
    "                #print('history:',history)\n",
    "                startnr.click()   # close\n",
    "\n",
    "    return komplett\n",
    "\n",
    "    "
   ]
  },
  {
   "cell_type": "markdown",
   "metadata": {},
   "source": [
    "# Kör fram resultat"
   ]
  },
  {
   "cell_type": "code",
   "execution_count": 12,
   "metadata": {},
   "outputs": [],
   "source": [
    "def resultat(pool, model_name, modelpath):\n",
    "    from sklearn import model_selection\n",
    "    #from sklearn.linear_model import LogisticRegression\n",
    "    import pickle\n",
    "    \n",
    "    if modelpath:\n",
    "        # load the model from disk\n",
    "        loaded_model = pickle.load(open(modelpath+model_name, 'rb'))\n",
    "\n",
    "    result = loaded_model.predict(pool)\n",
    "    return result"
   ]
  },
  {
   "cell_type": "code",
   "execution_count": 13,
   "metadata": {},
   "outputs": [],
   "source": [
    "def resultat_proba(pool, model_name, modelpath):  \n",
    "    from sklearn import model_selection\n",
    "    import pickle\n",
    "    \n",
    "    if modellpath:\n",
    "        # load the model from disk\n",
    "        loaded_model = pickle.load(open(modellpath+model_name, 'rb'))\n",
    "\n",
    "    result = loaded_model.predict_proba(pool)\n",
    "\n",
    "    return result[:,1]"
   ]
  },
  {
   "cell_type": "markdown",
   "metadata": {},
   "source": [
    "# spara lopp data"
   ]
  },
  {
   "cell_type": "code",
   "execution_count": 14,
   "metadata": {},
   "outputs": [],
   "source": [
    "def spara(df,path, omgsav, avd):\n",
    "    stravd = ''.join(str(x) for x in avd)\n",
    "    filnamn=path+omgsav+stravd+'test.csv'\n",
    "    df.to_csv(filnamn, index=False)"
   ]
  },
  {
   "cell_type": "markdown",
   "metadata": {},
   "source": [
    "# Main - init"
   ]
  },
  {
   "cell_type": "code",
   "execution_count": 15,
   "metadata": {},
   "outputs": [
    {
     "name": "stdout",
     "output_type": "stream",
     "text": [
      "starta V75_sida\n",
      "https://www.atg.se/spel/2020-05-09/V75/aby\n",
      "set full screen om inte gjort och anpassa\n"
     ]
    }
   ],
   "source": [
    "omg = '2020-05-09/V75/aby'\n",
    "omg_sav = omg.replace('/V75/','-')\n",
    "\n",
    "V75url = 'https://www.atg.se/spel/'+omg\n",
    "driver=V75_sida(V75url)\n",
    "#2020-05-09/V75/aby\n",
    "#2020-04-18/V75/umaker  \n",
    "#2020-05-02/V75/orebro  \n",
    "#2020-04-25/V75/aby    "
   ]
  },
  {
   "cell_type": "markdown",
   "metadata": {},
   "source": [
    "# Main - web scraping plus predict och spara"
   ]
  },
  {
   "cell_type": "code",
   "execution_count": 23,
   "metadata": {
    "scrolled": true
   },
   "outputs": [
    {
     "name": "stdout",
     "output_type": "stream",
     "text": [
      "plac finns inte i DataFrame\n"
     ]
    },
    {
     "ename": "ValueError",
     "evalue": "could not convert string to float: ",
     "output_type": "error",
     "traceback": [
      "\u001b[1;31m---------------------------------------------------------------------------\u001b[0m",
      "\u001b[1;31mValueError\u001b[0m                                Traceback (most recent call last)",
      "\u001b[1;32m<ipython-input-23-18a555a319ec>\u001b[0m in \u001b[0;36m<module>\u001b[1;34m\u001b[0m\n\u001b[0;32m     35\u001b[0m     \u001b[0mres\u001b[0m \u001b[1;33m=\u001b[0m \u001b[0mresultat\u001b[0m\u001b[1;33m(\u001b[0m\u001b[0mlim\u001b[0m\u001b[1;33m[\u001b[0m\u001b[1;34m'regr'\u001b[0m\u001b[1;33m]\u001b[0m\u001b[1;33m[\u001b[0m\u001b[1;34m'pool'\u001b[0m\u001b[1;33m]\u001b[0m\u001b[1;33m,\u001b[0m \u001b[1;34m'CatB_regr7.model'\u001b[0m\u001b[1;33m,\u001b[0m \u001b[0mmodellpath\u001b[0m\u001b[1;33m)\u001b[0m\u001b[1;33m\u001b[0m\u001b[1;33m\u001b[0m\u001b[0m\n\u001b[0;32m     36\u001b[0m     \u001b[1;31m#res_proba = resultat_proba(poolUtan, 'CatB_class8.model', modellpath)\u001b[0m\u001b[1;33m\u001b[0m\u001b[1;33m\u001b[0m\u001b[1;33m\u001b[0m\u001b[0m\n\u001b[1;32m---> 37\u001b[1;33m     \u001b[0mres_proba\u001b[0m \u001b[1;33m=\u001b[0m \u001b[0mresultat_proba\u001b[0m\u001b[1;33m(\u001b[0m\u001b[0mdf\u001b[0m\u001b[1;33m.\u001b[0m\u001b[0mdrop\u001b[0m\u001b[1;33m(\u001b[0m\u001b[1;33m[\u001b[0m\u001b[1;34m'häst'\u001b[0m\u001b[1;33m,\u001b[0m\u001b[1;34m'avd'\u001b[0m\u001b[1;33m,\u001b[0m\u001b[1;34m'datum'\u001b[0m\u001b[1;33m]\u001b[0m\u001b[1;33m,\u001b[0m\u001b[0maxis\u001b[0m\u001b[1;33m=\u001b[0m\u001b[1;36m1\u001b[0m\u001b[1;33m)\u001b[0m\u001b[1;33m,\u001b[0m \u001b[1;34m'NN_class2.model'\u001b[0m\u001b[1;33m,\u001b[0m \u001b[0mmodellpath\u001b[0m\u001b[1;33m)\u001b[0m\u001b[1;33m\u001b[0m\u001b[1;33m\u001b[0m\u001b[0m\n\u001b[0m\u001b[0;32m     38\u001b[0m \u001b[1;33m\u001b[0m\u001b[0m\n\u001b[0;32m     39\u001b[0m \u001b[1;33m\u001b[0m\u001b[0m\n",
      "\u001b[1;32m<ipython-input-13-925f3276ae28>\u001b[0m in \u001b[0;36mresultat_proba\u001b[1;34m(pool, model_name, modelpath)\u001b[0m\n\u001b[0;32m      7\u001b[0m         \u001b[0mloaded_model\u001b[0m \u001b[1;33m=\u001b[0m \u001b[0mpickle\u001b[0m\u001b[1;33m.\u001b[0m\u001b[0mload\u001b[0m\u001b[1;33m(\u001b[0m\u001b[0mopen\u001b[0m\u001b[1;33m(\u001b[0m\u001b[0mmodellpath\u001b[0m\u001b[1;33m+\u001b[0m\u001b[0mmodel_name\u001b[0m\u001b[1;33m,\u001b[0m \u001b[1;34m'rb'\u001b[0m\u001b[1;33m)\u001b[0m\u001b[1;33m)\u001b[0m\u001b[1;33m\u001b[0m\u001b[1;33m\u001b[0m\u001b[0m\n\u001b[0;32m      8\u001b[0m \u001b[1;33m\u001b[0m\u001b[0m\n\u001b[1;32m----> 9\u001b[1;33m     \u001b[0mresult\u001b[0m \u001b[1;33m=\u001b[0m \u001b[0mloaded_model\u001b[0m\u001b[1;33m.\u001b[0m\u001b[0mpredict_proba\u001b[0m\u001b[1;33m(\u001b[0m\u001b[0mpool\u001b[0m\u001b[1;33m)\u001b[0m\u001b[1;33m\u001b[0m\u001b[1;33m\u001b[0m\u001b[0m\n\u001b[0m\u001b[0;32m     10\u001b[0m \u001b[1;33m\u001b[0m\u001b[0m\n\u001b[0;32m     11\u001b[0m     \u001b[1;32mreturn\u001b[0m \u001b[0mresult\u001b[0m\u001b[1;33m[\u001b[0m\u001b[1;33m:\u001b[0m\u001b[1;33m,\u001b[0m\u001b[1;36m1\u001b[0m\u001b[1;33m]\u001b[0m\u001b[1;33m\u001b[0m\u001b[1;33m\u001b[0m\u001b[0m\n",
      "\u001b[1;32m~\\Anaconda3\\lib\\site-packages\\sklearn\\neural_network\\multilayer_perceptron.py\u001b[0m in \u001b[0;36mpredict_proba\u001b[1;34m(self, X)\u001b[0m\n\u001b[0;32m   1057\u001b[0m         \"\"\"\n\u001b[0;32m   1058\u001b[0m         \u001b[0mcheck_is_fitted\u001b[0m\u001b[1;33m(\u001b[0m\u001b[0mself\u001b[0m\u001b[1;33m,\u001b[0m \u001b[1;34m\"coefs_\"\u001b[0m\u001b[1;33m)\u001b[0m\u001b[1;33m\u001b[0m\u001b[1;33m\u001b[0m\u001b[0m\n\u001b[1;32m-> 1059\u001b[1;33m         \u001b[0my_pred\u001b[0m \u001b[1;33m=\u001b[0m \u001b[0mself\u001b[0m\u001b[1;33m.\u001b[0m\u001b[0m_predict\u001b[0m\u001b[1;33m(\u001b[0m\u001b[0mX\u001b[0m\u001b[1;33m)\u001b[0m\u001b[1;33m\u001b[0m\u001b[1;33m\u001b[0m\u001b[0m\n\u001b[0m\u001b[0;32m   1060\u001b[0m \u001b[1;33m\u001b[0m\u001b[0m\n\u001b[0;32m   1061\u001b[0m         \u001b[1;32mif\u001b[0m \u001b[0mself\u001b[0m\u001b[1;33m.\u001b[0m\u001b[0mn_outputs_\u001b[0m \u001b[1;33m==\u001b[0m \u001b[1;36m1\u001b[0m\u001b[1;33m:\u001b[0m\u001b[1;33m\u001b[0m\u001b[1;33m\u001b[0m\u001b[0m\n",
      "\u001b[1;32m~\\Anaconda3\\lib\\site-packages\\sklearn\\neural_network\\multilayer_perceptron.py\u001b[0m in \u001b[0;36m_predict\u001b[1;34m(self, X)\u001b[0m\n\u001b[0;32m    660\u001b[0m             \u001b[0mThe\u001b[0m \u001b[0mdecision\u001b[0m \u001b[0mfunction\u001b[0m \u001b[0mof\u001b[0m \u001b[0mthe\u001b[0m \u001b[0msamples\u001b[0m \u001b[1;32mfor\u001b[0m \u001b[0meach\u001b[0m \u001b[1;32mclass\u001b[0m \u001b[1;32min\u001b[0m \u001b[0mthe\u001b[0m \u001b[0mmodel\u001b[0m\u001b[1;33m.\u001b[0m\u001b[1;33m\u001b[0m\u001b[1;33m\u001b[0m\u001b[0m\n\u001b[0;32m    661\u001b[0m         \"\"\"\n\u001b[1;32m--> 662\u001b[1;33m         \u001b[0mX\u001b[0m \u001b[1;33m=\u001b[0m \u001b[0mcheck_array\u001b[0m\u001b[1;33m(\u001b[0m\u001b[0mX\u001b[0m\u001b[1;33m,\u001b[0m \u001b[0maccept_sparse\u001b[0m\u001b[1;33m=\u001b[0m\u001b[1;33m[\u001b[0m\u001b[1;34m'csr'\u001b[0m\u001b[1;33m,\u001b[0m \u001b[1;34m'csc'\u001b[0m\u001b[1;33m,\u001b[0m \u001b[1;34m'coo'\u001b[0m\u001b[1;33m]\u001b[0m\u001b[1;33m)\u001b[0m\u001b[1;33m\u001b[0m\u001b[1;33m\u001b[0m\u001b[0m\n\u001b[0m\u001b[0;32m    663\u001b[0m \u001b[1;33m\u001b[0m\u001b[0m\n\u001b[0;32m    664\u001b[0m         \u001b[1;31m# Make sure self.hidden_layer_sizes is a list\u001b[0m\u001b[1;33m\u001b[0m\u001b[1;33m\u001b[0m\u001b[1;33m\u001b[0m\u001b[0m\n",
      "\u001b[1;32m~\\Anaconda3\\lib\\site-packages\\sklearn\\utils\\validation.py\u001b[0m in \u001b[0;36mcheck_array\u001b[1;34m(array, accept_sparse, accept_large_sparse, dtype, order, copy, force_all_finite, ensure_2d, allow_nd, ensure_min_samples, ensure_min_features, warn_on_dtype, estimator)\u001b[0m\n\u001b[0;32m    534\u001b[0m         \u001b[1;31m# make sure we actually converted to numeric:\u001b[0m\u001b[1;33m\u001b[0m\u001b[1;33m\u001b[0m\u001b[1;33m\u001b[0m\u001b[0m\n\u001b[0;32m    535\u001b[0m         \u001b[1;32mif\u001b[0m \u001b[0mdtype_numeric\u001b[0m \u001b[1;32mand\u001b[0m \u001b[0marray\u001b[0m\u001b[1;33m.\u001b[0m\u001b[0mdtype\u001b[0m\u001b[1;33m.\u001b[0m\u001b[0mkind\u001b[0m \u001b[1;33m==\u001b[0m \u001b[1;34m\"O\"\u001b[0m\u001b[1;33m:\u001b[0m\u001b[1;33m\u001b[0m\u001b[1;33m\u001b[0m\u001b[0m\n\u001b[1;32m--> 536\u001b[1;33m             \u001b[0marray\u001b[0m \u001b[1;33m=\u001b[0m \u001b[0marray\u001b[0m\u001b[1;33m.\u001b[0m\u001b[0mastype\u001b[0m\u001b[1;33m(\u001b[0m\u001b[0mnp\u001b[0m\u001b[1;33m.\u001b[0m\u001b[0mfloat64\u001b[0m\u001b[1;33m)\u001b[0m\u001b[1;33m\u001b[0m\u001b[1;33m\u001b[0m\u001b[0m\n\u001b[0m\u001b[0;32m    537\u001b[0m         \u001b[1;32mif\u001b[0m \u001b[1;32mnot\u001b[0m \u001b[0mallow_nd\u001b[0m \u001b[1;32mand\u001b[0m \u001b[0marray\u001b[0m\u001b[1;33m.\u001b[0m\u001b[0mndim\u001b[0m \u001b[1;33m>=\u001b[0m \u001b[1;36m3\u001b[0m\u001b[1;33m:\u001b[0m\u001b[1;33m\u001b[0m\u001b[1;33m\u001b[0m\u001b[0m\n\u001b[0;32m    538\u001b[0m             raise ValueError(\"Found array with dim %d. %s expected <= 2.\"\n",
      "\u001b[1;31mValueError\u001b[0m: could not convert string to float: "
     ]
    }
   ],
   "source": [
    "avd = [7]  ## range(1,8) för alla avdelningar, [2, 4] för 2 och 4\n",
    "\n",
    "if True:\n",
    "    #komplett=skrapa(avd, V75url)  \n",
    "    \n",
    "    df=pd.DataFrame(komplett)\n",
    "    df.columns=['datum','avd','häst', 'dist', 'start', 'spår', 'vodds', 'podds' , \n",
    "    'h1_plac', 'h1_dist', 'h1_spår', 'h1_odds',\n",
    "    'h2_plac', 'h2_dist', 'h2_spår', 'h2_odds',\n",
    "    'h3_plac', 'h3_dist', 'h3_spår', 'h3_odds',\n",
    "    'h4_plac', 'h4_dist', 'h4_spår', 'h4_odds',\n",
    "    'h5_plac', 'h5_dist', 'h5_spår', 'h5_odds']\n",
    "\n",
    "    df = ff.fix_features(df, False)\n",
    "    \n",
    "if True:  # kör resultat\n",
    "    \n",
    "    from catboost import Pool\n",
    "    poolUtan = Pool(\n",
    "        cat_features=['start', 'häst'],\n",
    "        data=df.drop(['vodds','datum','avd'],axis=1)\n",
    "    )\n",
    "    poolMed = Pool(\n",
    "        cat_features=['start', 'häst'],\n",
    "        data=df.drop(['datum','avd'],axis=1)\n",
    "    )\n",
    "    lim={   'regr': {'pool': poolUtan,'thresh': -0.9, 'odds_fr': 1.0, 'odds_to': 8.4},\n",
    "            'class':{'pool': poolUtan,'thresh': 1.2, 'odds_fr': 1.6, 'odds_to': 20.1, 'proba_lim':0}, \n",
    "        }\n",
    "    \n",
    "    #LÄS IN MODELLER\n",
    "    #modellpath = 'C:\\\\Users/peter/Documents/MyProjects/PyProj/Trav/Modeller/'\n",
    "    modellpath =  'C:\\\\Users/peter/Google Drive/Colab Notebooks/Småprojekt/'\n",
    "    \n",
    "    res = resultat(lim['regr']['pool'], 'CatB_regr7.model', modellpath)     \n",
    "    #res_proba = resultat_proba(poolUtan, 'CatB_class8.model', modellpath)     \n",
    "    res_proba = resultat_proba(df.drop(['häst','avd','datum'],axis=1), 'NN_class2.model', modellpath)     \n",
    "\n",
    "\n",
    "    #BESTÄM REGR RESULTAT\n",
    "    df['regr_res'] = res\n",
    "    df['regr_vodds']=df.vodds >= lim['regr']['odds_fr'] \n",
    "    df['regr_vodds']=df.regr_vodds * (df.vodds <= lim['regr']['odds_to'] ) \n",
    "    df['regr_satsa']=df.regr_res >= lim['regr']['thresh']\n",
    "    df['regr_satsa']=df.regr_satsa * df.regr_vodds\n",
    "\n",
    "    #BESTÄM CLASS RESULTAT\n",
    "    df['proba_res'] = res_proba\n",
    "    df['proba_vodds']=df.vodds >= lim['class']['odds_fr'] \n",
    "    df['proba_vodds']=df.proba_vodds * (df.vodds <= lim['class']['odds_to'] ) \n",
    "    df['proba_förv'] = res_proba * df.vodds\n",
    "    df['proba_satsa']=df.proba_förv >= lim['class']['thresh']\n",
    "    df['proba_satsa']=df.proba_satsa * (df.proba_res >= lim['class']['proba_lim'] )\n",
    "    df['proba_satsa']=df.proba_satsa * df.proba_vodds\n",
    "\n",
    "    #SKRIV UT RESULTAT\n",
    "    mycolumns=pd.Series(df.columns[-1:]).append(pd.Series(df.columns[:-1]))\n",
    "    df=df[mycolumns]  # flytta 'satsa' till först bland kolumner\n",
    "    lopp_path='C:\\\\Users/peter/Documents/MyProjects/PyProj/Trav/'\n",
    "    spara(df,lopp_path,omg_sav,avd)\n",
    "    print(\"\\nATT SPELA PÅ\")\n",
    "    print(df.loc[(df.regr_satsa==True) | (df.proba_satsa==True) ,['avd','häst','regr_satsa', 'proba_satsa']])\n",
    "    print()\n",
    "    \n",
    "    df[['avd','häst','vodds','regr_res','regr_vodds','proba_res','proba_vodds',  'regr_satsa', 'proba_satsa']].head(60)\n"
   ]
  },
  {
   "cell_type": "code",
   "execution_count": null,
   "metadata": {
    "scrolled": true
   },
   "outputs": [],
   "source": [
    "df[['avd','häst','vodds','regr_res','regr_vodds','proba_res','proba_vodds',  'regr_satsa', 'proba_satsa']].head(60)"
   ]
  },
  {
   "cell_type": "code",
   "execution_count": null,
   "metadata": {},
   "outputs": [],
   "source": [
    "df[['avd','häst','vodds','regr_res','regr_vodds','proba_res','proba_vodds',  'regr_satsa', 'proba_satsa']].tail(25)"
   ]
  },
  {
   "cell_type": "code",
   "execution_count": null,
   "metadata": {},
   "outputs": [],
   "source": [
    "df.drop(['häst','avd','datum'],axis=1).info()"
   ]
  },
  {
   "cell_type": "code",
   "execution_count": null,
   "metadata": {},
   "outputs": [],
   "source": [
    "driver.quit()"
   ]
  },
  {
   "cell_type": "code",
   "execution_count": null,
   "metadata": {},
   "outputs": [],
   "source": [
    "df.loc[df.h1_odds == '', 'h1_odds'] = df.loc[df.h1_odds == '','h1_odds'].apply(lambda x: np.nan)\n",
    "df.h1_odds.astype('float')"
   ]
  },
  {
   "cell_type": "code",
   "execution_count": null,
   "metadata": {},
   "outputs": [],
   "source": [
    "\n",
    "\n",
    "    \n",
    "\n"
   ]
  },
  {
   "cell_type": "code",
   "execution_count": null,
   "metadata": {},
   "outputs": [],
   "source": [
    "import fixa_features as fff\n",
    "fff.fix_features(df,True)"
   ]
  },
  {
   "cell_type": "code",
   "execution_count": null,
   "metadata": {},
   "outputs": [],
   "source": [
    "lues"
   ]
  },
  {
   "cell_type": "code",
   "execution_count": 20,
   "metadata": {},
   "outputs": [],
   "source": [
    "import numpy as np"
   ]
  },
  {
   "cell_type": "code",
   "execution_count": 22,
   "metadata": {},
   "outputs": [
    {
     "data": {
      "text/plain": [
       "'1.16.5'"
      ]
     },
     "execution_count": 22,
     "metadata": {},
     "output_type": "execute_result"
    }
   ],
   "source": [
    "np.__version__"
   ]
  },
  {
   "cell_type": "code",
   "execution_count": null,
   "metadata": {},
   "outputs": [],
   "source": []
  }
 ],
 "metadata": {
  "kernelspec": {
   "display_name": "Python 3.7.4 64-bit ('base': conda)",
   "language": "python",
   "name": "python37464bitbaseconda28516eb7b1ad4f7498fc5db163b41db8"
  },
  "language_info": {
   "codemirror_mode": {
    "name": "ipython",
    "version": 3
   },
   "file_extension": ".py",
   "mimetype": "text/x-python",
   "name": "python",
   "nbconvert_exporter": "python",
   "pygments_lexer": "ipython3",
   "version": "3.7.4"
  }
 },
 "nbformat": 4,
 "nbformat_minor": 2
}
