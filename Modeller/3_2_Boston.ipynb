{
  "nbformat": 4,
  "nbformat_minor": 0,
  "metadata": {
    "colab": {
      "name": "3.2 Boston",
      "provenance": [],
      "collapsed_sections": []
    },
    "kernelspec": {
      "name": "python3",
      "display_name": "Python 3",
      "language": "python"
    }
  },
  "cells": [
    {
      "cell_type": "code",
      "execution_count": null,
      "metadata": {},
      "outputs": [],
      "source": []
    },
    {
      "cell_type": "markdown",
      "metadata": {
        "id": "Fgx8amIJXZlE"
      },
      "source": [
        "# Exampel of Linear Regression with different methods\n",
        "\n",
        "##       - We will look at how to prepare your data\n",
        "##       - How to create a Linear Regression model with sklearn in Pandas\n",
        "  - What is a model\n",
        "  - How evaluate it's performance\n",
        "  -Some insights in alternative methods\n",
        "\n",
        "\n",
        "[Training data from Kaggle](https://www.kaggle.com/c/house-prices-advanced-regression-techniques/overview   )\n",
        "\n",
        "\n",
        "---\n",
        "</br>  \n"
      ]
    },
    {
      "cell_type": "code",
      "metadata": {
        "id": "uhqQ6uMZXZlH",
        "colab": {
          "base_uri": "https://localhost:8080/",
          "height": 224
        },
        "outputId": "7bbd7b16-3e0f-4af8-d07b-cfc7bbab4d0b"
      },
      "source": [
        "# först behöver vi python-biblioteket pandas och kommer att kalla det pd\n",
        "# samt numpy-bibliotetket numpy och vi kallar det np\n",
        "import numpy as np\n",
        "import pandas as pd\n",
        "\n",
        "# nu laddar vi in båda csv-filerna \n",
        "# De kommer från kaggle\n",
        "\n",
        "urlTrain=\"https://raw.githubusercontent.com/carokanns/ML/master/train.csv\"\n",
        "urlTest = \"https://raw.githubusercontent.com/carokanns/ML/master/test.csv\"\n",
        "\n",
        "# Här skapar vi två DataFrame\"\n",
        "hus=pd.read_csv(urlTrain)   # Our house data  \n",
        "KaggleTest=pd.read_csv(urlTest)  # Kaggle test (that we will not use more than to look at)\n",
        "KaggleTest.head()\n"
      ],
      "execution_count": 25,
      "outputs": [
        {
          "output_type": "execute_result",
          "data": {
            "text/plain": [
              "     Id  MSSubClass MSZoning  LotFrontage  LotArea Street Alley LotShape  \\\n",
              "0  1461          20       RH         80.0    11622   Pave   NaN      Reg   \n",
              "1  1462          20       RL         81.0    14267   Pave   NaN      IR1   \n",
              "2  1463          60       RL         74.0    13830   Pave   NaN      IR1   \n",
              "3  1464          60       RL         78.0     9978   Pave   NaN      IR1   \n",
              "4  1465         120       RL         43.0     5005   Pave   NaN      IR1   \n",
              "\n",
              "  LandContour Utilities  ... ScreenPorch PoolArea PoolQC  Fence MiscFeature  \\\n",
              "0         Lvl    AllPub  ...         120        0    NaN  MnPrv         NaN   \n",
              "1         Lvl    AllPub  ...           0        0    NaN    NaN        Gar2   \n",
              "2         Lvl    AllPub  ...           0        0    NaN  MnPrv         NaN   \n",
              "3         Lvl    AllPub  ...           0        0    NaN    NaN         NaN   \n",
              "4         HLS    AllPub  ...         144        0    NaN    NaN         NaN   \n",
              "\n",
              "  MiscVal MoSold  YrSold  SaleType  SaleCondition  \n",
              "0       0      6    2010        WD         Normal  \n",
              "1   12500      6    2010        WD         Normal  \n",
              "2       0      3    2010        WD         Normal  \n",
              "3       0      6    2010        WD         Normal  \n",
              "4       0      1    2010        WD         Normal  \n",
              "\n",
              "[5 rows x 80 columns]"
            ],
            "text/html": "<div>\n<style scoped>\n    .dataframe tbody tr th:only-of-type {\n        vertical-align: middle;\n    }\n\n    .dataframe tbody tr th {\n        vertical-align: top;\n    }\n\n    .dataframe thead th {\n        text-align: right;\n    }\n</style>\n<table border=\"1\" class=\"dataframe\">\n  <thead>\n    <tr style=\"text-align: right;\">\n      <th></th>\n      <th>Id</th>\n      <th>MSSubClass</th>\n      <th>MSZoning</th>\n      <th>LotFrontage</th>\n      <th>LotArea</th>\n      <th>Street</th>\n      <th>Alley</th>\n      <th>LotShape</th>\n      <th>LandContour</th>\n      <th>Utilities</th>\n      <th>...</th>\n      <th>ScreenPorch</th>\n      <th>PoolArea</th>\n      <th>PoolQC</th>\n      <th>Fence</th>\n      <th>MiscFeature</th>\n      <th>MiscVal</th>\n      <th>MoSold</th>\n      <th>YrSold</th>\n      <th>SaleType</th>\n      <th>SaleCondition</th>\n    </tr>\n  </thead>\n  <tbody>\n    <tr>\n      <th>0</th>\n      <td>1461</td>\n      <td>20</td>\n      <td>RH</td>\n      <td>80.0</td>\n      <td>11622</td>\n      <td>Pave</td>\n      <td>NaN</td>\n      <td>Reg</td>\n      <td>Lvl</td>\n      <td>AllPub</td>\n      <td>...</td>\n      <td>120</td>\n      <td>0</td>\n      <td>NaN</td>\n      <td>MnPrv</td>\n      <td>NaN</td>\n      <td>0</td>\n      <td>6</td>\n      <td>2010</td>\n      <td>WD</td>\n      <td>Normal</td>\n    </tr>\n    <tr>\n      <th>1</th>\n      <td>1462</td>\n      <td>20</td>\n      <td>RL</td>\n      <td>81.0</td>\n      <td>14267</td>\n      <td>Pave</td>\n      <td>NaN</td>\n      <td>IR1</td>\n      <td>Lvl</td>\n      <td>AllPub</td>\n      <td>...</td>\n      <td>0</td>\n      <td>0</td>\n      <td>NaN</td>\n      <td>NaN</td>\n      <td>Gar2</td>\n      <td>12500</td>\n      <td>6</td>\n      <td>2010</td>\n      <td>WD</td>\n      <td>Normal</td>\n    </tr>\n    <tr>\n      <th>2</th>\n      <td>1463</td>\n      <td>60</td>\n      <td>RL</td>\n      <td>74.0</td>\n      <td>13830</td>\n      <td>Pave</td>\n      <td>NaN</td>\n      <td>IR1</td>\n      <td>Lvl</td>\n      <td>AllPub</td>\n      <td>...</td>\n      <td>0</td>\n      <td>0</td>\n      <td>NaN</td>\n      <td>MnPrv</td>\n      <td>NaN</td>\n      <td>0</td>\n      <td>3</td>\n      <td>2010</td>\n      <td>WD</td>\n      <td>Normal</td>\n    </tr>\n    <tr>\n      <th>3</th>\n      <td>1464</td>\n      <td>60</td>\n      <td>RL</td>\n      <td>78.0</td>\n      <td>9978</td>\n      <td>Pave</td>\n      <td>NaN</td>\n      <td>IR1</td>\n      <td>Lvl</td>\n      <td>AllPub</td>\n      <td>...</td>\n      <td>0</td>\n      <td>0</td>\n      <td>NaN</td>\n      <td>NaN</td>\n      <td>NaN</td>\n      <td>0</td>\n      <td>6</td>\n      <td>2010</td>\n      <td>WD</td>\n      <td>Normal</td>\n    </tr>\n    <tr>\n      <th>4</th>\n      <td>1465</td>\n      <td>120</td>\n      <td>RL</td>\n      <td>43.0</td>\n      <td>5005</td>\n      <td>Pave</td>\n      <td>NaN</td>\n      <td>IR1</td>\n      <td>HLS</td>\n      <td>AllPub</td>\n      <td>...</td>\n      <td>144</td>\n      <td>0</td>\n      <td>NaN</td>\n      <td>NaN</td>\n      <td>NaN</td>\n      <td>0</td>\n      <td>1</td>\n      <td>2010</td>\n      <td>WD</td>\n      <td>Normal</td>\n    </tr>\n  </tbody>\n</table>\n<p>5 rows × 80 columns</p>\n</div>"
          },
          "metadata": {},
          "execution_count": 25
        }
      ]
    },
    {
      "cell_type": "markdown",
      "metadata": {
        "id": "Z2tfshhaG_Ab"
      },
      "source": [
        "Note that there is no SalePrice in Ktest. This is the file that Kaggle want you to run and upload in order to participate. "
      ]
    },
    {
      "source": [
        "# Testar Pipelines här"
      ],
      "cell_type": "markdown",
      "metadata": {}
    },
    {
      "cell_type": "code",
      "execution_count": 26,
      "metadata": {},
      "outputs": [
        {
          "output_type": "stream",
          "name": "stdout",
          "text": [
            "<class 'pandas.core.frame.DataFrame'>\nRangeIndex: 1460 entries, 0 to 1459\nData columns (total 81 columns):\n #   Column         Non-Null Count  Dtype  \n---  ------         --------------  -----  \n 0   Id             1460 non-null   int64  \n 1   MSSubClass     1460 non-null   int64  \n 2   MSZoning       1460 non-null   object \n 3   LotFrontage    1201 non-null   float64\n 4   LotArea        1460 non-null   int64  \n 5   Street         1460 non-null   object \n 6   Alley          91 non-null     object \n 7   LotShape       1460 non-null   object \n 8   LandContour    1460 non-null   object \n 9   Utilities      1460 non-null   object \n 10  LotConfig      1460 non-null   object \n 11  LandSlope      1460 non-null   object \n 12  Neighborhood   1460 non-null   object \n 13  Condition1     1460 non-null   object \n 14  Condition2     1460 non-null   object \n 15  BldgType       1460 non-null   object \n 16  HouseStyle     1460 non-null   object \n 17  OverallQual    1460 non-null   int64  \n 18  OverallCond    1460 non-null   int64  \n 19  YearBuilt      1460 non-null   int64  \n 20  YearRemodAdd   1460 non-null   int64  \n 21  RoofStyle      1460 non-null   object \n 22  RoofMatl       1460 non-null   object \n 23  Exterior1st    1460 non-null   object \n 24  Exterior2nd    1460 non-null   object \n 25  MasVnrType     1452 non-null   object \n 26  MasVnrArea     1452 non-null   float64\n 27  ExterQual      1460 non-null   object \n 28  ExterCond      1460 non-null   object \n 29  Foundation     1460 non-null   object \n 30  BsmtQual       1423 non-null   object \n 31  BsmtCond       1423 non-null   object \n 32  BsmtExposure   1422 non-null   object \n 33  BsmtFinType1   1423 non-null   object \n 34  BsmtFinSF1     1460 non-null   int64  \n 35  BsmtFinType2   1422 non-null   object \n 36  BsmtFinSF2     1460 non-null   int64  \n 37  BsmtUnfSF      1460 non-null   int64  \n 38  TotalBsmtSF    1460 non-null   int64  \n 39  Heating        1460 non-null   object \n 40  HeatingQC      1460 non-null   object \n 41  CentralAir     1460 non-null   object \n 42  Electrical     1459 non-null   object \n 43  1stFlrSF       1460 non-null   int64  \n 44  2ndFlrSF       1460 non-null   int64  \n 45  LowQualFinSF   1460 non-null   int64  \n 46  GrLivArea      1460 non-null   int64  \n 47  BsmtFullBath   1460 non-null   int64  \n 48  BsmtHalfBath   1460 non-null   int64  \n 49  FullBath       1460 non-null   int64  \n 50  HalfBath       1460 non-null   int64  \n 51  BedroomAbvGr   1460 non-null   int64  \n 52  KitchenAbvGr   1460 non-null   int64  \n 53  KitchenQual    1460 non-null   object \n 54  TotRmsAbvGrd   1460 non-null   int64  \n 55  Functional     1460 non-null   object \n 56  Fireplaces     1460 non-null   int64  \n 57  FireplaceQu    770 non-null    object \n 58  GarageType     1379 non-null   object \n 59  GarageYrBlt    1379 non-null   float64\n 60  GarageFinish   1379 non-null   object \n 61  GarageCars     1460 non-null   int64  \n 62  GarageArea     1460 non-null   int64  \n 63  GarageQual     1379 non-null   object \n 64  GarageCond     1379 non-null   object \n 65  PavedDrive     1460 non-null   object \n 66  WoodDeckSF     1460 non-null   int64  \n 67  OpenPorchSF    1460 non-null   int64  \n 68  EnclosedPorch  1460 non-null   int64  \n 69  3SsnPorch      1460 non-null   int64  \n 70  ScreenPorch    1460 non-null   int64  \n 71  PoolArea       1460 non-null   int64  \n 72  PoolQC         7 non-null      object \n 73  Fence          281 non-null    object \n 74  MiscFeature    54 non-null     object \n 75  MiscVal        1460 non-null   int64  \n 76  MoSold         1460 non-null   int64  \n 77  YrSold         1460 non-null   int64  \n 78  SaleType       1460 non-null   object \n 79  SaleCondition  1460 non-null   object \n 80  SalePrice      1460 non-null   int64  \ndtypes: float64(3), int64(35), object(43)\nmemory usage: 924.0+ KB\n"
          ]
        }
      ],
      "source": [
        "hus.info()"
      ]
    },
    {
      "cell_type": "code",
      "execution_count": 27,
      "metadata": {},
      "outputs": [],
      "source": [
        "y= hus['SalePrice']\n",
        "X= hus.drop(['SalePrice','Id'],axis=1)\n",
        "    "
      ]
    },
    {
      "cell_type": "code",
      "execution_count": null,
      "metadata": {},
      "outputs": [],
      "source": []
    },
    {
      "cell_type": "code",
      "execution_count": 28,
      "metadata": {
        "tags": []
      },
      "outputs": [
        {
          "output_type": "stream",
          "name": "stdout",
          "text": [
            "Learning rate set to 0.04745\n",
            "0:\tlearn: 78943.8242762\ttest: 67829.0251166\tbest: 67829.0251166 (0)\ttotal: 73.3ms\tremaining: 1m 13s\n",
            "100:\tlearn: 22403.1461677\ttest: 26398.3953761\tbest: 26388.4719041 (97)\ttotal: 10.2s\tremaining: 1m 31s\n",
            "200:\tlearn: 16824.4835166\ttest: 25464.2691616\tbest: 25464.2691616 (200)\ttotal: 20.6s\tremaining: 1m 21s\n",
            "300:\tlearn: 14179.0761421\ttest: 25203.3822573\tbest: 25203.3822573 (300)\ttotal: 30.9s\tremaining: 1m 11s\n",
            "400:\tlearn: 12336.2011627\ttest: 25070.7700106\tbest: 25070.7700106 (400)\ttotal: 41.3s\tremaining: 1m 1s\n",
            "500:\tlearn: 11098.4513616\ttest: 25143.3778367\tbest: 25058.4870571 (456)\ttotal: 51.9s\tremaining: 51.7s\n",
            "600:\tlearn: 10082.4880817\ttest: 25270.0367995\tbest: 25058.4870571 (456)\ttotal: 1m 2s\tremaining: 41.4s\n",
            "Stopped by overfitting detector  (200 iterations wait)\n",
            "\n",
            "bestTest = 25058.48706\n",
            "bestIteration = 456\n",
            "\n",
            "Shrink model to first 457 iterations.\n"
          ]
        },
        {
          "output_type": "execute_result",
          "data": {
            "text/plain": [
              "<catboost.core.CatBoostRegressor at 0x274de660490>"
            ]
          },
          "metadata": {},
          "execution_count": 28
        }
      ],
      "source": [
        "# Använd catBoost för att bestämma feature_importance för att veta ilka kolumner som är bäst\n",
        "from sklearn.impute import SimpleImputer\n",
        "from catboost import CatBoostRegressor,Pool\n",
        "from sklearn.model_selection import train_test_split\n",
        "\n",
        "cat_features = X.select_dtypes(include='O').columns.tolist()\n",
        "imp = SimpleImputer(strategy='constant',fill_value='aNAN')\n",
        "\n",
        "cats = pd.DataFrame(imp.fit_transform(X[cat_features]),columns=cat_features)\n",
        "nums = X.drop(cat_features,axis=1)\n",
        "nums.shape\n",
        "Xt=pd.concat([cats,nums],axis=1)\n",
        "\n",
        "X_train, X_test, y_train, y_test = train_test_split(Xt, y, random_state=3, test_size=0.20)\n",
        "\n",
        "train_pool=Pool(data=X_train, label=y_train, cat_features=cat_features)\n",
        "test_pool = Pool(data=X_test.copy(), label=y_test, cat_features=cat_features)\n",
        "cr = CatBoostRegressor()\n",
        "\n",
        "cr.fit(train_pool,eval_set=test_pool,\n",
        "        use_best_model=True,\n",
        "        early_stopping_rounds=200,\n",
        "        verbose=100)\n"
      ]
    },
    {
      "cell_type": "code",
      "execution_count": 29,
      "metadata": {},
      "outputs": [
        {
          "output_type": "execute_result",
          "data": {
            "text/plain": [
              "      Feature Id  Importances\n",
              "0    OverallQual    21.205186\n",
              "1      GrLivArea    15.250622\n",
              "2       1stFlrSF     6.134727\n",
              "3    TotalBsmtSF     4.618628\n",
              "4     GarageCars     4.272173\n",
              "5       BsmtQual     4.076550\n",
              "6     BsmtFinSF1     3.968200\n",
              "7        LotArea     2.880302\n",
              "8       2ndFlrSF     2.836166\n",
              "9    FireplaceQu     2.658106\n",
              "10  TotRmsAbvGrd     2.327416\n",
              "11     ExterQual     2.179387\n",
              "12   KitchenQual     2.030807\n",
              "13   GarageYrBlt     1.760915\n",
              "14      FullBath     1.668160\n",
              "15   OverallCond     1.447920\n",
              "16     YearBuilt     1.447363\n",
              "17   OpenPorchSF     1.331175\n",
              "18  BsmtExposure     1.113779\n",
              "19  GarageFinish     1.052743\n",
              "20  YearRemodAdd     1.031914\n",
              "21    GarageArea     0.960508\n",
              "22      MSZoning     0.933576\n",
              "23    Fireplaces     0.799799\n",
              "24  Neighborhood     0.791202"
            ],
            "text/html": "<div>\n<style scoped>\n    .dataframe tbody tr th:only-of-type {\n        vertical-align: middle;\n    }\n\n    .dataframe tbody tr th {\n        vertical-align: top;\n    }\n\n    .dataframe thead th {\n        text-align: right;\n    }\n</style>\n<table border=\"1\" class=\"dataframe\">\n  <thead>\n    <tr style=\"text-align: right;\">\n      <th></th>\n      <th>Feature Id</th>\n      <th>Importances</th>\n    </tr>\n  </thead>\n  <tbody>\n    <tr>\n      <th>0</th>\n      <td>OverallQual</td>\n      <td>21.205186</td>\n    </tr>\n    <tr>\n      <th>1</th>\n      <td>GrLivArea</td>\n      <td>15.250622</td>\n    </tr>\n    <tr>\n      <th>2</th>\n      <td>1stFlrSF</td>\n      <td>6.134727</td>\n    </tr>\n    <tr>\n      <th>3</th>\n      <td>TotalBsmtSF</td>\n      <td>4.618628</td>\n    </tr>\n    <tr>\n      <th>4</th>\n      <td>GarageCars</td>\n      <td>4.272173</td>\n    </tr>\n    <tr>\n      <th>5</th>\n      <td>BsmtQual</td>\n      <td>4.076550</td>\n    </tr>\n    <tr>\n      <th>6</th>\n      <td>BsmtFinSF1</td>\n      <td>3.968200</td>\n    </tr>\n    <tr>\n      <th>7</th>\n      <td>LotArea</td>\n      <td>2.880302</td>\n    </tr>\n    <tr>\n      <th>8</th>\n      <td>2ndFlrSF</td>\n      <td>2.836166</td>\n    </tr>\n    <tr>\n      <th>9</th>\n      <td>FireplaceQu</td>\n      <td>2.658106</td>\n    </tr>\n    <tr>\n      <th>10</th>\n      <td>TotRmsAbvGrd</td>\n      <td>2.327416</td>\n    </tr>\n    <tr>\n      <th>11</th>\n      <td>ExterQual</td>\n      <td>2.179387</td>\n    </tr>\n    <tr>\n      <th>12</th>\n      <td>KitchenQual</td>\n      <td>2.030807</td>\n    </tr>\n    <tr>\n      <th>13</th>\n      <td>GarageYrBlt</td>\n      <td>1.760915</td>\n    </tr>\n    <tr>\n      <th>14</th>\n      <td>FullBath</td>\n      <td>1.668160</td>\n    </tr>\n    <tr>\n      <th>15</th>\n      <td>OverallCond</td>\n      <td>1.447920</td>\n    </tr>\n    <tr>\n      <th>16</th>\n      <td>YearBuilt</td>\n      <td>1.447363</td>\n    </tr>\n    <tr>\n      <th>17</th>\n      <td>OpenPorchSF</td>\n      <td>1.331175</td>\n    </tr>\n    <tr>\n      <th>18</th>\n      <td>BsmtExposure</td>\n      <td>1.113779</td>\n    </tr>\n    <tr>\n      <th>19</th>\n      <td>GarageFinish</td>\n      <td>1.052743</td>\n    </tr>\n    <tr>\n      <th>20</th>\n      <td>YearRemodAdd</td>\n      <td>1.031914</td>\n    </tr>\n    <tr>\n      <th>21</th>\n      <td>GarageArea</td>\n      <td>0.960508</td>\n    </tr>\n    <tr>\n      <th>22</th>\n      <td>MSZoning</td>\n      <td>0.933576</td>\n    </tr>\n    <tr>\n      <th>23</th>\n      <td>Fireplaces</td>\n      <td>0.799799</td>\n    </tr>\n    <tr>\n      <th>24</th>\n      <td>Neighborhood</td>\n      <td>0.791202</td>\n    </tr>\n  </tbody>\n</table>\n</div>"
          },
          "metadata": {},
          "execution_count": 29
        }
      ],
      "source": [
        "cr.get_feature_importance(prettified=True).head(25)"
      ]
    },
    {
      "cell_type": "code",
      "execution_count": 30,
      "metadata": {},
      "outputs": [
        {
          "output_type": "stream",
          "name": "stdout",
          "text": [
            "['OverallQual', 'GrLivArea', '1stFlrSF', 'TotalBsmtSF', 'GarageCars', 'BsmtQual', 'BsmtFinSF1', 'LotArea', '2ndFlrSF', 'FireplaceQu', 'GarageYrBlt']\n"
          ]
        }
      ],
      "source": [
        "# selektera de 10 \"bästa\" (feature_importance)\n",
        "selected_features=cr.get_feature_importance(prettified=True).iloc[:10,0].values.tolist()\n",
        "selected_features += ['GarageYrBlt']   # one numeric with missing values\n",
        "print(selected_features)\n"
      ]
    },
    {
      "source": [
        "# Nu har vi valt 11 st kolumner att labba med"
      ],
      "cell_type": "markdown",
      "metadata": {}
    },
    {
      "cell_type": "code",
      "execution_count": 31,
      "metadata": {},
      "outputs": [
        {
          "output_type": "stream",
          "name": "stdout",
          "text": [
            "<class 'pandas.core.frame.DataFrame'>\nRangeIndex: 1460 entries, 0 to 1459\nData columns (total 11 columns):\n #   Column       Non-Null Count  Dtype  \n---  ------       --------------  -----  \n 0   OverallQual  1460 non-null   int64  \n 1   GrLivArea    1460 non-null   int64  \n 2   1stFlrSF     1460 non-null   int64  \n 3   TotalBsmtSF  1460 non-null   int64  \n 4   GarageCars   1460 non-null   int64  \n 5   BsmtQual     1423 non-null   object \n 6   BsmtFinSF1   1460 non-null   int64  \n 7   LotArea      1460 non-null   int64  \n 8   2ndFlrSF     1460 non-null   int64  \n 9   FireplaceQu  770 non-null    object \n 10  GarageYrBlt  1379 non-null   float64\ndtypes: float64(1), int64(8), object(2)\nmemory usage: 125.6+ KB\n"
          ]
        }
      ],
      "source": [
        "# Börja om från början med originalet\n",
        "y= hus['SalePrice']\n",
        "X= hus[selected_features]\n",
        "\n",
        "X.info()\n"
      ]
    },
    {
      "cell_type": "code",
      "execution_count": 32,
      "metadata": {},
      "outputs": [
        {
          "output_type": "stream",
          "name": "stdout",
          "text": [
            "TA    649\nGd    618\nEx    121\nFa     35\nName: BsmtQual, dtype: int64\nNANs: 37\nNANs: 0\n"
          ]
        }
      ],
      "source": [
        "# hantera nans i icke numeriska (categorical) features 'BsmtQual' och 'FireplaceQu'\n",
        "#### BsmtQual ####\n",
        "# Ex\tExcellent (100+ inches)\t\n",
        "# Gd\tGood (90-99 inches)\n",
        "# TA\tTypical (80-89 inches)\n",
        "# Fa\tFair (70-79 inches)\n",
        "# Po\tPoor (<70 inches\n",
        "# NA\tNo Basement\n",
        "\n",
        "print(X.BsmtQual.value_counts())\n",
        "print(f'NANs: {X.BsmtQual.isna().sum()}')\n",
        "\n",
        "imp = SimpleImputer(strategy='most_frequent')\n",
        "X.BsmtQual=imp.fit_transform(X[['BsmtQual']])\n",
        "\n",
        "print(f'NANs: {X.BsmtQual.isna().sum()}')\n"
      ]
    },
    {
      "cell_type": "code",
      "execution_count": 33,
      "metadata": {},
      "outputs": [
        {
          "output_type": "stream",
          "name": "stdout",
          "text": [
            "Gd    380\nTA    313\nFa     33\nEx     24\nPo     20\nName: FireplaceQu, dtype: int64\nNANs: 690\nNANs: 0\n"
          ]
        }
      ],
      "source": [
        "# hantera nans i icke numeriska (categorical) features 'BsmtQual' och 'FireplaceQu'\n",
        "#### FireplaceQu ####\n",
        "# Ex\tExcellent - Exceptional Masonry Fireplace\n",
        "# Gd\tGood - Masonry Fireplace in main level\n",
        "# TA\tAverage - Prefabricated Fireplace in main living area or Masonry Fireplace in basement\n",
        "# Fa\tFair - Prefabricated Fireplace in basement\n",
        "# Po\tPoor - Ben Franklin Stove\n",
        "# NA\tNo FireplaceX.BsmtQual.value_counts()\n",
        "print(X.FireplaceQu.value_counts())\n",
        "print(f'NANs: {X.FireplaceQu.isna().sum()}')\n",
        "\n",
        "imp = SimpleImputer(strategy='constant', fill_value=\"TA\") # För omväxlings skull\n",
        "X.FireplaceQu=imp.fit_transform(X[['FireplaceQu']])\n",
        "\n",
        "print(f'NANs: {X.FireplaceQu.isna().sum()}')\n"
      ]
    },
    {
      "cell_type": "code",
      "execution_count": 34,
      "metadata": {},
      "outputs": [
        {
          "output_type": "stream",
          "name": "stdout",
          "text": [
            "Första testet: CatBoost får själv hanter GarageYrBlt Nan\nNANs: 81\n"
          ]
        }
      ],
      "source": [
        "X[X.GarageYrBlt.isna()].shape[0] == X[X.GarageCars==0].shape[0]\n",
        "\n",
        "### Vi kan förutsätta att NaN i GarageYrBlt betyder att Garage saknas \n",
        "### Antagligen kan vi sätta GarageYrBlt bättre än CatBoost, genom att sätta till 0\n",
        "\n",
        "print(\"Första testet: CatBoost får själv hanter GarageYrBlt Nan\")\n",
        "print(f'NANs: {X.GarageYrBlt.isna().sum()}')\n"
      ]
    },
    {
      "cell_type": "code",
      "execution_count": 35,
      "metadata": {},
      "outputs": [
        {
          "output_type": "execute_result",
          "data": {
            "text/plain": [
              "OverallQual     0\n",
              "GrLivArea       0\n",
              "1stFlrSF        0\n",
              "TotalBsmtSF     0\n",
              "GarageCars      0\n",
              "BsmtQual        0\n",
              "BsmtFinSF1      0\n",
              "LotArea         0\n",
              "2ndFlrSF        0\n",
              "FireplaceQu     0\n",
              "GarageYrBlt    81\n",
              "dtype: int64"
            ]
          },
          "metadata": {},
          "execution_count": 35
        }
      ],
      "source": [
        "X.isna().sum()\n",
        "# Inga Nan kvar"
      ]
    },
    {
      "cell_type": "code",
      "execution_count": 36,
      "metadata": {},
      "outputs": [
        {
          "output_type": "stream",
          "name": "stdout",
          "text": [
            "Learning rate set to 0.04745\n",
            "0:\tlearn: 79148.1289977\ttest: 68202.5324940\tbest: 68202.5324940 (0)\ttotal: 73.7ms\tremaining: 1m 13s\n",
            "100:\tlearn: 23396.4313627\ttest: 27698.5424084\tbest: 27698.5424084 (100)\ttotal: 7.07s\tremaining: 1m 2s\n",
            "200:\tlearn: 19784.4772263\ttest: 26899.0584221\tbest: 26879.6153149 (198)\ttotal: 14s\tremaining: 55.6s\n",
            "300:\tlearn: 17321.9434111\ttest: 26368.6892920\tbest: 26351.2067018 (298)\ttotal: 21.1s\tremaining: 49.1s\n",
            "400:\tlearn: 15363.4448253\ttest: 26137.2085404\tbest: 26111.2634259 (353)\ttotal: 28.3s\tremaining: 42.3s\n",
            "500:\tlearn: 14061.2821697\ttest: 26118.0744727\tbest: 26111.2634259 (353)\ttotal: 35.5s\tremaining: 35.3s\n",
            "600:\tlearn: 12978.5537146\ttest: 26230.6631609\tbest: 26091.6744985 (525)\ttotal: 42.6s\tremaining: 28.3s\n",
            "700:\tlearn: 12077.9161572\ttest: 26210.9895108\tbest: 26091.6744985 (525)\ttotal: 49.6s\tremaining: 21.1s\n",
            "Stopped by overfitting detector  (200 iterations wait)\n",
            "\n",
            "bestTest = 26091.6745\n",
            "bestIteration = 525\n",
            "\n",
            "Shrink model to first 526 iterations.\n"
          ]
        },
        {
          "output_type": "execute_result",
          "data": {
            "text/plain": [
              "<catboost.core.CatBoostRegressor at 0x274dccc5fa0>"
            ]
          },
          "metadata": {},
          "execution_count": 36
        }
      ],
      "source": [
        "X_train, X_test, y_train, y_test = train_test_split(X, y, random_state=3, test_size=0.20)\n",
        "\n",
        "train_pool=Pool(data=X_train, label=y_train, cat_features=['BsmtQual', 'FireplaceQu'])\n",
        "test_pool = Pool(data=X_test.copy(), label=y_test, cat_features=['BsmtQual', 'FireplaceQu'])\n",
        "cr = CatBoostRegressor()\n",
        "\n",
        "cr.fit(train_pool,eval_set=test_pool,\n",
        "        use_best_model=True,\n",
        "        early_stopping_rounds=200,\n",
        "        verbose=100)\n"
      ]
    },
    {
      "cell_type": "code",
      "execution_count": 37,
      "metadata": {},
      "outputs": [
        {
          "output_type": "execute_result",
          "data": {
            "text/plain": [
              "     Feature Id  Importances\n",
              "0   OverallQual    24.561414\n",
              "1     GrLivArea    15.031766\n",
              "2      2ndFlrSF    10.966465\n",
              "3   TotalBsmtSF     9.839796\n",
              "4      BsmtQual     7.648170\n",
              "5    BsmtFinSF1     7.235856\n",
              "6       LotArea     6.731918\n",
              "7      1stFlrSF     6.687291\n",
              "8   GarageYrBlt     6.050036\n",
              "9    GarageCars     4.104483\n",
              "10  FireplaceQu     1.142805"
            ],
            "text/html": "<div>\n<style scoped>\n    .dataframe tbody tr th:only-of-type {\n        vertical-align: middle;\n    }\n\n    .dataframe tbody tr th {\n        vertical-align: top;\n    }\n\n    .dataframe thead th {\n        text-align: right;\n    }\n</style>\n<table border=\"1\" class=\"dataframe\">\n  <thead>\n    <tr style=\"text-align: right;\">\n      <th></th>\n      <th>Feature Id</th>\n      <th>Importances</th>\n    </tr>\n  </thead>\n  <tbody>\n    <tr>\n      <th>0</th>\n      <td>OverallQual</td>\n      <td>24.561414</td>\n    </tr>\n    <tr>\n      <th>1</th>\n      <td>GrLivArea</td>\n      <td>15.031766</td>\n    </tr>\n    <tr>\n      <th>2</th>\n      <td>2ndFlrSF</td>\n      <td>10.966465</td>\n    </tr>\n    <tr>\n      <th>3</th>\n      <td>TotalBsmtSF</td>\n      <td>9.839796</td>\n    </tr>\n    <tr>\n      <th>4</th>\n      <td>BsmtQual</td>\n      <td>7.648170</td>\n    </tr>\n    <tr>\n      <th>5</th>\n      <td>BsmtFinSF1</td>\n      <td>7.235856</td>\n    </tr>\n    <tr>\n      <th>6</th>\n      <td>LotArea</td>\n      <td>6.731918</td>\n    </tr>\n    <tr>\n      <th>7</th>\n      <td>1stFlrSF</td>\n      <td>6.687291</td>\n    </tr>\n    <tr>\n      <th>8</th>\n      <td>GarageYrBlt</td>\n      <td>6.050036</td>\n    </tr>\n    <tr>\n      <th>9</th>\n      <td>GarageCars</td>\n      <td>4.104483</td>\n    </tr>\n    <tr>\n      <th>10</th>\n      <td>FireplaceQu</td>\n      <td>1.142805</td>\n    </tr>\n  </tbody>\n</table>\n</div>"
          },
          "metadata": {},
          "execution_count": 37
        }
      ],
      "source": [
        "cr.get_feature_importance(prettified=True)"
      ]
    },
    {
      "source": [
        "## Evaluate första testet"
      ],
      "cell_type": "markdown",
      "metadata": {}
    },
    {
      "cell_type": "code",
      "execution_count": 13,
      "metadata": {},
      "outputs": [
        {
          "output_type": "stream",
          "name": "stdout",
          "text": [
            "11901.07709283859\n"
          ]
        },
        {
          "output_type": "execute_result",
          "data": {
            "text/plain": [
              "count       292.000000\n",
              "mean     178248.863014\n",
              "std       70389.950788\n",
              "min       55000.000000\n",
              "25%      128800.000000\n",
              "50%      158500.000000\n",
              "75%      202600.000000\n",
              "max      466500.000000\n",
              "Name: SalePrice, dtype: float64"
            ]
          },
          "metadata": {},
          "execution_count": 13
        }
      ],
      "source": [
        "from sklearn import metrics\n",
        "\n",
        "MAE=metrics.median_absolute_error(y_test,cr.predict(test_pool))\n",
        "print(MAE)\n",
        "y_test.describe()"
      ]
    },
    {
      "source": [
        "### Andra testet"
      ],
      "cell_type": "markdown",
      "metadata": {}
    },
    {
      "cell_type": "code",
      "execution_count": 14,
      "metadata": {},
      "outputs": [
        {
          "output_type": "stream",
          "name": "stdout",
          "text": [
            "Andra testet: Vi hanterar själva GarageYrBlt Nan\nNANs: 81\nNANs: 0\n"
          ]
        }
      ],
      "source": [
        "\n",
        "print(\"Andra testet: Vi hanterar själva GarageYrBlt Nan\")\n",
        "X2=X.copy()\n",
        "y2=y\n",
        "print(f'NANs: {X2.GarageYrBlt.isna().sum()}')\n",
        "\n",
        "imp2 = SimpleImputer(strategy='constant', fill_value=0) # Bättre än CatBoost!?\n",
        "X2.GarageYrBlt=imp2.fit_transform(X2[['GarageYrBlt']])\n",
        "\n",
        "print(f'NANs: {X2.GarageYrBlt.isna().sum()}')\n"
      ]
    },
    {
      "cell_type": "code",
      "execution_count": 15,
      "metadata": {},
      "outputs": [
        {
          "output_type": "stream",
          "name": "stdout",
          "text": [
            "Learning rate set to 0.04745\n",
            "0:\tlearn: 79148.1289977\ttest: 68202.5324940\tbest: 68202.5324940 (0)\ttotal: 60.3ms\tremaining: 1m\n",
            "100:\tlearn: 23396.4313627\ttest: 27698.5424084\tbest: 27698.5424084 (100)\ttotal: 6.88s\tremaining: 1m 1s\n",
            "200:\tlearn: 19784.4772263\ttest: 26899.0584221\tbest: 26879.6153149 (198)\ttotal: 13.5s\tremaining: 53.7s\n",
            "300:\tlearn: 17321.9434111\ttest: 26368.6892920\tbest: 26351.2067018 (298)\ttotal: 20.7s\tremaining: 48s\n",
            "400:\tlearn: 15363.4448253\ttest: 26137.2085404\tbest: 26111.2634259 (353)\ttotal: 27.8s\tremaining: 41.6s\n",
            "500:\tlearn: 14061.2821697\ttest: 26118.0744727\tbest: 26111.2634259 (353)\ttotal: 35s\tremaining: 34.9s\n",
            "600:\tlearn: 12978.5537146\ttest: 26230.6631609\tbest: 26091.6744985 (525)\ttotal: 42s\tremaining: 27.9s\n",
            "700:\tlearn: 12077.9161572\ttest: 26210.9895108\tbest: 26091.6744985 (525)\ttotal: 49.1s\tremaining: 20.9s\n",
            "Stopped by overfitting detector  (200 iterations wait)\n",
            "\n",
            "bestTest = 26091.6745\n",
            "bestIteration = 525\n",
            "\n",
            "Shrink model to first 526 iterations.\n"
          ]
        },
        {
          "output_type": "execute_result",
          "data": {
            "text/plain": [
              "<catboost.core.CatBoostRegressor at 0x274d90fbc40>"
            ]
          },
          "metadata": {},
          "execution_count": 15
        }
      ],
      "source": [
        "X2_train, X2_test, y2_train, y2_test = train_test_split(X2, y2, random_state=3, test_size=0.20)\n",
        "\n",
        "train2_pool=Pool(data=X2_train.copy(), label=y2_train, cat_features=['BsmtQual', 'FireplaceQu'])\n",
        "test2_pool = Pool(data=X2_test.copy(), label=y2_test, cat_features=['BsmtQual', 'FireplaceQu'])\n",
        "cr2 = CatBoostRegressor()\n",
        "\n",
        "cr2.fit(train2_pool,eval_set=test2_pool,\n",
        "        use_best_model=True,\n",
        "        early_stopping_rounds=200,\n",
        "        verbose=100)\n"
      ]
    },
    {
      "source": [
        "## Evaluate andra testet \n",
        "   Blir exakt samma!"
      ],
      "cell_type": "markdown",
      "metadata": {
        "id": "sEwtc8vKXZlO",
        "colab": {
          "base_uri": "https://localhost:8080/",
          "height": 408
        },
        "outputId": "507774a7-76d2-4f5f-de12-02a0d4ee9f49"
      }
    },
    {
      "cell_type": "code",
      "metadata": {
        "id": "rQqY8a8LXZlS",
        "colab": {
          "base_uri": "https://localhost:8080/",
          "height": 253
        },
        "outputId": "920c1782-e917-4f72-f91a-2b3b1c734016"
      },
      "source": [
        "print(y2_test.describe())\n",
        "MAE=metrics.median_absolute_error(y2_test,cr2.predict(test2_pool))\n",
        "print(f'\\nMAE: {MAE}')\n"
      ],
      "execution_count": 16,
      "outputs": [
        {
          "output_type": "stream",
          "name": "stdout",
          "text": [
            "count       292.000000\nmean     178248.863014\nstd       70389.950788\nmin       55000.000000\n25%      128800.000000\n50%      158500.000000\n75%      202600.000000\nmax      466500.000000\nName: SalePrice, dtype: float64\n\nMAE: 11901.07709283859\n"
          ]
        }
      ]
    },
    {
      "cell_type": "code",
      "execution_count": 22,
      "metadata": {},
      "outputs": [
        {
          "output_type": "execute_result",
          "data": {
            "text/plain": [
              "     Feature Id  Importances\n",
              "0   OverallQual    24.561414\n",
              "1     GrLivArea    15.031766\n",
              "2      2ndFlrSF    10.966465\n",
              "3   TotalBsmtSF     9.839796\n",
              "4      BsmtQual     7.648170\n",
              "5    BsmtFinSF1     7.235856\n",
              "6       LotArea     6.731918\n",
              "7      1stFlrSF     6.687291\n",
              "8   GarageYrBlt     6.050036\n",
              "9    GarageCars     4.104483\n",
              "10  FireplaceQu     1.142805"
            ],
            "text/html": "<div>\n<style scoped>\n    .dataframe tbody tr th:only-of-type {\n        vertical-align: middle;\n    }\n\n    .dataframe tbody tr th {\n        vertical-align: top;\n    }\n\n    .dataframe thead th {\n        text-align: right;\n    }\n</style>\n<table border=\"1\" class=\"dataframe\">\n  <thead>\n    <tr style=\"text-align: right;\">\n      <th></th>\n      <th>Feature Id</th>\n      <th>Importances</th>\n    </tr>\n  </thead>\n  <tbody>\n    <tr>\n      <th>0</th>\n      <td>OverallQual</td>\n      <td>24.561414</td>\n    </tr>\n    <tr>\n      <th>1</th>\n      <td>GrLivArea</td>\n      <td>15.031766</td>\n    </tr>\n    <tr>\n      <th>2</th>\n      <td>2ndFlrSF</td>\n      <td>10.966465</td>\n    </tr>\n    <tr>\n      <th>3</th>\n      <td>TotalBsmtSF</td>\n      <td>9.839796</td>\n    </tr>\n    <tr>\n      <th>4</th>\n      <td>BsmtQual</td>\n      <td>7.648170</td>\n    </tr>\n    <tr>\n      <th>5</th>\n      <td>BsmtFinSF1</td>\n      <td>7.235856</td>\n    </tr>\n    <tr>\n      <th>6</th>\n      <td>LotArea</td>\n      <td>6.731918</td>\n    </tr>\n    <tr>\n      <th>7</th>\n      <td>1stFlrSF</td>\n      <td>6.687291</td>\n    </tr>\n    <tr>\n      <th>8</th>\n      <td>GarageYrBlt</td>\n      <td>6.050036</td>\n    </tr>\n    <tr>\n      <th>9</th>\n      <td>GarageCars</td>\n      <td>4.104483</td>\n    </tr>\n    <tr>\n      <th>10</th>\n      <td>FireplaceQu</td>\n      <td>1.142805</td>\n    </tr>\n  </tbody>\n</table>\n</div>"
          },
          "metadata": {},
          "execution_count": 22
        }
      ],
      "source": [
        "cr2.get_feature_importance(prettified=True)"
      ]
    },
    {
      "cell_type": "markdown",
      "metadata": {
        "id": "Jb4bHUP0MsqL"
      },
      "source": [
        "[Remember the list of useful pandas commands](https://colab.research.google.com/drive/1_4ib8P-DQt8zjb0iY7pZhqUz4JpuiTwt#scrollTo=sFNHlHUm8Qev&line=9&uniqifier=1)\n"
      ]
    },
    {
      "source": [
        "# The same thing with pipelines"
      ],
      "cell_type": "markdown",
      "metadata": {}
    },
    {
      "cell_type": "code",
      "execution_count": 17,
      "metadata": {},
      "outputs": [
        {
          "output_type": "stream",
          "name": "stdout",
          "text": [
            "<class 'pandas.core.frame.DataFrame'>\nRangeIndex: 1460 entries, 0 to 1459\nData columns (total 11 columns):\n #   Column       Non-Null Count  Dtype  \n---  ------       --------------  -----  \n 0   OverallQual  1460 non-null   int64  \n 1   GrLivArea    1460 non-null   int64  \n 2   1stFlrSF     1460 non-null   int64  \n 3   TotalBsmtSF  1460 non-null   int64  \n 4   GarageCars   1460 non-null   int64  \n 5   BsmtQual     1423 non-null   object \n 6   BsmtFinSF1   1460 non-null   int64  \n 7   LotArea      1460 non-null   int64  \n 8   2ndFlrSF     1460 non-null   int64  \n 9   FireplaceQu  770 non-null    object \n 10  GarageYrBlt  1379 non-null   float64\ndtypes: float64(1), int64(8), object(2)\nmemory usage: 125.6+ KB\n"
          ]
        }
      ],
      "source": [
        "# Börja om från början med originalet\n",
        "y= hus['SalePrice']\n",
        "X= hus[selected_features]\n",
        "\n",
        "X.info()\n"
      ]
    },
    {
      "cell_type": "code",
      "execution_count": 18,
      "metadata": {},
      "outputs": [],
      "source": [
        "cat_features = X.columns[X.dtypes=='object']"
      ]
    },
    {
      "cell_type": "code",
      "execution_count": 19,
      "metadata": {},
      "outputs": [
        {
          "output_type": "execute_result",
          "data": {
            "text/plain": [
              "array([['TA', 'Gd', 7.0, ..., 7314.0, 0.0, 2007.0],\n",
              "       ['TA', 'TA', 6.0, ..., 11888.0, 689.0, 1930.0],\n",
              "       ['TA', 'Gd', 7.0, ..., 8450.0, 0.0, 2003.0],\n",
              "       ...,\n",
              "       ['TA', 'TA', 3.0, ..., 5925.0, 368.0, 0.0],\n",
              "       ['TA', 'Gd', 5.0, ..., 7200.0, 0.0, 1974.0],\n",
              "       ['Gd', 'TA', 6.0, ..., 11512.0, 0.0, 1959.0]], dtype=object)"
            ]
          },
          "metadata": {},
          "execution_count": 19
        }
      ],
      "source": [
        "# version ett - låt catboost bestämma GarageYrBlt föt NaNs\n",
        "train2_pool=Pool(data=X2_train, label=y2_train, cat_features=['BsmtQual', 'FireplaceQu'])\n",
        "test2_pool = Pool(data=X2_test.copy(), label=y2_test, cat_features=['BsmtQual', 'FireplaceQu'])\n",
        "\n",
        "from sklearn.pipeline import make_pipeline, Pipeline\n",
        "from sklearn.compose import  make_column_transformer\n",
        "col_trans = make_column_transformer (\n",
        "    (SimpleImputer(strategy='constant', fill_value=\"TA\"),['FireplaceQu']),\n",
        "    (SimpleImputer(strategy='most_frequent'),['BsmtQual']),\n",
        "    remainder='passthrough'\n",
        ")\n",
        "col_trans.fit_transform(X2_train)\n"
      ]
    },
    {
      "cell_type": "code",
      "execution_count": 20,
      "metadata": {},
      "outputs": [
        {
          "output_type": "error",
          "ename": "CatBoostError",
          "evalue": "features parameter contains string value 'BsmtQual' but feature names for a dataset are not specified",
          "traceback": [
            "\u001b[1;31m---------------------------------------------------------------------------\u001b[0m",
            "\u001b[1;31mCatBoostError\u001b[0m                             Traceback (most recent call last)",
            "\u001b[1;32m<ipython-input-20-62d84611ff59>\u001b[0m in \u001b[0;36m<module>\u001b[1;34m\u001b[0m\n\u001b[0;32m      4\u001b[0m                         ('est',cr )])\n\u001b[0;32m      5\u001b[0m \u001b[1;33m\u001b[0m\u001b[0m\n\u001b[1;32m----> 6\u001b[1;33m \u001b[0mpipe1\u001b[0m\u001b[1;33m.\u001b[0m\u001b[0mfit\u001b[0m\u001b[1;33m(\u001b[0m\u001b[0mX2_train\u001b[0m\u001b[1;33m,\u001b[0m\u001b[0my2_train\u001b[0m\u001b[1;33m,\u001b[0m\u001b[0mest__eval_set\u001b[0m\u001b[1;33m=\u001b[0m\u001b[0mtest2_pool\u001b[0m\u001b[1;33m)\u001b[0m\u001b[1;33m\u001b[0m\u001b[1;33m\u001b[0m\u001b[0m\n\u001b[0m",
            "\u001b[1;32mC:\\ProgramData\\Anaconda3\\lib\\site-packages\\sklearn\\pipeline.py\u001b[0m in \u001b[0;36mfit\u001b[1;34m(self, X, y, **fit_params)\u001b[0m\n\u001b[0;32m    333\u001b[0m             \u001b[1;32mif\u001b[0m \u001b[0mself\u001b[0m\u001b[1;33m.\u001b[0m\u001b[0m_final_estimator\u001b[0m \u001b[1;33m!=\u001b[0m \u001b[1;34m'passthrough'\u001b[0m\u001b[1;33m:\u001b[0m\u001b[1;33m\u001b[0m\u001b[1;33m\u001b[0m\u001b[0m\n\u001b[0;32m    334\u001b[0m                 \u001b[0mfit_params_last_step\u001b[0m \u001b[1;33m=\u001b[0m \u001b[0mfit_params_steps\u001b[0m\u001b[1;33m[\u001b[0m\u001b[0mself\u001b[0m\u001b[1;33m.\u001b[0m\u001b[0msteps\u001b[0m\u001b[1;33m[\u001b[0m\u001b[1;33m-\u001b[0m\u001b[1;36m1\u001b[0m\u001b[1;33m]\u001b[0m\u001b[1;33m[\u001b[0m\u001b[1;36m0\u001b[0m\u001b[1;33m]\u001b[0m\u001b[1;33m]\u001b[0m\u001b[1;33m\u001b[0m\u001b[1;33m\u001b[0m\u001b[0m\n\u001b[1;32m--> 335\u001b[1;33m                 \u001b[0mself\u001b[0m\u001b[1;33m.\u001b[0m\u001b[0m_final_estimator\u001b[0m\u001b[1;33m.\u001b[0m\u001b[0mfit\u001b[0m\u001b[1;33m(\u001b[0m\u001b[0mXt\u001b[0m\u001b[1;33m,\u001b[0m \u001b[0my\u001b[0m\u001b[1;33m,\u001b[0m \u001b[1;33m**\u001b[0m\u001b[0mfit_params_last_step\u001b[0m\u001b[1;33m)\u001b[0m\u001b[1;33m\u001b[0m\u001b[1;33m\u001b[0m\u001b[0m\n\u001b[0m\u001b[0;32m    336\u001b[0m \u001b[1;33m\u001b[0m\u001b[0m\n\u001b[0;32m    337\u001b[0m         \u001b[1;32mreturn\u001b[0m \u001b[0mself\u001b[0m\u001b[1;33m\u001b[0m\u001b[1;33m\u001b[0m\u001b[0m\n",
            "\u001b[1;32mC:\\ProgramData\\Anaconda3\\lib\\site-packages\\catboost\\core.py\u001b[0m in \u001b[0;36mfit\u001b[1;34m(self, X, y, cat_features, sample_weight, baseline, use_best_model, eval_set, verbose, logging_level, plot, column_description, verbose_eval, metric_period, silent, early_stopping_rounds, save_snapshot, snapshot_file, snapshot_interval, init_model)\u001b[0m\n\u001b[0;32m   4847\u001b[0m             \u001b[0mself\u001b[0m\u001b[1;33m.\u001b[0m\u001b[0m_check_is_regressor_loss\u001b[0m\u001b[1;33m(\u001b[0m\u001b[0mparams\u001b[0m\u001b[1;33m[\u001b[0m\u001b[1;34m'loss_function'\u001b[0m\u001b[1;33m]\u001b[0m\u001b[1;33m)\u001b[0m\u001b[1;33m\u001b[0m\u001b[1;33m\u001b[0m\u001b[0m\n\u001b[0;32m   4848\u001b[0m \u001b[1;33m\u001b[0m\u001b[0m\n\u001b[1;32m-> 4849\u001b[1;33m         return self._fit(X, y, cat_features, None, None, None, sample_weight, None, None, None, None, baseline,\n\u001b[0m\u001b[0;32m   4850\u001b[0m                          \u001b[0muse_best_model\u001b[0m\u001b[1;33m,\u001b[0m \u001b[0meval_set\u001b[0m\u001b[1;33m,\u001b[0m \u001b[0mverbose\u001b[0m\u001b[1;33m,\u001b[0m \u001b[0mlogging_level\u001b[0m\u001b[1;33m,\u001b[0m \u001b[0mplot\u001b[0m\u001b[1;33m,\u001b[0m \u001b[0mcolumn_description\u001b[0m\u001b[1;33m,\u001b[0m\u001b[1;33m\u001b[0m\u001b[1;33m\u001b[0m\u001b[0m\n\u001b[0;32m   4851\u001b[0m                          \u001b[0mverbose_eval\u001b[0m\u001b[1;33m,\u001b[0m \u001b[0mmetric_period\u001b[0m\u001b[1;33m,\u001b[0m \u001b[0msilent\u001b[0m\u001b[1;33m,\u001b[0m \u001b[0mearly_stopping_rounds\u001b[0m\u001b[1;33m,\u001b[0m\u001b[1;33m\u001b[0m\u001b[1;33m\u001b[0m\u001b[0m\n",
            "\u001b[1;32mC:\\ProgramData\\Anaconda3\\lib\\site-packages\\catboost\\core.py\u001b[0m in \u001b[0;36m_fit\u001b[1;34m(self, X, y, cat_features, text_features, embedding_features, pairs, sample_weight, group_id, group_weight, subgroup_id, pairs_weight, baseline, use_best_model, eval_set, verbose, logging_level, plot, column_description, verbose_eval, metric_period, silent, early_stopping_rounds, save_snapshot, snapshot_file, snapshot_interval, init_model)\u001b[0m\n\u001b[0;32m   1792\u001b[0m             \u001b[1;32mraise\u001b[0m \u001b[0mCatBoostError\u001b[0m\u001b[1;33m(\u001b[0m\u001b[1;34m\"y may be None only when X is an instance of catboost.Pool or string\"\u001b[0m\u001b[1;33m)\u001b[0m\u001b[1;33m\u001b[0m\u001b[1;33m\u001b[0m\u001b[0m\n\u001b[0;32m   1793\u001b[0m \u001b[1;33m\u001b[0m\u001b[0m\n\u001b[1;32m-> 1794\u001b[1;33m         train_params = self._prepare_train_params(\n\u001b[0m\u001b[0;32m   1795\u001b[0m             \u001b[0mX\u001b[0m\u001b[1;33m,\u001b[0m \u001b[0my\u001b[0m\u001b[1;33m,\u001b[0m \u001b[0mcat_features\u001b[0m\u001b[1;33m,\u001b[0m \u001b[0mtext_features\u001b[0m\u001b[1;33m,\u001b[0m \u001b[0membedding_features\u001b[0m\u001b[1;33m,\u001b[0m \u001b[0mpairs\u001b[0m\u001b[1;33m,\u001b[0m \u001b[0msample_weight\u001b[0m\u001b[1;33m,\u001b[0m \u001b[0mgroup_id\u001b[0m\u001b[1;33m,\u001b[0m\u001b[1;33m\u001b[0m\u001b[1;33m\u001b[0m\u001b[0m\n\u001b[0;32m   1796\u001b[0m             \u001b[0mgroup_weight\u001b[0m\u001b[1;33m,\u001b[0m \u001b[0msubgroup_id\u001b[0m\u001b[1;33m,\u001b[0m \u001b[0mpairs_weight\u001b[0m\u001b[1;33m,\u001b[0m \u001b[0mbaseline\u001b[0m\u001b[1;33m,\u001b[0m\u001b[1;33m\u001b[0m\u001b[1;33m\u001b[0m\u001b[0m\n",
            "\u001b[1;32mC:\\ProgramData\\Anaconda3\\lib\\site-packages\\catboost\\core.py\u001b[0m in \u001b[0;36m_prepare_train_params\u001b[1;34m(self, X, y, cat_features, text_features, embedding_features, pairs, sample_weight, group_id, group_weight, subgroup_id, pairs_weight, baseline, use_best_model, eval_set, verbose, logging_level, plot, column_description, verbose_eval, metric_period, silent, early_stopping_rounds, save_snapshot, snapshot_file, snapshot_interval, init_model)\u001b[0m\n\u001b[0;32m   1682\u001b[0m         \u001b[0membedding_features\u001b[0m \u001b[1;33m=\u001b[0m \u001b[0m_process_feature_indices\u001b[0m\u001b[1;33m(\u001b[0m\u001b[0membedding_features\u001b[0m\u001b[1;33m,\u001b[0m \u001b[0mX\u001b[0m\u001b[1;33m,\u001b[0m \u001b[0mparams\u001b[0m\u001b[1;33m,\u001b[0m \u001b[1;34m'embedding_features'\u001b[0m\u001b[1;33m)\u001b[0m\u001b[1;33m\u001b[0m\u001b[1;33m\u001b[0m\u001b[0m\n\u001b[0;32m   1683\u001b[0m \u001b[1;33m\u001b[0m\u001b[0m\n\u001b[1;32m-> 1684\u001b[1;33m         train_pool = _build_train_pool(X, y, cat_features, text_features, embedding_features, pairs,\n\u001b[0m\u001b[0;32m   1685\u001b[0m                                        \u001b[0msample_weight\u001b[0m\u001b[1;33m,\u001b[0m \u001b[0mgroup_id\u001b[0m\u001b[1;33m,\u001b[0m \u001b[0mgroup_weight\u001b[0m\u001b[1;33m,\u001b[0m \u001b[0msubgroup_id\u001b[0m\u001b[1;33m,\u001b[0m \u001b[0mpairs_weight\u001b[0m\u001b[1;33m,\u001b[0m\u001b[1;33m\u001b[0m\u001b[1;33m\u001b[0m\u001b[0m\n\u001b[0;32m   1686\u001b[0m                                        baseline, column_description)\n",
            "\u001b[1;32mC:\\ProgramData\\Anaconda3\\lib\\site-packages\\catboost\\core.py\u001b[0m in \u001b[0;36m_build_train_pool\u001b[1;34m(X, y, cat_features, text_features, embedding_features, pairs, sample_weight, group_id, group_weight, subgroup_id, pairs_weight, baseline, column_description)\u001b[0m\n\u001b[0;32m    982\u001b[0m         \u001b[1;32mif\u001b[0m \u001b[0my\u001b[0m \u001b[1;32mis\u001b[0m \u001b[1;32mNone\u001b[0m\u001b[1;33m:\u001b[0m\u001b[1;33m\u001b[0m\u001b[1;33m\u001b[0m\u001b[0m\n\u001b[0;32m    983\u001b[0m             \u001b[1;32mraise\u001b[0m \u001b[0mCatBoostError\u001b[0m\u001b[1;33m(\u001b[0m\u001b[1;34m\"y has not initialized in fit(): X is not catboost.Pool object, y must be not None in fit().\"\u001b[0m\u001b[1;33m)\u001b[0m\u001b[1;33m\u001b[0m\u001b[1;33m\u001b[0m\u001b[0m\n\u001b[1;32m--> 984\u001b[1;33m         train_pool = Pool(X, y, cat_features=cat_features, text_features=text_features, embedding_features=embedding_features, pairs=pairs, weight=sample_weight, group_id=group_id,\n\u001b[0m\u001b[0;32m    985\u001b[0m                           group_weight=group_weight, subgroup_id=subgroup_id, pairs_weight=pairs_weight, baseline=baseline)\n\u001b[0;32m    986\u001b[0m     \u001b[1;32mreturn\u001b[0m \u001b[0mtrain_pool\u001b[0m\u001b[1;33m\u001b[0m\u001b[1;33m\u001b[0m\u001b[0m\n",
            "\u001b[1;32mC:\\ProgramData\\Anaconda3\\lib\\site-packages\\catboost\\core.py\u001b[0m in \u001b[0;36m__init__\u001b[1;34m(self, data, label, cat_features, text_features, embedding_features, column_description, pairs, delimiter, has_header, ignore_csv_quoting, weight, group_id, group_weight, subgroup_id, pairs_weight, baseline, feature_names, thread_count)\u001b[0m\n\u001b[0;32m    453\u001b[0m                     )\n\u001b[0;32m    454\u001b[0m \u001b[1;33m\u001b[0m\u001b[0m\n\u001b[1;32m--> 455\u001b[1;33m                 \u001b[0mself\u001b[0m\u001b[1;33m.\u001b[0m\u001b[0m_init\u001b[0m\u001b[1;33m(\u001b[0m\u001b[0mdata\u001b[0m\u001b[1;33m,\u001b[0m \u001b[0mlabel\u001b[0m\u001b[1;33m,\u001b[0m \u001b[0mcat_features\u001b[0m\u001b[1;33m,\u001b[0m \u001b[0mtext_features\u001b[0m\u001b[1;33m,\u001b[0m \u001b[0membedding_features\u001b[0m\u001b[1;33m,\u001b[0m \u001b[0mpairs\u001b[0m\u001b[1;33m,\u001b[0m \u001b[0mweight\u001b[0m\u001b[1;33m,\u001b[0m \u001b[0mgroup_id\u001b[0m\u001b[1;33m,\u001b[0m \u001b[0mgroup_weight\u001b[0m\u001b[1;33m,\u001b[0m \u001b[0msubgroup_id\u001b[0m\u001b[1;33m,\u001b[0m \u001b[0mpairs_weight\u001b[0m\u001b[1;33m,\u001b[0m \u001b[0mbaseline\u001b[0m\u001b[1;33m,\u001b[0m \u001b[0mfeature_names\u001b[0m\u001b[1;33m,\u001b[0m \u001b[0mthread_count\u001b[0m\u001b[1;33m)\u001b[0m\u001b[1;33m\u001b[0m\u001b[1;33m\u001b[0m\u001b[0m\n\u001b[0m\u001b[0;32m    456\u001b[0m         \u001b[0msuper\u001b[0m\u001b[1;33m(\u001b[0m\u001b[0mPool\u001b[0m\u001b[1;33m,\u001b[0m \u001b[0mself\u001b[0m\u001b[1;33m)\u001b[0m\u001b[1;33m.\u001b[0m\u001b[0m__init__\u001b[0m\u001b[1;33m(\u001b[0m\u001b[1;33m)\u001b[0m\u001b[1;33m\u001b[0m\u001b[1;33m\u001b[0m\u001b[0m\n\u001b[0;32m    457\u001b[0m \u001b[1;33m\u001b[0m\u001b[0m\n",
            "\u001b[1;32mC:\\ProgramData\\Anaconda3\\lib\\site-packages\\catboost\\core.py\u001b[0m in \u001b[0;36m_init\u001b[1;34m(self, data, label, cat_features, text_features, embedding_features, pairs, weight, group_id, group_weight, subgroup_id, pairs_weight, baseline, feature_names, thread_count)\u001b[0m\n\u001b[0;32m    922\u001b[0m             \u001b[0mself\u001b[0m\u001b[1;33m.\u001b[0m\u001b[0m_check_feature_names\u001b[0m\u001b[1;33m(\u001b[0m\u001b[0mfeature_names\u001b[0m\u001b[1;33m,\u001b[0m \u001b[0mfeatures_count\u001b[0m\u001b[1;33m)\u001b[0m\u001b[1;33m\u001b[0m\u001b[1;33m\u001b[0m\u001b[0m\n\u001b[0;32m    923\u001b[0m         \u001b[1;32mif\u001b[0m \u001b[0mcat_features\u001b[0m \u001b[1;32mis\u001b[0m \u001b[1;32mnot\u001b[0m \u001b[1;32mNone\u001b[0m\u001b[1;33m:\u001b[0m\u001b[1;33m\u001b[0m\u001b[1;33m\u001b[0m\u001b[0m\n\u001b[1;32m--> 924\u001b[1;33m             \u001b[0mcat_features\u001b[0m \u001b[1;33m=\u001b[0m \u001b[0m_get_features_indices\u001b[0m\u001b[1;33m(\u001b[0m\u001b[0mcat_features\u001b[0m\u001b[1;33m,\u001b[0m \u001b[0mfeature_names\u001b[0m\u001b[1;33m)\u001b[0m\u001b[1;33m\u001b[0m\u001b[1;33m\u001b[0m\u001b[0m\n\u001b[0m\u001b[0;32m    925\u001b[0m             \u001b[0mself\u001b[0m\u001b[1;33m.\u001b[0m\u001b[0m_check_string_feature_type\u001b[0m\u001b[1;33m(\u001b[0m\u001b[0mcat_features\u001b[0m\u001b[1;33m,\u001b[0m \u001b[1;34m'cat_features'\u001b[0m\u001b[1;33m)\u001b[0m\u001b[1;33m\u001b[0m\u001b[1;33m\u001b[0m\u001b[0m\n\u001b[0;32m    926\u001b[0m             \u001b[0mself\u001b[0m\u001b[1;33m.\u001b[0m\u001b[0m_check_string_feature_value\u001b[0m\u001b[1;33m(\u001b[0m\u001b[0mcat_features\u001b[0m\u001b[1;33m,\u001b[0m \u001b[0mfeatures_count\u001b[0m\u001b[1;33m,\u001b[0m \u001b[1;34m'cat_features'\u001b[0m\u001b[1;33m)\u001b[0m\u001b[1;33m\u001b[0m\u001b[1;33m\u001b[0m\u001b[0m\n",
            "\u001b[1;32mC:\\ProgramData\\Anaconda3\\lib\\site-packages\\catboost\\core.py\u001b[0m in \u001b[0;36m_get_features_indices\u001b[1;34m(features, feature_names)\u001b[0m\n\u001b[0;32m    191\u001b[0m         \u001b[1;32mfor\u001b[0m \u001b[0mf\u001b[0m \u001b[1;32min\u001b[0m \u001b[0mfeatures\u001b[0m\u001b[1;33m:\u001b[0m\u001b[1;33m\u001b[0m\u001b[1;33m\u001b[0m\u001b[0m\n\u001b[0;32m    192\u001b[0m             \u001b[1;32mif\u001b[0m \u001b[0misinstance\u001b[0m\u001b[1;33m(\u001b[0m\u001b[0mf\u001b[0m\u001b[1;33m,\u001b[0m \u001b[0mSTRING_TYPES\u001b[0m\u001b[1;33m)\u001b[0m\u001b[1;33m:\u001b[0m\u001b[1;33m\u001b[0m\u001b[1;33m\u001b[0m\u001b[0m\n\u001b[1;32m--> 193\u001b[1;33m                 raise CatBoostError(\"features parameter contains string value '{}' but feature names \"\n\u001b[0m\u001b[0;32m    194\u001b[0m                                     \"for a dataset are not specified\".format(f))\n\u001b[0;32m    195\u001b[0m     \u001b[1;32mreturn\u001b[0m \u001b[0mfeatures\u001b[0m\u001b[1;33m\u001b[0m\u001b[1;33m\u001b[0m\u001b[0m\n",
            "\u001b[1;31mCatBoostError\u001b[0m: features parameter contains string value 'BsmtQual' but feature names for a dataset are not specified"
          ]
        }
      ],
      "source": [
        "cr = CatBoostRegressor(use_best_model=True,cat_features=cat_features,early_stopping_rounds=200,verbose=100)\n",
        "# col_trans.fit_transform(X)\n",
        "pipe1 = Pipeline(steps=[('cols', col_trans),\n",
        "                        ('est',cr )])\n",
        "\n",
        "pipe1.fit(X2_train,y2_train,est__eval_set=test2_pool)\n"
      ]
    },
    {
      "cell_type": "code",
      "execution_count": null,
      "metadata": {},
      "outputs": [],
      "source": []
    },
    {
      "cell_type": "code",
      "execution_count": null,
      "metadata": {},
      "outputs": [],
      "source": []
    },
    {
      "cell_type": "code",
      "execution_count": null,
      "metadata": {},
      "outputs": [],
      "source": []
    },
    {
      "cell_type": "code",
      "metadata": {
        "id": "iwT7obY_XZlW",
        "colab": {
          "base_uri": "https://localhost:8080/",
          "height": 1000
        },
        "outputId": "8046da5b-974d-47b9-bb3c-d7f961ef9d91"
      },
      "source": [
        "# A short recap to get information from a DataFrame\n",
        "# Let's do some typical pandas commands\n",
        "hus.shape      # (how many rows and columns)\n",
        "hus.dtypes # what types of features (columns) do we have\n",
        "hus[\"Alley\"].unique() # Check out unique values for one feature\n",
        "hus[hus.Alley.notna()].Alley.count() # How many rows with not missing data\n",
        "hus.info()         # info per feature about type and number of \"not missing\" values\n",
        "hus.describe()     #  summary of all numerical columns"
      ],
      "execution_count": null,
      "outputs": []
    },
    {
      "cell_type": "code",
      "metadata": {
        "scrolled": true,
        "id": "5SE-oLIZXZlg",
        "colab": {
          "base_uri": "https://localhost:8080/",
          "height": 323
        },
        "outputId": "a8c2d0a2-cbe8-444b-b832-2e5ebc7d2ecd"
      },
      "source": [
        "hus[['LotArea','Id']] # avoid this - use loc or iloc\n",
        "hus.loc[0:5,'LotArea':'Alley'] \n",
        "#hus.loc[5:10,['LotArea','Id','Street']] \n",
        "hus.columns # returns a NumPy array"
      ],
      "execution_count": null,
      "outputs": []
    },
    {
      "cell_type": "code",
      "metadata": {
        "id": "L46Ddfx_XZlw",
        "colab": {
          "base_uri": "https://localhost:8080/",
          "height": 317
        },
        "outputId": "73db28fa-39ef-4db5-fe6b-bb1bfac8dbd5"
      },
      "source": [
        "hus.describe()"
      ],
      "execution_count": null,
      "outputs": []
    },
    {
      "cell_type": "markdown",
      "metadata": {
        "id": "q9EDEsXJXZl_"
      },
      "source": [
        "# Feature Enginering\n",
        "**We will:**\n",
        "- **Take care of Missing Values** (sometimes called nulls, NaN, NA etc. The data type is np.NaN)\n",
        "- **Set numerical values on categoricals** (all data **must** be numeric in order to use in ML). A categorical is typically:\n",
        "    - **ordinal** - ordered even if not numeric\n",
        "    - **\"binary\"** - exactly two values, either one or the other\n",
        "    - **codes, strings, abbreviations** etc without any internal ordering\n",
        "    \n",
        "- In a real case we should be much more aquainted with the data and go through each feature separately. It's meaning, its' distribution and more. This process would be best with a contact with the estate agents \n",
        "- we will continue to fix some features, enough to make it possible to use for sklearn\n"
      ]
    },
    {
      "cell_type": "code",
      "metadata": {
        "id": "lrYEcErKXZlz",
        "colab": {
          "base_uri": "https://localhost:8080/",
          "height": 170
        },
        "outputId": "aa9fae04-78d6-491e-b824-c8ed36f5ed4f"
      },
      "source": [
        "import matplotlib.pyplot as plt\n",
        "#plt.style='ggplot'\n",
        "#plt.rcParams['figure.figsize'] = (10,6)\n",
        "import seaborn as sns\n",
        "\n",
        "hus.SalePrice.describe()"
      ],
      "execution_count": null,
      "outputs": []
    },
    {
      "cell_type": "code",
      "metadata": {
        "id": "ZIcsS5S8XZl2",
        "colab": {
          "base_uri": "https://localhost:8080/",
          "height": 337
        },
        "outputId": "9b4417ec-aba8-4a6e-d3dc-2393f421a669"
      },
      "source": [
        "print(hus.SalePrice.skew())\n",
        "plt.hist(hus.SalePrice)\n",
        "plt.show()"
      ],
      "execution_count": null,
      "outputs": []
    },
    {
      "cell_type": "markdown",
      "metadata": {
        "id": "VrouTSMjXZl5"
      },
      "source": [
        "*The SalePrice distribution is skew to the left*  \n",
        "We can transform the column with np.log()\n",
        "\n",
        "***NB. We have to transform it back later on with np.exp() in order to see the real prices***"
      ]
    },
    {
      "cell_type": "code",
      "metadata": {
        "id": "1cOu5b5auHyY",
        "colab": {
          "base_uri": "https://localhost:8080/",
          "height": 221
        },
        "outputId": "e48635f1-267e-4971-8b00-2a6b98d4676f"
      },
      "source": [
        "#What about GareageArea vs GarageYrBlt?\n",
        "tf=hus.GarageArea==0\n",
        "hus.loc[tf].GarageYrBlt  # GarageYrBlt in all rows with GarageArea==0\n"
      ],
      "execution_count": null,
      "outputs": []
    },
    {
      "cell_type": "code",
      "metadata": {
        "id": "mL1Jsu_AXZl6",
        "colab": {
          "base_uri": "https://localhost:8080/",
          "height": 337
        },
        "outputId": "29b4e0a2-6f28-4a0c-e47f-a0e80248a1e1"
      },
      "source": [
        "logPrice = np.log(hus.SalePrice)\n",
        "print(logPrice.skew())\n",
        "plt.hist(logPrice)\n",
        "plt.show()"
      ],
      "execution_count": null,
      "outputs": []
    },
    {
      "cell_type": "code",
      "metadata": {
        "id": "tXk2U_8gYjFQ"
      },
      "source": [
        "husMod =hus.copy()\n",
        "#\n",
        "husMod['SalePrice'] = np.log(hus.SalePrice)\n",
        "# From now on we will use husMod and keep the original in hus"
      ],
      "execution_count": null,
      "outputs": []
    },
    {
      "cell_type": "code",
      "metadata": {
        "id": "kY1a39GFXZmA",
        "colab": {
          "base_uri": "https://localhost:8080/",
          "height": 119
        },
        "outputId": "d9d6823d-8d1d-4ed3-dab2-3f7f8e6e1bc7"
      },
      "source": [
        "numFeatures = hus.select_dtypes(include=[np.number])\n",
        "nfCorr = numFeatures.corr()  # how are the features correlated?\n",
        "nfCorr.head()\n",
        "# 0 is no correlation at all, positive or negative correlations are just opposite directions\n",
        "print(nfCorr['SalePrice'].sort_values(ascending=False).head()) # positive correlations \n",
        "nfCorr['SalePrice'].sort_values(ascending=False).tail() # negative correlations\n"
      ],
      "execution_count": null,
      "outputs": []
    },
    {
      "cell_type": "code",
      "metadata": {
        "id": "pTaPSemdZv6P",
        "colab": {
          "base_uri": "https://localhost:8080/",
          "height": 910
        },
        "outputId": "0b8bf11a-b47b-416d-e65d-2e82967c86ec"
      },
      "source": [
        "nfCorr['SalePrice'].sort_values(ascending=False)[1:10].index\n",
        "corrMax=nfCorr['SalePrice'].sort_values(ascending=False)[1:10].index\n",
        "husMod.loc[:,corrMax[0:9]]\n",
        "plt.subplots(figsize=(20, 15))\n",
        "sns.heatmap(husMod.loc[:,corrMax[0:9]].corr(), annot=True)"
      ],
      "execution_count": null,
      "outputs": []
    },
    {
      "cell_type": "markdown",
      "metadata": {
        "id": "no-exEjohibH"
      },
      "source": [
        "### We could also check the least correlated to SalePrice in similar ways but...   \n",
        "We can't rely on only one to one correlations to SalePrice. There might be combinations so PCA is a better way to find out which features we might try to take out in order to reduse noice\n",
        "\n",
        "\n",
        "---\n",
        "\n",
        "Now let's find if there are some outliers. Here we will check just a few features, there could be more..."
      ]
    },
    {
      "cell_type": "code",
      "metadata": {
        "id": "P6Ye1ybzXZmC",
        "colab": {
          "base_uri": "https://localhost:8080/",
          "height": 221
        },
        "outputId": "14f1bcf1-1847-4311-ac9a-c039a8192194"
      },
      "source": [
        "husMod.GarageArea.sort_values()\n",
        "# we can see a number of zeroes, meaning that there is no garage. Let's forget them for a moment\n",
        "husMod.GarageArea[husMod.GarageArea>0].sort_values()\n",
        "# There are big diffferenses between the smallest and the largest garages\n",
        "# What can a plot show us?\n"
      ],
      "execution_count": null,
      "outputs": []
    },
    {
      "cell_type": "code",
      "metadata": {
        "id": "bgSAY13TXZmF",
        "colab": {
          "base_uri": "https://localhost:8080/",
          "height": 337
        },
        "outputId": "e222d0c5-8fe4-4936-dfba-b1470863225c"
      },
      "source": [
        "plt.rcParams['figure.figsize'] = (15,5)\n",
        "plt.scatter(x=husMod['GarageArea'], y=husMod.SalePrice)\n",
        "#There are some really bad outliers - somewhere above 1100 \n",
        "temp = husMod[husMod['GarageArea']<1200]\n",
        "plt.scatter(x=temp['GarageArea'], y=temp.SalePrice)  # Kommer att överlappa föregående graf\n",
        "# De överlappar varandra med olika färger\n",
        "#husMod=temp\n",
        "#husMod.shape\n"
      ],
      "execution_count": null,
      "outputs": []
    },
    {
      "cell_type": "markdown",
      "metadata": {
        "id": "DJnLpjO-XZmK"
      },
      "source": [
        "\n",
        "# Take care of Missing Values\n",
        "A missing value is displayed as NaN and it is the NumPy type np.NaN. We can't feed missing values into our algorthms\n",
        "- Go back to the source (Maybe there are values available or the estate agency has better estimations than we can get from our automatic approach)\n",
        "- Remove the entire feature (column)\n",
        "- Remove rows\n",
        "- Use fake values:\n",
        "    - **Mean**    (Numerical features)\n",
        "    - **Median**  (Numerical features \n",
        "    - **Mode** = most frequent value. (for categorical feautures, not normally for numerical)\n",
        "    "
      ]
    },
    {
      "cell_type": "code",
      "metadata": {
        "id": "MytH5QCWXZmN",
        "colab": {
          "base_uri": "https://localhost:8080/",
          "height": 374
        },
        "outputId": "78267e22-657b-4974-848a-f4e6afc4c8b9"
      },
      "source": [
        "husMod.isna()  # NaN true or false\n",
        "husMod.isna().sum()  # sum all the NaN (True) per feature\n",
        "husMod.isna().sum().sort_values(ascending=False) # sorted by number of NaN's\n",
        "husMod.columns[husMod.isna().sum()>0]  # These are all the features with NaN\n",
        "husMod.columns[husMod.isna().sum()>0].shape  # how many\n",
        "sum(husMod.isnull().sum()>0)  # how many (alternative way)\n",
        "husMod.isna().sum().sort_values(ascending=False).head(20)  # we got 19 above\n",
        " "
      ],
      "execution_count": null,
      "outputs": []
    },
    {
      "cell_type": "code",
      "metadata": {
        "id": "huezPT0rXZmR",
        "colab": {
          "base_uri": "https://localhost:8080/",
          "height": 68
        },
        "outputId": "2748b306-a8be-4f2a-ebc7-4a416a694807"
      },
      "source": [
        "# The first 5 columms we just better remove - too many missing values\n",
        "\n",
        "print(\"Before:\", husMod.shape)\n",
        "husMod=husMod.drop(['PoolQC','Fence', 'MiscFeature', 'Alley', 'FireplaceQu'], axis=1)\n",
        "print(\"After: \",husMod.shape)\n",
        "print(husMod.isnull().sum())\n",
        "sum(husMod.isnull().sum() >250)  # Många NaN\n"
      ],
      "execution_count": null,
      "outputs": []
    },
    {
      "cell_type": "code",
      "metadata": {
        "id": "hCr12IKOXZmW",
        "colab": {
          "base_uri": "https://localhost:8080/",
          "height": 686
        },
        "outputId": "828671b5-e23a-42f2-c394-2705c8322da3"
      },
      "source": [
        "nullV = pd.DataFrame(husMod.isnull().sum().sort_values(ascending=False))\n",
        "print(nullV.shape)\n",
        "nullV[:20]"
      ],
      "execution_count": null,
      "outputs": []
    },
    {
      "cell_type": "markdown",
      "metadata": {
        "id": "a-E3K6Rw0dFl"
      },
      "source": [
        "Only LotFrontage has >250 NaN's. Let's keep it and the others. We will handle them later on"
      ]
    },
    {
      "cell_type": "markdown",
      "metadata": {
        "id": "3L92fqGLXZmd"
      },
      "source": [
        "# Take care of Categorical Features\n",
        "## We will transform them to numericals\n",
        "- ordinal - Possible to set numeric values in the same order\n",
        "- others - One-hot encoding"
      ]
    },
    {
      "cell_type": "code",
      "metadata": {
        "scrolled": true,
        "id": "qyNe57LkXZme",
        "colab": {
          "base_uri": "https://localhost:8080/",
          "height": 210
        },
        "outputId": "8e9f69ac-0bfd-4ca7-cd3b-4bb123c08c50"
      },
      "source": [
        "cat = husMod.select_dtypes(exclude=[np.number]) # select all categorical features\n",
        "print(cat.shape)\n",
        "cat.describe() # check the count of non-nulls"
      ],
      "execution_count": null,
      "outputs": []
    },
    {
      "cell_type": "markdown",
      "metadata": {
        "id": "CmhpNTARXZmk"
      },
      "source": [
        "# One-hot encoding\n",
        "\n",
        "start with Street that have two unique values"
      ]
    },
    {
      "cell_type": "code",
      "metadata": {
        "id": "ptfNAwlcXZml",
        "colab": {
          "base_uri": "https://localhost:8080/",
          "height": 102
        },
        "outputId": "7373d171-499e-440c-d436-d50d10845686"
      },
      "source": [
        "print(\"Before:\")\n",
        "print(husMod.Street.dtype)\n",
        "husMod.Street.value_counts()"
      ],
      "execution_count": null,
      "outputs": []
    },
    {
      "cell_type": "code",
      "metadata": {
        "id": "__0pLRiHXZmq",
        "colab": {
          "base_uri": "https://localhost:8080/",
          "height": 85
        },
        "outputId": "3d972cf5-d7fe-4f29-a7f4-3319168d3cb3"
      },
      "source": [
        "husMod['enc_street']=pd.get_dummies(husMod['Street'], prefix='Street', drop_first=True) # create enc_street with 1 and 0\n",
        "husMod.loc[50:55,'enc_street']  # I happen to know that row 52 is one of the Grvl values :-)  - Now it is translated to 0\n",
        "print(\"After:\")\n",
        "husMod.enc_street.value_counts()"
      ],
      "execution_count": null,
      "outputs": []
    },
    {
      "cell_type": "markdown",
      "metadata": {
        "id": "dSG9yTPAXZmu"
      },
      "source": [
        "# Question:\n",
        "\n",
        "There are now 6 enc_street==0 (that is Street==Grvl)  \n",
        "Find out exactly where they are!\n",
        "\n",
        "Try pandas referens https://pandas.pydata.org/pandas-docs/stable/user_guide/index.html \n"
      ]
    },
    {
      "source": [
        "husMod[husMod['enc_street']==0]                         # Indexing and selecting data / Boolean indexing\n",
        "husMod.loc[lambda husMod: husMod.enc_street == 0, :]   # Indexing and selecting data / Selection by callable\n",
        "husMod.enc_street.sort_values(ascending=True).head(10)          # sorting"
      ],
      "cell_type": "code",
      "metadata": {},
      "execution_count": null,
      "outputs": []
    },
    {
      "source": [
        "# Question:\n",
        "We have now two binary columns for Street  \n",
        "What to do with the Street column?\n"
      ],
      "cell_type": "markdown",
      "metadata": {}
    },
    {
      "cell_type": "code",
      "metadata": {
        "scrolled": true,
        "id": "Mi2pSNqZXZm0"
      },
      "source": [
        "husMod.drop('Street', axis=1, inplace=True)\n"
      ],
      "execution_count": null,
      "outputs": []
    },
    {
      "cell_type": "code",
      "metadata": {
        "id": "3AEkqnlYXZnB",
        "colab": {
          "base_uri": "https://localhost:8080/",
          "height": 442
        },
        "outputId": "2a6608ef-4808-4e42-fd70-8e0d729766cf"
      },
      "source": [
        "cat.shape  # Vad kan vi göra?\n",
        "# Leta upp alla categoricals\n",
        "# Leta upp ordinal och ev sätt nummer-sekvens alt get-dummies\n",
        "# kör get_dummies (one hot encoding)\n",
        "# Kör get-dummies på dem\n",
        "\n",
        "# Example of more than 2 values\n",
        "print(cat.MSZoning.value_counts(),\"\\n\")\n",
        "h=husMod\n",
        "\n",
        "print(\"h.shape before\",h.shape,\"\\n\")\n",
        "\n",
        "dum = pd.get_dummies(h['MSZoning'], prefix='MSZ', drop_first=True)\n",
        "print(dum,\"\\n\")\n",
        "h=pd.concat([h,dum],axis=1).drop('MSZoning',axis=1)  #concatenate and drop\n",
        "\n",
        "print(\"h.shape after\",h.shape)"
      ],
      "execution_count": null,
      "outputs": []
    },
    {
      "cell_type": "markdown",
      "metadata": {
        "id": "xNY2giNMXZnF"
      },
      "source": [
        "# Nu definierar jag en funktion som kan köra igenom och fixa alla Categoricals"
      ]
    },
    {
      "cell_type": "code",
      "metadata": {
        "id": "kUoKmhfuXZnG"
      },
      "source": [
        "def cat_onehot(columns):\n",
        "    hM = husMod.copy()\n",
        "    h = husMod\n",
        "    i=0\n",
        "    for field in columns:\n",
        "        print(field)\n",
        "        dum=pd.get_dummies(hM[field],prefix=\"enc\",drop_first=True)\n",
        "        hM.drop([field], axis=1,inplace=True)\n",
        "        if i==0:\n",
        "            h = dum.copy()\n",
        "        else:\n",
        "            h = pd.concat([h,dum],axis=1)\n",
        "        \n",
        "        i=i+1\n",
        "        \n",
        "    h=pd.concat([h,hM],axis=1)\n",
        "    return h"
      ],
      "execution_count": null,
      "outputs": []
    },
    {
      "cell_type": "code",
      "metadata": {
        "id": "DStpUVkFXZnI",
        "colab": {
          "base_uri": "https://localhost:8080/",
          "height": 1000
        },
        "outputId": "3e8f3630-2c6f-4a3e-e6f7-5b47d4e703d8"
      },
      "source": [
        "cat = husMod.select_dtypes(exclude=[np.number])\n",
        "husMod=cat_onehot(cat.columns)\n",
        "## No need for: husMod.drop(cat.columns,axis=1,inplace=True)\n",
        "husMod"
      ],
      "execution_count": null,
      "outputs": []
    },
    {
      "cell_type": "code",
      "metadata": {
        "id": "bWgddJSJXZnK",
        "colab": {
          "base_uri": "https://localhost:8080/",
          "height": 34
        },
        "outputId": "0af9341b-9b4a-43f6-bf71-ae0876be37cb"
      },
      "source": [
        "# ta bort dubletter\n",
        "husMod=husMod.loc[:,~husMod.columns.duplicated()]\n",
        "#Kolumner som är exakt lika ger ingen extra information till sklearn\n",
        "husMod.shape"
      ],
      "execution_count": null,
      "outputs": []
    },
    {
      "cell_type": "markdown",
      "metadata": {
        "id": "2alQfjTp-64x"
      },
      "source": [
        "# We still have missing values to take care of"
      ]
    },
    {
      "cell_type": "code",
      "metadata": {
        "id": "AfHJ-3nZ-3_g",
        "colab": {
          "base_uri": "https://localhost:8080/",
          "height": 374
        },
        "outputId": "ade633a1-969b-450c-aaba-b51f4b72e9ad"
      },
      "source": [
        "husMod.isna().sum().sort_values(ascending=False).head(20)  # we had 19 before"
      ],
      "execution_count": null,
      "outputs": []
    },
    {
      "cell_type": "code",
      "metadata": {
        "id": "sZuNNbFqAAsd",
        "colab": {
          "base_uri": "https://localhost:8080/",
          "height": 755
        },
        "outputId": "9a197ada-e0b3-4b5d-e105-cf98e55a635f"
      },
      "source": [
        "husMod.select_dtypes(exclude=[np.number]).columns.shape  # No categoricals left\n",
        "print(\"Before: \", sum(husMod.isnull().sum() != 0))\n",
        "\n",
        "husMod=husMod.fillna(husMod.mean())        # Ta bort alla numeriska\n",
        "print(\"after mean: \", sum(husMod.isnull().sum() != 0))\n",
        "husMod=husMod.fillna(husMod.mode())\n",
        "print(\"after mode: \", sum(husMod.isnull().sum() != 0))\n",
        "\n",
        "# we know that the only features left with NaN are categorical\n",
        "for column in husMod.columns:\n",
        "    husMod[column].fillna(husMod[column].mode()[0], inplace=True)\n",
        "    \n",
        "print(\"After all:\", sum(husMod.isnull().sum() != 0))\n",
        "\n",
        "cat.columns\n",
        "husMod.head(19)\n"
      ],
      "execution_count": null,
      "outputs": []
    },
    {
      "cell_type": "markdown",
      "metadata": {
        "id": "vmRjzUqQXZnN"
      },
      "source": [
        "\n",
        "\n",
        "# Create Polynomial features\n",
        "You can adapt a feature to a polynomial distribution  \n",
        "We will not do this here but this is an example"
      ]
    },
    {
      "cell_type": "code",
      "metadata": {
        "id": "afV-xiqPXZnN",
        "colab": {
          "base_uri": "https://localhost:8080/",
          "height": 473
        },
        "outputId": "84db454e-0f40-4e59-9d75-7d14c5a60418"
      },
      "source": [
        "from sklearn.preprocessing import PolynomialFeatures\n",
        "poly = PolynomialFeatures(2) # degree of polynomial\n",
        "poly.fit(hus[['LotArea']])\n",
        "polyLot = poly.transform(husMod[['LotArea']])\n",
        "print(polyLot.shape)\n",
        "print(husMod.shape)\n",
        "# We would then replace LotArea with these 3 columns\n",
        "pd.concat([pd.DataFrame(polyLot),husMod],axis=1,join='inner').drop('LotArea',axis=1)\n",
        "\n"
      ],
      "execution_count": null,
      "outputs": []
    },
    {
      "cell_type": "markdown",
      "metadata": {
        "id": "5EeHNV6PXZnP"
      },
      "source": [
        "\n",
        "\n",
        "---\n",
        "\n",
        "</br>  \n",
        "# Select model/method\n",
        "Det finns massor med olika typer av ML-metoder och tekniker att välja från\n",
        "Vi skall titta på \n",
        "- classic linear regression\n",
        "- XGBoost - creates trees\n",
        "- Neurala Networks\n"
      ]
    },
    {
      "cell_type": "markdown",
      "metadata": {
        "id": "r_fe1nlAXZnQ"
      },
      "source": [
        "# Build the model\n",
        "\n",
        "We will use SalePrice as Y-values and the rest of husMod as X-values. That's what sklearn wants.\n",
        "\n",
        "'Id' is not useful or learning\n"
      ]
    },
    {
      "cell_type": "code",
      "metadata": {
        "id": "znpbD_ifXZnR",
        "colab": {
          "base_uri": "https://localhost:8080/",
          "height": 51
        },
        "outputId": "09c1526c-0379-42ae-fec0-9909d1bd5856"
      },
      "source": [
        "y = husMod.SalePrice      # np.log()SalePrice!\n",
        "X = husMod.drop(['SalePrice', 'Id'], axis=1)\n",
        "print(y.shape,\"\\n\",X.shape)"
      ],
      "execution_count": null,
      "outputs": []
    },
    {
      "cell_type": "code",
      "metadata": {
        "id": "6vx0-cbxXZnV"
      },
      "source": [
        "from sklearn.model_selection import train_test_split\n",
        "X_train, X_test, y_train, y_test = train_test_split(X, y, random_state=3, test_size=0.30)\n",
        "\n",
        "# sklearn has created a pair för learning (X_train och Y_train) \n",
        "# and a pair (30% of husMod) for validation (y_train och y_test)"
      ],
      "execution_count": null,
      "outputs": []
    },
    {
      "cell_type": "markdown",
      "metadata": {
        "id": "7WdsXh6wXZna"
      },
      "source": [
        "# Question:\n",
        "Why do we need both train and test?"
      ]
    },
    {
      "cell_type": "markdown",
      "metadata": {
        "id": "yOiPzdwvXZnb"
      },
      "source": [
        "# Create an instans of LinearRegression\n"
      ]
    },
    {
      "cell_type": "code",
      "metadata": {
        "id": "F9jIFD8qewn4",
        "colab": {
          "base_uri": "https://localhost:8080/",
          "height": 34
        },
        "outputId": "845feb7f-5f5a-46e0-9ec4-58cbb9364363"
      },
      "source": [
        "from sklearn.linear_model import LinearRegression\n",
        "from sklearn.metrics import mean_squared_error, r2_score\n",
        "\n",
        "linr = LinearRegression()\n",
        "# now run the actual learning with \"fit\"\n",
        "m=linr.fit(X_train, y_train)\n",
        "m"
      ],
      "execution_count": null,
      "outputs": []
    },
    {
      "cell_type": "markdown",
      "metadata": {
        "id": "957WcSWoXZne"
      },
      "source": [
        "# How to meassure the result?\n",
        "\n"
      ]
    },
    {
      "cell_type": "markdown",
      "metadata": {
        "id": "xILmJCvtuzYR"
      },
      "source": [
        "![R2](https://drive.google.com/uc?id=1KRm3mPCro1QIyHl8piDiijOd78z676YY)"
      ]
    },
    {
      "cell_type": "code",
      "metadata": {
        "id": "yOiE0y08XZng",
        "colab": {
          "base_uri": "https://localhost:8080/",
          "height": 34
        },
        "outputId": "b277e160-4438-4dfd-c071-472abdf57073"
      },
      "source": [
        "m.score(X_test, y_test) # Ett enkelt sätt att mäta - 0 = alla fel, 1 = alla rätt"
      ],
      "execution_count": null,
      "outputs": []
    },
    {
      "cell_type": "markdown",
      "metadata": {
        "id": "1L8EkEl1d1dX"
      },
      "source": [
        "# Det finns många varianter av mätning\n",
        "## Den praktiska skillnaden är hur stor påverkan outliers har på felet  \n",
        "\n",
        "### Formel för MSE (Mean Square Error): $$ MSE = \\frac{1}{N}\\sum_{i=1}^{N}{(y_i-\\hat{y}_i)^2} $$\n",
        "\n",
        "### Formel för MAE (Mean Absolute Error): $$ MAE = \\frac{1}{N}\\sum_{i=1}^{N}{|y_i-\\hat{y}_i|} $$\n",
        " \n",
        "### Formel för MAE (Root Mean Square Error): $$ RMSE = \\sqrt{MSE(y_i, \\hat{y}_i))} $$\n",
        "\n",
        "---\n",
        "### Kaggle Boston huspriser: Root Mean Square Log Error \n",
        "### Formel för RMSLE: $$ RMSLE = \\sqrt{MSE(log(y_i + 1), log(\\hat{y}_i + 1))} $$  \n",
        "\n",
        "\n"
      ]
    },
    {
      "cell_type": "code",
      "metadata": {
        "id": "bpMOJQwrXZnl"
      },
      "source": [
        "# En Python-funktion för att enkelt kunna ge både R2 och RMSE för både train och test\n",
        "# Kaggel want RMSE on log-value of the SalePrice\n",
        "# np.log is already done on SalePrice so it is no need to log again for rmse of log-values\n",
        "\n",
        "def score(model):\n",
        "\n",
        "    model.fit(X_train, y_train)\n",
        "    \n",
        "    for X, y in ((X_train, y_train), (X_test, y_test)):\n",
        "        y_predict = model.predict(X)\n",
        "        rmse = np.sqrt(np.mean((y-y_predict)**2))\n",
        "        r2 = r2_score( np.exp(y), np.exp(y_predict))\n",
        "    \n",
        "        if hasattr(model, 'oob_score_'):\n",
        "            print(\"rmse:\",rmse, \"r2:\",r2, \"oob\",m.oob_score_)\n",
        "        else:\n",
        "            print(\"rmse:\",rmse, \"r2:\",r2)"
      ],
      "execution_count": null,
      "outputs": []
    },
    {
      "cell_type": "code",
      "metadata": {
        "id": "s3X2AG5PXZnp",
        "colab": {
          "base_uri": "https://localhost:8080/",
          "height": 51
        },
        "outputId": "24f34e43-13c3-4c97-d08b-aeccae175ff1"
      },
      "source": [
        "\n",
        "# r2 mäter hur nära vår prediction är linear regression linjen/planet\n",
        "# RMSE är vad kaggle ofta mäter. Root Mean Square Error\n",
        "score(m)\n",
        "\n"
      ],
      "execution_count": null,
      "outputs": []
    },
    {
      "cell_type": "markdown",
      "metadata": {
        "id": "jiJES7IjXZn0"
      },
      "source": [
        "# RandomForest Regressor\n",
        "Ett alternativ till klassisk Linear Regression. \n",
        "Bygger n st träd och väljer en viktning mellan träden"
      ]
    },
    {
      "cell_type": "code",
      "metadata": {
        "id": "fj_3z0qyXZn1",
        "colab": {
          "base_uri": "https://localhost:8080/",
          "height": 204
        },
        "outputId": "bec5f88a-8fcf-4b75-cbac-f23c3516ccc6"
      },
      "source": [
        "n=150\n",
        "from sklearn.ensemble import RandomForestRegressor\n",
        "m = RandomForestRegressor(n_estimators=n, n_jobs=-1)\n",
        "print(m)\n",
        "print(\"\\n\")\n",
        "score(m)"
      ],
      "execution_count": null,
      "outputs": []
    },
    {
      "cell_type": "code",
      "metadata": {
        "id": "hjVspOXOXZn2",
        "colab": {
          "base_uri": "https://localhost:8080/",
          "height": 119
        },
        "outputId": "9a254c10-120f-411d-e2c2-eddc86070455"
      },
      "source": [
        "np.exp(y_test).head()  # Om vi vill se SalePrice i korrekt form"
      ],
      "execution_count": null,
      "outputs": []
    },
    {
      "cell_type": "markdown",
      "metadata": {
        "id": "KHv-MMGpXZn4"
      },
      "source": [
        "# Artificial Neural Network\n",
        "Ytterligare ett av många alternativ till Linear Regression\n",
        "1. Vi måste normalisera all data till [0,1] eller [-1 - +1]\n",
        "2. Vi behöver bestämma antal hidden layers och antal noder i varje hidden layer\n",
        "3. Vi behöver bestämma en fasligt massa andra parametrar - ***HyperParameters***"
      ]
    },
    {
      "cell_type": "markdown",
      "metadata": {
        "id": "RO6q-kRkXZn5"
      },
      "source": [
        "# 1. Normalizing Data"
      ]
    },
    {
      "cell_type": "code",
      "metadata": {
        "id": "2uPwpFgYXZn5",
        "colab": {
          "base_uri": "https://localhost:8080/",
          "height": 34
        },
        "outputId": "7e8555b9-1676-4bcb-bd0e-f4f2a6f876a8"
      },
      "source": [
        "from sklearn.neural_network import MLPRegressor\n",
        "from sklearn.metrics import mean_squared_error\n",
        "from sklearn import preprocessing\n",
        "from sklearn.preprocessing import StandardScaler\n",
        "\n",
        "scaler = StandardScaler()  \n",
        "# fit bara på train data\n",
        "scaler.fit(X_train)  "
      ],
      "execution_count": null,
      "outputs": []
    },
    {
      "cell_type": "code",
      "metadata": {
        "id": "7VvJfdLAXZn7",
        "colab": {
          "base_uri": "https://localhost:8080/",
          "height": 238
        },
        "outputId": "b7e704cd-734a-412d-aa16-1144e60bf6da"
      },
      "source": [
        "XB_train = X_train\n",
        "XB_test = X_test\n",
        "XB_train = scaler.transform(XB_train)  \n",
        "# apply same transformation to test data\n",
        "XB_test = scaler.transform(XB_test)\n",
        "#print('XB_test', XB_test.shape)\n",
        "XB_train.shape\n",
        "XB_train\n"
      ],
      "execution_count": null,
      "outputs": []
    },
    {
      "cell_type": "code",
      "metadata": {
        "id": "tWj2muauXZn9",
        "colab": {
          "base_uri": "https://localhost:8080/",
          "height": 170
        },
        "outputId": "b5f6f960-0e3c-4a44-e3ff-39ced7ce8b5a"
      },
      "source": [
        "print(y_train.describe())\n",
        "yB_train = (y_train-y_train.min())/(y_train.max()-y_train.min())\n",
        "yB_test =  (y_test-y_test.min())/(y_test.max()-y_test.min())\n",
        "yB_train = yB_train.values\n",
        "yB_test = yB_test.values"
      ],
      "execution_count": null,
      "outputs": []
    },
    {
      "cell_type": "code",
      "metadata": {
        "id": "kNmLAmIcgkyW"
      },
      "source": [
        "from sklearn.neural_network import MLPRegressor   # Vi väljer ett Neuralt Nät av typen MLPRegressor\n",
        "from sklearn.metrics import mean_squared_error\n",
        "from sklearn import preprocessing\n"
      ],
      "execution_count": null,
      "outputs": []
    },
    {
      "cell_type": "code",
      "metadata": {
        "id": "wqUicrfQXZoA"
      },
      "source": [
        "# Här definierar vi en Python-funktion för att enklare kunna köra vårt Neaurala Nät  \n",
        "# Vi väljer lika många noder i hidden layer som noder i input-datat (X_train)\n",
        "def run_ANN(X_train, y_train, X_test, y_test):\n",
        "    # Test on the boston dataset\n",
        "    mlp = MLPRegressor(hidden_layer_sizes=X_train.shape[0],\n",
        "                          max_iter=200, random_state=1,\n",
        "                          activation='relu')\n",
        "    mlp.fit(X_train, y_train)\n",
        "    trainScore=mlp.score(X_train, y_train)\n",
        "\n",
        "    y=mlp.fit(X_test, y_test)\n",
        "    testScore = mlp.score(X_test, y_test)\n",
        "    print(\"Train R2:\",trainScore) \n",
        "    print(\"Test R2 :\",testScore)\n",
        "    "
      ],
      "execution_count": null,
      "outputs": []
    },
    {
      "cell_type": "code",
      "metadata": {
        "id": "invYOuKgXZoC",
        "colab": {
          "base_uri": "https://localhost:8080/",
          "height": 51
        },
        "outputId": "a1709d78-339a-4665-9208-e0238796a4fb"
      },
      "source": [
        "run_ANN(XB_train, y_train.values, XB_test, y_test.values)\n"
      ],
      "execution_count": null,
      "outputs": []
    },
    {
      "cell_type": "code",
      "metadata": {
        "id": "JJuWJghhXZoH"
      },
      "source": [],
      "execution_count": null,
      "outputs": []
    }
  ]
}