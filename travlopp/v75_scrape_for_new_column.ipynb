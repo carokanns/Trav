{
 "metadata": {
  "language_info": {
   "codemirror_mode": {
    "name": "ipython",
    "version": 3
   },
   "file_extension": ".py",
   "mimetype": "text/x-python",
   "name": "python",
   "nbconvert_exporter": "python",
   "pygments_lexer": "ipython3",
   "version": "3.7.4-final"
  },
  "orig_nbformat": 2,
  "kernelspec": {
   "name": "python3",
   "display_name": "Python 3",
   "language": "python"
  }
 },
 "nbformat": 4,
 "nbformat_minor": 2,
 "cells": [
  {
   "source": [
    "## input:    länkar till lopp\n",
    "## scrape:   någon uppgift från varje lopp (inkl datum, avd, häst)\n",
    "## merge:    merge in ny kolumn i mer_komplett.csv\n",
    "## output:   uppdaerad mer_komplett.csv"
   ],
   "cell_type": "markdown",
   "metadata": {}
  },
  {
   "cell_type": "code",
   "execution_count": 6,
   "metadata": {},
   "outputs": [
    {
     "output_type": "stream",
     "name": "stdout",
     "text": [
      "Requirement already satisfied: selenium in c:\\users\\peter\\anaconda3\\lib\\site-packages (3.141.0)\nRequirement already satisfied: urllib3 in c:\\users\\peter\\anaconda3\\lib\\site-packages (from selenium) (1.24.2)\n"
     ]
    }
   ],
   "source": [
    "#!apt install chromium-chromedriver\n",
    "!pip install selenium\n",
    "\n",
    "\n",
    "import pandas as  pd \n",
    "import numpy as np\n",
    "from selenium import webdriver \n",
    "from selenium.webdriver.common.by import By \n",
    "from selenium.webdriver.support.ui import WebDriverWait \n",
    "from selenium.webdriver.support import expected_conditions as EC \n",
    "from selenium.common.exceptions import TimeoutException\n",
    "\n",
    "import logging\n",
    "logging.basicConfig(filename='bet.log', filemode='w', format='%(name)s - %(message)s',level=logging.INFO)\n"
   ]
  },
  {
   "cell_type": "code",
   "execution_count": 7,
   "metadata": {},
   "outputs": [],
   "source": [
    "\n",
    "def getBana(the_driver, avd, after=False):\n",
    "    hack = '2' if avd == '7' else '1'     # när jag kör direkt efter omgångens slut\n",
    "    #hack = '1' if avd == '7' else '1'    # när jag kör innan?\n",
    "\n",
    "    #print('bana avd', avd, 'after', after, 'hack', hack)\n",
    "    end_string = '/div['+hack+']/div/div[1]/div/div[2]/div[2]/div[1]/span'\n",
    "    if after:\n",
    "        end_string = '/div['+hack + \\\n",
    "            ']/div[1]/div[1]/div/div[2]/div[2]/div[1]/span'\n",
    "\n",
    "    pth = '//*[@id=\"main\"]/div[3]/div[2]/div/div/div/div/div/div[7]/div[' + \\\n",
    "        avd+']/div/div' + end_string\n",
    "\n",
    "    bana = the_driver.find_element_by_xpath(pth)\n",
    "\n",
    "    return bana.text\n",
    "\n",
    "\n",
    "\n",
    "def getNamn(the_driver, avd, i, after=False):\n",
    "\n",
    "    end_string = '/td[1]/span[2]/div/span[1]'\n",
    "    if after:\n",
    "        end_string = '/td[1]/span/div/span[1]'\n",
    "\n",
    "    pth = '//*[@id=\"main\"]/div[3]/div[2]/div/div/div/div/div/div[7]/div[' + \\\n",
    "        avd + ']/div/div/table/tbody/tr[' + str(i) + ']' + end_string\n",
    "\n",
    "    namn = the_driver.find_element_by_xpath(pth)\n",
    "    return namn.text\n",
    "\n",
    "def getVodds(the_driver, avd, i, after=False):\n",
    "    # vo = '7'  #blev fel direkt efter omg\n",
    "    vo = '4'  #\n",
    "\n",
    "    pth = '//*[@id=\"main\"]/div[3]/div[2]/div/div/div/div/div/div[7]/div['+avd+']/div/div/table/tbody/tr['+str(i)+']/td['+vo+']'\n",
    "    \n",
    "    vodds = the_driver.find_element_by_xpath(pth)\n",
    "\n",
    "    return vodds.text\n",
    "\n",
    "def getStreck(the_driver, avd, i, after=False):\n",
    "    pth = '//*[@id=\"main\"]/div[3]/div[2]/div/div/div/div/div/div[7]/div['+avd+']/div/div/table/tbody/tr['+str(i)+']/td[3]'\n",
    "    streck = the_driver.find_element_by_xpath(pth)\n",
    "    return streck.text\n",
    "\n",
    "def getPris(the_driver, avd, after=False):\n",
    "    hack='2' if avd=='7' else '1'\n",
    "\n",
    "    pth = '//*[@id=\"main\"]/div[3]/div[2]/div/div/div/div/div/div[7]/div['+avd+']/div/div/div['+hack+']/div[1]/div[2]/div/span[3]'\n",
    "    prisrad = the_driver.find_element_by_xpath(pth).text\n",
    "    priser = prisrad.replace('Pris: ','')\n",
    "\n",
    "    return priser.split(sep='-')[0]\n",
    "\n",
    "### utdelning ###\n",
    "def getUtd(the_driver):\n",
    "    pth = '//*[@id=\"main\"]/div[3]/div[2]/div/div/div/div/div/div[5]/div[3]/ol/li[1]/span[3]'\n",
    "    utd7= the_driver.find_element_by_xpath(pth).text\n",
    "    utd7=utd7.replace(' ','')\n",
    "    utd7=utd7.replace('kr','')\n",
    "    \n",
    "    pth = '//*[@id=\"main\"]/div[3]/div[2]/div/div/div/div/div/div[5]/div[3]/ol/li[2]/span[3]'\n",
    "    utd6= the_driver.find_element_by_xpath(pth).text\n",
    "    utd6=utd6.replace(' ','')\n",
    "    utd6=utd6.replace('kr','')\n",
    "\n",
    "    pth = '//*[@id=\"main\"]/div[3]/div[2]/div/div/div/div/div/div[5]/div[3]/ol/li[3]/span[3]'\n",
    "    utd5= the_driver.find_element_by_xpath(pth).text\n",
    "    utd5=utd5.replace(' ','')\n",
    "    utd5=utd5.replace('kr','')\n",
    "    \n",
    "    return utd7,utd6,utd5\n",
    "\n"
   ]
  },
  {
   "cell_type": "code",
   "execution_count": 8,
   "metadata": {},
   "outputs": [],
   "source": [
    "def init_scraping(url):\n",
    "    print('init')\n",
    "    # get the webdriver\n",
    "    driver_s = webdriver.Chrome(executable_path='C:\\\\Users\\peter\\\\Documents\\\\MyProjects\\\\gecko\\\\chromedriver.exe')  \n",
    "    print(f\"get v75 omg 1\")\n",
    "    driver_s.get(url)\n",
    "    driver_s.implicitly_wait(30) # seconds\n",
    "    print('fullscreen')\n",
    "    driver_s.fullscreen_window()\n",
    "\n",
    "    import os\n",
    "    input('klicka bort popup och tryck enter här')\n",
    "    \n",
    "    return driver_s"
   ]
  },
  {
   "cell_type": "code",
   "execution_count": 9,
   "metadata": {},
   "outputs": [],
   "source": [
    "def do_scraping(url,driver_s):\n",
    "    print('innan get url')\n",
    "    driver_s.get(url)\n",
    "    print('efter get url')\n",
    "    driver_s.implicitly_wait(2) # seconds\n",
    "    print('innan fullscreen')\n",
    "    driver_s.fullscreen_window()\n",
    "    print('efter fullscreen')\n",
    "    driver_s.implicitly_wait(5) # seconds\n",
    "    print('efter wait5')\n",
    "    alla=[]\n",
    "    dat = url.split('spel/')[1][0:10]  #gräv ut datum  \n",
    "    print(dat)\n",
    "    for avd in range(1,8): \n",
    "     # get lista med lopp-rader\n",
    "        avd_pth = '//*[@id=\"main\"]/div[3]/div[2]/div/div/div/div/div/div[7]/div['+str(avd)+']/div/div/table/tbody'\n",
    "        avd_tot = driver_s.find_elements_by_xpath(avd_pth)\n",
    "        driver_s.implicitly_wait(0) # seconds\n",
    "        lista = avd_tot[0].text.split('\\n')\n",
    "\n",
    "        bana = getBana(driver_s,str(avd))\n",
    "\n",
    "        pris = getPris(driver_s,str(avd))\n",
    "    \n",
    "        ##### pris ######\n",
    "        data = [dat, bana, avd, pris]\n",
    "        alla.append(data)   \n",
    "        logging.warning(f'{dat} {bana} avd={str(avd)}')\n",
    "\n",
    "        if True:\n",
    "            ## bryr mig bara och loppdata, inte häst just nu\n",
    "            continue\n",
    "\n",
    "        hst=0\n",
    "        for i in range(len(lista)):\n",
    "               \n",
    "            if lista[i][:8] != 'Tillägg:':\n",
    "                hst+=1\n",
    "                \n",
    "                if getVodds(driver_s,str(avd),i+1) != 'EJ':\n",
    "                    #print('hitta namn')\n",
    "                    namn = getNamn(driver_s,str(avd),i+1,after=True)\n",
    "\n",
    "                    ##### streck ######\n",
    "                    streck = getStreck(driver_s,str(avd),i+1)\n",
    "                    data = [dat, bana, avd, hst, namn, streck]\n",
    "\n",
    "    return alla\n"
   ]
  },
  {
   "cell_type": "code",
   "execution_count": 10,
   "metadata": {
    "tags": []
   },
   "outputs": [
    {
     "output_type": "error",
     "ename": "FileNotFoundError",
     "evalue": "[Errno 2] File b'vissa_lopp2.csv' does not exist: b'vissa_lopp2.csv'",
     "traceback": [
      "\u001b[1;31m---------------------------------------------------------------------------\u001b[0m",
      "\u001b[1;31mFileNotFoundError\u001b[0m                         Traceback (most recent call last)",
      "\u001b[1;32m<ipython-input-10-b8afb7e2ceb7>\u001b[0m in \u001b[0;36m<module>\u001b[1;34m\u001b[0m\n\u001b[0;32m      1\u001b[0m \u001b[0mcolData\u001b[0m\u001b[1;33m=\u001b[0m\u001b[1;33m[\u001b[0m\u001b[1;33m]\u001b[0m\u001b[1;33m\u001b[0m\u001b[1;33m\u001b[0m\u001b[0m\n\u001b[1;32m----> 2\u001b[1;33m \u001b[0momg\u001b[0m \u001b[1;33m=\u001b[0m \u001b[0mpd\u001b[0m\u001b[1;33m.\u001b[0m\u001b[0mread_csv\u001b[0m\u001b[1;33m(\u001b[0m\u001b[1;34m'vissa_lopp2.csv'\u001b[0m\u001b[1;33m,\u001b[0m\u001b[0mheader\u001b[0m\u001b[1;33m=\u001b[0m\u001b[1;32mNone\u001b[0m\u001b[1;33m)\u001b[0m\u001b[1;33m\u001b[0m\u001b[1;33m\u001b[0m\u001b[0m\n\u001b[0m\u001b[0;32m      3\u001b[0m \u001b[0momg\u001b[0m\u001b[1;33m.\u001b[0m\u001b[0mcolumns\u001b[0m\u001b[1;33m=\u001b[0m\u001b[1;33m[\u001b[0m\u001b[1;34m'url'\u001b[0m\u001b[1;33m]\u001b[0m\u001b[1;33m\u001b[0m\u001b[1;33m\u001b[0m\u001b[0m\n\u001b[0;32m      4\u001b[0m \u001b[0mprint\u001b[0m\u001b[1;33m(\u001b[0m\u001b[1;34mf'{omg.size} omgångar'\u001b[0m\u001b[1;33m)\u001b[0m\u001b[1;33m\u001b[0m\u001b[1;33m\u001b[0m\u001b[0m\n\u001b[0;32m      5\u001b[0m \u001b[0mdriver_s\u001b[0m \u001b[1;33m=\u001b[0m \u001b[0minit_scraping\u001b[0m\u001b[1;33m(\u001b[0m\u001b[0momg\u001b[0m\u001b[1;33m.\u001b[0m\u001b[0miloc\u001b[0m\u001b[1;33m[\u001b[0m\u001b[1;36m0\u001b[0m\u001b[1;33m]\u001b[0m\u001b[1;33m.\u001b[0m\u001b[0murl\u001b[0m\u001b[1;33m)\u001b[0m\u001b[1;33m\u001b[0m\u001b[1;33m\u001b[0m\u001b[0m\n",
      "\u001b[1;32m~\\Anaconda3\\lib\\site-packages\\pandas\\io\\parsers.py\u001b[0m in \u001b[0;36mparser_f\u001b[1;34m(filepath_or_buffer, sep, delimiter, header, names, index_col, usecols, squeeze, prefix, mangle_dupe_cols, dtype, engine, converters, true_values, false_values, skipinitialspace, skiprows, skipfooter, nrows, na_values, keep_default_na, na_filter, verbose, skip_blank_lines, parse_dates, infer_datetime_format, keep_date_col, date_parser, dayfirst, cache_dates, iterator, chunksize, compression, thousands, decimal, lineterminator, quotechar, quoting, doublequote, escapechar, comment, encoding, dialect, error_bad_lines, warn_bad_lines, delim_whitespace, low_memory, memory_map, float_precision)\u001b[0m\n\u001b[0;32m    683\u001b[0m         )\n\u001b[0;32m    684\u001b[0m \u001b[1;33m\u001b[0m\u001b[0m\n\u001b[1;32m--> 685\u001b[1;33m         \u001b[1;32mreturn\u001b[0m \u001b[0m_read\u001b[0m\u001b[1;33m(\u001b[0m\u001b[0mfilepath_or_buffer\u001b[0m\u001b[1;33m,\u001b[0m \u001b[0mkwds\u001b[0m\u001b[1;33m)\u001b[0m\u001b[1;33m\u001b[0m\u001b[1;33m\u001b[0m\u001b[0m\n\u001b[0m\u001b[0;32m    686\u001b[0m \u001b[1;33m\u001b[0m\u001b[0m\n\u001b[0;32m    687\u001b[0m     \u001b[0mparser_f\u001b[0m\u001b[1;33m.\u001b[0m\u001b[0m__name__\u001b[0m \u001b[1;33m=\u001b[0m \u001b[0mname\u001b[0m\u001b[1;33m\u001b[0m\u001b[1;33m\u001b[0m\u001b[0m\n",
      "\u001b[1;32m~\\Anaconda3\\lib\\site-packages\\pandas\\io\\parsers.py\u001b[0m in \u001b[0;36m_read\u001b[1;34m(filepath_or_buffer, kwds)\u001b[0m\n\u001b[0;32m    455\u001b[0m \u001b[1;33m\u001b[0m\u001b[0m\n\u001b[0;32m    456\u001b[0m     \u001b[1;31m# Create the parser.\u001b[0m\u001b[1;33m\u001b[0m\u001b[1;33m\u001b[0m\u001b[1;33m\u001b[0m\u001b[0m\n\u001b[1;32m--> 457\u001b[1;33m     \u001b[0mparser\u001b[0m \u001b[1;33m=\u001b[0m \u001b[0mTextFileReader\u001b[0m\u001b[1;33m(\u001b[0m\u001b[0mfp_or_buf\u001b[0m\u001b[1;33m,\u001b[0m \u001b[1;33m**\u001b[0m\u001b[0mkwds\u001b[0m\u001b[1;33m)\u001b[0m\u001b[1;33m\u001b[0m\u001b[1;33m\u001b[0m\u001b[0m\n\u001b[0m\u001b[0;32m    458\u001b[0m \u001b[1;33m\u001b[0m\u001b[0m\n\u001b[0;32m    459\u001b[0m     \u001b[1;32mif\u001b[0m \u001b[0mchunksize\u001b[0m \u001b[1;32mor\u001b[0m \u001b[0miterator\u001b[0m\u001b[1;33m:\u001b[0m\u001b[1;33m\u001b[0m\u001b[1;33m\u001b[0m\u001b[0m\n",
      "\u001b[1;32m~\\Anaconda3\\lib\\site-packages\\pandas\\io\\parsers.py\u001b[0m in \u001b[0;36m__init__\u001b[1;34m(self, f, engine, **kwds)\u001b[0m\n\u001b[0;32m    893\u001b[0m             \u001b[0mself\u001b[0m\u001b[1;33m.\u001b[0m\u001b[0moptions\u001b[0m\u001b[1;33m[\u001b[0m\u001b[1;34m\"has_index_names\"\u001b[0m\u001b[1;33m]\u001b[0m \u001b[1;33m=\u001b[0m \u001b[0mkwds\u001b[0m\u001b[1;33m[\u001b[0m\u001b[1;34m\"has_index_names\"\u001b[0m\u001b[1;33m]\u001b[0m\u001b[1;33m\u001b[0m\u001b[1;33m\u001b[0m\u001b[0m\n\u001b[0;32m    894\u001b[0m \u001b[1;33m\u001b[0m\u001b[0m\n\u001b[1;32m--> 895\u001b[1;33m         \u001b[0mself\u001b[0m\u001b[1;33m.\u001b[0m\u001b[0m_make_engine\u001b[0m\u001b[1;33m(\u001b[0m\u001b[0mself\u001b[0m\u001b[1;33m.\u001b[0m\u001b[0mengine\u001b[0m\u001b[1;33m)\u001b[0m\u001b[1;33m\u001b[0m\u001b[1;33m\u001b[0m\u001b[0m\n\u001b[0m\u001b[0;32m    896\u001b[0m \u001b[1;33m\u001b[0m\u001b[0m\n\u001b[0;32m    897\u001b[0m     \u001b[1;32mdef\u001b[0m \u001b[0mclose\u001b[0m\u001b[1;33m(\u001b[0m\u001b[0mself\u001b[0m\u001b[1;33m)\u001b[0m\u001b[1;33m:\u001b[0m\u001b[1;33m\u001b[0m\u001b[1;33m\u001b[0m\u001b[0m\n",
      "\u001b[1;32m~\\Anaconda3\\lib\\site-packages\\pandas\\io\\parsers.py\u001b[0m in \u001b[0;36m_make_engine\u001b[1;34m(self, engine)\u001b[0m\n\u001b[0;32m   1133\u001b[0m     \u001b[1;32mdef\u001b[0m \u001b[0m_make_engine\u001b[0m\u001b[1;33m(\u001b[0m\u001b[0mself\u001b[0m\u001b[1;33m,\u001b[0m \u001b[0mengine\u001b[0m\u001b[1;33m=\u001b[0m\u001b[1;34m\"c\"\u001b[0m\u001b[1;33m)\u001b[0m\u001b[1;33m:\u001b[0m\u001b[1;33m\u001b[0m\u001b[1;33m\u001b[0m\u001b[0m\n\u001b[0;32m   1134\u001b[0m         \u001b[1;32mif\u001b[0m \u001b[0mengine\u001b[0m \u001b[1;33m==\u001b[0m \u001b[1;34m\"c\"\u001b[0m\u001b[1;33m:\u001b[0m\u001b[1;33m\u001b[0m\u001b[1;33m\u001b[0m\u001b[0m\n\u001b[1;32m-> 1135\u001b[1;33m             \u001b[0mself\u001b[0m\u001b[1;33m.\u001b[0m\u001b[0m_engine\u001b[0m \u001b[1;33m=\u001b[0m \u001b[0mCParserWrapper\u001b[0m\u001b[1;33m(\u001b[0m\u001b[0mself\u001b[0m\u001b[1;33m.\u001b[0m\u001b[0mf\u001b[0m\u001b[1;33m,\u001b[0m \u001b[1;33m**\u001b[0m\u001b[0mself\u001b[0m\u001b[1;33m.\u001b[0m\u001b[0moptions\u001b[0m\u001b[1;33m)\u001b[0m\u001b[1;33m\u001b[0m\u001b[1;33m\u001b[0m\u001b[0m\n\u001b[0m\u001b[0;32m   1136\u001b[0m         \u001b[1;32melse\u001b[0m\u001b[1;33m:\u001b[0m\u001b[1;33m\u001b[0m\u001b[1;33m\u001b[0m\u001b[0m\n\u001b[0;32m   1137\u001b[0m             \u001b[1;32mif\u001b[0m \u001b[0mengine\u001b[0m \u001b[1;33m==\u001b[0m \u001b[1;34m\"python\"\u001b[0m\u001b[1;33m:\u001b[0m\u001b[1;33m\u001b[0m\u001b[1;33m\u001b[0m\u001b[0m\n",
      "\u001b[1;32m~\\Anaconda3\\lib\\site-packages\\pandas\\io\\parsers.py\u001b[0m in \u001b[0;36m__init__\u001b[1;34m(self, src, **kwds)\u001b[0m\n\u001b[0;32m   1915\u001b[0m         \u001b[0mkwds\u001b[0m\u001b[1;33m[\u001b[0m\u001b[1;34m\"usecols\"\u001b[0m\u001b[1;33m]\u001b[0m \u001b[1;33m=\u001b[0m \u001b[0mself\u001b[0m\u001b[1;33m.\u001b[0m\u001b[0musecols\u001b[0m\u001b[1;33m\u001b[0m\u001b[1;33m\u001b[0m\u001b[0m\n\u001b[0;32m   1916\u001b[0m \u001b[1;33m\u001b[0m\u001b[0m\n\u001b[1;32m-> 1917\u001b[1;33m         \u001b[0mself\u001b[0m\u001b[1;33m.\u001b[0m\u001b[0m_reader\u001b[0m \u001b[1;33m=\u001b[0m \u001b[0mparsers\u001b[0m\u001b[1;33m.\u001b[0m\u001b[0mTextReader\u001b[0m\u001b[1;33m(\u001b[0m\u001b[0msrc\u001b[0m\u001b[1;33m,\u001b[0m \u001b[1;33m**\u001b[0m\u001b[0mkwds\u001b[0m\u001b[1;33m)\u001b[0m\u001b[1;33m\u001b[0m\u001b[1;33m\u001b[0m\u001b[0m\n\u001b[0m\u001b[0;32m   1918\u001b[0m         \u001b[0mself\u001b[0m\u001b[1;33m.\u001b[0m\u001b[0munnamed_cols\u001b[0m \u001b[1;33m=\u001b[0m \u001b[0mself\u001b[0m\u001b[1;33m.\u001b[0m\u001b[0m_reader\u001b[0m\u001b[1;33m.\u001b[0m\u001b[0munnamed_cols\u001b[0m\u001b[1;33m\u001b[0m\u001b[1;33m\u001b[0m\u001b[0m\n\u001b[0;32m   1919\u001b[0m \u001b[1;33m\u001b[0m\u001b[0m\n",
      "\u001b[1;32mpandas\\_libs\\parsers.pyx\u001b[0m in \u001b[0;36mpandas._libs.parsers.TextReader.__cinit__\u001b[1;34m()\u001b[0m\n",
      "\u001b[1;32mpandas\\_libs\\parsers.pyx\u001b[0m in \u001b[0;36mpandas._libs.parsers.TextReader._setup_parser_source\u001b[1;34m()\u001b[0m\n",
      "\u001b[1;31mFileNotFoundError\u001b[0m: [Errno 2] File b'vissa_lopp2.csv' does not exist: b'vissa_lopp2.csv'"
     ]
    }
   ],
   "source": [
    "colData=[]\n",
    "omg = pd.read_csv('vissa_lopp2.csv',header=None)\n",
    "omg.columns=['url']\n",
    "print(f'{omg.size} omgångar')\n",
    "driver_s = init_scraping(omg.iloc[0].url)\n",
    "\n",
    "for url in omg.url:\n",
    "    print(url)\n",
    "    colData.append(do_scraping(url,driver_s))\n",
    "    \n",
    "df=pd.DataFrame()\n",
    "for omgång in colData:\n",
    "    df = pd.concat([df,pd.DataFrame(omgång)])\n",
    "\n",
    "#df.columns=['datum','bana','avd','nr','häst','streck']\n",
    "df.columns=['datum','bana','avd','pris']\n",
    "df.info()\n",
    " \n",
    "\n"
   ]
  },
  {
   "cell_type": "code",
   "execution_count": null,
   "metadata": {},
   "outputs": [],
   "source": [
    "df.to_csv('pris.csv')"
   ]
  },
  {
   "cell_type": "code",
   "execution_count": null,
   "metadata": {},
   "outputs": [],
   "source": [
    " df\n"
   ]
  },
  {
   "cell_type": "code",
   "execution_count": null,
   "metadata": {},
   "outputs": [],
   "source": [
    "driver_s.quit()"
   ]
  },
  {
   "source": [
    "# Special för strecken som skall petas in i mer_komplett"
   ],
   "cell_type": "markdown",
   "metadata": {}
  },
  {
   "cell_type": "code",
   "execution_count": null,
   "metadata": {},
   "outputs": [],
   "source": [
    "mer_komplett = pd.read_csv('../spel/mer_komplett.csv')\n",
    "                     \n",
    "print(mer_komplett.shape)\n",
    "mer_komplett.info()\n",
    "#ta bort dubletter\n",
    "# mer_komplett.drop_duplicates(['datum','häst'],inplace=True)\n",
    "# mer_komplett.sort_values(by=['datum','bana','avd'],inplace=True)\n",
    "# mer_komplett.reset_index(drop=True,inplace=True)\n",
    "# print(mer_komplett.shape)\n",
    "# mer_komplett.to_csv('mer_komplett.csv', index=False)\n",
    "# mer_komplett.shape"
   ]
  },
  {
   "cell_type": "code",
   "execution_count": null,
   "metadata": {},
   "outputs": [],
   "source": [
    "print(df.shape)\n",
    "mer_komplett.shape\n"
   ]
  },
  {
   "cell_type": "code",
   "execution_count": null,
   "metadata": {},
   "outputs": [],
   "source": []
  },
  {
   "cell_type": "code",
   "execution_count": null,
   "metadata": {},
   "outputs": [],
   "source": [
    "df.datum.unique().size"
   ]
  },
  {
   "cell_type": "code",
   "execution_count": null,
   "metadata": {
    "tags": []
   },
   "outputs": [],
   "source": [
    "mer_komplett['streck'] = ' '\n",
    "for  i in range(mer_komplett.shape[0]):\n",
    "    #print(mer_komplett.iloc[i]['avd'])\n",
    "    if df[(df.datum==mer_komplett.iloc[i].datum) & (df.häst==mer_komplett.iloc[i].häst)].avd.empty:\n",
    "        print(i,'na')\n",
    "    else:\n",
    "        mer_komplett.avd.iloc[i] = int(df[(df.datum==mer_komplett.iloc[i].datum) & (df.häst==mer_komplett.iloc[i].häst)].avd)\n",
    "        mer_komplett.streck.iloc[i] = df[(df.datum==mer_komplett.iloc[i].datum) & (df.häst==mer_komplett.iloc[i].häst)].streck.values[0]\n",
    "    \n",
    "        if i%1000 == 0:\n",
    "            #print(df[(df.datum==mer_komplett.iloc[i].datum) & (df.häst==mer_komplett.iloc[i].häst)].avd.values)\n",
    "            print(mer_komplett.iloc[i]['avd'])\n",
    "            \n"
   ]
  },
  {
   "cell_type": "code",
   "execution_count": null,
   "metadata": {},
   "outputs": [],
   "source": [
    "mer_komplett.sample(50)[['datum','bana','avd','häst','streck']]"
   ]
  },
  {
   "cell_type": "code",
   "execution_count": null,
   "metadata": {},
   "outputs": [],
   "source": [
    "mer_komplett.to_csv('../spel/mer_komplett.csv',index=False)"
   ]
  },
  {
   "source": [
    "# Special för prissumma - peta in i mer_komplett"
   ],
   "cell_type": "markdown",
   "metadata": {}
  },
  {
   "cell_type": "code",
   "execution_count": null,
   "metadata": {},
   "outputs": [],
   "source": [
    "mer_komplett = pd.read_csv('../spel/mer_komplett.csv')\n",
    "                     \n",
    "print(mer_komplett.shape)\n",
    "mer_komplett.info()\n",
    "#ta bort dubletter\n",
    "# mer_komplett.drop_duplicates(['datum','häst'],inplace=True)\n",
    "# mer_komplett.sort_values(by=['datum','bana','avd'],inplace=True)\n",
    "# mer_komplett.reset_index(drop=True,inplace=True)\n",
    "# print(mer_komplett.shape)\n",
    "# mer_komplett.to_csv('mer_komplett.csv', index=False)\n",
    "# mer_komplett.shape\n"
   ]
  },
  {
   "cell_type": "code",
   "execution_count": null,
   "metadata": {},
   "outputs": [],
   "source": [
    "print(df.shape)\n",
    "mer_komplett.shape\n"
   ]
  },
  {
   "cell_type": "code",
   "execution_count": null,
   "metadata": {},
   "outputs": [],
   "source": [
    "df.datum.unique().size"
   ]
  },
  {
   "cell_type": "code",
   "execution_count": null,
   "metadata": {},
   "outputs": [],
   "source": [
    "mer_komplett['pris'] = ' '\n",
    "for  i in range(mer_komplett.shape[0]):\n",
    "    #print(mer_komplett.iloc[i]['avd'])\n",
    "    #if df[(df.datum==mer_komplett.iloc[i].datum) & (df.häst==mer_komplett.iloc[i].häst)].avd.empty:\n",
    "        #print(i,'na')\n",
    "    #else:\n",
    "    #mer_komplett.pris.iloc[i] = df[(df.datum==mer_komplett.iloc[i].datum) & (df.avd==mer_komplett.iloc[i].avd)].pris\n",
    "    mer_komplett.pris.iloc[i]=df[(df.datum==mer_komplett.iloc[i].datum) & (df.avd.astype(int)==mer_komplett.iloc[i].avd)].pris.values[0]\n",
    "    \n",
    "    if i%1000 == 0:\n",
    "        #print(df[(df.datum==mer_komplett.iloc[i].datum) & (df.häst==mer_komplett.iloc[i].häst)].avd.values)\n",
    "        print(mer_komplett.iloc[i]['avd'])\n",
    "        print(mer_komplett.iloc[i]['pris'])\n",
    "        \n",
    "            \n"
   ]
  },
  {
   "cell_type": "code",
   "execution_count": null,
   "metadata": {},
   "outputs": [],
   "source": [
    "mer_komplett.sample(50)[['datum','bana','avd','häst','pris']]\n"
   ]
  },
  {
   "cell_type": "code",
   "execution_count": null,
   "metadata": {},
   "outputs": [],
   "source": [
    "mer_komplett.to_csv('../spel/mer_komplett.csv',index=False)"
   ]
  },
  {
   "cell_type": "code",
   "execution_count": null,
   "metadata": {},
   "outputs": [],
   "source": [
    "mer_komplett.datum.unique()"
   ]
  }
 ]
}