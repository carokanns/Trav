{
 "cells": [
  {
   "source": [
    "# scraping pages från lopparkivet för att få fram länkar till alla v75-lopp \n",
    "# från fr-page + fr_dat till to-page + to_dat \n",
    "\n",
    "## Spara i vissa_lopp.csv  "
   ],
   "cell_type": "markdown",
   "metadata": {}
  },
  {
   "cell_type": "code",
   "execution_count": 1,
   "metadata": {},
   "outputs": [
    {
     "output_type": "stream",
     "name": "stdout",
     "text": [
      "Requirement already satisfied: selenium in c:\\users\\peter\\anaconda3\\lib\\site-packages (3.141.0)\nRequirement already satisfied: urllib3 in c:\\users\\peter\\anaconda3\\lib\\site-packages (from selenium) (1.24.2)\n"
     ]
    }
   ],
   "source": [
    "#!apt install chromium-chromedriver\n",
    "!pip install selenium\n"
   ]
  },
  {
   "cell_type": "code",
   "execution_count": 2,
   "metadata": {
    "colab": {},
    "colab_type": "code",
    "id": "TWL-aRyzEze6"
   },
   "outputs": [],
   "source": [
    "import pandas as  pd \n",
    "import numpy as np\n",
    "from selenium import webdriver \n",
    "from selenium.webdriver.common.by import By \n",
    "from selenium.webdriver.support.ui import WebDriverWait \n",
    "from selenium.webdriver.support import expected_conditions as EC \n",
    "from selenium.common.exceptions import TimeoutException\n",
    "\n",
    "import logging\n",
    "logging.basicConfig(filename='app.log', filemode='w', format='%(name)s - %(message)s',level=logging.INFO)\n",
    "\n",
    "\n",
    "#### Fyll i ####\n",
    "fr_page=1\n",
    "to_page=69\n",
    "#fr_dat='210109'    \n",
    "fr_dat='150103'    \n",
    "to_date='210313'   # äldsta datum\n",
    "v75_pageX = 'https://www.atg.se/videoarkiv/trav?gameTypes=V75&page='"
   ]
  },
  {
   "source": [
    "# init scraping "
   ],
   "cell_type": "markdown",
   "metadata": {}
  },
  {
   "cell_type": "code",
   "execution_count": 3,
   "metadata": {},
   "outputs": [],
   "source": [
    "def init_scraping():\n",
    "    print('init')\n",
    "    # get the webdriver\n",
    "    driver_s = webdriver.Chrome(executable_path='C:\\\\Users\\peter\\\\Documents\\\\MyProjects\\\\gecko\\\\chromedriver.exe')  \n",
    "    print(f\"get {v75_pageX+'1'}\")\n",
    "    driver_s.get(v75_pageX+'1')\n",
    "    print('fullscreen')\n",
    "    driver_s.fullscreen_window()\n",
    "\n",
    "    import os\n",
    "    input('klicka bort popup och tryck enter här')\n",
    "    \n",
    "    loppen = []  \n",
    "    return driver_s, loppen"
   ]
  },
  {
   "cell_type": "markdown",
   "metadata": {},
   "source": [
    "## Loop through the pages\n",
    "Hitta länkarna till loppen\n"
   ]
  },
  {
   "cell_type": "code",
   "execution_count": 4,
   "metadata": {
    "tags": []
   },
   "outputs": [
    {
     "output_type": "stream",
     "name": "stdout",
     "text": [
      "init\n",
      "get https://www.atg.se/videoarkiv/trav?gameTypes=V75&page=1\n",
      "fullscreen\n",
      "page 1\n",
      "antal rader 50\n",
      "page 2\n",
      "antal rader 50\n",
      "page 3\n",
      "antal rader 50\n",
      "page 4\n",
      "antal rader 50\n",
      "page 5\n",
      "antal rader 50\n",
      "page 6\n",
      "antal rader 50\n",
      "page 7\n",
      "antal rader 50\n",
      "page 8\n",
      "antal rader 50\n",
      "page 9\n",
      "antal rader 50\n",
      "page 10\n",
      "antal rader 50\n",
      "page 11\n",
      "antal rader 50\n",
      "page 12\n",
      "antal rader 50\n",
      "page 13\n",
      "antal rader 50\n",
      "page 14\n",
      "antal rader 50\n",
      "page 15\n",
      "antal rader 50\n",
      "page 16\n",
      "antal rader 50\n",
      "page 17\n",
      "antal rader 50\n",
      "page 18\n",
      "antal rader 50\n",
      "page 19\n",
      "antal rader 50\n",
      "page 20\n",
      "antal rader 50\n",
      "page 21\n",
      "antal rader 50\n",
      "page 22\n",
      "antal rader 50\n",
      "page 23\n",
      "antal rader 50\n",
      "page 24\n",
      "antal rader 50\n",
      "page 25\n",
      "antal rader 50\n",
      "page 26\n",
      "antal rader 50\n",
      "page 27\n",
      "antal rader 50\n",
      "page 28\n",
      "antal rader 50\n",
      "page 29\n",
      "antal rader 50\n",
      "page 30\n",
      "antal rader 50\n",
      "page 31\n",
      "antal rader 50\n",
      "page 32\n",
      "antal rader 50\n",
      "page 33\n",
      "antal rader 50\n",
      "page 34\n",
      "antal rader 50\n",
      "page 35\n",
      "antal rader 50\n",
      "page 36\n",
      "antal rader 50\n",
      "page 37\n",
      "antal rader 50\n",
      "page 38\n",
      "antal rader 50\n",
      "page 39\n",
      "antal rader 50\n",
      "page 40\n",
      "antal rader 50\n",
      "page 41\n",
      "antal rader 50\n",
      "page 42\n",
      "antal rader 50\n",
      "page 43\n",
      "antal rader 50\n",
      "page 44\n",
      "antal rader 50\n",
      "page 45\n",
      "antal rader 50\n",
      "page 46\n",
      "antal rader 50\n",
      "page 47\n",
      "antal rader 50\n",
      "page 48\n",
      "antal rader 50\n",
      "page 49\n",
      "antal rader 50\n",
      "page 50\n",
      "antal rader 50\n",
      "page 51\n",
      "antal rader 50\n",
      "page 52\n",
      "antal rader 50\n",
      "page 53\n",
      "antal rader 50\n",
      "page 54\n",
      "antal rader 50\n",
      "page 55\n",
      "antal rader 50\n",
      "page 56\n",
      "antal rader 50\n",
      "page 57\n",
      "antal rader 50\n",
      "page 58\n",
      "antal rader 50\n",
      "page 59\n",
      "antal rader 50\n",
      "page 60\n",
      "antal rader 50\n",
      "page 61\n",
      "antal rader 50\n",
      "page 62\n",
      "antal rader 50\n",
      "page 63\n",
      "antal rader 50\n",
      "page 64\n",
      "antal rader 50\n",
      "page 65\n",
      "antal rader 50\n",
      "page 66\n",
      "antal rader 50\n",
      "page 67\n",
      "antal rader 50\n",
      "page 68\n",
      "antal rader 50\n",
      "page 69\n",
      "antal rader 50\n",
      "0       https://www.atg.se/spel/2021-03-13/vinnare/axe...\n",
      "1       https://www.atg.se/spel/2021-03-13/vinnare/axe...\n",
      "2       https://www.atg.se/spel/2021-03-13/vinnare/axe...\n",
      "3       https://www.atg.se/spel/2021-03-13/vinnare/axe...\n",
      "4       https://www.atg.se/spel/2021-03-13/vinnare/axe...\n",
      "                              ...                        \n",
      "3445    https://www.atg.se/spel/2014-12-28/vinnare/ore...\n",
      "3446    https://www.atg.se/spel/2014-12-28/vinnare/ore...\n",
      "3447    https://www.atg.se/spel/2014-12-28/vinnare/ore...\n",
      "3448    https://www.atg.se/spel/2014-12-28/vinnare/ore...\n",
      "3449    https://www.atg.se/spel/2014-12-28/vinnare/ore...\n",
      "Name: links, Length: 3450, dtype: object\n"
     ]
    }
   ],
   "source": [
    "\n",
    "driver_s, loppen = init_scraping()\n",
    "driver_s.implicitly_wait(2) # seconds\n",
    "\n",
    "for page in range(fr_page, to_page+1):\n",
    "    print('page',page)\n",
    "    url=v75_pageX+str(page)\n",
    "    logging.warning(url)\n",
    "\n",
    "    driver_s.get(url)\n",
    "                                                        \n",
    "    results_s = driver_s.find_elements_by_xpath('//*[@id=\"main\"]/div/div/div/div/div/div/div[4]/div/div[2]/div[2]/div/table/tbody/tr')\n",
    "    print(f'antal rader {len(results_s)}')\n",
    "    \n",
    "    i=0\n",
    "    for result_s in results_s:  \n",
    "        \n",
    "        link = result_s.find_element_by_tag_name('a')\n",
    "        lopp_link = link.get_attribute(\"href\")\n",
    "        #print(lopp_link)\n",
    "        loppen.append(lopp_link)\n",
    "        \n",
    "\n",
    "#print(loppen)     \n",
    "df= pd.DataFrame(loppen)\n",
    "\n",
    "df.columns=['links']\n",
    "print(df.links)"
   ]
  },
  {
   "source": [
    "# Efterbearbetning"
   ],
   "cell_type": "markdown",
   "metadata": {}
  },
  {
   "cell_type": "code",
   "execution_count": 5,
   "metadata": {},
   "outputs": [],
   "source": [
    "### Ändra url:er til v75\n",
    "\n",
    "df = df.links.str[0:43].str.replace('vinnare','V75')\n",
    "df.drop_duplicates(inplace=True)"
   ]
  },
  {
   "cell_type": "code",
   "execution_count": 6,
   "metadata": {},
   "outputs": [],
   "source": [
    "# Spara undan loppen för learn\n",
    "df.to_csv('alla_lopp.csv', index=False)"
   ]
  },
  {
   "cell_type": "markdown",
   "metadata": {},
   "source": [
    "## När allt är klart - quit web-driver"
   ]
  },
  {
   "cell_type": "code",
   "execution_count": 8,
   "metadata": {},
   "outputs": [],
   "source": [
    "driver_s.quit()"
   ]
  },
  {
   "cell_type": "code",
   "execution_count": 9,
   "metadata": {},
   "outputs": [
    {
     "output_type": "execute_result",
     "data": {
      "text/plain": [
       "417    https://www.atg.se/spel/2015-01-17/V75/\n",
       "424    https://www.atg.se/spel/2015-01-10/V75/\n",
       "431    https://www.atg.se/spel/2015-01-03/V75/\n",
       "438    https://www.atg.se/spel/2014-12-28/V75/\n",
       "445    https://www.atg.se/spel/2014-12-26/V75/\n",
       "Name: links, dtype: object"
      ]
     },
     "metadata": {},
     "execution_count": 9
    }
   ],
   "source": [
    "df.tail()"
   ]
  },
  {
   "cell_type": "code",
   "execution_count": null,
   "metadata": {},
   "outputs": [],
   "source": []
  }
 ],
 "metadata": {
  "colab": {
   "collapsed_sections": [],
   "name": "Web Scraping.ipynb",
   "provenance": []
  },
  "kernelspec": {
   "display_name": "Python 3",
   "language": "python",
   "name": "python3"
  },
  "language_info": {
   "codemirror_mode": {
    "name": "ipython",
    "version": 3
   },
   "file_extension": ".py",
   "mimetype": "text/x-python",
   "name": "python",
   "nbconvert_exporter": "python",
   "pygments_lexer": "ipython3",
   "version": "3.8.5-final"
  }
 },
 "nbformat": 4,
 "nbformat_minor": 1
}