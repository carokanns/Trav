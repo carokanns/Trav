{
 "cells": [
  {
   "cell_type": "markdown",
   "metadata": {},
   "source": [
    "# Load all the links with races \n",
    "# ANvänds sedan för scraping av loppen"
   ]
  },
  {
   "cell_type": "code",
   "execution_count": 4,
   "metadata": {
    "colab": {
     "base_uri": "https://localhost:8080/",
     "height": 572
    },
    "colab_type": "code",
    "id": "1OVVqA9dc3lW",
    "outputId": "e4967900-d041-4189-f61a-69640f318855"
   },
   "outputs": [
    {
     "output_type": "stream",
     "name": "stdout",
     "text": [
      "Requirement already satisfied: selenium in c:\\users\\peter\\anaconda3\\lib\\site-packages (3.141.0)\n",
      "Requirement already satisfied: urllib3 in c:\\users\\peter\\anaconda3\\lib\\site-packages (from selenium) (1.24.2)\n",
      "Requirement already satisfied: tabulate in c:\\users\\peter\\anaconda3\\lib\\site-packages (0.8.7)\n"
     ]
    }
   ],
   "source": [
    "#!apt install chromium-chromedriver\n",
    "!pip install selenium\n",
    "!pip install tabulate\n"
   ]
  },
  {
   "cell_type": "code",
   "execution_count": 6,
   "metadata": {
    "colab": {},
    "colab_type": "code",
    "id": "TWL-aRyzEze6"
   },
   "outputs": [],
   "source": [
    "import pandas as  pd \n",
    "import requests\n",
    "from selenium import webdriver \n",
    "from selenium.webdriver.common.by import By \n",
    "from selenium.webdriver.support.ui import WebDriverWait \n",
    "from selenium.webdriver.support import expected_conditions as EC \n",
    "from selenium.common.exceptions import TimeoutException\n",
    "from tabulate import tabulate\n",
    "\n",
    "import urllib.request\n",
    "from bs4 import BeautifulSoup\n",
    "import time\n"
   ]
  },
  {
   "cell_type": "code",
   "execution_count": 7,
   "metadata": {
    "colab": {
     "base_uri": "https://localhost:8080/",
     "height": 436
    },
    "colab_type": "code",
    "id": "p7rLpm-b4eGF",
    "outputId": "c869f64b-a639-44ff-8cd8-66e84847aa67"
   },
   "outputs": [
    {
     "output_type": "stream",
     "name": "stdout",
     "text": [
      "https://www.atg.se/videoarkiv/trav?gameTypes=V75&page=\n",
      "https://www.atg.se/videoarkiv/trav?gameTypes=V75&page=1\n",
      "Number of results 50\n",
      "https://www.atg.se/videoarkiv/trav?gameTypes=V75&page=2\n",
      "Number of results 50\n",
      "https://www.atg.se/videoarkiv/trav?gameTypes=V75&page=3\n",
      "Number of results 50\n",
      "https://www.atg.se/videoarkiv/trav?gameTypes=V75&page=4\n",
      "Number of results 50\n"
     ]
    }
   ],
   "source": [
    "# specify the url\n",
    "\n",
    "urlpage = \"https://www.atg.se/videoarkiv/trav?gameTypes=V75&page=\"\n",
    "print(urlpage)\n",
    "# run firefox webdriver from executable path of your choice\n",
    "driver = webdriver.Chrome(executable_path='C:\\\\Users\\peter\\\\Documents\\\\MyProjects\\\\gecko\\\\chromedriver.exe')\n",
    "#####\n",
    "# get web pages\n",
    "data = []\n",
    "for i in range(1,5):   ## 5 sidor\n",
    "    driver.get(urlpage+str(i))\n",
    "    print(urlpage+str(i))\n",
    "    time.sleep(5)\n",
    "    results = driver.find_elements_by_xpath(\"//*[@class='date-col']\")\n",
    "    print('Number of results', len(results))\n",
    "    # loop over results\n",
    "    for result in results:\n",
    "        #product_name = result.text\n",
    "        link = result.find_element_by_tag_name('a')\n",
    "        lopp_link = link.get_attribute(\"href\")\n",
    "        # append dict to array  \n",
    "        #data.append({\"product\" : product_name, \"link\" : product_link})\n",
    "        data.append(lopp_link)\n",
    "        \n",
    "\n",
    "# execute script to scroll down the page\n",
    "#driver.execute_script(\"window.scrollTo(0, document.body.scrollHeight);var lenOfPage=document.body.scrollHeight;return lenOfPage;\")\n",
    "# sleep for 30s\n",
    "\n"
   ]
  },
  {
   "cell_type": "code",
   "execution_count": 9,
   "metadata": {},
   "outputs": [],
   "source": [
    "df = pd.DataFrame(data,columns=['Links'])"
   ]
  },
  {
   "cell_type": "code",
   "execution_count": 11,
   "metadata": {},
   "outputs": [
    {
     "output_type": "stream",
     "name": "stdout",
     "text": [
      "(200, 1)\n"
     ]
    }
   ],
   "source": [
    "\n",
    "print(df.shape)\n",
    "df.to_csv('C:\\\\Users\\\\peter\\Documents\\\\MyProjects\\\\PyProj\\\\Trav\\\\senaste_loppen.csv', index=False)\n"
   ]
  },
  {
   "source": [
    "## När allt är klart"
   ],
   "cell_type": "markdown",
   "metadata": {}
  },
  {
   "cell_type": "code",
   "execution_count": 12,
   "metadata": {},
   "outputs": [],
   "source": [
    "driver.quit()"
   ]
  },
  {
   "cell_type": "code",
   "execution_count": null,
   "metadata": {},
   "outputs": [],
   "source": []
  }
 ],
 "metadata": {
  "colab": {
   "collapsed_sections": [],
   "name": "Web Scraping.ipynb",
   "provenance": []
  },
  "kernelspec": {
   "display_name": "Python 3",
   "language": "python",
   "name": "python3"
  },
  "language_info": {
   "codemirror_mode": {
    "name": "ipython",
    "version": 3
   },
   "file_extension": ".py",
   "mimetype": "text/x-python",
   "name": "python",
   "nbconvert_exporter": "python",
   "pygments_lexer": "ipython3",
   "version": "3.7.4-final"
  }
 },
 "nbformat": 4,
 "nbformat_minor": 1
}