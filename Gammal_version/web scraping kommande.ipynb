{
 "cells": [
  {
   "cell_type": "code",
   "execution_count": null,
   "metadata": {},
   "outputs": [],
   "source": []
  },
  {
   "source": [
    "\n",
    "# !apt install chromium-chromedriver\n",
    "!pip install selenium\n",
    "!pip install tabulate"
   ],
   "cell_type": "code",
   "metadata": {
    "tags": []
   },
   "execution_count": null,
   "outputs": []
  },
  {
   "cell_type": "code",
   "execution_count": 205,
   "metadata": {
    "tags": []
   },
   "outputs": [
    {
     "output_type": "stream",
     "name": "stdout",
     "text": "sklearn version 0.21.3\nnumpy version   1.16.5\n"
    }
   ],
   "source": [
    "import pandas as  pd \n",
    "import numpy as np\n",
    "import logging\n",
    "logging.basicConfig(filename='app.log', filemode='w', format='%(name)s - %(message)s',level=logging.INFO)\n",
    "import sys\n",
    "\n",
    "sys.path.append('C:\\\\Users/peter/Google Drive/Colab Notebooks/Småprojekt/')\n",
    "\n",
    "import fixa_features as ff\n",
    "import class_model as mcl\n",
    "\n",
    "from selenium import webdriver \n",
    "from selenium.webdriver.common.by import By \n",
    "from selenium.webdriver.support.ui import WebDriverWait \n",
    "from selenium.webdriver.support import expected_conditions as EC \n",
    "from selenium.common.exceptions import TimeoutException\n",
    "import time\n",
    "import sklearn\n",
    "from sklearn.ensemble import RandomForestClassifier as RF\n",
    "\n",
    "print(\"sklearn version\", sklearn.__version__)\n",
    "print(\"numpy version  \", np.__version__)"
   ]
  },
  {
   "cell_type": "code",
   "execution_count": 46,
   "metadata": {},
   "outputs": [],
   "source": []
  },
  {
   "cell_type": "code",
   "execution_count": null,
   "metadata": {},
   "outputs": [],
   "source": []
  },
  {
   "cell_type": "markdown",
   "metadata": {},
   "source": [
    "# Ladda v75-sida med 7 avdelningar/lopp "
   ]
  },
  {
   "cell_type": "code",
   "execution_count": 206,
   "metadata": {},
   "outputs": [],
   "source": [
    "def V75_sida(driver,V75page):\n",
    "    # run firefox webdriver from executable path of your choice\n",
    "\n",
    "    # get web pages\n",
    "    data = []\n",
    "    driver.get(V75page+'avd1')\n",
    "    but = driver.find_element_by_id('onetrust-accept-btn-handler')\n",
    "    but.click()\n",
    "    driver.fullscreen_window()\n",
    "  \n",
    "    anp = driver.find_elements_by_css_selector('div.active-game-type-v75 div.startlist-header.game-background-pattern--long button:nth-child(3)')\n",
    "    anp[0].click()\n",
    "\n",
    "    cl = driver.find_elements_by_css_selector('div.modal-container  div.modal__body  button.css-tqseha-Button-styles--root-Button--Button')\n",
    "    cl[0].click()    # Rensa\n",
    "\n",
    "\n",
    "    cl = driver.find_elements_by_css_selector('ul > li:nth-child(10)')\n",
    "    cl[1].click()       #Distans och spår\n",
    "\n",
    "    #cl = driver.find_elements_by_css_selector('ul > li:nth-child(8)')\n",
    "    #cl[1].click()       #vodds\n",
    "\n",
    "    #cl = driver.find_elements_by_css_selector('ul > li:nth-child(9)')\n",
    "    #cl[1].click()       #vodds\n",
    "\n",
    "    #cl = driver.find_elements_by_css_selector('div.modal-container  div.modal__body #button.css-1fh4n7y-Button-styles--root-PrimaryButton-styles--root-StartlistDisplayOptionsDialog-styles--saveButton-PrimaryButton--PrimaryButton-#StartlistDisplayOptionsDialog-styles--saveButton')\n",
    " #   cl[0].click()       #save\n",
    "\n",
    "    print(V75page)\n",
    "    print('anpassa')\n",
    "\n",
    "    return driver\n"
   ]
  },
  {
   "cell_type": "code",
   "execution_count": 207,
   "metadata": {},
   "outputs": [],
   "source": [
    "#anp = driver.find_elements_by_css_selector('div.active-game-type-v75 div.startlist-header.game-background-pattern--long button:nth-child(3)')\n",
    "#print(len(anp))\n",
    "#anp[0].click()\n"
   ]
  },
  {
   "cell_type": "code",
   "execution_count": 208,
   "metadata": {},
   "outputs": [],
   "source": [
    "def getSpår(startnr, avd, i):\n",
    "    logging.warning('startar getSpår')\n",
    "    #pth='div:nth-child('+str(avd)+') > div > table > tbody > tr:nth-child('+str(i)+') > td.postPositionAndDistance-col'\n",
    "    try:    \n",
    "        spår = startnr.find_element_by_css_selector('.postPositionAndDistance-col')\n",
    "\n",
    "        txt = spår.text.split()\n",
    "        spr = None\n",
    "        dis = None\n",
    "\n",
    "        if len(txt) > 0:\n",
    "            dis = txt[0]\n",
    "    \n",
    "        if len(txt) == 3:\n",
    "            spr = txt[2]\n",
    "    except:\n",
    "        logging.warning('dist/spår hittades ej')\n",
    "        spr='ej'\n",
    "        dis='ej'\n",
    "    return spr,dis\n",
    "\n"
   ]
  },
  {
   "cell_type": "code",
   "execution_count": 209,
   "metadata": {},
   "outputs": [],
   "source": [
    "def getVodds(startnr, avd, häst):\n",
    "    logging.warning('startar getVodds')\n",
    "\n",
    "    #pth = '#main > div.active-game-type-v75 > div:nth-child(2) > div > div > div > div > div > div:nth-child(7) > div:nth-child('+str(avd)+') > div > table > tbody > tr:nth-child('+str(häst)+') > td.vOdds-col'\n",
    "          \n",
    "    vo = startnr.find_element_by_css_selector('.vOdds-col')\n",
    "\n",
    "    return vo.text    \n"
   ]
  },
  {
   "cell_type": "code",
   "execution_count": 210,
   "metadata": {},
   "outputs": [],
   "source": [
    "def getPodds(startnr, avd, häst):\n",
    "    logging.warning('startar getPodds')\n",
    "    #pth = '#main > div.active-game-type-v75 > div:nth-child(2) > div > div > div > div > div > div:nth-child(7) > div:nth-child('+str(avd)+') > div > table > tbody > tr:nth-child('+str(häst)+') > td.pOdds-col'\n",
    "         \n",
    "    po = startnr.find_element_by_css_selector('.pOdds-col')\n",
    "    \n",
    "    return po.text    \n"
   ]
  },
  {
   "cell_type": "code",
   "execution_count": null,
   "metadata": {},
   "outputs": [],
   "source": []
  },
  {
   "cell_type": "code",
   "execution_count": 211,
   "metadata": {},
   "outputs": [],
   "source": [
    "def getHist(avd, häst, startnr):\n",
    "    logging.warning('startar getHist')\n",
    "    history=[]\n",
    "    try:\n",
    "        for child in range(1,6):\n",
    "            dist = 'table > tbody > tr:nth-child(' +str(child)+ ') > td.distance-col'\n",
    "            plac = 'table > tbody > tr:nth-child(' +str(child)+ ') > td.place-col'\n",
    "            spår = 'table > tbody > tr:nth-child(' +str(child)+ ') > td.position-col'\n",
    "            odds = 'table > tbody > tr:nth-child(' +str(child)+ ') > td.odds-col'\n",
    "            try:\n",
    "                plac = driver.find_element_by_css_selector(plac)\n",
    "            except:\n",
    "                logging.warning(\"hist except - try click history again #########\")\n",
    "                startnr.click()\n",
    "                plac = driver.find_element_by_css_selector(plac)\n",
    "\n",
    "            logging.warning('plac '+plac.text)\n",
    "            dist = driver.find_element_by_css_selector(dist)\n",
    "            logging.warning('dist '+dist.text)\n",
    "            spår = driver.find_element_by_css_selector(spår)\n",
    "            logging.warning('spår '+spår.text)\n",
    "            odds = driver.find_element_by_css_selector(odds)\n",
    "            logging.warning('odds '+odds.text)\n",
    "            history.extend([plac.text, dist.text, spår.text, odds.text])\n",
    "    except:\n",
    "        logging.warning(\"history except\")\n",
    "        return history\n",
    "    \n",
    "    logging.warning('History = '+ str(history))\n",
    "    return history"
   ]
  },
  {
   "source": [
    "    datum        20644 non-null object\n",
    "    bana         20644 non-null object\n",
    "    avd          20644 non-null int64\n",
    "    häst         20644 non-null object\n",
    "    plac         20644 non-null float64\n",
    "    kön          20644 non-null object\n",
    "    ålder        20644 non-null int64\n",
    "    kusk         20644 non-null object\n",
    "    spår         20644 non-null int32\n",
    "    vodds        20644 non-null float64\n",
    "    podds        20644 non-null float64\n",
    "    start        20644 non-null int64\n",
    "    lopp_dist    20644 non-null object\n",
    "    dist         20644 non-null int32\n",
    "    kr           20644 non-null int32\n",
    "\n",
    "h1_dat       20644 non-null object\n",
    "h1_bana      20644 non-null object\n",
    "h1_kusk      20644 non-null object\n",
    "h1_plac      20644 non-null int32\n",
    "h1_dist      20644 non-null int32\n",
    "h1_spår      20644 non-null int32\n",
    "h1_kmtid     20643 non-null object\n",
    "h1_odds      20644 non-null float64\n",
    "h1_pris      18905 non-null object\n",
    "h2_dat       20644 non-null object\n",
    "h2_bana      20644 non-null object\n",
    "h2_kusk      20644 non-null object\n",
    "h2_plac      20644 non-null int32\n",
    "h2_dist      20644 non-null int32\n",
    "h2_spår      20644 non-null int32\n",
    "h2_kmtid     20643 non-null object\n",
    "h2_odds      20644 non-null float64\n",
    "h2_pris      18706 non-null object\n",
    "h3_dat       20644 non-null object\n",
    "h3_bana      20644 non-null object\n",
    "h3_kusk      20644 non-null object\n",
    "h3_plac      20644 non-null int32\n",
    "h3_dist      20644 non-null int32\n",
    "h3_spår      20644 non-null int32\n",
    "h3_kmtid     20643 non-null object\n",
    "h3_odds      20644 non-null float64\n",
    "h3_pris      18547 non-null object\n",
    "h4_dat       20644 non-null object\n",
    "h4_bana      20644 non-null object\n",
    "h4_kusk      20644 non-null object\n",
    "h4_plac      20644 non-null int32\n",
    "h4_dist      20644 non-null int32\n",
    "h4_spår      20644 non-null int32\n",
    "h4_kmtid     20643 non-null object\n",
    "h4_odds      20644 non-null float64\n",
    "h4_pris      18316 non-null object\n",
    "h5_dat       20644 non-null object\n",
    "h5_bana      20644 non-null object\n",
    "h5_kusk      20644 non-null object\n",
    "h5_plac      20644 non-null int32\n",
    "h5_dist      20644 non-null int32\n",
    "h5_spår      20644 non-null int32\n",
    "h5_kmtid     20642 non-null object\n",
    "h5_odds      20644 non-null float64\n",
    "h5_pris      18107 non-null object"
   ],
   "cell_type": "markdown",
   "metadata": {}
  },
  {
   "cell_type": "code",
   "execution_count": null,
   "metadata": {},
   "outputs": [],
   "source": []
  },
  {
   "cell_type": "code",
   "execution_count": null,
   "metadata": {},
   "outputs": [],
   "source": []
  },
  {
   "cell_type": "markdown",
   "metadata": {},
   "source": [
    "# Läs in avdelning för avdelning och skrapa\n",
    "öppna varje lopp och gå igenom all hästarna inklusive deras historik"
   ]
  },
  {
   "cell_type": "code",
   "execution_count": 212,
   "metadata": {
    "scrolled": false
   },
   "outputs": [],
   "source": [
    "def skrapa(avdelningar, V75page):\n",
    "    driver.implicitly_wait(10) # seconds\n",
    "    logging.warning('STARTING skrapa')\n",
    "    print('starta skrapa')\n",
    "    \n",
    "    dat = V75page.split('spel/')[1][0:10]  #gräv ut datum\n",
    "    komplett=[]\n",
    "    #driver.fullscreen_window()\n",
    "    for avd in avdelningar:\n",
    "        logging.warning('avd '+ str(avd))\n",
    "\n",
    "        # open avd\n",
    "        driver.get(V75page+'avd'+str(avd))\n",
    "        d=driver.find_element_by_css_selector('div > div.cell-wrapper > div.race-combined-info > div.slanted.race-distance-start-method > span')    \n",
    "        \n",
    "        split1 = d.text.split()[0][0:4]   # distans (använd hästens distans ist om den finns)\n",
    "        split2 = d.text.split()[1]        # start\n",
    "\n",
    "        css='#main .game-view table[data-test-id=\"startlist-race-'+str(avd)+'\"] tbody tr[data-test-id=\"startlist-row\"]'\n",
    "        logging.warning(css)\n",
    "        gt = driver.find_elements_by_css_selector(css) \n",
    "        antal = len(gt)\n",
    "        print('antal',antal)\n",
    "        häst = 0\n",
    "        for startnr in gt:\n",
    "            häst = häst+1\n",
    "            try:\n",
    "                #print('startnr.text',startnr.text)\n",
    "                nm = startnr.find_element_by_css_selector('.name-container')\n",
    "                namn = nm.text\n",
    "                print(avd, häst, nm.text)\n",
    "            except:\n",
    "                logging.warning('avd '+str(avd)+' Startnr: '+str(häst)+'  hittades inte')\n",
    "                break    \n",
    "\n",
    "            spår, dist = getSpår(startnr, avd, häst)\n",
    "            \n",
    "            if spår.lower()=='ej':\n",
    "                logging.warning('avd: '+str(avd)+' startnr: '+str(häst)+' struken')\n",
    "                continue\n",
    "            else:   \n",
    "                if dist==None:\n",
    "                    dist = split1  # använd loppdistans om det saknas hos hästen\n",
    "                #namn = gt.text\n",
    "                vodds = getVodds(startnr, avd,häst)\n",
    "                podds = getPodds(startnr, avd,häst)\n",
    "                if vodds.lower() == 'ej' or podds.lower() == 'ej':\n",
    "                    logging.warning('avd: '+str(avd)+' startnr: '+str(häst)+' struken')\n",
    "                    continue    \n",
    "\n",
    "                logging.warning('avd: '+str(avd)+' Startnr: '+str(häst)+' '+namn)  \n",
    "\n",
    "                start = split2\n",
    "\n",
    "                horse = [dat, avd, namn, dist, start, spår, vodds, podds]\n",
    "              \n",
    "                startnr.click()  # open for history\n",
    "                \n",
    "                #gh=getHist(avd,häst)\n",
    "                horse.extend(getHist(avd,häst,startnr))\n",
    "                komplett.append(horse)\n",
    "                #print('history:',history)\n",
    "                startnr.click()   # close\n",
    "\n",
    "    return komplett\n",
    "\n",
    "    "
   ]
  },
  {
   "cell_type": "markdown",
   "metadata": {},
   "source": [
    "# spara lopp data"
   ]
  },
  {
   "cell_type": "code",
   "execution_count": 213,
   "metadata": {},
   "outputs": [],
   "source": [
    "def spara(df,path, omgsav, avd):\n",
    "    stravd = ''.join(str(x) for x in avd)\n",
    "    filnamn=path+omgsav+stravd+'test.csv'\n",
    "    df.to_csv(filnamn, index=False)"
   ]
  },
  {
   "cell_type": "markdown",
   "metadata": {},
   "source": [
    "# Bins"
   ]
  },
  {
   "cell_type": "code",
   "execution_count": 214,
   "metadata": {},
   "outputs": [],
   "source": [
    "def bins(df):\n",
    "    bins = pd.DataFrame({'fr': [1.0, 2.2, 3.0, 3.8, 4.4, 5.2,\n",
    "                                6.0, 6.9, 7.7, 8.7, 9.7, 10.8,\n",
    "                                12.1, 13.6, 15.4, 17.3, 19.1, 21.6,\n",
    "                                24.4, 27.3, 30.9, 34.8, 39.3, 44.5,\n",
    "                                50.1, 56.7, 64.5, 75.3, 89.5, 111.7,\n",
    "                                553.5],\n",
    "                         'to': [2.2, 3.0, 3.8, 4.4, 5.2,\n",
    "                                6.0, 6.9, 7.7, 8.7, 9.7, 10.8,\n",
    "                                12.1, 13.6, 15.4, 17.3, 19.1, 21.6,\n",
    "                                24.4, 27.3, 30.9, 34.8, 39.3, 44.5,\n",
    "                                50.1, 56.7, 64.5, 75.3, 89.5, 111.7,\n",
    "                                553.5, 2000],\n",
    "                         'bin': [0, 1, 2, 3, 4, 5, 6, 7, 8, 9,\n",
    "                                 10, 11, 12, 13, 14, 15, 16, 17, 18, 19,\n",
    "                                 20, 21, 22, 23, 24, 25, 26, 27, 28, 29,\n",
    "                                 30]\n",
    "                         })\n",
    "\n",
    "    val = bins.loc[:, 'fr':'to'].apply(tuple, 1).tolist()\n",
    "    indx = pd.IntervalIndex.from_tuples(val, closed='right')\n",
    "    dff = df.copy()\n",
    "    dff['bins'] = bins.loc[indx.get_indexer(dff['vodds']), 'bin'].values\n",
    "\n",
    "    return dff\n"
   ]
  },
  {
   "cell_type": "markdown",
   "metadata": {},
   "source": [
    "# Main - init"
   ]
  },
  {
   "cell_type": "code",
   "execution_count": 215,
   "metadata": {
    "tags": []
   },
   "outputs": [
    {
     "output_type": "stream",
     "name": "stdout",
     "text": "knn_class2.model odds_fr 1.1 odds_to 50 thresh 1.1 proba_lim 0.1 häst_suf h med_odds False bins True\nCatB_class1h.model odds_fr 1.1 odds_to 50 thresh 1.1 proba_lim 0.1 häst_suf h med_odds True bins True\nCatB_class2h.model odds_fr 1.1 odds_to 50 thresh 1.1 proba_lim 0.1 häst_suf h med_odds False bins True\nCatB_class2u.model odds_fr 1.1 odds_to 50 thresh 1.1 proba_lim 0.1 häst_suf u med_odds False bins True\nrf30_class1.model odds_fr 1.1 odds_to 50 thresh 1.0 proba_lim 0.1 häst_suf h med_odds True bins True\nrf30_class2.model odds_fr 1.1 odds_to 50 thresh 1.0 proba_lim 0.1 häst_suf h med_odds False bins True\n"
    }
   ],
   "source": [
    "#knn1 = model('knn_class1.model',odds_fr=2.8, odds_to=8.7, thresh=1.4,  proba_lim=0.12, med_odds=True)  #vann -426  43-57\n",
    "#knn2 = model('knn_class2.model',odds_fr=2.4, odds_to=12.6, thresh=1.4, proba_lim=0.4)                  #vann 31    44-56\n",
    "#Cat1= model('CatB_class1.model',odds_fr=2.3, odds_to=14.6,thresh=1.2,  proba_lim=0.09, med_odds=True)  #vann 29\n",
    "#Cat2= model('CatB_class2.model',odds_fr=1.4,odds_to=56.7, thresh=1.0,  proba_lim=0.1)                  #vann 1665\n",
    "#rf1 = model('RF_classLL1.model',odds_fr=2.5,odds_to=20.1, thresh=1.1,  proba_lim=0.2,  med_odds=True)  #vann 1839 80-20 \n",
    "#rf2 = model('RF_classLL2.model',odds_fr=2.6,odds_to=20.0, thresh=1.1, proba_lim=0.2)                   #vann 1695  62-38 \n",
    "    \n",
    "MODELS = {}\n",
    "MODELS['knn2'] = {'model':mcl.Model('knn_class2.model',odds_fr=1.1,odds_to=50, thresh=1.1, proba_lim=0.1)} #vann 31    44-56\n",
    "#MODELS['Cat1'] = {'model':mcl.Model('CatB_class1.model',odds_fr=1.1,odds_to=50, thresh=1.1, proba_lim=0.1, med_odds=True)}  #vann 29\n",
    "#MODELS['Cat2'] = {'model':mcl.Model('CatB_class2.model',odds_fr=1.1,odds_to=50, thresh=1.1, proba_lim=0.1) }                #vann 1665\n",
    "MODELS['Cat1h'] = {'model':mcl.Model('CatB_class1h.model',odds_fr=1.1,odds_to=50, thresh=1.1, proba_lim=0.1, med_odds=True)}  #vann 747\n",
    "MODELS['Cat2h'] = {'model':mcl.Model('CatB_class2h.model',odds_fr=1.1,odds_to=50, thresh=1.1, proba_lim=0.1) }                #vann 1665\n",
    "MODELS['Cat2u'] = {'model':mcl.Model('CatB_class2u.model',odds_fr=1.1,odds_to=50, thresh=1.1, proba_lim=0.1,häst_suf='u')}  #vann 29\n",
    "# MODELS['rf1'] =  {'model':mcl.Model('RF_classLL1.model',odds_fr=1.1,odds_to=50, thresh=1.1, proba_lim=0.1,med_odds=True)} #vann 1839  80-20 \n",
    "# MODELS['rf2'] =  {'model':mcl.Model('RF_classLL2.model',odds_fr=1.1,odds_to=50, thresh=1.1, proba_lim=0.1)}             #vann 1695  62-38 \n",
    "MODELS['rf301'] =  {'model':mcl.Model('rf30_class1.model',odds_fr=1.1,odds_to=50,thresh=1.0,\n",
    "                                                          proba_lim=0.1,bins=True,med_odds=True)} #vann 1225 82-18 \n",
    "MODELS['rf302'] =  {'model':mcl.Model('rf30_class2.model',odds_fr=1.1,odds_to=50, thresh=1.0,proba_lim=0.1,bins=True)} #vann 991 61-39 \n",
    "\n",
    "# MODELS['knn2'] = {'model':mcl.Model('knn_class2.model',odds_fr=2.4, odds_to=12.6, thresh=1.4, proba_lim=0.4)} #vann 31    44-56\n",
    "# # MODELS['Cat1'] = {'model':mcl.Model('CatB_class1.model',odds_fr=2.3, odds_to=14.6,thresh=1.2,  proba_lim=0.09, med_odds=True)}  #vann 29\n",
    "# # MODELS['Cat2'] = {'model':mcl.Model('CatB_class2.model',odds_fr=1.4,odds_to=56.7,thresh=1.0,  proba_lim=0.1) }                #vann 1665\n",
    "# MODELS['Cat1h'] = {'model':mcl.Model('CatB_class1h.model',odds_fr=2.7, odds_to=48.6,thresh=1.4,proba_lim=0.1, med_odds=True)}  #vann 747\n",
    "# MODELS['Cat2h'] = {'model':mcl.Model('CatB_class2h.model',odds_fr=1.14,odds_to=52.5,thresh=1.79, proba_lim=0.1) }                #vann 1665\n",
    "# MODELS['Cat2u'] = {'model':mcl.Model('CatB_class2u.model',odds_fr=1.14, odds_to=52.5,thresh=1.79, proba_lim=0.1,häst_suf='u')}  #vann 29\n",
    "# # MODELS['rf1'] =  {'model':mcl.Model('RF_classLL1.model',odds_fr=2.5,odds_to=20.1,thresh=1.1, proba_lim=0.2,med_odds=True, bins=False)} #vann 1839  80-20 \n",
    "# # MODELS['rf2'] =  {'model':mcl.Model('RF_classLL2.model',odds_fr=2.6,odds_to=20.0, thresh=1.1, proba_lim=0.2, bins=False)}             #vann 1695  62-38 \n",
    "# MODELS['rf301'] =  {'model':mcl.Model('rf30_class1.model',odds_fr=1.1,odds_to=50, thresh=1.0,\n",
    "#                                                          proba_lim=0.1,bins=True,med_odds=True)} #vann 1225 82-18 \n",
    "# MODELS['rf302'] =  {'model':mcl.Model('rf30_class2.model',odds_fr=1.1,odds_to=50, thresh=1.0,proba_lim=0.1,bins=True)}     #vann 991 61-39 \n",
    "\n",
    "OMGÅNGAR = {\n",
    "    1: '2020-04-25/V75/aby',\n",
    "    2: '2020-05-02/V75/orebro',\n",
    "    3: '2020-04-18/V75/umaker',\n",
    "    4: '2020-05-09/V75/aby', \n",
    "    5: '2020-05-16/V75/mantorp', \n",
    "    6: '2020-05-23/V75/gavle',\n",
    "    7: '2020-05-30/V75/solvalla',\n",
    "    8: '2020-06-06/V75/ostersund',\n",
    "    9: '2020-06-13/V75/boden',\n",
    "    10: '2020-06-14/V75/bjerke',   \n",
    "    11 :'2020-07-04/V75/halmstad',   \n",
    "    12:'2020-06-21/V75/kalmar',   \n",
    "    13: '2020-07-11/V75/arjang',  \n",
    "    14: '2020-07-19/V75/axevalla',  \n",
    "     0: '2020-07-25/V75/bollnas',  \n",
    "     \n",
    "} ##### Sätt alltid senaste omgång till 0 och döp om när ny 0:a kommer\n",
    "  "
   ]
  },
  {
   "cell_type": "code",
   "execution_count": 216,
   "metadata": {
    "tags": []
   },
   "outputs": [
    {
     "output_type": "stream",
     "name": "stdout",
     "text": "omgång: 2020-07-25/V75/bollnas\nhttps://www.atg.se/spel/2020-07-25/V75/bollnas\nanpassa\n"
    },
    {
     "output_type": "execute_result",
     "data": {
      "text/plain": "<selenium.webdriver.chrome.webdriver.WebDriver (session=\"e579661c83e780a5d8797fdfa205036c\")>"
     },
     "metadata": {},
     "execution_count": 216
    }
   ],
   "source": [
    "\n",
    "driver = webdriver.Chrome(executable_path='C:\\\\Users\\peter\\\\Documents\\\\MyProjects\\\\gecko\\\\chromedriver.exe')\n",
    "#####\n",
    "driver.implicitly_wait(10) # seconds\n",
    "\n",
    "logging.warning('STARTING NEW DRIVER')\n",
    "omg = OMGÅNGAR[0] \n",
    "print('omgång:', omg)\n",
    "omg_sav = omg.replace('/V75/','-')\n",
    "V75url = 'https://www.atg.se/spel/'+omg\n",
    "\n",
    "V75_sida(driver, V75url)\n"
   ]
  },
  {
   "cell_type": "markdown",
   "metadata": {},
   "source": [
    "# Main - web scraping plus predict och spara"
   ]
  },
  {
   "cell_type": "code",
   "execution_count": 244,
   "metadata": {
    "scrolled": true,
    "tags": []
   },
   "outputs": [
    {
     "output_type": "stream",
     "name": "stdout",
     "text": "\nATT SPELA PÅ\n    avd               häst  vodds  rf301  rf302  Cat1h  Cat2h  Cat2u   knn2\n0     1     GUILLAUME BOKO   3.09   True   True  False  False  False  False\n1     1  DOCTOR DOXEY ZENZ   8.35   True   True  False  False  False  False\n5     1         TJACKO ZAZ  10.85   True  False  False  False  False  False\n8     1  HEADING REFERENCE   8.95   True  False  False  False  False   True\n10    2          ARABESQUE   7.63   True  False  False  False  False   True\n14    2        EKÅS FUTURE   7.61   True   True  False  False  False  False\n22    3         QUEER FISH   8.61   True  False  False  False  False   True\n27    3    ROSE RUN SYDNEY   7.96   True   True  False  False  False   True\n30    4       SPANG VIKTOR  11.73   True  False  False  False  False  False\n38    4   KRINGLERS VIKTOR  11.32   True  False  False  False  False   True\n44    5   ESTELLE NORDIQUE   5.80   True   True  False  False  False  False\n59    6            QUARCIA   3.46   True  False  False  False  False  False\n63    7            MERRITT   6.39   True   True  False  False  False   True\n"
    }
   ],
   "source": [
    "\n",
    "if False: \n",
    "    omg = OMGÅNGAR[0] \n",
    "    print('omgång:', omg)\n",
    "    omg_sav = omg.replace('/V75/','-')\n",
    "    V75url = 'https://www.atg.se/spel/'+omg\n",
    "    \n",
    "    avd = [1,2,3,4,5,6,7]  ## range(1,8) för alla avdelningar, [2, 4] för 2 och 4\n",
    "\n",
    "    komplett=skrapa(avd, V75url)  \n",
    "    df=pd.DataFrame(komplett)\n",
    "    df.columns=['datum','avd','häst', 'dist', 'start', 'spår', 'vodds', 'podds', \n",
    "    'h1_plac', 'h1_dist', 'h1_spår', 'h1_odds',\n",
    "    'h2_plac', 'h2_dist', 'h2_spår', 'h2_odds',\n",
    "    'h3_plac', 'h3_dist', 'h3_spår', 'h3_odds',\n",
    "    'h4_plac', 'h4_dist', 'h4_spår', 'h4_odds',\n",
    "    'h5_plac', 'h5_dist', 'h5_spår', 'h5_odds']\n",
    "\n",
    "    df = ff.fix_features(df, True)\n",
    "    df['vann'] = False\n",
    "\n",
    "if True:  # kör resultat\n",
    "    \n",
    "    df.reset_index(inplace=True,drop=True)\n",
    "\n",
    "    # add resuls \n",
    "    res = df[['datum','avd','häst','vann','vodds']]\n",
    "    for i,m in MODELS.items():\n",
    "        MODELS[i]['res'] = MODELS[i]['model'].result(df.drop('vann',axis=1),i)   \n",
    "        res = pd.concat([res,MODELS[i]['res']], axis=1, sort=False)\n",
    "    \n",
    "    #SCALING - lägg in i class model med find('NN')\n",
    "    #import pickle\n",
    "    #scaler = pickle.load(open(modellpath+'NN_scaler.model', 'rb'))\n",
    "    #dfNN = scaler.transform(df.drop(['häst','avd','datum'],axis=1))\n",
    "    #res_proba = resultat_proba(dfNN, 'NN_class1.model', modellpath)     \n",
    "\n",
    "    lopp_path='C:\\\\Users/peter/Documents/MyProjects/PyProj/Trav/'\n",
    "    spara(df,lopp_path,omg_sav,avd)\n",
    "    \n",
    "    print(\"\\nATT SPELA PÅ\")\n",
    "    print(res.loc[res.rf301 | res.rf302 | res.Cat1h | res.Cat2h | res.Cat2u,['avd','häst','vodds','rf301','rf302','Cat1h','Cat2h','Cat2u','knn2']])\n",
    "    "
   ]
  },
  {
   "cell_type": "code",
   "execution_count": null,
   "metadata": {},
   "outputs": [],
   "source": []
  },
  {
   "cell_type": "code",
   "execution_count": 241,
   "metadata": {
    "tags": []
   },
   "outputs": [
    {
     "output_type": "execute_result",
     "data": {
      "text/plain": "    avd               häst  vodds  rf301  rf302  Cat1h  Cat2h  Cat2u   knn2\n0     1     GUILLAUME BOKO   3.09   True   True  False  False  False  False\n1     1  DOCTOR DOXEY ZENZ   8.35   True   True  False  False  False  False\n5     1         TJACKO ZAZ  10.85   True  False  False  False  False  False\n8     1  HEADING REFERENCE   8.95   True  False  False  False  False   True\n10    2          ARABESQUE   7.63   True  False  False  False  False   True\n14    2        EKÅS FUTURE   7.61   True   True  False  False  False  False\n22    3         QUEER FISH   8.61   True  False  False  False  False   True\n27    3    ROSE RUN SYDNEY   7.96   True   True  False  False  False   True\n30    4       SPANG VIKTOR  11.73   True  False  False  False  False  False\n38    4   KRINGLERS VIKTOR  11.32   True  False  False  False  False   True\n44    5   ESTELLE NORDIQUE   5.80   True   True  False  False  False  False\n59    6            QUARCIA   3.46   True  False  False  False  False  False\n63    7            MERRITT   6.39   True   True  False  False  False   True",
      "text/html": "<div>\n<style scoped>\n    .dataframe tbody tr th:only-of-type {\n        vertical-align: middle;\n    }\n\n    .dataframe tbody tr th {\n        vertical-align: top;\n    }\n\n    .dataframe thead th {\n        text-align: right;\n    }\n</style>\n<table border=\"1\" class=\"dataframe\">\n  <thead>\n    <tr style=\"text-align: right;\">\n      <th></th>\n      <th>avd</th>\n      <th>häst</th>\n      <th>vodds</th>\n      <th>rf301</th>\n      <th>rf302</th>\n      <th>Cat1h</th>\n      <th>Cat2h</th>\n      <th>Cat2u</th>\n      <th>knn2</th>\n    </tr>\n  </thead>\n  <tbody>\n    <tr>\n      <td>0</td>\n      <td>1</td>\n      <td>GUILLAUME BOKO</td>\n      <td>3.09</td>\n      <td>True</td>\n      <td>True</td>\n      <td>False</td>\n      <td>False</td>\n      <td>False</td>\n      <td>False</td>\n    </tr>\n    <tr>\n      <td>1</td>\n      <td>1</td>\n      <td>DOCTOR DOXEY ZENZ</td>\n      <td>8.35</td>\n      <td>True</td>\n      <td>True</td>\n      <td>False</td>\n      <td>False</td>\n      <td>False</td>\n      <td>False</td>\n    </tr>\n    <tr>\n      <td>5</td>\n      <td>1</td>\n      <td>TJACKO ZAZ</td>\n      <td>10.85</td>\n      <td>True</td>\n      <td>False</td>\n      <td>False</td>\n      <td>False</td>\n      <td>False</td>\n      <td>False</td>\n    </tr>\n    <tr>\n      <td>8</td>\n      <td>1</td>\n      <td>HEADING REFERENCE</td>\n      <td>8.95</td>\n      <td>True</td>\n      <td>False</td>\n      <td>False</td>\n      <td>False</td>\n      <td>False</td>\n      <td>True</td>\n    </tr>\n    <tr>\n      <td>10</td>\n      <td>2</td>\n      <td>ARABESQUE</td>\n      <td>7.63</td>\n      <td>True</td>\n      <td>False</td>\n      <td>False</td>\n      <td>False</td>\n      <td>False</td>\n      <td>True</td>\n    </tr>\n    <tr>\n      <td>14</td>\n      <td>2</td>\n      <td>EKÅS FUTURE</td>\n      <td>7.61</td>\n      <td>True</td>\n      <td>True</td>\n      <td>False</td>\n      <td>False</td>\n      <td>False</td>\n      <td>False</td>\n    </tr>\n    <tr>\n      <td>22</td>\n      <td>3</td>\n      <td>QUEER FISH</td>\n      <td>8.61</td>\n      <td>True</td>\n      <td>False</td>\n      <td>False</td>\n      <td>False</td>\n      <td>False</td>\n      <td>True</td>\n    </tr>\n    <tr>\n      <td>27</td>\n      <td>3</td>\n      <td>ROSE RUN SYDNEY</td>\n      <td>7.96</td>\n      <td>True</td>\n      <td>True</td>\n      <td>False</td>\n      <td>False</td>\n      <td>False</td>\n      <td>True</td>\n    </tr>\n    <tr>\n      <td>30</td>\n      <td>4</td>\n      <td>SPANG VIKTOR</td>\n      <td>11.73</td>\n      <td>True</td>\n      <td>False</td>\n      <td>False</td>\n      <td>False</td>\n      <td>False</td>\n      <td>False</td>\n    </tr>\n    <tr>\n      <td>38</td>\n      <td>4</td>\n      <td>KRINGLERS VIKTOR</td>\n      <td>11.32</td>\n      <td>True</td>\n      <td>False</td>\n      <td>False</td>\n      <td>False</td>\n      <td>False</td>\n      <td>True</td>\n    </tr>\n    <tr>\n      <td>44</td>\n      <td>5</td>\n      <td>ESTELLE NORDIQUE</td>\n      <td>5.80</td>\n      <td>True</td>\n      <td>True</td>\n      <td>False</td>\n      <td>False</td>\n      <td>False</td>\n      <td>False</td>\n    </tr>\n    <tr>\n      <td>59</td>\n      <td>6</td>\n      <td>QUARCIA</td>\n      <td>3.46</td>\n      <td>True</td>\n      <td>False</td>\n      <td>False</td>\n      <td>False</td>\n      <td>False</td>\n      <td>False</td>\n    </tr>\n    <tr>\n      <td>63</td>\n      <td>7</td>\n      <td>MERRITT</td>\n      <td>6.39</td>\n      <td>True</td>\n      <td>True</td>\n      <td>False</td>\n      <td>False</td>\n      <td>False</td>\n      <td>True</td>\n    </tr>\n  </tbody>\n</table>\n</div>"
     },
     "metadata": {},
     "execution_count": 241
    }
   ],
   "source": [
    "res.loc[res.rf301 | res.rf302 | res.Cat1h | res.Cat2h | res.Cat2u,['avd','häst','vodds','rf301','rf302','Cat1h','Cat2h','Cat2u','knn2']].head(60) "
   ]
  },
  {
   "cell_type": "code",
   "execution_count": 240,
   "metadata": {
    "tags": []
   },
   "outputs": [
    {
     "output_type": "execute_result",
     "data": {
      "text/plain": "    avd               häst  vodds  rf301  rf302  Cat1h  Cat2h  Cat2u   knn2\n0     1     GUILLAUME BOKO   3.09   True   True  False  False  False  False\n1     1  DOCTOR DOXEY ZENZ   8.35   True   True  False  False  False  False\n5     1         TJACKO ZAZ  10.85   True  False  False  False  False  False\n8     1  HEADING REFERENCE   8.95   True  False  False  False  False   True\n10    2          ARABESQUE   7.63   True  False  False  False  False   True\n14    2        EKÅS FUTURE   7.61   True   True  False  False  False  False\n22    3         QUEER FISH   8.61   True  False  False  False  False   True\n27    3    ROSE RUN SYDNEY   7.96   True   True  False  False  False   True\n30    4       SPANG VIKTOR  11.73   True  False  False  False  False  False\n38    4   KRINGLERS VIKTOR  11.32   True  False  False  False  False   True\n44    5   ESTELLE NORDIQUE   5.80   True   True  False  False  False  False\n59    6            QUARCIA   3.46   True  False  False  False  False  False\n63    7            MERRITT   6.39   True   True  False  False  False   True",
      "text/html": "<div>\n<style scoped>\n    .dataframe tbody tr th:only-of-type {\n        vertical-align: middle;\n    }\n\n    .dataframe tbody tr th {\n        vertical-align: top;\n    }\n\n    .dataframe thead th {\n        text-align: right;\n    }\n</style>\n<table border=\"1\" class=\"dataframe\">\n  <thead>\n    <tr style=\"text-align: right;\">\n      <th></th>\n      <th>avd</th>\n      <th>häst</th>\n      <th>vodds</th>\n      <th>rf301</th>\n      <th>rf302</th>\n      <th>Cat1h</th>\n      <th>Cat2h</th>\n      <th>Cat2u</th>\n      <th>knn2</th>\n    </tr>\n  </thead>\n  <tbody>\n    <tr>\n      <td>0</td>\n      <td>1</td>\n      <td>GUILLAUME BOKO</td>\n      <td>3.09</td>\n      <td>True</td>\n      <td>True</td>\n      <td>False</td>\n      <td>False</td>\n      <td>False</td>\n      <td>False</td>\n    </tr>\n    <tr>\n      <td>1</td>\n      <td>1</td>\n      <td>DOCTOR DOXEY ZENZ</td>\n      <td>8.35</td>\n      <td>True</td>\n      <td>True</td>\n      <td>False</td>\n      <td>False</td>\n      <td>False</td>\n      <td>False</td>\n    </tr>\n    <tr>\n      <td>5</td>\n      <td>1</td>\n      <td>TJACKO ZAZ</td>\n      <td>10.85</td>\n      <td>True</td>\n      <td>False</td>\n      <td>False</td>\n      <td>False</td>\n      <td>False</td>\n      <td>False</td>\n    </tr>\n    <tr>\n      <td>8</td>\n      <td>1</td>\n      <td>HEADING REFERENCE</td>\n      <td>8.95</td>\n      <td>True</td>\n      <td>False</td>\n      <td>False</td>\n      <td>False</td>\n      <td>False</td>\n      <td>True</td>\n    </tr>\n    <tr>\n      <td>10</td>\n      <td>2</td>\n      <td>ARABESQUE</td>\n      <td>7.63</td>\n      <td>True</td>\n      <td>False</td>\n      <td>False</td>\n      <td>False</td>\n      <td>False</td>\n      <td>True</td>\n    </tr>\n    <tr>\n      <td>14</td>\n      <td>2</td>\n      <td>EKÅS FUTURE</td>\n      <td>7.61</td>\n      <td>True</td>\n      <td>True</td>\n      <td>False</td>\n      <td>False</td>\n      <td>False</td>\n      <td>False</td>\n    </tr>\n    <tr>\n      <td>22</td>\n      <td>3</td>\n      <td>QUEER FISH</td>\n      <td>8.61</td>\n      <td>True</td>\n      <td>False</td>\n      <td>False</td>\n      <td>False</td>\n      <td>False</td>\n      <td>True</td>\n    </tr>\n    <tr>\n      <td>27</td>\n      <td>3</td>\n      <td>ROSE RUN SYDNEY</td>\n      <td>7.96</td>\n      <td>True</td>\n      <td>True</td>\n      <td>False</td>\n      <td>False</td>\n      <td>False</td>\n      <td>True</td>\n    </tr>\n    <tr>\n      <td>30</td>\n      <td>4</td>\n      <td>SPANG VIKTOR</td>\n      <td>11.73</td>\n      <td>True</td>\n      <td>False</td>\n      <td>False</td>\n      <td>False</td>\n      <td>False</td>\n      <td>False</td>\n    </tr>\n    <tr>\n      <td>38</td>\n      <td>4</td>\n      <td>KRINGLERS VIKTOR</td>\n      <td>11.32</td>\n      <td>True</td>\n      <td>False</td>\n      <td>False</td>\n      <td>False</td>\n      <td>False</td>\n      <td>True</td>\n    </tr>\n    <tr>\n      <td>44</td>\n      <td>5</td>\n      <td>ESTELLE NORDIQUE</td>\n      <td>5.80</td>\n      <td>True</td>\n      <td>True</td>\n      <td>False</td>\n      <td>False</td>\n      <td>False</td>\n      <td>False</td>\n    </tr>\n    <tr>\n      <td>59</td>\n      <td>6</td>\n      <td>QUARCIA</td>\n      <td>3.46</td>\n      <td>True</td>\n      <td>False</td>\n      <td>False</td>\n      <td>False</td>\n      <td>False</td>\n      <td>False</td>\n    </tr>\n    <tr>\n      <td>63</td>\n      <td>7</td>\n      <td>MERRITT</td>\n      <td>6.39</td>\n      <td>True</td>\n      <td>True</td>\n      <td>False</td>\n      <td>False</td>\n      <td>False</td>\n      <td>True</td>\n    </tr>\n  </tbody>\n</table>\n</div>"
     },
     "metadata": {},
     "execution_count": 240
    }
   ],
   "source": [
    "\n",
    "res.loc[res.rf301 | res.rf302 | res.Cat1h | res.Cat2h | res.Cat2u,['avd','häst','vodds','rf301','rf302','Cat1h','Cat2h','Cat2u','knn2']].tail(24)"
   ]
  },
  {
   "cell_type": "code",
   "execution_count": 242,
   "metadata": {
    "tags": []
   },
   "outputs": [
    {
     "output_type": "execute_result",
     "data": {
      "text/plain": "         datum  avd             häst  dist  start  spår  vodds  podds  \\\n16  2020-07-25    2       CHAMP LANE  2140      1     8   1.92  1.345   \n21  2020-07-25    3        DREAMMOKO  1640      1     2   3.71  1.535   \n34  2020-07-25    4          RAPPNOR  2660      1     2  14.10  3.990   \n49  2020-07-25    5     CYRANO DE B.  3140      1    10  26.32  4.880   \n57  2020-07-25    6       ANTHARA BI  2160      1     1   3.06  1.570   \n69  2020-07-25    7  VAE VICTIS CLUB  1640      1    10   4.40  2.000   \n\n    h1_plac  h1_dist  ...  h4_plac  h4_dist  h4_spår  h4_odds  h5_plac  \\\n16        1     2140  ...        1     2140        8     1.49        2   \n21        5     2140  ...        2     1640        6     3.63        3   \n34       13     2180  ...        1     1640        1     4.47        1   \n49        3     2080  ...        5     2100        6    60.05        5   \n57        1     2140  ...        1     2160        2     2.09        1   \n69        2     3040  ...       14     1650        0     2.20        3   \n\n    h5_dist  h5_spår  h5_odds  bins  vann  \n16     1640        8     1.26     0  True  \n21     2140        6    11.00     3  True  \n34     2160        1     6.57    14  True  \n49     2640        6     7.00    20  True  \n57     2140        2     8.43     2  True  \n69     1650        0     2.40     4  True  \n\n[6 rows x 30 columns]",
      "text/html": "<div>\n<style scoped>\n    .dataframe tbody tr th:only-of-type {\n        vertical-align: middle;\n    }\n\n    .dataframe tbody tr th {\n        vertical-align: top;\n    }\n\n    .dataframe thead th {\n        text-align: right;\n    }\n</style>\n<table border=\"1\" class=\"dataframe\">\n  <thead>\n    <tr style=\"text-align: right;\">\n      <th></th>\n      <th>datum</th>\n      <th>avd</th>\n      <th>häst</th>\n      <th>dist</th>\n      <th>start</th>\n      <th>spår</th>\n      <th>vodds</th>\n      <th>podds</th>\n      <th>h1_plac</th>\n      <th>h1_dist</th>\n      <th>...</th>\n      <th>h4_plac</th>\n      <th>h4_dist</th>\n      <th>h4_spår</th>\n      <th>h4_odds</th>\n      <th>h5_plac</th>\n      <th>h5_dist</th>\n      <th>h5_spår</th>\n      <th>h5_odds</th>\n      <th>bins</th>\n      <th>vann</th>\n    </tr>\n  </thead>\n  <tbody>\n    <tr>\n      <td>16</td>\n      <td>2020-07-25</td>\n      <td>2</td>\n      <td>CHAMP LANE</td>\n      <td>2140</td>\n      <td>1</td>\n      <td>8</td>\n      <td>1.92</td>\n      <td>1.345</td>\n      <td>1</td>\n      <td>2140</td>\n      <td>...</td>\n      <td>1</td>\n      <td>2140</td>\n      <td>8</td>\n      <td>1.49</td>\n      <td>2</td>\n      <td>1640</td>\n      <td>8</td>\n      <td>1.26</td>\n      <td>0</td>\n      <td>True</td>\n    </tr>\n    <tr>\n      <td>21</td>\n      <td>2020-07-25</td>\n      <td>3</td>\n      <td>DREAMMOKO</td>\n      <td>1640</td>\n      <td>1</td>\n      <td>2</td>\n      <td>3.71</td>\n      <td>1.535</td>\n      <td>5</td>\n      <td>2140</td>\n      <td>...</td>\n      <td>2</td>\n      <td>1640</td>\n      <td>6</td>\n      <td>3.63</td>\n      <td>3</td>\n      <td>2140</td>\n      <td>6</td>\n      <td>11.00</td>\n      <td>3</td>\n      <td>True</td>\n    </tr>\n    <tr>\n      <td>34</td>\n      <td>2020-07-25</td>\n      <td>4</td>\n      <td>RAPPNOR</td>\n      <td>2660</td>\n      <td>1</td>\n      <td>2</td>\n      <td>14.10</td>\n      <td>3.990</td>\n      <td>13</td>\n      <td>2180</td>\n      <td>...</td>\n      <td>1</td>\n      <td>1640</td>\n      <td>1</td>\n      <td>4.47</td>\n      <td>1</td>\n      <td>2160</td>\n      <td>1</td>\n      <td>6.57</td>\n      <td>14</td>\n      <td>True</td>\n    </tr>\n    <tr>\n      <td>49</td>\n      <td>2020-07-25</td>\n      <td>5</td>\n      <td>CYRANO DE B.</td>\n      <td>3140</td>\n      <td>1</td>\n      <td>10</td>\n      <td>26.32</td>\n      <td>4.880</td>\n      <td>3</td>\n      <td>2080</td>\n      <td>...</td>\n      <td>5</td>\n      <td>2100</td>\n      <td>6</td>\n      <td>60.05</td>\n      <td>5</td>\n      <td>2640</td>\n      <td>6</td>\n      <td>7.00</td>\n      <td>20</td>\n      <td>True</td>\n    </tr>\n    <tr>\n      <td>57</td>\n      <td>2020-07-25</td>\n      <td>6</td>\n      <td>ANTHARA BI</td>\n      <td>2160</td>\n      <td>1</td>\n      <td>1</td>\n      <td>3.06</td>\n      <td>1.570</td>\n      <td>1</td>\n      <td>2140</td>\n      <td>...</td>\n      <td>1</td>\n      <td>2160</td>\n      <td>2</td>\n      <td>2.09</td>\n      <td>1</td>\n      <td>2140</td>\n      <td>2</td>\n      <td>8.43</td>\n      <td>2</td>\n      <td>True</td>\n    </tr>\n    <tr>\n      <td>69</td>\n      <td>2020-07-25</td>\n      <td>7</td>\n      <td>VAE VICTIS CLUB</td>\n      <td>1640</td>\n      <td>1</td>\n      <td>10</td>\n      <td>4.40</td>\n      <td>2.000</td>\n      <td>2</td>\n      <td>3040</td>\n      <td>...</td>\n      <td>14</td>\n      <td>1650</td>\n      <td>0</td>\n      <td>2.20</td>\n      <td>3</td>\n      <td>1650</td>\n      <td>0</td>\n      <td>2.40</td>\n      <td>4</td>\n      <td>True</td>\n    </tr>\n  </tbody>\n</table>\n<p>6 rows × 30 columns</p>\n</div>"
     },
     "metadata": {},
     "execution_count": 242
    }
   ],
   "source": [
    "\n",
    "df.loc[df.häst==\"RAJA RIBB\",['vann']]=True\n",
    "df.loc[df.häst==\"CHAMP LANE\",['vann']]=True\n",
    "df.loc[df.häst==\"DREAMMOKO\",['vann']]=True\n",
    "df.loc[df.häst==\"RAPPNOR\",['vann']]=True\n",
    "df.loc[df.häst==\"CYRANO DE B.\",['vann']]=True\n",
    "df.loc[df.häst==\"ANTHARA BI\",['vann']]=True\n",
    "df.loc[df.häst==\"VAE VICTIS CLUB\",['vann']]=True\n",
    "df.loc[df.vann,:]\n"
   ]
  },
  {
   "cell_type": "code",
   "execution_count": 211,
   "metadata": {},
   "outputs": [],
   "source": [
    "driver.quit()"
   ]
  },
  {
   "cell_type": "markdown",
   "metadata": {},
   "source": [
    "# Evaluauera alla modeller one-by-one med Kelly"
   ]
  },
  {
   "cell_type": "markdown",
   "metadata": {},
   "source": [
    "### Läs in alla nya OMGÅNGAR till df2"
   ]
  },
  {
   "cell_type": "code",
   "execution_count": 245,
   "metadata": {
    "tags": []
   },
   "outputs": [
    {
     "output_type": "stream",
     "name": "stdout",
     "text": "1 2020-04-25/V75/aby\n2 2020-05-02/V75/orebro\n3 2020-04-18/V75/umaker\n4 2020-05-09/V75/aby\n5 2020-05-16/V75/mantorp\n6 2020-05-23/V75/gavle\n7 2020-05-30/V75/solvalla\n8 2020-06-06/V75/ostersund\n9 2020-06-13/V75/boden\n10 2020-06-14/V75/bjerke\n11 2020-07-04/V75/halmstad\n12 2020-06-21/V75/kalmar\n13 2020-07-11/V75/arjang\n14 2020-07-19/V75/axevalla\n0 2020-07-25/V75/bollnas\n"
    },
    {
     "output_type": "execute_result",
     "data": {
      "text/plain": "      avd  bins       datum    dist  h1_dist  h1_odds  h1_plac  h1_spår  \\\n262     4    16  2020-05-09  2640.0     1640    29.36      6.0        4   \n17      2    21  2020-04-25  2640.0     1640     9.32      2.0        3   \n863     3    15  2020-06-21  2140.0     2160     7.37      1.0        4   \n193     4    26  2020-04-18  2640.0     2140     3.29      3.0        3   \n942     4    19  2020-07-11  2160.0     3180     4.01      1.0        5   \n1042    7    28  2020-07-19  2640.0     2640    50.31      2.0       10   \n782     2    14  2020-07-04  3140.0     2140     2.37      4.0        6   \n204     6    21  2020-04-18  2140.0     2140     2.89      1.0        7   \n479     2    22  2020-05-30  2140.0     2000     5.10      5.0        0   \n499     4    12  2020-05-30  2160.0     2140     3.64      6.0        3   \n\n      h2_dist  h2_odds  ...  h5_dist  h5_odds  h5_plac  h5_spår  \\\n262      1609    27.80  ...     2140     9.13      5.0        4   \n17       2140     2.72  ...     1600     1.70      1.0        3   \n863      2160    10.75  ...     1640     2.94      1.0        4   \n193      2140     4.33  ...     1640     2.25      1.0        3   \n942      1640    51.33  ...     2140    10.03     14.0        5   \n1042     1609    52.58  ...     2140    82.70      5.0       10   \n782      2640    12.18  ...     2140     1.40      1.0        4   \n204      2140    27.90  ...     2160     2.84      1.0        7   \n479      1640    14.18  ...     2140     1.68      1.0        0   \n499      2140     9.19  ...     2160     4.42      1.0        3   \n\n                    häst   podds  spår  start   vann  vodds  \n262         NOBLE SUPERB   3.615     6      1   True  17.70  \n17        VICTORY'S CLUB   6.745     6      0  False  30.97  \n863          SHARP DREAM   2.580     2      1  False  15.95  \n193           ANCHOR MAN   7.995    12      0  False  53.98  \n942             BELLFAKS   3.875     4      1  False  24.35  \n1042            SIDESLIP  14.055    11      0  False  73.27  \n782         TWIGS GOT U.   3.735     2      0  False  14.53  \n204   SHOWTIMEJACKFLOWER   5.465     3      0  False  30.52  \n479             FRODO S.   5.390     9      0  False  32.82  \n499    WAITING HILL HALL   3.560     1      0  False  11.69  \n\n[10 rows x 30 columns]",
      "text/html": "<div>\n<style scoped>\n    .dataframe tbody tr th:only-of-type {\n        vertical-align: middle;\n    }\n\n    .dataframe tbody tr th {\n        vertical-align: top;\n    }\n\n    .dataframe thead th {\n        text-align: right;\n    }\n</style>\n<table border=\"1\" class=\"dataframe\">\n  <thead>\n    <tr style=\"text-align: right;\">\n      <th></th>\n      <th>avd</th>\n      <th>bins</th>\n      <th>datum</th>\n      <th>dist</th>\n      <th>h1_dist</th>\n      <th>h1_odds</th>\n      <th>h1_plac</th>\n      <th>h1_spår</th>\n      <th>h2_dist</th>\n      <th>h2_odds</th>\n      <th>...</th>\n      <th>h5_dist</th>\n      <th>h5_odds</th>\n      <th>h5_plac</th>\n      <th>h5_spår</th>\n      <th>häst</th>\n      <th>podds</th>\n      <th>spår</th>\n      <th>start</th>\n      <th>vann</th>\n      <th>vodds</th>\n    </tr>\n  </thead>\n  <tbody>\n    <tr>\n      <td>262</td>\n      <td>4</td>\n      <td>16</td>\n      <td>2020-05-09</td>\n      <td>2640.0</td>\n      <td>1640</td>\n      <td>29.36</td>\n      <td>6.0</td>\n      <td>4</td>\n      <td>1609</td>\n      <td>27.80</td>\n      <td>...</td>\n      <td>2140</td>\n      <td>9.13</td>\n      <td>5.0</td>\n      <td>4</td>\n      <td>NOBLE SUPERB</td>\n      <td>3.615</td>\n      <td>6</td>\n      <td>1</td>\n      <td>True</td>\n      <td>17.70</td>\n    </tr>\n    <tr>\n      <td>17</td>\n      <td>2</td>\n      <td>21</td>\n      <td>2020-04-25</td>\n      <td>2640.0</td>\n      <td>1640</td>\n      <td>9.32</td>\n      <td>2.0</td>\n      <td>3</td>\n      <td>2140</td>\n      <td>2.72</td>\n      <td>...</td>\n      <td>1600</td>\n      <td>1.70</td>\n      <td>1.0</td>\n      <td>3</td>\n      <td>VICTORY'S CLUB</td>\n      <td>6.745</td>\n      <td>6</td>\n      <td>0</td>\n      <td>False</td>\n      <td>30.97</td>\n    </tr>\n    <tr>\n      <td>863</td>\n      <td>3</td>\n      <td>15</td>\n      <td>2020-06-21</td>\n      <td>2140.0</td>\n      <td>2160</td>\n      <td>7.37</td>\n      <td>1.0</td>\n      <td>4</td>\n      <td>2160</td>\n      <td>10.75</td>\n      <td>...</td>\n      <td>1640</td>\n      <td>2.94</td>\n      <td>1.0</td>\n      <td>4</td>\n      <td>SHARP DREAM</td>\n      <td>2.580</td>\n      <td>2</td>\n      <td>1</td>\n      <td>False</td>\n      <td>15.95</td>\n    </tr>\n    <tr>\n      <td>193</td>\n      <td>4</td>\n      <td>26</td>\n      <td>2020-04-18</td>\n      <td>2640.0</td>\n      <td>2140</td>\n      <td>3.29</td>\n      <td>3.0</td>\n      <td>3</td>\n      <td>2140</td>\n      <td>4.33</td>\n      <td>...</td>\n      <td>1640</td>\n      <td>2.25</td>\n      <td>1.0</td>\n      <td>3</td>\n      <td>ANCHOR MAN</td>\n      <td>7.995</td>\n      <td>12</td>\n      <td>0</td>\n      <td>False</td>\n      <td>53.98</td>\n    </tr>\n    <tr>\n      <td>942</td>\n      <td>4</td>\n      <td>19</td>\n      <td>2020-07-11</td>\n      <td>2160.0</td>\n      <td>3180</td>\n      <td>4.01</td>\n      <td>1.0</td>\n      <td>5</td>\n      <td>1640</td>\n      <td>51.33</td>\n      <td>...</td>\n      <td>2140</td>\n      <td>10.03</td>\n      <td>14.0</td>\n      <td>5</td>\n      <td>BELLFAKS</td>\n      <td>3.875</td>\n      <td>4</td>\n      <td>1</td>\n      <td>False</td>\n      <td>24.35</td>\n    </tr>\n    <tr>\n      <td>1042</td>\n      <td>7</td>\n      <td>28</td>\n      <td>2020-07-19</td>\n      <td>2640.0</td>\n      <td>2640</td>\n      <td>50.31</td>\n      <td>2.0</td>\n      <td>10</td>\n      <td>1609</td>\n      <td>52.58</td>\n      <td>...</td>\n      <td>2140</td>\n      <td>82.70</td>\n      <td>5.0</td>\n      <td>10</td>\n      <td>SIDESLIP</td>\n      <td>14.055</td>\n      <td>11</td>\n      <td>0</td>\n      <td>False</td>\n      <td>73.27</td>\n    </tr>\n    <tr>\n      <td>782</td>\n      <td>2</td>\n      <td>14</td>\n      <td>2020-07-04</td>\n      <td>3140.0</td>\n      <td>2140</td>\n      <td>2.37</td>\n      <td>4.0</td>\n      <td>6</td>\n      <td>2640</td>\n      <td>12.18</td>\n      <td>...</td>\n      <td>2140</td>\n      <td>1.40</td>\n      <td>1.0</td>\n      <td>4</td>\n      <td>TWIGS GOT U.</td>\n      <td>3.735</td>\n      <td>2</td>\n      <td>0</td>\n      <td>False</td>\n      <td>14.53</td>\n    </tr>\n    <tr>\n      <td>204</td>\n      <td>6</td>\n      <td>21</td>\n      <td>2020-04-18</td>\n      <td>2140.0</td>\n      <td>2140</td>\n      <td>2.89</td>\n      <td>1.0</td>\n      <td>7</td>\n      <td>2140</td>\n      <td>27.90</td>\n      <td>...</td>\n      <td>2160</td>\n      <td>2.84</td>\n      <td>1.0</td>\n      <td>7</td>\n      <td>SHOWTIMEJACKFLOWER</td>\n      <td>5.465</td>\n      <td>3</td>\n      <td>0</td>\n      <td>False</td>\n      <td>30.52</td>\n    </tr>\n    <tr>\n      <td>479</td>\n      <td>2</td>\n      <td>22</td>\n      <td>2020-05-30</td>\n      <td>2140.0</td>\n      <td>2000</td>\n      <td>5.10</td>\n      <td>5.0</td>\n      <td>0</td>\n      <td>1640</td>\n      <td>14.18</td>\n      <td>...</td>\n      <td>2140</td>\n      <td>1.68</td>\n      <td>1.0</td>\n      <td>0</td>\n      <td>FRODO S.</td>\n      <td>5.390</td>\n      <td>9</td>\n      <td>0</td>\n      <td>False</td>\n      <td>32.82</td>\n    </tr>\n    <tr>\n      <td>499</td>\n      <td>4</td>\n      <td>12</td>\n      <td>2020-05-30</td>\n      <td>2160.0</td>\n      <td>2140</td>\n      <td>3.64</td>\n      <td>6.0</td>\n      <td>3</td>\n      <td>2140</td>\n      <td>9.19</td>\n      <td>...</td>\n      <td>2160</td>\n      <td>4.42</td>\n      <td>1.0</td>\n      <td>3</td>\n      <td>WAITING HILL HALL</td>\n      <td>3.560</td>\n      <td>1</td>\n      <td>0</td>\n      <td>False</td>\n      <td>11.69</td>\n    </tr>\n  </tbody>\n</table>\n<p>10 rows × 30 columns</p>\n</div>"
     },
     "metadata": {},
     "execution_count": 245
    }
   ],
   "source": [
    "avd=[1,2,3,4,5,6,7]\n",
    "path='C:\\\\Users/peter/Documents/MyProjects/PyProj/Trav/'\n",
    "stravd = ''.join(str(x) for x in avd)\n",
    "\n",
    "df2=pd.DataFrame()\n",
    "for key,omg in OMGÅNGAR.items():\n",
    "    # if key==0:\n",
    "    #     continue\n",
    "    print(key,omg)\n",
    "    omg_sav = omg.replace('/V75/','-')\n",
    "    filnamn=path+omg_sav+stravd+'test.csv'\n",
    "    tmp = pd.read_csv(filnamn)\n",
    "    df2 = pd.concat([df2,tmp])\n",
    "\n",
    "#df2.drop(['datum','avd'],axis=1,inplace=True)    \n",
    "df2.reset_index(inplace=True,drop=True)\n",
    "df2.sample(10)\n"
   ]
  },
  {
   "cell_type": "markdown",
   "metadata": {},
   "source": [
    "### för varje modell - räkna ut vinst på df2 (med limits satta ovan)"
   ]
  },
  {
   "cell_type": "code",
   "execution_count": 246,
   "metadata": {
    "tags": []
   },
   "outputs": [
    {
     "output_type": "stream",
     "name": "stdout",
     "text": "(1115, 29)\nCat1h_förv\nmax -1 med insats = 1 för thresh = 27\nCat2h_förv\nmax -1 med insats = 1 för thresh = 27\nCat2u_förv\nmax -1 med insats = 1 för thresh = 27\nrf301_förv\nmax -1 med insats = 1 för thresh = 27\nrf302_förv\nmax -1 med insats = 1 för thresh = 27\nknn2_förv\nmax 6.210000000000001 med insats = 11 för thresh = 27\n"
    }
   ],
   "source": [
    "\n",
    "mod = df2[['datum','avd','häst','vann','vodds']]\n",
    "#mod = df2.loc[df2.datum==OMGÅNGAR[1].split('/V75')[0],['datum','avd','häst','vann','vodds']]\n",
    "for i,m in MODELS.items():\n",
    "    MODELS[i]['res'] = MODELS[i]['model'].result(df.drop('vann',axis=1),i)   \n",
    "    mod = pd.concat([mod,MODELS[i]['res']], axis=1, sort=False)\n",
    "\n",
    "df4=mod.copy()\n",
    "print(df4.shape)\n",
    "mod_res=['Cat1h_förv','Cat2h_förv','Cat2u_förv','rf301_förv','rf302_förv','knn2_förv']\n",
    "\n",
    "for res in mod_res:\n",
    "    print(res)\n",
    "    df4[res] = df4[res] / df4.vodds\n",
    "\n",
    "    df4['kelly'] = ((df4.vodds-1) * df4[res] - (1-df4[res])) / (df4.vodds-1) * 100\n",
    "    \n",
    "    max=-9999\n",
    "    the_insats = 0\n",
    "    the_thresh=2000\n",
    "    #print(df4.kelly.describe())\n",
    "    for thresh in range(0,3000):\n",
    "        utdelning = sum(df4[(df4.vann==1)&(df4.kelly>=thresh)].vodds)\n",
    "        insats = sum(df4.kelly>thresh)\n",
    "        if insats == 0:\n",
    "            break\n",
    "    \n",
    "        if utdelning-insats > max:\n",
    "            max = utdelning-insats \n",
    "            the_thresh = thresh\n",
    "            the_insats = insats\n",
    "        # if utdelning-insats >0:\n",
    "        #     print('vinst =',utdelning-insats, 'om thresh = ',thresh )\n",
    "\n",
    "    \n",
    "    print('max',max,'med insats =',the_insats,'för thresh =',theThresh)\n",
    "    # print(df4.kelly.describe())"
   ]
  },
  {
   "cell_type": "code",
   "execution_count": 247,
   "metadata": {
    "tags": []
   },
   "outputs": [
    {
     "output_type": "stream",
     "name": "stdout",
     "text": "utd vid thresh 27 7.5\ninsats 7\nvinst 0.5\n"
    }
   ],
   "source": [
    "df4=mod.copy()\n",
    "res = 'knn2_förv'\n",
    "df4[res] = df4[res] / df4.vodds\n",
    "\n",
    "df4['kelly'] = ((df4.vodds-1) * df4[res] - (1-df4[res])) / (df4.vodds-1) * 100\n",
    "max=-9999\n",
    "#print(df4.kelly.describe())\n",
    "thresh=27\n",
    "utdelning = sum(df4[(df4.vann==1)&(df4.kelly>=thresh)].vodds)\n",
    "print('utd vid thresh',thresh,utdelning)\n",
    "insats = sum(df4.kelly>thresh)\n",
    "print('insats',insats)\n",
    "print('vinst',utdelning-insats )"
   ]
  },
  {
   "cell_type": "code",
   "execution_count": null,
   "metadata": {},
   "outputs": [],
   "source": []
  }
 ],
 "metadata": {
  "kernelspec": {
   "display_name": "Python 3.7.4 64-bit ('base': conda)",
   "language": "python",
   "name": "python37464bitbaseconda28516eb7b1ad4f7498fc5db163b41db8"
  },
  "language_info": {
   "codemirror_mode": {
    "name": "ipython",
    "version": 3
   },
   "file_extension": ".py",
   "mimetype": "text/x-python",
   "name": "python",
   "nbconvert_exporter": "python",
   "pygments_lexer": "ipython3",
   "version": "3.7.4-final"
  }
 },
 "nbformat": 4,
 "nbformat_minor": 2
}