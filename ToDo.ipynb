{
 "cells": [
  {
   "attachments": {},
   "cell_type": "markdown",
   "metadata": {},
   "source": [
    "# Några punkter att göra för Catb_o_XGB\n"
   ]
  },
  {
   "attachments": {},
   "cell_type": "markdown",
   "metadata": {},
   "source": [
    "TODO: Följer här\n",
    "1. Börja med Learn.py  \n",
    "  - [] Kolla om encoding är mer logiskt att göra enbart i typ.py och inte i travdata.py\n",
    "---\n",
    "  - [] Inför två streamlit-val att köra learn.py antingen med TimeSeriesSplit eller Train_Test_Split\n",
    "  - [x] Rätta allt i v75_scraping.py efterssom ATG.se ändrats så mycket\n",
    "  - [] Kolla vilka funktioner som kan tas bort från typ.py\n",
    "    - [] Rensa bort allt som inte behövs  \n",
    "\n",
    "  - [] Testa allt och commit tills det funkar"
   ]
  },
  {
   "attachments": {},
   "cell_type": "markdown",
   "metadata": {},
   "source": [
    "\n",
    "2. Därefter v75.py  \n",
    "   - [ ] I princip samma ändringar som learn.py  \n",
    "---"
   ]
  },
  {
   "attachments": {},
   "cell_type": "markdown",
   "metadata": {},
   "source": [
    "\n",
    "3. Därefter Hyperparms.py      \n",
    "  - [x] Lägg till kod för XGB  \n",
    "  - [x] Testa och commit tills det funkar  \n",
    "    Hyperparms för XGB:   \n",
    "        1. **learning_rate**: Detta är en viktig hyperparameter för att kontrollera modellens läringstakt. En låg learning rate kan resultera i långsammare lärande men bättre precision, medan en högre learning rate kan resultera i snabbare lärande men sämre precision.  \n",
    "        2. **max_depth**: Detta är en hyperparameter som kontrollerar djupet på trädet i modellen. En låg max_depth kan resultera i en enklare modell med mindre överanpassning, medan en högre max_depth kan resultera i en komplexare modell med bättre prestanda på träningsdata men risk för överanpassning.  \n",
    "        3. **subsample**: Detta är en hyperparameter som kontrollerar hur mycket av träningsdata som används vid varje iteration. En låg subsample kan resultera i långsammare lärande men bättre generalisering, medan en högre subsample kan resultera i snabbare lärande men sämre generalisering.  \n",
    "        4. **colsample_bytree**: Detta är en hyperparameter som kontrollerar hur många kolumner i träningsdata som används vid varje iteration. En låg colsample_bytree kan resultera i en enklare modell med mindre överanpassning, medan en högre colsample_bytree kan resultera i en komplexare modell med bättre prestanda på träningsdata men risk för överanpassning.  \n",
    "\n",
    "\n",
    "  - [x] Se över koden för Catb  \n",
    "    Hyperparms för Catb  \n",
    "        1. **learning_rate**: Detta är en viktig hyperparameter för att kontrollera modellens läringstakt. En låg learning rate kan resultera i långsammare lärande men bättre precision, medan en högre learning rate kan resultera i snabbare lärande men sämre precision.  \n",
    "        2. **depth**: Detta är en hyperparameter som kontrollerar djupet på trädet i modellen. En låg depth kan resultera i en enklare modell med mindre överanpassning, medan en högre depth kan resultera i en komplexare modell med bättre prestanda på träningsdata men risk för överanpassning.  \n",
    "        3. **l2_leaf_reg**: Detta är en hyperparameter som kontrollerar graden av reglering i modellen. En högre l2_leaf_reg kan resultera i en enklare modell med mindre överanpassning, medan en låg l2_leaf_reg kan resultera i en komplexare modell med bättre prestanda på träningsdata men risk för överanpassning.  \n",
    "        4. **bagging_temperature**: Detta är en hyperparameter som kontrollerar hur mycket slumpmässighet som införs vid bagging (bootstrapping). En låg bagging_temperature kan resultera i en mer deterministisk modell med mindre överanpassning, medan en högre bagging_temperature kan resultera i en mer slumpmässig modell med bättre prestanda på träningsdata men risk för överanpassning.  \n",
    "    - [x] Testa allt och commit tills det funkar  \n",
    "\n",
    "---"
   ]
  },
  {
   "cell_type": "markdown",
   "metadata": {},
   "source": [
    "\n",
    "4. Slutligen bygg om Backtest.py\n",
    "\n",
    "___\n"
   ]
  }
 ],
 "metadata": {
  "kernelspec": {
   "display_name": "base",
   "language": "python",
   "name": "python3"
  },
  "language_info": {
   "codemirror_mode": {
    "name": "ipython",
    "version": 3
   },
   "file_extension": ".py",
   "mimetype": "text/x-python",
   "name": "python",
   "nbconvert_exporter": "python",
   "pygments_lexer": "ipython3",
   "version": "3.9.13 | packaged by conda-forge | (main, May 27 2022, 16:50:36) [MSC v.1929 64 bit (AMD64)]"
  },
  "orig_nbformat": 4,
  "vscode": {
   "interpreter": {
    "hash": "3d733caf4ffc39d0fbd9a2ba54ef4b7d515956d8048931f8241efe3827fb2d1f"
   }
  }
 },
 "nbformat": 4,
 "nbformat_minor": 2
}
