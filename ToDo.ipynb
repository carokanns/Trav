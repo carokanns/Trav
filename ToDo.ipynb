{
 "cells": [
  {
   "attachments": {},
   "cell_type": "markdown",
   "metadata": {},
   "source": [
    "# Några punkter att göra för Catb_o_XGB\n"
   ]
  },
  {
   "attachments": {},
   "cell_type": "markdown",
   "metadata": {},
   "source": [
    "\n",
    "1. Börja med Learn.py  \n",
    "  - [x] Hur skall vi göra allt detta stegvis? - Kanske learn Layer 1 först och testa och sedan skapa stack_data+testa och sedan Layer2?\n",
    "  - [x] Se till att typ.py ersätts av typ_copy.py\n",
    "    - [ ] Den skall klara av att hantera Catb och XGB\n",
    "    - [ ] CatB är klar - gör en liknande för XGB\n",
    "  - [x] Learn.py skall ha en tabell med alla parametrar för Catb och XGB  \n",
    "    - [x] Den är grunden till att skapa class i typ.py\n",
    "    - [ ] Den används längre fram i koden för att förbereda och köra fit både för layer 1 och 2\n",
    "\n",
    "---\n",
    "  - [ ] Bygg Learn Layer1    \n",
    "  - [ ] git commit \n",
    "  - [ ] Testa och commit tills det funkar\n",
    "  - [ ] Skapa stack_data med modellerna i layer 1 - stack data innehåller allt plus alla predict_proba för layer 1\n",
    "  - [ ] git commit\n",
    "  - [ ] Testa och commit tills det funkar\n",
    "  - [ ] Layer 2 läser använder samma modeller men de är tränade på stack_data (predict_proba är skillnaden)\n",
    "  - [ ] Inför två streamlit-val att köra learn.py antingen med TimeSeriesSplit och Train_Test_Split\n",
    "  - [ ] git commit\n",
    "  - [ ] Bygg Layer2 och git commit\n",
    "  - [ ] Testa och commit tills det funkar\n",
    "  \n",
    "  - [ ] Spara undan modellerna och kolumnerna under modeller/CatB.model och modeller/CatB.columns - gör samma för XGB  \n",
    "  \n",
    "  - [ ] Kolla vilka funktioner som kan tas bort från typ.py\n",
    "  - [ ] Vilka funktioner kan vi ta bort? - Rensa bort allt som inte behövs  \n",
    "\n",
    "  - [ ] Testa allt och commit tills det funkar\n",
    "\n",
    "---"
   ]
  },
  {
   "attachments": {},
   "cell_type": "markdown",
   "metadata": {},
   "source": [
    "\n",
    "2. Därefter v75.py  \n",
    "   - [ ] I princip samma ändringar som learn.py  \n",
    "---"
   ]
  },
  {
   "attachments": {},
   "cell_type": "markdown",
   "metadata": {},
   "source": [
    "\n",
    "3. Därefter Hyperparms.py      \n",
    "  - [ ] Lägg till kod för XGB  \n",
    "  - [ ] Testa och commit tills det funkar  \n",
    "    Hyperparms för XGB:   \n",
    "        1. **learning_rate**: Detta är en viktig hyperparameter för att kontrollera modellens läringstakt. En låg learning rate kan resultera i långsammare lärande men bättre precision, medan en högre learning rate kan resultera i snabbare lärande men sämre precision.  \n",
    "        2. **max_depth**: Detta är en hyperparameter som kontrollerar djupet på trädet i modellen. En låg max_depth kan resultera i en enklare modell med mindre överanpassning, medan en högre max_depth kan resultera i en komplexare modell med bättre prestanda på träningsdata men risk för överanpassning.  \n",
    "        3. **subsample**: Detta är en hyperparameter som kontrollerar hur mycket av träningsdata som används vid varje iteration. En låg subsample kan resultera i långsammare lärande men bättre generalisering, medan en högre subsample kan resultera i snabbare lärande men sämre generalisering.  \n",
    "        4. **colsample_bytree**: Detta är en hyperparameter som kontrollerar hur många kolumner i träningsdata som används vid varje iteration. En låg colsample_bytree kan resultera i en enklare modell med mindre överanpassning, medan en högre colsample_bytree kan resultera i en komplexare modell med bättre prestanda på träningsdata men risk för överanpassning.  \n",
    "\n",
    "\n",
    "  - [ ] Se över koden för Catb  \n",
    "    Hyperparms för Catb  \n",
    "        5. **learning_rate**: Detta är en viktig hyperparameter för att kontrollera modellens läringstakt. En låg learning rate kan resultera i långsammare lärande men bättre precision, medan en högre learning rate kan resultera i snabbare lärande men sämre precision.  \n",
    "        6. **depth**: Detta är en hyperparameter som kontrollerar djupet på trädet i modellen. En låg depth kan resultera i en enklare modell med mindre överanpassning, medan en högre depth kan resultera i en komplexare modell med bättre prestanda på träningsdata men risk för överanpassning.  \n",
    "        7. **l2_leaf_reg**: Detta är en hyperparameter som kontrollerar graden av reglering i modellen. En högre l2_leaf_reg kan resultera i en enklare modell med mindre överanpassning, medan en låg l2_leaf_reg kan resultera i en komplexare modell med bättre prestanda på träningsdata men risk för överanpassning.  \n",
    "        8. **bagging_temperature**: Detta är en hyperparameter som kontrollerar hur mycket slumpmässighet som införs vid bagging (bootstrapping). En låg bagging_temperature kan resultera i en mer deterministisk modell med mindre överanpassning, medan en högre bagging_temperature kan resultera i en mer slumpmässig modell med bättre prestanda på träningsdata men risk för överanpassning.  \n",
    "    - [ ] Testa allt och commit tills det funkar  \n",
    "\n",
    "---"
   ]
  },
  {
   "cell_type": "markdown",
   "metadata": {},
   "source": [
    "\n",
    "4. Slutligen bygg om Backtest.py\n",
    "\n",
    "___\n"
   ]
  }
 ],
 "metadata": {
  "kernelspec": {
   "display_name": "base",
   "language": "python",
   "name": "python3"
  },
  "language_info": {
   "codemirror_mode": {
    "name": "ipython",
    "version": 3
   },
   "file_extension": ".py",
   "mimetype": "text/x-python",
   "name": "python",
   "nbconvert_exporter": "python",
   "pygments_lexer": "ipython3",
   "version": "3.9.13 | packaged by conda-forge | (main, May 27 2022, 16:50:36) [MSC v.1929 64 bit (AMD64)]"
  },
  "orig_nbformat": 4,
  "vscode": {
   "interpreter": {
    "hash": "3d733caf4ffc39d0fbd9a2ba54ef4b7d515956d8048931f8241efe3827fb2d1f"
   }
  }
 },
 "nbformat": 4,
 "nbformat_minor": 2
}
